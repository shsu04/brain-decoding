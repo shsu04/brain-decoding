{
 "cells": [
  {
   "cell_type": "code",
   "execution_count": 1,
   "metadata": {},
   "outputs": [
    {
     "name": "stdout",
     "output_type": "stream",
     "text": [
      "Loading Gwilliams2023 with batch type audio\n",
      "Data partitioned on studies ['gwilliams2023'].\n",
      "Train: 135, Unseen Task: 12, Unseen Subject: 45, Unseen Both: 4.\n",
      "\n",
      "Conditional layer study initialized with 2 conditions\n",
      "Conditional layer subject initialized with 28 conditions\n",
      "RNNEncoder initialized as transformer with 4 layers, 384 d_model, 8 nhead\n",
      "\tEmbedding: groupconv, params: 7099776\n",
      "SimpleConv initialized with 16986880 parameters, cond: ['study', 'subject']\n",
      "Merger True, merger channels 256\n",
      "ConvBlocks: 6, hidden_dim: 384, params 8858496\n"
     ]
    },
    {
     "name": "stderr",
     "output_type": "stream",
     "text": [
      "2025-01-26 16:05:25,069\tINFO worker.py:1841 -- Started a local Ray instance.\n",
      "Training Epoch 1:   0%|          | 0/135 [00:00<?, ?it/s]"
     ]
    },
    {
     "name": "stdout",
     "output_type": "stream",
     "text": [
      "1. scores: torch.Size([256, 256, 208]), max: 4.875, min: -4.21875\n",
      "2. scores: torch.Size([256, 256, 208]), max: 4.84375, min: -inf\n",
      "1. scores: torch.Size([170, 256, 208]), max: 4.8125, min: -4.125\n",
      "2. scores: torch.Size([170, 256, 208]), max: 4.8125, min: -inf\n"
     ]
    },
    {
     "name": "stderr",
     "output_type": "stream",
     "text": [
      "Training Epoch 1:   1%|          | 1/135 [00:43<1:38:15, 43.99s/it]"
     ]
    },
    {
     "name": "stdout",
     "output_type": "stream",
     "text": [
      "1. scores: torch.Size([256, 256, 208]), max: 4.875, min: -4.125\n",
      "2. scores: torch.Size([256, 256, 208]), max: 4.875, min: -inf\n",
      "1. scores: torch.Size([170, 256, 208]), max: 4.75, min: -4.34375\n",
      "2. scores: torch.Size([170, 256, 208]), max: 4.75, min: -inf\n"
     ]
    },
    {
     "name": "stderr",
     "output_type": "stream",
     "text": [
      "Training Epoch 1:   1%|▏         | 2/135 [00:46<43:04, 19.43s/it]  "
     ]
    },
    {
     "name": "stdout",
     "output_type": "stream",
     "text": [
      "1. scores: torch.Size([256, 256, 208]), max: 4.71875, min: -4.375\n",
      "2. scores: torch.Size([256, 256, 208]), max: 4.71875, min: -inf\n",
      "1. scores: torch.Size([170, 256, 208]), max: 4.71875, min: -4.4375\n",
      "2. scores: torch.Size([170, 256, 208]), max: 4.71875, min: -inf\n"
     ]
    },
    {
     "name": "stderr",
     "output_type": "stream",
     "text": [
      "Training Epoch 1:   2%|▏         | 3/135 [00:48<25:25, 11.55s/it]"
     ]
    },
    {
     "name": "stdout",
     "output_type": "stream",
     "text": [
      "1. scores: torch.Size([256, 256, 208]), max: 4.6875, min: -4.625\n",
      "2. scores: torch.Size([256, 256, 208]), max: 4.6875, min: -inf\n",
      "1. scores: torch.Size([170, 256, 208]), max: 4.71875, min: -4.75\n",
      "2. scores: torch.Size([170, 256, 208]), max: 4.71875, min: -inf\n"
     ]
    },
    {
     "name": "stderr",
     "output_type": "stream",
     "text": [
      "Training Epoch 1:   3%|▎         | 4/135 [00:50<16:50,  7.71s/it]"
     ]
    },
    {
     "name": "stdout",
     "output_type": "stream",
     "text": [
      "1. scores: torch.Size([256, 256, 208]), max: 4.75, min: -4.90625\n",
      "2. scores: torch.Size([256, 256, 208]), max: 4.75, min: -inf\n",
      "1. scores: torch.Size([170, 256, 208]), max: 4.78125, min: -5.0625\n",
      "2. scores: torch.Size([170, 256, 208]), max: 4.78125, min: -inf\n"
     ]
    },
    {
     "name": "stderr",
     "output_type": "stream",
     "text": [
      "Training Epoch 1:   4%|▎         | 5/135 [00:52<12:46,  5.90s/it]"
     ]
    },
    {
     "name": "stdout",
     "output_type": "stream",
     "text": [
      "1. scores: torch.Size([256, 256, 208]), max: 4.78125, min: -5.1875\n",
      "2. scores: torch.Size([256, 256, 208]), max: 4.78125, min: -inf\n",
      "1. scores: torch.Size([256, 256, 208]), max: 4.8125, min: -5.28125\n",
      "2. scores: torch.Size([256, 256, 208]), max: 4.8125, min: -inf\n",
      "1. scores: torch.Size([226, 256, 208]), max: 4.8125, min: -5.375\n",
      "2. scores: torch.Size([226, 256, 208]), max: 4.8125, min: -inf\n"
     ]
    },
    {
     "name": "stderr",
     "output_type": "stream",
     "text": [
      "Training Epoch 1:   4%|▍         | 6/135 [00:55<10:26,  4.86s/it]"
     ]
    },
    {
     "name": "stdout",
     "output_type": "stream",
     "text": [
      "1. scores: torch.Size([256, 256, 208]), max: 4.84375, min: -5.46875\n",
      "2. scores: torch.Size([256, 256, 208]), max: 4.84375, min: -inf\n",
      "1. scores: torch.Size([170, 256, 208]), max: 4.84375, min: -5.5625\n",
      "2. scores: torch.Size([170, 256, 208]), max: 4.84375, min: -inf\n"
     ]
    },
    {
     "name": "stderr",
     "output_type": "stream",
     "text": [
      "Training Epoch 1:   5%|▌         | 7/135 [00:58<08:41,  4.07s/it]"
     ]
    },
    {
     "name": "stdout",
     "output_type": "stream",
     "text": [
      "1. scores: torch.Size([256, 256, 208]), max: 4.875, min: -5.625\n",
      "2. scores: torch.Size([256, 256, 208]), max: 4.875, min: -inf\n",
      "1. scores: torch.Size([256, 256, 208]), max: 4.90625, min: -5.6875\n",
      "2. scores: torch.Size([256, 256, 208]), max: 4.90625, min: -inf\n"
     ]
    },
    {
     "name": "stderr",
     "output_type": "stream",
     "text": [
      "Training Epoch 1:   5%|▌         | 7/135 [01:00<18:28,  8.66s/it]"
     ]
    },
    {
     "name": "stdout",
     "output_type": "stream",
     "text": [
      "Exited\n"
     ]
    },
    {
     "name": "stderr",
     "output_type": "stream",
     "text": [
      "\n"
     ]
    }
   ],
   "source": [
    "# del session.logger\n",
    "# del session\n",
    "\n",
    "import multiprocessing\n",
    "\n",
    "\n",
    "from train.training_session_v0 import TrainingSessionV0\n",
    "from config import TrainingConfigV0\n",
    "from config import SimpleConvConfig\n",
    "\n",
    "data_partition = {\n",
    "    \"gwilliams2023\": {\n",
    "        \"testing_subjects\": [19, 20, 21],\n",
    "        \"testing_tasks\": [0],\n",
    "    },\n",
    "    # \"armeini2022\": {\n",
    "    #     \"testing_subjects\": [],\n",
    "    #     \"testing_tasks\": [8, 9],\n",
    "    # },\n",
    "}\n",
    "\n",
    "# model_config = SimpleConvConfig(\n",
    "#     # Str to list of possible conditions\n",
    "#     mel_normalization=False,\n",
    "#     conditions={\n",
    "#         \"study\": [],\n",
    "#         \"subject\": [],\n",
    "#     },\n",
    "#     # Channels\n",
    "#     in_channels=208,\n",
    "#     out_channels=128,\n",
    "#     hidden_dim=384,\n",
    "#     dropout=0.2,\n",
    "#     initial_batch_norm=True,\n",
    "#     # Sensor layout settings\n",
    "#     layout_dim=2,\n",
    "#     layout_proj=True,\n",
    "#     layout_scaling=\"minmax\",\n",
    "#     # Merger with spatial attn\n",
    "#     merger=False,\n",
    "#     merger_emb_type=None,\n",
    "#     merger_emb_dim=0,\n",
    "#     merger_channels=0,\n",
    "#     merger_dropout=False,\n",
    "#     merger_conditional=None,\n",
    "#     # Inital\n",
    "#     initial_linear=384,\n",
    "#     initial_depth=1,\n",
    "#     # Conditional layers\n",
    "#     conditional_layers=False,\n",
    "#     conditional_layers_dim=None,  # input or hidden_dim\n",
    "#     # Conv layer overall structure\n",
    "#     depth=6,\n",
    "#     kernel_size=3,\n",
    "#     growth=1.0,\n",
    "#     dilation_growth=2,\n",
    "#     dilation_period=5,\n",
    "#     glu=1,\n",
    "#     conv_dropout=0.2,\n",
    "#     dropout_input=0.2,\n",
    "#     batch_norm=True,\n",
    "#     half=True,\n",
    "#     cnn_pos_encoding=False,\n",
    "#     # Quantizer\n",
    "#     quantizer=False,\n",
    "#     num_codebooks=0,\n",
    "#     codebook_size=0,\n",
    "#     quantizer_commitment=0,\n",
    "#     quantizer_temp_init=0,\n",
    "#     quantizer_temp_min=0,\n",
    "#     quantizer_temp_decay=0,\n",
    "#     # Transformers Encoders\n",
    "#     transformer_input=None,\n",
    "#     transformer_encoder_emb=None,\n",
    "#     transformer_encoder_layers=0,\n",
    "#     transformer_encoder_heads=0,\n",
    "#     # Transformer Decoders\n",
    "#     transformer_decoder_emb=None,\n",
    "#     transformer_decoder_layers=0,\n",
    "#     transformer_decoder_heads=0,\n",
    "#     transformer_decoder_dim=0,\n",
    "# )\n",
    "\n",
    "model_config = SimpleConvConfig(\n",
    "    # Str to list of possible conditions\n",
    "    mel_normalization=False,\n",
    "    conditions={\n",
    "        \"study\": [],\n",
    "        \"subject\": [],\n",
    "    },\n",
    "    # Channels\n",
    "    in_channels=208,\n",
    "    out_channels=128,\n",
    "    hidden_dim=384,\n",
    "    dropout=0.2,\n",
    "    initial_batch_norm=True,\n",
    "    # Sensor layout settings\n",
    "    layout_dim=2,\n",
    "    layout_proj=True,\n",
    "    layout_scaling=\"minmax\",\n",
    "    # Merger with spatial attn\n",
    "    merger=True,\n",
    "    merger_emb_type='linear',\n",
    "    merger_emb_dim=2048,\n",
    "    merger_channels=256,\n",
    "    merger_dropout=0.2, # Float\n",
    "    merger_conditional=None,\n",
    "    # Inital\n",
    "    initial_linear=384,\n",
    "    initial_depth=1,\n",
    "    # Conditional layers\n",
    "    conditional_layers=True,\n",
    "    conditional_layers_dim='input',  # input or hidden_dim\n",
    "    # Conv layer overall structure\n",
    "    depth=6,\n",
    "    kernel_size=3,\n",
    "    growth=1.0,\n",
    "    dilation_growth=2,\n",
    "    dilation_period=5,\n",
    "    glu=1,\n",
    "    conv_dropout=0.2,\n",
    "    dropout_input=0.2,\n",
    "    batch_norm=True,\n",
    "    half=True,\n",
    "    cnn_pos_encoding=True,\n",
    "    # Quantizer\n",
    "    quantizer=False,\n",
    "    num_codebooks=0,\n",
    "    codebook_size=0,\n",
    "    quantizer_commitment=0,\n",
    "    quantizer_temp_init=0,\n",
    "    quantizer_temp_min=0,\n",
    "    quantizer_temp_decay=0,\n",
    "    # Transformers Encoders\n",
    "    # Transformers Encoders\n",
    "    transformer_input=\"continuous\",  # concat or quantized or continuous\n",
    "    transformer_encoder_emb = \"groupconv\",\n",
    "    transformer_encoder_layers = 4,\n",
    "    transformer_encoder_heads = 8,\n",
    "    # Conformer encoder variant\n",
    "    rnn_type = \"transformer\",\n",
    "    depthwise_conv_kernel_size = 31,\n",
    "    use_group_norm = True,\n",
    "    convolution_first = False,\n",
    "    # Transformer Decoders\n",
    "    transformer_decoder_emb=None,\n",
    "    transformer_decoder_layers=0,\n",
    "    transformer_decoder_heads=0,\n",
    "    transformer_decoder_dim=0,\n",
    ")\n",
    "\n",
    "config = TrainingConfigV0(\n",
    "    brain_encoder_config=model_config,\n",
    "    data_partition=data_partition,\n",
    "    # Pre-processing parameters\n",
    "    # Brain\n",
    "    new_freq=200,\n",
    "    frequency_bands={\"all\": (0.5, 80)},\n",
    "    max_random_shift=1.0,\n",
    "    window_size=4,\n",
    "    window_stride=1,\n",
    "    brain_clipping=None,\n",
    "    baseline_window=0.5,\n",
    "    notch_filter=True,\n",
    "    scaling=\"both\",\n",
    "    delay=0.15,\n",
    "    # Hyperparameters\n",
    "    learning_rate=5e-4,\n",
    "    weight_decay=1e-4,\n",
    "    epochs=50,\n",
    "    batch_size=256,\n",
    "    use_clip_loss=True,\n",
    "    use_mse_loss=True,\n",
    "    alpha=0.6,\n",
    "    random_test_size=10,\n",
    "    seed=42,\n",
    ")\n",
    "\n",
    "config.learning_rate = 3e-4\n",
    "config.batch_size = 256\n",
    "\n",
    "session = TrainingSessionV0(\n",
    "    config=config,\n",
    "    studies={study: \"audio\" for study in data_partition.keys()},\n",
    "    data_path=\"data\",\n",
    "    save_path=\"saves/phase1/objectives/CLIP_MSE_full_model\",\n",
    "    clear_cache=False,\n",
    "    cache_name=\"cache/1\",\n",
    ")\n",
    "\n",
    "try:\n",
    "    session.train(\n",
    "        device=\"cuda\",\n",
    "        buffer_size=30,\n",
    "        num_workers=(multiprocessing.cpu_count() - 2),\n",
    "        max_cache_size=400,\n",
    "        current_epoch=0,\n",
    "    )\n",
    "except KeyboardInterrupt as e:\n",
    "    print(\"Exited\")"
   ]
  },
  {
   "cell_type": "code",
   "execution_count": null,
   "metadata": {},
   "outputs": [],
   "source": []
  }
 ],
 "metadata": {
  "kernelspec": {
   "display_name": "brain",
   "language": "python",
   "name": "brain"
  },
  "language_info": {
   "codemirror_mode": {
    "name": "ipython",
    "version": 3
   },
   "file_extension": ".py",
   "mimetype": "text/x-python",
   "name": "python",
   "nbconvert_exporter": "python",
   "pygments_lexer": "ipython3",
   "version": "3.11.7"
  }
 },
 "nbformat": 4,
 "nbformat_minor": 4
}
