{
 "cells": [
  {
   "cell_type": "code",
   "execution_count": 1,
   "metadata": {},
   "outputs": [
    {
     "name": "stdout",
     "output_type": "stream",
     "text": [
      "Loading Gwilliams2023 with batch type audio\n",
      "Data partitioned on studies ['gwilliams2023'].\n",
      "Train: 135, Unseen Task: 12, Unseen Subject: 45, Unseen Both: 4.\n",
      "\n",
      "SimpleConv initialized with 9332896 parameters, cond: ['study', 'subject']\n",
      "Merger False, merger channels 0\n",
      "ConvBlocks: 6, hidden_dim: 384, params 8858112\n"
     ]
    },
    {
     "name": "stderr",
     "output_type": "stream",
     "text": [
      "2025-01-26 03:01:13,681\tINFO worker.py:1841 -- Started a local Ray instance.\n",
      "Training Epoch 1: 100%|██████████| 135/135 [11:34<00:00,  5.14s/it]\n"
     ]
    },
    {
     "name": "stdout",
     "output_type": "stream",
     "text": [
      "Epoch 1 completed. Loss: 275664.2235, Clip Loss: 10.0753, MSE Loss: 689145.4227\n",
      "Accuracy: 0.0001, Top 5: 0.0003, Top 10: 0.0005\n",
      "Test unseen_subject completed. Accuracy: 0.0000, Top 5: 0.0002, Top 10: 0.0005\n",
      "Test unseen_task completed. Accuracy: 0.0000, Top 5: 0.0002, Top 10: 0.0004\n",
      "Test unseen_both completed. Accuracy: 0.0001, Top 5: 0.0003, Top 10: 0.0006\n",
      "Testing completed in 1.00m.\n",
      "Epoch 1 completed in 12.60m. 0.09m per recording.\n"
     ]
    },
    {
     "name": "stderr",
     "output_type": "stream",
     "text": [
      "Training Epoch 2: 100%|██████████| 135/135 [11:44<00:00,  5.22s/it]\n"
     ]
    },
    {
     "name": "stdout",
     "output_type": "stream",
     "text": [
      "Epoch 2 completed. Loss: 14.4336, Clip Loss: 10.0723, MSE Loss: 20.9754\n",
      "Accuracy: 0.0001, Top 5: 0.0003, Top 10: 0.0005\n",
      "Test unseen_subject completed. Accuracy: 0.0001, Top 5: 0.0003, Top 10: 0.0005\n",
      "Test unseen_task completed. Accuracy: 0.0000, Top 5: 0.0002, Top 10: 0.0005\n",
      "Test unseen_both completed. Accuracy: 0.0001, Top 5: 0.0003, Top 10: 0.0006\n",
      "Testing completed in 0.96m.\n",
      "Epoch 2 completed in 12.70m. 0.09m per recording.\n"
     ]
    },
    {
     "name": "stderr",
     "output_type": "stream",
     "text": [
      "Training Epoch 3: 100%|██████████| 135/135 [11:41<00:00,  5.19s/it]\n"
     ]
    },
    {
     "name": "stdout",
     "output_type": "stream",
     "text": [
      "Epoch 3 completed. Loss: 6.7939, Clip Loss: 10.0755, MSE Loss: 1.8715\n",
      "Accuracy: 0.0000, Top 5: 0.0002, Top 10: 0.0004\n",
      "Test unseen_subject completed. Accuracy: 0.0000, Top 5: 0.0002, Top 10: 0.0005\n",
      "Test unseen_task completed. Accuracy: 0.0000, Top 5: 0.0002, Top 10: 0.0005\n",
      "Test unseen_both completed. Accuracy: 0.0000, Top 5: 0.0002, Top 10: 0.0005\n",
      "Testing completed in 0.99m.\n",
      "Epoch 3 completed in 12.67m. 0.09m per recording.\n"
     ]
    },
    {
     "name": "stderr",
     "output_type": "stream",
     "text": [
      "Training Epoch 4: 100%|██████████| 135/135 [11:25<00:00,  5.08s/it]\n"
     ]
    },
    {
     "name": "stdout",
     "output_type": "stream",
     "text": [
      "Epoch 4 completed. Loss: 6.2296, Clip Loss: 10.0716, MSE Loss: 0.4666\n",
      "Accuracy: 0.0001, Top 5: 0.0003, Top 10: 0.0006\n",
      "Test unseen_subject completed. Accuracy: 0.0001, Top 5: 0.0005, Top 10: 0.0010\n",
      "Test unseen_task completed. Accuracy: 0.0001, Top 5: 0.0004, Top 10: 0.0007\n",
      "Test unseen_both completed. Accuracy: 0.0001, Top 5: 0.0006, Top 10: 0.0010\n",
      "Testing completed in 1.04m.\n",
      "Epoch 4 completed in 12.47m. 0.09m per recording.\n"
     ]
    },
    {
     "name": "stderr",
     "output_type": "stream",
     "text": [
      "Training Epoch 5: 100%|██████████| 135/135 [11:38<00:00,  5.18s/it]\n"
     ]
    },
    {
     "name": "stdout",
     "output_type": "stream",
     "text": [
      "Epoch 5 completed. Loss: 6.2105, Clip Loss: 10.0603, MSE Loss: 0.4358\n",
      "Accuracy: 0.0001, Top 5: 0.0005, Top 10: 0.0009\n",
      "Test unseen_subject completed. Accuracy: 0.0001, Top 5: 0.0006, Top 10: 0.0011\n",
      "Test unseen_task completed. Accuracy: 0.0001, Top 5: 0.0005, Top 10: 0.0009\n",
      "Test unseen_both completed. Accuracy: 0.0001, Top 5: 0.0006, Top 10: 0.0011\n",
      "Testing completed in 1.02m.\n",
      "Epoch 5 completed in 12.67m. 0.09m per recording.\n"
     ]
    },
    {
     "name": "stderr",
     "output_type": "stream",
     "text": [
      "Training Epoch 6: 100%|██████████| 135/135 [11:42<00:00,  5.20s/it]\n"
     ]
    },
    {
     "name": "stdout",
     "output_type": "stream",
     "text": [
      "Epoch 6 completed. Loss: 6.1908, Clip Loss: 10.0481, MSE Loss: 0.4048\n",
      "Accuracy: 0.0001, Top 5: 0.0004, Top 10: 0.0009\n",
      "Test unseen_subject completed. Accuracy: 0.0001, Top 5: 0.0006, Top 10: 0.0011\n",
      "Test unseen_task completed. Accuracy: 0.0001, Top 5: 0.0004, Top 10: 0.0008\n",
      "Test unseen_both completed. Accuracy: 0.0001, Top 5: 0.0006, Top 10: 0.0011\n",
      "Testing completed in 0.92m.\n",
      "Epoch 6 completed in 12.62m. 0.09m per recording.\n"
     ]
    },
    {
     "name": "stderr",
     "output_type": "stream",
     "text": [
      "Training Epoch 7: 100%|██████████| 135/135 [11:26<00:00,  5.08s/it]\n"
     ]
    },
    {
     "name": "stdout",
     "output_type": "stream",
     "text": [
      "Epoch 7 completed. Loss: 6.1659, Clip Loss: 10.0388, MSE Loss: 0.3567\n",
      "Accuracy: 0.0001, Top 5: 0.0004, Top 10: 0.0008\n",
      "Test unseen_subject completed. Accuracy: 0.0001, Top 5: 0.0005, Top 10: 0.0011\n",
      "Test unseen_task completed. Accuracy: 0.0001, Top 5: 0.0004, Top 10: 0.0008\n",
      "Test unseen_both completed. Accuracy: 0.0001, Top 5: 0.0006, Top 10: 0.0011\n",
      "Testing completed in 0.91m.\n",
      "Epoch 7 completed in 12.35m. 0.09m per recording.\n"
     ]
    },
    {
     "name": "stderr",
     "output_type": "stream",
     "text": [
      "Training Epoch 8: 100%|██████████| 135/135 [11:42<00:00,  5.20s/it]\n"
     ]
    },
    {
     "name": "stdout",
     "output_type": "stream",
     "text": [
      "Epoch 8 completed. Loss: 6.1392, Clip Loss: 10.0365, MSE Loss: 0.2932\n",
      "Accuracy: 0.0001, Top 5: 0.0004, Top 10: 0.0008\n",
      "Test unseen_subject completed. Accuracy: 0.0001, Top 5: 0.0005, Top 10: 0.0010\n",
      "Test unseen_task completed. Accuracy: 0.0001, Top 5: 0.0004, Top 10: 0.0007\n",
      "Test unseen_both completed. Accuracy: 0.0001, Top 5: 0.0005, Top 10: 0.0010\n",
      "Testing completed in 0.96m.\n",
      "Epoch 8 completed in 12.67m. 0.09m per recording.\n"
     ]
    },
    {
     "name": "stderr",
     "output_type": "stream",
     "text": [
      "Training Epoch 9: 100%|██████████| 135/135 [11:44<00:00,  5.22s/it]\n"
     ]
    },
    {
     "name": "stdout",
     "output_type": "stream",
     "text": [
      "Epoch 9 completed. Loss: 6.1169, Clip Loss: 10.0373, MSE Loss: 0.2363\n",
      "Accuracy: 0.0001, Top 5: 0.0004, Top 10: 0.0007\n",
      "Test unseen_subject completed. Accuracy: 0.0001, Top 5: 0.0005, Top 10: 0.0010\n",
      "Test unseen_task completed. Accuracy: 0.0001, Top 5: 0.0004, Top 10: 0.0007\n",
      "Test unseen_both completed. Accuracy: 0.0001, Top 5: 0.0005, Top 10: 0.0010\n",
      "Testing completed in 0.96m.\n",
      "Epoch 9 completed in 12.70m. 0.09m per recording.\n"
     ]
    },
    {
     "name": "stderr",
     "output_type": "stream",
     "text": [
      "Training Epoch 10: 100%|██████████| 135/135 [11:54<00:00,  5.29s/it]\n"
     ]
    },
    {
     "name": "stdout",
     "output_type": "stream",
     "text": [
      "Epoch 10 completed. Loss: 6.1051, Clip Loss: 10.0382, MSE Loss: 0.2053\n",
      "Accuracy: 0.0001, Top 5: 0.0004, Top 10: 0.0007\n",
      "Test unseen_subject completed. Accuracy: 0.0001, Top 5: 0.0005, Top 10: 0.0010\n",
      "Test unseen_task completed. Accuracy: 0.0001, Top 5: 0.0004, Top 10: 0.0007\n",
      "Test unseen_both completed. Accuracy: 0.0001, Top 5: 0.0005, Top 10: 0.0010\n",
      "Testing completed in 1.00m.\n",
      "Epoch 10 completed in 12.91m. 0.10m per recording.\n"
     ]
    },
    {
     "name": "stderr",
     "output_type": "stream",
     "text": [
      "Training Epoch 11: 100%|██████████| 135/135 [12:01<00:00,  5.35s/it]\n"
     ]
    },
    {
     "name": "stdout",
     "output_type": "stream",
     "text": [
      "Epoch 11 completed. Loss: 6.1019, Clip Loss: 10.0384, MSE Loss: 0.1972\n",
      "Accuracy: 0.0001, Top 5: 0.0004, Top 10: 0.0008\n",
      "Test unseen_subject completed. Accuracy: 0.0001, Top 5: 0.0006, Top 10: 0.0010\n",
      "Test unseen_task completed. Accuracy: 0.0001, Top 5: 0.0004, Top 10: 0.0008\n",
      "Test unseen_both completed. Accuracy: 0.0001, Top 5: 0.0005, Top 10: 0.0010\n",
      "Testing completed in 0.90m.\n",
      "Epoch 11 completed in 12.93m. 0.10m per recording.\n"
     ]
    },
    {
     "name": "stderr",
     "output_type": "stream",
     "text": [
      "Training Epoch 12: 100%|██████████| 135/135 [11:43<00:00,  5.21s/it]\n"
     ]
    },
    {
     "name": "stdout",
     "output_type": "stream",
     "text": [
      "Epoch 12 completed. Loss: 6.1016, Clip Loss: 10.0387, MSE Loss: 0.1960\n",
      "Accuracy: 0.0001, Top 5: 0.0004, Top 10: 0.0008\n",
      "Test unseen_subject completed. Accuracy: 0.0001, Top 5: 0.0006, Top 10: 0.0010\n",
      "Test unseen_task completed. Accuracy: 0.0001, Top 5: 0.0004, Top 10: 0.0008\n",
      "Test unseen_both completed. Accuracy: 0.0001, Top 5: 0.0006, Top 10: 0.0011\n",
      "Testing completed in 0.99m.\n",
      "Epoch 12 completed in 12.72m. 0.09m per recording.\n"
     ]
    },
    {
     "name": "stderr",
     "output_type": "stream",
     "text": [
      "Training Epoch 13: 100%|██████████| 135/135 [11:58<00:00,  5.32s/it]\n"
     ]
    },
    {
     "name": "stdout",
     "output_type": "stream",
     "text": [
      "Epoch 13 completed. Loss: 6.1022, Clip Loss: 10.0392, MSE Loss: 0.1967\n",
      "Accuracy: 0.0001, Top 5: 0.0004, Top 10: 0.0008\n",
      "Test unseen_subject completed. Accuracy: 0.0001, Top 5: 0.0006, Top 10: 0.0011\n",
      "Test unseen_task completed. Accuracy: 0.0001, Top 5: 0.0004, Top 10: 0.0008\n",
      "Test unseen_both completed. Accuracy: 0.0001, Top 5: 0.0005, Top 10: 0.0010\n",
      "Testing completed in 0.99m.\n",
      "Epoch 13 completed in 12.96m. 0.10m per recording.\n"
     ]
    },
    {
     "name": "stderr",
     "output_type": "stream",
     "text": [
      "Training Epoch 14: 100%|██████████| 135/135 [11:50<00:00,  5.26s/it]\n"
     ]
    },
    {
     "name": "stdout",
     "output_type": "stream",
     "text": [
      "Epoch 14 completed. Loss: 6.1028, Clip Loss: 10.0407, MSE Loss: 0.1960\n",
      "Accuracy: 0.0001, Top 5: 0.0004, Top 10: 0.0008\n",
      "Test unseen_subject completed. Accuracy: 0.0001, Top 5: 0.0005, Top 10: 0.0010\n",
      "Test unseen_task completed. Accuracy: 0.0001, Top 5: 0.0004, Top 10: 0.0008\n",
      "Test unseen_both completed. Accuracy: 0.0001, Top 5: 0.0005, Top 10: 0.0010\n",
      "Testing completed in 1.05m.\n",
      "Epoch 14 completed in 12.89m. 0.10m per recording.\n"
     ]
    },
    {
     "name": "stderr",
     "output_type": "stream",
     "text": [
      "Training Epoch 15: 100%|██████████| 135/135 [11:52<00:00,  5.28s/it]\n"
     ]
    },
    {
     "name": "stdout",
     "output_type": "stream",
     "text": [
      "Epoch 15 completed. Loss: 6.1018, Clip Loss: 10.0391, MSE Loss: 0.1958\n",
      "Accuracy: 0.0001, Top 5: 0.0004, Top 10: 0.0008\n",
      "Test unseen_subject completed. Accuracy: 0.0001, Top 5: 0.0006, Top 10: 0.0010\n",
      "Test unseen_task completed. Accuracy: 0.0001, Top 5: 0.0004, Top 10: 0.0008\n",
      "Test unseen_both completed. Accuracy: 0.0001, Top 5: 0.0005, Top 10: 0.0011\n",
      "Testing completed in 0.99m.\n",
      "Epoch 15 completed in 12.87m. 0.10m per recording.\n"
     ]
    },
    {
     "name": "stderr",
     "output_type": "stream",
     "text": [
      "Training Epoch 16: 100%|██████████| 135/135 [11:56<00:00,  5.30s/it]\n"
     ]
    },
    {
     "name": "stdout",
     "output_type": "stream",
     "text": [
      "Epoch 16 completed. Loss: 6.1021, Clip Loss: 10.0399, MSE Loss: 0.1954\n",
      "Accuracy: 0.0001, Top 5: 0.0004, Top 10: 0.0008\n",
      "Test unseen_subject completed. Accuracy: 0.0001, Top 5: 0.0005, Top 10: 0.0010\n",
      "Test unseen_task completed. Accuracy: 0.0001, Top 5: 0.0004, Top 10: 0.0008\n",
      "Test unseen_both completed. Accuracy: 0.0001, Top 5: 0.0005, Top 10: 0.0010\n",
      "Testing completed in 0.96m.\n",
      "Epoch 16 completed in 12.90m. 0.10m per recording.\n",
      "Early stopping at epoch 16. Highest top 10 accuracy at epoch 5.\n",
      "Training completed.\n",
      "unseen_subject: Acc: 0.0001, Top 5: 0.0006, Top 10: 0.0011\n",
      "unseen_task: Acc: 0.0001, Top 5: 0.0005, Top 10: 0.0009\n",
      "unseen_both: Acc: 0.0001, Top 5: 0.0006, Top 10: 0.0011\n"
     ]
    }
   ],
   "source": [
    "# del session.logger\n",
    "# del session\n",
    "\n",
    "import multiprocessing\n",
    "\n",
    "\n",
    "from train.training_session_v0 import TrainingSessionV0\n",
    "from config import TrainingConfigV0\n",
    "from config import SimpleConvConfig\n",
    "\n",
    "data_partition = {\n",
    "    \"gwilliams2023\": {\n",
    "        \"testing_subjects\": [19, 20, 21],\n",
    "        \"testing_tasks\": [0],\n",
    "    },\n",
    "    # \"armeini2022\": {\n",
    "    #     \"testing_subjects\": [],\n",
    "    #     \"testing_tasks\": [8, 9],\n",
    "    # },\n",
    "}\n",
    "\n",
    "model_config = SimpleConvConfig(\n",
    "    # Str to list of possible conditions\n",
    "    mel_normalization=False,\n",
    "    conditions={\n",
    "        \"study\": [],\n",
    "        \"subject\": [],\n",
    "    },\n",
    "    # Channels\n",
    "    in_channels=208,\n",
    "    out_channels=128,\n",
    "    hidden_dim=384,\n",
    "    dropout=0.2,\n",
    "    initial_batch_norm=True,\n",
    "    # Sensor layout settings\n",
    "    layout_dim=2,\n",
    "    layout_proj=True,\n",
    "    layout_scaling=\"minmax\",\n",
    "    # Merger with spatial attn\n",
    "    merger=False,\n",
    "    merger_emb_type=None,\n",
    "    merger_emb_dim=0,\n",
    "    merger_channels=0,\n",
    "    merger_dropout=False,\n",
    "    merger_conditional=None,\n",
    "    # Inital\n",
    "    initial_linear=384,\n",
    "    initial_depth=1,\n",
    "    # Conditional layers\n",
    "    conditional_layers=False,\n",
    "    conditional_layers_dim=None,  # input or hidden_dim\n",
    "    # Conv layer overall structure\n",
    "    depth=6,\n",
    "    kernel_size=3,\n",
    "    growth=1.0,\n",
    "    dilation_growth=2,\n",
    "    dilation_period=5,\n",
    "    glu=1,\n",
    "    conv_dropout=0.2,\n",
    "    dropout_input=0.2,\n",
    "    batch_norm=True,\n",
    "    half=True,\n",
    "    cnn_pos_encoding=False,\n",
    "    # Quantizer\n",
    "    quantizer=False,\n",
    "    num_codebooks=0,\n",
    "    codebook_size=0,\n",
    "    quantizer_commitment=0,\n",
    "    quantizer_temp_init=0,\n",
    "    quantizer_temp_min=0,\n",
    "    quantizer_temp_decay=0,\n",
    "    # Transformers Encoders\n",
    "    transformer_input=None,\n",
    "    transformer_encoder_emb=None,\n",
    "    transformer_encoder_layers=0,\n",
    "    transformer_encoder_heads=0,\n",
    "    # Transformer Decoders\n",
    "    transformer_decoder_emb=None,\n",
    "    transformer_decoder_layers=0,\n",
    "    transformer_decoder_heads=0,\n",
    "    transformer_decoder_dim=0,\n",
    ")\n",
    "\n",
    "config = TrainingConfigV0(\n",
    "    brain_encoder_config=model_config,\n",
    "    data_partition=data_partition,\n",
    "    # Pre-processing parameters\n",
    "    # Brain\n",
    "    new_freq=200,\n",
    "    frequency_bands={\"all\": (0.5, 80)},\n",
    "    max_random_shift=1.0,\n",
    "    window_size=4,\n",
    "    window_stride=1,\n",
    "    brain_clipping=None,\n",
    "    baseline_window=0.5,\n",
    "    notch_filter=True,\n",
    "    scaling=\"both\",\n",
    "    delay=0.15,\n",
    "    # Hyperparameters\n",
    "    learning_rate=5e-4,\n",
    "    weight_decay=1e-4,\n",
    "    epochs=50,\n",
    "    batch_size=256,\n",
    "    use_clip_loss=True,\n",
    "    use_mse_loss=True,\n",
    "    alpha=0.6,\n",
    "    random_test_size=10,\n",
    "    seed=42,\n",
    ")\n",
    "\n",
    "config.learning_rate = 3e-4\n",
    "config.batch_size = 64\n",
    "\n",
    "session = TrainingSessionV0(\n",
    "    config=config,\n",
    "    studies={study: \"audio\" for study in data_partition.keys()},\n",
    "    data_path=\"data\",\n",
    "    save_path=\"saves/phase1/objectives/CLIP_MSE_BT\",\n",
    "    clear_cache=False,\n",
    "    cache_name=\"cache/1\",\n",
    ")\n",
    "\n",
    "try:\n",
    "    session.train(\n",
    "        device=\"cuda\",\n",
    "        buffer_size=30,\n",
    "        num_workers=(multiprocessing.cpu_count() // 2 - 2),\n",
    "        max_cache_size=400,\n",
    "        current_epoch=0,\n",
    "    )\n",
    "except KeyboardInterrupt as e:\n",
    "    print(\"Exited\")"
   ]
  },
  {
   "cell_type": "code",
   "execution_count": null,
   "metadata": {},
   "outputs": [],
   "source": []
  }
 ],
 "metadata": {
  "kernelspec": {
   "display_name": "brain",
   "language": "python",
   "name": "brain"
  },
  "language_info": {
   "codemirror_mode": {
    "name": "ipython",
    "version": 3
   },
   "file_extension": ".py",
   "mimetype": "text/x-python",
   "name": "python",
   "nbconvert_exporter": "python",
   "pygments_lexer": "ipython3",
   "version": "3.11.7"
  }
 },
 "nbformat": 4,
 "nbformat_minor": 4
}
