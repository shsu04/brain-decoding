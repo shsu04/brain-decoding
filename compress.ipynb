{
 "cells": [
  {
   "cell_type": "code",
   "execution_count": null,
   "metadata": {},
   "outputs": [],
   "source": [
    "from utils.compression import compress_directories, decompress_directories"
   ]
  },
  {
   "cell_type": "code",
   "execution_count": 2,
   "metadata": {},
   "outputs": [
    {
     "name": "stderr",
     "output_type": "stream",
     "text": [
      "Compressing directories: 100%|██████████| 28/28 [14:06<00:00, 30.22s/it]"
     ]
    },
    {
     "name": "stdout",
     "output_type": "stream",
     "text": [
      "Copied .DS_Store to compressed_data/gwilliams\n",
      "Copied dataset_description.json to compressed_data/gwilliams\n",
      "Copied README.txt to compressed_data/gwilliams\n",
      "Copied participants.json to compressed_data/gwilliams\n",
      "Copied participants.tsv to compressed_data/gwilliams\n",
      "Compression complete.\n"
     ]
    },
    {
     "name": "stderr",
     "output_type": "stream",
     "text": [
      "\n"
     ]
    }
   ],
   "source": [
    "base_path = \"data/gwilliams\"\n",
    "destination_path = \"compressed_data/gwilliams\"\n",
    "\n",
    "compress_directories(\n",
    "    base_path,\n",
    "    destination_path,\n",
    "    checksum_file_name=\"checksums.txt\",\n",
    "    compression_level=12,\n",
    "    num_workers='mac'\n",
    ")"
   ]
  },
  {
   "cell_type": "code",
   "execution_count": null,
   "metadata": {},
   "outputs": [],
   "source": [
    "# base_path = \"data/schoffelen\"\n",
    "# destination_path = \"compressed_data/schoffelen\"\n",
    "\n",
    "# compress_directories(\n",
    "#     base_path,\n",
    "#     destination_path,\n",
    "#     checksum_file_name=\"checksums.txt\",\n",
    "#     compression_level=12,\n",
    "#     num_workers='mac'\n",
    "# )"
   ]
  },
  {
   "cell_type": "code",
   "execution_count": 3,
   "metadata": {},
   "outputs": [
    {
     "name": "stderr",
     "output_type": "stream",
     "text": [
      "Decompressing files: 100%|██████████| 28/28 [03:58<00:00,  8.51s/it]"
     ]
    },
    {
     "name": "stdout",
     "output_type": "stream",
     "text": [
      "Copied .DS_Store to decompressed_data/gwilliams\n",
      "Copied dataset_description.json to decompressed_data/gwilliams\n",
      "Copied README.txt to decompressed_data/gwilliams\n",
      "Copied participants.json to decompressed_data/gwilliams\n",
      "Copied participants.tsv to decompressed_data/gwilliams\n",
      "Decompression and verification complete\n",
      "All files decompressed successfully.\n"
     ]
    },
    {
     "name": "stderr",
     "output_type": "stream",
     "text": [
      "\n"
     ]
    }
   ],
   "source": [
    "base_path = \"compressed_data/gwilliams\"\n",
    "destination_path = \"decompressed_data/gwilliams\"\n",
    "\n",
    "decompress_directories(\n",
    "    base_path,\n",
    "    destination_path,\n",
    "    checksum_file_name=\"checksums.txt\",\n",
    "    num_workers='mac'\n",
    ")"
   ]
  },
  {
   "cell_type": "code",
   "execution_count": 5,
   "metadata": {},
   "outputs": [
    {
     "name": "stderr",
     "output_type": "stream",
     "text": [
      "Decompressing files: 100%|██████████| 28/28 [04:02<00:00,  8.68s/it]"
     ]
    },
    {
     "name": "stdout",
     "output_type": "stream",
     "text": [
      "Copied .DS_Store to decompressed_data/gwilliams\n",
      "Copied dataset_description.json to decompressed_data/gwilliams\n",
      "Copied README.txt to decompressed_data/gwilliams\n",
      "Copied participants.json to decompressed_data/gwilliams\n",
      "Copied participants.tsv to decompressed_data/gwilliams\n",
      "Decompression and verification complete\n",
      "All files decompressed successfully.\n"
     ]
    },
    {
     "name": "stderr",
     "output_type": "stream",
     "text": [
      "\n"
     ]
    }
   ],
   "source": [
    "base_path = \"downloaded_data/gwilliams\"\n",
    "destination_path = \"decompressed_data/gwilliams\"\n",
    "\n",
    "decompress_directories(\n",
    "    base_path,\n",
    "    destination_path,\n",
    "    checksum_file_name=\"checksums.txt\",\n",
    "    num_workers='mac'\n",
    ")"
   ]
  }
 ],
 "metadata": {
  "kernelspec": {
   "display_name": "brain",
   "language": "python",
   "name": "python3"
  },
  "language_info": {
   "codemirror_mode": {
    "name": "ipython",
    "version": 3
   },
   "file_extension": ".py",
   "mimetype": "text/x-python",
   "name": "python",
   "nbconvert_exporter": "python",
   "pygments_lexer": "ipython3",
   "version": "3.11.7"
  }
 },
 "nbformat": 4,
 "nbformat_minor": 2
}
