{
 "cells": [
  {
   "cell_type": "code",
   "execution_count": 1,
   "metadata": {},
   "outputs": [],
   "source": [
    "from utils.compression import compress_directories, decompress_directories"
   ]
  },
  {
   "cell_type": "code",
   "execution_count": null,
   "metadata": {},
   "outputs": [
    {
     "name": "stderr",
     "output_type": "stream",
     "text": [
      "Compressing directories: 100%|██████████| 28/28 [14:06<00:00, 30.22s/it]"
     ]
    },
    {
     "name": "stdout",
     "output_type": "stream",
     "text": [
      "Copied .DS_Store to compressed_data/gwilliams\n",
      "Copied dataset_description.json to compressed_data/gwilliams\n",
      "Copied README.txt to compressed_data/gwilliams\n",
      "Copied participants.json to compressed_data/gwilliams\n",
      "Copied participants.tsv to compressed_data/gwilliams\n",
      "Compression complete.\n"
     ]
    },
    {
     "name": "stderr",
     "output_type": "stream",
     "text": [
      "\n"
     ]
    }
   ],
   "source": [
    "# base_path = \"data/gwilliams\"\n",
    "# destination_path = \"compressed_data/gwilliams\"\n",
    "\n",
    "# compress_directories(\n",
    "#     base_path,\n",
    "#     destination_path,\n",
    "#     checksum_file_name=\"checksums.txt\",\n",
    "#     compression_level=12,\n",
    "#     num_workers='mac'\n",
    "# )"
   ]
  },
  {
   "cell_type": "code",
   "execution_count": null,
   "metadata": {},
   "outputs": [],
   "source": [
    "# base_path = \"data/schoffelen\"\n",
    "# destination_path = \"compressed_data/schoffelen\"\n",
    "\n",
    "# compress_directories(\n",
    "#     base_path,\n",
    "#     destination_path,\n",
    "#     checksum_file_name=\"checksums.txt\",\n",
    "#     compression_level=12,\n",
    "#     num_workers='mac'\n",
    "# )"
   ]
  },
  {
   "cell_type": "code",
   "execution_count": null,
   "metadata": {},
   "outputs": [
    {
     "name": "stdout",
     "output_type": "stream",
     "text": [
      "Decompressing 28 files using 12 processes...\n"
     ]
    },
    {
     "name": "stderr",
     "output_type": "stream",
     "text": [
      "Decompressing files:   0%|          | 0/28 [00:00<?, ?it/s]"
     ]
    },
    {
     "name": "stderr",
     "output_type": "stream",
     "text": [
      "Decompressing files: 100%|██████████| 28/28 [04:42<00:00, 10.09s/it]"
     ]
    },
    {
     "name": "stdout",
     "output_type": "stream",
     "text": [
      "Copied .DS_Store to data/gwilliams\n",
      "Copied participants.json to data/gwilliams\n",
      "Copied dataset_description.json to data/gwilliams\n",
      "Copied README.txt to data/gwilliams\n",
      "Copied participants.tsv to data/gwilliams\n",
      "Decompression and verification complete\n",
      "All files decompressed successfully.\n"
     ]
    },
    {
     "name": "stderr",
     "output_type": "stream",
     "text": [
      "\n"
     ]
    }
   ],
   "source": [
    "# base_path = \"downloaded_data/gwilliams\"\n",
    "# destination_path = \"data/gwilliams\"\n",
    "\n",
    "# decompress_directories(\n",
    "#     base_path,\n",
    "#     destination_path,\n",
    "#     checksum_file_name=\"checksums.txt\",\n",
    "#     delete_compressed_files=True,\n",
    "#     num_workers=None\n",
    "# )"
   ]
  },
  {
   "cell_type": "code",
   "execution_count": null,
   "metadata": {},
   "outputs": [
    {
     "name": "stdout",
     "output_type": "stream",
     "text": [
      "Decompressing 7 files using 12 processes...\n"
     ]
    },
    {
     "name": "stderr",
     "output_type": "stream",
     "text": [
      "Decompressing files: 100%|██████████| 7/7 [07:40<00:00, 65.74s/it] "
     ]
    },
    {
     "name": "stdout",
     "output_type": "stream",
     "text": [
      "Copied .DS_Store to data/schoffelen\n",
      "Copied LICENSE.txt to data/schoffelen\n",
      "Copied dataset_description.json to data/schoffelen\n",
      "Copied MANIFEST.txt to data/schoffelen\n",
      "Copied README.txt to data/schoffelen\n",
      "Copied participants.tsv to data/schoffelen\n",
      "Decompression and verification complete\n",
      "All files decompressed successfully.\n"
     ]
    },
    {
     "name": "stderr",
     "output_type": "stream",
     "text": [
      "\n"
     ]
    }
   ],
   "source": [
    "# base_path = \"downloaded_data/schoffelen\"\n",
    "# destination_path = \"data/schoffelen\"\n",
    "\n",
    "# decompress_directories(\n",
    "#     base_path,\n",
    "#     destination_path,\n",
    "#     checksum_file_name=\"checksums.txt\",\n",
    "#     delete_compressed_files=True,\n",
    "#     num_workers=12\n",
    "# )"
   ]
  },
  {
   "cell_type": "code",
   "execution_count": 1,
   "metadata": {},
   "outputs": [
    {
     "name": "stdout",
     "output_type": "stream",
     "text": [
      "Decompressing 7 files using 3 processes...\n"
     ]
    },
    {
     "name": "stderr",
     "output_type": "stream",
     "text": [
      "Decompressing files: 100%|██████████| 7/7 [06:51<00:00, 58.81s/it] \n"
     ]
    },
    {
     "name": "stdout",
     "output_type": "stream",
     "text": [
      "Copied dataset_description.json to data/schoffelen2022\n",
      "Copied README.txt to data/schoffelen2022\n",
      "Copied participants.tsv to data/schoffelen2022\n",
      "Copied MANIFEST.txt to data/schoffelen2022\n",
      "Copied .DS_Store to data/schoffelen2022\n",
      "Copied LICENSE.txt to data/schoffelen2022\n",
      "Decompression and verification complete\n",
      "All files decompressed successfully.\n",
      "Deleting compressed files...\n"
     ]
    }
   ],
   "source": [
    "# data_partition = {\n",
    "#         # \"gwilliams2023\": {\n",
    "#         #     \"testing_subjects\": [19, 20, 21],\n",
    "#         #     \"testing_tasks\": [0],\n",
    "#         # }\n",
    "#         \"schoffelen2022\": {\n",
    "#             \"testing_subjects\": [],\n",
    "#             \"testing_tasks\": [8, 9],\n",
    "#         },\n",
    "# }\n",
    "\n",
    "# from utils.compression import compress_directories, decompress_directories\n",
    "\n",
    "# for base_path, batch_type in data_partition.items():\n",
    "#     decompress_directories(\n",
    "#         source_path=f'downloaded_data/{base_path}',\n",
    "#         destination_path=f'data/{base_path}',\n",
    "#         checksum_file_name=\"checksums.txt\",\n",
    "#         delete_compressed_files=True,\n",
    "#         num_workers=3\n",
    "#     )"
   ]
  },
  {
   "cell_type": "code",
   "execution_count": null,
   "metadata": {},
   "outputs": [],
   "source": []
  }
 ],
 "metadata": {
  "kernelspec": {
   "display_name": "brain",
   "language": "python",
   "name": "python3"
  },
  "language_info": {
   "codemirror_mode": {
    "name": "ipython",
    "version": 3
   },
   "file_extension": ".py",
   "mimetype": "text/x-python",
   "name": "python",
   "nbconvert_exporter": "python",
   "pygments_lexer": "ipython3",
   "version": "3.11.7"
  }
 },
 "nbformat": 4,
 "nbformat_minor": 2
}
