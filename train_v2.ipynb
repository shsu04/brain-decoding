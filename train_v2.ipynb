{
 "cells": [
  {
   "cell_type": "code",
   "execution_count": null,
   "metadata": {},
   "outputs": [
    {
     "name": "stdout",
     "output_type": "stream",
     "text": [
      "Loading Gwilliams2023 with batch type audiotext\n",
      "Loading Armeini2022 with batch type audiotext\n",
      "Data partitioned on studies ['gwilliams2023', 'armeini2022'].\n",
      "Train: 159, Unseen Task: 51, Unseen Subject: 12, Unseen Both: 4.\n",
      "\n",
      "Conditional layer study initialized with 3 conditions\n",
      "RNNEncoder initialized as conformer with 4 layers, 256 d_model, 4 nhead\n",
      "\tEmbedding: sinusoidal, params: 6075392\n",
      "SimpleConv initialized with 10274922 parameters, cond: ['study']\n",
      "Merger True, merger channels 269\n",
      "ConvBlocks: 4, hidden_dim: 256, params 2626048\n",
      "Using torch.bfloat16\n",
      "Found 64 target modules for AdaLora: ['model.encoder.layers.0.self_attn.k_proj', 'model.encoder.layers.0.self_attn.v_proj', 'model.encoder.layers.0.self_attn.q_proj', 'model.encoder.layers.0.self_attn.out_proj', 'model.encoder.layers.0.fc1', 'model.encoder.layers.0.fc2', 'model.encoder.layers.1.self_attn.k_proj', 'model.encoder.layers.1.self_attn.v_proj', 'model.encoder.layers.1.self_attn.q_proj', 'model.encoder.layers.1.self_attn.out_proj', 'model.encoder.layers.1.fc1', 'model.encoder.layers.1.fc2', 'model.encoder.layers.2.self_attn.k_proj', 'model.encoder.layers.2.self_attn.v_proj', 'model.encoder.layers.2.self_attn.q_proj', 'model.encoder.layers.2.self_attn.out_proj', 'model.encoder.layers.2.fc1', 'model.encoder.layers.2.fc2', 'model.encoder.layers.3.self_attn.k_proj', 'model.encoder.layers.3.self_attn.v_proj', 'model.encoder.layers.3.self_attn.q_proj', 'model.encoder.layers.3.self_attn.out_proj', 'model.encoder.layers.3.fc1', 'model.encoder.layers.3.fc2', 'model.decoder.layers.0.self_attn.k_proj', 'model.decoder.layers.0.self_attn.v_proj', 'model.decoder.layers.0.self_attn.q_proj', 'model.decoder.layers.0.self_attn.out_proj', 'model.decoder.layers.0.encoder_attn.k_proj', 'model.decoder.layers.0.encoder_attn.v_proj', 'model.decoder.layers.0.encoder_attn.q_proj', 'model.decoder.layers.0.encoder_attn.out_proj', 'model.decoder.layers.0.fc1', 'model.decoder.layers.0.fc2', 'model.decoder.layers.1.self_attn.k_proj', 'model.decoder.layers.1.self_attn.v_proj', 'model.decoder.layers.1.self_attn.q_proj', 'model.decoder.layers.1.self_attn.out_proj', 'model.decoder.layers.1.encoder_attn.k_proj', 'model.decoder.layers.1.encoder_attn.v_proj', 'model.decoder.layers.1.encoder_attn.q_proj', 'model.decoder.layers.1.encoder_attn.out_proj', 'model.decoder.layers.1.fc1', 'model.decoder.layers.1.fc2', 'model.decoder.layers.2.self_attn.k_proj', 'model.decoder.layers.2.self_attn.v_proj', 'model.decoder.layers.2.self_attn.q_proj', 'model.decoder.layers.2.self_attn.out_proj', 'model.decoder.layers.2.encoder_attn.k_proj', 'model.decoder.layers.2.encoder_attn.v_proj', 'model.decoder.layers.2.encoder_attn.q_proj', 'model.decoder.layers.2.encoder_attn.out_proj', 'model.decoder.layers.2.fc1', 'model.decoder.layers.2.fc2', 'model.decoder.layers.3.self_attn.k_proj', 'model.decoder.layers.3.self_attn.v_proj', 'model.decoder.layers.3.self_attn.q_proj', 'model.decoder.layers.3.self_attn.out_proj', 'model.decoder.layers.3.encoder_attn.k_proj', 'model.decoder.layers.3.encoder_attn.v_proj', 'model.decoder.layers.3.encoder_attn.q_proj', 'model.decoder.layers.3.encoder_attn.out_proj', 'model.decoder.layers.3.fc1', 'model.decoder.layers.3.fc2']\n",
      "openai/whisper-tiny.en loaded with total params = 38572096. 811776 are trainable.\n"
     ]
    },
    {
     "name": "stderr",
     "output_type": "stream",
     "text": [
      "2025-04-02 14:22:52,348\tINFO worker.py:1841 -- Started a local Ray instance.\n",
      "Training Epoch 1: 100%|██████████| 159/159 [19:19<00:00,  7.30s/it]\n"
     ]
    },
    {
     "name": "stdout",
     "output_type": "stream",
     "text": [
      "Testing done in 6.00m.\n",
      "Epoch 1 done in 25.38m. 0.16m/recording.\n",
      "\n",
      "\n",
      "New best epoch 1 with CER 1.0154 and BLEU 0.0098.\n",
      "Mel Loss: 6.1651, Clip Loss: 9.5189, MSE: 1.1344\n",
      "Mel accuracy: 0.0046, Top 5: 0.0228, Top 10: 0.0452\n"
     ]
    },
    {
     "name": "stderr",
     "output_type": "stream",
     "text": [
      "Training Epoch 2: 100%|██████████| 159/159 [19:12<00:00,  7.25s/it]\n"
     ]
    },
    {
     "name": "stdout",
     "output_type": "stream",
     "text": [
      "Testing done in 3.15m.\n",
      "Epoch 2 done in 22.37m. 0.14m/recording.\n",
      "\n",
      "\n",
      "New best epoch 2 with CER 0.9708 and BLEU 0.0007.\n",
      "Mel Loss: 5.8681, Clip Loss: 9.5191, MSE: 0.3916\n",
      "Mel accuracy: 0.0046, Top 5: 0.0224, Top 10: 0.0452\n"
     ]
    },
    {
     "name": "stderr",
     "output_type": "stream",
     "text": [
      "\u001b[36m(raylet)\u001b[0m Spilled 28459 MiB, 27 objects, write throughput 759 MiB/s. Set RAY_verbose_spill_logs=0 to disable this message.\n",
      "Training Epoch 3: 100%|██████████| 159/159 [19:17<00:00,  7.28s/it]\n"
     ]
    },
    {
     "name": "stdout",
     "output_type": "stream",
     "text": [
      "Testing done in 3.20m.\n",
      "Epoch 3 done in 22.50m. 0.14m/recording.\n",
      "\n",
      "\n",
      "New best epoch 3 with CER 0.9220 and BLEU 0.0015.\n",
      "Mel Loss: 5.8002, Clip Loss: 9.5136, MSE: 0.2300\n",
      "Mel accuracy: 0.0044, Top 5: 0.0220, Top 10: 0.0444\n"
     ]
    },
    {
     "name": "stderr",
     "output_type": "stream",
     "text": [
      "Training Epoch 4:   0%|          | 0/159 [00:00<?, ?it/s]"
     ]
    },
    {
     "name": "stdout",
     "output_type": "stream",
     "text": [
      "Starting rank reallocation at recording 1962.\n"
     ]
    },
    {
     "name": "stderr",
     "output_type": "stream",
     "text": [
      "Training Epoch 4: 100%|██████████| 159/159 [19:21<00:00,  7.30s/it]\n"
     ]
    },
    {
     "name": "stdout",
     "output_type": "stream",
     "text": [
      "Testing done in 3.52m.\n",
      "Epoch 4 done in 22.87m. 0.14m/recording.\n"
     ]
    },
    {
     "name": "stderr",
     "output_type": "stream",
     "text": [
      "Training Epoch 5: 100%|██████████| 159/159 [19:11<00:00,  7.24s/it]\n"
     ]
    },
    {
     "name": "stdout",
     "output_type": "stream",
     "text": [
      "Testing done in 3.21m.\n",
      "Epoch 5 done in 22.42m. 0.14m/recording.\n"
     ]
    },
    {
     "name": "stderr",
     "output_type": "stream",
     "text": [
      "\u001b[36m(raylet)\u001b[0m Spilled 53832 MiB, 54 objects, write throughput 785 MiB/s.\n",
      "Training Epoch 6: 100%|██████████| 159/159 [19:24<00:00,  7.32s/it]\n"
     ]
    },
    {
     "name": "stdout",
     "output_type": "stream",
     "text": [
      "Testing done in 3.74m.\n",
      "Epoch 6 done in 23.15m. 0.15m/recording.\n"
     ]
    },
    {
     "name": "stderr",
     "output_type": "stream",
     "text": [
      "\u001b[36m(raylet)\u001b[0m Spilled 80367 MiB, 81 objects, write throughput 790 MiB/s.\n",
      "Training Epoch 7: 100%|██████████| 159/159 [19:22<00:00,  7.31s/it]\n"
     ]
    },
    {
     "name": "stdout",
     "output_type": "stream",
     "text": [
      "Testing done in 3.50m.\n",
      "Epoch 7 done in 22.87m. 0.14m/recording.\n",
      "\n",
      "\n",
      "New best epoch 7 with CER 0.9469 and BLEU 0.0015.\n",
      "Mel Loss: 5.7990, Clip Loss: 9.5260, MSE: 0.2084\n",
      "Mel accuracy: 0.0047, Top 5: 0.0233, Top 10: 0.0462\n"
     ]
    },
    {
     "name": "stderr",
     "output_type": "stream",
     "text": [
      "\u001b[36m(raylet)\u001b[0m Spilled 105114 MiB, 108 objects, write throughput 797 MiB/s.\n",
      "Training Epoch 8: 100%|██████████| 159/159 [19:14<00:00,  7.26s/it]\n"
     ]
    },
    {
     "name": "stdout",
     "output_type": "stream",
     "text": [
      "Testing done in 3.18m.\n",
      "Epoch 8 done in 22.43m. 0.14m/recording.\n"
     ]
    },
    {
     "name": "stderr",
     "output_type": "stream",
     "text": [
      "\u001b[36m(raylet)\u001b[0m Spilled 129853 MiB, 135 objects, write throughput 799 MiB/s.\n",
      "Training Epoch 9: 100%|██████████| 159/159 [19:20<00:00,  7.30s/it]\n"
     ]
    },
    {
     "name": "stdout",
     "output_type": "stream",
     "text": [
      "Testing done in 3.64m.\n",
      "Epoch 9 done in 22.99m. 0.14m/recording.\n"
     ]
    },
    {
     "name": "stderr",
     "output_type": "stream",
     "text": [
      "Training Epoch 10: 100%|██████████| 159/159 [19:11<00:00,  7.24s/it]\n"
     ]
    },
    {
     "name": "stdout",
     "output_type": "stream",
     "text": [
      "Testing done in 3.99m.\n",
      "Epoch 10 done in 23.19m. 0.15m/recording.\n"
     ]
    },
    {
     "name": "stderr",
     "output_type": "stream",
     "text": [
      "Training Epoch 11: 100%|██████████| 159/159 [19:14<00:00,  7.26s/it]\n"
     ]
    },
    {
     "name": "stdout",
     "output_type": "stream",
     "text": [
      "Testing done in 3.55m.\n",
      "Epoch 11 done in 22.81m. 0.14m/recording.\n"
     ]
    },
    {
     "name": "stderr",
     "output_type": "stream",
     "text": [
      "Training Epoch 12: 100%|██████████| 159/159 [19:38<00:00,  7.41s/it]\n"
     ]
    },
    {
     "name": "stdout",
     "output_type": "stream",
     "text": [
      "Testing done in 4.61m.\n",
      "Epoch 12 done in 24.25m. 0.15m/recording.\n",
      "\n",
      "\n",
      "New best epoch 12 with CER 0.9369 and BLEU 0.0052.\n",
      "Mel Loss: 5.9590, Clip Loss: 9.5578, MSE: 0.5606\n",
      "Mel accuracy: 0.0046, Top 5: 0.0234, Top 10: 0.0468\n"
     ]
    },
    {
     "name": "stderr",
     "output_type": "stream",
     "text": [
      "Training Epoch 13:  53%|█████▎    | 84/159 [10:37<10:46,  8.62s/it] 799 MiB/s.\n",
      "Training Epoch 13: 100%|██████████| 159/159 [19:23<00:00,  7.32s/it]\n"
     ]
    },
    {
     "name": "stdout",
     "output_type": "stream",
     "text": [
      "Testing done in 3.14m.\n",
      "Epoch 13 done in 22.54m. 0.14m/recording.\n"
     ]
    },
    {
     "name": "stderr",
     "output_type": "stream",
     "text": [
      "Training Epoch 14: 100%|██████████| 159/159 [19:20<00:00,  7.30s/it]\n"
     ]
    },
    {
     "name": "stdout",
     "output_type": "stream",
     "text": [
      "Testing done in 3.49m.\n",
      "Epoch 14 done in 22.84m. 0.14m/recording.\n"
     ]
    },
    {
     "name": "stderr",
     "output_type": "stream",
     "text": [
      "Training Epoch 15: 100%|██████████| 159/159 [19:32<00:00,  7.37s/it]\n"
     ]
    },
    {
     "name": "stdout",
     "output_type": "stream",
     "text": [
      "Testing done in 3.14m.\n",
      "Epoch 15 done in 22.67m. 0.14m/recording.\n"
     ]
    },
    {
     "name": "stderr",
     "output_type": "stream",
     "text": [
      "\u001b[36m(raylet)\u001b[0m Spilled 177073 MiB, 189 objects, write throughput 793 MiB/s.\n",
      "Training Epoch 16: 100%|██████████| 159/159 [19:21<00:00,  7.31s/it]\n"
     ]
    },
    {
     "name": "stdout",
     "output_type": "stream",
     "text": [
      "Testing done in 3.39m.\n",
      "Epoch 16 done in 22.76m. 0.14m/recording.\n"
     ]
    },
    {
     "name": "stderr",
     "output_type": "stream",
     "text": [
      "Training Epoch 17: 100%|██████████| 159/159 [19:14<00:00,  7.26s/it]\n"
     ]
    },
    {
     "name": "stdout",
     "output_type": "stream",
     "text": [
      "Testing done in 3.87m.\n",
      "Epoch 17 done in 23.11m. 0.15m/recording.\n"
     ]
    },
    {
     "name": "stderr",
     "output_type": "stream",
     "text": [
      "Training Epoch 18: 100%|██████████| 159/159 [19:23<00:00,  7.32s/it]\n"
     ]
    },
    {
     "name": "stdout",
     "output_type": "stream",
     "text": [
      "Testing done in 4.25m.\n",
      "Epoch 18 done in 23.65m. 0.15m/recording.\n"
     ]
    },
    {
     "name": "stderr",
     "output_type": "stream",
     "text": [
      "Training Epoch 19: 100%|██████████| 159/159 [19:19<00:00,  7.29s/it]\n"
     ]
    },
    {
     "name": "stdout",
     "output_type": "stream",
     "text": [
      "Testing done in 4.06m.\n",
      "Epoch 19 done in 23.39m. 0.15m/recording.\n"
     ]
    },
    {
     "name": "stderr",
     "output_type": "stream",
     "text": [
      "Training Epoch 20: 100%|██████████| 159/159 [19:19<00:00,  7.29s/it]\n"
     ]
    },
    {
     "name": "stdout",
     "output_type": "stream",
     "text": [
      "Testing done in 3.75m.\n",
      "Epoch 20 done in 23.09m. 0.15m/recording.\n"
     ]
    },
    {
     "name": "stderr",
     "output_type": "stream",
     "text": [
      "Training Epoch 21:   0%|          | 0/159 [00:00<?, ?it/s]"
     ]
    }
   ],
   "source": [
    "import torch\n",
    "import gc\n",
    "import logging\n",
    "\n",
    "# del session.logger\n",
    "# del session.epoch_logger\n",
    "# del session\n",
    "# gc.collect()\n",
    "# torch.cuda.empty_cache()\n",
    "\n",
    "import multiprocessing\n",
    "from train.training_session_v2 import TrainingSessionV2, load_training_session\n",
    "from config import TrainingConfigV2\n",
    "from config import SimpleConvConfig\n",
    "\n",
    "data_partition = {\n",
    "    \"gwilliams2023\": {\n",
    "        \"testing_subjects\": [19, 20, 21],\n",
    "        \"testing_tasks\": [0],\n",
    "    },\n",
    "    \"armeini2022\": {\n",
    "        \"testing_subjects\": [],\n",
    "        \"testing_tasks\": [0, 1],\n",
    "    },\n",
    "}\n",
    "\n",
    "model_config = SimpleConvConfig(\n",
    "    # Str to list of possible conditions\n",
    "    mel_normalization=False,\n",
    "    conditions={\n",
    "        \"study\": [],\n",
    "        \"subject\": [],\n",
    "    },\n",
    "    # Channels\n",
    "    in_channels=208,\n",
    "    out_channels=80,\n",
    "    hidden_dim=256,\n",
    "    dropout=0.2,\n",
    "    initial_batch_norm=True,\n",
    "    # # Sensor layout settings\n",
    "    # layout_dim=2,\n",
    "    # layout_proj=True,\n",
    "    # layout_scaling=\"minmax\",\n",
    "    # # Merger with spatial attn\n",
    "    # merger=False,\n",
    "    # merger_emb_type=None,\n",
    "    # merger_emb_dim=0,\n",
    "    # merger_channels=0,\n",
    "    # merger_dropout=0.0,  # Float\n",
    "    # merger_conditional=None,\n",
    "    # Inital\n",
    "    initial_linear=256,\n",
    "    initial_depth=1,\n",
    "    # Conditional layers\n",
    "    conditional_layers=False,\n",
    "    conditional_layers_dim=None,  # input or hidden_dim\n",
    "    # Conv layer overall structure\n",
    "    depth=4,\n",
    "    kernel_size=3,\n",
    "    growth=1.0,\n",
    "    dilation_growth=2,\n",
    "    dilation_period=5,\n",
    "    glu=1,\n",
    "    conv_dropout=0.2,\n",
    "    dropout_input=0.1,\n",
    "    batch_norm=True,\n",
    "    half=True,\n",
    "    cnn_pos_encoding=False,\n",
    "    # Quantizer\n",
    "    quantizer=False,\n",
    "    num_codebooks=0,\n",
    "    codebook_size=0,\n",
    "    quantizer_commitment=0,\n",
    "    quantizer_temp_init=0,\n",
    "    quantizer_temp_min=0,\n",
    "    quantizer_temp_decay=0,\n",
    "    # Transformers Encoders\n",
    "    transformer_input=\"continuous\",\n",
    "    transformer_encoder_emb=\"sinusoidal\",\n",
    "    transformer_encoder_layers=4,\n",
    "    transformer_encoder_heads=4,\n",
    "    # Conformer encoder variant\n",
    "    rnn_type=\"conformer\",\n",
    "    depthwise_conv_kernel_size=15,\n",
    "    use_group_norm=False,\n",
    "    convolution_first=False,\n",
    "    # Transformer Decoders\n",
    "    transformer_decoder_emb=None,\n",
    "    transformer_decoder_layers=0,\n",
    "    transformer_decoder_heads=0,\n",
    "    transformer_decoder_dim=0,\n",
    ")\n",
    "\n",
    "config = TrainingConfigV2(\n",
    "    brain_encoder_config=model_config,\n",
    "    data_partition=data_partition,\n",
    "    # Ada lora settings\n",
    "    # Around 100k total batches an epoch for gwilliams\n",
    "    use_adalora=True,\n",
    "    adalora_init_r=12,\n",
    "    adalora_target_r=4,\n",
    "    adalora_tinit=(654 * 3),  # 5% total steps\n",
    "    adalora_tfinal=(654 * 8),  # 50-80% total steps\n",
    "    adalora_deltaT=(654 * 1),  # 1-5% total steps\n",
    "    adalora_lora_alpha=32,\n",
    "    adalora_lora_dropout=0.1,\n",
    "    adalora_total_step=(654 * 50),\n",
    "    # Pre-processing parameters\n",
    "    # Brain\n",
    "    new_freq=200,\n",
    "    frequency_bands={\"all\": (0.5, 80)},\n",
    "    max_random_shift=1.0,\n",
    "    window_size=4,\n",
    "    window_stride=1,\n",
    "    brain_clipping=None,\n",
    "    baseline_window=0.5,\n",
    "    notch_filter=True,\n",
    "    scaling=\"both\",\n",
    "    delay=0.15,\n",
    "    # Audio\n",
    "    audio_model=\"openai/whisper-tiny.en\",\n",
    "    # Hyperparameters\n",
    "    learning_rate=1e-4,\n",
    "    weight_decay=1e-4,\n",
    "    epochs=50,\n",
    "    steps_per_epoch=450, # 654,\n",
    "    batch_size=128,\n",
    "    random_test_size=10,\n",
    "    seed=42,\n",
    "    mel_alignment_objectives = {\n",
    "        \"clip_loss\": 0.6,\n",
    "        \"mse_loss\": 0.4\n",
    "    },\n",
    "    latent_alignment_objectives= {\n",
    "        \"cosine_similarity\": 0.4,\n",
    "        \"mse_loss\": 0.4,\n",
    "        \"clip_loss\": 0.6,\n",
    "        \"mmd_loss\": 0.0\n",
    "    },\n",
    "    decode_timestamps=True,\n",
    ")\n",
    "\n",
    "config.brain_encoder_config.mel_normalization = False\n",
    "config.learning_rate = 3e-4\n",
    "config.batch_size = 256\n",
    "config.steps_per_epoch = 654 # 654\n",
    "config.epochs = 50\n",
    "\n",
    "config.brain_encoder_config.in_channels = 269\n",
    "config.decode_timestamps = True\n",
    "\n",
    "# Sensor layout settings\n",
    "config.brain_encoder_config.layout_dim=3\n",
    "config.brain_encoder_config.layout_proj=False\n",
    "config.brain_encoder_config.layout_scaling=\"midpoint\"\n",
    "# Merger with spatial attn\n",
    "config.brain_encoder_config.merger=True\n",
    "config.brain_encoder_config.merger_emb_type='mlp'\n",
    "config.brain_encoder_config.merger_emb_dim=1024\n",
    "config.brain_encoder_config.merger_channels=269\n",
    "config.brain_encoder_config.merger_dropout=0.1  # Float\n",
    "config.brain_encoder_config.merger_conditional=None\n",
    "config.brain_encoder_config.conditions={\n",
    "        \"study\": [],\n",
    "        # \"subject\": [],\n",
    "}\n",
    "config.brain_encoder_config.conditional_layers=True\n",
    "config.brain_encoder_config.conditional_layers_dim='input'  # input or hidden_dim\n",
    "\n",
    "# config.brain_clipping = 20\n",
    "\n",
    "# config.brain_encoder_config.hidden_dim = 1024\n",
    "# config.brain_encoder_config.initial_linear = 1024\n",
    "\n",
    "session = TrainingSessionV2(\n",
    "    config=config,\n",
    "    studies={study: \"audiotext\" for study in data_partition.keys()},\n",
    "    data_path=\"data\",\n",
    "    save_path=\"saves/phase3/combining/channel_merger_269_mlp_1024_midpoint_3D_dataset_layer\",\n",
    "    clear_cache=False,\n",
    "    cache_name=\"/home/ubuntu/cache\",\n",
    "    download_studies=True,\n",
    ")\n",
    "\n",
    "\n",
    "# session = load_training_session(\n",
    "#     save_path=\"saves/phase3/objectives/baseline_gwilliams_latent_loss_no_latent_alignment/epoch_39\",\n",
    "#     studies={\"gwilliams2023\": \"audiotext\"},\n",
    "#     data_path=\"data\",\n",
    "#     cache_name=\"/home/ubuntu/cache\",\n",
    "# )\n",
    "\n",
    "try:\n",
    "    session.train(\n",
    "        device=\"cuda\",\n",
    "        buffer_size=30,\n",
    "        num_workers=(multiprocessing.cpu_count() - 2),\n",
    "        max_cache_size=800,\n",
    "        current_epoch=0,\n",
    "    )\n",
    "except KeyboardInterrupt as e:\n",
    "    print(\"Exited\")\n",
    "\n",
    "# try:\n",
    "#     session.pre_process_all_recordings(\n",
    "#         buffer_size=30, num_workers=multiprocessing.cpu_count() - 10, max_cache_size=800\n",
    "#     )\n",
    "# except KeyboardInterrupt as e:\n",
    "#     print(\"Exited\")"
   ]
  },
  {
   "cell_type": "code",
   "execution_count": null,
   "metadata": {},
   "outputs": [],
   "source": []
  }
 ],
 "metadata": {
  "kernelspec": {
   "display_name": "brain",
   "language": "python",
   "name": "brain"
  },
  "language_info": {
   "codemirror_mode": {
    "name": "ipython",
    "version": 3
   },
   "file_extension": ".py",
   "mimetype": "text/x-python",
   "name": "python",
   "nbconvert_exporter": "python",
   "pygments_lexer": "ipython3",
   "version": "3.11.11"
  }
 },
 "nbformat": 4,
 "nbformat_minor": 4
}
