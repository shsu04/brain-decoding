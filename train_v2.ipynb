{
 "cells": [
  {
   "cell_type": "code",
   "execution_count": 1,
   "metadata": {},
   "outputs": [],
   "source": [
    "# import torch\n",
    "# import gc\n",
    "# import logging\n",
    "\n",
    "# # del session.logger\n",
    "# # del session.epoch_logger\n",
    "# # del session\n",
    "# # gc.collect()\n",
    "# # torch.cuda.empty_cache()\n",
    "\n",
    "# import multiprocessing\n",
    "# from train.training_session_v2 import TrainingSessionV2, load_training_session\n",
    "# from config import TrainingConfigV2\n",
    "# from config import SimpleConvConfig\n",
    "\n",
    "# data_partition = {\n",
    "#     \"gwilliams2023\": {\n",
    "#         \"testing_subjects\": [19, 20, 21],\n",
    "#         \"testing_tasks\": [0],\n",
    "#     },\n",
    "#     \"armeini2022\": {\n",
    "#         \"testing_subjects\": [],\n",
    "#         \"testing_tasks\": [0, 1],\n",
    "#     },\n",
    "# }\n",
    "\n",
    "# model_config = SimpleConvConfig(\n",
    "#     # Str to list of possible conditions\n",
    "#     mel_normalization=False,\n",
    "#     conditions={\n",
    "#         \"study\": [],\n",
    "#         \"subject\": [],\n",
    "#     },\n",
    "#     # Channels\n",
    "#     in_channels=208,\n",
    "#     out_channels=80,\n",
    "#     hidden_dim=256,\n",
    "#     dropout=0.2,\n",
    "#     initial_batch_norm=True,\n",
    "#     # # Sensor layout settings\n",
    "#     # layout_dim=2,\n",
    "#     # layout_proj=True,\n",
    "#     # layout_scaling=\"minmax\",\n",
    "#     # # Merger with spatial attn\n",
    "#     # merger=False,\n",
    "#     # merger_emb_type=None,\n",
    "#     # merger_emb_dim=0,\n",
    "#     # merger_channels=0,\n",
    "#     # merger_dropout=0.0,  # Float\n",
    "#     # merger_conditional=None,\n",
    "#     # Inital\n",
    "#     initial_linear=256,\n",
    "#     initial_depth=1,\n",
    "#     # Conditional layers\n",
    "#     conditional_layers=False,\n",
    "#     conditional_layers_dim=None,  # input or hidden_dim\n",
    "#     # Conv layer overall structure\n",
    "#     depth=4,\n",
    "#     kernel_size=3,\n",
    "#     growth=1.0,\n",
    "#     dilation_growth=2,\n",
    "#     dilation_period=5,\n",
    "#     glu=1,\n",
    "#     conv_dropout=0.2,\n",
    "#     dropout_input=0.1,\n",
    "#     batch_norm=True,\n",
    "#     half=True,\n",
    "#     cnn_pos_encoding=False,\n",
    "#     # Quantizer\n",
    "#     quantizer=False,\n",
    "#     num_codebooks=0,\n",
    "#     codebook_size=0,\n",
    "#     quantizer_commitment=0,\n",
    "#     quantizer_temp_init=0,\n",
    "#     quantizer_temp_min=0,\n",
    "#     quantizer_temp_decay=0,\n",
    "#     # Transformers Encoders\n",
    "#     transformer_input=\"continuous\",\n",
    "#     transformer_encoder_emb=\"sinusoidal\",\n",
    "#     transformer_encoder_layers=4,\n",
    "#     transformer_encoder_heads=4,\n",
    "#     # Conformer encoder variant\n",
    "#     rnn_type=\"conformer\",\n",
    "#     depthwise_conv_kernel_size=15,\n",
    "#     use_group_norm=False,\n",
    "#     convolution_first=False,\n",
    "#     # Transformer Decoders\n",
    "#     transformer_decoder_emb=None,\n",
    "#     transformer_decoder_layers=0,\n",
    "#     transformer_decoder_heads=0,\n",
    "#     transformer_decoder_dim=0,\n",
    "# )\n",
    "\n",
    "# config = TrainingConfigV2(\n",
    "#     brain_encoder_config=model_config,\n",
    "#     data_partition=data_partition,\n",
    "#     # Ada lora settings\n",
    "#     # Around 100k total batches an epoch for gwilliams\n",
    "#     use_adalora=True,\n",
    "#     adalora_init_r=12,\n",
    "#     adalora_target_r=4,\n",
    "#     adalora_tinit=(654 * 3),  # 5% total steps\n",
    "#     adalora_tfinal=(654 * 8),  # 50-80% total steps\n",
    "#     adalora_deltaT=(654 * 1),  # 1-5% total steps\n",
    "#     adalora_lora_alpha=32,\n",
    "#     adalora_lora_dropout=0.1,\n",
    "#     adalora_total_step=(654 * 50),\n",
    "#     # Pre-processing parameters\n",
    "#     # Brain\n",
    "#     new_freq=200,\n",
    "#     frequency_bands={\"all\": (0.5, 80)},\n",
    "#     max_random_shift=1.0,\n",
    "#     window_size=4,\n",
    "#     window_stride=1,\n",
    "#     brain_clipping=None,\n",
    "#     baseline_window=0.5,\n",
    "#     notch_filter=True,\n",
    "#     scaling=\"both\",\n",
    "#     delay=0.15,\n",
    "#     # Audio\n",
    "#     audio_model=\"openai/whisper-tiny.en\",\n",
    "#     # Hyperparameters\n",
    "#     learning_rate=1e-4,\n",
    "#     weight_decay=1e-4,\n",
    "#     epochs=50,\n",
    "#     steps_per_epoch=450,  # 654,\n",
    "#     batch_size=128,\n",
    "#     random_test_size=10,\n",
    "#     seed=42,\n",
    "#     mel_alignment_objectives={\"clip_loss\": 0.6, \"mse_loss\": 0.4},\n",
    "#     latent_alignment_objectives={\n",
    "#         \"cosine_similarity\": 0.4,\n",
    "#         \"mse_loss\": 0.4,\n",
    "#         \"clip_loss\": 0.6,\n",
    "#         \"mmd_loss\": 0.0,\n",
    "#     },\n",
    "#     decode_timestamps=True,\n",
    "# )\n",
    "\n",
    "# config.brain_encoder_config.mel_normalization = False\n",
    "# config.learning_rate = 3e-4\n",
    "# config.batch_size = 256\n",
    "# config.steps_per_epoch = 654  # 654\n",
    "# config.epochs = 50\n",
    "\n",
    "# config.brain_encoder_config.in_channels = 269\n",
    "# config.decode_timestamps = True\n",
    "\n",
    "# # Sensor layout settings\n",
    "# config.brain_encoder_config.layout_dim = 3\n",
    "# config.brain_encoder_config.layout_proj = False\n",
    "# config.brain_encoder_config.layout_scaling = \"midpoint\"\n",
    "# # Merger with spatial attn\n",
    "# config.brain_encoder_config.merger = True\n",
    "# config.brain_encoder_config.merger_emb_type = \"mlp\"\n",
    "# config.brain_encoder_config.merger_emb_dim = 1024\n",
    "# config.brain_encoder_config.merger_channels = 269\n",
    "# config.brain_encoder_config.merger_dropout = 0.1  # Float\n",
    "# config.brain_encoder_config.merger_conditional == {\n",
    "#     \"study\": [],\n",
    "#     # \"subject\": [],\n",
    "# }\n",
    "# config.brain_encoder_config.conditions = {\n",
    "#     \"study\": [],\n",
    "#     # \"subject\": [],\n",
    "# }\n",
    "# config.brain_encoder_config.conditional_layers = False\n",
    "# config.brain_encoder_config.conditional_layers_dim = \"input\"  # input or hidden_dim\n",
    "\n",
    "# # config.brain_clipping = 20\n",
    "\n",
    "# # config.brain_encoder_config.hidden_dim = 1024\n",
    "# # config.brain_encoder_config.initial_linear = 1024\n",
    "\n",
    "# session = TrainingSessionV2(\n",
    "#     config=config,\n",
    "#     studies={study: \"audiotext\" for study in data_partition.keys()},\n",
    "#     data_path=\"data\",\n",
    "#     save_path=\"saves/phase3/combining/channel_merger_269_mlp_1024_midpoint_3D_dataset_head\",\n",
    "#     clear_cache=False,\n",
    "#     cache_name=\"/home/ubuntu/cache\",\n",
    "#     download_studies=True,\n",
    "# )\n",
    "\n",
    "\n",
    "# # session = load_training_session(\n",
    "# #     save_path=\"saves/phase3/objectives/baseline_gwilliams_latent_loss_no_latent_alignment/epoch_39\",\n",
    "# #     studies={\"gwilliams2023\": \"audiotext\"},\n",
    "# #     data_path=\"data\",\n",
    "# #     cache_name=\"/home/ubuntu/cache\",\n",
    "# # )\n",
    "\n",
    "# try:\n",
    "#     session.train(\n",
    "#         device=\"cuda\",\n",
    "#         buffer_size=30,\n",
    "#         num_workers=(multiprocessing.cpu_count() - 2),\n",
    "#         max_cache_size=800,\n",
    "#         current_epoch=0,\n",
    "#     )\n",
    "# except KeyboardInterrupt as e:\n",
    "#     print(\"Exited\")\n",
    "\n",
    "# # try:\n",
    "# #     session.pre_process_all_recordings(\n",
    "# #         buffer_size=30, num_workers=multiprocessing.cpu_count() - 10, max_cache_size=800\n",
    "# #     )\n",
    "# # except KeyboardInterrupt as e:\n",
    "# #     print(\"Exited\")"
   ]
  },
  {
   "cell_type": "code",
   "execution_count": 4,
   "metadata": {},
   "outputs": [
    {
     "name": "stdout",
     "output_type": "stream",
     "text": [
      "Loading Gwilliams2023 with batch type audiotext\n",
      "Data partitioned on studies ['gwilliams2023'].\n",
      "Train: 135, Unseen Task: 45, Unseen Subject: 12, Unseen Both: 4.\n",
      "\n",
      "RNNEncoder initialized as conformer with 4 layers, 256 d_model, 4 nhead\n",
      "\tEmbedding: sinusoidal, params: 6075392\n",
      "SimpleConv initialized with 10196720 parameters, cond: ['study', 'subject']\n",
      "Merger True, merger channels 208\n",
      "ConvBlocks: 4, hidden_dim: 256, params 2626048\n",
      "Using symmetric loss\n",
      "Using torch.bfloat16\n",
      "Found 64 target modules for AdaLora: ['model.encoder.layers.0.self_attn.k_proj', 'model.encoder.layers.0.self_attn.v_proj', 'model.encoder.layers.0.self_attn.q_proj', 'model.encoder.layers.0.self_attn.out_proj', 'model.encoder.layers.0.fc1', 'model.encoder.layers.0.fc2', 'model.encoder.layers.1.self_attn.k_proj', 'model.encoder.layers.1.self_attn.v_proj', 'model.encoder.layers.1.self_attn.q_proj', 'model.encoder.layers.1.self_attn.out_proj', 'model.encoder.layers.1.fc1', 'model.encoder.layers.1.fc2', 'model.encoder.layers.2.self_attn.k_proj', 'model.encoder.layers.2.self_attn.v_proj', 'model.encoder.layers.2.self_attn.q_proj', 'model.encoder.layers.2.self_attn.out_proj', 'model.encoder.layers.2.fc1', 'model.encoder.layers.2.fc2', 'model.encoder.layers.3.self_attn.k_proj', 'model.encoder.layers.3.self_attn.v_proj', 'model.encoder.layers.3.self_attn.q_proj', 'model.encoder.layers.3.self_attn.out_proj', 'model.encoder.layers.3.fc1', 'model.encoder.layers.3.fc2', 'model.decoder.layers.0.self_attn.k_proj', 'model.decoder.layers.0.self_attn.v_proj', 'model.decoder.layers.0.self_attn.q_proj', 'model.decoder.layers.0.self_attn.out_proj', 'model.decoder.layers.0.encoder_attn.k_proj', 'model.decoder.layers.0.encoder_attn.v_proj', 'model.decoder.layers.0.encoder_attn.q_proj', 'model.decoder.layers.0.encoder_attn.out_proj', 'model.decoder.layers.0.fc1', 'model.decoder.layers.0.fc2', 'model.decoder.layers.1.self_attn.k_proj', 'model.decoder.layers.1.self_attn.v_proj', 'model.decoder.layers.1.self_attn.q_proj', 'model.decoder.layers.1.self_attn.out_proj', 'model.decoder.layers.1.encoder_attn.k_proj', 'model.decoder.layers.1.encoder_attn.v_proj', 'model.decoder.layers.1.encoder_attn.q_proj', 'model.decoder.layers.1.encoder_attn.out_proj', 'model.decoder.layers.1.fc1', 'model.decoder.layers.1.fc2', 'model.decoder.layers.2.self_attn.k_proj', 'model.decoder.layers.2.self_attn.v_proj', 'model.decoder.layers.2.self_attn.q_proj', 'model.decoder.layers.2.self_attn.out_proj', 'model.decoder.layers.2.encoder_attn.k_proj', 'model.decoder.layers.2.encoder_attn.v_proj', 'model.decoder.layers.2.encoder_attn.q_proj', 'model.decoder.layers.2.encoder_attn.out_proj', 'model.decoder.layers.2.fc1', 'model.decoder.layers.2.fc2', 'model.decoder.layers.3.self_attn.k_proj', 'model.decoder.layers.3.self_attn.v_proj', 'model.decoder.layers.3.self_attn.q_proj', 'model.decoder.layers.3.self_attn.out_proj', 'model.decoder.layers.3.encoder_attn.k_proj', 'model.decoder.layers.3.encoder_attn.v_proj', 'model.decoder.layers.3.encoder_attn.q_proj', 'model.decoder.layers.3.encoder_attn.out_proj', 'model.decoder.layers.3.fc1', 'model.decoder.layers.3.fc2']\n",
      "Using symmetric loss\n",
      "openai/whisper-tiny.en loaded with total params = 38572096. 811776 are trainable.\n"
     ]
    },
    {
     "name": "stderr",
     "output_type": "stream",
     "text": [
      "Training Epoch 1: 100%|██████████| 135/135 [15:31<00:00,  6.90s/it]\n"
     ]
    },
    {
     "data": {
      "application/vnd.jupyter.widget-view+json": {
       "model_id": "29fda86eff5e4e0cbfcb8846cd9e2329",
       "version_major": 2,
       "version_minor": 0
      },
      "text/plain": [
       "tokenizer_config.json:   0%|          | 0.00/48.0 [00:00<?, ?B/s]"
      ]
     },
     "metadata": {},
     "output_type": "display_data"
    },
    {
     "data": {
      "application/vnd.jupyter.widget-view+json": {
       "model_id": "5a41cf55e00040e387a49103d7f9d5c8",
       "version_major": 2,
       "version_minor": 0
      },
      "text/plain": [
       "config.json:   0%|          | 0.00/570 [00:00<?, ?B/s]"
      ]
     },
     "metadata": {},
     "output_type": "display_data"
    },
    {
     "data": {
      "application/vnd.jupyter.widget-view+json": {
       "model_id": "5b86a43e46d44114a2f651e50d230562",
       "version_major": 2,
       "version_minor": 0
      },
      "text/plain": [
       "vocab.txt:   0%|          | 0.00/232k [00:00<?, ?B/s]"
      ]
     },
     "metadata": {},
     "output_type": "display_data"
    },
    {
     "data": {
      "application/vnd.jupyter.widget-view+json": {
       "model_id": "e2c609e2280542a48a65713f66b5c15c",
       "version_major": 2,
       "version_minor": 0
      },
      "text/plain": [
       "tokenizer.json:   0%|          | 0.00/466k [00:00<?, ?B/s]"
      ]
     },
     "metadata": {},
     "output_type": "display_data"
    },
    {
     "data": {
      "application/vnd.jupyter.widget-view+json": {
       "model_id": "853d0fc9118b4697a4b10015dc9dbc77",
       "version_major": 2,
       "version_minor": 0
      },
      "text/plain": [
       "model.safetensors:   0%|          | 0.00/440M [00:00<?, ?B/s]"
      ]
     },
     "metadata": {},
     "output_type": "display_data"
    },
    {
     "name": "stdout",
     "output_type": "stream",
     "text": [
      "Testing done in 2.51m.\n",
      "Epoch 1 done in 18.03m. 0.13m/recording.\n",
      "\n",
      "\n",
      "New best epoch 1 with CER 0.9655 and BLEU 0.0006.\n",
      "Mel Loss: 6.2068, Clip Loss: 9.4821, MSE: 1.2940\n",
      "Mel accuracy: 0.0047, Top 5: 0.0234, Top 10: 0.0463\n"
     ]
    },
    {
     "name": "stderr",
     "output_type": "stream",
     "text": [
      "Training Epoch 2: 100%|██████████| 135/135 [12:48<00:00,  5.69s/it]\n"
     ]
    },
    {
     "name": "stdout",
     "output_type": "stream",
     "text": [
      "Testing done in 2.44m.\n",
      "Epoch 2 done in 15.25m. 0.11m/recording.\n",
      "\n",
      "\n",
      "New best epoch 2 with CER 0.9469 and BLEU 0.0024.\n",
      "Mel Loss: 5.8648, Clip Loss: 9.4818, MSE: 0.4393\n",
      "Mel accuracy: 0.0047, Top 5: 0.0235, Top 10: 0.0473\n"
     ]
    },
    {
     "name": "stderr",
     "output_type": "stream",
     "text": [
      "Training Epoch 3: 100%|██████████| 135/135 [12:43<00:00,  5.65s/it]\n"
     ]
    },
    {
     "name": "stdout",
     "output_type": "stream",
     "text": [
      "Testing done in 2.75m.\n",
      "Epoch 3 done in 15.47m. 0.11m/recording.\n",
      "\n",
      "\n",
      "New best epoch 3 with CER 0.9222 and BLEU 0.0093.\n",
      "Mel Loss: 5.7889, Clip Loss: 9.4808, MSE: 0.2509\n",
      "Mel accuracy: 0.0052, Top 5: 0.0250, Top 10: 0.0492\n"
     ]
    },
    {
     "name": "stderr",
     "output_type": "stream",
     "text": [
      "Training Epoch 4:   0%|          | 0/135 [00:00<?, ?it/s]"
     ]
    },
    {
     "name": "stdout",
     "output_type": "stream",
     "text": [
      "Starting rank reallocation at recording 1350.\n"
     ]
    },
    {
     "name": "stderr",
     "output_type": "stream",
     "text": [
      "Training Epoch 4: 100%|██████████| 135/135 [12:47<00:00,  5.69s/it]\n"
     ]
    },
    {
     "name": "stdout",
     "output_type": "stream",
     "text": [
      "Testing done in 2.67m.\n",
      "Epoch 4 done in 15.47m. 0.11m/recording.\n"
     ]
    },
    {
     "name": "stderr",
     "output_type": "stream",
     "text": [
      "Training Epoch 5: 100%|██████████| 135/135 [12:46<00:00,  5.68s/it]\n"
     ]
    },
    {
     "name": "stdout",
     "output_type": "stream",
     "text": [
      "Testing done in 2.55m.\n",
      "Epoch 5 done in 15.33m. 0.11m/recording.\n"
     ]
    },
    {
     "name": "stderr",
     "output_type": "stream",
     "text": [
      "Training Epoch 6: 100%|██████████| 135/135 [12:46<00:00,  5.68s/it]\n"
     ]
    },
    {
     "name": "stdout",
     "output_type": "stream",
     "text": [
      "Testing done in 2.87m.\n",
      "Epoch 6 done in 15.64m. 0.12m/recording.\n"
     ]
    },
    {
     "name": "stderr",
     "output_type": "stream",
     "text": [
      "Training Epoch 7: 100%|██████████| 135/135 [12:51<00:00,  5.71s/it]\n"
     ]
    },
    {
     "name": "stdout",
     "output_type": "stream",
     "text": [
      "Testing done in 3.03m.\n",
      "Epoch 7 done in 15.88m. 0.12m/recording.\n",
      "\n",
      "\n",
      "New best epoch 7 with CER 0.9226 and BLEU 0.0112.\n",
      "Mel Loss: 5.7184, Clip Loss: 9.3926, MSE: 0.2072\n",
      "Mel accuracy: 0.0725, Top 5: 0.2051, Top 10: 0.3019\n"
     ]
    },
    {
     "name": "stderr",
     "output_type": "stream",
     "text": [
      "Training Epoch 8: 100%|██████████| 135/135 [12:48<00:00,  5.69s/it]\n"
     ]
    },
    {
     "name": "stdout",
     "output_type": "stream",
     "text": [
      "Testing done in 3.10m.\n",
      "Epoch 8 done in 15.91m. 0.12m/recording.\n",
      "\n",
      "\n",
      "New best epoch 8 with CER 0.9357 and BLEU 0.0127.\n",
      "Mel Loss: 5.7052, Clip Loss: 9.3722, MSE: 0.2047\n",
      "Mel accuracy: 0.0928, Top 5: 0.2495, Top 10: 0.3548\n"
     ]
    },
    {
     "name": "stderr",
     "output_type": "stream",
     "text": [
      "Training Epoch 9: 100%|██████████| 135/135 [12:50<00:00,  5.71s/it]\n"
     ]
    },
    {
     "name": "stdout",
     "output_type": "stream",
     "text": [
      "Testing done in 3.05m.\n",
      "Epoch 9 done in 15.89m. 0.12m/recording.\n",
      "\n",
      "\n",
      "New best epoch 9 with CER 0.9336 and BLEU 0.0112.\n",
      "Mel Loss: 5.6975, Clip Loss: 9.3614, MSE: 0.2018\n",
      "Mel accuracy: 0.1040, Top 5: 0.2722, Top 10: 0.3801\n"
     ]
    },
    {
     "name": "stderr",
     "output_type": "stream",
     "text": [
      "Training Epoch 10: 100%|██████████| 135/135 [12:48<00:00,  5.69s/it]\n"
     ]
    },
    {
     "name": "stdout",
     "output_type": "stream",
     "text": [
      "Testing done in 3.22m.\n",
      "Epoch 10 done in 16.04m. 0.12m/recording.\n",
      "\n",
      "\n",
      "New best epoch 10 with CER 0.9414 and BLEU 0.0125.\n",
      "Mel Loss: 5.6923, Clip Loss: 9.3542, MSE: 0.1993\n",
      "Mel accuracy: 0.1142, Top 5: 0.2864, Top 10: 0.3961\n"
     ]
    },
    {
     "name": "stderr",
     "output_type": "stream",
     "text": [
      "Training Epoch 11: 100%|██████████| 135/135 [12:45<00:00,  5.67s/it]\n"
     ]
    },
    {
     "name": "stdout",
     "output_type": "stream",
     "text": [
      "Testing done in 3.39m.\n",
      "Epoch 11 done in 16.15m. 0.12m/recording.\n",
      "\n",
      "\n",
      "New best epoch 11 with CER 0.9831 and BLEU 0.0132.\n",
      "Mel Loss: 5.6790, Clip Loss: 9.3334, MSE: 0.1973\n",
      "Mel accuracy: 0.1332, Top 5: 0.3252, Top 10: 0.4376\n"
     ]
    },
    {
     "name": "stderr",
     "output_type": "stream",
     "text": [
      "Training Epoch 12: 100%|██████████| 135/135 [12:44<00:00,  5.67s/it]\n"
     ]
    },
    {
     "name": "stdout",
     "output_type": "stream",
     "text": [
      "Testing done in 2.97m.\n",
      "Epoch 12 done in 15.72m. 0.12m/recording.\n",
      "\n",
      "\n",
      "New best epoch 12 with CER 0.9151 and BLEU 0.0084.\n",
      "Mel Loss: 5.6666, Clip Loss: 9.3150, MSE: 0.1942\n",
      "Mel accuracy: 0.1533, Top 5: 0.3573, Top 10: 0.4736\n"
     ]
    },
    {
     "name": "stderr",
     "output_type": "stream",
     "text": [
      "Training Epoch 13: 100%|██████████| 135/135 [12:44<00:00,  5.66s/it]\n"
     ]
    },
    {
     "name": "stdout",
     "output_type": "stream",
     "text": [
      "Testing done in 2.83m.\n",
      "Epoch 13 done in 15.57m. 0.12m/recording.\n",
      "\n",
      "\n",
      "New best epoch 13 with CER 0.9106 and BLEU 0.0065.\n",
      "Mel Loss: 5.6620, Clip Loss: 9.3076, MSE: 0.1935\n",
      "Mel accuracy: 0.1601, Top 5: 0.3695, Top 10: 0.4841\n"
     ]
    },
    {
     "name": "stderr",
     "output_type": "stream",
     "text": [
      "Training Epoch 14: 100%|██████████| 135/135 [12:43<00:00,  5.66s/it]\n"
     ]
    },
    {
     "name": "stdout",
     "output_type": "stream",
     "text": [
      "Testing done in 3.35m.\n",
      "Epoch 14 done in 16.08m. 0.12m/recording.\n",
      "\n",
      "\n",
      "New best epoch 14 with CER 0.9573 and BLEU 0.0110.\n",
      "Mel Loss: 5.6591, Clip Loss: 9.3035, MSE: 0.1925\n",
      "Mel accuracy: 0.1631, Top 5: 0.3767, Top 10: 0.4943\n"
     ]
    },
    {
     "name": "stderr",
     "output_type": "stream",
     "text": [
      "Training Epoch 15: 100%|██████████| 135/135 [12:43<00:00,  5.66s/it]\n"
     ]
    },
    {
     "name": "stdout",
     "output_type": "stream",
     "text": [
      "Testing done in 2.82m.\n",
      "Epoch 15 done in 15.55m. 0.12m/recording.\n",
      "\n",
      "\n",
      "New best epoch 15 with CER 0.9077 and BLEU 0.0089.\n",
      "Mel Loss: 5.6488, Clip Loss: 9.2880, MSE: 0.1900\n",
      "Mel accuracy: 0.1828, Top 5: 0.4055, Top 10: 0.5260\n"
     ]
    },
    {
     "name": "stderr",
     "output_type": "stream",
     "text": [
      "Training Epoch 16: 100%|██████████| 135/135 [12:45<00:00,  5.67s/it]\n"
     ]
    },
    {
     "name": "stdout",
     "output_type": "stream",
     "text": [
      "Testing done in 2.77m.\n",
      "Epoch 16 done in 15.53m. 0.12m/recording.\n"
     ]
    },
    {
     "name": "stderr",
     "output_type": "stream",
     "text": [
      "Training Epoch 17: 100%|██████████| 135/135 [12:45<00:00,  5.67s/it]\n"
     ]
    },
    {
     "name": "stdout",
     "output_type": "stream",
     "text": [
      "Testing done in 3.02m.\n",
      "Epoch 17 done in 15.78m. 0.12m/recording.\n",
      "\n",
      "\n",
      "New best epoch 17 with CER 0.9244 and BLEU 0.0114.\n",
      "Mel Loss: 5.6418, Clip Loss: 9.2766, MSE: 0.1895\n",
      "Mel accuracy: 0.1955, Top 5: 0.4235, Top 10: 0.5415\n"
     ]
    },
    {
     "name": "stderr",
     "output_type": "stream",
     "text": [
      "Training Epoch 18: 100%|██████████| 135/135 [12:48<00:00,  5.69s/it]\n"
     ]
    },
    {
     "name": "stdout",
     "output_type": "stream",
     "text": [
      "Testing done in 2.95m.\n",
      "Epoch 18 done in 15.77m. 0.12m/recording.\n"
     ]
    },
    {
     "name": "stderr",
     "output_type": "stream",
     "text": [
      "Training Epoch 19: 100%|██████████| 135/135 [12:44<00:00,  5.66s/it]\n"
     ]
    },
    {
     "name": "stdout",
     "output_type": "stream",
     "text": [
      "Testing done in 2.98m.\n",
      "Epoch 19 done in 15.73m. 0.12m/recording.\n",
      "\n",
      "\n",
      "New best epoch 19 with CER 0.9108 and BLEU 0.0099.\n",
      "Mel Loss: 5.6298, Clip Loss: 9.2592, MSE: 0.1857\n",
      "Mel accuracy: 0.2129, Top 5: 0.4540, Top 10: 0.5725\n"
     ]
    },
    {
     "name": "stderr",
     "output_type": "stream",
     "text": [
      "Training Epoch 20: 100%|██████████| 135/135 [12:46<00:00,  5.68s/it]\n"
     ]
    },
    {
     "name": "stdout",
     "output_type": "stream",
     "text": [
      "Testing done in 2.91m.\n",
      "Epoch 20 done in 15.68m. 0.12m/recording.\n"
     ]
    },
    {
     "name": "stderr",
     "output_type": "stream",
     "text": [
      "Training Epoch 21: 100%|██████████| 135/135 [12:45<00:00,  5.67s/it]\n"
     ]
    },
    {
     "name": "stdout",
     "output_type": "stream",
     "text": [
      "Testing done in 3.08m.\n",
      "Epoch 21 done in 15.84m. 0.12m/recording.\n"
     ]
    },
    {
     "name": "stderr",
     "output_type": "stream",
     "text": [
      "Training Epoch 22: 100%|██████████| 135/135 [12:46<00:00,  5.68s/it]\n"
     ]
    },
    {
     "name": "stdout",
     "output_type": "stream",
     "text": [
      "Testing done in 2.84m.\n",
      "Epoch 22 done in 15.62m. 0.12m/recording.\n"
     ]
    },
    {
     "name": "stderr",
     "output_type": "stream",
     "text": [
      "Training Epoch 23: 100%|██████████| 135/135 [12:39<00:00,  5.63s/it]\n"
     ]
    },
    {
     "name": "stdout",
     "output_type": "stream",
     "text": [
      "Testing done in 2.98m.\n",
      "Epoch 23 done in 15.64m. 0.12m/recording.\n"
     ]
    },
    {
     "name": "stderr",
     "output_type": "stream",
     "text": [
      "Training Epoch 24: 100%|██████████| 135/135 [12:44<00:00,  5.66s/it]\n"
     ]
    },
    {
     "name": "stdout",
     "output_type": "stream",
     "text": [
      "Testing done in 2.78m.\n",
      "Epoch 24 done in 15.52m. 0.11m/recording.\n",
      "\n",
      "\n",
      "New best epoch 24 with CER 0.9066 and BLEU 0.0067.\n",
      "Mel Loss: 5.5949, Clip Loss: 9.2062, MSE: 0.1779\n",
      "Mel accuracy: 0.2712, Top 5: 0.5349, Top 10: 0.6537\n"
     ]
    },
    {
     "name": "stderr",
     "output_type": "stream",
     "text": [
      "Training Epoch 25: 100%|██████████| 135/135 [12:43<00:00,  5.66s/it]\n"
     ]
    },
    {
     "name": "stdout",
     "output_type": "stream",
     "text": [
      "Testing done in 2.81m.\n",
      "Epoch 25 done in 15.53m. 0.12m/recording.\n",
      "\n",
      "\n",
      "New best epoch 25 with CER 0.9099 and BLEU 0.0068.\n",
      "Mel Loss: 5.5915, Clip Loss: 9.2007, MSE: 0.1777\n",
      "Mel accuracy: 0.2769, Top 5: 0.5443, Top 10: 0.6617\n"
     ]
    },
    {
     "name": "stderr",
     "output_type": "stream",
     "text": [
      "Training Epoch 26: 100%|██████████| 135/135 [12:46<00:00,  5.68s/it]\n"
     ]
    },
    {
     "name": "stdout",
     "output_type": "stream",
     "text": [
      "Testing done in 2.84m.\n",
      "Epoch 26 done in 15.62m. 0.12m/recording.\n",
      "\n",
      "\n",
      "New best epoch 26 with CER 0.9092 and BLEU 0.0059.\n",
      "Mel Loss: 5.5818, Clip Loss: 9.1863, MSE: 0.1750\n",
      "Mel accuracy: 0.2913, Top 5: 0.5674, Top 10: 0.6842\n"
     ]
    },
    {
     "name": "stderr",
     "output_type": "stream",
     "text": [
      "Training Epoch 27: 100%|██████████| 135/135 [12:46<00:00,  5.68s/it]\n"
     ]
    },
    {
     "name": "stdout",
     "output_type": "stream",
     "text": [
      "Testing done in 2.60m.\n",
      "Epoch 27 done in 15.38m. 0.11m/recording.\n",
      "\n",
      "\n",
      "New best epoch 27 with CER 0.9064 and BLEU 0.0058.\n",
      "Mel Loss: 5.5702, Clip Loss: 9.1683, MSE: 0.1731\n",
      "Mel accuracy: 0.3131, Top 5: 0.5923, Top 10: 0.7090\n"
     ]
    },
    {
     "name": "stderr",
     "output_type": "stream",
     "text": [
      "Training Epoch 28: 100%|██████████| 135/135 [12:46<00:00,  5.67s/it]\n"
     ]
    },
    {
     "name": "stdout",
     "output_type": "stream",
     "text": [
      "Testing done in 2.90m.\n",
      "Epoch 28 done in 15.67m. 0.12m/recording.\n",
      "\n",
      "\n",
      "New best epoch 28 with CER 0.9132 and BLEU 0.0066.\n",
      "Mel Loss: 5.5643, Clip Loss: 9.1591, MSE: 0.1721\n",
      "Mel accuracy: 0.3196, Top 5: 0.6061, Top 10: 0.7211\n"
     ]
    },
    {
     "name": "stderr",
     "output_type": "stream",
     "text": [
      "Training Epoch 29: 100%|██████████| 135/135 [12:50<00:00,  5.70s/it]\n"
     ]
    },
    {
     "name": "stdout",
     "output_type": "stream",
     "text": [
      "Testing done in 2.86m.\n",
      "Epoch 29 done in 15.69m. 0.12m/recording.\n"
     ]
    },
    {
     "name": "stderr",
     "output_type": "stream",
     "text": [
      "Training Epoch 30: 100%|██████████| 135/135 [12:44<00:00,  5.66s/it]\n"
     ]
    },
    {
     "name": "stdout",
     "output_type": "stream",
     "text": [
      "Testing done in 2.79m.\n",
      "Epoch 30 done in 15.53m. 0.12m/recording.\n"
     ]
    },
    {
     "name": "stderr",
     "output_type": "stream",
     "text": [
      "Training Epoch 31: 100%|██████████| 135/135 [12:44<00:00,  5.67s/it]\n"
     ]
    },
    {
     "name": "stdout",
     "output_type": "stream",
     "text": [
      "Testing done in 2.86m.\n",
      "Epoch 31 done in 15.61m. 0.12m/recording.\n"
     ]
    },
    {
     "name": "stderr",
     "output_type": "stream",
     "text": [
      "Training Epoch 32: 100%|██████████| 135/135 [12:43<00:00,  5.66s/it]\n"
     ]
    },
    {
     "name": "stdout",
     "output_type": "stream",
     "text": [
      "Testing done in 2.82m.\n",
      "Epoch 32 done in 15.55m. 0.12m/recording.\n"
     ]
    },
    {
     "name": "stderr",
     "output_type": "stream",
     "text": [
      "Training Epoch 33: 100%|██████████| 135/135 [12:46<00:00,  5.68s/it]\n"
     ]
    },
    {
     "name": "stdout",
     "output_type": "stream",
     "text": [
      "Testing done in 3.07m.\n",
      "Epoch 33 done in 15.85m. 0.12m/recording.\n"
     ]
    },
    {
     "name": "stderr",
     "output_type": "stream",
     "text": [
      "Training Epoch 34: 100%|██████████| 135/135 [12:46<00:00,  5.68s/it]\n"
     ]
    },
    {
     "name": "stdout",
     "output_type": "stream",
     "text": [
      "Testing done in 2.86m.\n",
      "Epoch 34 done in 15.63m. 0.12m/recording.\n"
     ]
    },
    {
     "name": "stderr",
     "output_type": "stream",
     "text": [
      "Training Epoch 35: 100%|██████████| 135/135 [12:46<00:00,  5.68s/it]\n"
     ]
    },
    {
     "name": "stdout",
     "output_type": "stream",
     "text": [
      "Testing done in 2.97m.\n",
      "Epoch 35 done in 15.74m. 0.12m/recording.\n"
     ]
    },
    {
     "name": "stderr",
     "output_type": "stream",
     "text": [
      "Training Epoch 36: 100%|██████████| 135/135 [12:47<00:00,  5.69s/it]\n"
     ]
    },
    {
     "name": "stdout",
     "output_type": "stream",
     "text": [
      "Testing done in 2.95m.\n",
      "Epoch 36 done in 15.75m. 0.12m/recording.\n"
     ]
    },
    {
     "name": "stderr",
     "output_type": "stream",
     "text": [
      "Training Epoch 37: 100%|██████████| 135/135 [12:46<00:00,  5.68s/it]\n"
     ]
    },
    {
     "name": "stdout",
     "output_type": "stream",
     "text": [
      "Testing done in 2.97m.\n",
      "Epoch 37 done in 15.75m. 0.12m/recording.\n"
     ]
    },
    {
     "name": "stderr",
     "output_type": "stream",
     "text": [
      "Training Epoch 38: 100%|██████████| 135/135 [12:45<00:00,  5.67s/it]\n"
     ]
    },
    {
     "name": "stdout",
     "output_type": "stream",
     "text": [
      "Testing done in 2.90m.\n",
      "Epoch 38 done in 15.66m. 0.12m/recording.\n"
     ]
    },
    {
     "name": "stderr",
     "output_type": "stream",
     "text": [
      "Training Epoch 39: 100%|██████████| 135/135 [12:49<00:00,  5.70s/it]\n"
     ]
    },
    {
     "name": "stdout",
     "output_type": "stream",
     "text": [
      "Testing done in 2.84m.\n",
      "Epoch 39 done in 15.66m. 0.12m/recording.\n",
      "Early stopping at epoch 39. Highest metrics at epoch 28.\n",
      "\n",
      "\n",
      "Training completed. Highest epoch at 28.\n",
      "\n",
      "\n",
      "Test unseen_subject at epoch 28. Mel Loss: 5.6972, Clip Loss: 9.3712, MSE: 0.1861\n",
      "Mel accuracy: 0.1161, Top 5: 0.2841, Top 10: 0.3786\n",
      "BLEU: 0.0054, ROUGE-1: 0.0899, BERT: 0.3943, CER: 0.9393, SELF-BLEU: 0.2424\n",
      "\n",
      "\n",
      "Test unseen_task at epoch 28. Mel Loss: 5.7282, Clip Loss: 9.4264, MSE: 0.1809\n",
      "Mel accuracy: 0.1088, Top 5: 0.2645, Top 10: 0.3668\n",
      "BLEU: 0.0071, ROUGE-1: 0.0971, BERT: 0.4013, CER: 0.9025, SELF-BLEU: 0.2389\n",
      "\n",
      "\n",
      "Test unseen_both at epoch 28. Mel Loss: 5.7283, Clip Loss: 9.4273, MSE: 0.1797\n",
      "Mel accuracy: 0.1108, Top 5: 0.2365, Top 10: 0.3350\n",
      "BLEU: 0.0073, ROUGE-1: 0.1015, BERT: 0.3989, CER: 0.8977, SELF-BLEU: 0.2407\n"
     ]
    }
   ],
   "source": [
    "import torch\n",
    "import gc\n",
    "import logging\n",
    "\n",
    "# del session.logger\n",
    "# del session.epoch_logger\n",
    "# del session\n",
    "# gc.collect()\n",
    "# torch.cuda.empty_cache()\n",
    "\n",
    "import multiprocessing\n",
    "from train.training_session_v2 import TrainingSessionV2, load_training_session\n",
    "from config import TrainingConfigV2\n",
    "from config import SimpleConvConfig\n",
    "\n",
    "data_partition = {\n",
    "    \"gwilliams2023\": {\n",
    "        \"testing_subjects\": [19, 20, 21],\n",
    "        \"testing_tasks\": [0],\n",
    "    },\n",
    "    # \"armeini2022\": {\n",
    "    #     \"testing_subjects\": [],\n",
    "    #     \"testing_tasks\": [0, 1],\n",
    "    # },\n",
    "}\n",
    "\n",
    "model_config = SimpleConvConfig(\n",
    "    # Str to list of possible conditions\n",
    "    mel_normalization=False,\n",
    "    conditions={\n",
    "        \"study\": [],\n",
    "        \"subject\": [],\n",
    "    },\n",
    "    # Channels\n",
    "    in_channels=208,\n",
    "    out_channels=80,\n",
    "    hidden_dim=256,\n",
    "    dropout=0.2,\n",
    "    initial_batch_norm=True,\n",
    "    # # Sensor layout settings\n",
    "    # layout_dim=2,\n",
    "    # layout_proj=True,\n",
    "    # layout_scaling=\"minmax\",\n",
    "    # # Merger with spatial attn\n",
    "    # merger=False,\n",
    "    # merger_emb_type=None,\n",
    "    # merger_emb_dim=0,\n",
    "    # merger_channels=0,\n",
    "    # merger_dropout=0.0,  # Float\n",
    "    # merger_conditional=None,\n",
    "    # Inital\n",
    "    initial_linear=256,\n",
    "    initial_depth=1,\n",
    "    # Conditional layers\n",
    "    conditional_layers=False,\n",
    "    conditional_layers_dim=None,  # input or hidden_dim\n",
    "    # Conv layer overall structure\n",
    "    depth=4,\n",
    "    kernel_size=3,\n",
    "    growth=1.0,\n",
    "    dilation_growth=2,\n",
    "    dilation_period=5,\n",
    "    glu=1,\n",
    "    conv_dropout=0.2,\n",
    "    dropout_input=0.1,\n",
    "    batch_norm=True,\n",
    "    half=True,\n",
    "    cnn_pos_encoding=False,\n",
    "    # Quantizer\n",
    "    quantizer=False,\n",
    "    num_codebooks=0,\n",
    "    codebook_size=0,\n",
    "    quantizer_commitment=0,\n",
    "    quantizer_temp_init=0,\n",
    "    quantizer_temp_min=0,\n",
    "    quantizer_temp_decay=0,\n",
    "    # Transformers Encoders\n",
    "    transformer_input=\"continuous\",\n",
    "    transformer_encoder_emb=\"sinusoidal\",\n",
    "    transformer_encoder_layers=4,\n",
    "    transformer_encoder_heads=4,\n",
    "    # Conformer encoder variant\n",
    "    rnn_type=\"conformer\",\n",
    "    depthwise_conv_kernel_size=15,\n",
    "    use_group_norm=False,\n",
    "    convolution_first=False,\n",
    "    # Transformer Decoders\n",
    "    transformer_decoder_emb=None,\n",
    "    transformer_decoder_layers=0,\n",
    "    transformer_decoder_heads=0,\n",
    "    transformer_decoder_dim=0,\n",
    ")\n",
    "\n",
    "config = TrainingConfigV2(\n",
    "    brain_encoder_config=model_config,\n",
    "    data_partition=data_partition,\n",
    "    # Ada lora settings\n",
    "    # Around 100k total batches an epoch for gwilliams\n",
    "    use_adalora=True,\n",
    "    adalora_init_r=12,\n",
    "    adalora_target_r=4,\n",
    "    adalora_tinit=(450 * 3),  # 5% total steps\n",
    "    adalora_tfinal=(450 * 8),  # 50-80% total steps\n",
    "    adalora_deltaT=(450 * 1),  # 1-5% total steps\n",
    "    adalora_lora_alpha=32,\n",
    "    adalora_lora_dropout=0.1,\n",
    "    adalora_total_step=(450 * 50),\n",
    "    # Pre-processing parameters\n",
    "    # Brain\n",
    "    new_freq=200,\n",
    "    frequency_bands={\"all\": (0.5, 80)},\n",
    "    max_random_shift=1.0,\n",
    "    window_size=4,\n",
    "    window_stride=1,\n",
    "    brain_clipping=None,\n",
    "    baseline_window=0.5,\n",
    "    notch_filter=True,\n",
    "    scaling=\"both\",\n",
    "    delay=0.15,\n",
    "    # Audio\n",
    "    audio_model=\"openai/whisper-tiny.en\",\n",
    "    # Hyperparameters\n",
    "    learning_rate=1e-4,\n",
    "    weight_decay=1e-4,\n",
    "    epochs=50,\n",
    "    steps_per_epoch=450,  # 654,\n",
    "    batch_size=128,\n",
    "    random_test_size=10,\n",
    "    seed=42,\n",
    "    mel_alignment_objectives={\"clip_loss\": 0.6, \"mse_loss\": 0.4},\n",
    "    latent_alignment_objectives={\n",
    "        \"cosine_similarity\": 0.4,\n",
    "        \"mse_loss\": 0.4,\n",
    "        \"clip_loss\": 0.6,\n",
    "        \"mmd_loss\": 0.0,\n",
    "    },\n",
    "    decode_timestamps=True,\n",
    ")\n",
    "\n",
    "config.brain_encoder_config.mel_normalization = False\n",
    "config.learning_rate = 3e-4\n",
    "config.batch_size = 256\n",
    "config.steps_per_epoch = 450  # 654\n",
    "config.epochs = 50\n",
    "\n",
    "config.brain_encoder_config.in_channels = 208\n",
    "config.decode_timestamps = True\n",
    "\n",
    "# Sensor layout settings\n",
    "config.brain_encoder_config.layout_dim = 3\n",
    "config.brain_encoder_config.layout_proj = False\n",
    "config.brain_encoder_config.layout_scaling = \"midpoint\"\n",
    "# Merger with spatial attn\n",
    "config.brain_encoder_config.merger = True\n",
    "config.brain_encoder_config.merger_emb_type = \"mlp\"\n",
    "config.brain_encoder_config.merger_emb_dim = 1024\n",
    "config.brain_encoder_config.merger_channels = 208\n",
    "config.brain_encoder_config.merger_dropout = 0.1  # Float\n",
    "config.brain_encoder_config.merger_conditional == None\n",
    "config.brain_encoder_config.conditions = {\n",
    "    \"study\": [],\n",
    "    \"subject\": [],\n",
    "}\n",
    "config.brain_encoder_config.conditional_layers = False\n",
    "config.brain_encoder_config.conditional_layers_dim = \"input\"  # input or hidden_dim\n",
    "\n",
    "# config.brain_clipping = 20\n",
    "\n",
    "# config.brain_encoder_config.hidden_dim = 1024\n",
    "# config.brain_encoder_config.initial_linear = 1024\n",
    "\n",
    "session = TrainingSessionV2(\n",
    "    config=config,\n",
    "    studies={study: \"audiotext\" for study in data_partition.keys()},\n",
    "    data_path=\"data\",\n",
    "    save_path=\"saves/phase3/baseline/final_gwilliams_symmetric_clip\",\n",
    "    clear_cache=False,\n",
    "    cache_name=\"cache\",\n",
    "    download_studies=True,\n",
    ")\n",
    "\n",
    "\n",
    "# session = load_training_session(\n",
    "#     save_path=\"saves/phase3/objectives/baseline_gwilliams_latent_loss_no_latent_alignment/epoch_39\",\n",
    "#     studies={\"gwilliams2023\": \"audiotext\"},\n",
    "#     data_path=\"data\",\n",
    "#     cache_name=\"/home/ubuntu/cache\",\n",
    "# )\n",
    "\n",
    "try:\n",
    "    session.train(\n",
    "        device=\"cuda\",\n",
    "        buffer_size=30,\n",
    "        num_workers=(multiprocessing.cpu_count() - 2),\n",
    "        max_cache_size=800,\n",
    "        current_epoch=0,\n",
    "    )\n",
    "except KeyboardInterrupt as e:\n",
    "    print(\"Exited\")\n",
    "\n",
    "# try:\n",
    "#     session.pre_process_all_recordings(\n",
    "#         buffer_size=30, num_workers=multiprocessing.cpu_count() - 10, max_cache_size=800\n",
    "#     )\n",
    "# except KeyboardInterrupt as e:\n",
    "#     print(\"Exited\")"
   ]
  },
  {
   "cell_type": "code",
   "execution_count": null,
   "metadata": {},
   "outputs": [],
   "source": []
  }
 ],
 "metadata": {
  "kernelspec": {
   "display_name": "brain",
   "language": "python",
   "name": "python3"
  },
  "language_info": {
   "codemirror_mode": {
    "name": "ipython",
    "version": 3
   },
   "file_extension": ".py",
   "mimetype": "text/x-python",
   "name": "python",
   "nbconvert_exporter": "python",
   "pygments_lexer": "ipython3",
   "version": "3.11.7"
  }
 },
 "nbformat": 4,
 "nbformat_minor": 4
}
