{
 "cells": [
  {
   "cell_type": "code",
   "execution_count": 8,
   "metadata": {},
   "outputs": [
    {
     "name": "stdout",
     "output_type": "stream",
     "text": [
      "Loading Gwilliams2023 with batch type audiotext\n",
      "Loading Armeini2022 with batch type audiotext\n",
      "Data partitioned on studies ['gwilliams2023', 'armeini2022'].\n",
      "Train: 159, Unseen Task: 51, Unseen Subject: 12, Unseen Both: 4.\n",
      "\n",
      "RNNEncoder initialized as conformer with 4 layers, 256 d_model, 4 nhead\n",
      "\tEmbedding: sinusoidal, params: 6075392\n",
      "SimpleConv initialized with 13703274 parameters, cond: ['study', 'subject']\n",
      "Merger True, merger channels 269\n",
      "ConvBlocks: 4, hidden_dim: 256, params 2626048\n",
      "Using torch.bfloat16\n",
      "Found 64 target modules for AdaLora: ['model.encoder.layers.0.self_attn.k_proj', 'model.encoder.layers.0.self_attn.v_proj', 'model.encoder.layers.0.self_attn.q_proj', 'model.encoder.layers.0.self_attn.out_proj', 'model.encoder.layers.0.fc1', 'model.encoder.layers.0.fc2', 'model.encoder.layers.1.self_attn.k_proj', 'model.encoder.layers.1.self_attn.v_proj', 'model.encoder.layers.1.self_attn.q_proj', 'model.encoder.layers.1.self_attn.out_proj', 'model.encoder.layers.1.fc1', 'model.encoder.layers.1.fc2', 'model.encoder.layers.2.self_attn.k_proj', 'model.encoder.layers.2.self_attn.v_proj', 'model.encoder.layers.2.self_attn.q_proj', 'model.encoder.layers.2.self_attn.out_proj', 'model.encoder.layers.2.fc1', 'model.encoder.layers.2.fc2', 'model.encoder.layers.3.self_attn.k_proj', 'model.encoder.layers.3.self_attn.v_proj', 'model.encoder.layers.3.self_attn.q_proj', 'model.encoder.layers.3.self_attn.out_proj', 'model.encoder.layers.3.fc1', 'model.encoder.layers.3.fc2', 'model.decoder.layers.0.self_attn.k_proj', 'model.decoder.layers.0.self_attn.v_proj', 'model.decoder.layers.0.self_attn.q_proj', 'model.decoder.layers.0.self_attn.out_proj', 'model.decoder.layers.0.encoder_attn.k_proj', 'model.decoder.layers.0.encoder_attn.v_proj', 'model.decoder.layers.0.encoder_attn.q_proj', 'model.decoder.layers.0.encoder_attn.out_proj', 'model.decoder.layers.0.fc1', 'model.decoder.layers.0.fc2', 'model.decoder.layers.1.self_attn.k_proj', 'model.decoder.layers.1.self_attn.v_proj', 'model.decoder.layers.1.self_attn.q_proj', 'model.decoder.layers.1.self_attn.out_proj', 'model.decoder.layers.1.encoder_attn.k_proj', 'model.decoder.layers.1.encoder_attn.v_proj', 'model.decoder.layers.1.encoder_attn.q_proj', 'model.decoder.layers.1.encoder_attn.out_proj', 'model.decoder.layers.1.fc1', 'model.decoder.layers.1.fc2', 'model.decoder.layers.2.self_attn.k_proj', 'model.decoder.layers.2.self_attn.v_proj', 'model.decoder.layers.2.self_attn.q_proj', 'model.decoder.layers.2.self_attn.out_proj', 'model.decoder.layers.2.encoder_attn.k_proj', 'model.decoder.layers.2.encoder_attn.v_proj', 'model.decoder.layers.2.encoder_attn.q_proj', 'model.decoder.layers.2.encoder_attn.out_proj', 'model.decoder.layers.2.fc1', 'model.decoder.layers.2.fc2', 'model.decoder.layers.3.self_attn.k_proj', 'model.decoder.layers.3.self_attn.v_proj', 'model.decoder.layers.3.self_attn.q_proj', 'model.decoder.layers.3.self_attn.out_proj', 'model.decoder.layers.3.encoder_attn.k_proj', 'model.decoder.layers.3.encoder_attn.v_proj', 'model.decoder.layers.3.encoder_attn.q_proj', 'model.decoder.layers.3.encoder_attn.out_proj', 'model.decoder.layers.3.fc1', 'model.decoder.layers.3.fc2']\n",
      "openai/whisper-tiny.en loaded with total params = 38572096. 811776 are trainable.\n"
     ]
    },
    {
     "name": "stderr",
     "output_type": "stream",
     "text": [
      "Training Epoch 1: 100%|██████████| 159/159 [28:24<00:00, 10.72s/it]\n"
     ]
    },
    {
     "name": "stdout",
     "output_type": "stream",
     "text": [
      "Testing done in 6.03m.\n",
      "Epoch 1 done in 34.43m. 0.22m/recording.\n",
      "\n",
      "\n",
      "New best epoch 1 with CER 0.9427 and BLEU 0.0027.\n",
      "Mel Loss: 6.2599, Clip Loss: 9.5156, MSE: 1.3764\n",
      "Mel accuracy: 0.0047, Top 5: 0.0235, Top 10: 0.0469\n"
     ]
    },
    {
     "name": "stderr",
     "output_type": "stream",
     "text": [
      "Training Epoch 2: 100%|██████████| 159/159 [28:14<00:00, 10.66s/it]\n"
     ]
    },
    {
     "name": "stdout",
     "output_type": "stream",
     "text": [
      "Testing done in 4.63m.\n",
      "Epoch 2 done in 32.87m. 0.21m/recording.\n"
     ]
    },
    {
     "name": "stderr",
     "output_type": "stream",
     "text": [
      "Training Epoch 3: 100%|██████████| 159/159 [28:30<00:00, 10.76s/it]\n"
     ]
    },
    {
     "name": "stdout",
     "output_type": "stream",
     "text": [
      "Testing done in 3.96m.\n",
      "Epoch 3 done in 32.48m. 0.20m/recording.\n"
     ]
    },
    {
     "name": "stderr",
     "output_type": "stream",
     "text": [
      "Training Epoch 4:   0%|          | 0/159 [00:00<?, ?it/s]"
     ]
    },
    {
     "name": "stdout",
     "output_type": "stream",
     "text": [
      "Starting rank reallocation at recording 1962.\n"
     ]
    },
    {
     "name": "stderr",
     "output_type": "stream",
     "text": [
      "Training Epoch 4: 100%|██████████| 159/159 [28:39<00:00, 10.81s/it]\n"
     ]
    },
    {
     "name": "stdout",
     "output_type": "stream",
     "text": [
      "Testing done in 5.35m.\n",
      "Epoch 4 done in 34.01m. 0.21m/recording.\n",
      "\n",
      "\n",
      "New best epoch 4 with CER 0.9468 and BLEU 0.0038.\n",
      "Mel Loss: 5.7910, Clip Loss: 9.5115, MSE: 0.2102\n",
      "Mel accuracy: 0.0044, Top 5: 0.0224, Top 10: 0.0446\n"
     ]
    },
    {
     "name": "stderr",
     "output_type": "stream",
     "text": [
      "Training Epoch 5: 100%|██████████| 159/159 [28:16<00:00, 10.67s/it]\n"
     ]
    },
    {
     "name": "stdout",
     "output_type": "stream",
     "text": [
      "Testing done in 4.47m.\n",
      "Epoch 5 done in 32.75m. 0.21m/recording.\n"
     ]
    },
    {
     "name": "stderr",
     "output_type": "stream",
     "text": [
      "Training Epoch 6: 100%|██████████| 159/159 [28:36<00:00, 10.80s/it]\n"
     ]
    },
    {
     "name": "stdout",
     "output_type": "stream",
     "text": [
      "Testing done in 5.02m.\n",
      "Epoch 6 done in 33.64m. 0.21m/recording.\n",
      "\n",
      "\n",
      "New best epoch 6 with CER 0.9455 and BLEU 0.0016.\n",
      "Mel Loss: 5.8152, Clip Loss: 9.5364, MSE: 0.2334\n",
      "Mel accuracy: 0.0061, Top 5: 0.0282, Top 10: 0.0550\n"
     ]
    },
    {
     "name": "stderr",
     "output_type": "stream",
     "text": [
      "Training Epoch 7: 100%|██████████| 159/159 [27:52<00:00, 10.52s/it]\n"
     ]
    },
    {
     "name": "stdout",
     "output_type": "stream",
     "text": [
      "Testing done in 4.84m.\n",
      "Epoch 7 done in 32.73m. 0.21m/recording.\n",
      "\n",
      "\n",
      "New best epoch 7 with CER 0.9459 and BLEU 0.0016.\n",
      "Mel Loss: 5.7922, Clip Loss: 9.5171, MSE: 0.2050\n",
      "Mel accuracy: 0.0137, Top 5: 0.0553, Top 10: 0.0985\n"
     ]
    },
    {
     "name": "stderr",
     "output_type": "stream",
     "text": [
      "Training Epoch 8: 100%|██████████| 159/159 [28:01<00:00, 10.57s/it]\n"
     ]
    },
    {
     "name": "stdout",
     "output_type": "stream",
     "text": [
      "Testing done in 5.14m.\n",
      "Epoch 8 done in 33.17m. 0.21m/recording.\n",
      "\n",
      "\n",
      "New best epoch 8 with CER 0.9411 and BLEU 0.0019.\n",
      "Mel Loss: 5.8159, Clip Loss: 9.5321, MSE: 0.2416\n",
      "Mel accuracy: 0.0157, Top 5: 0.0625, Top 10: 0.1102\n"
     ]
    },
    {
     "name": "stderr",
     "output_type": "stream",
     "text": [
      "Training Epoch 9: 100%|██████████| 159/159 [28:57<00:00, 10.93s/it]\n"
     ]
    },
    {
     "name": "stdout",
     "output_type": "stream",
     "text": [
      "Testing done in 6.08m.\n",
      "Epoch 9 done in 35.05m. 0.22m/recording.\n",
      "\n",
      "\n",
      "New best epoch 9 with CER 0.9290 and BLEU 0.0056.\n",
      "Mel Loss: 5.8898, Clip Loss: 9.5606, MSE: 0.3835\n",
      "Mel accuracy: 0.0090, Top 5: 0.0412, Top 10: 0.0769\n"
     ]
    },
    {
     "name": "stderr",
     "output_type": "stream",
     "text": [
      "Training Epoch 10: 100%|██████████| 159/159 [28:30<00:00, 10.76s/it]\n"
     ]
    },
    {
     "name": "stdout",
     "output_type": "stream",
     "text": [
      "Testing done in 4.30m.\n",
      "Epoch 10 done in 32.81m. 0.21m/recording.\n"
     ]
    },
    {
     "name": "stderr",
     "output_type": "stream",
     "text": [
      "Training Epoch 11: 100%|██████████| 159/159 [28:29<00:00, 10.75s/it]\n"
     ]
    },
    {
     "name": "stdout",
     "output_type": "stream",
     "text": [
      "Testing done in 4.47m.\n",
      "Epoch 11 done in 32.96m. 0.21m/recording.\n"
     ]
    },
    {
     "name": "stderr",
     "output_type": "stream",
     "text": [
      "Training Epoch 12: 100%|██████████| 159/159 [28:02<00:00, 10.58s/it]\n"
     ]
    },
    {
     "name": "stdout",
     "output_type": "stream",
     "text": [
      "Testing done in 4.69m.\n",
      "Epoch 12 done in 32.74m. 0.21m/recording.\n"
     ]
    },
    {
     "name": "stderr",
     "output_type": "stream",
     "text": [
      "Training Epoch 13: 100%|██████████| 159/159 [28:19<00:00, 10.69s/it]\n"
     ]
    },
    {
     "name": "stdout",
     "output_type": "stream",
     "text": [
      "Testing done in 4.93m.\n",
      "Epoch 13 done in 33.25m. 0.21m/recording.\n",
      "\n",
      "\n",
      "New best epoch 13 with CER 0.9281 and BLEU 0.0019.\n",
      "Mel Loss: 5.8709, Clip Loss: 9.4877, MSE: 0.4458\n",
      "Mel accuracy: 0.0388, Top 5: 0.1267, Top 10: 0.2008\n"
     ]
    },
    {
     "name": "stderr",
     "output_type": "stream",
     "text": [
      "Training Epoch 14: 100%|██████████| 159/159 [28:17<00:00, 10.67s/it]\n"
     ]
    },
    {
     "name": "stdout",
     "output_type": "stream",
     "text": [
      "Testing done in 5.83m.\n",
      "Epoch 14 done in 34.12m. 0.21m/recording.\n"
     ]
    },
    {
     "name": "stderr",
     "output_type": "stream",
     "text": [
      "Training Epoch 15: 100%|██████████| 159/159 [28:22<00:00, 10.71s/it]\n"
     ]
    },
    {
     "name": "stdout",
     "output_type": "stream",
     "text": [
      "Testing done in 4.61m.\n",
      "Epoch 15 done in 32.99m. 0.21m/recording.\n"
     ]
    },
    {
     "name": "stderr",
     "output_type": "stream",
     "text": [
      "Training Epoch 16: 100%|██████████| 159/159 [28:17<00:00, 10.67s/it]\n"
     ]
    },
    {
     "name": "stdout",
     "output_type": "stream",
     "text": [
      "Testing done in 3.78m.\n",
      "Epoch 16 done in 32.07m. 0.20m/recording.\n"
     ]
    },
    {
     "name": "stderr",
     "output_type": "stream",
     "text": [
      "Training Epoch 17: 100%|██████████| 159/159 [28:36<00:00, 10.80s/it]\n"
     ]
    },
    {
     "name": "stdout",
     "output_type": "stream",
     "text": [
      "Testing done in 4.78m.\n",
      "Epoch 17 done in 33.40m. 0.21m/recording.\n"
     ]
    },
    {
     "name": "stderr",
     "output_type": "stream",
     "text": [
      "Training Epoch 18: 100%|██████████| 159/159 [28:12<00:00, 10.65s/it]\n"
     ]
    },
    {
     "name": "stdout",
     "output_type": "stream",
     "text": [
      "Testing done in 4.65m.\n",
      "Epoch 18 done in 32.86m. 0.21m/recording.\n"
     ]
    },
    {
     "name": "stderr",
     "output_type": "stream",
     "text": [
      "Training Epoch 19: 100%|██████████| 159/159 [28:46<00:00, 10.86s/it]\n"
     ]
    },
    {
     "name": "stdout",
     "output_type": "stream",
     "text": [
      "Testing done in 4.58m.\n",
      "Epoch 19 done in 33.36m. 0.21m/recording.\n",
      "\n",
      "\n",
      "New best epoch 19 with CER 0.9391 and BLEU 0.0022.\n",
      "Mel Loss: 5.9417, Clip Loss: 9.4677, MSE: 0.6527\n",
      "Mel accuracy: 0.0615, Top 5: 0.1825, Top 10: 0.2741\n"
     ]
    },
    {
     "name": "stderr",
     "output_type": "stream",
     "text": [
      "Training Epoch 20: 100%|██████████| 159/159 [28:14<00:00, 10.65s/it]\n"
     ]
    },
    {
     "name": "stdout",
     "output_type": "stream",
     "text": [
      "Testing done in 4.50m.\n",
      "Epoch 20 done in 32.74m. 0.21m/recording.\n"
     ]
    },
    {
     "name": "stderr",
     "output_type": "stream",
     "text": [
      "Training Epoch 21: 100%|██████████| 159/159 [28:11<00:00, 10.64s/it]\n"
     ]
    },
    {
     "name": "stdout",
     "output_type": "stream",
     "text": [
      "Testing done in 4.90m.\n",
      "Epoch 21 done in 33.10m. 0.21m/recording.\n",
      "\n",
      "\n",
      "New best epoch 21 with CER 0.9528 and BLEU 0.0022.\n",
      "Mel Loss: 6.0857, Clip Loss: 9.4679, MSE: 1.0125\n",
      "Mel accuracy: 0.0625, Top 5: 0.1809, Top 10: 0.2682\n"
     ]
    },
    {
     "name": "stderr",
     "output_type": "stream",
     "text": [
      "Training Epoch 22: 100%|██████████| 159/159 [28:30<00:00, 10.76s/it]\n"
     ]
    },
    {
     "name": "stdout",
     "output_type": "stream",
     "text": [
      "Testing done in 4.49m.\n",
      "Epoch 22 done in 33.00m. 0.21m/recording.\n",
      "\n",
      "\n",
      "New best epoch 22 with CER 0.9326 and BLEU 0.0053.\n",
      "Mel Loss: 6.0982, Clip Loss: 9.4812, MSE: 1.0237\n",
      "Mel accuracy: 0.0630, Top 5: 0.1846, Top 10: 0.2748\n"
     ]
    },
    {
     "name": "stderr",
     "output_type": "stream",
     "text": [
      "Training Epoch 23: 100%|██████████| 159/159 [28:17<00:00, 10.67s/it]\n"
     ]
    },
    {
     "name": "stdout",
     "output_type": "stream",
     "text": [
      "Testing done in 5.15m.\n",
      "Epoch 23 done in 33.45m. 0.21m/recording.\n"
     ]
    },
    {
     "name": "stderr",
     "output_type": "stream",
     "text": [
      "Training Epoch 24: 100%|██████████| 159/159 [27:45<00:00, 10.48s/it]\n"
     ]
    },
    {
     "name": "stdout",
     "output_type": "stream",
     "text": [
      "Testing done in 5.11m.\n",
      "Epoch 24 done in 32.88m. 0.21m/recording.\n"
     ]
    },
    {
     "name": "stderr",
     "output_type": "stream",
     "text": [
      "Training Epoch 25: 100%|██████████| 159/159 [27:59<00:00, 10.56s/it]\n"
     ]
    },
    {
     "name": "stdout",
     "output_type": "stream",
     "text": [
      "Testing done in 4.78m.\n",
      "Epoch 25 done in 32.77m. 0.21m/recording.\n"
     ]
    },
    {
     "name": "stderr",
     "output_type": "stream",
     "text": [
      "Training Epoch 26: 100%|██████████| 159/159 [28:09<00:00, 10.63s/it]\n"
     ]
    },
    {
     "name": "stdout",
     "output_type": "stream",
     "text": [
      "Testing done in 4.90m.\n",
      "Epoch 26 done in 33.06m. 0.21m/recording.\n"
     ]
    },
    {
     "name": "stderr",
     "output_type": "stream",
     "text": [
      "Training Epoch 27: 100%|██████████| 159/159 [28:18<00:00, 10.68s/it]\n"
     ]
    },
    {
     "name": "stdout",
     "output_type": "stream",
     "text": [
      "Testing done in 5.13m.\n",
      "Epoch 27 done in 33.44m. 0.21m/recording.\n"
     ]
    },
    {
     "name": "stderr",
     "output_type": "stream",
     "text": [
      "Training Epoch 28: 100%|██████████| 159/159 [28:14<00:00, 10.66s/it]\n"
     ]
    },
    {
     "name": "stdout",
     "output_type": "stream",
     "text": [
      "Testing done in 5.08m.\n",
      "Epoch 28 done in 33.32m. 0.21m/recording.\n"
     ]
    },
    {
     "name": "stderr",
     "output_type": "stream",
     "text": [
      "Training Epoch 29: 100%|██████████| 159/159 [28:32<00:00, 10.77s/it]\n"
     ]
    },
    {
     "name": "stdout",
     "output_type": "stream",
     "text": [
      "Testing done in 4.84m.\n",
      "Epoch 29 done in 33.39m. 0.21m/recording.\n"
     ]
    },
    {
     "name": "stderr",
     "output_type": "stream",
     "text": [
      "Training Epoch 30: 100%|██████████| 159/159 [28:39<00:00, 10.81s/it]\n"
     ]
    },
    {
     "name": "stdout",
     "output_type": "stream",
     "text": [
      "Testing done in 5.11m.\n",
      "Epoch 30 done in 33.77m. 0.21m/recording.\n"
     ]
    },
    {
     "name": "stderr",
     "output_type": "stream",
     "text": [
      "Training Epoch 31: 100%|██████████| 159/159 [28:14<00:00, 10.66s/it]\n"
     ]
    },
    {
     "name": "stdout",
     "output_type": "stream",
     "text": [
      "Testing done in 5.13m.\n",
      "Epoch 31 done in 33.37m. 0.21m/recording.\n"
     ]
    },
    {
     "name": "stderr",
     "output_type": "stream",
     "text": [
      "Training Epoch 32: 100%|██████████| 159/159 [28:21<00:00, 10.70s/it]\n"
     ]
    },
    {
     "name": "stdout",
     "output_type": "stream",
     "text": [
      "Testing done in 5.16m.\n",
      "Epoch 32 done in 33.52m. 0.21m/recording.\n"
     ]
    },
    {
     "name": "stderr",
     "output_type": "stream",
     "text": [
      "Training Epoch 33: 100%|██████████| 159/159 [27:39<00:00, 10.44s/it]\n"
     ]
    },
    {
     "name": "stdout",
     "output_type": "stream",
     "text": [
      "Testing done in 5.39m.\n",
      "Epoch 33 done in 33.06m. 0.21m/recording.\n",
      "Early stopping at epoch 33. Highest metrics at epoch 22.\n",
      "\n",
      "\n",
      "Training completed. Highest epoch at 22.\n",
      "\n",
      "\n",
      "Test unseen_subject at epoch 22. Mel Loss: 6.0775, Clip Loss: 9.4874, MSE: 0.9627\n",
      "Mel accuracy: 0.0244, Top 5: 0.0958, Top 10: 0.1642\n",
      "BLEU: 0.0066, ROUGE-1: 0.0581, BERT: 0.3597, CER: 0.9432, SELF-BLEU: 0.1648\n",
      "\n",
      "\n",
      "Test unseen_task at epoch 22. Mel Loss: 6.1020, Clip Loss: 9.5370, MSE: 0.9496\n",
      "Mel accuracy: 0.0225, Top 5: 0.0954, Top 10: 0.1629\n",
      "BLEU: 0.0048, ROUGE-1: 0.0417, BERT: 0.3559, CER: 0.9367, SELF-BLEU: 0.1714\n",
      "\n",
      "\n",
      "Test unseen_both at epoch 22. Mel Loss: 6.0808, Clip Loss: 9.5029, MSE: 0.9476\n",
      "Mel accuracy: 0.0259, Top 5: 0.0850, Top 10: 0.1466\n",
      "BLEU: 0.0044, ROUGE-1: 0.0358, BERT: 0.3573, CER: 0.9181, SELF-BLEU: 0.1660\n"
     ]
    }
   ],
   "source": [
    "# import torch\n",
    "# import gc\n",
    "# import logging\n",
    "\n",
    "# # del session.logger\n",
    "# # del session.epoch_logger\n",
    "# # del session\n",
    "# # gc.collect()\n",
    "# # torch.cuda.empty_cache()\n",
    "\n",
    "# import multiprocessing\n",
    "# from train.training_session_v2 import TrainingSessionV2, load_training_session\n",
    "# from config import TrainingConfigV2\n",
    "# from config import SimpleConvConfig\n",
    "\n",
    "# data_partition = {\n",
    "#     \"gwilliams2023\": {\n",
    "#         \"testing_subjects\": [19, 20, 21],\n",
    "#         \"testing_tasks\": [0],\n",
    "#     },\n",
    "#     \"armeini2022\": {\n",
    "#         \"testing_subjects\": [],\n",
    "#         \"testing_tasks\": [0, 1],\n",
    "#     },\n",
    "# }\n",
    "\n",
    "# model_config = SimpleConvConfig(\n",
    "#     # Str to list of possible conditions\n",
    "#     mel_normalization=False,\n",
    "#     conditions={\n",
    "#         \"study\": [],\n",
    "#         \"subject\": [],\n",
    "#     },\n",
    "#     # Channels\n",
    "#     in_channels=208,\n",
    "#     out_channels=80,\n",
    "#     hidden_dim=256,\n",
    "#     dropout=0.2,\n",
    "#     initial_batch_norm=True,\n",
    "#     # # Sensor layout settings\n",
    "#     # layout_dim=2,\n",
    "#     # layout_proj=True,\n",
    "#     # layout_scaling=\"minmax\",\n",
    "#     # # Merger with spatial attn\n",
    "#     # merger=False,\n",
    "#     # merger_emb_type=None,\n",
    "#     # merger_emb_dim=0,\n",
    "#     # merger_channels=0,\n",
    "#     # merger_dropout=0.0,  # Float\n",
    "#     # merger_conditional=None,\n",
    "#     # Inital\n",
    "#     initial_linear=256,\n",
    "#     initial_depth=1,\n",
    "#     # Conditional layers\n",
    "#     conditional_layers=False,\n",
    "#     conditional_layers_dim=None,  # input or hidden_dim\n",
    "#     # Conv layer overall structure\n",
    "#     depth=4,\n",
    "#     kernel_size=3,\n",
    "#     growth=1.0,\n",
    "#     dilation_growth=2,\n",
    "#     dilation_period=5,\n",
    "#     glu=1,\n",
    "#     conv_dropout=0.2,\n",
    "#     dropout_input=0.1,\n",
    "#     batch_norm=True,\n",
    "#     half=True,\n",
    "#     cnn_pos_encoding=False,\n",
    "#     # Quantizer\n",
    "#     quantizer=False,\n",
    "#     num_codebooks=0,\n",
    "#     codebook_size=0,\n",
    "#     quantizer_commitment=0,\n",
    "#     quantizer_temp_init=0,\n",
    "#     quantizer_temp_min=0,\n",
    "#     quantizer_temp_decay=0,\n",
    "#     # Transformers Encoders\n",
    "#     transformer_input=\"continuous\",\n",
    "#     transformer_encoder_emb=\"sinusoidal\",\n",
    "#     transformer_encoder_layers=4,\n",
    "#     transformer_encoder_heads=4,\n",
    "#     # Conformer encoder variant\n",
    "#     rnn_type=\"conformer\",\n",
    "#     depthwise_conv_kernel_size=15,\n",
    "#     use_group_norm=False,\n",
    "#     convolution_first=False,\n",
    "#     # Transformer Decoders\n",
    "#     transformer_decoder_emb=None,\n",
    "#     transformer_decoder_layers=0,\n",
    "#     transformer_decoder_heads=0,\n",
    "#     transformer_decoder_dim=0,\n",
    "# )\n",
    "\n",
    "# config = TrainingConfigV2(\n",
    "#     brain_encoder_config=model_config,\n",
    "#     data_partition=data_partition,\n",
    "#     # Ada lora settings\n",
    "#     # Around 100k total batches an epoch for gwilliams\n",
    "#     use_adalora=True,\n",
    "#     adalora_init_r=12,\n",
    "#     adalora_target_r=4,\n",
    "#     adalora_tinit=(654 * 3),  # 5% total steps\n",
    "#     adalora_tfinal=(654 * 8),  # 50-80% total steps\n",
    "#     adalora_deltaT=(654 * 1),  # 1-5% total steps\n",
    "#     adalora_lora_alpha=32,\n",
    "#     adalora_lora_dropout=0.1,\n",
    "#     adalora_total_step=(654 * 50),\n",
    "#     # Pre-processing parameters\n",
    "#     # Brain\n",
    "#     new_freq=200,\n",
    "#     frequency_bands={\"all\": (0.5, 80)},\n",
    "#     max_random_shift=1.0,\n",
    "#     window_size=4,\n",
    "#     window_stride=1,\n",
    "#     brain_clipping=None,\n",
    "#     baseline_window=0.5,\n",
    "#     notch_filter=True,\n",
    "#     scaling=\"both\",\n",
    "#     delay=0.15,\n",
    "#     # Audio\n",
    "#     audio_model=\"openai/whisper-tiny.en\",\n",
    "#     # Hyperparameters\n",
    "#     learning_rate=1e-4,\n",
    "#     weight_decay=1e-4,\n",
    "#     epochs=50,\n",
    "#     steps_per_epoch=450, # 654,\n",
    "#     batch_size=128,\n",
    "#     random_test_size=10,\n",
    "#     seed=42,\n",
    "#     mel_alignment_objectives = {\n",
    "#         \"clip_loss\": 0.6,\n",
    "#         \"mse_loss\": 0.4\n",
    "#     },\n",
    "#     latent_alignment_objectives= {\n",
    "#         \"cosine_similarity\": 0.4,\n",
    "#         \"mse_loss\": 0.4,\n",
    "#         \"clip_loss\": 0.6,\n",
    "#         \"mmd_loss\": 0.0\n",
    "#     },\n",
    "#     decode_timestamps=True,\n",
    "# )\n",
    "\n",
    "# config.brain_encoder_config.mel_normalization = False\n",
    "# config.learning_rate = 3e-4\n",
    "# config.batch_size = 256\n",
    "# config.steps_per_epoch = 654 # 654\n",
    "# config.epochs = 50\n",
    "\n",
    "# config.brain_encoder_config.in_channels = 269\n",
    "# config.decode_timestamps = True\n",
    "\n",
    "# # Sensor layout settings\n",
    "# config.brain_encoder_config.layout_dim=3\n",
    "# config.brain_encoder_config.layout_proj=False\n",
    "# config.brain_encoder_config.layout_scaling=\"midpoint\"\n",
    "# # Merger with spatial attn\n",
    "# config.brain_encoder_config.merger=True\n",
    "# config.brain_encoder_config.merger_emb_type='mlp'\n",
    "# config.brain_encoder_config.merger_emb_dim=1024\n",
    "# config.brain_encoder_config.merger_channels=269\n",
    "# config.brain_encoder_config.merger_dropout=0.1  # Float\n",
    "# config.brain_encoder_config.merger_conditional=None\n",
    "\n",
    "# # config.brain_clipping = 20\n",
    "\n",
    "# # config.brain_encoder_config.hidden_dim = 1024\n",
    "# # config.brain_encoder_config.initial_linear = 1024\n",
    "\n",
    "# session = TrainingSessionV2(\n",
    "#     config=config,\n",
    "#     studies={study: \"audiotext\" for study in data_partition.keys()},\n",
    "#     data_path=\"data\",\n",
    "#     save_path=\"saves/phase3/combining/channel_merger_269_mlp_1024_midpoint_3D\",\n",
    "#     clear_cache=False,\n",
    "#     cache_name=\"/home/ubuntu/cache\",\n",
    "#     download_studies=True,\n",
    "# )\n",
    "\n",
    "\n",
    "# # session = load_training_session(\n",
    "# #     save_path=\"saves/phase3/objectives/baseline_gwilliams_latent_loss_no_latent_alignment/epoch_39\",\n",
    "# #     studies={\"gwilliams2023\": \"audiotext\"},\n",
    "# #     data_path=\"data\",\n",
    "# #     cache_name=\"/home/ubuntu/cache\",\n",
    "# # )\n",
    "\n",
    "# try:\n",
    "#     session.train(\n",
    "#         device=\"cuda\",\n",
    "#         buffer_size=30,\n",
    "#         num_workers=(multiprocessing.cpu_count() - 2),\n",
    "#         max_cache_size=800,\n",
    "#         current_epoch=0,\n",
    "#     )\n",
    "# except KeyboardInterrupt as e:\n",
    "#     print(\"Exited\")\n",
    "\n",
    "# # try:\n",
    "# #     session.pre_process_all_recordings(\n",
    "# #         buffer_size=30, num_workers=multiprocessing.cpu_count() - 10, max_cache_size=800\n",
    "# #     )\n",
    "# # except KeyboardInterrupt as e:\n",
    "# #     print(\"Exited\")"
   ]
  },
  {
   "cell_type": "code",
   "execution_count": null,
   "metadata": {},
   "outputs": [],
   "source": [
    "import torch\n",
    "import gc\n",
    "import logging\n",
    "\n",
    "# del session.logger\n",
    "# del session.epoch_logger\n",
    "# del session\n",
    "# gc.collect()\n",
    "# torch.cuda.empty_cache()\n",
    "\n",
    "import multiprocessing\n",
    "from train.training_session_v2 import TrainingSessionV2, load_training_session\n",
    "from config import TrainingConfigV2\n",
    "from config import SimpleConvConfig\n",
    "\n",
    "data_partition = {\n",
    "    \"gwilliams2023\": {\n",
    "        \"testing_subjects\": [19, 20, 21],\n",
    "        \"testing_tasks\": [0],\n",
    "    },\n",
    "    \"armeini2022\": {\n",
    "        \"testing_subjects\": [],\n",
    "        \"testing_tasks\": [0, 1],\n",
    "    },\n",
    "}\n",
    "\n",
    "model_config = SimpleConvConfig(\n",
    "    # Str to list of possible conditions\n",
    "    mel_normalization=False,\n",
    "    conditions={\n",
    "        \"study\": [],\n",
    "        \"subject\": [],\n",
    "    },\n",
    "    # Channels\n",
    "    in_channels=208,\n",
    "    out_channels=80,\n",
    "    hidden_dim=256,\n",
    "    dropout=0.2,\n",
    "    initial_batch_norm=True,\n",
    "    # # Sensor layout settings\n",
    "    # layout_dim=2,\n",
    "    # layout_proj=True,\n",
    "    # layout_scaling=\"minmax\",\n",
    "    # # Merger with spatial attn\n",
    "    # merger=False,\n",
    "    # merger_emb_type=None,\n",
    "    # merger_emb_dim=0,\n",
    "    # merger_channels=0,\n",
    "    # merger_dropout=0.0,  # Float\n",
    "    # merger_conditional=None,\n",
    "    # Inital\n",
    "    initial_linear=256,\n",
    "    initial_depth=1,\n",
    "    # Conditional layers\n",
    "    conditional_layers=False,\n",
    "    conditional_layers_dim=None,  # input or hidden_dim\n",
    "    # Conv layer overall structure\n",
    "    depth=4,\n",
    "    kernel_size=3,\n",
    "    growth=1.0,\n",
    "    dilation_growth=2,\n",
    "    dilation_period=5,\n",
    "    glu=1,\n",
    "    conv_dropout=0.2,\n",
    "    dropout_input=0.1,\n",
    "    batch_norm=True,\n",
    "    half=True,\n",
    "    cnn_pos_encoding=False,\n",
    "    # Quantizer\n",
    "    quantizer=False,\n",
    "    num_codebooks=0,\n",
    "    codebook_size=0,\n",
    "    quantizer_commitment=0,\n",
    "    quantizer_temp_init=0,\n",
    "    quantizer_temp_min=0,\n",
    "    quantizer_temp_decay=0,\n",
    "    # Transformers Encoders\n",
    "    transformer_input=\"continuous\",\n",
    "    transformer_encoder_emb=\"sinusoidal\",\n",
    "    transformer_encoder_layers=4,\n",
    "    transformer_encoder_heads=4,\n",
    "    # Conformer encoder variant\n",
    "    rnn_type=\"conformer\",\n",
    "    depthwise_conv_kernel_size=15,\n",
    "    use_group_norm=False,\n",
    "    convolution_first=False,\n",
    "    # Transformer Decoders\n",
    "    transformer_decoder_emb=None,\n",
    "    transformer_decoder_layers=0,\n",
    "    transformer_decoder_heads=0,\n",
    "    transformer_decoder_dim=0,\n",
    ")\n",
    "\n",
    "config = TrainingConfigV2(\n",
    "    brain_encoder_config=model_config,\n",
    "    data_partition=data_partition,\n",
    "    # Ada lora settings\n",
    "    # Around 100k total batches an epoch for gwilliams\n",
    "    use_adalora=True,\n",
    "    adalora_init_r=12,\n",
    "    adalora_target_r=4,\n",
    "    adalora_tinit=(654 * 3),  # 5% total steps\n",
    "    adalora_tfinal=(654 * 8),  # 50-80% total steps\n",
    "    adalora_deltaT=(654 * 1),  # 1-5% total steps\n",
    "    adalora_lora_alpha=32,\n",
    "    adalora_lora_dropout=0.1,\n",
    "    adalora_total_step=(654 * 50),\n",
    "    # Pre-processing parameters\n",
    "    # Brain\n",
    "    new_freq=200,\n",
    "    frequency_bands={\"all\": (0.5, 80)},\n",
    "    max_random_shift=1.0,\n",
    "    window_size=4,\n",
    "    window_stride=1,\n",
    "    brain_clipping=None,\n",
    "    baseline_window=0.5,\n",
    "    notch_filter=True,\n",
    "    scaling=\"both\",\n",
    "    delay=0.15,\n",
    "    # Audio\n",
    "    audio_model=\"openai/whisper-tiny.en\",\n",
    "    # Hyperparameters\n",
    "    learning_rate=1e-4,\n",
    "    weight_decay=1e-4,\n",
    "    epochs=50,\n",
    "    steps_per_epoch=450, # 654,\n",
    "    batch_size=128,\n",
    "    random_test_size=10,\n",
    "    seed=42,\n",
    "    mel_alignment_objectives = {\n",
    "        \"clip_loss\": 0.6,\n",
    "        \"mse_loss\": 0.4\n",
    "    },\n",
    "    latent_alignment_objectives= {\n",
    "        \"cosine_similarity\": 0.4,\n",
    "        \"mse_loss\": 0.4,\n",
    "        \"clip_loss\": 0.6,\n",
    "        \"mmd_loss\": 0.0\n",
    "    },\n",
    "    decode_timestamps=True,\n",
    ")\n",
    "\n",
    "config.brain_encoder_config.mel_normalization = False\n",
    "config.learning_rate = 3e-4\n",
    "config.batch_size = 256\n",
    "config.steps_per_epoch = 654 # 654\n",
    "config.epochs = 50\n",
    "\n",
    "config.brain_encoder_config.in_channels = 269\n",
    "config.decode_timestamps = True\n",
    "\n",
    "# Sensor layout settings\n",
    "config.brain_encoder_config.layout_dim=3\n",
    "config.brain_encoder_config.layout_proj=False\n",
    "config.brain_encoder_config.layout_scaling=\"midpoint\"\n",
    "# Merger with spatial attn\n",
    "config.brain_encoder_config.merger=True\n",
    "config.brain_encoder_config.merger_emb_type='mlp'\n",
    "config.brain_encoder_config.merger_emb_dim=1024\n",
    "config.brain_encoder_config.merger_channels=269\n",
    "config.brain_encoder_config.merger_dropout=0.1  # Float\n",
    "config.brain_encoder_config.merger_conditional=None\n",
    "\n",
    "# config.brain_clipping = 20\n",
    "\n",
    "# config.brain_encoder_config.hidden_dim = 1024\n",
    "# config.brain_encoder_config.initial_linear = 1024\n",
    "\n",
    "session = TrainingSessionV2(\n",
    "    config=config,\n",
    "    studies={study: \"audiotext\" for study in data_partition.keys()},\n",
    "    data_path=\"data\",\n",
    "    save_path=\"saves/phase3/combining/channel_merger_269_mlp_1024_midpoint_3D\",\n",
    "    clear_cache=False,\n",
    "    cache_name=\"/home/ubuntu/cache\",\n",
    "    download_studies=True,\n",
    ")\n",
    "\n",
    "\n",
    "# session = load_training_session(\n",
    "#     save_path=\"saves/phase3/objectives/baseline_gwilliams_latent_loss_no_latent_alignment/epoch_39\",\n",
    "#     studies={\"gwilliams2023\": \"audiotext\"},\n",
    "#     data_path=\"data\",\n",
    "#     cache_name=\"/home/ubuntu/cache\",\n",
    "# )\n",
    "\n",
    "try:\n",
    "    session.train(\n",
    "        device=\"cuda\",\n",
    "        buffer_size=30,\n",
    "        num_workers=(multiprocessing.cpu_count() - 2),\n",
    "        max_cache_size=800,\n",
    "        current_epoch=0,\n",
    "    )\n",
    "except KeyboardInterrupt as e:\n",
    "    print(\"Exited\")\n",
    "\n",
    "# try:\n",
    "#     session.pre_process_all_recordings(\n",
    "#         buffer_size=30, num_workers=multiprocessing.cpu_count() - 10, max_cache_size=800\n",
    "#     )\n",
    "# except KeyboardInterrupt as e:\n",
    "#     print(\"Exited\")"
   ]
  }
 ],
 "metadata": {
  "kernelspec": {
   "display_name": "brain",
   "language": "python",
   "name": "brain"
  },
  "language_info": {
   "codemirror_mode": {
    "name": "ipython",
    "version": 3
   },
   "file_extension": ".py",
   "mimetype": "text/x-python",
   "name": "python",
   "nbconvert_exporter": "python",
   "pygments_lexer": "ipython3",
   "version": "3.11.11"
  }
 },
 "nbformat": 4,
 "nbformat_minor": 4
}
