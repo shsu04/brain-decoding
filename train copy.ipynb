{
 "cells": [
  {
   "cell_type": "code",
   "execution_count": 2,
   "metadata": {},
   "outputs": [],
   "source": [
    "# from utils.compression import compress_directories, decompress_directories\n",
    "\n",
    "# for base_path, batch_type in data_partition.items():\n",
    "#     decompress_directories(\n",
    "#         source_path=f'downloaded_data/{base_path}',\n",
    "#         destination_path=f'data/{base_path}',\n",
    "#         checksum_file_name=\"checksums.txt\",\n",
    "#         delete_compressed_files=True,\n",
    "#         num_workers=26\n",
    "#     )"
   ]
  },
  {
   "cell_type": "code",
   "execution_count": 3,
   "metadata": {},
   "outputs": [
    {
     "name": "stdout",
     "output_type": "stream",
     "text": [
      "Loading Gwilliams2023 with batch type audio\n"
     ]
    },
    {
     "name": "stdout",
     "output_type": "stream",
     "text": [
      "Cleared cache for study gwilliams2023\n",
      "Data partitioned on studies ['gwilliams2023'].\n",
      "Train: 135, Unseen Task: 12, Unseen Subject: 45, Unseen Both: 4.\n",
      "\n",
      "GPU is not NVIDIA V100, A100, or H100. Speedup numbers may be lower than expected.\n",
      "SimpleConv initialized with 8448160 parameters, cond: ['study', 'subject']\n",
      "Merger False, merger channels 0\n",
      "ConvBlocks: 6, hidden_dim: 384, params 7973376\n"
     ]
    },
    {
     "name": "stderr",
     "output_type": "stream",
     "text": [
      "Training Epoch 1: 100%|██████████| 135/135 [47:46<00:00, 21.23s/it] \n"
     ]
    },
    {
     "name": "stdout",
     "output_type": "stream",
     "text": [
      "Testing at epoch 1\n",
      "Test unseen_subject completed. Accuracy: 0.0835, Top 1: 0.1420, Top 5: 0.3685, Top 10: 0.4920, Perplexity: 0.0000\n",
      "Test unseen_task completed. Accuracy: 0.0671, Top 1: 0.1026, Top 5: 0.3538, Top 10: 0.5196, Perplexity: 0.0000\n",
      "Test unseen_both completed. Accuracy: 0.0638, Top 1: 0.1212, Top 5: 0.3287, Top 10: 0.4537, Perplexity: 0.0000\n",
      "Epoch 1 completed in 53.33m. 0.40m per recording.\n"
     ]
    },
    {
     "name": "stderr",
     "output_type": "stream",
     "text": [
      "Training Epoch 2: 100%|██████████| 135/135 [05:57<00:00,  2.64s/it]\n"
     ]
    },
    {
     "name": "stdout",
     "output_type": "stream",
     "text": [
      "Testing at epoch 2\n",
      "Test unseen_subject completed. Accuracy: 0.1370, Top 1: 0.1975, Top 5: 0.4125, Top 10: 0.5310, Perplexity: 0.0000\n",
      "Test unseen_task completed. Accuracy: 0.1255, Top 1: 0.1737, Top 5: 0.4283, Top 10: 0.5724, Perplexity: 0.0000\n",
      "Test unseen_both completed. Accuracy: 0.0938, Top 1: 0.1737, Top 5: 0.3812, Top 10: 0.4800, Perplexity: 0.0000\n",
      "Epoch 2 completed in 6.43m. 0.05m per recording.\n"
     ]
    },
    {
     "name": "stderr",
     "output_type": "stream",
     "text": [
      "Training Epoch 3: 100%|██████████| 135/135 [05:55<00:00,  2.64s/it]\n"
     ]
    },
    {
     "name": "stdout",
     "output_type": "stream",
     "text": [
      "Testing at epoch 3\n",
      "Test unseen_subject completed. Accuracy: 0.1350, Top 1: 0.1970, Top 5: 0.4350, Top 10: 0.5540, Perplexity: 0.0000\n",
      "Test unseen_task completed. Accuracy: 0.1014, Top 1: 0.1477, Top 5: 0.3936, Top 10: 0.5298, Perplexity: 0.0000\n",
      "Test unseen_both completed. Accuracy: 0.0863, Top 1: 0.1400, Top 5: 0.3612, Top 10: 0.4675, Perplexity: 0.0000\n",
      "Epoch 3 completed in 6.38m. 0.05m per recording.\n"
     ]
    },
    {
     "name": "stderr",
     "output_type": "stream",
     "text": [
      "Training Epoch 4: 100%|██████████| 135/135 [06:02<00:00,  2.69s/it]\n"
     ]
    },
    {
     "name": "stdout",
     "output_type": "stream",
     "text": [
      "Testing at epoch 4\n",
      "Test unseen_subject completed. Accuracy: 0.1060, Top 1: 0.1720, Top 5: 0.4190, Top 10: 0.5295, Perplexity: 0.0000\n",
      "Test unseen_task completed. Accuracy: 0.1345, Top 1: 0.1901, Top 5: 0.4647, Top 10: 0.6056, Perplexity: 0.0000\n",
      "Test unseen_both completed. Accuracy: 0.1150, Top 1: 0.1737, Top 5: 0.3987, Top 10: 0.5350, Perplexity: 0.0000\n",
      "Epoch 4 completed in 6.47m. 0.05m per recording.\n"
     ]
    },
    {
     "name": "stderr",
     "output_type": "stream",
     "text": [
      "Training Epoch 5: 100%|██████████| 135/135 [05:56<00:00,  2.64s/it]\n"
     ]
    },
    {
     "name": "stdout",
     "output_type": "stream",
     "text": [
      "Testing at epoch 5\n",
      "Test unseen_subject completed. Accuracy: 0.1655, Top 1: 0.2375, Top 5: 0.4525, Top 10: 0.5605, Perplexity: 0.0000\n",
      "Test unseen_task completed. Accuracy: 0.1667, Top 1: 0.2266, Top 5: 0.5184, Top 10: 0.6596, Perplexity: 0.0000\n",
      "Test unseen_both completed. Accuracy: 0.1525, Top 1: 0.2313, Top 5: 0.4425, Top 10: 0.5563, Perplexity: 0.0000\n",
      "Epoch 5 completed in 6.39m. 0.05m per recording.\n"
     ]
    },
    {
     "name": "stderr",
     "output_type": "stream",
     "text": [
      "Training Epoch 6: 100%|██████████| 135/135 [05:56<00:00,  2.64s/it]\n"
     ]
    },
    {
     "name": "stdout",
     "output_type": "stream",
     "text": [
      "Testing at epoch 6\n",
      "Test unseen_subject completed. Accuracy: 0.1475, Top 1: 0.2225, Top 5: 0.4720, Top 10: 0.5805, Perplexity: 0.0000\n",
      "Test unseen_task completed. Accuracy: 0.1632, Top 1: 0.2199, Top 5: 0.4950, Top 10: 0.6462, Perplexity: 0.0000\n",
      "Test unseen_both completed. Accuracy: 0.1350, Top 1: 0.1875, Top 5: 0.4188, Top 10: 0.5413, Perplexity: 0.0000\n",
      "Epoch 6 completed in 6.40m. 0.05m per recording.\n"
     ]
    },
    {
     "name": "stderr",
     "output_type": "stream",
     "text": [
      "Training Epoch 7: 100%|██████████| 135/135 [06:00<00:00,  2.67s/it]\n"
     ]
    },
    {
     "name": "stdout",
     "output_type": "stream",
     "text": [
      "Testing at epoch 7\n",
      "Test unseen_subject completed. Accuracy: 0.1445, Top 1: 0.2215, Top 5: 0.4610, Top 10: 0.5770, Perplexity: 0.0000\n",
      "Test unseen_task completed. Accuracy: 0.2034, Top 1: 0.2725, Top 5: 0.5702, Top 10: 0.7114, Perplexity: 0.0000\n",
      "Test unseen_both completed. Accuracy: 0.1663, Top 1: 0.2500, Top 5: 0.4750, Top 10: 0.5913, Perplexity: 0.0000\n",
      "Epoch 7 completed in 6.45m. 0.05m per recording.\n"
     ]
    },
    {
     "name": "stderr",
     "output_type": "stream",
     "text": [
      "Training Epoch 8: 100%|██████████| 135/135 [05:57<00:00,  2.65s/it]\n"
     ]
    },
    {
     "name": "stdout",
     "output_type": "stream",
     "text": [
      "Testing at epoch 8\n",
      "Test unseen_subject completed. Accuracy: 0.1325, Top 1: 0.1975, Top 5: 0.4420, Top 10: 0.5890, Perplexity: 0.0000\n",
      "Test unseen_task completed. Accuracy: 0.1926, Top 1: 0.2635, Top 5: 0.5583, Top 10: 0.6919, Perplexity: 0.0000\n",
      "Test unseen_both completed. Accuracy: 0.1362, Top 1: 0.2050, Top 5: 0.4163, Top 10: 0.5625, Perplexity: 0.0000\n",
      "Epoch 8 completed in 6.40m. 0.05m per recording.\n"
     ]
    },
    {
     "name": "stderr",
     "output_type": "stream",
     "text": [
      "Training Epoch 9: 100%|██████████| 135/135 [05:58<00:00,  2.66s/it]\n"
     ]
    },
    {
     "name": "stdout",
     "output_type": "stream",
     "text": [
      "Testing at epoch 9\n",
      "Test unseen_subject completed. Accuracy: 0.1500, Top 1: 0.2225, Top 5: 0.4750, Top 10: 0.5980, Perplexity: 0.0000\n",
      "Test unseen_task completed. Accuracy: 0.2008, Top 1: 0.2702, Top 5: 0.5858, Top 10: 0.7264, Perplexity: 0.0000\n",
      "Test unseen_both completed. Accuracy: 0.1588, Top 1: 0.2388, Top 5: 0.4900, Top 10: 0.6000, Perplexity: 0.0000\n",
      "Epoch 9 completed in 6.44m. 0.05m per recording.\n"
     ]
    },
    {
     "name": "stderr",
     "output_type": "stream",
     "text": [
      "Training Epoch 10: 100%|██████████| 135/135 [05:46<00:00,  2.57s/it]\n"
     ]
    },
    {
     "name": "stdout",
     "output_type": "stream",
     "text": [
      "Testing at epoch 10\n",
      "Test unseen_subject completed. Accuracy: 0.1685, Top 1: 0.2685, Top 5: 0.5030, Top 10: 0.6225, Perplexity: 0.0000\n",
      "Test unseen_task completed. Accuracy: 0.2026, Top 1: 0.2735, Top 5: 0.5708, Top 10: 0.7118, Perplexity: 0.0000\n",
      "Test unseen_both completed. Accuracy: 0.1700, Top 1: 0.2350, Top 5: 0.4650, Top 10: 0.5737, Perplexity: 0.0000\n",
      "Epoch 10 completed in 6.23m. 0.05m per recording.\n"
     ]
    },
    {
     "name": "stderr",
     "output_type": "stream",
     "text": [
      "Training Epoch 11: 100%|██████████| 135/135 [05:52<00:00,  2.61s/it]\n"
     ]
    },
    {
     "name": "stdout",
     "output_type": "stream",
     "text": [
      "Testing at epoch 11\n",
      "Test unseen_subject completed. Accuracy: 0.1910, Top 1: 0.2700, Top 5: 0.5115, Top 10: 0.6070, Perplexity: 0.0000\n",
      "Test unseen_task completed. Accuracy: 0.2144, Top 1: 0.2841, Top 5: 0.5888, Top 10: 0.7202, Perplexity: 0.0000\n",
      "Test unseen_both completed. Accuracy: 0.1862, Top 1: 0.2600, Top 5: 0.5000, Top 10: 0.6012, Perplexity: 0.0000\n",
      "Epoch 11 completed in 6.34m. 0.05m per recording.\n"
     ]
    },
    {
     "name": "stderr",
     "output_type": "stream",
     "text": [
      "Training Epoch 12: 100%|██████████| 135/135 [05:51<00:00,  2.61s/it]\n"
     ]
    },
    {
     "name": "stdout",
     "output_type": "stream",
     "text": [
      "Testing at epoch 12\n",
      "Test unseen_subject completed. Accuracy: 0.1730, Top 1: 0.2495, Top 5: 0.5115, Top 10: 0.6335, Perplexity: 0.0000\n",
      "Test unseen_task completed. Accuracy: 0.2052, Top 1: 0.2706, Top 5: 0.5865, Top 10: 0.7321, Perplexity: 0.0000\n",
      "Test unseen_both completed. Accuracy: 0.1588, Top 1: 0.2300, Top 5: 0.4850, Top 10: 0.5975, Perplexity: 0.0000\n",
      "Epoch 12 completed in 6.30m. 0.05m per recording.\n"
     ]
    },
    {
     "name": "stderr",
     "output_type": "stream",
     "text": [
      "Training Epoch 13: 100%|██████████| 135/135 [05:57<00:00,  2.64s/it]\n"
     ]
    },
    {
     "name": "stdout",
     "output_type": "stream",
     "text": [
      "Testing at epoch 13\n",
      "Test unseen_subject completed. Accuracy: 0.1095, Top 1: 0.1840, Top 5: 0.4240, Top 10: 0.5460, Perplexity: 0.0000\n",
      "Test unseen_task completed. Accuracy: 0.1638, Top 1: 0.2260, Top 5: 0.4919, Top 10: 0.6357, Perplexity: 0.0000\n",
      "Test unseen_both completed. Accuracy: 0.1138, Top 1: 0.1825, Top 5: 0.4037, Top 10: 0.5413, Perplexity: 0.0000\n",
      "Epoch 13 completed in 6.38m. 0.05m per recording.\n"
     ]
    },
    {
     "name": "stderr",
     "output_type": "stream",
     "text": [
      "Training Epoch 14: 100%|██████████| 135/135 [05:58<00:00,  2.65s/it]\n"
     ]
    },
    {
     "name": "stdout",
     "output_type": "stream",
     "text": [
      "Testing at epoch 14\n",
      "Test unseen_subject completed. Accuracy: 0.1635, Top 1: 0.2475, Top 5: 0.4710, Top 10: 0.5870, Perplexity: 0.0000\n",
      "Test unseen_task completed. Accuracy: 0.2263, Top 1: 0.2992, Top 5: 0.5639, Top 10: 0.6807, Perplexity: 0.0000\n",
      "Test unseen_both completed. Accuracy: 0.1688, Top 1: 0.2475, Top 5: 0.4637, Top 10: 0.5613, Perplexity: 0.0000\n",
      "Epoch 14 completed in 6.39m. 0.05m per recording.\n"
     ]
    },
    {
     "name": "stderr",
     "output_type": "stream",
     "text": [
      "Training Epoch 15: 100%|██████████| 135/135 [06:01<00:00,  2.68s/it]\n"
     ]
    },
    {
     "name": "stdout",
     "output_type": "stream",
     "text": [
      "Testing at epoch 15\n",
      "Test unseen_subject completed. Accuracy: 0.1730, Top 1: 0.2595, Top 5: 0.5120, Top 10: 0.6150, Perplexity: 0.0000\n",
      "Test unseen_task completed. Accuracy: 0.1946, Top 1: 0.2620, Top 5: 0.5531, Top 10: 0.6945, Perplexity: 0.0000\n",
      "Test unseen_both completed. Accuracy: 0.1462, Top 1: 0.2162, Top 5: 0.4337, Top 10: 0.5813, Perplexity: 0.0000\n",
      "Epoch 15 completed in 6.43m. 0.05m per recording.\n"
     ]
    },
    {
     "name": "stderr",
     "output_type": "stream",
     "text": [
      "Training Epoch 16: 100%|██████████| 135/135 [05:55<00:00,  2.63s/it]\n"
     ]
    },
    {
     "name": "stdout",
     "output_type": "stream",
     "text": [
      "Testing at epoch 16\n",
      "Test unseen_subject completed. Accuracy: 0.1905, Top 1: 0.2725, Top 5: 0.5165, Top 10: 0.6180, Perplexity: 0.0000\n",
      "Test unseen_task completed. Accuracy: 0.2332, Top 1: 0.3087, Top 5: 0.6089, Top 10: 0.7328, Perplexity: 0.0000\n",
      "Test unseen_both completed. Accuracy: 0.1787, Top 1: 0.2587, Top 5: 0.5088, Top 10: 0.6250, Perplexity: 0.0000\n",
      "Epoch 16 completed in 6.35m. 0.05m per recording.\n"
     ]
    },
    {
     "name": "stderr",
     "output_type": "stream",
     "text": [
      "Training Epoch 17: 100%|██████████| 135/135 [05:56<00:00,  2.64s/it]\n"
     ]
    },
    {
     "name": "stdout",
     "output_type": "stream",
     "text": [
      "Testing at epoch 17\n",
      "Test unseen_subject completed. Accuracy: 0.1015, Top 1: 0.1600, Top 5: 0.3945, Top 10: 0.5345, Perplexity: 0.0000\n",
      "Test unseen_task completed. Accuracy: 0.1517, Top 1: 0.2072, Top 5: 0.4927, Top 10: 0.6317, Perplexity: 0.0000\n",
      "Test unseen_both completed. Accuracy: 0.0963, Top 1: 0.1625, Top 5: 0.3912, Top 10: 0.5400, Perplexity: 0.0000\n",
      "Epoch 17 completed in 6.36m. 0.05m per recording.\n"
     ]
    },
    {
     "name": "stderr",
     "output_type": "stream",
     "text": [
      "Training Epoch 18: 100%|██████████| 135/135 [06:03<00:00,  2.69s/it]\n"
     ]
    },
    {
     "name": "stdout",
     "output_type": "stream",
     "text": [
      "Testing at epoch 18\n",
      "Test unseen_subject completed. Accuracy: 0.1220, Top 1: 0.2035, Top 5: 0.4650, Top 10: 0.5810, Perplexity: 0.0000\n",
      "Test unseen_task completed. Accuracy: 0.1762, Top 1: 0.2427, Top 5: 0.5319, Top 10: 0.6769, Perplexity: 0.0000\n",
      "Test unseen_both completed. Accuracy: 0.1325, Top 1: 0.1975, Top 5: 0.4500, Top 10: 0.5650, Perplexity: 0.0000\n",
      "Epoch 18 completed in 6.47m. 0.05m per recording.\n"
     ]
    },
    {
     "name": "stderr",
     "output_type": "stream",
     "text": [
      "Training Epoch 19: 100%|██████████| 135/135 [05:56<00:00,  2.64s/it]\n"
     ]
    },
    {
     "name": "stdout",
     "output_type": "stream",
     "text": [
      "Testing at epoch 19\n",
      "Test unseen_subject completed. Accuracy: 0.1745, Top 1: 0.2575, Top 5: 0.4880, Top 10: 0.6060, Perplexity: 0.0000\n",
      "Test unseen_task completed. Accuracy: 0.2036, Top 1: 0.2744, Top 5: 0.5787, Top 10: 0.7134, Perplexity: 0.0000\n",
      "Test unseen_both completed. Accuracy: 0.1462, Top 1: 0.2238, Top 5: 0.4438, Top 10: 0.5687, Perplexity: 0.0000\n",
      "Epoch 19 completed in 6.37m. 0.05m per recording.\n"
     ]
    },
    {
     "name": "stderr",
     "output_type": "stream",
     "text": [
      "Training Epoch 20: 100%|██████████| 135/135 [06:01<00:00,  2.67s/it]\n"
     ]
    },
    {
     "name": "stdout",
     "output_type": "stream",
     "text": [
      "Testing at epoch 20\n",
      "Test unseen_subject completed. Accuracy: 0.1370, Top 1: 0.2065, Top 5: 0.4525, Top 10: 0.5825, Perplexity: 0.0000\n",
      "Test unseen_task completed. Accuracy: 0.1691, Top 1: 0.2332, Top 5: 0.5419, Top 10: 0.6814, Perplexity: 0.0000\n",
      "Test unseen_both completed. Accuracy: 0.1300, Top 1: 0.1888, Top 5: 0.4225, Top 10: 0.5425, Perplexity: 0.0000\n",
      "Epoch 20 completed in 6.42m. 0.05m per recording.\n"
     ]
    },
    {
     "name": "stderr",
     "output_type": "stream",
     "text": [
      "Training Epoch 21: 100%|██████████| 135/135 [06:04<00:00,  2.70s/it]\n"
     ]
    },
    {
     "name": "stdout",
     "output_type": "stream",
     "text": [
      "Testing at epoch 21\n",
      "Test unseen_subject completed. Accuracy: 0.1630, Top 1: 0.2420, Top 5: 0.4805, Top 10: 0.5835, Perplexity: 0.0000\n",
      "Test unseen_task completed. Accuracy: 0.1645, Top 1: 0.2297, Top 5: 0.5177, Top 10: 0.6631, Perplexity: 0.0000\n",
      "Test unseen_both completed. Accuracy: 0.1313, Top 1: 0.1925, Top 5: 0.4263, Top 10: 0.5312, Perplexity: 0.0000\n",
      "Epoch 21 completed in 6.49m. 0.05m per recording.\n"
     ]
    },
    {
     "name": "stderr",
     "output_type": "stream",
     "text": [
      "Training Epoch 22: 100%|██████████| 135/135 [06:00<00:00,  2.67s/it]\n"
     ]
    },
    {
     "name": "stdout",
     "output_type": "stream",
     "text": [
      "Testing at epoch 22\n",
      "Test unseen_subject completed. Accuracy: 0.1495, Top 1: 0.2250, Top 5: 0.4630, Top 10: 0.5770, Perplexity: 0.0000\n",
      "Test unseen_task completed. Accuracy: 0.1795, Top 1: 0.2403, Top 5: 0.5250, Top 10: 0.6674, Perplexity: 0.0000\n",
      "Test unseen_both completed. Accuracy: 0.1263, Top 1: 0.2125, Top 5: 0.4188, Top 10: 0.5575, Perplexity: 0.0000\n",
      "Epoch 22 completed in 6.42m. 0.05m per recording.\n"
     ]
    },
    {
     "name": "stderr",
     "output_type": "stream",
     "text": [
      "Training Epoch 23: 100%|██████████| 135/135 [05:13<00:00,  2.32s/it]\n"
     ]
    },
    {
     "name": "stdout",
     "output_type": "stream",
     "text": [
      "Testing at epoch 23\n",
      "Test unseen_subject completed. Accuracy: 0.1055, Top 1: 0.1745, Top 5: 0.4020, Top 10: 0.5265, Perplexity: 0.0000\n",
      "Test unseen_task completed. Accuracy: 0.1222, Top 1: 0.1748, Top 5: 0.4352, Top 10: 0.5899, Perplexity: 0.0000\n",
      "Test unseen_both completed. Accuracy: 0.0912, Top 1: 0.1313, Top 5: 0.3450, Top 10: 0.4662, Perplexity: 0.0000\n",
      "Epoch 23 completed in 5.69m. 0.04m per recording.\n"
     ]
    },
    {
     "name": "stderr",
     "output_type": "stream",
     "text": [
      "Training Epoch 24: 100%|██████████| 135/135 [05:16<00:00,  2.35s/it]\n"
     ]
    },
    {
     "name": "stdout",
     "output_type": "stream",
     "text": [
      "Testing at epoch 24\n",
      "Test unseen_subject completed. Accuracy: 0.0435, Top 1: 0.0690, Top 5: 0.2195, Top 10: 0.3275, Perplexity: 0.0000\n",
      "Test unseen_task completed. Accuracy: 0.0588, Top 1: 0.0829, Top 5: 0.2504, Top 10: 0.3789, Perplexity: 0.0000\n",
      "Test unseen_both completed. Accuracy: 0.0363, Top 1: 0.0638, Top 5: 0.1912, Top 10: 0.3000, Perplexity: 0.0000\n",
      "Epoch 24 completed in 5.72m. 0.04m per recording.\n"
     ]
    },
    {
     "name": "stderr",
     "output_type": "stream",
     "text": [
      "Training Epoch 25: 100%|██████████| 135/135 [05:16<00:00,  2.34s/it]\n"
     ]
    },
    {
     "name": "stdout",
     "output_type": "stream",
     "text": [
      "Testing at epoch 25\n",
      "Test unseen_subject completed. Accuracy: 0.1170, Top 1: 0.1790, Top 5: 0.4245, Top 10: 0.5470, Perplexity: 0.0000\n",
      "Test unseen_task completed. Accuracy: 0.1392, Top 1: 0.1944, Top 5: 0.4736, Top 10: 0.6217, Perplexity: 0.0000\n",
      "Test unseen_both completed. Accuracy: 0.0988, Top 1: 0.1425, Top 5: 0.3612, Top 10: 0.4775, Perplexity: 0.0000\n",
      "Epoch 25 completed in 5.75m. 0.04m per recording.\n"
     ]
    },
    {
     "name": "stderr",
     "output_type": "stream",
     "text": [
      "Training Epoch 26: 100%|██████████| 135/135 [05:13<00:00,  2.32s/it]\n"
     ]
    },
    {
     "name": "stdout",
     "output_type": "stream",
     "text": [
      "Testing at epoch 26\n",
      "Test unseen_subject completed. Accuracy: 0.1875, Top 1: 0.2685, Top 5: 0.5000, Top 10: 0.6070, Perplexity: 0.0000\n",
      "Test unseen_task completed. Accuracy: 0.1922, Top 1: 0.2555, Top 5: 0.5395, Top 10: 0.6750, Perplexity: 0.0000\n",
      "Test unseen_both completed. Accuracy: 0.1425, Top 1: 0.2087, Top 5: 0.4200, Top 10: 0.5275, Perplexity: 0.0000\n",
      "Epoch 26 completed in 5.65m. 0.04m per recording.\n"
     ]
    },
    {
     "name": "stderr",
     "output_type": "stream",
     "text": [
      "Training Epoch 27: 100%|██████████| 135/135 [05:15<00:00,  2.34s/it]\n"
     ]
    },
    {
     "name": "stdout",
     "output_type": "stream",
     "text": [
      "Testing at epoch 27\n",
      "Test unseen_subject completed. Accuracy: 0.1280, Top 1: 0.1895, Top 5: 0.4035, Top 10: 0.5135, Perplexity: 0.0000\n",
      "Test unseen_task completed. Accuracy: 0.1229, Top 1: 0.1665, Top 5: 0.4239, Top 10: 0.5755, Perplexity: 0.0000\n",
      "Test unseen_both completed. Accuracy: 0.0762, Top 1: 0.1338, Top 5: 0.3463, Top 10: 0.4625, Perplexity: 0.0000\n",
      "Epoch 27 completed in 5.73m. 0.04m per recording.\n",
      "Early stopping at epoch 27. Highest top 10 accuracy at epoch 16.\n",
      "Training completed.\n",
      "unseen_subject: Acc: 0.1905, Top 1: 0.2725, Top 5: 0.5165, Top 10: 0.6180\n",
      "unseen_task: Acc: 0.2332, Top 1: 0.3087, Top 5: 0.6089, Top 10: 0.7328\n",
      "unseen_both: Acc: 0.1787, Top 1: 0.2587, Top 5: 0.5088, Top 10: 0.6250\n"
     ]
    }
   ],
   "source": [
    "from pickle import NONE\n",
    "from train.training_session_v0 import TrainingSessionV0\n",
    "from config import TrainingConfigV0\n",
    "import multiprocessing\n",
    "\n",
    "data_partition = {\n",
    "    \"gwilliams2023\": {\n",
    "        \"testing_subjects\": [19, 20, 21],\n",
    "        \"testing_tasks\": [0],\n",
    "    },\n",
    "    # \"schoffelen2022\": {\n",
    "    #     \"testing_subjects\": [],\n",
    "    #     \"testing_tasks\": [8, 9],\n",
    "    # },\n",
    "}\n",
    "\n",
    "from config import SimpleConvConfig\n",
    "from models.simpleconv import SimpleConv\n",
    "import torch\n",
    "\n",
    "model_config = SimpleConvConfig(\n",
    "    # Str to list of possible conditions\n",
    "    mel_normalization=False,\n",
    "    conditions={\n",
    "        \"study\": [],\n",
    "        \"subject\": [],\n",
    "    },\n",
    "    # Channels\n",
    "    in_channels=208,\n",
    "    out_channels=128,\n",
    "    hidden_dim=384,\n",
    "    dropout=0.2,\n",
    "    initial_batch_norm=True,\n",
    "    # Sensor layout settings\n",
    "    layout_dim=2,\n",
    "    layout_proj=True,\n",
    "    layout_scaling=\"minmax\",\n",
    "    # Merger with spatial attn\n",
    "    merger=False,\n",
    "    merger_emb_type=None,\n",
    "    merger_emb_dim=0,\n",
    "    merger_channels=0,\n",
    "    merger_dropout=False,\n",
    "    merger_conditional=None,\n",
    "    # Inital\n",
    "    initial_linear=384,\n",
    "    initial_depth=1,\n",
    "    # Conditional layers\n",
    "    conditional_layers=False,\n",
    "    conditional_layers_dim=None,  # input or hidden_dim\n",
    "    # Conv layer overall structure\n",
    "    depth=6,\n",
    "    kernel_size=3,\n",
    "    growth=1.0,\n",
    "    dilation_growth=2,\n",
    "    dilation_period=5,\n",
    "    glu=1,\n",
    "    conv_dropout=0.2,\n",
    "    dropout_input=0.2,\n",
    "    batch_norm=True,\n",
    "    # Quantizer\n",
    "    quantizer=False,\n",
    "    num_codebooks=0,\n",
    "    codebook_size=0,\n",
    "    quantizer_commitment=0,\n",
    "    quantizer_temp_init=0,\n",
    "    quantizer_temp_min=0,\n",
    "    quantizer_temp_decay=0,\n",
    "    # Transformers Encoders\n",
    "    transformer_input=None,\n",
    "    transformer_encoder_emb=None,\n",
    "    transformer_encoder_layers=0,\n",
    "    transformer_encoder_heads=0,\n",
    "    # Transformer Decoders\n",
    "    transformer_decoder_emb=None,\n",
    "    transformer_decoder_layers=0,\n",
    "    transformer_decoder_heads=0,\n",
    "    transformer_decoder_dim=0,\n",
    ")\n",
    "\n",
    "config = TrainingConfigV0(\n",
    "    brain_encoder_config=model_config,\n",
    "    data_partition=data_partition,\n",
    "    # Pre-processing parameters\n",
    "    # Brain\n",
    "    new_freq=100,\n",
    "    frequency_bands={\"all\": (0.5, 40)},\n",
    "    max_random_shift=1.0,\n",
    "    window_size=4,\n",
    "    window_stride=1,\n",
    "    brain_clipping=None,\n",
    "    baseline_window=0.5,\n",
    "    notch_filter=True,\n",
    "    scaling=\"standard\",\n",
    "    delay=0.15,\n",
    "    # Hyperparameters\n",
    "    learning_rate=3e-4,\n",
    "    weight_decay=1e-4,\n",
    "    epochs=50,\n",
    "    batch_size=256,\n",
    "    use_clip_loss=True,\n",
    "    use_mse_loss=True,\n",
    "    alpha=0.6,\n",
    "    random_test_size=10,\n",
    "    seed=42,\n",
    ")\n",
    "\n",
    "session = TrainingSessionV0(\n",
    "    config=config,\n",
    "    studies={study: \"audio\" for study in data_partition.keys()},\n",
    "    data_path=\"data\",\n",
    "    save_path=\"saves/phase1/ablation/bandpass/40\",\n",
    "    clear_cache=True,\n",
    "    cache_name=\"cache_1\",\n",
    ")\n",
    "\n",
    "try:\n",
    "    session.train(\n",
    "        device=\"cuda\",\n",
    "        buffer_size=30,\n",
    "        num_workers=(multiprocessing.cpu_count() - 2) // 2,\n",
    "        max_cache_size=400,\n",
    "        current_epoch=0,\n",
    "    )\n",
    "except KeyboardInterrupt as e:\n",
    "    print(\"Exited\")"
   ]
  },
  {
   "cell_type": "markdown",
   "metadata": {},
   "source": [
    "## Band pass 40\n"
   ]
  },
  {
   "cell_type": "code",
   "execution_count": 4,
   "metadata": {},
   "outputs": [
    {
     "name": "stdout",
     "output_type": "stream",
     "text": [
      "Loading Gwilliams2023 with batch type audio\n",
      "Cleared cache for study gwilliams2023\n",
      "Data partitioned on studies ['gwilliams2023'].\n",
      "Train: 135, Unseen Task: 12, Unseen Subject: 45, Unseen Both: 4.\n",
      "\n",
      "GPU is not NVIDIA V100, A100, or H100. Speedup numbers may be lower than expected.\n",
      "SimpleConv initialized with 8448160 parameters, cond: ['study', 'subject']\n",
      "Merger False, merger channels 0\n",
      "ConvBlocks: 6, hidden_dim: 384, params 7973376\n"
     ]
    },
    {
     "name": "stderr",
     "output_type": "stream",
     "text": [
      "Training Epoch 1: 100%|██████████| 135/135 [38:18<00:00, 17.03s/it] \n"
     ]
    },
    {
     "name": "stdout",
     "output_type": "stream",
     "text": [
      "Testing at epoch 1\n",
      "Test unseen_subject completed. Accuracy: 0.0840, Top 1: 0.1345, Top 5: 0.3445, Top 10: 0.4705, Perplexity: 0.0000\n",
      "Test unseen_task completed. Accuracy: 0.0677, Top 1: 0.0962, Top 5: 0.3181, Top 10: 0.4821, Perplexity: 0.0000\n",
      "Test unseen_both completed. Accuracy: 0.0488, Top 1: 0.0912, Top 5: 0.2938, Top 10: 0.4300, Perplexity: 0.0000\n",
      "Epoch 1 completed in 43.09m. 0.32m per recording.\n"
     ]
    },
    {
     "name": "stderr",
     "output_type": "stream",
     "text": [
      "Training Epoch 2: 100%|██████████| 135/135 [05:52<00:00,  2.61s/it]\n"
     ]
    },
    {
     "name": "stdout",
     "output_type": "stream",
     "text": [
      "Testing at epoch 2\n",
      "Test unseen_subject completed. Accuracy: 0.1110, Top 1: 0.1760, Top 5: 0.4065, Top 10: 0.5395, Perplexity: 0.0000\n",
      "Test unseen_task completed. Accuracy: 0.1076, Top 1: 0.1547, Top 5: 0.4096, Top 10: 0.5642, Perplexity: 0.0000\n",
      "Test unseen_both completed. Accuracy: 0.1013, Top 1: 0.1500, Top 5: 0.3675, Top 10: 0.5200, Perplexity: 0.0000\n",
      "Epoch 2 completed in 6.38m. 0.05m per recording.\n"
     ]
    },
    {
     "name": "stderr",
     "output_type": "stream",
     "text": [
      "Training Epoch 3: 100%|██████████| 135/135 [05:45<00:00,  2.56s/it]\n"
     ]
    },
    {
     "name": "stdout",
     "output_type": "stream",
     "text": [
      "Testing at epoch 3\n",
      "Test unseen_subject completed. Accuracy: 0.1080, Top 1: 0.1650, Top 5: 0.4100, Top 10: 0.5430, Perplexity: 0.0000\n",
      "Test unseen_task completed. Accuracy: 0.1468, Top 1: 0.2063, Top 5: 0.4962, Top 10: 0.6423, Perplexity: 0.0000\n",
      "Test unseen_both completed. Accuracy: 0.1013, Top 1: 0.1650, Top 5: 0.3938, Top 10: 0.5175, Perplexity: 0.0000\n",
      "Epoch 3 completed in 6.27m. 0.05m per recording.\n"
     ]
    },
    {
     "name": "stderr",
     "output_type": "stream",
     "text": [
      "Training Epoch 4: 100%|██████████| 135/135 [05:46<00:00,  2.57s/it]\n"
     ]
    },
    {
     "name": "stdout",
     "output_type": "stream",
     "text": [
      "Testing at epoch 4\n",
      "Test unseen_subject completed. Accuracy: 0.1335, Top 1: 0.2100, Top 5: 0.4355, Top 10: 0.5625, Perplexity: 0.0000\n",
      "Test unseen_task completed. Accuracy: 0.1935, Top 1: 0.2612, Top 5: 0.5624, Top 10: 0.7022, Perplexity: 0.0000\n",
      "Test unseen_both completed. Accuracy: 0.1550, Top 1: 0.2375, Top 5: 0.4675, Top 10: 0.5813, Perplexity: 0.0000\n",
      "Epoch 4 completed in 6.27m. 0.05m per recording.\n"
     ]
    },
    {
     "name": "stderr",
     "output_type": "stream",
     "text": [
      "Training Epoch 5: 100%|██████████| 135/135 [05:48<00:00,  2.58s/it]\n"
     ]
    },
    {
     "name": "stdout",
     "output_type": "stream",
     "text": [
      "Testing at epoch 5\n",
      "Test unseen_subject completed. Accuracy: 0.1335, Top 1: 0.2115, Top 5: 0.4610, Top 10: 0.5815, Perplexity: 0.0000\n",
      "Test unseen_task completed. Accuracy: 0.1746, Top 1: 0.2361, Top 5: 0.5288, Top 10: 0.6721, Perplexity: 0.0000\n",
      "Test unseen_both completed. Accuracy: 0.1413, Top 1: 0.2062, Top 5: 0.4475, Top 10: 0.5737, Perplexity: 0.0000\n",
      "Epoch 5 completed in 6.33m. 0.05m per recording.\n"
     ]
    },
    {
     "name": "stderr",
     "output_type": "stream",
     "text": [
      "Training Epoch 6: 100%|██████████| 135/135 [05:49<00:00,  2.59s/it]\n"
     ]
    },
    {
     "name": "stdout",
     "output_type": "stream",
     "text": [
      "Testing at epoch 6\n",
      "Test unseen_subject completed. Accuracy: 0.1470, Top 1: 0.2200, Top 5: 0.4630, Top 10: 0.5745, Perplexity: 0.0000\n",
      "Test unseen_task completed. Accuracy: 0.1709, Top 1: 0.2382, Top 5: 0.5483, Top 10: 0.6902, Perplexity: 0.0000\n",
      "Test unseen_both completed. Accuracy: 0.1212, Top 1: 0.2000, Top 5: 0.4300, Top 10: 0.5537, Perplexity: 0.0000\n",
      "Epoch 6 completed in 6.36m. 0.05m per recording.\n"
     ]
    },
    {
     "name": "stderr",
     "output_type": "stream",
     "text": [
      "Training Epoch 7: 100%|██████████| 135/135 [05:47<00:00,  2.57s/it]\n"
     ]
    },
    {
     "name": "stdout",
     "output_type": "stream",
     "text": [
      "Testing at epoch 7\n",
      "Test unseen_subject completed. Accuracy: 0.1650, Top 1: 0.2515, Top 5: 0.4890, Top 10: 0.5960, Perplexity: 0.0000\n",
      "Test unseen_task completed. Accuracy: 0.2069, Top 1: 0.2758, Top 5: 0.5855, Top 10: 0.7247, Perplexity: 0.0000\n",
      "Test unseen_both completed. Accuracy: 0.1562, Top 1: 0.2400, Top 5: 0.4875, Top 10: 0.5887, Perplexity: 0.0000\n",
      "Epoch 7 completed in 6.27m. 0.05m per recording.\n"
     ]
    },
    {
     "name": "stderr",
     "output_type": "stream",
     "text": [
      "Training Epoch 8: 100%|██████████| 135/135 [05:55<00:00,  2.64s/it]\n"
     ]
    },
    {
     "name": "stdout",
     "output_type": "stream",
     "text": [
      "Testing at epoch 8\n",
      "Test unseen_subject completed. Accuracy: 0.1555, Top 1: 0.2325, Top 5: 0.4860, Top 10: 0.6040, Perplexity: 0.0000\n",
      "Test unseen_task completed. Accuracy: 0.1996, Top 1: 0.2707, Top 5: 0.5743, Top 10: 0.7210, Perplexity: 0.0000\n",
      "Test unseen_both completed. Accuracy: 0.1575, Top 1: 0.2387, Top 5: 0.4587, Top 10: 0.6038, Perplexity: 0.0000\n",
      "Epoch 8 completed in 6.40m. 0.05m per recording.\n"
     ]
    },
    {
     "name": "stderr",
     "output_type": "stream",
     "text": [
      "Training Epoch 9: 100%|██████████| 135/135 [05:49<00:00,  2.59s/it]\n"
     ]
    },
    {
     "name": "stdout",
     "output_type": "stream",
     "text": [
      "Testing at epoch 9\n",
      "Test unseen_subject completed. Accuracy: 0.1230, Top 1: 0.1900, Top 5: 0.3710, Top 10: 0.4860, Perplexity: 0.0000\n",
      "Test unseen_task completed. Accuracy: 0.1782, Top 1: 0.2374, Top 5: 0.5141, Top 10: 0.6363, Perplexity: 0.0000\n",
      "Test unseen_both completed. Accuracy: 0.1137, Top 1: 0.1825, Top 5: 0.3725, Top 10: 0.5000, Perplexity: 0.0000\n",
      "Epoch 9 completed in 6.30m. 0.05m per recording.\n"
     ]
    },
    {
     "name": "stderr",
     "output_type": "stream",
     "text": [
      "Training Epoch 10: 100%|██████████| 135/135 [05:49<00:00,  2.59s/it]\n"
     ]
    },
    {
     "name": "stdout",
     "output_type": "stream",
     "text": [
      "Testing at epoch 10\n",
      "Test unseen_subject completed. Accuracy: 0.1650, Top 1: 0.2480, Top 5: 0.4970, Top 10: 0.6195, Perplexity: 0.0000\n",
      "Test unseen_task completed. Accuracy: 0.1872, Top 1: 0.2566, Top 5: 0.5692, Top 10: 0.7056, Perplexity: 0.0000\n",
      "Test unseen_both completed. Accuracy: 0.1550, Top 1: 0.2288, Top 5: 0.4587, Top 10: 0.5850, Perplexity: 0.0000\n",
      "Epoch 10 completed in 6.35m. 0.05m per recording.\n"
     ]
    },
    {
     "name": "stderr",
     "output_type": "stream",
     "text": [
      "Training Epoch 11: 100%|██████████| 135/135 [05:44<00:00,  2.55s/it]\n"
     ]
    },
    {
     "name": "stdout",
     "output_type": "stream",
     "text": [
      "Testing at epoch 11\n",
      "Test unseen_subject completed. Accuracy: 0.1700, Top 1: 0.2425, Top 5: 0.4600, Top 10: 0.5530, Perplexity: 0.0000\n",
      "Test unseen_task completed. Accuracy: 0.2243, Top 1: 0.2994, Top 5: 0.5848, Top 10: 0.7068, Perplexity: 0.0000\n",
      "Test unseen_both completed. Accuracy: 0.1425, Top 1: 0.2087, Top 5: 0.4275, Top 10: 0.5363, Perplexity: 0.0000\n",
      "Epoch 11 completed in 6.24m. 0.05m per recording.\n"
     ]
    },
    {
     "name": "stderr",
     "output_type": "stream",
     "text": [
      "Training Epoch 12: 100%|██████████| 135/135 [05:48<00:00,  2.58s/it]\n"
     ]
    },
    {
     "name": "stdout",
     "output_type": "stream",
     "text": [
      "Testing at epoch 12\n",
      "Test unseen_subject completed. Accuracy: 0.1540, Top 1: 0.2290, Top 5: 0.4455, Top 10: 0.5515, Perplexity: 0.0000\n",
      "Test unseen_task completed. Accuracy: 0.1974, Top 1: 0.2647, Top 5: 0.5531, Top 10: 0.6821, Perplexity: 0.0000\n",
      "Test unseen_both completed. Accuracy: 0.1463, Top 1: 0.2100, Top 5: 0.4175, Top 10: 0.5438, Perplexity: 0.0000\n",
      "Epoch 12 completed in 6.32m. 0.05m per recording.\n"
     ]
    },
    {
     "name": "stderr",
     "output_type": "stream",
     "text": [
      "Training Epoch 13: 100%|██████████| 135/135 [05:46<00:00,  2.57s/it]\n"
     ]
    },
    {
     "name": "stdout",
     "output_type": "stream",
     "text": [
      "Testing at epoch 13\n",
      "Test unseen_subject completed. Accuracy: 0.1950, Top 1: 0.2725, Top 5: 0.5145, Top 10: 0.6205, Perplexity: 0.0000\n",
      "Test unseen_task completed. Accuracy: 0.2027, Top 1: 0.2774, Top 5: 0.5919, Top 10: 0.7333, Perplexity: 0.0000\n",
      "Test unseen_both completed. Accuracy: 0.1613, Top 1: 0.2388, Top 5: 0.4738, Top 10: 0.5975, Perplexity: 0.0000\n",
      "Epoch 13 completed in 6.26m. 0.05m per recording.\n"
     ]
    },
    {
     "name": "stderr",
     "output_type": "stream",
     "text": [
      "Training Epoch 14: 100%|██████████| 135/135 [05:50<00:00,  2.60s/it]\n"
     ]
    },
    {
     "name": "stdout",
     "output_type": "stream",
     "text": [
      "Testing at epoch 14\n",
      "Test unseen_subject completed. Accuracy: 0.2010, Top 1: 0.2810, Top 5: 0.5115, Top 10: 0.6245, Perplexity: 0.0000\n",
      "Test unseen_task completed. Accuracy: 0.2199, Top 1: 0.2927, Top 5: 0.5836, Top 10: 0.7145, Perplexity: 0.0000\n",
      "Test unseen_both completed. Accuracy: 0.2125, Top 1: 0.2838, Top 5: 0.4862, Top 10: 0.5800, Perplexity: 0.0000\n",
      "Epoch 14 completed in 6.37m. 0.05m per recording.\n"
     ]
    },
    {
     "name": "stderr",
     "output_type": "stream",
     "text": [
      "Training Epoch 15: 100%|██████████| 135/135 [05:53<00:00,  2.62s/it]\n"
     ]
    },
    {
     "name": "stdout",
     "output_type": "stream",
     "text": [
      "Testing at epoch 15\n",
      "Test unseen_subject completed. Accuracy: 0.1605, Top 1: 0.2375, Top 5: 0.4915, Top 10: 0.5980, Perplexity: 0.0000\n",
      "Test unseen_task completed. Accuracy: 0.1889, Top 1: 0.2538, Top 5: 0.5407, Top 10: 0.6790, Perplexity: 0.0000\n",
      "Test unseen_both completed. Accuracy: 0.1613, Top 1: 0.2475, Top 5: 0.4813, Top 10: 0.5813, Perplexity: 0.0000\n",
      "Epoch 15 completed in 6.41m. 0.05m per recording.\n"
     ]
    },
    {
     "name": "stderr",
     "output_type": "stream",
     "text": [
      "Training Epoch 16: 100%|██████████| 135/135 [05:54<00:00,  2.62s/it]\n"
     ]
    },
    {
     "name": "stdout",
     "output_type": "stream",
     "text": [
      "Testing at epoch 16\n",
      "Test unseen_subject completed. Accuracy: 0.1125, Top 1: 0.1865, Top 5: 0.4205, Top 10: 0.5395, Perplexity: 0.0000\n",
      "Test unseen_task completed. Accuracy: 0.1637, Top 1: 0.2281, Top 5: 0.5361, Top 10: 0.6804, Perplexity: 0.0000\n",
      "Test unseen_both completed. Accuracy: 0.1125, Top 1: 0.1875, Top 5: 0.4663, Top 10: 0.5837, Perplexity: 0.0000\n",
      "Epoch 16 completed in 6.40m. 0.05m per recording.\n"
     ]
    },
    {
     "name": "stderr",
     "output_type": "stream",
     "text": [
      "Training Epoch 17: 100%|██████████| 135/135 [05:49<00:00,  2.59s/it]\n"
     ]
    },
    {
     "name": "stdout",
     "output_type": "stream",
     "text": [
      "Testing at epoch 17\n",
      "Test unseen_subject completed. Accuracy: 0.1220, Top 1: 0.2030, Top 5: 0.4590, Top 10: 0.5675, Perplexity: 0.0000\n",
      "Test unseen_task completed. Accuracy: 0.1920, Top 1: 0.2564, Top 5: 0.5404, Top 10: 0.6811, Perplexity: 0.0000\n",
      "Test unseen_both completed. Accuracy: 0.1250, Top 1: 0.1938, Top 5: 0.4188, Top 10: 0.5613, Perplexity: 0.0000\n",
      "Epoch 17 completed in 6.32m. 0.05m per recording.\n"
     ]
    },
    {
     "name": "stderr",
     "output_type": "stream",
     "text": [
      "Training Epoch 18: 100%|██████████| 135/135 [05:48<00:00,  2.58s/it]\n"
     ]
    },
    {
     "name": "stdout",
     "output_type": "stream",
     "text": [
      "Testing at epoch 18\n",
      "Test unseen_subject completed. Accuracy: 0.1435, Top 1: 0.2180, Top 5: 0.4725, Top 10: 0.5950, Perplexity: 0.0000\n",
      "Test unseen_task completed. Accuracy: 0.1880, Top 1: 0.2505, Top 5: 0.5345, Top 10: 0.6776, Perplexity: 0.0000\n",
      "Test unseen_both completed. Accuracy: 0.1688, Top 1: 0.2387, Top 5: 0.4525, Top 10: 0.5825, Perplexity: 0.0000\n",
      "Epoch 18 completed in 6.31m. 0.05m per recording.\n"
     ]
    },
    {
     "name": "stderr",
     "output_type": "stream",
     "text": [
      "Training Epoch 19: 100%|██████████| 135/135 [05:49<00:00,  2.59s/it]\n"
     ]
    },
    {
     "name": "stdout",
     "output_type": "stream",
     "text": [
      "Testing at epoch 19\n",
      "Test unseen_subject completed. Accuracy: 0.1045, Top 1: 0.1705, Top 5: 0.4155, Top 10: 0.5290, Perplexity: 0.0000\n",
      "Test unseen_task completed. Accuracy: 0.1742, Top 1: 0.2378, Top 5: 0.5307, Top 10: 0.6741, Perplexity: 0.0000\n",
      "Test unseen_both completed. Accuracy: 0.1125, Top 1: 0.1638, Top 5: 0.4150, Top 10: 0.5363, Perplexity: 0.0000\n",
      "Epoch 19 completed in 6.33m. 0.05m per recording.\n"
     ]
    },
    {
     "name": "stderr",
     "output_type": "stream",
     "text": [
      "Training Epoch 20: 100%|██████████| 135/135 [05:57<00:00,  2.65s/it]\n"
     ]
    },
    {
     "name": "stdout",
     "output_type": "stream",
     "text": [
      "Testing at epoch 20\n",
      "Test unseen_subject completed. Accuracy: 0.1735, Top 1: 0.2620, Top 5: 0.4935, Top 10: 0.6005, Perplexity: 0.0000\n",
      "Test unseen_task completed. Accuracy: 0.1980, Top 1: 0.2673, Top 5: 0.5681, Top 10: 0.7046, Perplexity: 0.0000\n",
      "Test unseen_both completed. Accuracy: 0.1450, Top 1: 0.2113, Top 5: 0.4437, Top 10: 0.5662, Perplexity: 0.0000\n",
      "Epoch 20 completed in 6.45m. 0.05m per recording.\n"
     ]
    },
    {
     "name": "stderr",
     "output_type": "stream",
     "text": [
      "Training Epoch 21: 100%|██████████| 135/135 [05:50<00:00,  2.59s/it]\n"
     ]
    },
    {
     "name": "stdout",
     "output_type": "stream",
     "text": [
      "Testing at epoch 21\n",
      "Test unseen_subject completed. Accuracy: 0.1645, Top 1: 0.2370, Top 5: 0.4745, Top 10: 0.5780, Perplexity: 0.0000\n",
      "Test unseen_task completed. Accuracy: 0.1839, Top 1: 0.2507, Top 5: 0.5459, Top 10: 0.6828, Perplexity: 0.0000\n",
      "Test unseen_both completed. Accuracy: 0.1450, Top 1: 0.2125, Top 5: 0.4612, Top 10: 0.5663, Perplexity: 0.0000\n",
      "Epoch 21 completed in 6.33m. 0.05m per recording.\n"
     ]
    },
    {
     "name": "stderr",
     "output_type": "stream",
     "text": [
      "Training Epoch 22: 100%|██████████| 135/135 [05:22<00:00,  2.39s/it]\n"
     ]
    },
    {
     "name": "stdout",
     "output_type": "stream",
     "text": [
      "Testing at epoch 22\n",
      "Test unseen_subject completed. Accuracy: 0.1475, Top 1: 0.2110, Top 5: 0.4415, Top 10: 0.5575, Perplexity: 0.0000\n",
      "Test unseen_task completed. Accuracy: 0.1665, Top 1: 0.2291, Top 5: 0.5141, Top 10: 0.6500, Perplexity: 0.0000\n",
      "Test unseen_both completed. Accuracy: 0.1100, Top 1: 0.1763, Top 5: 0.3700, Top 10: 0.5125, Perplexity: 0.0000\n",
      "Epoch 22 completed in 5.84m. 0.04m per recording.\n"
     ]
    },
    {
     "name": "stderr",
     "output_type": "stream",
     "text": [
      "Training Epoch 23: 100%|██████████| 135/135 [05:13<00:00,  2.32s/it]\n"
     ]
    },
    {
     "name": "stdout",
     "output_type": "stream",
     "text": [
      "Testing at epoch 23\n",
      "Test unseen_subject completed. Accuracy: 0.1285, Top 1: 0.2075, Top 5: 0.4465, Top 10: 0.5555, Perplexity: 0.0000\n",
      "Test unseen_task completed. Accuracy: 0.1417, Top 1: 0.1967, Top 5: 0.4736, Top 10: 0.6197, Perplexity: 0.0000\n",
      "Test unseen_both completed. Accuracy: 0.1075, Top 1: 0.1638, Top 5: 0.3925, Top 10: 0.5112, Perplexity: 0.0000\n",
      "Epoch 23 completed in 5.68m. 0.04m per recording.\n"
     ]
    },
    {
     "name": "stderr",
     "output_type": "stream",
     "text": [
      "Training Epoch 24: 100%|██████████| 135/135 [05:12<00:00,  2.31s/it]\n"
     ]
    },
    {
     "name": "stdout",
     "output_type": "stream",
     "text": [
      "Testing at epoch 24\n",
      "Test unseen_subject completed. Accuracy: 0.1475, Top 1: 0.2185, Top 5: 0.4370, Top 10: 0.5500, Perplexity: 0.0000\n",
      "Test unseen_task completed. Accuracy: 0.1426, Top 1: 0.1969, Top 5: 0.4747, Top 10: 0.6117, Perplexity: 0.0000\n",
      "Test unseen_both completed. Accuracy: 0.1062, Top 1: 0.1688, Top 5: 0.3675, Top 10: 0.4838, Perplexity: 0.0000\n",
      "Epoch 24 completed in 5.76m. 0.04m per recording.\n",
      "Early stopping at epoch 24. Highest top 10 accuracy at epoch 13.\n",
      "Training completed.\n",
      "unseen_subject: Acc: 0.1950, Top 1: 0.2725, Top 5: 0.5145, Top 10: 0.6205\n",
      "unseen_task: Acc: 0.2027, Top 1: 0.2774, Top 5: 0.5919, Top 10: 0.7333\n",
      "unseen_both: Acc: 0.1613, Top 1: 0.2388, Top 5: 0.4738, Top 10: 0.5975\n"
     ]
    }
   ],
   "source": [
    "del session.logger\n",
    "del session\n",
    "\n",
    "\n",
    "from pickle import NONE\n",
    "from train.training_session_v0 import TrainingSessionV0\n",
    "from config import TrainingConfigV0\n",
    "import multiprocessing\n",
    "\n",
    "data_partition = {\n",
    "    \"gwilliams2023\": {\n",
    "        \"testing_subjects\": [19, 20, 21],\n",
    "        \"testing_tasks\": [0],\n",
    "    },\n",
    "    # \"schoffelen2022\": {\n",
    "    #     \"testing_subjects\": [],\n",
    "    #     \"testing_tasks\": [8, 9],\n",
    "    # },\n",
    "}\n",
    "\n",
    "from config import SimpleConvConfig\n",
    "from models.simpleconv import SimpleConv\n",
    "import torch\n",
    "\n",
    "model_config = SimpleConvConfig(\n",
    "    # Str to list of possible conditions\n",
    "    mel_normalization=False,\n",
    "    conditions={\n",
    "        \"study\": [],\n",
    "        \"subject\": [],\n",
    "    },\n",
    "    # Channels\n",
    "    in_channels=208,\n",
    "    out_channels=128,\n",
    "    hidden_dim=384,\n",
    "    dropout=0.2,\n",
    "    initial_batch_norm=True,\n",
    "    # Sensor layout settings\n",
    "    layout_dim=2,\n",
    "    layout_proj=True,\n",
    "    layout_scaling=\"minmax\",\n",
    "    # Merger with spatial attn\n",
    "    merger=False,\n",
    "    merger_emb_type=None,\n",
    "    merger_emb_dim=0,\n",
    "    merger_channels=0,\n",
    "    merger_dropout=False,\n",
    "    merger_conditional=None,\n",
    "    # Inital\n",
    "    initial_linear=384,\n",
    "    initial_depth=1,\n",
    "    # Conditional layers\n",
    "    conditional_layers=False,\n",
    "    conditional_layers_dim=None,  # input or hidden_dim\n",
    "    # Conv layer overall structure\n",
    "    depth=6,\n",
    "    kernel_size=3,\n",
    "    growth=1.0,\n",
    "    dilation_growth=2,\n",
    "    dilation_period=5,\n",
    "    glu=1,\n",
    "    conv_dropout=0.2,\n",
    "    dropout_input=0.2,\n",
    "    batch_norm=True,\n",
    "    # Quantizer\n",
    "    quantizer=False,\n",
    "    num_codebooks=0,\n",
    "    codebook_size=0,\n",
    "    quantizer_commitment=0,\n",
    "    quantizer_temp_init=0,\n",
    "    quantizer_temp_min=0,\n",
    "    quantizer_temp_decay=0,\n",
    "    # Transformers Encoders\n",
    "    transformer_input=None,\n",
    "    transformer_encoder_emb=None,\n",
    "    transformer_encoder_layers=0,\n",
    "    transformer_encoder_heads=0,\n",
    "    # Transformer Decoders\n",
    "    transformer_decoder_emb=None,\n",
    "    transformer_decoder_layers=0,\n",
    "    transformer_decoder_heads=0,\n",
    "    transformer_decoder_dim=0,\n",
    ")\n",
    "\n",
    "config = TrainingConfigV0(\n",
    "    brain_encoder_config=model_config,\n",
    "    data_partition=data_partition,\n",
    "    # Pre-processing parameters\n",
    "    # Brain\n",
    "    new_freq=100,\n",
    "    frequency_bands={\"all\": (0.5, 80)},\n",
    "    max_random_shift=1.0,\n",
    "    window_size=4,\n",
    "    window_stride=1,\n",
    "    brain_clipping=None,\n",
    "    baseline_window=0.5,\n",
    "    notch_filter=None,\n",
    "    scaling=\"standard\",\n",
    "    delay=0.15,\n",
    "    # Hyperparameters\n",
    "    learning_rate=3e-4,\n",
    "    weight_decay=1e-4,\n",
    "    epochs=50,\n",
    "    batch_size=256,\n",
    "    use_clip_loss=True,\n",
    "    use_mse_loss=True,\n",
    "    alpha=0.6,\n",
    "    random_test_size=10,\n",
    "    seed=42,\n",
    ")\n",
    "\n",
    "session = TrainingSessionV0(\n",
    "    config=config,\n",
    "    studies={study: \"audio\" for study in data_partition.keys()},\n",
    "    data_path=\"data\",\n",
    "    save_path=\"saves/phase1/ablation/no_notch_no_clip\",\n",
    "    clear_cache=True,\n",
    "    cache_name=\"cache_1\",\n",
    ")\n",
    "\n",
    "try:\n",
    "    session.train(\n",
    "        device=\"cuda\",\n",
    "        buffer_size=30,\n",
    "        num_workers=(multiprocessing.cpu_count() - 2) // 2,\n",
    "        max_cache_size=400,\n",
    "        current_epoch=0,\n",
    "    )\n",
    "except KeyboardInterrupt as e:\n",
    "    print(\"Exited\")"
   ]
  },
  {
   "cell_type": "markdown",
   "metadata": {},
   "source": [
    "## no notch no clip"
   ]
  }
 ],
 "metadata": {
  "kernelspec": {
   "display_name": "brain",
   "language": "python",
   "name": "python3"
  },
  "language_info": {
   "codemirror_mode": {
    "name": "ipython",
    "version": 3
   },
   "file_extension": ".py",
   "mimetype": "text/x-python",
   "name": "python",
   "nbconvert_exporter": "python",
   "pygments_lexer": "ipython3",
   "version": "3.11.7"
  }
 },
 "nbformat": 4,
 "nbformat_minor": 4
}
