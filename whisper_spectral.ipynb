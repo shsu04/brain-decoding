{
 "cells": [
  {
   "cell_type": "code",
   "execution_count": null,
   "metadata": {},
   "outputs": [
    {
     "name": "stdout",
     "output_type": "stream",
     "text": [
      "Loading Gwilliams2023 with batch type audio\n",
      "Data partitioned on studies ['gwilliams2023'].\n",
      "Train: 135, Unseen Task: 45, Unseen Subject: 12, Unseen Both: 4.\n",
      "\n",
      "RNNEncoder initialized as conformer with 4 layers, 256 d_model, 4 nhead\n",
      "\tEmbedding: sinusoidal, params: 6075392\n",
      "SpectralConv initialized with 15127120 parameters, cond: ['study', 'subject']\n",
      "Merger False, merger channels 0\n",
      "ConvBlocks: [256, 128, 64, 32, 16, 8, 4], hidden_dim: 256, params 8825184\n",
      "Found 24 target modules for AdaLora: ['k_proj', 'q_proj', 'v_proj', 'out_proj', 'fc1', 'fc2']\n",
      "openai/whisper-tiny.en loaded with 8540472 frozen params (4 layers and 384 dim).\n",
      "AdaLora has 332064 trainable params.\n"
     ]
    },
    {
     "name": "stderr",
     "output_type": "stream",
     "text": [
      "2025-02-19 17:53:51,382\tINFO worker.py:1841 -- Started a local Ray instance.\n",
      "Training Epoch 1: 100%|██████████| 135/135 [13:46<00:00,  6.12s/it]\n"
     ]
    },
    {
     "name": "stdout",
     "output_type": "stream",
     "text": [
      "Testing done in 0.95m.\n",
      "Epoch 1 done in 14.75m. 0.11m/recording.\n",
      "New highest test accuracy: 0.0094, lowest final-layer loss: 1.9698, epoch 1.\n"
     ]
    },
    {
     "name": "stderr",
     "output_type": "stream",
     "text": [
      "Training Epoch 2:  58%|█████▊    | 78/135 [08:19<06:31,  6.86s/it] "
     ]
    },
    {
     "name": "stdout",
     "output_type": "stream",
     "text": [
      "Starting rank reallocation at recording 1350.\n"
     ]
    },
    {
     "name": "stderr",
     "output_type": "stream",
     "text": [
      "Training Epoch 2: 100%|██████████| 135/135 [13:38<00:00,  6.07s/it]\n"
     ]
    },
    {
     "name": "stdout",
     "output_type": "stream",
     "text": [
      "Testing done in 0.96m.\n",
      "Epoch 2 done in 14.61m. 0.11m/recording.\n",
      "New highest test accuracy: 0.0213, lowest final-layer loss: 1.9153, epoch 2.\n"
     ]
    },
    {
     "name": "stderr",
     "output_type": "stream",
     "text": [
      "Training Epoch 3: 100%|██████████| 135/135 [13:35<00:00,  6.04s/it]\n"
     ]
    },
    {
     "name": "stdout",
     "output_type": "stream",
     "text": [
      "Testing done in 0.95m.\n",
      "Epoch 3 done in 14.54m. 0.11m/recording.\n",
      "New highest test accuracy: 0.0333, lowest final-layer loss: 1.9087, epoch 3.\n"
     ]
    },
    {
     "name": "stderr",
     "output_type": "stream",
     "text": [
      "Training Epoch 4: 100%|██████████| 135/135 [13:37<00:00,  6.05s/it]\n"
     ]
    },
    {
     "name": "stdout",
     "output_type": "stream",
     "text": [
      "Testing done in 0.96m.\n",
      "Epoch 4 done in 14.58m. 0.11m/recording.\n"
     ]
    },
    {
     "name": "stderr",
     "output_type": "stream",
     "text": [
      "Training Epoch 5: 100%|██████████| 135/135 [13:36<00:00,  6.05s/it]\n"
     ]
    },
    {
     "name": "stdout",
     "output_type": "stream",
     "text": [
      "Testing done in 0.97m.\n",
      "Epoch 5 done in 14.58m. 0.11m/recording.\n"
     ]
    },
    {
     "name": "stderr",
     "output_type": "stream",
     "text": [
      "Training Epoch 6:   0%|          | 0/135 [00:00<?, ?it/s]"
     ]
    }
   ],
   "source": [
    "import torch\n",
    "import gc\n",
    "import logging\n",
    "\n",
    "# del session.logger\n",
    "# del session.epoch_logger\n",
    "# del session\n",
    "# gc.collect()\n",
    "# torch.cuda.empty_cache()\n",
    "\n",
    "import multiprocessing\n",
    "from train.training_session_v1 import TrainingSessionV1\n",
    "from config import TrainingConfigV1\n",
    "from config import SpectralConvConfig\n",
    "\n",
    "data_partition = {\n",
    "    \"gwilliams2023\": {\n",
    "        \"testing_subjects\": [19, 20, 21],\n",
    "        \"testing_tasks\": [0],\n",
    "    },\n",
    "    # \"armeini2022\": {\n",
    "    #     \"testing_subjects\": [],\n",
    "    #     \"testing_tasks\": [8, 9],\n",
    "    # },\n",
    "}\n",
    "\n",
    "model_config = SpectralConvConfig(\n",
    "    # Str to list of possible conditions\n",
    "    mel_normalization=False,\n",
    "    conditions={\n",
    "        \"study\": [],\n",
    "        \"subject\": [],\n",
    "    },\n",
    "    # Channels\n",
    "    in_channels=208,\n",
    "    out_channels=80,\n",
    "    hidden_dim=256,\n",
    "    dropout=0.2,\n",
    "    initial_batch_norm=True,\n",
    "    # Sensor layout settings\n",
    "    layout_dim=2,\n",
    "    layout_proj=True,\n",
    "    layout_scaling=\"minmax\",\n",
    "    # Merger with spatial attn\n",
    "    merger=False,\n",
    "    merger_emb_type=None,\n",
    "    merger_emb_dim=0,\n",
    "    merger_channels=0,\n",
    "    merger_dropout=0.0,  # Float\n",
    "    merger_conditional=None,\n",
    "    # Inital\n",
    "    initial_linear=256,\n",
    "    initial_depth=1,\n",
    "    # Conditional layers\n",
    "    conditional_layers=False,\n",
    "    conditional_layers_dim=None,  # input or hidden_dim\n",
    "    # Conv layer overall structure\n",
    "    cnn_channels=[384, 384, 384, 384, 384, 384],\n",
    "    kernel_size=3,\n",
    "    dilation_growth=2,\n",
    "    dilation_period=5,\n",
    "    glu=1,\n",
    "    conv_dropout=0.2,\n",
    "    dropout_input=0.2,\n",
    "    batch_norm=True,\n",
    "    half=True,\n",
    "    cnn_pos_encoding=True,\n",
    "    bins=16,\n",
    "    hop_length=2,\n",
    "    # Quantizer\n",
    "    quantizer=False,\n",
    "    num_codebooks=0,\n",
    "    codebook_size=0,\n",
    "    quantizer_commitment=0,\n",
    "    quantizer_temp_init=0,\n",
    "    quantizer_temp_min=0,\n",
    "    quantizer_temp_decay=0,\n",
    "    # Transformers Encoders\n",
    "    transformer_input=\"continuous\",\n",
    "    transformer_encoder_emb=\"sinusoidal\",\n",
    "    transformer_encoder_layers=4,\n",
    "    transformer_encoder_heads=4,\n",
    "    # Conformer encoder variant\n",
    "    rnn_type=\"conformer\",\n",
    "    depthwise_conv_kernel_size=15,\n",
    "    use_group_norm=False,\n",
    "    convolution_first=False,\n",
    "    # Transformer Decoders\n",
    "    transformer_decoder_emb=None,\n",
    "    transformer_decoder_layers=0,\n",
    "    transformer_decoder_heads=0,\n",
    "    transformer_decoder_dim=0,\n",
    ")\n",
    "\n",
    "config = TrainingConfigV1(\n",
    "    brain_encoder_config=model_config,\n",
    "    data_partition=data_partition,\n",
    "    # Ada lora settings\n",
    "    # Around 100k total batches an epoch for gwilliams\n",
    "    adalora_init_r=12,\n",
    "    adalora_target_r=4,\n",
    "    adalora_tinit=(450 * 3),  # 5% total steps\n",
    "    adalora_tfinal=(450 * 8),  # 50-80% total steps\n",
    "    adalora_deltaT=(450 * 1),  # 1-5% total steps\n",
    "    adalora_lora_alpha=32,\n",
    "    adalora_lora_dropout=0.1,\n",
    "    adalora_total_step=(450 * 50),\n",
    "    # Pre-processing parameters\n",
    "    # Brain\n",
    "    new_freq=200,\n",
    "    frequency_bands={\"all\": (0.5, 80)},\n",
    "    max_random_shift=1.0,\n",
    "    window_size=4,\n",
    "    window_stride=1,\n",
    "    brain_clipping=None,\n",
    "    baseline_window=0.5,\n",
    "    notch_filter=True,\n",
    "    scaling=\"both\",\n",
    "    delay=0.15,\n",
    "    # Audio\n",
    "    audio_model=\"openai/whisper-tiny.en\",\n",
    "    # Hyperparameters\n",
    "    learning_rate=1e-4,\n",
    "    weight_decay=1e-4,\n",
    "    epochs=50,\n",
    "    steps_per_epoch=450,\n",
    "    batch_size=128,\n",
    "    random_test_size=10,\n",
    "    seed=42,\n",
    "    mel_alignment_objectives={\n",
    "        \"clip_loss\": 0.6,\n",
    "        \"mse_loss\": 0.4,\n",
    "        \"commitment_loss\": 0.05,\n",
    "        \"cosine_similarity\": 0.0,\n",
    "    },\n",
    "    latent_alignment_objectives={\n",
    "        \"cosine_similarity\": 0.4,\n",
    "        \"mse_loss\": 0.4,\n",
    "        \"clip_loss\": 0.2,\n",
    "        \"mmd_loss\": 0.0,\n",
    "    },\n",
    "    latent_alignment_layers=[-1],\n",
    ")\n",
    "\n",
    "config.brain_encoder_config.mel_normalization = False\n",
    "config.learning_rate = 3e-4\n",
    "config.batch_size = 128\n",
    "config.steps_per_epoch = 450\n",
    "\n",
    "model_config.half = False\n",
    "model_config.bins = 64\n",
    "model_config.hop_length = 2\n",
    "model_config.cnn_channels = [256, 128, 64, 32, 16, 8, 4]\n",
    "\n",
    "session = TrainingSessionV1(\n",
    "    config=config,\n",
    "    studies={study: \"audio\" for study in data_partition.keys()},\n",
    "    data_path=\"/home/ubuntu/storage-texas/data\",\n",
    "    save_path=\"saves/phase2/architecture/spectralconv/64_bins_4_conformer\",\n",
    "    clear_cache=False,\n",
    "    cache_name=\"cache\",\n",
    "    download_studies=False,\n",
    ")\n",
    "\n",
    "try:\n",
    "    session.train(\n",
    "        device=\"cuda\",\n",
    "        buffer_size=30,\n",
    "        num_workers=(multiprocessing.cpu_count() - 2),\n",
    "        max_cache_size=400,\n",
    "        current_epoch=0,\n",
    "    )\n",
    "except KeyboardInterrupt as e:\n",
    "    print(\"Exited\")\n",
    "\n",
    "# try:\n",
    "#     session.pre_process_all_recordings(\n",
    "#         buffer_size=30, num_workers=multiprocessing.cpu_count() - 2, max_cache_size=400\n",
    "#     )\n",
    "# except KeyboardInterrupt as e:\n",
    "#     print(\"Exited\")"
   ]
  },
  {
   "cell_type": "code",
   "execution_count": null,
   "metadata": {},
   "outputs": [],
   "source": []
  }
 ],
 "metadata": {
  "kernelspec": {
   "display_name": "brain",
   "language": "python",
   "name": "brain"
  },
  "language_info": {
   "codemirror_mode": {
    "name": "ipython",
    "version": 3
   },
   "file_extension": ".py",
   "mimetype": "text/x-python",
   "name": "python",
   "nbconvert_exporter": "python",
   "pygments_lexer": "ipython3",
   "version": "3.11.7"
  }
 },
 "nbformat": 4,
 "nbformat_minor": 4
}
