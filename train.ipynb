{
 "cells": [
  {
   "cell_type": "code",
   "execution_count": 1,
   "metadata": {},
   "outputs": [],
   "source": [
    "data_partition = {\n",
    "        \"gwilliams2023\": {\n",
    "            \"testing_subjects\": [19, 20, 21],\n",
    "            \"testing_tasks\": [0],\n",
    "        }\n",
    "        # \"schoffelen2022\": {\n",
    "        #     \"testing_subjects\": [],\n",
    "        #     \"testing_tasks\": [8, 9],\n",
    "        # },\n",
    "}"
   ]
  },
  {
   "cell_type": "code",
   "execution_count": 2,
   "metadata": {},
   "outputs": [],
   "source": [
    "# from utils.compression import compress_directories, decompress_directories\n",
    "\n",
    "# for base_path, batch_type in data_partition.items():\n",
    "#     decompress_directories(\n",
    "#         source_path=f'downloaded_data/{base_path}',\n",
    "#         destination_path=f'data/{destination_path}',\n",
    "#         checksum_file_name=\"checksums.txt\",\n",
    "#         delete_compressed_files=True,\n",
    "#         num_workers=None\n",
    "#     )"
   ]
  },
  {
   "cell_type": "code",
   "execution_count": 3,
   "metadata": {},
   "outputs": [],
   "source": [
    "from config import SimpleConvConfig\n",
    "from models.simpleconv import SimpleConv\n",
    "import torch\n",
    "\n",
    "model_config = SimpleConvConfig(\n",
    "    # Str to list of possible conditions\n",
    "    conditions={'subject': []},\n",
    "    # Channels\n",
    "    in_channels=208,\n",
    "    out_channels=128,\n",
    "    hidden_dim=512,\n",
    "    dropout=0.2,\n",
    "    # Sensor layout settings\n",
    "    layout_dim=2,\n",
    "    layout_proj=False,\n",
    "    layout_scaling=\"minmax\",\n",
    "    # Merger with spatial attn\n",
    "    merger=True,\n",
    "    merger_emb_type='fourier',\n",
    "    merger_emb_dim=512,\n",
    "    merger_channels=256,\n",
    "    merger_dropout=0.2,\n",
    "    merger_conditional=None,\n",
    "    # Inital\n",
    "    initial_linear=256,\n",
    "    initial_depth=1,\n",
    "    # Conditional layers\n",
    "    conditional_layers=True,\n",
    "    conditional_layers_dim='hidden_dim',  # input or hidden_dim\n",
    "    # Conv layer overall structure\n",
    "    depth=6,\n",
    "    kernel_size=3,\n",
    "    growth=1.0,\n",
    "    dilation_growth=2,\n",
    "    dilation_period=5,\n",
    "    glu=1,\n",
    "    conv_dropout=0.2,\n",
    "    dropout_input=0.2,\n",
    "    batch_norm=True,\n",
    "    # Quantizer\n",
    "    quantizer=False,\n",
    "    num_codebooks=0,\n",
    "    codebook_size=0,\n",
    "    quantizer_commitment=0,\n",
    "    quantizer_temp_init=0,\n",
    "    quantizer_temp_min=0,\n",
    "    quantizer_temp_decay=0,\n",
    "    # Transformers Encoders\n",
    "    transformer_input='continuous',\n",
    "    transformer_encoder_emb='groupconv',\n",
    "    transformer_encoder_layers=2,\n",
    "    transformer_encoder_heads=8,\n",
    "    # Transformer Decoders\n",
    "    transformer_decoder_emb=None,\n",
    "    transformer_decoder_layers=0,\n",
    "    transformer_decoder_heads=0,\n",
    "    transformer_decoder_dim=0,\n",
    ")"
   ]
  },
  {
   "cell_type": "code",
   "execution_count": 4,
   "metadata": {},
   "outputs": [
    {
     "name": "stdout",
     "output_type": "stream",
     "text": [
      "Loading Gwilliams2023 with batch type audio\n",
      "Data partitioned on studies ['gwilliams2023'].\n",
      "Train: 135, Unseen Task: 12, Unseen Subject: 45, Unseen Both: 4.\n",
      "\n",
      "TransformerEncoder initialized with 2 layers, 512 d_model, 8 nhead\n",
      "\tEmbedding: groupconv, params: 6307328\n",
      "SimpleConv initialized with 21461888 parameters, cond: ['subject']\n",
      "Merger True, merger channels 256\n",
      "ConvBlocks: 6, hidden_dim: 512, params 14170112\n"
     ]
    }
   ],
   "source": [
    "from train.training_session_v0 import TrainingSessionV0\n",
    "from config import TrainingConfigV0\n",
    "import multiprocessing\n",
    "\n",
    "config = TrainingConfigV0(\n",
    "    brain_encoder_config=model_config,\n",
    "    data_partition=data_partition,\n",
    "    # Pre-processing parameters\n",
    "    # Brain\n",
    "    new_freq=100,\n",
    "    frequency_bands={'all': (0.4, 80)},\n",
    "    max_random_shift=0.2,\n",
    "    window_size= 4,\n",
    "    window_stride=1,\n",
    "    brain_clipping=20,\n",
    "    baseline_window=0.5,\n",
    "    notch_filter=True,\n",
    "    scaling='both',\n",
    "    # Hyperparameters\n",
    "    learning_rate = 5e-4,\n",
    "    weight_decay = 1e-4,\n",
    "    epochs = 50,\n",
    "    batch_size = 256,\n",
    "    use_clip_loss = True,\n",
    "    use_mse_loss = True,\n",
    "    alpha = 0.9,\n",
    "    random_test_size = 10,\n",
    "    seed = 42,\n",
    ")\n",
    "\n",
    "session = TrainingSessionV0(\n",
    "    config=config,\n",
    "    studies={\"gwilliams2023\": 'audio'},\n",
    "    data_path='data',\n",
    "    save_path='saves/Dec16_baseline',\n",
    "    clear_cache=False,\n",
    ")"
   ]
  },
  {
   "cell_type": "code",
   "execution_count": null,
   "metadata": {},
   "outputs": [
    {
     "name": "stderr",
     "output_type": "stream",
     "text": [
      "2024-12-16 15:25:12,980\tINFO worker.py:1821 -- Started a local Ray instance.\n",
      "Training Epoch 1: 100%|██████████| 135/135 [04:36<00:00,  2.05s/it]\n"
     ]
    },
    {
     "name": "stdout",
     "output_type": "stream",
     "text": [
      "Epoch 1 completed in 4.61m. 0.03m per recording.\n",
      "Testing at epoch 1\n",
      "\u001b[33m(raylet)\u001b[0m WARNING: 150 PYTHON worker processes have been started on node: 7ab565b7b1f1973649696f02192b7a1e717ca43b70ea0697eeb8bfa3 with address: 10.19.22.79. This could be a result of using a large number of actors, or due to tasks blocked in ray.get() calls (see https://github.com/ray-project/ray/issues/3644 for some discussion of workarounds).\n"
     ]
    },
    {
     "name": "stderr",
     "output_type": "stream",
     "text": [
      "Training Epoch 2:  22%|██▏       | 30/135 [01:03<03:42,  2.12s/it]\n"
     ]
    },
    {
     "name": "stdout",
     "output_type": "stream",
     "text": [
      "Epoch 2 completed in 1.08m. 0.01m per recording.\n",
      "Testing at epoch 2\n",
      "\u001b[33m(raylet)\u001b[0m WARNING: 216 PYTHON worker processes have been started on node: 7ab565b7b1f1973649696f02192b7a1e717ca43b70ea0697eeb8bfa3 with address: 10.19.22.79. This could be a result of using a large number of actors, or due to tasks blocked in ray.get() calls (see https://github.com/ray-project/ray/issues/3644 for some discussion of workarounds).\u001b[32m [repeated 2x across cluster] (Ray deduplicates logs by default. Set RAY_DEDUP_LOGS=0 to disable log deduplication, or see https://docs.ray.io/en/master/ray-observability/user-guides/configure-logging.html#log-deduplication for more options.)\u001b[0m\n"
     ]
    },
    {
     "name": "stderr",
     "output_type": "stream",
     "text": [
      "Training Epoch 3:  22%|██▏       | 30/135 [01:02<03:39,  2.09s/it]\n"
     ]
    },
    {
     "name": "stdout",
     "output_type": "stream",
     "text": [
      "Epoch 3 completed in 1.06m. 0.01m per recording.\n",
      "Testing at epoch 3\n"
     ]
    },
    {
     "name": "stderr",
     "output_type": "stream",
     "text": [
      "Training Epoch 4:  22%|██▏       | 30/135 [01:02<03:38,  2.08s/it]\n"
     ]
    },
    {
     "name": "stdout",
     "output_type": "stream",
     "text": [
      "Epoch 4 completed in 1.06m. 0.01m per recording.\n",
      "Testing at epoch 4\n"
     ]
    }
   ],
   "source": [
    "try:\n",
    "    session.train(\n",
    "        device='cuda',\n",
    "        buffer_size=30,\n",
    "        num_workers=multiprocessing.cpu_count() - 2,\n",
    "        max_cache_size=200,\n",
    "        current_epoch=0,\n",
    "    )\n",
    "except KeyboardInterrupt as e:\n",
    "    print('Exited')"
   ]
  },
  {
   "cell_type": "code",
   "execution_count": null,
   "metadata": {},
   "outputs": [],
   "source": [
    "from train.training_session_v0 import load_training_session\n",
    "import multiprocessing\n",
    "import torch\n",
    "\n",
    "session = load_training_session(\n",
    "    save_path='saves/Dec16_CLIP/epoch_2',\n",
    "    studies={\"gwilliams2023\": 'audio'},\n",
    "    data_path='data',\n",
    ")\n",
    "\n",
    "dataloader = session.get_dataloader(buffer_size=1, num_workers=multiprocessing.cpu_count() - 2, max_cache_size=100)\n",
    "\n",
    "dataloader.start_fetching(\n",
    "    recordings=[\n",
    "        session.recordings[15]\n",
    "    ]\n",
    ")\n",
    "\n",
    "batch = dataloader.get_recording()\n",
    "brain, audio, recording = batch.brain_segments['all'], batch.audio_segments, batch.recording\n",
    "\n",
    "with torch.no_grad():\n",
    "    pred, _ = session.model(x=brain, recording=recording, train=False)\n",
    "    \n",
    "dataloader.stop()"
   ]
  },
  {
   "cell_type": "code",
   "execution_count": null,
   "metadata": {},
   "outputs": [],
   "source": [
    "from utils.plot import mel_spectrogram\n",
    "\n",
    "mel_spectrogram(\n",
    "    x=audio,\n",
    "    max_plots=5,\n",
    "    x_pred=pred,\n",
    ")"
   ]
  }
 ],
 "metadata": {
  "kernelspec": {
   "display_name": "brain",
   "language": "python",
   "name": "python3"
  },
  "language_info": {
   "codemirror_mode": {
    "name": "ipython",
    "version": 3
   },
   "file_extension": ".py",
   "mimetype": "text/x-python",
   "name": "python",
   "nbconvert_exporter": "python",
   "pygments_lexer": "ipython3",
   "version": "3.11.7"
  }
 },
 "nbformat": 4,
 "nbformat_minor": 2
}
