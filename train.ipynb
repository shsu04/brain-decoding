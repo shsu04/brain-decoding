{
 "cells": [
  {
   "cell_type": "code",
   "execution_count": 1,
   "metadata": {},
   "outputs": [],
   "source": [
    "# from utils.compression import compress_directories, decompress_directories\n",
    "\n",
    "# for base_path, batch_type in data_partition.items():\n",
    "#     decompress_directories(\n",
    "#         source_path=f'downloaded_data/{base_path}',\n",
    "#         destination_path=f'data/{base_path}',\n",
    "#         checksum_file_name=\"checksums.txt\",\n",
    "#         delete_compressed_files=True,\n",
    "#         num_workers=26\n",
    "#     )"
   ]
  },
  {
   "cell_type": "code",
   "execution_count": 3,
   "metadata": {},
   "outputs": [
    {
     "name": "stdout",
     "output_type": "stream",
     "text": [
      "Loading Gwilliams2023 with batch type audio\n",
      "Data partitioned on studies ['gwilliams2023'].\n",
      "Train: 135, Unseen Task: 12, Unseen Subject: 45, Unseen Both: 4.\n",
      "\n",
      "GPU is not NVIDIA V100, A100, or H100. Speedup numbers may be lower than expected.\n",
      "SimpleConv initialized with 8448160 parameters, cond: ['study', 'subject']\n",
      "Merger False, merger channels 0\n",
      "ConvBlocks: 6, hidden_dim: 384, params 7973376\n"
     ]
    },
    {
     "name": "stderr",
     "output_type": "stream",
     "text": [
      "Training Epoch 1: 100%|██████████| 135/135 [05:06<00:00,  2.27s/it]\n"
     ]
    },
    {
     "name": "stdout",
     "output_type": "stream",
     "text": [
      "Epoch 1 completed. Loss: 3.3592, Clip Loss: 5.0375, MSE Loss: 0.8417\n",
      "Accuracy: 0.0499, Top 5: 0.1583, Top 10: 0.2434\n",
      "Test unseen_subject completed. Accuracy: 0.0705, Top 5: 0.2010, Top 10: 0.3080\n",
      "Test unseen_task completed. Accuracy: 0.0576, Top 5: 0.1725, Top 10: 0.2664\n",
      "Test unseen_both completed. Accuracy: 0.0712, Top 5: 0.1737, Top 10: 0.2587\n",
      "Testing completed in 0.46m.\n",
      "Epoch 1 completed in 5.56m. 0.04m per recording.\n"
     ]
    },
    {
     "name": "stderr",
     "output_type": "stream",
     "text": [
      "Training Epoch 2: 100%|██████████| 135/135 [05:15<00:00,  2.34s/it]\n"
     ]
    },
    {
     "name": "stdout",
     "output_type": "stream",
     "text": [
      "Epoch 2 completed. Loss: 2.7826, Clip Loss: 4.3002, MSE Loss: 0.5063\n",
      "Accuracy: 0.0900, Top 5: 0.2550, Top 10: 0.3697\n",
      "Test unseen_subject completed. Accuracy: 0.1105, Top 5: 0.2735, Top 10: 0.3825\n",
      "Test unseen_task completed. Accuracy: 0.1018, Top 5: 0.2851, Top 10: 0.4047\n",
      "Test unseen_both completed. Accuracy: 0.0963, Top 5: 0.2675, Top 10: 0.4113\n",
      "Testing completed in 0.46m.\n",
      "Epoch 2 completed in 5.72m. 0.04m per recording.\n"
     ]
    },
    {
     "name": "stderr",
     "output_type": "stream",
     "text": [
      "Training Epoch 3: 100%|██████████| 135/135 [05:04<00:00,  2.26s/it]\n"
     ]
    },
    {
     "name": "stdout",
     "output_type": "stream",
     "text": [
      "Epoch 3 completed. Loss: 2.6340, Clip Loss: 4.0594, MSE Loss: 0.4959\n",
      "Accuracy: 0.1246, Top 5: 0.3179, Top 10: 0.4400\n",
      "Test unseen_subject completed. Accuracy: 0.0690, Top 5: 0.2445, Top 10: 0.3415\n",
      "Test unseen_task completed. Accuracy: 0.1009, Top 5: 0.2669, Top 10: 0.3892\n",
      "Test unseen_both completed. Accuracy: 0.0675, Top 5: 0.2175, Top 10: 0.3312\n",
      "Testing completed in 0.41m.\n",
      "Epoch 3 completed in 5.49m. 0.04m per recording.\n"
     ]
    },
    {
     "name": "stderr",
     "output_type": "stream",
     "text": [
      "Training Epoch 4: 100%|██████████| 135/135 [04:32<00:00,  2.02s/it]\n"
     ]
    },
    {
     "name": "stdout",
     "output_type": "stream",
     "text": [
      "Epoch 4 completed. Loss: 2.5610, Clip Loss: 3.9382, MSE Loss: 0.4951\n",
      "Accuracy: 0.1466, Top 5: 0.3553, Top 10: 0.4781\n",
      "Test unseen_subject completed. Accuracy: 0.1240, Top 5: 0.3255, Top 10: 0.4415\n",
      "Test unseen_task completed. Accuracy: 0.1398, Top 5: 0.3666, Top 10: 0.4925\n",
      "Test unseen_both completed. Accuracy: 0.1225, Top 5: 0.3275, Top 10: 0.4375\n",
      "Testing completed in 0.36m.\n",
      "Epoch 4 completed in 4.90m. 0.04m per recording.\n"
     ]
    },
    {
     "name": "stderr",
     "output_type": "stream",
     "text": [
      "Training Epoch 5: 100%|██████████| 135/135 [04:45<00:00,  2.12s/it]\n"
     ]
    },
    {
     "name": "stdout",
     "output_type": "stream",
     "text": [
      "Epoch 5 completed. Loss: 2.4652, Clip Loss: 3.7828, MSE Loss: 0.4889\n",
      "Accuracy: 0.1690, Top 5: 0.3922, Top 10: 0.5185\n",
      "Test unseen_subject completed. Accuracy: 0.0775, Top 5: 0.2660, Top 10: 0.3930\n",
      "Test unseen_task completed. Accuracy: 0.1302, Top 5: 0.3192, Top 10: 0.4338\n",
      "Test unseen_both completed. Accuracy: 0.0988, Top 5: 0.2800, Top 10: 0.3650\n",
      "Testing completed in 0.37m.\n",
      "Epoch 5 completed in 5.13m. 0.04m per recording.\n"
     ]
    },
    {
     "name": "stderr",
     "output_type": "stream",
     "text": [
      "Training Epoch 6: 100%|██████████| 135/135 [05:54<00:00,  2.62s/it]\n"
     ]
    },
    {
     "name": "stdout",
     "output_type": "stream",
     "text": [
      "Epoch 6 completed. Loss: 2.3910, Clip Loss: 3.6605, MSE Loss: 0.4869\n",
      "Accuracy: 0.1868, Top 5: 0.4172, Top 10: 0.5423\n",
      "Test unseen_subject completed. Accuracy: 0.1500, Top 5: 0.3610, Top 10: 0.4705\n",
      "Test unseen_task completed. Accuracy: 0.1876, Top 5: 0.4233, Top 10: 0.5483\n",
      "Test unseen_both completed. Accuracy: 0.1713, Top 5: 0.3738, Top 10: 0.4850\n",
      "Testing completed in 0.41m.\n",
      "Epoch 6 completed in 6.31m. 0.05m per recording.\n"
     ]
    },
    {
     "name": "stderr",
     "output_type": "stream",
     "text": [
      "Training Epoch 7: 100%|██████████| 135/135 [05:57<00:00,  2.65s/it]\n"
     ]
    },
    {
     "name": "stdout",
     "output_type": "stream",
     "text": [
      "Epoch 7 completed. Loss: 2.3592, Clip Loss: 3.6086, MSE Loss: 0.4850\n",
      "Accuracy: 0.1963, Top 5: 0.4327, Top 10: 0.5571\n",
      "Test unseen_subject completed. Accuracy: 0.0955, Top 5: 0.2865, Top 10: 0.3900\n",
      "Test unseen_task completed. Accuracy: 0.1700, Top 5: 0.3870, Top 10: 0.5252\n",
      "Test unseen_both completed. Accuracy: 0.1125, Top 5: 0.3100, Top 10: 0.4375\n",
      "Testing completed in 0.44m.\n",
      "Epoch 7 completed in 6.41m. 0.05m per recording.\n"
     ]
    },
    {
     "name": "stderr",
     "output_type": "stream",
     "text": [
      "Training Epoch 8: 100%|██████████| 135/135 [05:51<00:00,  2.60s/it]\n"
     ]
    },
    {
     "name": "stdout",
     "output_type": "stream",
     "text": [
      "Epoch 8 completed. Loss: 2.2803, Clip Loss: 3.4792, MSE Loss: 0.4820\n",
      "Accuracy: 0.2140, Top 5: 0.4579, Top 10: 0.5814\n",
      "Test unseen_subject completed. Accuracy: 0.1650, Top 5: 0.3700, Top 10: 0.4910\n",
      "Test unseen_task completed. Accuracy: 0.1183, Top 5: 0.3140, Top 10: 0.4326\n",
      "Test unseen_both completed. Accuracy: 0.1475, Top 5: 0.3300, Top 10: 0.4462\n",
      "Testing completed in 0.40m.\n",
      "Epoch 8 completed in 6.25m. 0.05m per recording.\n"
     ]
    },
    {
     "name": "stderr",
     "output_type": "stream",
     "text": [
      "Training Epoch 9: 100%|██████████| 135/135 [05:50<00:00,  2.59s/it]\n"
     ]
    },
    {
     "name": "stdout",
     "output_type": "stream",
     "text": [
      "Epoch 9 completed. Loss: 2.2086, Clip Loss: 3.3615, MSE Loss: 0.4793\n",
      "Accuracy: 0.2318, Top 5: 0.4846, Top 10: 0.6085\n",
      "Test unseen_subject completed. Accuracy: 0.1510, Top 5: 0.3620, Top 10: 0.4865\n",
      "Test unseen_task completed. Accuracy: 0.1986, Top 5: 0.4337, Top 10: 0.5603\n",
      "Test unseen_both completed. Accuracy: 0.1713, Top 5: 0.3488, Top 10: 0.4537\n",
      "Testing completed in 0.42m.\n",
      "Epoch 9 completed in 6.25m. 0.05m per recording.\n"
     ]
    },
    {
     "name": "stderr",
     "output_type": "stream",
     "text": [
      "Training Epoch 10: 100%|██████████| 135/135 [05:49<00:00,  2.59s/it]\n"
     ]
    },
    {
     "name": "stdout",
     "output_type": "stream",
     "text": [
      "Epoch 10 completed. Loss: 2.1941, Clip Loss: 3.3384, MSE Loss: 0.4777\n",
      "Accuracy: 0.2366, Top 5: 0.4908, Top 10: 0.6129\n",
      "Test unseen_subject completed. Accuracy: 0.1920, Top 5: 0.4095, Top 10: 0.5140\n",
      "Test unseen_task completed. Accuracy: 0.2142, Top 5: 0.4682, Top 10: 0.5968\n",
      "Test unseen_both completed. Accuracy: 0.1688, Top 5: 0.3688, Top 10: 0.4863\n",
      "Testing completed in 0.47m.\n",
      "Epoch 10 completed in 6.30m. 0.05m per recording.\n"
     ]
    },
    {
     "name": "stderr",
     "output_type": "stream",
     "text": [
      "Training Epoch 11: 100%|██████████| 135/135 [05:50<00:00,  2.60s/it]\n"
     ]
    },
    {
     "name": "stdout",
     "output_type": "stream",
     "text": [
      "Epoch 11 completed. Loss: 2.0978, Clip Loss: 3.1792, MSE Loss: 0.4758\n",
      "Accuracy: 0.2640, Top 5: 0.5214, Top 10: 0.6443\n",
      "Test unseen_subject completed. Accuracy: 0.1660, Top 5: 0.3870, Top 10: 0.4920\n",
      "Test unseen_task completed. Accuracy: 0.1782, Top 5: 0.4058, Top 10: 0.5359\n",
      "Test unseen_both completed. Accuracy: 0.1375, Top 5: 0.3563, Top 10: 0.4750\n",
      "Testing completed in 0.42m.\n",
      "Epoch 11 completed in 6.27m. 0.05m per recording.\n"
     ]
    },
    {
     "name": "stderr",
     "output_type": "stream",
     "text": [
      "Training Epoch 12: 100%|██████████| 135/135 [05:51<00:00,  2.61s/it]\n"
     ]
    },
    {
     "name": "stdout",
     "output_type": "stream",
     "text": [
      "Epoch 12 completed. Loss: 2.0549, Clip Loss: 3.1069, MSE Loss: 0.4768\n",
      "Accuracy: 0.2771, Top 5: 0.5379, Top 10: 0.6567\n",
      "Test unseen_subject completed. Accuracy: 0.1785, Top 5: 0.3835, Top 10: 0.4815\n",
      "Test unseen_task completed. Accuracy: 0.2208, Top 5: 0.4545, Top 10: 0.5772\n",
      "Test unseen_both completed. Accuracy: 0.1713, Top 5: 0.3575, Top 10: 0.4750\n",
      "Testing completed in 0.41m.\n",
      "Epoch 12 completed in 6.27m. 0.05m per recording.\n"
     ]
    },
    {
     "name": "stderr",
     "output_type": "stream",
     "text": [
      "Training Epoch 13: 100%|██████████| 135/135 [05:57<00:00,  2.64s/it]\n"
     ]
    },
    {
     "name": "stdout",
     "output_type": "stream",
     "text": [
      "Epoch 13 completed. Loss: 1.9688, Clip Loss: 2.9644, MSE Loss: 0.4754\n",
      "Accuracy: 0.2968, Top 5: 0.5684, Top 10: 0.6876\n",
      "Test unseen_subject completed. Accuracy: 0.1740, Top 5: 0.3880, Top 10: 0.4970\n",
      "Test unseen_task completed. Accuracy: 0.1888, Top 5: 0.4054, Top 10: 0.5236\n",
      "Test unseen_both completed. Accuracy: 0.1888, Top 5: 0.3900, Top 10: 0.4875\n",
      "Testing completed in 0.44m.\n",
      "Epoch 13 completed in 6.39m. 0.05m per recording.\n"
     ]
    },
    {
     "name": "stderr",
     "output_type": "stream",
     "text": [
      "Training Epoch 14: 100%|██████████| 135/135 [05:54<00:00,  2.63s/it]\n"
     ]
    },
    {
     "name": "stdout",
     "output_type": "stream",
     "text": [
      "Epoch 14 completed. Loss: 1.8926, Clip Loss: 2.8381, MSE Loss: 0.4742\n",
      "Accuracy: 0.3195, Top 5: 0.5933, Top 10: 0.7083\n",
      "Test unseen_subject completed. Accuracy: 0.2040, Top 5: 0.4170, Top 10: 0.5220\n",
      "Test unseen_task completed. Accuracy: 0.1936, Top 5: 0.4292, Top 10: 0.5550\n",
      "Test unseen_both completed. Accuracy: 0.1713, Top 5: 0.3713, Top 10: 0.4800\n",
      "Testing completed in 0.41m.\n",
      "Epoch 14 completed in 6.32m. 0.05m per recording.\n"
     ]
    },
    {
     "name": "stderr",
     "output_type": "stream",
     "text": [
      "Training Epoch 15: 100%|██████████| 135/135 [05:52<00:00,  2.61s/it]\n"
     ]
    },
    {
     "name": "stdout",
     "output_type": "stream",
     "text": [
      "Epoch 15 completed. Loss: 1.7685, Clip Loss: 2.6322, MSE Loss: 0.4731\n",
      "Accuracy: 0.3575, Top 5: 0.6378, Top 10: 0.7482\n",
      "Test unseen_subject completed. Accuracy: 0.2025, Top 5: 0.4135, Top 10: 0.5205\n",
      "Test unseen_task completed. Accuracy: 0.1904, Top 5: 0.4103, Top 10: 0.5274\n",
      "Test unseen_both completed. Accuracy: 0.1900, Top 5: 0.3563, Top 10: 0.4650\n",
      "Testing completed in 0.42m.\n",
      "Epoch 15 completed in 6.30m. 0.05m per recording.\n"
     ]
    },
    {
     "name": "stderr",
     "output_type": "stream",
     "text": [
      "Training Epoch 16: 100%|██████████| 135/135 [05:51<00:00,  2.60s/it]\n"
     ]
    },
    {
     "name": "stdout",
     "output_type": "stream",
     "text": [
      "Epoch 16 completed. Loss: 1.6533, Clip Loss: 2.4398, MSE Loss: 0.4735\n",
      "Accuracy: 0.3911, Top 5: 0.6730, Top 10: 0.7767\n",
      "Test unseen_subject completed. Accuracy: 0.2050, Top 5: 0.4280, Top 10: 0.5315\n",
      "Test unseen_task completed. Accuracy: 0.2087, Top 5: 0.4420, Top 10: 0.5586\n",
      "Test unseen_both completed. Accuracy: 0.1888, Top 5: 0.3950, Top 10: 0.4875\n",
      "Testing completed in 0.41m.\n",
      "Epoch 16 completed in 6.26m. 0.05m per recording.\n"
     ]
    },
    {
     "name": "stderr",
     "output_type": "stream",
     "text": [
      "Training Epoch 17: 100%|██████████| 135/135 [05:55<00:00,  2.63s/it]\n"
     ]
    },
    {
     "name": "stdout",
     "output_type": "stream",
     "text": [
      "Epoch 17 completed. Loss: 1.5393, Clip Loss: 2.2500, MSE Loss: 0.4732\n",
      "Accuracy: 0.4310, Top 5: 0.7113, Top 10: 0.8081\n",
      "Test unseen_subject completed. Accuracy: 0.1080, Top 5: 0.2835, Top 10: 0.4120\n",
      "Test unseen_task completed. Accuracy: 0.1623, Top 5: 0.3707, Top 10: 0.4961\n",
      "Test unseen_both completed. Accuracy: 0.1212, Top 5: 0.3162, Top 10: 0.4213\n",
      "Testing completed in 0.43m.\n",
      "Epoch 17 completed in 6.36m. 0.05m per recording.\n"
     ]
    },
    {
     "name": "stderr",
     "output_type": "stream",
     "text": [
      "Training Epoch 18: 100%|██████████| 135/135 [05:57<00:00,  2.65s/it]\n"
     ]
    },
    {
     "name": "stdout",
     "output_type": "stream",
     "text": [
      "Epoch 18 completed. Loss: 1.4341, Clip Loss: 2.0749, MSE Loss: 0.4730\n",
      "Accuracy: 0.4704, Top 5: 0.7446, Top 10: 0.8338\n",
      "Test unseen_subject completed. Accuracy: 0.1795, Top 5: 0.4040, Top 10: 0.5065\n",
      "Test unseen_task completed. Accuracy: 0.1930, Top 5: 0.4269, Top 10: 0.5469\n",
      "Test unseen_both completed. Accuracy: 0.1600, Top 5: 0.3900, Top 10: 0.4975\n",
      "Testing completed in 0.43m.\n",
      "Epoch 18 completed in 6.40m. 0.05m per recording.\n"
     ]
    },
    {
     "name": "stderr",
     "output_type": "stream",
     "text": [
      "Training Epoch 19: 100%|██████████| 135/135 [06:00<00:00,  2.67s/it]\n"
     ]
    },
    {
     "name": "stdout",
     "output_type": "stream",
     "text": [
      "Epoch 19 completed. Loss: 1.2877, Clip Loss: 1.8306, MSE Loss: 0.4733\n",
      "Accuracy: 0.5199, Top 5: 0.7863, Top 10: 0.8680\n",
      "Test unseen_subject completed. Accuracy: 0.1625, Top 5: 0.3655, Top 10: 0.4745\n",
      "Test unseen_task completed. Accuracy: 0.2157, Top 5: 0.4440, Top 10: 0.5638\n",
      "Test unseen_both completed. Accuracy: 0.1775, Top 5: 0.3725, Top 10: 0.4662\n",
      "Testing completed in 0.48m.\n",
      "Epoch 19 completed in 6.49m. 0.05m per recording.\n"
     ]
    },
    {
     "name": "stderr",
     "output_type": "stream",
     "text": [
      "Training Epoch 20: 100%|██████████| 135/135 [05:55<00:00,  2.63s/it]\n"
     ]
    },
    {
     "name": "stdout",
     "output_type": "stream",
     "text": [
      "Epoch 20 completed. Loss: 1.1552, Clip Loss: 1.6096, MSE Loss: 0.4737\n",
      "Accuracy: 0.5694, Top 5: 0.8250, Top 10: 0.8945\n",
      "Test unseen_subject completed. Accuracy: 0.1670, Top 5: 0.3760, Top 10: 0.4725\n",
      "Test unseen_task completed. Accuracy: 0.1936, Top 5: 0.4316, Top 10: 0.5489\n",
      "Test unseen_both completed. Accuracy: 0.1412, Top 5: 0.3325, Top 10: 0.4525\n",
      "Testing completed in 0.48m.\n",
      "Epoch 20 completed in 6.41m. 0.05m per recording.\n"
     ]
    },
    {
     "name": "stderr",
     "output_type": "stream",
     "text": [
      "Training Epoch 21: 100%|██████████| 135/135 [05:49<00:00,  2.59s/it]\n"
     ]
    },
    {
     "name": "stdout",
     "output_type": "stream",
     "text": [
      "Epoch 21 completed. Loss: 1.0314, Clip Loss: 1.4038, MSE Loss: 0.4727\n",
      "Accuracy: 0.6127, Top 5: 0.8558, Top 10: 0.9167\n",
      "Test unseen_subject completed. Accuracy: 0.1500, Top 5: 0.3570, Top 10: 0.4605\n",
      "Test unseen_task completed. Accuracy: 0.1491, Top 5: 0.3682, Top 10: 0.4897\n",
      "Test unseen_both completed. Accuracy: 0.1200, Top 5: 0.2938, Top 10: 0.4175\n",
      "Testing completed in 0.42m.\n",
      "Epoch 21 completed in 6.26m. 0.05m per recording.\n"
     ]
    },
    {
     "name": "stderr",
     "output_type": "stream",
     "text": [
      "Training Epoch 22: 100%|██████████| 135/135 [05:55<00:00,  2.63s/it]\n"
     ]
    },
    {
     "name": "stdout",
     "output_type": "stream",
     "text": [
      "Epoch 22 completed. Loss: 0.9088, Clip Loss: 1.1987, MSE Loss: 0.4738\n",
      "Accuracy: 0.6602, Top 5: 0.8854, Top 10: 0.9363\n",
      "Test unseen_subject completed. Accuracy: 0.1200, Top 5: 0.3020, Top 10: 0.4090\n",
      "Test unseen_task completed. Accuracy: 0.1554, Top 5: 0.3753, Top 10: 0.4959\n",
      "Test unseen_both completed. Accuracy: 0.1225, Top 5: 0.3050, Top 10: 0.4125\n",
      "Testing completed in 0.42m.\n",
      "Epoch 22 completed in 6.35m. 0.05m per recording.\n"
     ]
    },
    {
     "name": "stderr",
     "output_type": "stream",
     "text": [
      "Training Epoch 23: 100%|██████████| 135/135 [05:51<00:00,  2.60s/it]\n"
     ]
    },
    {
     "name": "stdout",
     "output_type": "stream",
     "text": [
      "Epoch 23 completed. Loss: 0.7489, Clip Loss: 0.9340, MSE Loss: 0.4712\n",
      "Accuracy: 0.7304, Top 5: 0.9250, Top 10: 0.9612\n",
      "Test unseen_subject completed. Accuracy: 0.1380, Top 5: 0.3300, Top 10: 0.4425\n",
      "Test unseen_task completed. Accuracy: 0.1583, Top 5: 0.3801, Top 10: 0.4928\n",
      "Test unseen_both completed. Accuracy: 0.1300, Top 5: 0.2863, Top 10: 0.4150\n",
      "Testing completed in 0.45m.\n",
      "Epoch 23 completed in 6.30m. 0.05m per recording.\n"
     ]
    },
    {
     "name": "stderr",
     "output_type": "stream",
     "text": [
      "Training Epoch 24: 100%|██████████| 135/135 [05:52<00:00,  2.61s/it]\n"
     ]
    },
    {
     "name": "stdout",
     "output_type": "stream",
     "text": [
      "Epoch 24 completed. Loss: 0.7188, Clip Loss: 0.8832, MSE Loss: 0.4722\n",
      "Accuracy: 0.7418, Top 5: 0.9282, Top 10: 0.9628\n",
      "Test unseen_subject completed. Accuracy: 0.1550, Top 5: 0.3370, Top 10: 0.4520\n",
      "Test unseen_task completed. Accuracy: 0.1484, Top 5: 0.3525, Top 10: 0.4695\n",
      "Test unseen_both completed. Accuracy: 0.1425, Top 5: 0.3137, Top 10: 0.4150\n",
      "Testing completed in 0.43m.\n",
      "Epoch 24 completed in 6.31m. 0.05m per recording.\n"
     ]
    },
    {
     "name": "stderr",
     "output_type": "stream",
     "text": [
      "Training Epoch 25: 100%|██████████| 135/135 [05:59<00:00,  2.66s/it]\n"
     ]
    },
    {
     "name": "stdout",
     "output_type": "stream",
     "text": [
      "Epoch 25 completed. Loss: 0.6780, Clip Loss: 0.8160, MSE Loss: 0.4710\n",
      "Accuracy: 0.7604, Top 5: 0.9351, Top 10: 0.9683\n",
      "Test unseen_subject completed. Accuracy: 0.1575, Top 5: 0.3615, Top 10: 0.4505\n",
      "Test unseen_task completed. Accuracy: 0.1567, Top 5: 0.3714, Top 10: 0.4953\n",
      "Test unseen_both completed. Accuracy: 0.1263, Top 5: 0.2750, Top 10: 0.3925\n",
      "Testing completed in 0.42m.\n",
      "Epoch 25 completed in 6.40m. 0.05m per recording.\n"
     ]
    },
    {
     "name": "stderr",
     "output_type": "stream",
     "text": [
      "Training Epoch 26: 100%|██████████| 135/135 [05:55<00:00,  2.64s/it]\n"
     ]
    },
    {
     "name": "stdout",
     "output_type": "stream",
     "text": [
      "Epoch 26 completed. Loss: 1.7646, Clip Loss: 2.5176, MSE Loss: 0.6351\n",
      "Accuracy: 0.4729, Top 5: 0.6632, Top 10: 0.7338\n",
      "Test unseen_subject completed. Accuracy: 0.0325, Top 5: 0.1435, Top 10: 0.2435\n",
      "Test unseen_task completed. Accuracy: 0.0369, Top 5: 0.1478, Top 10: 0.2407\n",
      "Test unseen_both completed. Accuracy: 0.0275, Top 5: 0.1400, Top 10: 0.2150\n",
      "Testing completed in 0.43m.\n",
      "Epoch 26 completed in 6.37m. 0.05m per recording.\n"
     ]
    },
    {
     "name": "stderr",
     "output_type": "stream",
     "text": [
      "Training Epoch 27: 100%|██████████| 135/135 [04:19<00:00,  1.93s/it]\n"
     ]
    },
    {
     "name": "stdout",
     "output_type": "stream",
     "text": [
      "Epoch 27 completed. Loss: 2.9453, Clip Loss: 4.4905, MSE Loss: 0.6276\n",
      "Accuracy: 0.1074, Top 5: 0.2814, Top 10: 0.3909\n",
      "Test unseen_subject completed. Accuracy: 0.0510, Top 5: 0.1700, Top 10: 0.2600\n",
      "Test unseen_task completed. Accuracy: 0.0560, Top 5: 0.1739, Top 10: 0.2630\n",
      "Test unseen_both completed. Accuracy: 0.0488, Top 5: 0.1475, Top 10: 0.2275\n",
      "Testing completed in 0.36m.\n",
      "Epoch 27 completed in 4.69m. 0.03m per recording.\n",
      "Early stopping at epoch 27. Highest top 10 accuracy at epoch 16.\n",
      "Training completed.\n",
      "unseen_subject: Acc: 0.2050, Top 5: 0.4280, Top 10: 0.5315\n",
      "unseen_task: Acc: 0.2087, Top 5: 0.4420, Top 10: 0.5586\n",
      "unseen_both: Acc: 0.1888, Top 5: 0.3950, Top 10: 0.4875\n"
     ]
    }
   ],
   "source": [
    "# del session.logger\n",
    "# del session\n",
    "\n",
    "from pickle import NONE\n",
    "from train.training_session_v0 import TrainingSessionV0\n",
    "from config import TrainingConfigV0\n",
    "import multiprocessing\n",
    "from config import SimpleConvConfig\n",
    "from models.simpleconv import SimpleConv\n",
    "import torch\n",
    "\n",
    "data_partition = {\n",
    "    \"gwilliams2023\": {\n",
    "        \"testing_subjects\": [19, 20, 21],\n",
    "        \"testing_tasks\": [0],\n",
    "    },\n",
    "    # \"armeini2022\": {\n",
    "    #     \"testing_subjects\": [],\n",
    "    #     \"testing_tasks\": [8, 9],\n",
    "    # },\n",
    "}\n",
    "\n",
    "model_config = SimpleConvConfig(\n",
    "    # Str to list of possible conditions\n",
    "    mel_normalization=False,\n",
    "    conditions={\n",
    "        \"study\": [],\n",
    "        \"subject\": [],\n",
    "    },\n",
    "    # Channels\n",
    "    in_channels=208,\n",
    "    out_channels=128,\n",
    "    hidden_dim=384,\n",
    "    dropout=0.2,\n",
    "    initial_batch_norm=True,\n",
    "    # Sensor layout settings\n",
    "    layout_dim=2,\n",
    "    layout_proj=True,\n",
    "    layout_scaling=\"minmax\",\n",
    "    # Merger with spatial attn\n",
    "    merger=False,\n",
    "    merger_emb_type=None,\n",
    "    merger_emb_dim=0,\n",
    "    merger_channels=0,\n",
    "    merger_dropout=False,\n",
    "    merger_conditional=None,\n",
    "    # Inital\n",
    "    initial_linear=384,\n",
    "    initial_depth=1,\n",
    "    # Conditional layers\n",
    "    conditional_layers=False,\n",
    "    conditional_layers_dim=None,  # input or hidden_dim\n",
    "    # Conv layer overall structure\n",
    "    depth=6,\n",
    "    kernel_size=3,\n",
    "    growth=1.0,\n",
    "    dilation_growth=2,\n",
    "    dilation_period=5,\n",
    "    glu=1,\n",
    "    conv_dropout=0.2,\n",
    "    dropout_input=0.2,\n",
    "    batch_norm=True,\n",
    "    half=False,\n",
    "    # Quantizer\n",
    "    quantizer=False,\n",
    "    num_codebooks=0,\n",
    "    codebook_size=0,\n",
    "    quantizer_commitment=0,\n",
    "    quantizer_temp_init=0,\n",
    "    quantizer_temp_min=0,\n",
    "    quantizer_temp_decay=0,\n",
    "    # Transformers Encoders\n",
    "    transformer_input=None,\n",
    "    transformer_encoder_emb=None,\n",
    "    transformer_encoder_layers=0,\n",
    "    transformer_encoder_heads=0,\n",
    "    # Transformer Decoders\n",
    "    transformer_decoder_emb=None,\n",
    "    transformer_decoder_layers=0,\n",
    "    transformer_decoder_heads=0,\n",
    "    transformer_decoder_dim=0,\n",
    ")\n",
    "\n",
    "config = TrainingConfigV0(\n",
    "    brain_encoder_config=model_config,\n",
    "    data_partition=data_partition,\n",
    "    # Pre-processing parameters\n",
    "    # Brain\n",
    "    new_freq=100,\n",
    "    frequency_bands={\"all\": (0.5, 40)},\n",
    "    max_random_shift=1.0,\n",
    "    window_size=4,\n",
    "    window_stride=1,\n",
    "    brain_clipping=None,\n",
    "    baseline_window=0.0,\n",
    "    notch_filter=True,\n",
    "    scaling=\"standard\",\n",
    "    delay=0.15,\n",
    "    # Hyperparameters\n",
    "    learning_rate=3e-4,\n",
    "    weight_decay=1e-4,\n",
    "    epochs=50,\n",
    "    batch_size=256,\n",
    "    use_clip_loss=True,\n",
    "    use_mse_loss=True,\n",
    "    alpha=0.6,\n",
    "    random_test_size=10,\n",
    "    seed=42,\n",
    ")\n",
    "\n",
    "session = TrainingSessionV0(\n",
    "    config=config,\n",
    "    studies={study: \"audio\" for study in data_partition.keys()},\n",
    "    data_path=\"data\",\n",
    "    save_path=\"saves/phase1/objectives/CLIP_MSE\",\n",
    "    clear_cache=False,\n",
    "    cache_name=\"cache/1\",\n",
    ")\n",
    "\n",
    "try:\n",
    "    session.train(\n",
    "        device=\"cuda\",\n",
    "        buffer_size=30,\n",
    "        num_workers=(multiprocessing.cpu_count() - 2) // 2,\n",
    "        max_cache_size=400,\n",
    "        current_epoch=0,\n",
    "    )\n",
    "except KeyboardInterrupt as e:\n",
    "    print(\"Exited\")"
   ]
  },
  {
   "cell_type": "markdown",
   "metadata": {},
   "source": [
    "## CLIP MSE"
   ]
  },
  {
   "cell_type": "code",
   "execution_count": 4,
   "metadata": {},
   "outputs": [],
   "source": [
    "# # del session.logger\n",
    "# # del session\n",
    "\n",
    "# from pickle import NONE\n",
    "# from train.training_session_v0 import TrainingSessionV0\n",
    "# from config import TrainingConfigV0\n",
    "# import multiprocessing\n",
    "# from config import SimpleConvConfig\n",
    "# from models.simpleconv import SimpleConv\n",
    "# import torch\n",
    "\n",
    "# data_partition = {\n",
    "#     \"gwilliams2023\": {\n",
    "#         \"testing_subjects\": [19, 20, 21],\n",
    "#         \"testing_tasks\": [0],\n",
    "#     },\n",
    "#     # \"armeini2022\": {\n",
    "#     #     \"testing_subjects\": [],\n",
    "#     #     \"testing_tasks\": [8, 9],\n",
    "#     # },\n",
    "# }\n",
    "\n",
    "# model_config = SimpleConvConfig(\n",
    "#     # Str to list of possible conditions\n",
    "#     mel_normalization=False,\n",
    "#     conditions={\n",
    "#         \"study\": [],\n",
    "#         \"subject\": [],\n",
    "#     },\n",
    "#     # Channels\n",
    "#     in_channels=208,\n",
    "#     out_channels=128,\n",
    "#     hidden_dim=384,\n",
    "#     dropout=0.2,\n",
    "#     initial_batch_norm=True,\n",
    "#     # Sensor layout settings\n",
    "#     layout_dim=2,\n",
    "#     layout_proj=True,\n",
    "#     layout_scaling=\"minmax\",\n",
    "#     # Merger with spatial attn\n",
    "#     merger=False,\n",
    "#     merger_emb_type=None,\n",
    "#     merger_emb_dim=0,\n",
    "#     merger_channels=0,\n",
    "#     merger_dropout=False,\n",
    "#     merger_conditional=None,\n",
    "#     # Inital\n",
    "#     initial_linear=384,\n",
    "#     initial_depth=1,\n",
    "#     # Conditional layers\n",
    "#     conditional_layers=False,\n",
    "#     conditional_layers_dim=None,  # input or hidden_dim\n",
    "#     # Conv layer overall structure\n",
    "#     depth=6,\n",
    "#     kernel_size=3,\n",
    "#     growth=1.0,\n",
    "#     dilation_growth=2,\n",
    "#     dilation_period=5,\n",
    "#     glu=1,\n",
    "#     conv_dropout=0.2,\n",
    "#     dropout_input=0.2,\n",
    "#     batch_norm=True,\n",
    "#     half=False,\n",
    "#     # Quantizer\n",
    "#     quantizer=False,\n",
    "#     num_codebooks=0,\n",
    "#     codebook_size=0,\n",
    "#     quantizer_commitment=0,\n",
    "#     quantizer_temp_init=0,\n",
    "#     quantizer_temp_min=0,\n",
    "#     quantizer_temp_decay=0,\n",
    "#     # Transformers Encoders\n",
    "#     transformer_input=None,\n",
    "#     transformer_encoder_emb=None,\n",
    "#     transformer_encoder_layers=0,\n",
    "#     transformer_encoder_heads=0,\n",
    "#     # Transformer Decoders\n",
    "#     transformer_decoder_emb=None,\n",
    "#     transformer_decoder_layers=0,\n",
    "#     transformer_decoder_heads=0,\n",
    "#     transformer_decoder_dim=0,\n",
    "# )\n",
    "\n",
    "# config = TrainingConfigV0(\n",
    "#     brain_encoder_config=model_config,\n",
    "#     data_partition=data_partition,\n",
    "#     # Pre-processing parameters\n",
    "#     # Brain\n",
    "#     new_freq=100,\n",
    "#     frequency_bands={\"all\": (0.5, 40)},\n",
    "#     max_random_shift=1.0,\n",
    "#     window_size=4,\n",
    "#     window_stride=1,\n",
    "#     brain_clipping=None,\n",
    "#     baseline_window=0.0,\n",
    "#     notch_filter=True,\n",
    "#     scaling=\"standard\",\n",
    "#     delay=0.15,\n",
    "#     # Hyperparameters\n",
    "#     learning_rate=3e-4,\n",
    "#     weight_decay=1e-4,\n",
    "#     epochs=50,\n",
    "#     batch_size=256,\n",
    "#     use_clip_loss=True,\n",
    "#     use_mse_loss=True,\n",
    "#     alpha=0.6,\n",
    "#     random_test_size=10,\n",
    "#     seed=42,\n",
    "# )\n",
    "\n",
    "# config.notch_filter = False\n",
    "\n",
    "# session = TrainingSessionV0(\n",
    "#     config=config,\n",
    "#     studies={study: \"audio\" for study in data_partition.keys()},\n",
    "#     data_path=\"data\",\n",
    "#     save_path=\"saves/phase1/ablation/notch_filter/False\",\n",
    "#     clear_cache=True,\n",
    "#     cache_name=\"cache/1\",\n",
    "# )\n",
    "\n",
    "# try:\n",
    "#     session.train(\n",
    "#         device=\"cuda\",\n",
    "#         buffer_size=30,\n",
    "#         num_workers=(multiprocessing.cpu_count() - 2) // 2,\n",
    "#         max_cache_size=400,\n",
    "#         current_epoch=0,\n",
    "#     )\n",
    "# except KeyboardInterrupt as e:\n",
    "#     print(\"Exited\")"
   ]
  },
  {
   "cell_type": "markdown",
   "metadata": {},
   "source": [
    "## No notch"
   ]
  }
 ],
 "metadata": {
  "kernelspec": {
   "display_name": "brain",
   "language": "python",
   "name": "python3"
  },
  "language_info": {
   "codemirror_mode": {
    "name": "ipython",
    "version": 3
   },
   "file_extension": ".py",
   "mimetype": "text/x-python",
   "name": "python",
   "nbconvert_exporter": "python",
   "pygments_lexer": "ipython3",
   "version": "3.11.7"
  }
 },
 "nbformat": 4,
 "nbformat_minor": 4
}
