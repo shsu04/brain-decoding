{
 "cells": [
  {
   "cell_type": "code",
   "execution_count": 1,
   "metadata": {},
   "outputs": [],
   "source": [
    "data_partition = {\n",
    "        \"gwilliams2023\": {\n",
    "            \"testing_subjects\": [19, 20, 21],\n",
    "            \"testing_tasks\": [0],\n",
    "        },\n",
    "        \"schoffelen2022\": {\n",
    "            \"testing_subjects\": [],\n",
    "            \"testing_tasks\": [8, 9],\n",
    "        },\n",
    "}"
   ]
  },
  {
   "cell_type": "code",
   "execution_count": 2,
   "metadata": {},
   "outputs": [],
   "source": [
    "# from utils.compression import compress_directories, decompress_directories\n",
    "\n",
    "# for base_path, batch_type in data_partition.items():\n",
    "#     decompress_directories(\n",
    "#         source_path=f'downloaded_data/{base_path}',\n",
    "#         destination_path=f'data/{base_path}',\n",
    "#         checksum_file_name=\"checksums.txt\",\n",
    "#         delete_compressed_files=True,\n",
    "#         num_workers=None\n",
    "#     )"
   ]
  },
  {
   "cell_type": "code",
   "execution_count": 3,
   "metadata": {},
   "outputs": [],
   "source": [
    "from config import SimpleConvConfig\n",
    "from models.simpleconv import SimpleConv\n",
    "import torch\n",
    "\n",
    "model_config = SimpleConvConfig(\n",
    "    # Str to list of possible conditions\n",
    "    mel_normalization=False,\n",
    "    conditions={\n",
    "        \"study\": [],\n",
    "        \"subject\": [],\n",
    "    },\n",
    "    # Channels\n",
    "    in_channels=208,\n",
    "    out_channels=128,\n",
    "    hidden_dim=512,\n",
    "    dropout=0.2,\n",
    "    initial_batch_norm=True,\n",
    "    # Sensor layout settings\n",
    "    layout_dim=3,\n",
    "    layout_proj=False,\n",
    "    layout_scaling=\"midpoint\",\n",
    "    # Merger with spatial attn\n",
    "    merger=True,\n",
    "    merger_emb_type=\"linear\",\n",
    "    merger_emb_dim=512,\n",
    "    merger_channels=256,\n",
    "    merger_dropout=True,\n",
    "    merger_conditional=None,\n",
    "    # Inital\n",
    "    initial_linear=256,\n",
    "    initial_depth=1,\n",
    "    # Conditional layers\n",
    "    conditional_layers=True,\n",
    "    conditional_layers_dim='input',  # input or hidden_dim\n",
    "    # Conv layer overall structure\n",
    "    depth=6,\n",
    "    kernel_size=3,\n",
    "    growth=1.0,\n",
    "    dilation_growth=2,\n",
    "    dilation_period=5,\n",
    "    glu=1,\n",
    "    conv_dropout=0.2,\n",
    "    dropout_input=0.2,\n",
    "    batch_norm=True,\n",
    "    # Quantizer\n",
    "    quantizer=False,\n",
    "    num_codebooks=0,\n",
    "    codebook_size=0,\n",
    "    quantizer_commitment=0,\n",
    "    quantizer_temp_init=0,\n",
    "    quantizer_temp_min=0,\n",
    "    quantizer_temp_decay=0,\n",
    "    # Transformers Encoders\n",
    "    transformer_input=None,\n",
    "    transformer_encoder_emb=None,\n",
    "    transformer_encoder_layers=0,\n",
    "    transformer_encoder_heads=0,\n",
    "    # Transformer Decoders\n",
    "    transformer_decoder_emb=None,\n",
    "    transformer_decoder_layers=0,\n",
    "    transformer_decoder_heads=0,\n",
    "    transformer_decoder_dim=0,\n",
    ")"
   ]
  },
  {
   "cell_type": "code",
   "execution_count": 4,
   "metadata": {},
   "outputs": [
    {
     "name": "stdout",
     "output_type": "stream",
     "text": [
      "Loading Gwilliams2023 with batch type audio\n",
      "Loading Schoffelen2022 with batch type audio\n",
      "Data partitioned on studies ['gwilliams2023', 'schoffelen2022'].\n",
      "Train: 165, Unseen Task: 12, Unseen Subject: 45, Unseen Both: 4.\n",
      "\n",
      "Conditional layer study initialized with 3 conditions\n",
      "Conditional layer subject initialized with 31 conditions\n",
      "SimpleConv initialized with 14632832 parameters, cond: ['study', 'subject']\n",
      "Merger True, merger channels 256\n",
      "ConvBlocks: 6, hidden_dim: 512, params 13776896\n"
     ]
    }
   ],
   "source": [
    "from train.training_session_v0 import TrainingSessionV0\n",
    "from config import TrainingConfigV0\n",
    "import multiprocessing\n",
    "\n",
    "config = TrainingConfigV0(\n",
    "    brain_encoder_config=model_config,\n",
    "    data_partition=data_partition,\n",
    "    # Pre-processing parameters\n",
    "    # Brain\n",
    "    new_freq=100,\n",
    "    frequency_bands={'all': (0.5, 80)},\n",
    "    max_random_shift=1.0,\n",
    "    window_size= 4,\n",
    "    window_stride=1,\n",
    "    brain_clipping=20,\n",
    "    baseline_window=None,\n",
    "    notch_filter=True,\n",
    "    scaling='both',\n",
    "    delay=0.15,\n",
    "    # Hyperparameters\n",
    "    learning_rate = 5e-4,\n",
    "    weight_decay = 1e-4,\n",
    "    epochs = 50,\n",
    "    batch_size = 256,\n",
    "    use_clip_loss = True,\n",
    "    use_mse_loss = True,\n",
    "    alpha =0.6,\n",
    "    random_test_size =20,\n",
    "    seed = 42,\n",
    ")\n",
    "\n",
    "session = TrainingSessionV0(\n",
    "    config=config,\n",
    "    studies={study: 'audio' for study in data_partition.keys()},\n",
    "    data_path='data',\n",
    "    save_path='saves/Dec18_CLIP_MSE_full_both_datasets',\n",
    "    clear_cache=False,\n",
    ")"
   ]
  },
  {
   "cell_type": "code",
   "execution_count": null,
   "metadata": {},
   "outputs": [
    {
     "name": "stderr",
     "output_type": "stream",
     "text": [
      "2024-12-19 10:31:03,190\tINFO worker.py:1821 -- Started a local Ray instance.\n",
      "Training Epoch 1: 100%|██████████| 165/165 [05:18<00:00,  1.93s/it]\n"
     ]
    },
    {
     "name": "stdout",
     "output_type": "stream",
     "text": [
      "Testing at epoch 1\n",
      "Test unseen_subject completed. Accuracy: 0.0060, Top 1: 0.0094, Top 5: 0.0464, Top 10: 0.0920, Perplexity: 0.0000\n",
      "Test unseen_task completed. Accuracy: 0.0061, Top 1: 0.0094, Top 5: 0.0450, Top 10: 0.0930, Perplexity: 0.0000\n",
      "Test unseen_both completed. Accuracy: 0.0062, Top 1: 0.0123, Top 5: 0.0517, Top 10: 0.0873, Perplexity: 0.0000\n",
      "Epoch 1 completed in 5.91m. 0.04m per recording.\n"
     ]
    },
    {
     "name": "stderr",
     "output_type": "stream",
     "text": [
      "Training Epoch 2: 100%|██████████| 165/165 [05:17<00:00,  1.92s/it]\n"
     ]
    },
    {
     "name": "stdout",
     "output_type": "stream",
     "text": [
      "Testing at epoch 2\n",
      "Test unseen_subject completed. Accuracy: 0.0052, Top 1: 0.0091, Top 5: 0.0486, Top 10: 0.0986, Perplexity: 0.0000\n",
      "Test unseen_task completed. Accuracy: 0.0058, Top 1: 0.0089, Top 5: 0.0467, Top 10: 0.0983, Perplexity: 0.0000\n",
      "Test unseen_both completed. Accuracy: 0.0049, Top 1: 0.0074, Top 5: 0.0492, Top 10: 0.0960, Perplexity: 0.0000\n",
      "Epoch 2 completed in 5.87m. 0.04m per recording.\n"
     ]
    },
    {
     "name": "stderr",
     "output_type": "stream",
     "text": [
      "Training Epoch 3: 100%|██████████| 165/165 [05:12<00:00,  1.89s/it]\n"
     ]
    },
    {
     "name": "stdout",
     "output_type": "stream",
     "text": [
      "Testing at epoch 3\n",
      "Test unseen_subject completed. Accuracy: 0.0040, Top 1: 0.0077, Top 5: 0.0384, Top 10: 0.0823, Perplexity: 0.0000\n",
      "Test unseen_task completed. Accuracy: 0.0053, Top 1: 0.0088, Top 5: 0.0473, Top 10: 0.0977, Perplexity: 0.0000\n",
      "Test unseen_both completed. Accuracy: 0.0074, Top 1: 0.0123, Top 5: 0.0578, Top 10: 0.0996, Perplexity: 0.0000\n",
      "Epoch 3 completed in 5.72m. 0.03m per recording.\n"
     ]
    },
    {
     "name": "stderr",
     "output_type": "stream",
     "text": [
      "Training Epoch 4: 100%|██████████| 165/165 [05:15<00:00,  1.91s/it]\n"
     ]
    },
    {
     "name": "stdout",
     "output_type": "stream",
     "text": [
      "Testing at epoch 4\n",
      "Test unseen_subject completed. Accuracy: 0.0045, Top 1: 0.0079, Top 5: 0.0370, Top 10: 0.0735, Perplexity: 0.0000\n",
      "Test unseen_task completed. Accuracy: 0.0044, Top 1: 0.0080, Top 5: 0.0453, Top 10: 0.0978, Perplexity: 0.0000\n",
      "Test unseen_both completed. Accuracy: 0.0086, Top 1: 0.0135, Top 5: 0.0443, Top 10: 0.0925, Perplexity: 0.0000\n",
      "Epoch 4 completed in 5.81m. 0.04m per recording.\n"
     ]
    },
    {
     "name": "stderr",
     "output_type": "stream",
     "text": [
      "Training Epoch 5: 100%|██████████| 165/165 [05:17<00:00,  1.93s/it]\n"
     ]
    },
    {
     "name": "stdout",
     "output_type": "stream",
     "text": [
      "Testing at epoch 5\n",
      "Test unseen_subject completed. Accuracy: 0.0035, Top 1: 0.0089, Top 5: 0.0486, Top 10: 0.1002, Perplexity: 0.0000\n",
      "Test unseen_task completed. Accuracy: 0.0046, Top 1: 0.0078, Top 5: 0.0488, Top 10: 0.0948, Perplexity: 0.0000\n",
      "Test unseen_both completed. Accuracy: 0.0049, Top 1: 0.0124, Top 5: 0.0590, Top 10: 0.1096, Perplexity: 0.0000\n",
      "Epoch 5 completed in 5.87m. 0.04m per recording.\n"
     ]
    },
    {
     "name": "stderr",
     "output_type": "stream",
     "text": [
      "Training Epoch 6: 100%|██████████| 165/165 [05:13<00:00,  1.90s/it]\n"
     ]
    },
    {
     "name": "stdout",
     "output_type": "stream",
     "text": [
      "Testing at epoch 6\n",
      "Test unseen_subject completed. Accuracy: 0.0045, Top 1: 0.0107, Top 5: 0.0608, Top 10: 0.1159, Perplexity: 0.0000\n",
      "Test unseen_task completed. Accuracy: 0.0055, Top 1: 0.0089, Top 5: 0.0479, Top 10: 0.0971, Perplexity: 0.0000\n",
      "Test unseen_both completed. Accuracy: 0.0061, Top 1: 0.0098, Top 5: 0.0517, Top 10: 0.1021, Perplexity: 0.0000\n",
      "Epoch 6 completed in 5.79m. 0.04m per recording.\n"
     ]
    },
    {
     "name": "stderr",
     "output_type": "stream",
     "text": [
      "Training Epoch 7: 100%|██████████| 165/165 [05:13<00:00,  1.90s/it]\n"
     ]
    },
    {
     "name": "stdout",
     "output_type": "stream",
     "text": [
      "Testing at epoch 7\n",
      "Test unseen_subject completed. Accuracy: 0.0077, Top 1: 0.0124, Top 5: 0.0615, Top 10: 0.1223, Perplexity: 0.0000\n",
      "Test unseen_task completed. Accuracy: 0.0058, Top 1: 0.0088, Top 5: 0.0455, Top 10: 0.0963, Perplexity: 0.0000\n",
      "Test unseen_both completed. Accuracy: 0.0049, Top 1: 0.0148, Top 5: 0.0541, Top 10: 0.0874, Perplexity: 0.0000\n",
      "Epoch 7 completed in 5.76m. 0.03m per recording.\n"
     ]
    },
    {
     "name": "stderr",
     "output_type": "stream",
     "text": [
      "Training Epoch 8: 100%|██████████| 165/165 [05:12<00:00,  1.89s/it]\n"
     ]
    },
    {
     "name": "stdout",
     "output_type": "stream",
     "text": [
      "Testing at epoch 8\n",
      "Test unseen_subject completed. Accuracy: 0.0037, Top 1: 0.0062, Top 5: 0.0319, Top 10: 0.0747, Perplexity: 0.0000\n",
      "Test unseen_task completed. Accuracy: 0.0051, Top 1: 0.0083, Top 5: 0.0489, Top 10: 0.1004, Perplexity: 0.0000\n",
      "Test unseen_both completed. Accuracy: 0.0062, Top 1: 0.0148, Top 5: 0.0467, Top 10: 0.0836, Perplexity: 0.0000\n",
      "Epoch 8 completed in 5.75m. 0.03m per recording.\n"
     ]
    },
    {
     "name": "stderr",
     "output_type": "stream",
     "text": [
      "Training Epoch 9: 100%|██████████| 165/165 [05:12<00:00,  1.89s/it]\n"
     ]
    },
    {
     "name": "stdout",
     "output_type": "stream",
     "text": [
      "Testing at epoch 9\n",
      "Test unseen_subject completed. Accuracy: 0.0052, Top 1: 0.0080, Top 5: 0.0564, Top 10: 0.1261, Perplexity: 0.0000\n",
      "Test unseen_task completed. Accuracy: 0.0049, Top 1: 0.0084, Top 5: 0.0467, Top 10: 0.1039, Perplexity: 0.0000\n",
      "Test unseen_both completed. Accuracy: 0.0061, Top 1: 0.0098, Top 5: 0.0530, Top 10: 0.1059, Perplexity: 0.0000\n",
      "Epoch 9 completed in 5.72m. 0.03m per recording.\n"
     ]
    },
    {
     "name": "stderr",
     "output_type": "stream",
     "text": [
      "Training Epoch 10: 100%|██████████| 165/165 [05:11<00:00,  1.89s/it]\n"
     ]
    },
    {
     "name": "stdout",
     "output_type": "stream",
     "text": [
      "Testing at epoch 10\n",
      "Test unseen_subject completed. Accuracy: 0.0079, Top 1: 0.0149, Top 5: 0.0750, Top 10: 0.1352, Perplexity: 0.0000\n",
      "Test unseen_task completed. Accuracy: 0.0065, Top 1: 0.0096, Top 5: 0.0506, Top 10: 0.1025, Perplexity: 0.0000\n",
      "Test unseen_both completed. Accuracy: 0.0074, Top 1: 0.0123, Top 5: 0.0566, Top 10: 0.1107, Perplexity: 0.0000\n",
      "Epoch 10 completed in 5.73m. 0.03m per recording.\n"
     ]
    },
    {
     "name": "stderr",
     "output_type": "stream",
     "text": [
      "Training Epoch 11: 100%|██████████| 165/165 [05:09<00:00,  1.88s/it]\n"
     ]
    },
    {
     "name": "stdout",
     "output_type": "stream",
     "text": [
      "Testing at epoch 11\n",
      "Test unseen_subject completed. Accuracy: 0.0047, Top 1: 0.0079, Top 5: 0.0554, Top 10: 0.1239, Perplexity: 0.0000\n",
      "Test unseen_task completed. Accuracy: 0.0043, Top 1: 0.0075, Top 5: 0.0502, Top 10: 0.0984, Perplexity: 0.0000\n",
      "Test unseen_both completed. Accuracy: 0.0037, Top 1: 0.0098, Top 5: 0.0456, Top 10: 0.0986, Perplexity: 0.0000\n",
      "Epoch 11 completed in 5.72m. 0.03m per recording.\n"
     ]
    },
    {
     "name": "stderr",
     "output_type": "stream",
     "text": [
      "Training Epoch 12: 100%|██████████| 165/165 [05:12<00:00,  1.89s/it]\n"
     ]
    },
    {
     "name": "stdout",
     "output_type": "stream",
     "text": [
      "Testing at epoch 12\n",
      "Test unseen_subject completed. Accuracy: 0.0074, Top 1: 0.0139, Top 5: 0.0667, Top 10: 0.1326, Perplexity: 0.0000\n",
      "Test unseen_task completed. Accuracy: 0.0053, Top 1: 0.0088, Top 5: 0.0466, Top 10: 0.0999, Perplexity: 0.0000\n",
      "Test unseen_both completed. Accuracy: 0.0062, Top 1: 0.0111, Top 5: 0.0480, Top 10: 0.1033, Perplexity: 0.0000\n",
      "Epoch 12 completed in 5.74m. 0.03m per recording.\n"
     ]
    },
    {
     "name": "stderr",
     "output_type": "stream",
     "text": [
      "Training Epoch 13: 100%|██████████| 165/165 [05:12<00:00,  1.90s/it]\n"
     ]
    },
    {
     "name": "stdout",
     "output_type": "stream",
     "text": [
      "Testing at epoch 13\n",
      "Test unseen_subject completed. Accuracy: 0.0040, Top 1: 0.0089, Top 5: 0.0577, Top 10: 0.1187, Perplexity: 0.0000\n",
      "Test unseen_task completed. Accuracy: 0.0039, Top 1: 0.0076, Top 5: 0.0485, Top 10: 0.0961, Perplexity: 0.0000\n",
      "Test unseen_both completed. Accuracy: 0.0086, Top 1: 0.0185, Top 5: 0.0542, Top 10: 0.1034, Perplexity: 0.0000\n",
      "Epoch 13 completed in 5.76m. 0.03m per recording.\n"
     ]
    },
    {
     "name": "stderr",
     "output_type": "stream",
     "text": [
      "Training Epoch 14: 100%|██████████| 165/165 [05:16<00:00,  1.92s/it]\n"
     ]
    },
    {
     "name": "stdout",
     "output_type": "stream",
     "text": [
      "Testing at epoch 14\n",
      "Test unseen_subject completed. Accuracy: 0.0050, Top 1: 0.0094, Top 5: 0.0511, Top 10: 0.1066, Perplexity: 0.0000\n",
      "Test unseen_task completed. Accuracy: 0.0059, Top 1: 0.0100, Top 5: 0.0593, Top 10: 0.1134, Perplexity: 0.0000\n",
      "Test unseen_both completed. Accuracy: 0.0074, Top 1: 0.0148, Top 5: 0.0480, Top 10: 0.0910, Perplexity: 0.0000\n",
      "Epoch 14 completed in 5.83m. 0.04m per recording.\n"
     ]
    },
    {
     "name": "stderr",
     "output_type": "stream",
     "text": [
      "Training Epoch 15:  22%|██▏       | 36/165 [01:26<03:30,  1.63s/it] Exception ignored in: <bound method IPythonKernel._clean_thread_parent_frames of <ipykernel.ipkernel.IPythonKernel object at 0x758750138e10>>\n",
      "Traceback (most recent call last):\n",
      "  File \"/home/ubuntu/miniconda3/envs/brain/lib/python3.11/site-packages/ipykernel/ipkernel.py\", line 775, in _clean_thread_parent_frames\n",
      "    def _clean_thread_parent_frames(\n",
      "\n",
      "KeyboardInterrupt: \n",
      "Training Epoch 15:  25%|██▍       | 41/165 [01:37<05:14,  2.54s/it]"
     ]
    }
   ],
   "source": [
    "try:\n",
    "    session.train(\n",
    "        device='cuda',\n",
    "        buffer_size=30,\n",
    "        num_workers=multiprocessing.cpu_count() - 2,\n",
    "        max_cache_size=400,\n",
    "        current_epoch=0,\n",
    "    )\n",
    "except KeyboardInterrupt as e:\n",
    "    print('Exited')"
   ]
  },
  {
   "cell_type": "code",
   "execution_count": null,
   "metadata": {},
   "outputs": [],
   "source": [
    "# import os\n",
    "\n",
    "# def delete_file_recursive(directory, filename):\n",
    "#     for root, dirs, files in os.walk(directory):\n",
    "#         if filename in files:\n",
    "#             file_path = os.path.join(root, filename)\n",
    "#             try:\n",
    "#                 os.remove(file_path)\n",
    "#                 print(f\"Deleted: {file_path}\")\n",
    "#             except PermissionError:\n",
    "#                 print(f\"Permission denied: {file_path}\")\n",
    "#             except Exception as e:\n",
    "#                 print(f\"Error deleting {file_path}: {e}\")\n",
    "\n",
    "# directory = os.getcwd()\n",
    "# filename = 'training_log.log'\n",
    "# delete_file_recursive(directory, filename)"
   ]
  }
 ],
 "metadata": {
  "kernelspec": {
   "display_name": "brain",
   "language": "python",
   "name": "python3"
  },
  "language_info": {
   "codemirror_mode": {
    "name": "ipython",
    "version": 3
   },
   "file_extension": ".py",
   "mimetype": "text/x-python",
   "name": "python",
   "nbconvert_exporter": "python",
   "pygments_lexer": "ipython3",
   "version": "3.11.7"
  }
 },
 "nbformat": 4,
 "nbformat_minor": 4
}
