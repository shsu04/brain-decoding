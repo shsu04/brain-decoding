{
 "cells": [
  {
   "cell_type": "code",
   "execution_count": 1,
   "metadata": {},
   "outputs": [],
   "source": [
    "data_partition = {\n",
    "        \"gwilliams2023\": {\n",
    "            \"testing_subjects\": [19, 20, 21],\n",
    "            \"testing_tasks\": [0],\n",
    "        },\n",
    "        # \"schoffelen2022\": {\n",
    "        #     \"testing_subjects\": [],\n",
    "        #     \"testing_tasks\": [8, 9],\n",
    "        # },\n",
    "}"
   ]
  },
  {
   "cell_type": "code",
   "execution_count": 2,
   "metadata": {},
   "outputs": [],
   "source": [
    "# from utils.compression import compress_directories, decompress_directories\n",
    "\n",
    "# for base_path, batch_type in data_partition.items():\n",
    "#     decompress_directories(\n",
    "#         source_path=f'downloaded_data/{base_path}',\n",
    "#         destination_path=f'data/{base_path}',\n",
    "#         checksum_file_name=\"checksums.txt\",\n",
    "#         delete_compressed_files=True,\n",
    "#         num_workers=26\n",
    "#     )"
   ]
  },
  {
   "cell_type": "code",
   "execution_count": 3,
   "metadata": {},
   "outputs": [],
   "source": [
    "from config import SimpleConvConfig\n",
    "from models.simpleconv import SimpleConv\n",
    "import torch\n",
    "\n",
    "model_config = SimpleConvConfig(\n",
    "    # Str to list of possible conditions\n",
    "    mel_normalization=False,\n",
    "    conditions={\n",
    "        \"study\": [],\n",
    "        \"subject\": [],\n",
    "    },\n",
    "    # Channels\n",
    "    in_channels=208,\n",
    "    out_channels=128,\n",
    "    hidden_dim=384,\n",
    "    dropout=0.2,\n",
    "    initial_batch_norm=True,\n",
    "    # Sensor layout settings\n",
    "    layout_dim=2,\n",
    "    layout_proj=True,\n",
    "    layout_scaling=\"minmax\",\n",
    "    # Merger with spatial attn\n",
    "    merger=False,\n",
    "    merger_emb_type=None,\n",
    "    merger_emb_dim=0,\n",
    "    merger_channels=0,\n",
    "    merger_dropout=False,\n",
    "    merger_conditional=None,\n",
    "    # Inital\n",
    "    initial_linear=384,\n",
    "    initial_depth=1,\n",
    "    # Conditional layers\n",
    "    conditional_layers=False,\n",
    "    conditional_layers_dim=None,  # input or hidden_dim\n",
    "    # Conv layer overall structure\n",
    "    depth=6,\n",
    "    kernel_size=3,\n",
    "    growth=1.0,\n",
    "    dilation_growth=2,\n",
    "    dilation_period=5,\n",
    "    glu=1,\n",
    "    conv_dropout=0.2,\n",
    "    dropout_input=0.2,\n",
    "    batch_norm=True,\n",
    "    # Quantizer\n",
    "    quantizer=False,\n",
    "    num_codebooks=0,\n",
    "    codebook_size=0,\n",
    "    quantizer_commitment=0,\n",
    "    quantizer_temp_init=0,\n",
    "    quantizer_temp_min=0,\n",
    "    quantizer_temp_decay=0,\n",
    "    # Transformers Encoders\n",
    "    transformer_input=None,\n",
    "    transformer_encoder_emb=None,\n",
    "    transformer_encoder_layers=0,\n",
    "    transformer_encoder_heads=0,\n",
    "    # Transformer Decoders\n",
    "    transformer_decoder_emb=None,\n",
    "    transformer_decoder_layers=0,\n",
    "    transformer_decoder_heads=0,\n",
    "    transformer_decoder_dim=0,\n",
    ")"
   ]
  },
  {
   "cell_type": "code",
   "execution_count": 4,
   "metadata": {},
   "outputs": [
    {
     "name": "stdout",
     "output_type": "stream",
     "text": [
      "Loading Gwilliams2023 with batch type audio\n",
      "Data partitioned on studies ['gwilliams2023'].\n",
      "Train: 135, Unseen Task: 12, Unseen Subject: 45, Unseen Both: 4.\n",
      "\n",
      "SimpleConv initialized with 8448160 parameters, cond: ['study', 'subject']\n",
      "Merger False, merger channels 0\n",
      "ConvBlocks: 6, hidden_dim: 384, params 7973376\n"
     ]
    }
   ],
   "source": [
    "from train.training_session_v0 import TrainingSessionV0\n",
    "from config import TrainingConfigV0\n",
    "import multiprocessing\n",
    "\n",
    "config = TrainingConfigV0(\n",
    "    brain_encoder_config=model_config,\n",
    "    data_partition=data_partition,\n",
    "    # Pre-processing parameters\n",
    "    # Brain\n",
    "    new_freq=100,\n",
    "    frequency_bands={'all': (0.5, 80)},\n",
    "    max_random_shift=1.0,\n",
    "    window_size= 4,\n",
    "    window_stride=1,\n",
    "    brain_clipping=20,\n",
    "    baseline_window=0.5,\n",
    "    notch_filter=True,\n",
    "    scaling='both',\n",
    "    delay=0.15,\n",
    "    # Hyperparameters\n",
    "    learning_rate = 3e-4,\n",
    "    weight_decay = 1e-4,\n",
    "    epochs = 50,\n",
    "    batch_size = 256,\n",
    "    use_clip_loss = False,\n",
    "    use_mse_loss = True,\n",
    "    alpha =0.0,\n",
    "    random_test_size =10,\n",
    "    seed = 42,\n",
    ")\n",
    "\n",
    "session = TrainingSessionV0(\n",
    "    config=config,\n",
    "    studies={study: 'audio' for study in data_partition.keys()},\n",
    "    data_path='data',\n",
    "    save_path='saves/phase1/objective/Dec18_MSE_384',\n",
    "    clear_cache=False,\n",
    ")"
   ]
  },
  {
   "cell_type": "code",
   "execution_count": null,
   "metadata": {},
   "outputs": [
    {
     "name": "stdout",
     "output_type": "stream",
     "text": [
      "GPU is not NVIDIA V100, A100, or H100. Speedup numbers may be lower than expected.\n"
     ]
    },
    {
     "name": "stderr",
     "output_type": "stream",
     "text": [
      "2024-12-19 16:37:20,638\tINFO worker.py:1821 -- Started a local Ray instance.\n",
      "Training Epoch 1: 100%|██████████| 135/135 [03:39<00:00,  1.63s/it]\n"
     ]
    },
    {
     "name": "stdout",
     "output_type": "stream",
     "text": [
      "Testing at epoch 1\n",
      "Test unseen_subject completed. Accuracy: 0.0040, Top 1: 0.0089, Top 5: 0.0464, Top 10: 0.1032, Perplexity: 0.0000\n",
      "Test unseen_task completed. Accuracy: 0.0053, Top 1: 0.0085, Top 5: 0.0478, Top 10: 0.0992, Perplexity: 0.0000\n",
      "Test unseen_both completed. Accuracy: 0.0038, Top 1: 0.0062, Top 5: 0.0510, Top 10: 0.0959, Perplexity: 0.0000\n",
      "Epoch 1 completed in 4.00m. 0.03m per recording.\n"
     ]
    },
    {
     "name": "stderr",
     "output_type": "stream",
     "text": [
      "Training Epoch 2: 100%|██████████| 135/135 [03:37<00:00,  1.61s/it]\n"
     ]
    },
    {
     "name": "stdout",
     "output_type": "stream",
     "text": [
      "Testing at epoch 2\n",
      "Test unseen_subject completed. Accuracy: 0.0045, Top 1: 0.0089, Top 5: 0.0503, Top 10: 0.1032, Perplexity: 0.0000\n",
      "Test unseen_task completed. Accuracy: 0.0056, Top 1: 0.0085, Top 5: 0.0498, Top 10: 0.1021, Perplexity: 0.0000\n",
      "Test unseen_both completed. Accuracy: 0.0050, Top 1: 0.0075, Top 5: 0.0523, Top 10: 0.1071, Perplexity: 0.0000\n",
      "Epoch 2 completed in 3.96m. 0.03m per recording.\n"
     ]
    },
    {
     "name": "stderr",
     "output_type": "stream",
     "text": [
      "Training Epoch 3: 100%|██████████| 135/135 [03:38<00:00,  1.62s/it]\n"
     ]
    },
    {
     "name": "stdout",
     "output_type": "stream",
     "text": [
      "Testing at epoch 3\n",
      "Test unseen_subject completed. Accuracy: 0.0059, Top 1: 0.0084, Top 5: 0.0543, Top 10: 0.1185, Perplexity: 0.0000\n",
      "Test unseen_task completed. Accuracy: 0.0052, Top 1: 0.0090, Top 5: 0.0571, Top 10: 0.1168, Perplexity: 0.0000\n",
      "Test unseen_both completed. Accuracy: 0.0062, Top 1: 0.0100, Top 5: 0.0585, Top 10: 0.1195, Perplexity: 0.0000\n",
      "Epoch 3 completed in 3.96m. 0.03m per recording.\n"
     ]
    },
    {
     "name": "stderr",
     "output_type": "stream",
     "text": [
      "Training Epoch 4: 100%|██████████| 135/135 [03:36<00:00,  1.60s/it]\n"
     ]
    },
    {
     "name": "stdout",
     "output_type": "stream",
     "text": [
      "Testing at epoch 4\n",
      "Test unseen_subject completed. Accuracy: 0.0045, Top 1: 0.0079, Top 5: 0.0558, Top 10: 0.1076, Perplexity: 0.0000\n",
      "Test unseen_task completed. Accuracy: 0.0066, Top 1: 0.0091, Top 5: 0.0537, Top 10: 0.1128, Perplexity: 0.0000\n",
      "Test unseen_both completed. Accuracy: 0.0062, Top 1: 0.0112, Top 5: 0.0560, Top 10: 0.1095, Perplexity: 0.0000\n",
      "Epoch 4 completed in 3.91m. 0.03m per recording.\n"
     ]
    },
    {
     "name": "stderr",
     "output_type": "stream",
     "text": [
      "Training Epoch 5: 100%|██████████| 135/135 [03:36<00:00,  1.60s/it]\n"
     ]
    },
    {
     "name": "stdout",
     "output_type": "stream",
     "text": [
      "Testing at epoch 5\n",
      "Test unseen_subject completed. Accuracy: 0.0084, Top 1: 0.0113, Top 5: 0.0642, Top 10: 0.1239, Perplexity: 0.0000\n",
      "Test unseen_task completed. Accuracy: 0.0073, Top 1: 0.0111, Top 5: 0.0627, Top 10: 0.1262, Perplexity: 0.0000\n",
      "Test unseen_both completed. Accuracy: 0.0087, Top 1: 0.0124, Top 5: 0.0634, Top 10: 0.1194, Perplexity: 0.0000\n",
      "Epoch 5 completed in 3.94m. 0.03m per recording.\n"
     ]
    },
    {
     "name": "stderr",
     "output_type": "stream",
     "text": [
      "Training Epoch 6: 100%|██████████| 135/135 [03:38<00:00,  1.62s/it]\n"
     ]
    },
    {
     "name": "stdout",
     "output_type": "stream",
     "text": [
      "Testing at epoch 6\n",
      "Test unseen_subject completed. Accuracy: 0.0054, Top 1: 0.0093, Top 5: 0.0592, Top 10: 0.1194, Perplexity: 0.0000\n",
      "Test unseen_task completed. Accuracy: 0.0072, Top 1: 0.0104, Top 5: 0.0568, Top 10: 0.1143, Perplexity: 0.0000\n",
      "Test unseen_both completed. Accuracy: 0.0062, Top 1: 0.0087, Top 5: 0.0597, Top 10: 0.1195, Perplexity: 0.0000\n",
      "Epoch 6 completed in 3.97m. 0.03m per recording.\n"
     ]
    },
    {
     "name": "stderr",
     "output_type": "stream",
     "text": [
      "Training Epoch 7:  65%|██████▌   | 88/135 [02:39<01:15,  1.61s/it]"
     ]
    }
   ],
   "source": [
    "try:\n",
    "    session.train(\n",
    "        device='cuda',\n",
    "        buffer_size=30,\n",
    "        num_workers=multiprocessing.cpu_count() - 2,\n",
    "        max_cache_size=400,\n",
    "        current_epoch=0,\n",
    "    )\n",
    "except KeyboardInterrupt as e:\n",
    "    print('Exited')"
   ]
  },
  {
   "cell_type": "code",
   "execution_count": null,
   "metadata": {},
   "outputs": [],
   "source": [
    "# import os\n",
    "\n",
    "# def delete_file_recursive(directory, filename):\n",
    "#     for root, dirs, files in os.walk(directory):\n",
    "#         if filename in files:\n",
    "#             file_path = os.path.join(root, filename)\n",
    "#             try:\n",
    "#                 os.remove(file_path)\n",
    "#                 print(f\"Deleted: {file_path}\")\n",
    "#             except PermissionError:\n",
    "#                 print(f\"Permission denied: {file_path}\")\n",
    "#             except Exception as e:\n",
    "#                 print(f\"Error deleting {file_path}: {e}\")\n",
    "\n",
    "# directory = os.getcwd()\n",
    "# filename = 'training_log.log'\n",
    "# delete_file_recursive(directory, filename)"
   ]
  }
 ],
 "metadata": {
  "kernelspec": {
   "display_name": "brain",
   "language": "python",
   "name": "python3"
  },
  "language_info": {
   "codemirror_mode": {
    "name": "ipython",
    "version": 3
   },
   "file_extension": ".py",
   "mimetype": "text/x-python",
   "name": "python",
   "nbconvert_exporter": "python",
   "pygments_lexer": "ipython3",
   "version": "3.11.7"
  }
 },
 "nbformat": 4,
 "nbformat_minor": 4
}
