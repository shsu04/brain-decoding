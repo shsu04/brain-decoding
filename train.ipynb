{
 "cells": [
  {
   "cell_type": "code",
   "execution_count": null,
   "metadata": {},
   "outputs": [
    {
     "name": "stdout",
     "output_type": "stream",
     "text": [
      "Loading Gwilliams2023 with batch type audio\n",
      "Data partitioned on studies ['gwilliams2023'].\n",
      "Train: 135, Unseen Task: 12, Unseen Subject: 45, Unseen Both: 4.\n",
      "\n",
      "SimpleConv initialized with 9332896 parameters, cond: ['study', 'subject']\n",
      "Merger False, merger channels 0\n",
      "ConvBlocks: 6, hidden_dim: 384, params 8858112\n"
     ]
    },
    {
     "name": "stderr",
     "output_type": "stream",
     "text": [
      "2025-01-26 00:58:30,331\tINFO worker.py:1841 -- Started a local Ray instance.\n",
      "\u001b[36m(raylet)\u001b[0m Spilled 4046 MiB, 5 objects, write throughput 554 MiB/s. Set RAY_verbose_spill_logs=0 to disable this message.\n",
      "\u001b[36m(raylet)\u001b[0m Spilled 4723 MiB, 6 objects, write throughput 559 MiB/s.\n",
      "\u001b[36m(raylet)\u001b[0m Spilled 22104 MiB, 32 objects, write throughput 982 MiB/s.\n",
      "\u001b[36m(raylet)\u001b[0m Spilled 29995 MiB, 43 objects, write throughput 794 MiB/s.\n",
      "Training Epoch 1: 100%|██████████| 135/135 [08:55<00:00,  3.97s/it]\n"
     ]
    },
    {
     "name": "stdout",
     "output_type": "stream",
     "text": [
      "Epoch 1 completed. Loss: 9.9831, Clip Loss: 9.9831, MSE Loss: 858426486020.1595\n",
      "Accuracy: 0.0001, Top 5: 0.0007, Top 10: 0.0014\n",
      "Test unseen_subject completed. Accuracy: 0.0002, Top 5: 0.0010, Top 10: 0.0020\n",
      "Test unseen_task completed. Accuracy: 0.0002, Top 5: 0.0008, Top 10: 0.0015\n",
      "Test unseen_both completed. Accuracy: 0.0002, Top 5: 0.0010, Top 10: 0.0020\n",
      "Testing completed in 0.79m.\n",
      "Epoch 1 completed in 9.75m. 0.07m per recording.\n"
     ]
    },
    {
     "name": "stderr",
     "output_type": "stream",
     "text": [
      "\u001b[36m(raylet)\u001b[0m Spilled 51016 MiB, 75 objects, write throughput 900 MiB/s.\n",
      "Training Epoch 2: 100%|██████████| 135/135 [08:48<00:00,  3.92s/it]\n"
     ]
    },
    {
     "name": "stdout",
     "output_type": "stream",
     "text": [
      "Epoch 2 completed. Loss: 9.9441, Clip Loss: 9.9441, MSE Loss: 75705303009498.1094\n",
      "Accuracy: 0.0002, Top 5: 0.0009, Top 10: 0.0018\n",
      "Test unseen_subject completed. Accuracy: 0.0002, Top 5: 0.0010, Top 10: 0.0021\n",
      "Test unseen_task completed. Accuracy: 0.0002, Top 5: 0.0009, Top 10: 0.0017\n",
      "Test unseen_both completed. Accuracy: 0.0002, Top 5: 0.0011, Top 10: 0.0023\n",
      "Testing completed in 0.77m.\n",
      "Epoch 2 completed in 9.58m. 0.07m per recording.\n"
     ]
    },
    {
     "name": "stderr",
     "output_type": "stream",
     "text": [
      "\u001b[36m(raylet)\u001b[0m Spilled 66339 MiB, 98 objects, write throughput 864 MiB/s.\n",
      "Training Epoch 3: 100%|██████████| 135/135 [08:56<00:00,  3.98s/it]\n"
     ]
    },
    {
     "name": "stdout",
     "output_type": "stream",
     "text": [
      "Epoch 3 completed. Loss: 9.8836, Clip Loss: 9.8836, MSE Loss: 266262851674924.3125\n",
      "Accuracy: 0.0003, Top 5: 0.0012, Top 10: 0.0024\n",
      "Test unseen_subject completed. Accuracy: 0.0003, Top 5: 0.0016, Top 10: 0.0032\n",
      "Test unseen_task completed. Accuracy: 0.0003, Top 5: 0.0016, Top 10: 0.0032\n",
      "Test unseen_both completed. Accuracy: 0.0004, Top 5: 0.0020, Top 10: 0.0040\n",
      "Testing completed in 0.79m.\n",
      "Epoch 3 completed in 9.73m. 0.07m per recording.\n"
     ]
    },
    {
     "name": "stderr",
     "output_type": "stream",
     "text": [
      "Training Epoch 4: 100%|██████████| 135/135 [08:50<00:00,  3.93s/it]\n"
     ]
    },
    {
     "name": "stdout",
     "output_type": "stream",
     "text": [
      "Epoch 4 completed. Loss: 9.8474, Clip Loss: 9.8474, MSE Loss: 1116468011694470.1250\n",
      "Accuracy: 0.0003, Top 5: 0.0015, Top 10: 0.0029\n",
      "Test unseen_subject completed. Accuracy: 0.0003, Top 5: 0.0017, Top 10: 0.0035\n",
      "Test unseen_task completed. Accuracy: 0.0004, Top 5: 0.0021, Top 10: 0.0038\n",
      "Test unseen_both completed. Accuracy: 0.0006, Top 5: 0.0025, Top 10: 0.0044\n",
      "Testing completed in 0.76m.\n",
      "Epoch 4 completed in 9.60m. 0.07m per recording.\n"
     ]
    },
    {
     "name": "stderr",
     "output_type": "stream",
     "text": [
      "\u001b[36m(raylet)\u001b[0m Spilled 146024 MiB, 217 objects, write throughput 926 MiB/s.\n",
      "Training Epoch 5: 100%|██████████| 135/135 [08:54<00:00,  3.96s/it]\n"
     ]
    },
    {
     "name": "stdout",
     "output_type": "stream",
     "text": [
      "Epoch 5 completed. Loss: 9.8343, Clip Loss: 9.8343, MSE Loss: 2768345701254063.0000\n",
      "Accuracy: 0.0003, Top 5: 0.0016, Top 10: 0.0030\n",
      "Test unseen_subject completed. Accuracy: 0.0004, Top 5: 0.0019, Top 10: 0.0037\n",
      "Test unseen_task completed. Accuracy: 0.0004, Top 5: 0.0019, Top 10: 0.0037\n",
      "Test unseen_both completed. Accuracy: 0.0004, Top 5: 0.0022, Top 10: 0.0044\n",
      "Testing completed in 0.78m.\n",
      "Epoch 5 completed in 9.68m. 0.07m per recording.\n"
     ]
    },
    {
     "name": "stderr",
     "output_type": "stream",
     "text": [
      "Training Epoch 6: 100%|██████████| 135/135 [08:53<00:00,  3.95s/it]\n"
     ]
    },
    {
     "name": "stdout",
     "output_type": "stream",
     "text": [
      "Epoch 6 completed. Loss: 9.8243, Clip Loss: 9.8243, MSE Loss: 4902646479886874.0000\n",
      "Accuracy: 0.0003, Top 5: 0.0016, Top 10: 0.0031\n",
      "Test unseen_subject completed. Accuracy: 0.0004, Top 5: 0.0018, Top 10: 0.0036\n",
      "Test unseen_task completed. Accuracy: 0.0004, Top 5: 0.0019, Top 10: 0.0037\n",
      "Test unseen_both completed. Accuracy: 0.0004, Top 5: 0.0020, Top 10: 0.0036\n",
      "Testing completed in 0.77m.\n",
      "Epoch 6 completed in 9.66m. 0.07m per recording.\n"
     ]
    },
    {
     "name": "stderr",
     "output_type": "stream",
     "text": [
      "Training Epoch 7:   6%|▌         | 8/135 [01:06<10:07,  4.78s/it]  "
     ]
    }
   ],
   "source": [
    "# del session.logger\n",
    "# del session\n",
    "\n",
    "import multiprocessing\n",
    "\n",
    "\n",
    "from train.training_session_v0 import TrainingSessionV0\n",
    "from config import TrainingConfigV0\n",
    "from config import SimpleConvConfig\n",
    "\n",
    "data_partition = {\n",
    "    \"gwilliams2023\": {\n",
    "        \"testing_subjects\": [19, 20, 21],\n",
    "        \"testing_tasks\": [0],\n",
    "    },\n",
    "    # \"armeini2022\": {\n",
    "    #     \"testing_subjects\": [],\n",
    "    #     \"testing_tasks\": [8, 9],\n",
    "    # },\n",
    "}\n",
    "\n",
    "model_config = SimpleConvConfig(\n",
    "    # Str to list of possible conditions\n",
    "    mel_normalization=False,\n",
    "    conditions={\n",
    "        \"study\": [],\n",
    "        \"subject\": [],\n",
    "    },\n",
    "    # Channels\n",
    "    in_channels=208,\n",
    "    out_channels=128,\n",
    "    hidden_dim=384,\n",
    "    dropout=0.2,\n",
    "    initial_batch_norm=True,\n",
    "    # Sensor layout settings\n",
    "    layout_dim=2,\n",
    "    layout_proj=True,\n",
    "    layout_scaling=\"minmax\",\n",
    "    # Merger with spatial attn\n",
    "    merger=False,\n",
    "    merger_emb_type=None,\n",
    "    merger_emb_dim=0,\n",
    "    merger_channels=0,\n",
    "    merger_dropout=False,\n",
    "    merger_conditional=None,\n",
    "    # Inital\n",
    "    initial_linear=384,\n",
    "    initial_depth=1,\n",
    "    # Conditional layers\n",
    "    conditional_layers=False,\n",
    "    conditional_layers_dim=None,  # input or hidden_dim\n",
    "    # Conv layer overall structure\n",
    "    depth=6,\n",
    "    kernel_size=3,\n",
    "    growth=1.0,\n",
    "    dilation_growth=2,\n",
    "    dilation_period=5,\n",
    "    glu=1,\n",
    "    conv_dropout=0.2,\n",
    "    dropout_input=0.2,\n",
    "    batch_norm=True,\n",
    "    half=True,\n",
    "    cnn_pos_encoding=False,\n",
    "    # Quantizer\n",
    "    quantizer=False,\n",
    "    num_codebooks=0,\n",
    "    codebook_size=0,\n",
    "    quantizer_commitment=0,\n",
    "    quantizer_temp_init=0,\n",
    "    quantizer_temp_min=0,\n",
    "    quantizer_temp_decay=0,\n",
    "    # Transformers Encoders\n",
    "    transformer_input=None,\n",
    "    transformer_encoder_emb=None,\n",
    "    transformer_encoder_layers=0,\n",
    "    transformer_encoder_heads=0,\n",
    "    # Transformer Decoders\n",
    "    transformer_decoder_emb=None,\n",
    "    transformer_decoder_layers=0,\n",
    "    transformer_decoder_heads=0,\n",
    "    transformer_decoder_dim=0,\n",
    ")\n",
    "\n",
    "config = TrainingConfigV0(\n",
    "    brain_encoder_config=model_config,\n",
    "    data_partition=data_partition,\n",
    "    # Pre-processing parameters\n",
    "    # Brain\n",
    "    new_freq=200,\n",
    "    frequency_bands={\"all\": (0.5, 80)},\n",
    "    max_random_shift=1.0,\n",
    "    window_size=4,\n",
    "    window_stride=1,\n",
    "    brain_clipping=None,\n",
    "    baseline_window=0.5,\n",
    "    notch_filter=True,\n",
    "    scaling=\"both\",\n",
    "    delay=0.15,\n",
    "    # Hyperparameters\n",
    "    learning_rate=5e-4,\n",
    "    weight_decay=1e-4,\n",
    "    epochs=50,\n",
    "    batch_size=256,\n",
    "    use_clip_loss=True,\n",
    "    use_mse_loss=True,\n",
    "    alpha=0.6,\n",
    "    random_test_size=10,\n",
    "    seed=42,\n",
    ")\n",
    "\n",
    "config.learning_rate = 5e-4\n",
    "config.batch_size=64\n",
    "config.use_mse_loss = False\n",
    "config.alpha = 0.0\n",
    "\n",
    "session = TrainingSessionV0(\n",
    "    config=config,\n",
    "    studies={study: \"audio\" for study in data_partition.keys()},\n",
    "    data_path=\"data\",\n",
    "    save_path=\"saves/phase1/objectives/CLIP_BT\",\n",
    "    clear_cache=False,\n",
    "    cache_name=\"cache/1\",\n",
    ")\n",
    "\n",
    "try:\n",
    "    session.train(\n",
    "        device=\"cuda\",\n",
    "        buffer_size=30,\n",
    "        num_workers=(multiprocessing.cpu_count() - 2),\n",
    "        max_cache_size=400,\n",
    "        current_epoch=0,\n",
    "    )\n",
    "except KeyboardInterrupt as e:\n",
    "    print(\"Exited\")"
   ]
  },
  {
   "cell_type": "code",
   "execution_count": null,
   "metadata": {},
   "outputs": [],
   "source": []
  }
 ],
 "metadata": {
  "kernelspec": {
   "display_name": "brain",
   "language": "python",
   "name": "brain"
  },
  "language_info": {
   "codemirror_mode": {
    "name": "ipython",
    "version": 3
   },
   "file_extension": ".py",
   "mimetype": "text/x-python",
   "name": "python",
   "nbconvert_exporter": "python",
   "pygments_lexer": "ipython3",
   "version": "3.11.7"
  }
 },
 "nbformat": 4,
 "nbformat_minor": 4
}
