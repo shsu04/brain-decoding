{
 "cells": [
  {
   "cell_type": "code",
   "execution_count": 1,
   "metadata": {},
   "outputs": [],
   "source": [
    "# from utils.compression import compress_directories, decompress_directories\n",
    "\n",
    "# for base_path, batch_type in data_partition.items():\n",
    "#     decompress_directories(\n",
    "#         source_path=f'downloaded_data/{base_path}',\n",
    "#         destination_path=f'data/{base_path}',\n",
    "#         checksum_file_name=\"checksums.txt\",\n",
    "#         delete_compressed_files=True,\n",
    "#         num_workers=26\n",
    "#     )"
   ]
  },
  {
   "cell_type": "code",
   "execution_count": 1,
   "metadata": {},
   "outputs": [
    {
     "name": "stdout",
     "output_type": "stream",
     "text": [
      "Loading Gwilliams2023 with batch type audio\n",
      "Cleared cache for study gwilliams2023\n",
      "Data partitioned on studies ['gwilliams2023'].\n",
      "Train: 135, Unseen Task: 12, Unseen Subject: 45, Unseen Both: 4.\n",
      "\n",
      "GPU is not NVIDIA V100, A100, or H100. Speedup numbers may be lower than expected.\n",
      "SimpleConv initialized with 10217632 parameters, cond: ['study', 'subject']\n",
      "Merger False, merger channels 0\n",
      "ConvBlocks: 6, hidden_dim: 384, params 9742848\n"
     ]
    },
    {
     "name": "stderr",
     "output_type": "stream",
     "text": [
      "2024-12-23 11:00:26,803\tINFO worker.py:1821 -- Started a local Ray instance.\n",
      "Training Epoch 1: 100%|██████████| 135/135 [26:10<00:00, 11.64s/it] \n"
     ]
    },
    {
     "name": "stdout",
     "output_type": "stream",
     "text": [
      "Testing at epoch 1\n",
      "Test unseen_subject completed. Accuracy: 0.0760, Top 1: 0.1270, Top 5: 0.3550, Top 10: 0.5125, Perplexity: 0.0000\n",
      "Test unseen_task completed. Accuracy: 0.0702, Top 1: 0.1035, Top 5: 0.3512, Top 10: 0.5216, Perplexity: 0.0000\n",
      "Test unseen_both completed. Accuracy: 0.0725, Top 1: 0.1162, Top 5: 0.3287, Top 10: 0.5050, Perplexity: 0.0000\n",
      "Epoch 1 completed in 30.40m. 0.23m per recording.\n"
     ]
    },
    {
     "name": "stderr",
     "output_type": "stream",
     "text": [
      "Training Epoch 2: 100%|██████████| 135/135 [06:02<00:00,  2.69s/it]\n"
     ]
    },
    {
     "name": "stdout",
     "output_type": "stream",
     "text": [
      "Testing at epoch 2\n",
      "Test unseen_subject completed. Accuracy: 0.1520, Top 1: 0.2250, Top 5: 0.4505, Top 10: 0.5670, Perplexity: 0.0000\n",
      "Test unseen_task completed. Accuracy: 0.1170, Top 1: 0.1669, Top 5: 0.4389, Top 10: 0.6006, Perplexity: 0.0000\n",
      "Test unseen_both completed. Accuracy: 0.1162, Top 1: 0.1825, Top 5: 0.4187, Top 10: 0.5550, Perplexity: 0.0000\n",
      "Epoch 2 completed in 6.48m. 0.05m per recording.\n"
     ]
    },
    {
     "name": "stderr",
     "output_type": "stream",
     "text": [
      "Training Epoch 3: 100%|██████████| 135/135 [06:00<00:00,  2.67s/it]\n"
     ]
    },
    {
     "name": "stdout",
     "output_type": "stream",
     "text": [
      "Testing at epoch 3\n",
      "Test unseen_subject completed. Accuracy: 0.1410, Top 1: 0.2110, Top 5: 0.4055, Top 10: 0.5065, Perplexity: 0.0000\n",
      "Test unseen_task completed. Accuracy: 0.1116, Top 1: 0.1574, Top 5: 0.4075, Top 10: 0.5428, Perplexity: 0.0000\n",
      "Test unseen_both completed. Accuracy: 0.0988, Top 1: 0.1688, Top 5: 0.3575, Top 10: 0.4813, Perplexity: 0.0000\n",
      "Epoch 3 completed in 6.46m. 0.05m per recording.\n"
     ]
    },
    {
     "name": "stderr",
     "output_type": "stream",
     "text": [
      "Training Epoch 4: 100%|██████████| 135/135 [06:01<00:00,  2.68s/it]\n"
     ]
    },
    {
     "name": "stdout",
     "output_type": "stream",
     "text": [
      "Testing at epoch 4\n",
      "Test unseen_subject completed. Accuracy: 0.1305, Top 1: 0.2065, Top 5: 0.4470, Top 10: 0.5550, Perplexity: 0.0000\n",
      "Test unseen_task completed. Accuracy: 0.1671, Top 1: 0.2321, Top 5: 0.5267, Top 10: 0.6714, Perplexity: 0.0000\n",
      "Test unseen_both completed. Accuracy: 0.1463, Top 1: 0.2200, Top 5: 0.4675, Top 10: 0.5700, Perplexity: 0.0000\n",
      "Epoch 4 completed in 6.46m. 0.05m per recording.\n"
     ]
    },
    {
     "name": "stderr",
     "output_type": "stream",
     "text": [
      "Training Epoch 5: 100%|██████████| 135/135 [06:01<00:00,  2.68s/it]\n"
     ]
    },
    {
     "name": "stdout",
     "output_type": "stream",
     "text": [
      "Testing at epoch 5\n",
      "Test unseen_subject completed. Accuracy: 0.1525, Top 1: 0.2275, Top 5: 0.4635, Top 10: 0.5810, Perplexity: 0.0000\n",
      "Test unseen_task completed. Accuracy: 0.1565, Top 1: 0.2139, Top 5: 0.4784, Top 10: 0.6163, Perplexity: 0.0000\n",
      "Test unseen_both completed. Accuracy: 0.1625, Top 1: 0.2325, Top 5: 0.4313, Top 10: 0.5463, Perplexity: 0.0000\n",
      "Epoch 5 completed in 6.47m. 0.05m per recording.\n"
     ]
    },
    {
     "name": "stderr",
     "output_type": "stream",
     "text": [
      "Training Epoch 6: 100%|██████████| 135/135 [06:02<00:00,  2.69s/it]\n"
     ]
    },
    {
     "name": "stdout",
     "output_type": "stream",
     "text": [
      "Testing at epoch 6\n",
      "Test unseen_subject completed. Accuracy: 0.1900, Top 1: 0.2715, Top 5: 0.5110, Top 10: 0.6190, Perplexity: 0.0000\n",
      "Test unseen_task completed. Accuracy: 0.2039, Top 1: 0.2694, Top 5: 0.5785, Top 10: 0.7253, Perplexity: 0.0000\n",
      "Test unseen_both completed. Accuracy: 0.1912, Top 1: 0.2700, Top 5: 0.5250, Top 10: 0.6200, Perplexity: 0.0000\n",
      "Epoch 6 completed in 6.47m. 0.05m per recording.\n"
     ]
    },
    {
     "name": "stderr",
     "output_type": "stream",
     "text": [
      "Training Epoch 7: 100%|██████████| 135/135 [06:01<00:00,  2.68s/it]\n"
     ]
    },
    {
     "name": "stdout",
     "output_type": "stream",
     "text": [
      "Testing at epoch 7\n",
      "Test unseen_subject completed. Accuracy: 0.2060, Top 1: 0.2935, Top 5: 0.5185, Top 10: 0.6185, Perplexity: 0.0000\n",
      "Test unseen_task completed. Accuracy: 0.2321, Top 1: 0.3062, Top 5: 0.6248, Top 10: 0.7567, Perplexity: 0.0000\n",
      "Test unseen_both completed. Accuracy: 0.2050, Top 1: 0.2762, Top 5: 0.5138, Top 10: 0.6212, Perplexity: 0.0000\n",
      "Epoch 7 completed in 6.46m. 0.05m per recording.\n"
     ]
    },
    {
     "name": "stderr",
     "output_type": "stream",
     "text": [
      "Training Epoch 8: 100%|██████████| 135/135 [06:41<00:00,  2.97s/it]\n"
     ]
    },
    {
     "name": "stdout",
     "output_type": "stream",
     "text": [
      "Testing at epoch 8\n",
      "Test unseen_subject completed. Accuracy: 0.1975, Top 1: 0.2880, Top 5: 0.5085, Top 10: 0.6080, Perplexity: 0.0000\n",
      "Test unseen_task completed. Accuracy: 0.1493, Top 1: 0.2056, Top 5: 0.4814, Top 10: 0.6266, Perplexity: 0.0000\n",
      "Test unseen_both completed. Accuracy: 0.1475, Top 1: 0.2275, Top 5: 0.4463, Top 10: 0.5413, Perplexity: 0.0000\n",
      "Epoch 8 completed in 7.17m. 0.05m per recording.\n"
     ]
    },
    {
     "name": "stderr",
     "output_type": "stream",
     "text": [
      "Training Epoch 9: 100%|██████████| 135/135 [06:44<00:00,  3.00s/it]\n"
     ]
    },
    {
     "name": "stdout",
     "output_type": "stream",
     "text": [
      "Testing at epoch 9\n",
      "Test unseen_subject completed. Accuracy: 0.1845, Top 1: 0.2635, Top 5: 0.5155, Top 10: 0.6170, Perplexity: 0.0000\n",
      "Test unseen_task completed. Accuracy: 0.2287, Top 1: 0.3018, Top 5: 0.6040, Top 10: 0.7386, Perplexity: 0.0000\n",
      "Test unseen_both completed. Accuracy: 0.2150, Top 1: 0.2800, Top 5: 0.5125, Top 10: 0.6188, Perplexity: 0.0000\n",
      "Epoch 9 completed in 7.22m. 0.05m per recording.\n"
     ]
    },
    {
     "name": "stderr",
     "output_type": "stream",
     "text": [
      "Training Epoch 10: 100%|██████████| 135/135 [06:42<00:00,  2.98s/it]\n"
     ]
    },
    {
     "name": "stdout",
     "output_type": "stream",
     "text": [
      "Testing at epoch 10\n",
      "Test unseen_subject completed. Accuracy: 0.2015, Top 1: 0.2885, Top 5: 0.5170, Top 10: 0.6195, Perplexity: 0.0000\n",
      "Test unseen_task completed. Accuracy: 0.1962, Top 1: 0.2659, Top 5: 0.5656, Top 10: 0.7106, Perplexity: 0.0000\n",
      "Test unseen_both completed. Accuracy: 0.1813, Top 1: 0.2525, Top 5: 0.4750, Top 10: 0.5700, Perplexity: 0.0000\n",
      "Epoch 10 completed in 7.16m. 0.05m per recording.\n"
     ]
    },
    {
     "name": "stderr",
     "output_type": "stream",
     "text": [
      "Training Epoch 11: 100%|██████████| 135/135 [06:43<00:00,  2.99s/it]\n"
     ]
    },
    {
     "name": "stdout",
     "output_type": "stream",
     "text": [
      "Testing at epoch 11\n",
      "Test unseen_subject completed. Accuracy: 0.1825, Top 1: 0.2575, Top 5: 0.4795, Top 10: 0.5850, Perplexity: 0.0000\n",
      "Test unseen_task completed. Accuracy: 0.2231, Top 1: 0.2909, Top 5: 0.5705, Top 10: 0.7020, Perplexity: 0.0000\n",
      "Test unseen_both completed. Accuracy: 0.1600, Top 1: 0.2425, Top 5: 0.4375, Top 10: 0.5513, Perplexity: 0.0000\n",
      "Epoch 11 completed in 7.21m. 0.05m per recording.\n"
     ]
    },
    {
     "name": "stderr",
     "output_type": "stream",
     "text": [
      "Training Epoch 12: 100%|██████████| 135/135 [06:45<00:00,  3.00s/it]\n"
     ]
    },
    {
     "name": "stdout",
     "output_type": "stream",
     "text": [
      "Testing at epoch 12\n",
      "Test unseen_subject completed. Accuracy: 0.2215, Top 1: 0.3080, Top 5: 0.5295, Top 10: 0.6240, Perplexity: 0.0000\n",
      "Test unseen_task completed. Accuracy: 0.1802, Top 1: 0.2451, Top 5: 0.5230, Top 10: 0.6689, Perplexity: 0.0000\n",
      "Test unseen_both completed. Accuracy: 0.1588, Top 1: 0.2425, Top 5: 0.4412, Top 10: 0.5600, Perplexity: 0.0000\n",
      "Epoch 12 completed in 7.22m. 0.05m per recording.\n"
     ]
    },
    {
     "name": "stderr",
     "output_type": "stream",
     "text": [
      "Training Epoch 13: 100%|██████████| 135/135 [06:43<00:00,  2.99s/it]\n"
     ]
    },
    {
     "name": "stdout",
     "output_type": "stream",
     "text": [
      "Testing at epoch 13\n",
      "Test unseen_subject completed. Accuracy: 0.2165, Top 1: 0.3080, Top 5: 0.5660, Top 10: 0.6535, Perplexity: 0.0000\n",
      "Test unseen_task completed. Accuracy: 0.2585, Top 1: 0.3352, Top 5: 0.6388, Top 10: 0.7651, Perplexity: 0.0000\n",
      "Test unseen_both completed. Accuracy: 0.2475, Top 1: 0.3387, Top 5: 0.5413, Top 10: 0.6412, Perplexity: 0.0000\n",
      "Epoch 13 completed in 7.20m. 0.05m per recording.\n"
     ]
    },
    {
     "name": "stderr",
     "output_type": "stream",
     "text": [
      "Training Epoch 14: 100%|██████████| 135/135 [06:42<00:00,  2.98s/it]\n"
     ]
    },
    {
     "name": "stdout",
     "output_type": "stream",
     "text": [
      "Testing at epoch 14\n",
      "Test unseen_subject completed. Accuracy: 0.1950, Top 1: 0.2830, Top 5: 0.5140, Top 10: 0.6070, Perplexity: 0.0000\n",
      "Test unseen_task completed. Accuracy: 0.2489, Top 1: 0.3295, Top 5: 0.6284, Top 10: 0.7510, Perplexity: 0.0000\n",
      "Test unseen_both completed. Accuracy: 0.2025, Top 1: 0.3063, Top 5: 0.5300, Top 10: 0.6212, Perplexity: 0.0000\n",
      "Epoch 14 completed in 7.17m. 0.05m per recording.\n"
     ]
    },
    {
     "name": "stderr",
     "output_type": "stream",
     "text": [
      "Training Epoch 15: 100%|██████████| 135/135 [06:42<00:00,  2.98s/it]\n"
     ]
    },
    {
     "name": "stdout",
     "output_type": "stream",
     "text": [
      "Testing at epoch 15\n",
      "Test unseen_subject completed. Accuracy: 0.1645, Top 1: 0.2510, Top 5: 0.4970, Top 10: 0.6025, Perplexity: 0.0000\n",
      "Test unseen_task completed. Accuracy: 0.2218, Top 1: 0.2914, Top 5: 0.5916, Top 10: 0.7302, Perplexity: 0.0000\n",
      "Test unseen_both completed. Accuracy: 0.2125, Top 1: 0.3000, Top 5: 0.5275, Top 10: 0.6450, Perplexity: 0.0000\n",
      "Epoch 15 completed in 7.17m. 0.05m per recording.\n"
     ]
    },
    {
     "name": "stderr",
     "output_type": "stream",
     "text": [
      "Training Epoch 16: 100%|██████████| 135/135 [06:45<00:00,  3.00s/it]\n"
     ]
    },
    {
     "name": "stdout",
     "output_type": "stream",
     "text": [
      "Testing at epoch 16\n",
      "Test unseen_subject completed. Accuracy: 0.2150, Top 1: 0.3035, Top 5: 0.5325, Top 10: 0.6415, Perplexity: 0.0000\n",
      "Test unseen_task completed. Accuracy: 0.2516, Top 1: 0.3328, Top 5: 0.6398, Top 10: 0.7646, Perplexity: 0.0000\n",
      "Test unseen_both completed. Accuracy: 0.2387, Top 1: 0.3250, Top 5: 0.5338, Top 10: 0.6362, Perplexity: 0.0000\n",
      "Epoch 16 completed in 7.22m. 0.05m per recording.\n"
     ]
    },
    {
     "name": "stderr",
     "output_type": "stream",
     "text": [
      "Training Epoch 17: 100%|██████████| 135/135 [06:44<00:00,  2.99s/it]\n"
     ]
    },
    {
     "name": "stdout",
     "output_type": "stream",
     "text": [
      "Testing at epoch 17\n",
      "Test unseen_subject completed. Accuracy: 0.2075, Top 1: 0.2965, Top 5: 0.5230, Top 10: 0.6090, Perplexity: 0.0000\n",
      "Test unseen_task completed. Accuracy: 0.2602, Top 1: 0.3384, Top 5: 0.6156, Top 10: 0.7352, Perplexity: 0.0000\n",
      "Test unseen_both completed. Accuracy: 0.2125, Top 1: 0.2800, Top 5: 0.4975, Top 10: 0.5988, Perplexity: 0.0000\n",
      "Epoch 17 completed in 7.20m. 0.05m per recording.\n"
     ]
    },
    {
     "name": "stderr",
     "output_type": "stream",
     "text": [
      "Training Epoch 18: 100%|██████████| 135/135 [06:44<00:00,  3.00s/it]\n"
     ]
    },
    {
     "name": "stdout",
     "output_type": "stream",
     "text": [
      "Testing at epoch 18\n",
      "Test unseen_subject completed. Accuracy: 0.2390, Top 1: 0.3160, Top 5: 0.5120, Top 10: 0.6110, Perplexity: 0.0000\n",
      "Test unseen_task completed. Accuracy: 0.2101, Top 1: 0.2750, Top 5: 0.5603, Top 10: 0.6932, Perplexity: 0.0000\n",
      "Test unseen_both completed. Accuracy: 0.1913, Top 1: 0.2687, Top 5: 0.4900, Top 10: 0.5925, Perplexity: 0.0000\n",
      "Epoch 18 completed in 7.21m. 0.05m per recording.\n"
     ]
    },
    {
     "name": "stderr",
     "output_type": "stream",
     "text": [
      "Training Epoch 19: 100%|██████████| 135/135 [06:42<00:00,  2.98s/it]\n"
     ]
    },
    {
     "name": "stdout",
     "output_type": "stream",
     "text": [
      "Testing at epoch 19\n",
      "Test unseen_subject completed. Accuracy: 0.2070, Top 1: 0.3015, Top 5: 0.5320, Top 10: 0.6335, Perplexity: 0.0000\n",
      "Test unseen_task completed. Accuracy: 0.2281, Top 1: 0.2981, Top 5: 0.5903, Top 10: 0.7255, Perplexity: 0.0000\n",
      "Test unseen_both completed. Accuracy: 0.2000, Top 1: 0.2812, Top 5: 0.5175, Top 10: 0.6138, Perplexity: 0.0000\n",
      "Epoch 19 completed in 7.19m. 0.05m per recording.\n"
     ]
    },
    {
     "name": "stderr",
     "output_type": "stream",
     "text": [
      "Training Epoch 20: 100%|██████████| 135/135 [06:43<00:00,  2.99s/it]\n"
     ]
    },
    {
     "name": "stdout",
     "output_type": "stream",
     "text": [
      "Testing at epoch 20\n",
      "Test unseen_subject completed. Accuracy: 0.2115, Top 1: 0.3065, Top 5: 0.5315, Top 10: 0.6370, Perplexity: 0.0000\n",
      "Test unseen_task completed. Accuracy: 0.2288, Top 1: 0.3023, Top 5: 0.5999, Top 10: 0.7258, Perplexity: 0.0000\n",
      "Test unseen_both completed. Accuracy: 0.2063, Top 1: 0.2800, Top 5: 0.5262, Top 10: 0.6275, Perplexity: 0.0000\n",
      "Epoch 20 completed in 7.19m. 0.05m per recording.\n"
     ]
    },
    {
     "name": "stderr",
     "output_type": "stream",
     "text": [
      "Training Epoch 21: 100%|██████████| 135/135 [06:46<00:00,  3.01s/it]\n"
     ]
    },
    {
     "name": "stdout",
     "output_type": "stream",
     "text": [
      "Testing at epoch 21\n",
      "Test unseen_subject completed. Accuracy: 0.1775, Top 1: 0.2755, Top 5: 0.5080, Top 10: 0.6085, Perplexity: 0.0000\n",
      "Test unseen_task completed. Accuracy: 0.2185, Top 1: 0.2941, Top 5: 0.5958, Top 10: 0.7302, Perplexity: 0.0000\n",
      "Test unseen_both completed. Accuracy: 0.2200, Top 1: 0.2938, Top 5: 0.5125, Top 10: 0.6238, Perplexity: 0.0000\n",
      "Epoch 21 completed in 7.24m. 0.05m per recording.\n"
     ]
    },
    {
     "name": "stderr",
     "output_type": "stream",
     "text": [
      "Training Epoch 22: 100%|██████████| 135/135 [06:44<00:00,  3.00s/it]\n"
     ]
    },
    {
     "name": "stdout",
     "output_type": "stream",
     "text": [
      "Testing at epoch 22\n",
      "Test unseen_subject completed. Accuracy: 0.1960, Top 1: 0.2890, Top 5: 0.5065, Top 10: 0.6155, Perplexity: 0.0000\n",
      "Test unseen_task completed. Accuracy: 0.2206, Top 1: 0.2891, Top 5: 0.5873, Top 10: 0.7189, Perplexity: 0.0000\n",
      "Test unseen_both completed. Accuracy: 0.2063, Top 1: 0.2775, Top 5: 0.4975, Top 10: 0.5862, Perplexity: 0.0000\n",
      "Epoch 22 completed in 7.21m. 0.05m per recording.\n"
     ]
    },
    {
     "name": "stderr",
     "output_type": "stream",
     "text": [
      "Training Epoch 23: 100%|██████████| 135/135 [06:44<00:00,  3.00s/it]\n"
     ]
    },
    {
     "name": "stdout",
     "output_type": "stream",
     "text": [
      "Testing at epoch 23\n",
      "Test unseen_subject completed. Accuracy: 0.1935, Top 1: 0.2825, Top 5: 0.5170, Top 10: 0.6280, Perplexity: 0.0000\n",
      "Test unseen_task completed. Accuracy: 0.2110, Top 1: 0.2814, Top 5: 0.5742, Top 10: 0.6986, Perplexity: 0.0000\n",
      "Test unseen_both completed. Accuracy: 0.1938, Top 1: 0.2637, Top 5: 0.4950, Top 10: 0.5800, Perplexity: 0.0000\n",
      "Epoch 23 completed in 7.20m. 0.05m per recording.\n"
     ]
    },
    {
     "name": "stderr",
     "output_type": "stream",
     "text": [
      "Training Epoch 24: 100%|██████████| 135/135 [06:43<00:00,  2.99s/it]\n"
     ]
    },
    {
     "name": "stdout",
     "output_type": "stream",
     "text": [
      "Testing at epoch 24\n",
      "Test unseen_subject completed. Accuracy: 0.1925, Top 1: 0.2775, Top 5: 0.4985, Top 10: 0.6005, Perplexity: 0.0000\n",
      "Test unseen_task completed. Accuracy: 0.2021, Top 1: 0.2698, Top 5: 0.5571, Top 10: 0.6891, Perplexity: 0.0000\n",
      "Test unseen_both completed. Accuracy: 0.1713, Top 1: 0.2525, Top 5: 0.4812, Top 10: 0.5988, Perplexity: 0.0000\n",
      "Epoch 24 completed in 7.20m. 0.05m per recording.\n",
      "Early stopping at epoch 24. Highest top 10 accuracy at epoch 13.\n",
      "Training completed.\n",
      "unseen_subject: Acc: 0.2165, Top 1: 0.3080, Top 5: 0.5660, Top 10: 0.6535\n",
      "unseen_task: Acc: 0.2585, Top 1: 0.3352, Top 5: 0.6388, Top 10: 0.7651\n",
      "unseen_both: Acc: 0.2475, Top 1: 0.3387, Top 5: 0.5413, Top 10: 0.6412\n"
     ]
    }
   ],
   "source": [
    "# del session.logger\n",
    "# del session\n",
    "\n",
    "from pickle import NONE\n",
    "from train.training_session_v0 import TrainingSessionV0\n",
    "from config import TrainingConfigV0\n",
    "import multiprocessing\n",
    "\n",
    "data_partition = {\n",
    "    \"gwilliams2023\": {\n",
    "        \"testing_subjects\": [19, 20, 21],\n",
    "        \"testing_tasks\": [0],\n",
    "    },\n",
    "    # \"armeini2022\": {\n",
    "    #     \"testing_subjects\": [],\n",
    "    #     \"testing_tasks\": [8, 9],\n",
    "    # },\n",
    "}\n",
    "\n",
    "from config import SimpleConvConfig\n",
    "from models.simpleconv import SimpleConv\n",
    "import torch\n",
    "\n",
    "model_config = SimpleConvConfig(\n",
    "    # Str to list of possible conditions\n",
    "    mel_normalization=False,\n",
    "    conditions={\n",
    "        \"study\": [],\n",
    "        \"subject\": [],\n",
    "    },\n",
    "    # Channels\n",
    "    in_channels=208,\n",
    "    out_channels=128,\n",
    "    hidden_dim=384,\n",
    "    dropout=0.2,\n",
    "    initial_batch_norm=True,\n",
    "    # Sensor layout settings\n",
    "    layout_dim=2,\n",
    "    layout_proj=True,\n",
    "    layout_scaling=\"minmax\",\n",
    "    # Merger with spatial attn\n",
    "    merger=False,\n",
    "    merger_emb_type=None,\n",
    "    merger_emb_dim=0,\n",
    "    merger_channels=0,\n",
    "    merger_dropout=False,\n",
    "    merger_conditional=None,\n",
    "    # Inital\n",
    "    initial_linear=384,\n",
    "    initial_depth=1,\n",
    "    # Conditional layers\n",
    "    conditional_layers=False,\n",
    "    conditional_layers_dim=None,  # input or hidden_dim\n",
    "    # Conv layer overall structure\n",
    "    depth=6,\n",
    "    kernel_size=3,\n",
    "    growth=1.0,\n",
    "    dilation_growth=2,\n",
    "    dilation_period=5,\n",
    "    glu=1,\n",
    "    conv_dropout=0.2,\n",
    "    dropout_input=0.2,\n",
    "    batch_norm=True,\n",
    "    half=True,\n",
    "    # Quantizer\n",
    "    quantizer=False,\n",
    "    num_codebooks=0,\n",
    "    codebook_size=0,\n",
    "    quantizer_commitment=0,\n",
    "    quantizer_temp_init=0,\n",
    "    quantizer_temp_min=0,\n",
    "    quantizer_temp_decay=0,\n",
    "    # Transformers Encoders\n",
    "    transformer_input=None,\n",
    "    transformer_encoder_emb=None,\n",
    "    transformer_encoder_layers=0,\n",
    "    transformer_encoder_heads=0,\n",
    "    # Transformer Decoders\n",
    "    transformer_decoder_emb=None,\n",
    "    transformer_decoder_layers=0,\n",
    "    transformer_decoder_heads=0,\n",
    "    transformer_decoder_dim=0,\n",
    ")\n",
    "\n",
    "config = TrainingConfigV0(\n",
    "    brain_encoder_config=model_config,\n",
    "    data_partition=data_partition,\n",
    "    # Pre-processing parameters\n",
    "    # Brain\n",
    "    new_freq=200,\n",
    "    frequency_bands={\"all\": (0.5, 100)},\n",
    "    max_random_shift=1.0,\n",
    "    window_size=4,\n",
    "    window_stride=1,\n",
    "    brain_clipping=None,\n",
    "    baseline_window=0.5,\n",
    "    notch_filter=True,\n",
    "    scaling=\"standard\",\n",
    "    delay=0.15,\n",
    "    # Hyperparameters\n",
    "    learning_rate=3e-4,\n",
    "    weight_decay=1e-4,\n",
    "    epochs=50,\n",
    "    batch_size=256,\n",
    "    use_clip_loss=True,\n",
    "    use_mse_loss=True,\n",
    "    alpha=0.6,\n",
    "    random_test_size=10,\n",
    "    seed=42,\n",
    ")\n",
    "\n",
    "session = TrainingSessionV0(\n",
    "    config=config,\n",
    "    studies={study: \"audio\" for study in data_partition.keys()},\n",
    "    data_path=\"data\",\n",
    "    save_path=\"saves/phase1/ablation/downsample200/100\",\n",
    "    clear_cache=True,\n",
    "    cache_name=\"cache\",\n",
    ")\n",
    "\n",
    "try:\n",
    "    session.train(\n",
    "        device=\"cuda\",\n",
    "        buffer_size=30,\n",
    "        num_workers=(multiprocessing.cpu_count() - 2),\n",
    "        max_cache_size=400,\n",
    "        current_epoch=0,\n",
    "    )\n",
    "except KeyboardInterrupt as e:\n",
    "    print(\"Exited\")"
   ]
  },
  {
   "cell_type": "markdown",
   "metadata": {},
   "source": [
    "## 200Hz, 40"
   ]
  }
 ],
 "metadata": {
  "kernelspec": {
   "display_name": "brain",
   "language": "python",
   "name": "python3"
  },
  "language_info": {
   "codemirror_mode": {
    "name": "ipython",
    "version": 3
   },
   "file_extension": ".py",
   "mimetype": "text/x-python",
   "name": "python",
   "nbconvert_exporter": "python",
   "pygments_lexer": "ipython3",
   "version": "3.11.7"
  }
 },
 "nbformat": 4,
 "nbformat_minor": 4
}
