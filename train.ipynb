{
 "cells": [
  {
   "cell_type": "code",
   "execution_count": 1,
   "metadata": {},
   "outputs": [],
   "source": [
    "data_partition = {\n",
    "        \"gwilliams2023\": {\n",
    "            \"testing_subjects\": [19, 20, 21],\n",
    "            \"testing_tasks\": [0],\n",
    "        },\n",
    "        \"schoffelen2022\": {\n",
    "            \"testing_subjects\": [],\n",
    "            \"testing_tasks\": [8, 9],\n",
    "        },\n",
    "}"
   ]
  },
  {
   "cell_type": "code",
   "execution_count": 2,
   "metadata": {},
   "outputs": [],
   "source": [
    "# from utils.compression import compress_directories, decompress_directories\n",
    "\n",
    "# for base_path, batch_type in data_partition.items():\n",
    "#     decompress_directories(\n",
    "#         source_path=f'downloaded_data/{base_path}',\n",
    "#         destination_path=f'data/{base_path}',\n",
    "#         checksum_file_name=\"checksums.txt\",\n",
    "#         delete_compressed_files=True,\n",
    "#         num_workers=None\n",
    "#     )"
   ]
  },
  {
   "cell_type": "code",
   "execution_count": 3,
   "metadata": {},
   "outputs": [],
   "source": [
    "from config import SimpleConvConfig\n",
    "from models.simpleconv import SimpleConv\n",
    "import torch\n",
    "\n",
    "model_config = SimpleConvConfig(\n",
    "    # Str to list of possible conditions\n",
    "    mel_normalization=False,\n",
    "    conditions={\n",
    "        \"study\": [],\n",
    "        \"subject\": [],\n",
    "    },\n",
    "    # Channels\n",
    "    in_channels=208,\n",
    "    out_channels=128,\n",
    "    hidden_dim=512,\n",
    "    dropout=0.2,\n",
    "    initial_batch_norm=True,\n",
    "    # Sensor layout settings\n",
    "    layout_dim=3,\n",
    "    layout_proj=False,\n",
    "    layout_scaling=\"midpoint\",\n",
    "    # Merger with spatial attn\n",
    "    merger=True,\n",
    "    merger_emb_type=\"linear\",\n",
    "    merger_emb_dim=512,\n",
    "    merger_channels=256,\n",
    "    merger_dropout=True,\n",
    "    merger_conditional=None,\n",
    "    # Inital\n",
    "    initial_linear=256,\n",
    "    initial_depth=1,\n",
    "    # Conditional layers\n",
    "    conditional_layers=True,\n",
    "    conditional_layers_dim='hidden_dim',  # input or hidden_dim\n",
    "    # Conv layer overall structure\n",
    "    depth=6,\n",
    "    kernel_size=3,\n",
    "    growth=1.0,\n",
    "    dilation_growth=2,\n",
    "    dilation_period=5,\n",
    "    glu=1,\n",
    "    conv_dropout=0.2,\n",
    "    dropout_input=0.2,\n",
    "    batch_norm=True,\n",
    "    # Quantizer\n",
    "    quantizer=False,\n",
    "    num_codebooks=0,\n",
    "    codebook_size=0,\n",
    "    quantizer_commitment=0,\n",
    "    quantizer_temp_init=0,\n",
    "    quantizer_temp_min=0,\n",
    "    quantizer_temp_decay=0,\n",
    "    # Transformers Encoders\n",
    "    transformer_input='continuous',\n",
    "    transformer_encoder_emb='groupconv',\n",
    "    transformer_encoder_layers=4,\n",
    "    transformer_encoder_heads=8,\n",
    "    # Transformer Decoders\n",
    "    transformer_decoder_emb=None,\n",
    "    transformer_decoder_layers=0,\n",
    "    transformer_decoder_heads=0,\n",
    "    transformer_decoder_dim=0,\n",
    ")"
   ]
  },
  {
   "cell_type": "code",
   "execution_count": 4,
   "metadata": {},
   "outputs": [
    {
     "name": "stdout",
     "output_type": "stream",
     "text": [
      "Loading Gwilliams2023 with batch type audio\n",
      "Loading Schoffelen2022 with batch type audio\n",
      "Data partitioned on studies ['gwilliams2023', 'schoffelen2022'].\n",
      "Train: 165, Unseen Task: 12, Unseen Subject: 45, Unseen Both: 4.\n",
      "\n",
      "Conditional layer study initialized with 3 conditions\n",
      "Conditional layer subject initialized with 31 conditions\n",
      "TransformerEncoder initialized with 4 layers, 512 d_model, 8 nhead\n",
      "\tEmbedding: groupconv, params: 12612096\n",
      "SimpleConv initialized with 27678592 parameters, cond: ['study', 'subject']\n",
      "Merger True, merger channels 256\n",
      "ConvBlocks: 6, hidden_dim: 512, params 14170112\n"
     ]
    }
   ],
   "source": [
    "from train.training_session_v0 import TrainingSessionV0\n",
    "from config import TrainingConfigV0\n",
    "import multiprocessing\n",
    "\n",
    "config = TrainingConfigV0(\n",
    "    brain_encoder_config=model_config,\n",
    "    data_partition=data_partition,\n",
    "    # Pre-processing parameters\n",
    "    # Brain\n",
    "    new_freq=100,\n",
    "    frequency_bands={'all': (0.5, 80)},\n",
    "    max_random_shift=1.0,\n",
    "    window_size= 4,\n",
    "    window_stride=1,\n",
    "    brain_clipping=20,\n",
    "    baseline_window=None,\n",
    "    notch_filter=True,\n",
    "    scaling='both',\n",
    "    delay=0.15,\n",
    "    # Hyperparameters\n",
    "    learning_rate = 5e-4,\n",
    "    weight_decay = 1e-4,\n",
    "    epochs = 50,\n",
    "    batch_size = 256,\n",
    "    use_clip_loss = True,\n",
    "    use_mse_loss = True,\n",
    "    alpha =0.6,\n",
    "    random_test_size =20,\n",
    "    seed = 42,\n",
    ")\n",
    "\n",
    "session = TrainingSessionV0(\n",
    "    config=config,\n",
    "    studies={study: 'audio' for study in data_partition.keys()},\n",
    "    data_path='data',\n",
    "    save_path='saves/Dec18_CLIP_MSE_full_both_datasets',\n",
    "    clear_cache=False,\n",
    ")"
   ]
  },
  {
   "cell_type": "code",
   "execution_count": 12,
   "metadata": {},
   "outputs": [
    {
     "name": "stderr",
     "output_type": "stream",
     "text": [
      "2024-12-19 09:07:55,139\tINFO worker.py:1821 -- Started a local Ray instance.\n",
      "Training Epoch 1:  14%|█▍        | 23/165 [12:21<1:16:16, 32.23s/it]"
     ]
    },
    {
     "name": "stdout",
     "output_type": "stream",
     "text": [
      "Exited\n"
     ]
    },
    {
     "name": "stderr",
     "output_type": "stream",
     "text": [
      "\n"
     ]
    }
   ],
   "source": [
    "try:\n",
    "    session.train(\n",
    "        device='cuda',\n",
    "        buffer_size=30,\n",
    "        num_workers=multiprocessing.cpu_count() - 2,\n",
    "        max_cache_size=400,\n",
    "        current_epoch=0,\n",
    "    )\n",
    "except KeyboardInterrupt as e:\n",
    "    print('Exited')"
   ]
  },
  {
   "cell_type": "code",
   "execution_count": null,
   "metadata": {},
   "outputs": [],
   "source": [
    "# import os\n",
    "\n",
    "# def delete_file_recursive(directory, filename):\n",
    "#     for root, dirs, files in os.walk(directory):\n",
    "#         if filename in files:\n",
    "#             file_path = os.path.join(root, filename)\n",
    "#             try:\n",
    "#                 os.remove(file_path)\n",
    "#                 print(f\"Deleted: {file_path}\")\n",
    "#             except PermissionError:\n",
    "#                 print(f\"Permission denied: {file_path}\")\n",
    "#             except Exception as e:\n",
    "#                 print(f\"Error deleting {file_path}: {e}\")\n",
    "\n",
    "# directory = os.getcwd()\n",
    "# filename = 'training_log.log'\n",
    "# delete_file_recursive(directory, filename)"
   ]
  }
 ],
 "metadata": {
  "kernelspec": {
   "display_name": "brain",
   "language": "python",
   "name": "python3"
  },
  "language_info": {
   "codemirror_mode": {
    "name": "ipython",
    "version": 3
   },
   "file_extension": ".py",
   "mimetype": "text/x-python",
   "name": "python",
   "nbconvert_exporter": "python",
   "pygments_lexer": "ipython3",
   "version": "3.11.7"
  }
 },
 "nbformat": 4,
 "nbformat_minor": 4
}
