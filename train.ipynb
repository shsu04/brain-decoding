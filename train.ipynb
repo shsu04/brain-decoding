{
 "cells": [
  {
   "cell_type": "code",
   "execution_count": 1,
   "metadata": {},
   "outputs": [],
   "source": [
    "data_partition = {\n",
    "    \"gwilliams2023\": {\n",
    "        \"testing_subjects\": [19, 20, 21],\n",
    "        \"testing_tasks\": [0],\n",
    "    },\n",
    "    # \"schoffelen2022\": {\n",
    "    #     \"testing_subjects\": [],\n",
    "    #     \"testing_tasks\": [8, 9],\n",
    "    # },\n",
    "}"
   ]
  },
  {
   "cell_type": "code",
   "execution_count": 2,
   "metadata": {},
   "outputs": [],
   "source": [
    "# from utils.compression import compress_directories, decompress_directories\n",
    "\n",
    "# for base_path, batch_type in data_partition.items():\n",
    "#     decompress_directories(\n",
    "#         source_path=f'downloaded_data/{base_path}',\n",
    "#         destination_path=f'data/{base_path}',\n",
    "#         checksum_file_name=\"checksums.txt\",\n",
    "#         delete_compressed_files=True,\n",
    "#         num_workers=26\n",
    "#     )"
   ]
  },
  {
   "cell_type": "code",
   "execution_count": 3,
   "metadata": {},
   "outputs": [],
   "source": [
    "from config import SimpleConvConfig\n",
    "from models.simpleconv import SimpleConv\n",
    "import torch\n",
    "\n",
    "model_config = SimpleConvConfig(\n",
    "    # Str to list of possible conditions\n",
    "    mel_normalization=False,\n",
    "    conditions={\n",
    "        \"study\": [],\n",
    "        \"subject\": [],\n",
    "    },\n",
    "    # Channels\n",
    "    in_channels=208,\n",
    "    out_channels=128,\n",
    "    hidden_dim=384,\n",
    "    dropout=0.2,\n",
    "    initial_batch_norm=True,\n",
    "    # Sensor layout settings\n",
    "    layout_dim=2,\n",
    "    layout_proj=True,\n",
    "    layout_scaling=\"minmax\",\n",
    "    # Merger with spatial attn\n",
    "    merger=False,\n",
    "    merger_emb_type=None,\n",
    "    merger_emb_dim=0,\n",
    "    merger_channels=0,\n",
    "    merger_dropout=False,\n",
    "    merger_conditional=None,\n",
    "    # Inital\n",
    "    initial_linear=384,\n",
    "    initial_depth=1,\n",
    "    # Conditional layers\n",
    "    conditional_layers=False,\n",
    "    conditional_layers_dim=None,  # input or hidden_dim\n",
    "    # Conv layer overall structure\n",
    "    depth=6,\n",
    "    kernel_size=3,\n",
    "    growth=1.0,\n",
    "    dilation_growth=2,\n",
    "    dilation_period=5,\n",
    "    glu=1,\n",
    "    conv_dropout=0.2,\n",
    "    dropout_input=0.2,\n",
    "    batch_norm=True,\n",
    "    # Quantizer\n",
    "    quantizer=False,\n",
    "    num_codebooks=0,\n",
    "    codebook_size=0,\n",
    "    quantizer_commitment=0,\n",
    "    quantizer_temp_init=0,\n",
    "    quantizer_temp_min=0,\n",
    "    quantizer_temp_decay=0,\n",
    "    # Transformers Encoders\n",
    "    transformer_input=None,\n",
    "    transformer_encoder_emb=None,\n",
    "    transformer_encoder_layers=0,\n",
    "    transformer_encoder_heads=0,\n",
    "    # Transformer Decoders\n",
    "    transformer_decoder_emb=None,\n",
    "    transformer_decoder_layers=0,\n",
    "    transformer_decoder_heads=0,\n",
    "    transformer_decoder_dim=0,\n",
    ")"
   ]
  },
  {
   "cell_type": "code",
   "execution_count": null,
   "metadata": {},
   "outputs": [
    {
     "name": "stdout",
     "output_type": "stream",
     "text": [
      "Loading Gwilliams2023 with batch type audio\n",
      "Data partitioned on studies ['gwilliams2023'].\n",
      "Train: 135, Unseen Task: 12, Unseen Subject: 45, Unseen Both: 4.\n",
      "\n",
      "GPU is not NVIDIA V100, A100, or H100. Speedup numbers may be lower than expected.\n",
      "SimpleConv initialized with 8448160 parameters, cond: ['study', 'subject']\n",
      "Merger False, merger channels 0\n",
      "ConvBlocks: 6, hidden_dim: 384, params 7973376\n"
     ]
    }
   ],
   "source": [
    "from train.training_session_v0 import TrainingSessionV0\n",
    "from config import TrainingConfigV0\n",
    "import multiprocessing\n",
    "\n",
    "config = TrainingConfigV0(\n",
    "    brain_encoder_config=model_config,\n",
    "    data_partition=data_partition,\n",
    "    # Pre-processing parameters\n",
    "    # Brain\n",
    "    new_freq=100,\n",
    "    frequency_bands={\"all\": (0.5, 80)},\n",
    "    max_random_shift=1.0,\n",
    "    window_size=4,\n",
    "    window_stride=1,\n",
    "    brain_clipping=20,\n",
    "    baseline_window=0.5,\n",
    "    notch_filter=True,\n",
    "    scaling=\"standard\",\n",
    "    delay=0.15,\n",
    "    # Hyperparameters\n",
    "    learning_rate=3e-4,\n",
    "    weight_decay=1e-4,\n",
    "    epochs=50,\n",
    "    batch_size=256,\n",
    "    use_clip_loss=True,\n",
    "    use_mse_loss=True,\n",
    "    alpha=0.6,\n",
    "    random_test_size=10,\n",
    "    seed=42,\n",
    ")\n",
    "\n",
    "session = TrainingSessionV0(\n",
    "    config=config,\n",
    "    studies={study: \"audio\" for study in data_partition.keys()},\n",
    "    data_path=\"data\",\n",
    "    save_path=\"saves/phase1/ablation/delay/0_15\",\n",
    "    clear_cache=False,\n",
    ")"
   ]
  },
  {
   "cell_type": "code",
   "execution_count": 5,
   "metadata": {},
   "outputs": [
    {
     "name": "stderr",
     "output_type": "stream",
     "text": [
      "2024-12-20 13:38:24,453\tINFO worker.py:1821 -- Started a local Ray instance.\n",
      "Training Epoch 1: 100%|██████████| 135/135 [04:15<00:00,  1.90s/it]\n"
     ]
    },
    {
     "name": "stdout",
     "output_type": "stream",
     "text": [
      "Testing at epoch 1\n",
      "Test unseen_subject completed. Accuracy: 0.0225, Top 1: 0.0418, Top 5: 0.1934, Top 10: 0.3351, Perplexity: 0.0000\n",
      "Test unseen_task completed. Accuracy: 0.0365, Top 1: 0.0556, Top 5: 0.2296, Top 10: 0.3951, Perplexity: 0.0000\n",
      "Test unseen_both completed. Accuracy: 0.0323, Top 1: 0.0519, Top 5: 0.2140, Top 10: 0.3663, Perplexity: 0.0000\n",
      "Epoch 1 completed in 4.65m. 0.03m per recording.\n"
     ]
    },
    {
     "name": "stderr",
     "output_type": "stream",
     "text": [
      "Training Epoch 2: 100%|██████████| 135/135 [04:15<00:00,  1.90s/it]\n"
     ]
    },
    {
     "name": "stdout",
     "output_type": "stream",
     "text": [
      "Testing at epoch 2\n",
      "Test unseen_subject completed. Accuracy: 0.1242, Top 1: 0.1857, Top 5: 0.4266, Top 10: 0.5523, Perplexity: 0.0000\n",
      "Test unseen_task completed. Accuracy: 0.1153, Top 1: 0.1614, Top 5: 0.4273, Top 10: 0.5840, Perplexity: 0.0000\n",
      "Test unseen_both completed. Accuracy: 0.1103, Top 1: 0.1471, Top 5: 0.3879, Top 10: 0.5346, Perplexity: 0.0000\n",
      "Epoch 2 completed in 4.61m. 0.03m per recording.\n"
     ]
    },
    {
     "name": "stderr",
     "output_type": "stream",
     "text": [
      "Training Epoch 3: 100%|██████████| 135/135 [04:17<00:00,  1.91s/it]\n"
     ]
    },
    {
     "name": "stdout",
     "output_type": "stream",
     "text": [
      "Testing at epoch 3\n",
      "Test unseen_subject completed. Accuracy: 0.0728, Top 1: 0.1086, Top 5: 0.3465, Top 10: 0.5042, Perplexity: 0.0000\n",
      "Test unseen_task completed. Accuracy: 0.1078, Top 1: 0.1522, Top 5: 0.4084, Top 10: 0.5593, Perplexity: 0.0000\n",
      "Test unseen_both completed. Accuracy: 0.0695, Top 1: 0.1039, Top 5: 0.3166, Top 10: 0.4574, Perplexity: 0.0000\n",
      "Epoch 3 completed in 4.64m. 0.03m per recording.\n"
     ]
    },
    {
     "name": "stderr",
     "output_type": "stream",
     "text": [
      "Training Epoch 4: 100%|██████████| 135/135 [04:16<00:00,  1.90s/it]\n"
     ]
    },
    {
     "name": "stdout",
     "output_type": "stream",
     "text": [
      "Testing at epoch 4\n",
      "Test unseen_subject completed. Accuracy: 0.1313, Top 1: 0.1795, Top 5: 0.4036, Top 10: 0.5277, Perplexity: 0.0000\n",
      "Test unseen_task completed. Accuracy: 0.1613, Top 1: 0.2221, Top 5: 0.5090, Top 10: 0.6431, Perplexity: 0.0000\n",
      "Test unseen_both completed. Accuracy: 0.1237, Top 1: 0.1775, Top 5: 0.3952, Top 10: 0.5253, Perplexity: 0.0000\n",
      "Epoch 4 completed in 4.62m. 0.03m per recording.\n"
     ]
    },
    {
     "name": "stderr",
     "output_type": "stream",
     "text": [
      "Training Epoch 5: 100%|██████████| 135/135 [04:16<00:00,  1.90s/it]\n"
     ]
    },
    {
     "name": "stdout",
     "output_type": "stream",
     "text": [
      "Testing at epoch 5\n",
      "Test unseen_subject completed. Accuracy: 0.1152, Top 1: 0.1693, Top 5: 0.4493, Top 10: 0.5856, Perplexity: 0.0000\n",
      "Test unseen_task completed. Accuracy: 0.1774, Top 1: 0.2439, Top 5: 0.5392, Top 10: 0.6821, Perplexity: 0.0000\n",
      "Test unseen_both completed. Accuracy: 0.1321, Top 1: 0.1811, Top 5: 0.4494, Top 10: 0.5828, Perplexity: 0.0000\n",
      "Epoch 5 completed in 4.63m. 0.03m per recording.\n"
     ]
    },
    {
     "name": "stderr",
     "output_type": "stream",
     "text": [
      "Training Epoch 6: 100%|██████████| 135/135 [04:18<00:00,  1.91s/it]\n"
     ]
    },
    {
     "name": "stdout",
     "output_type": "stream",
     "text": [
      "Testing at epoch 6\n",
      "Test unseen_subject completed. Accuracy: 0.1386, Top 1: 0.1882, Top 5: 0.4466, Top 10: 0.5704, Perplexity: 0.0000\n",
      "Test unseen_task completed. Accuracy: 0.2340, Top 1: 0.3044, Top 5: 0.5958, Top 10: 0.7212, Perplexity: 0.0000\n",
      "Test unseen_both completed. Accuracy: 0.1649, Top 1: 0.2324, Top 5: 0.4498, Top 10: 0.5662, Perplexity: 0.0000\n",
      "Epoch 6 completed in 4.66m. 0.03m per recording.\n"
     ]
    },
    {
     "name": "stderr",
     "output_type": "stream",
     "text": [
      "Training Epoch 7: 100%|██████████| 135/135 [04:17<00:00,  1.91s/it]\n"
     ]
    },
    {
     "name": "stdout",
     "output_type": "stream",
     "text": [
      "Testing at epoch 7\n",
      "Test unseen_subject completed. Accuracy: 0.1497, Top 1: 0.2101, Top 5: 0.4712, Top 10: 0.6008, Perplexity: 0.0000\n",
      "Test unseen_task completed. Accuracy: 0.1976, Top 1: 0.2618, Top 5: 0.5651, Top 10: 0.7048, Perplexity: 0.0000\n",
      "Test unseen_both completed. Accuracy: 0.1518, Top 1: 0.2069, Top 5: 0.4542, Top 10: 0.5852, Perplexity: 0.0000\n",
      "Epoch 7 completed in 4.64m. 0.03m per recording.\n"
     ]
    },
    {
     "name": "stderr",
     "output_type": "stream",
     "text": [
      "Training Epoch 8: 100%|██████████| 135/135 [04:17<00:00,  1.91s/it]\n"
     ]
    },
    {
     "name": "stdout",
     "output_type": "stream",
     "text": [
      "Testing at epoch 8\n",
      "Test unseen_subject completed. Accuracy: 0.1215, Top 1: 0.1691, Top 5: 0.4294, Top 10: 0.5845, Perplexity: 0.0000\n",
      "Test unseen_task completed. Accuracy: 0.1109, Top 1: 0.1556, Top 5: 0.4428, Top 10: 0.6042, Perplexity: 0.0000\n",
      "Test unseen_both completed. Accuracy: 0.1054, Top 1: 0.1531, Top 5: 0.4169, Top 10: 0.5674, Perplexity: 0.0000\n",
      "Epoch 8 completed in 4.64m. 0.03m per recording.\n"
     ]
    },
    {
     "name": "stderr",
     "output_type": "stream",
     "text": [
      "Training Epoch 9: 100%|██████████| 135/135 [04:17<00:00,  1.91s/it]\n"
     ]
    },
    {
     "name": "stdout",
     "output_type": "stream",
     "text": [
      "Testing at epoch 9\n",
      "Test unseen_subject completed. Accuracy: 0.1760, Top 1: 0.2440, Top 5: 0.5163, Top 10: 0.6342, Perplexity: 0.0000\n",
      "Test unseen_task completed. Accuracy: 0.2061, Top 1: 0.2740, Top 5: 0.5655, Top 10: 0.7042, Perplexity: 0.0000\n",
      "Test unseen_both completed. Accuracy: 0.1763, Top 1: 0.2438, Top 5: 0.4788, Top 10: 0.5863, Perplexity: 0.0000\n",
      "Epoch 9 completed in 4.65m. 0.03m per recording.\n"
     ]
    },
    {
     "name": "stderr",
     "output_type": "stream",
     "text": [
      "Training Epoch 10: 100%|██████████| 135/135 [04:16<00:00,  1.90s/it]\n"
     ]
    },
    {
     "name": "stdout",
     "output_type": "stream",
     "text": [
      "Testing at epoch 10\n",
      "Test unseen_subject completed. Accuracy: 0.1776, Top 1: 0.2495, Top 5: 0.5040, Top 10: 0.6089, Perplexity: 0.0000\n",
      "Test unseen_task completed. Accuracy: 0.1702, Top 1: 0.2359, Top 5: 0.5184, Top 10: 0.6534, Perplexity: 0.0000\n",
      "Test unseen_both completed. Accuracy: 0.1459, Top 1: 0.2171, Top 5: 0.4469, Top 10: 0.5715, Perplexity: 0.0000\n",
      "Epoch 10 completed in 4.62m. 0.03m per recording.\n"
     ]
    },
    {
     "name": "stderr",
     "output_type": "stream",
     "text": [
      "Training Epoch 11: 100%|██████████| 135/135 [04:16<00:00,  1.90s/it]\n"
     ]
    },
    {
     "name": "stdout",
     "output_type": "stream",
     "text": [
      "Testing at epoch 11\n",
      "Test unseen_subject completed. Accuracy: 0.1734, Top 1: 0.2309, Top 5: 0.5052, Top 10: 0.6219, Perplexity: 0.0000\n",
      "Test unseen_task completed. Accuracy: 0.1868, Top 1: 0.2506, Top 5: 0.5505, Top 10: 0.6812, Perplexity: 0.0000\n",
      "Test unseen_both completed. Accuracy: 0.1682, Top 1: 0.2173, Top 5: 0.4806, Top 10: 0.6017, Perplexity: 0.0000\n",
      "Epoch 11 completed in 4.63m. 0.03m per recording.\n"
     ]
    },
    {
     "name": "stderr",
     "output_type": "stream",
     "text": [
      "Training Epoch 12: 100%|██████████| 135/135 [04:17<00:00,  1.90s/it]\n"
     ]
    },
    {
     "name": "stdout",
     "output_type": "stream",
     "text": [
      "Testing at epoch 12\n",
      "Test unseen_subject completed. Accuracy: 0.2031, Top 1: 0.2730, Top 5: 0.5271, Top 10: 0.6289, Perplexity: 0.0000\n",
      "Test unseen_task completed. Accuracy: 0.2160, Top 1: 0.2858, Top 5: 0.5932, Top 10: 0.7203, Perplexity: 0.0000\n",
      "Test unseen_both completed. Accuracy: 0.1849, Top 1: 0.2424, Top 5: 0.4896, Top 10: 0.6024, Perplexity: 0.0000\n",
      "Epoch 12 completed in 4.63m. 0.03m per recording.\n"
     ]
    },
    {
     "name": "stderr",
     "output_type": "stream",
     "text": [
      "Training Epoch 13: 100%|██████████| 135/135 [04:16<00:00,  1.90s/it]\n"
     ]
    },
    {
     "name": "stdout",
     "output_type": "stream",
     "text": [
      "Testing at epoch 13\n",
      "Test unseen_subject completed. Accuracy: 0.1821, Top 1: 0.2420, Top 5: 0.5041, Top 10: 0.6230, Perplexity: 0.0000\n",
      "Test unseen_task completed. Accuracy: 0.1969, Top 1: 0.2629, Top 5: 0.5531, Top 10: 0.6806, Perplexity: 0.0000\n",
      "Test unseen_both completed. Accuracy: 0.1141, Top 1: 0.1752, Top 5: 0.3986, Top 10: 0.5340, Perplexity: 0.0000\n",
      "Epoch 13 completed in 4.63m. 0.03m per recording.\n"
     ]
    },
    {
     "name": "stderr",
     "output_type": "stream",
     "text": [
      "Training Epoch 14: 100%|██████████| 135/135 [04:17<00:00,  1.91s/it]\n"
     ]
    },
    {
     "name": "stdout",
     "output_type": "stream",
     "text": [
      "Testing at epoch 14\n",
      "Test unseen_subject completed. Accuracy: 0.1369, Top 1: 0.2029, Top 5: 0.4989, Top 10: 0.6203, Perplexity: 0.0000\n",
      "Test unseen_task completed. Accuracy: 0.1939, Top 1: 0.2652, Top 5: 0.5878, Top 10: 0.7283, Perplexity: 0.0000\n",
      "Test unseen_both completed. Accuracy: 0.1766, Top 1: 0.2484, Top 5: 0.4960, Top 10: 0.6087, Perplexity: 0.0000\n",
      "Epoch 14 completed in 4.64m. 0.03m per recording.\n"
     ]
    },
    {
     "name": "stderr",
     "output_type": "stream",
     "text": [
      "Training Epoch 15: 100%|██████████| 135/135 [04:17<00:00,  1.91s/it]\n"
     ]
    },
    {
     "name": "stdout",
     "output_type": "stream",
     "text": [
      "Testing at epoch 15\n",
      "Test unseen_subject completed. Accuracy: 0.1840, Top 1: 0.2465, Top 5: 0.4981, Top 10: 0.6183, Perplexity: 0.0000\n",
      "Test unseen_task completed. Accuracy: 0.2285, Top 1: 0.3059, Top 5: 0.6017, Top 10: 0.7252, Perplexity: 0.0000\n",
      "Test unseen_both completed. Accuracy: 0.1702, Top 1: 0.2166, Top 5: 0.4463, Top 10: 0.5825, Perplexity: 0.0000\n",
      "Epoch 15 completed in 4.64m. 0.03m per recording.\n"
     ]
    },
    {
     "name": "stderr",
     "output_type": "stream",
     "text": [
      "Training Epoch 16: 100%|██████████| 135/135 [04:17<00:00,  1.91s/it]\n"
     ]
    },
    {
     "name": "stdout",
     "output_type": "stream",
     "text": [
      "Testing at epoch 16\n",
      "Test unseen_subject completed. Accuracy: 0.1721, Top 1: 0.2395, Top 5: 0.4986, Top 10: 0.6144, Perplexity: 0.0000\n",
      "Test unseen_task completed. Accuracy: 0.2143, Top 1: 0.2897, Top 5: 0.5855, Top 10: 0.7174, Perplexity: 0.0000\n",
      "Test unseen_both completed. Accuracy: 0.1452, Top 1: 0.2001, Top 5: 0.4487, Top 10: 0.5689, Perplexity: 0.0000\n",
      "Epoch 16 completed in 4.64m. 0.03m per recording.\n"
     ]
    },
    {
     "name": "stderr",
     "output_type": "stream",
     "text": [
      "Training Epoch 17: 100%|██████████| 135/135 [04:18<00:00,  1.91s/it]\n"
     ]
    },
    {
     "name": "stdout",
     "output_type": "stream",
     "text": [
      "Testing at epoch 17\n",
      "Test unseen_subject completed. Accuracy: 0.1403, Top 1: 0.1913, Top 5: 0.4552, Top 10: 0.5460, Perplexity: 0.0000\n",
      "Test unseen_task completed. Accuracy: 0.1477, Top 1: 0.2054, Top 5: 0.4737, Top 10: 0.6120, Perplexity: 0.0000\n",
      "Test unseen_both completed. Accuracy: 0.1304, Top 1: 0.1842, Top 5: 0.4094, Top 10: 0.5317, Perplexity: 0.0000\n",
      "Epoch 17 completed in 4.65m. 0.03m per recording.\n"
     ]
    },
    {
     "name": "stderr",
     "output_type": "stream",
     "text": [
      "Training Epoch 18: 100%|██████████| 135/135 [04:17<00:00,  1.91s/it]\n"
     ]
    },
    {
     "name": "stdout",
     "output_type": "stream",
     "text": [
      "Testing at epoch 18\n",
      "Test unseen_subject completed. Accuracy: 0.1835, Top 1: 0.2465, Top 5: 0.5095, Top 10: 0.6078, Perplexity: 0.0000\n",
      "Test unseen_task completed. Accuracy: 0.2150, Top 1: 0.2798, Top 5: 0.5572, Top 10: 0.6884, Perplexity: 0.0000\n",
      "Test unseen_both completed. Accuracy: 0.1993, Top 1: 0.2534, Top 5: 0.4810, Top 10: 0.5901, Perplexity: 0.0000\n",
      "Epoch 18 completed in 4.64m. 0.03m per recording.\n"
     ]
    },
    {
     "name": "stderr",
     "output_type": "stream",
     "text": [
      "Training Epoch 19: 100%|██████████| 135/135 [04:17<00:00,  1.90s/it]\n"
     ]
    },
    {
     "name": "stdout",
     "output_type": "stream",
     "text": [
      "Testing at epoch 19\n",
      "Test unseen_subject completed. Accuracy: 0.1236, Top 1: 0.1683, Top 5: 0.4262, Top 10: 0.5541, Perplexity: 0.0000\n",
      "Test unseen_task completed. Accuracy: 0.1587, Top 1: 0.2172, Top 5: 0.4990, Top 10: 0.6418, Perplexity: 0.0000\n",
      "Test unseen_both completed. Accuracy: 0.1253, Top 1: 0.1695, Top 5: 0.3994, Top 10: 0.5334, Perplexity: 0.0000\n",
      "Epoch 19 completed in 4.63m. 0.03m per recording.\n"
     ]
    },
    {
     "name": "stderr",
     "output_type": "stream",
     "text": [
      "Training Epoch 20: 100%|██████████| 135/135 [04:17<00:00,  1.91s/it]\n"
     ]
    },
    {
     "name": "stdout",
     "output_type": "stream",
     "text": [
      "Testing at epoch 20\n",
      "Test unseen_subject completed. Accuracy: 0.1687, Top 1: 0.2272, Top 5: 0.4982, Top 10: 0.6159, Perplexity: 0.0000\n",
      "Test unseen_task completed. Accuracy: 0.2005, Top 1: 0.2718, Top 5: 0.5610, Top 10: 0.6944, Perplexity: 0.0000\n",
      "Test unseen_both completed. Accuracy: 0.1788, Top 1: 0.2301, Top 5: 0.4712, Top 10: 0.5652, Perplexity: 0.0000\n",
      "Epoch 20 completed in 4.64m. 0.03m per recording.\n"
     ]
    },
    {
     "name": "stderr",
     "output_type": "stream",
     "text": [
      "Training Epoch 21: 100%|██████████| 135/135 [04:16<00:00,  1.90s/it]\n"
     ]
    },
    {
     "name": "stdout",
     "output_type": "stream",
     "text": [
      "Testing at epoch 21\n",
      "Test unseen_subject completed. Accuracy: 0.1048, Top 1: 0.1469, Top 5: 0.4144, Top 10: 0.5442, Perplexity: 0.0000\n",
      "Test unseen_task completed. Accuracy: 0.1610, Top 1: 0.2174, Top 5: 0.4947, Top 10: 0.6353, Perplexity: 0.0000\n",
      "Test unseen_both completed. Accuracy: 0.1059, Top 1: 0.1585, Top 5: 0.4032, Top 10: 0.5243, Perplexity: 0.0000\n",
      "Epoch 21 completed in 4.63m. 0.03m per recording.\n"
     ]
    },
    {
     "name": "stderr",
     "output_type": "stream",
     "text": [
      "Training Epoch 22: 100%|██████████| 135/135 [04:16<00:00,  1.90s/it]\n"
     ]
    },
    {
     "name": "stdout",
     "output_type": "stream",
     "text": [
      "Testing at epoch 22\n",
      "Test unseen_subject completed. Accuracy: 0.1692, Top 1: 0.2238, Top 5: 0.4758, Top 10: 0.5986, Perplexity: 0.0000\n",
      "Test unseen_task completed. Accuracy: 0.1443, Top 1: 0.1987, Top 5: 0.4655, Top 10: 0.6091, Perplexity: 0.0000\n",
      "Test unseen_both completed. Accuracy: 0.1005, Top 1: 0.1556, Top 5: 0.3849, Top 10: 0.5198, Perplexity: 0.0000\n",
      "Epoch 22 completed in 4.62m. 0.03m per recording.\n"
     ]
    },
    {
     "name": "stderr",
     "output_type": "stream",
     "text": [
      "Training Epoch 23: 100%|██████████| 135/135 [04:17<00:00,  1.91s/it]\n"
     ]
    },
    {
     "name": "stdout",
     "output_type": "stream",
     "text": [
      "Testing at epoch 23\n",
      "Test unseen_subject completed. Accuracy: 0.1302, Top 1: 0.1843, Top 5: 0.4133, Top 10: 0.5444, Perplexity: 0.0000\n",
      "Test unseen_task completed. Accuracy: 0.1337, Top 1: 0.1872, Top 5: 0.4606, Top 10: 0.6090, Perplexity: 0.0000\n",
      "Test unseen_both completed. Accuracy: 0.1129, Top 1: 0.1592, Top 5: 0.3871, Top 10: 0.5145, Perplexity: 0.0000\n",
      "Epoch 23 completed in 4.64m. 0.03m per recording.\n",
      "Early stopping at epoch 23. Highest top 10 accuracy at epoch 12.\n",
      "Training completed.\n",
      "unseen_subject: Acc: 0.2640, Top 1: 0.2640, Top 5: 0.6294, Top 10: 0.7310\n",
      "unseen_task: Acc: 0.1677, Top 1: 0.2341, Top 5: 0.4900, Top 10: 0.6487\n",
      "unseen_both: Acc: 0.2115, Top 1: 0.2981, Top 5: 0.5529, Top 10: 0.6635\n"
     ]
    }
   ],
   "source": [
    "try:\n",
    "    session.train(\n",
    "        device=\"cuda\",\n",
    "        buffer_size=30,\n",
    "        num_workers=multiprocessing.cpu_count() - 2,\n",
    "        max_cache_size=400,\n",
    "        current_epoch=0,\n",
    "    )\n",
    "except KeyboardInterrupt as e:\n",
    "    print(\"Exited\")"
   ]
  },
  {
   "cell_type": "code",
   "execution_count": 6,
   "metadata": {},
   "outputs": [
    {
     "data": {
      "text/plain": [
       "12"
      ]
     },
     "execution_count": 6,
     "metadata": {},
     "output_type": "execute_result"
    }
   ],
   "source": [
    "session.highest_epoch"
   ]
  },
  {
   "cell_type": "code",
   "execution_count": null,
   "metadata": {},
   "outputs": [],
   "source": []
  }
 ],
 "metadata": {
  "kernelspec": {
   "display_name": "brain",
   "language": "python",
   "name": "python3"
  },
  "language_info": {
   "codemirror_mode": {
    "name": "ipython",
    "version": 3
   },
   "file_extension": ".py",
   "mimetype": "text/x-python",
   "name": "python",
   "nbconvert_exporter": "python",
   "pygments_lexer": "ipython3",
   "version": "3.11.7"
  }
 },
 "nbformat": 4,
 "nbformat_minor": 4
}
