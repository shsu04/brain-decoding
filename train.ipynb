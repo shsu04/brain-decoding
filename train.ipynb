{
 "cells": [
  {
   "cell_type": "code",
   "execution_count": 1,
   "metadata": {},
   "outputs": [],
   "source": [
    "from config.simpleconv_config import SimpleConvConfig\n",
    "from models.simpleconv import SimpleConv\n",
    "from studies.study_factory import StudyFactory\n",
    "from utils.pre_processor import PreProcessor\n",
    "from utils.fetch import fetch_audio_and_brain_pairs\n",
    "\n",
    "import torch"
   ]
  },
  {
   "cell_type": "code",
   "execution_count": 2,
   "metadata": {},
   "outputs": [],
   "source": [
    "# model = SimpleConv(SimpleConvConfig(transformer_layers=0))"
   ]
  },
  {
   "cell_type": "code",
   "execution_count": 3,
   "metadata": {},
   "outputs": [],
   "source": [
    "brain_sample_rate = 100\n",
    "\n",
    "study = StudyFactory().create_study(\"gwilliams\", path=\"data/gwilliams\")\n",
    "pre_processor = PreProcessor(\n",
    "    brain_sample_rate=brain_sample_rate,\n",
    ")\n",
    "frequency_bands = {\"all\": (0.5, 100)}\n",
    "subject, task, session = 0, 0, 0\n",
    "seed = 42\n",
    "max_random_shift = 1\n",
    "window_size = 4\n",
    "n_jobs = -1"
   ]
  },
  {
   "cell_type": "code",
   "execution_count": 4,
   "metadata": {},
   "outputs": [],
   "source": [
    "# Get attributes for the recording\n",
    "raw, word_events, sound_events = study.clean_recording(\n",
    "    subject, task, session, n_jobs=n_jobs\n",
    ")"
   ]
  },
  {
   "cell_type": "code",
   "execution_count": 5,
   "metadata": {},
   "outputs": [
    {
     "data": {
      "text/plain": [
       "(208, 4)"
      ]
     },
     "execution_count": 5,
     "metadata": {},
     "output_type": "execute_result"
    }
   ],
   "source": [
    "import mne\n",
    "mne.find_layout(raw.info).pos.shape"
   ]
  },
  {
   "cell_type": "code",
   "execution_count": 6,
   "metadata": {},
   "outputs": [
    {
     "data": {
      "text/plain": [
       "(208, 396000)"
      ]
     },
     "execution_count": 6,
     "metadata": {},
     "output_type": "execute_result"
    }
   ],
   "source": [
    "raw.get_data().shape"
   ]
  },
  {
   "cell_type": "code",
   "execution_count": 10,
   "metadata": {},
   "outputs": [],
   "source": [
    "brain_segments, audio_segments, layout = fetch_audio_and_brain_pairs(\n",
    "    subject=subject,\n",
    "    task=task,\n",
    "    session=session,\n",
    "    max_random_shift=max_random_shift,\n",
    "    window_size=window_size,\n",
    "    study=study,\n",
    "    pre_processor=pre_processor,\n",
    "    frequency_bands=frequency_bands,\n",
    "    audio_sample_rate=16000,\n",
    "    hop_length=160,\n",
    "    n_jobs=n_jobs,\n",
    ")"
   ]
  },
  {
   "cell_type": "code",
   "execution_count": 11,
   "metadata": {},
   "outputs": [
    {
     "data": {
      "text/plain": [
       "(torch.Size([197, 208, 400]),\n",
       " torch.Size([197, 128, 400]),\n",
       " torch.Size([208, 2]))"
      ]
     },
     "execution_count": 11,
     "metadata": {},
     "output_type": "execute_result"
    }
   ],
   "source": [
    "brain_segments['all'].shape, audio_segments.shape, layout.shape"
   ]
  },
  {
   "cell_type": "code",
   "execution_count": null,
   "metadata": {},
   "outputs": [],
   "source": []
  }
 ],
 "metadata": {
  "kernelspec": {
   "display_name": "brain",
   "language": "python",
   "name": "python3"
  },
  "language_info": {
   "codemirror_mode": {
    "name": "ipython",
    "version": 3
   },
   "file_extension": ".py",
   "mimetype": "text/x-python",
   "name": "python",
   "nbconvert_exporter": "python",
   "pygments_lexer": "ipython3",
   "version": "3.11.7"
  }
 },
 "nbformat": 4,
 "nbformat_minor": 2
}
