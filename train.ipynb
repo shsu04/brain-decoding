{
 "cells": [
  {
   "cell_type": "code",
   "execution_count": 1,
   "metadata": {},
   "outputs": [],
   "source": [
    "data_partition = {\n",
    "    \"gwilliams2023\": {\n",
    "        \"testing_subjects\": [19, 20, 21],\n",
    "        \"testing_tasks\": [0],\n",
    "    },\n",
    "    # \"schoffelen2022\": {\n",
    "    #     \"testing_subjects\": [],\n",
    "    #     \"testing_tasks\": [8, 9],\n",
    "    # },\n",
    "}"
   ]
  },
  {
   "cell_type": "code",
   "execution_count": 2,
   "metadata": {},
   "outputs": [],
   "source": [
    "# from utils.compression import compress_directories, decompress_directories\n",
    "\n",
    "# for base_path, batch_type in data_partition.items():\n",
    "#     decompress_directories(\n",
    "#         source_path=f'downloaded_data/{base_path}',\n",
    "#         destination_path=f'data/{base_path}',\n",
    "#         checksum_file_name=\"checksums.txt\",\n",
    "#         delete_compressed_files=True,\n",
    "#         num_workers=26\n",
    "#     )"
   ]
  },
  {
   "cell_type": "code",
   "execution_count": 3,
   "metadata": {},
   "outputs": [],
   "source": [
    "from config import SimpleConvConfig\n",
    "from models.simpleconv import SimpleConv\n",
    "import torch\n",
    "\n",
    "model_config = SimpleConvConfig(\n",
    "    # Str to list of possible conditions\n",
    "    mel_normalization=False,\n",
    "    conditions={\n",
    "        \"study\": [],\n",
    "        \"subject\": [],\n",
    "    },\n",
    "    # Channels\n",
    "    in_channels=208,\n",
    "    out_channels=128,\n",
    "    hidden_dim=384,\n",
    "    dropout=0.2,\n",
    "    initial_batch_norm=True,\n",
    "    # Sensor layout settings\n",
    "    layout_dim=2,\n",
    "    layout_proj=True,\n",
    "    layout_scaling=\"minmax\",\n",
    "    # Merger with spatial attn\n",
    "    merger=False,\n",
    "    merger_emb_type=None,\n",
    "    merger_emb_dim=0,\n",
    "    merger_channels=0,\n",
    "    merger_dropout=False,\n",
    "    merger_conditional=None,\n",
    "    # Inital\n",
    "    initial_linear=384,\n",
    "    initial_depth=1,\n",
    "    # Conditional layers\n",
    "    conditional_layers=False,\n",
    "    conditional_layers_dim=None,  # input or hidden_dim\n",
    "    # Conv layer overall structure\n",
    "    depth=6,\n",
    "    kernel_size=3,\n",
    "    growth=1.0,\n",
    "    dilation_growth=2,\n",
    "    dilation_period=5,\n",
    "    glu=1,\n",
    "    conv_dropout=0.2,\n",
    "    dropout_input=0.2,\n",
    "    batch_norm=True,\n",
    "    # Quantizer\n",
    "    quantizer=False,\n",
    "    num_codebooks=0,\n",
    "    codebook_size=0,\n",
    "    quantizer_commitment=0,\n",
    "    quantizer_temp_init=0,\n",
    "    quantizer_temp_min=0,\n",
    "    quantizer_temp_decay=0,\n",
    "    # Transformers Encoders\n",
    "    transformer_input=None,\n",
    "    transformer_encoder_emb=None,\n",
    "    transformer_encoder_layers=0,\n",
    "    transformer_encoder_heads=0,\n",
    "    # Transformer Decoders\n",
    "    transformer_decoder_emb=None,\n",
    "    transformer_decoder_layers=0,\n",
    "    transformer_decoder_heads=0,\n",
    "    transformer_decoder_dim=0,\n",
    ")"
   ]
  },
  {
   "cell_type": "code",
   "execution_count": 4,
   "metadata": {},
   "outputs": [
    {
     "name": "stdout",
     "output_type": "stream",
     "text": [
      "Loading Gwilliams2023 with batch type audio\n",
      "Data partitioned on studies ['gwilliams2023'].\n",
      "Train: 135, Unseen Task: 12, Unseen Subject: 45, Unseen Both: 4.\n",
      "\n",
      "SimpleConv initialized with 8448160 parameters, cond: ['study', 'subject']\n",
      "Merger False, merger channels 0\n",
      "ConvBlocks: 6, hidden_dim: 384, params 7973376\n"
     ]
    }
   ],
   "source": [
    "from train.training_session_v0 import TrainingSessionV0\n",
    "from config import TrainingConfigV0\n",
    "import multiprocessing\n",
    "\n",
    "config = TrainingConfigV0(\n",
    "    brain_encoder_config=model_config,\n",
    "    data_partition=data_partition,\n",
    "    # Pre-processing parameters\n",
    "    # Brain\n",
    "    new_freq=100,\n",
    "    frequency_bands={\"all\": (0.5, 80)},\n",
    "    max_random_shift=1.0,\n",
    "    window_size=4,\n",
    "    window_stride=1,\n",
    "    brain_clipping=20,\n",
    "    baseline_window=0.5,\n",
    "    notch_filter=True,\n",
    "    scaling=\"both\",\n",
    "    delay=0.15,\n",
    "    # Hyperparameters\n",
    "    learning_rate=3e-4,\n",
    "    weight_decay=1e-4,\n",
    "    epochs=50,\n",
    "    batch_size=256,\n",
    "    use_clip_loss=True,\n",
    "    use_mse_loss=True,\n",
    "    alpha=0.6,\n",
    "    random_test_size=10,\n",
    "    seed=42,\n",
    ")\n",
    "\n",
    "session = TrainingSessionV0(\n",
    "    config=config,\n",
    "    studies={study: \"audio\" for study in data_partition.keys()},\n",
    "    data_path=\"data\",\n",
    "    save_path=\"saves/phase1/objective/Dec18_CLIP_MSE_384\",\n",
    "    clear_cache=False,\n",
    ")"
   ]
  },
  {
   "cell_type": "code",
   "execution_count": 5,
   "metadata": {},
   "outputs": [
    {
     "name": "stdout",
     "output_type": "stream",
     "text": [
      "GPU is not NVIDIA V100, A100, or H100. Speedup numbers may be lower than expected.\n"
     ]
    },
    {
     "name": "stderr",
     "output_type": "stream",
     "text": [
      "2024-12-19 19:02:47,197\tINFO worker.py:1821 -- Started a local Ray instance.\n",
      "Training Epoch 1: 100%|██████████| 135/135 [03:36<00:00,  1.60s/it]\n"
     ]
    },
    {
     "name": "stdout",
     "output_type": "stream",
     "text": [
      "Testing at epoch 1\n",
      "Test unseen_subject completed. Accuracy: 0.0350, Top 1: 0.0536, Top 5: 0.2055, Top 10: 0.3267, Perplexity: 0.0000\n",
      "Test unseen_task completed. Accuracy: 0.0348, Top 1: 0.0516, Top 5: 0.1838, Top 10: 0.3020, Perplexity: 0.0000\n",
      "Test unseen_both completed. Accuracy: 0.0150, Top 1: 0.0286, Top 5: 0.1471, Top 10: 0.2741, Perplexity: 0.0000\n",
      "Epoch 1 completed in 3.93m. 0.03m per recording.\n"
     ]
    },
    {
     "name": "stderr",
     "output_type": "stream",
     "text": [
      "Training Epoch 2: 100%|██████████| 135/135 [03:35<00:00,  1.60s/it]\n"
     ]
    },
    {
     "name": "stdout",
     "output_type": "stream",
     "text": [
      "Testing at epoch 2\n",
      "Test unseen_subject completed. Accuracy: 0.0792, Top 1: 0.1105, Top 5: 0.2885, Top 10: 0.4192, Perplexity: 0.0000\n",
      "Test unseen_task completed. Accuracy: 0.0597, Top 1: 0.0854, Top 5: 0.2737, Top 10: 0.4073, Perplexity: 0.0000\n",
      "Test unseen_both completed. Accuracy: 0.0512, Top 1: 0.0698, Top 5: 0.2667, Top 10: 0.3836, Perplexity: 0.0000\n",
      "Epoch 2 completed in 3.90m. 0.03m per recording.\n"
     ]
    },
    {
     "name": "stderr",
     "output_type": "stream",
     "text": [
      "Training Epoch 3: 100%|██████████| 135/135 [03:36<00:00,  1.60s/it]\n"
     ]
    },
    {
     "name": "stdout",
     "output_type": "stream",
     "text": [
      "Testing at epoch 3\n",
      "Test unseen_subject completed. Accuracy: 0.0686, Top 1: 0.1137, Top 5: 0.3407, Top 10: 0.5022, Perplexity: 0.0000\n",
      "Test unseen_task completed. Accuracy: 0.0530, Top 1: 0.0828, Top 5: 0.3271, Top 10: 0.4896, Perplexity: 0.0000\n",
      "Test unseen_both completed. Accuracy: 0.0437, Top 1: 0.0747, Top 5: 0.3079, Top 10: 0.4525, Perplexity: 0.0000\n",
      "Epoch 3 completed in 3.93m. 0.03m per recording.\n"
     ]
    },
    {
     "name": "stderr",
     "output_type": "stream",
     "text": [
      "Training Epoch 4: 100%|██████████| 135/135 [03:36<00:00,  1.60s/it]\n"
     ]
    },
    {
     "name": "stdout",
     "output_type": "stream",
     "text": [
      "Testing at epoch 4\n",
      "Test unseen_subject completed. Accuracy: 0.0830, Top 1: 0.1300, Top 5: 0.3251, Top 10: 0.4673, Perplexity: 0.0000\n",
      "Test unseen_task completed. Accuracy: 0.0827, Top 1: 0.1226, Top 5: 0.3385, Top 10: 0.4826, Perplexity: 0.0000\n",
      "Test unseen_both completed. Accuracy: 0.0624, Top 1: 0.0984, Top 5: 0.2893, Top 10: 0.4027, Perplexity: 0.0000\n",
      "Epoch 4 completed in 3.94m. 0.03m per recording.\n"
     ]
    },
    {
     "name": "stderr",
     "output_type": "stream",
     "text": [
      "Training Epoch 5: 100%|██████████| 135/135 [03:33<00:00,  1.58s/it]\n"
     ]
    },
    {
     "name": "stdout",
     "output_type": "stream",
     "text": [
      "Testing at epoch 5\n",
      "Test unseen_subject completed. Accuracy: 0.0596, Top 1: 0.1033, Top 5: 0.3134, Top 10: 0.4404, Perplexity: 0.0000\n",
      "Test unseen_task completed. Accuracy: 0.0939, Top 1: 0.1292, Top 5: 0.3322, Top 10: 0.4538, Perplexity: 0.0000\n",
      "Test unseen_both completed. Accuracy: 0.0663, Top 1: 0.1010, Top 5: 0.2708, Top 10: 0.4015, Perplexity: 0.0000\n",
      "Epoch 5 completed in 3.88m. 0.03m per recording.\n"
     ]
    },
    {
     "name": "stderr",
     "output_type": "stream",
     "text": [
      "Training Epoch 6: 100%|██████████| 135/135 [03:32<00:00,  1.58s/it]\n"
     ]
    },
    {
     "name": "stdout",
     "output_type": "stream",
     "text": [
      "Testing at epoch 6\n",
      "Test unseen_subject completed. Accuracy: 0.1468, Top 1: 0.2139, Top 5: 0.4654, Top 10: 0.5767, Perplexity: 0.0000\n",
      "Test unseen_task completed. Accuracy: 0.1681, Top 1: 0.2359, Top 5: 0.5340, Top 10: 0.6755, Perplexity: 0.0000\n",
      "Test unseen_both completed. Accuracy: 0.1308, Top 1: 0.1866, Top 5: 0.4671, Top 10: 0.5841, Perplexity: 0.0000\n",
      "Epoch 6 completed in 3.87m. 0.03m per recording.\n"
     ]
    },
    {
     "name": "stderr",
     "output_type": "stream",
     "text": [
      "Training Epoch 7: 100%|██████████| 135/135 [03:33<00:00,  1.58s/it]\n"
     ]
    },
    {
     "name": "stdout",
     "output_type": "stream",
     "text": [
      "Testing at epoch 7\n",
      "Test unseen_subject completed. Accuracy: 0.1024, Top 1: 0.1505, Top 5: 0.4010, Top 10: 0.5376, Perplexity: 0.0000\n",
      "Test unseen_task completed. Accuracy: 0.1252, Top 1: 0.1798, Top 5: 0.4628, Top 10: 0.6130, Perplexity: 0.0000\n",
      "Test unseen_both completed. Accuracy: 0.1271, Top 1: 0.1730, Top 5: 0.4485, Top 10: 0.5668, Perplexity: 0.0000\n",
      "Epoch 7 completed in 3.89m. 0.03m per recording.\n"
     ]
    },
    {
     "name": "stderr",
     "output_type": "stream",
     "text": [
      "Training Epoch 8: 100%|██████████| 135/135 [03:33<00:00,  1.59s/it]\n"
     ]
    },
    {
     "name": "stdout",
     "output_type": "stream",
     "text": [
      "Testing at epoch 8\n",
      "Test unseen_subject completed. Accuracy: 0.1495, Top 1: 0.2035, Top 5: 0.4534, Top 10: 0.5695, Perplexity: 0.0000\n",
      "Test unseen_task completed. Accuracy: 0.1040, Top 1: 0.1500, Top 5: 0.4054, Top 10: 0.5433, Perplexity: 0.0000\n",
      "Test unseen_both completed. Accuracy: 0.1109, Top 1: 0.1704, Top 5: 0.3836, Top 10: 0.5032, Perplexity: 0.0000\n",
      "Epoch 8 completed in 3.89m. 0.03m per recording.\n"
     ]
    },
    {
     "name": "stderr",
     "output_type": "stream",
     "text": [
      "Training Epoch 9: 100%|██████████| 135/135 [03:33<00:00,  1.58s/it]\n"
     ]
    },
    {
     "name": "stdout",
     "output_type": "stream",
     "text": [
      "Testing at epoch 9\n",
      "Test unseen_subject completed. Accuracy: 0.0965, Top 1: 0.1440, Top 5: 0.3956, Top 10: 0.5298, Perplexity: 0.0000\n",
      "Test unseen_task completed. Accuracy: 0.1808, Top 1: 0.2466, Top 5: 0.5348, Top 10: 0.6695, Perplexity: 0.0000\n",
      "Test unseen_both completed. Accuracy: 0.0985, Top 1: 0.1332, Top 5: 0.3738, Top 10: 0.5110, Perplexity: 0.0000\n",
      "Epoch 9 completed in 3.88m. 0.03m per recording.\n"
     ]
    },
    {
     "name": "stderr",
     "output_type": "stream",
     "text": [
      "Training Epoch 10: 100%|██████████| 135/135 [03:34<00:00,  1.59s/it]\n"
     ]
    },
    {
     "name": "stdout",
     "output_type": "stream",
     "text": [
      "Testing at epoch 10\n",
      "Test unseen_subject completed. Accuracy: 0.1447, Top 1: 0.2019, Top 5: 0.4500, Top 10: 0.5796, Perplexity: 0.0000\n",
      "Test unseen_task completed. Accuracy: 0.1775, Top 1: 0.2392, Top 5: 0.5339, Top 10: 0.6698, Perplexity: 0.0000\n",
      "Test unseen_both completed. Accuracy: 0.1073, Top 1: 0.1569, Top 5: 0.4284, Top 10: 0.5705, Perplexity: 0.0000\n",
      "Epoch 10 completed in 3.89m. 0.03m per recording.\n"
     ]
    },
    {
     "name": "stderr",
     "output_type": "stream",
     "text": [
      "Training Epoch 11: 100%|██████████| 135/135 [03:34<00:00,  1.59s/it]\n"
     ]
    },
    {
     "name": "stdout",
     "output_type": "stream",
     "text": [
      "Testing at epoch 11\n",
      "Test unseen_subject completed. Accuracy: 0.1723, Top 1: 0.2252, Top 5: 0.4537, Top 10: 0.5700, Perplexity: 0.0000\n",
      "Test unseen_task completed. Accuracy: 0.1171, Top 1: 0.1652, Top 5: 0.4354, Top 10: 0.5864, Perplexity: 0.0000\n",
      "Test unseen_both completed. Accuracy: 0.1431, Top 1: 0.1939, Top 5: 0.4196, Top 10: 0.5491, Perplexity: 0.0000\n",
      "Epoch 11 completed in 3.90m. 0.03m per recording.\n"
     ]
    },
    {
     "name": "stderr",
     "output_type": "stream",
     "text": [
      "Training Epoch 12: 100%|██████████| 135/135 [03:33<00:00,  1.58s/it]\n"
     ]
    },
    {
     "name": "stdout",
     "output_type": "stream",
     "text": [
      "Testing at epoch 12\n",
      "Test unseen_subject completed. Accuracy: 0.1350, Top 1: 0.1953, Top 5: 0.4316, Top 10: 0.5562, Perplexity: 0.0000\n",
      "Test unseen_task completed. Accuracy: 0.1996, Top 1: 0.2674, Top 5: 0.5469, Top 10: 0.6712, Perplexity: 0.0000\n",
      "Test unseen_both completed. Accuracy: 0.1421, Top 1: 0.1955, Top 5: 0.4287, Top 10: 0.5469, Perplexity: 0.0000\n",
      "Epoch 12 completed in 3.88m. 0.03m per recording.\n"
     ]
    },
    {
     "name": "stderr",
     "output_type": "stream",
     "text": [
      "Training Epoch 13: 100%|██████████| 135/135 [03:34<00:00,  1.59s/it]\n"
     ]
    },
    {
     "name": "stdout",
     "output_type": "stream",
     "text": [
      "Testing at epoch 13\n",
      "Test unseen_subject completed. Accuracy: 0.0952, Top 1: 0.1492, Top 5: 0.3992, Top 10: 0.5349, Perplexity: 0.0000\n",
      "Test unseen_task completed. Accuracy: 0.1267, Top 1: 0.1773, Top 5: 0.4305, Top 10: 0.5764, Perplexity: 0.0000\n",
      "Test unseen_both completed. Accuracy: 0.0935, Top 1: 0.1382, Top 5: 0.3738, Top 10: 0.5134, Perplexity: 0.0000\n",
      "Epoch 13 completed in 3.89m. 0.03m per recording.\n"
     ]
    },
    {
     "name": "stderr",
     "output_type": "stream",
     "text": [
      "Training Epoch 14: 100%|██████████| 135/135 [03:35<00:00,  1.60s/it]\n"
     ]
    },
    {
     "name": "stdout",
     "output_type": "stream",
     "text": [
      "Testing at epoch 14\n",
      "Test unseen_subject completed. Accuracy: 0.1685, Top 1: 0.2263, Top 5: 0.4729, Top 10: 0.5892, Perplexity: 0.0000\n",
      "Test unseen_task completed. Accuracy: 0.1914, Top 1: 0.2618, Top 5: 0.5402, Top 10: 0.6731, Perplexity: 0.0000\n",
      "Test unseen_both completed. Accuracy: 0.1433, Top 1: 0.2116, Top 5: 0.4434, Top 10: 0.5678, Perplexity: 0.0000\n",
      "Epoch 14 completed in 3.93m. 0.03m per recording.\n"
     ]
    },
    {
     "name": "stderr",
     "output_type": "stream",
     "text": [
      "Training Epoch 15: 100%|██████████| 135/135 [03:33<00:00,  1.58s/it]\n"
     ]
    },
    {
     "name": "stdout",
     "output_type": "stream",
     "text": [
      "Testing at epoch 15\n",
      "Test unseen_subject completed. Accuracy: 0.1570, Top 1: 0.2331, Top 5: 0.4805, Top 10: 0.6040, Perplexity: 0.0000\n",
      "Test unseen_task completed. Accuracy: 0.1983, Top 1: 0.2642, Top 5: 0.5664, Top 10: 0.7069, Perplexity: 0.0000\n",
      "Test unseen_both completed. Accuracy: 0.1568, Top 1: 0.2126, Top 5: 0.4757, Top 10: 0.5952, Perplexity: 0.0000\n",
      "Epoch 15 completed in 3.85m. 0.03m per recording.\n"
     ]
    },
    {
     "name": "stderr",
     "output_type": "stream",
     "text": [
      "Training Epoch 16: 100%|██████████| 135/135 [03:34<00:00,  1.59s/it]\n"
     ]
    },
    {
     "name": "stdout",
     "output_type": "stream",
     "text": [
      "Testing at epoch 16\n",
      "Test unseen_subject completed. Accuracy: 0.1778, Top 1: 0.2479, Top 5: 0.5038, Top 10: 0.6181, Perplexity: 0.0000\n",
      "Test unseen_task completed. Accuracy: 0.1943, Top 1: 0.2657, Top 5: 0.5581, Top 10: 0.7000, Perplexity: 0.0000\n",
      "Test unseen_both completed. Accuracy: 0.1582, Top 1: 0.2153, Top 5: 0.4460, Top 10: 0.5754, Perplexity: 0.0000\n",
      "Epoch 16 completed in 3.86m. 0.03m per recording.\n"
     ]
    },
    {
     "name": "stderr",
     "output_type": "stream",
     "text": [
      "Training Epoch 17: 100%|██████████| 135/135 [03:33<00:00,  1.58s/it]\n"
     ]
    },
    {
     "name": "stdout",
     "output_type": "stream",
     "text": [
      "Testing at epoch 17\n",
      "Test unseen_subject completed. Accuracy: 0.1310, Top 1: 0.1977, Top 5: 0.4691, Top 10: 0.6035, Perplexity: 0.0000\n",
      "Test unseen_task completed. Accuracy: 0.2071, Top 1: 0.2787, Top 5: 0.5671, Top 10: 0.7058, Perplexity: 0.0000\n",
      "Test unseen_both completed. Accuracy: 0.1271, Top 1: 0.1829, Top 5: 0.4598, Top 10: 0.5731, Perplexity: 0.0000\n",
      "Epoch 17 completed in 3.89m. 0.03m per recording.\n"
     ]
    },
    {
     "name": "stderr",
     "output_type": "stream",
     "text": [
      "Training Epoch 18: 100%|██████████| 135/135 [03:33<00:00,  1.58s/it]\n"
     ]
    },
    {
     "name": "stdout",
     "output_type": "stream",
     "text": [
      "Testing at epoch 18\n",
      "Test unseen_subject completed. Accuracy: 0.1774, Top 1: 0.2367, Top 5: 0.5099, Top 10: 0.6263, Perplexity: 0.0000\n",
      "Test unseen_task completed. Accuracy: 0.2056, Top 1: 0.2726, Top 5: 0.5539, Top 10: 0.6912, Perplexity: 0.0000\n",
      "Test unseen_both completed. Accuracy: 0.1769, Top 1: 0.2414, Top 5: 0.4771, Top 10: 0.5903, Perplexity: 0.0000\n",
      "Epoch 18 completed in 3.89m. 0.03m per recording.\n"
     ]
    },
    {
     "name": "stderr",
     "output_type": "stream",
     "text": [
      "Training Epoch 19: 100%|██████████| 135/135 [03:34<00:00,  1.59s/it]\n"
     ]
    },
    {
     "name": "stdout",
     "output_type": "stream",
     "text": [
      "Testing at epoch 19\n",
      "Test unseen_subject completed. Accuracy: 0.1410, Top 1: 0.2037, Top 5: 0.4588, Top 10: 0.5890, Perplexity: 0.0000\n",
      "Test unseen_task completed. Accuracy: 0.2257, Top 1: 0.3027, Top 5: 0.5896, Top 10: 0.7187, Perplexity: 0.0000\n",
      "Test unseen_both completed. Accuracy: 0.1445, Top 1: 0.2164, Top 5: 0.4707, Top 10: 0.5827, Perplexity: 0.0000\n",
      "Epoch 19 completed in 3.90m. 0.03m per recording.\n"
     ]
    },
    {
     "name": "stderr",
     "output_type": "stream",
     "text": [
      "Training Epoch 20: 100%|██████████| 135/135 [03:33<00:00,  1.58s/it]\n"
     ]
    },
    {
     "name": "stdout",
     "output_type": "stream",
     "text": [
      "Testing at epoch 20\n",
      "Test unseen_subject completed. Accuracy: 0.1677, Top 1: 0.2432, Top 5: 0.5074, Top 10: 0.6115, Perplexity: 0.0000\n",
      "Test unseen_task completed. Accuracy: 0.2222, Top 1: 0.2934, Top 5: 0.5937, Top 10: 0.7192, Perplexity: 0.0000\n",
      "Test unseen_both completed. Accuracy: 0.1470, Top 1: 0.2139, Top 5: 0.5042, Top 10: 0.5927, Perplexity: 0.0000\n",
      "Epoch 20 completed in 3.89m. 0.03m per recording.\n"
     ]
    },
    {
     "name": "stderr",
     "output_type": "stream",
     "text": [
      "Training Epoch 21: 100%|██████████| 135/135 [03:32<00:00,  1.58s/it]\n"
     ]
    },
    {
     "name": "stdout",
     "output_type": "stream",
     "text": [
      "Testing at epoch 21\n",
      "Test unseen_subject completed. Accuracy: 0.1765, Top 1: 0.2385, Top 5: 0.4755, Top 10: 0.5895, Perplexity: 0.0000\n",
      "Test unseen_task completed. Accuracy: 0.1978, Top 1: 0.2633, Top 5: 0.5400, Top 10: 0.6611, Perplexity: 0.0000\n",
      "Test unseen_both completed. Accuracy: 0.1307, Top 1: 0.1879, Top 5: 0.4084, Top 10: 0.5343, Perplexity: 0.0000\n",
      "Epoch 21 completed in 3.87m. 0.03m per recording.\n"
     ]
    },
    {
     "name": "stderr",
     "output_type": "stream",
     "text": [
      "Training Epoch 22:   0%|          | 0/135 [00:02<?, ?it/s]"
     ]
    },
    {
     "name": "stdout",
     "output_type": "stream",
     "text": [
      "Exited\n"
     ]
    },
    {
     "name": "stderr",
     "output_type": "stream",
     "text": [
      "\n"
     ]
    }
   ],
   "source": [
    "try:\n",
    "    session.train(\n",
    "        device=\"cuda\",\n",
    "        buffer_size=30,\n",
    "        num_workers=multiprocessing.cpu_count() - 2,\n",
    "        max_cache_size=400,\n",
    "        current_epoch=0,\n",
    "    )\n",
    "except KeyboardInterrupt as e:\n",
    "    print(\"Exited\")"
   ]
  },
  {
   "cell_type": "code",
   "execution_count": null,
   "metadata": {},
   "outputs": [],
   "source": [
    "# import os\n",
    "\n",
    "# def delete_file_recursive(directory, filename):\n",
    "#     for root, dirs, files in os.walk(directory):\n",
    "#         if filename in files:\n",
    "#             file_path = os.path.join(root, filename)\n",
    "#             try:\n",
    "#                 os.remove(file_path)\n",
    "#                 print(f\"Deleted: {file_path}\")\n",
    "#             except PermissionError:\n",
    "#                 print(f\"Permission denied: {file_path}\")\n",
    "#             except Exception as e:\n",
    "#                 print(f\"Error deleting {file_path}: {e}\")\n",
    "\n",
    "# directory = os.getcwd()\n",
    "# filename = 'training_log.log'\n",
    "# delete_file_recursive(directory, filename)"
   ]
  }
 ],
 "metadata": {
  "kernelspec": {
   "display_name": "brain",
   "language": "python",
   "name": "python3"
  },
  "language_info": {
   "codemirror_mode": {
    "name": "ipython",
    "version": 3
   },
   "file_extension": ".py",
   "mimetype": "text/x-python",
   "name": "python",
   "nbconvert_exporter": "python",
   "pygments_lexer": "ipython3",
   "version": "3.11.7"
  }
 },
 "nbformat": 4,
 "nbformat_minor": 4
}
