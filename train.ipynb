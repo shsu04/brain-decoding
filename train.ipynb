{
 "cells": [
  {
   "cell_type": "code",
   "execution_count": 1,
   "metadata": {},
   "outputs": [],
   "source": [
    "data_partition = {\n",
    "    \"gwilliams2023\": {\n",
    "        \"testing_subjects\": [19, 20, 21],\n",
    "        \"testing_tasks\": [0],\n",
    "    },\n",
    "    # \"schoffelen2022\": {\n",
    "    #     \"testing_subjects\": [],\n",
    "    #     \"testing_tasks\": [8, 9],\n",
    "    # },\n",
    "}"
   ]
  },
  {
   "cell_type": "code",
   "execution_count": 2,
   "metadata": {},
   "outputs": [],
   "source": [
    "# from utils.compression import compress_directories, decompress_directories\n",
    "\n",
    "# for base_path, batch_type in data_partition.items():\n",
    "#     decompress_directories(\n",
    "#         source_path=f'downloaded_data/{base_path}',\n",
    "#         destination_path=f'data/{base_path}',\n",
    "#         checksum_file_name=\"checksums.txt\",\n",
    "#         delete_compressed_files=True,\n",
    "#         num_workers=26\n",
    "#     )"
   ]
  },
  {
   "cell_type": "code",
   "execution_count": 3,
   "metadata": {},
   "outputs": [],
   "source": [
    "from config import SimpleConvConfig\n",
    "from models.simpleconv import SimpleConv\n",
    "import torch\n",
    "\n",
    "model_config = SimpleConvConfig(\n",
    "    # Str to list of possible conditions\n",
    "    mel_normalization=False,\n",
    "    conditions={\n",
    "        \"study\": [],\n",
    "        \"subject\": [],\n",
    "    },\n",
    "    # Channels\n",
    "    in_channels=208,\n",
    "    out_channels=128,\n",
    "    hidden_dim=384,\n",
    "    dropout=0.2,\n",
    "    initial_batch_norm=True,\n",
    "    # Sensor layout settings\n",
    "    layout_dim=2,\n",
    "    layout_proj=True,\n",
    "    layout_scaling=\"minmax\",\n",
    "    # Merger with spatial attn\n",
    "    merger=False,\n",
    "    merger_emb_type=None,\n",
    "    merger_emb_dim=0,\n",
    "    merger_channels=0,\n",
    "    merger_dropout=False,\n",
    "    merger_conditional=None,\n",
    "    # Inital\n",
    "    initial_linear=384,\n",
    "    initial_depth=1,\n",
    "    # Conditional layers\n",
    "    conditional_layers=False,\n",
    "    conditional_layers_dim=None,  # input or hidden_dim\n",
    "    # Conv layer overall structure\n",
    "    depth=6,\n",
    "    kernel_size=3,\n",
    "    growth=1.0,\n",
    "    dilation_growth=2,\n",
    "    dilation_period=5,\n",
    "    glu=1,\n",
    "    conv_dropout=0.2,\n",
    "    dropout_input=0.2,\n",
    "    batch_norm=True,\n",
    "    # Quantizer\n",
    "    quantizer=False,\n",
    "    num_codebooks=0,\n",
    "    codebook_size=0,\n",
    "    quantizer_commitment=0,\n",
    "    quantizer_temp_init=0,\n",
    "    quantizer_temp_min=0,\n",
    "    quantizer_temp_decay=0,\n",
    "    # Transformers Encoders\n",
    "    transformer_input=None,\n",
    "    transformer_encoder_emb=None,\n",
    "    transformer_encoder_layers=0,\n",
    "    transformer_encoder_heads=0,\n",
    "    # Transformer Decoders\n",
    "    transformer_decoder_emb=None,\n",
    "    transformer_decoder_layers=0,\n",
    "    transformer_decoder_heads=0,\n",
    "    transformer_decoder_dim=0,\n",
    ")"
   ]
  },
  {
   "cell_type": "code",
   "execution_count": 4,
   "metadata": {},
   "outputs": [
    {
     "name": "stdout",
     "output_type": "stream",
     "text": [
      "Loading Gwilliams2023 with batch type audio\n",
      "Data partitioned on studies ['gwilliams2023'].\n",
      "Train: 135, Unseen Task: 12, Unseen Subject: 45, Unseen Both: 4.\n",
      "\n",
      "GPU is not NVIDIA V100, A100, or H100. Speedup numbers may be lower than expected.\n",
      "SimpleConv initialized with 8448160 parameters, cond: ['study', 'subject']\n",
      "Merger False, merger channels 0\n",
      "ConvBlocks: 6, hidden_dim: 384, params 7973376\n"
     ]
    }
   ],
   "source": [
    "from train.training_session_v0 import TrainingSessionV0\n",
    "from config import TrainingConfigV0\n",
    "import multiprocessing\n",
    "\n",
    "config = TrainingConfigV0(\n",
    "    brain_encoder_config=model_config,\n",
    "    data_partition=data_partition,\n",
    "    # Pre-processing parameters\n",
    "    # Brain\n",
    "    new_freq=100,\n",
    "    frequency_bands={\"all\": (0.5, 80)},\n",
    "    max_random_shift=1.0,\n",
    "    window_size=4,\n",
    "    window_stride=1,\n",
    "    brain_clipping=20,\n",
    "    baseline_window=0.5,\n",
    "    notch_filter=True,\n",
    "    scaling=\"standard\",\n",
    "    delay=0.30,\n",
    "    # Hyperparameters\n",
    "    learning_rate=3e-4,\n",
    "    weight_decay=1e-4,\n",
    "    epochs=50,\n",
    "    batch_size=256,\n",
    "    use_clip_loss=True,\n",
    "    use_mse_loss=True,\n",
    "    alpha=0.6,\n",
    "    random_test_size=10,\n",
    "    seed=42,\n",
    ")\n",
    "\n",
    "session = TrainingSessionV0(\n",
    "    config=config,\n",
    "    studies={study: \"audio\" for study in data_partition.keys()},\n",
    "    data_path=\"data\",\n",
    "    save_path=\"saves/phase1/ablation/delay/0_30\",\n",
    "    clear_cache=False,\n",
    "    cache_name=\"cache\",\n",
    ")"
   ]
  },
  {
   "cell_type": "code",
   "execution_count": 5,
   "metadata": {},
   "outputs": [
    {
     "name": "stderr",
     "output_type": "stream",
     "text": [
      "2024-12-21 01:07:02,600\tINFO worker.py:1821 -- Started a local Ray instance.\n",
      "Training Epoch 1: 100%|██████████| 135/135 [04:19<00:00,  1.92s/it]\n"
     ]
    },
    {
     "name": "stdout",
     "output_type": "stream",
     "text": [
      "Testing at epoch 1\n",
      "Test unseen_subject completed. Accuracy: 0.0905, Top 1: 0.1405, Top 5: 0.3490, Top 10: 0.4750, Perplexity: 0.0000\n",
      "Test unseen_task completed. Accuracy: 0.0730, Top 1: 0.1062, Top 5: 0.3470, Top 10: 0.4983, Perplexity: 0.0000\n",
      "Test unseen_both completed. Accuracy: 0.0488, Top 1: 0.0975, Top 5: 0.3100, Top 10: 0.4588, Perplexity: 0.0000\n",
      "Epoch 1 completed in 4.80m. 0.04m per recording.\n"
     ]
    },
    {
     "name": "stderr",
     "output_type": "stream",
     "text": [
      "Training Epoch 2: 100%|██████████| 135/135 [05:11<00:00,  2.31s/it]\n"
     ]
    },
    {
     "name": "stdout",
     "output_type": "stream",
     "text": [
      "Testing at epoch 2\n",
      "Test unseen_subject completed. Accuracy: 0.1175, Top 1: 0.1760, Top 5: 0.4030, Top 10: 0.5295, Perplexity: 0.0000\n",
      "Test unseen_task completed. Accuracy: 0.1289, Top 1: 0.1805, Top 5: 0.4448, Top 10: 0.6061, Perplexity: 0.0000\n",
      "Test unseen_both completed. Accuracy: 0.1088, Top 1: 0.1750, Top 5: 0.3962, Top 10: 0.5175, Perplexity: 0.0000\n",
      "Epoch 2 completed in 5.65m. 0.04m per recording.\n"
     ]
    },
    {
     "name": "stderr",
     "output_type": "stream",
     "text": [
      "Training Epoch 3: 100%|██████████| 135/135 [05:05<00:00,  2.26s/it]\n"
     ]
    },
    {
     "name": "stdout",
     "output_type": "stream",
     "text": [
      "Testing at epoch 3\n",
      "Test unseen_subject completed. Accuracy: 0.1225, Top 1: 0.1975, Top 5: 0.4445, Top 10: 0.5705, Perplexity: 0.0000\n",
      "Test unseen_task completed. Accuracy: 0.0942, Top 1: 0.1361, Top 5: 0.4065, Top 10: 0.5778, Perplexity: 0.0000\n",
      "Test unseen_both completed. Accuracy: 0.0737, Top 1: 0.1225, Top 5: 0.3538, Top 10: 0.5062, Perplexity: 0.0000\n",
      "Epoch 3 completed in 5.64m. 0.04m per recording.\n"
     ]
    },
    {
     "name": "stderr",
     "output_type": "stream",
     "text": [
      "Training Epoch 4: 100%|██████████| 135/135 [05:15<00:00,  2.34s/it]\n"
     ]
    },
    {
     "name": "stdout",
     "output_type": "stream",
     "text": [
      "Testing at epoch 4\n",
      "Test unseen_subject completed. Accuracy: 0.1095, Top 1: 0.1725, Top 5: 0.3990, Top 10: 0.5200, Perplexity: 0.0000\n",
      "Test unseen_task completed. Accuracy: 0.1793, Top 1: 0.2452, Top 5: 0.5461, Top 10: 0.6889, Perplexity: 0.0000\n",
      "Test unseen_both completed. Accuracy: 0.1125, Top 1: 0.1912, Top 5: 0.4300, Top 10: 0.5737, Perplexity: 0.0000\n",
      "Epoch 4 completed in 5.73m. 0.04m per recording.\n"
     ]
    },
    {
     "name": "stderr",
     "output_type": "stream",
     "text": [
      "Training Epoch 5: 100%|██████████| 135/135 [05:16<00:00,  2.34s/it]\n"
     ]
    },
    {
     "name": "stdout",
     "output_type": "stream",
     "text": [
      "Testing at epoch 5\n",
      "Test unseen_subject completed. Accuracy: 0.1580, Top 1: 0.2290, Top 5: 0.4755, Top 10: 0.5930, Perplexity: 0.0000\n",
      "Test unseen_task completed. Accuracy: 0.1647, Top 1: 0.2313, Top 5: 0.5251, Top 10: 0.6696, Perplexity: 0.0000\n",
      "Test unseen_both completed. Accuracy: 0.1688, Top 1: 0.2375, Top 5: 0.4725, Top 10: 0.5913, Perplexity: 0.0000\n",
      "Epoch 5 completed in 5.76m. 0.04m per recording.\n"
     ]
    },
    {
     "name": "stderr",
     "output_type": "stream",
     "text": [
      "Training Epoch 6: 100%|██████████| 135/135 [05:13<00:00,  2.32s/it]\n"
     ]
    },
    {
     "name": "stdout",
     "output_type": "stream",
     "text": [
      "Testing at epoch 6\n",
      "Test unseen_subject completed. Accuracy: 0.1510, Top 1: 0.2270, Top 5: 0.4680, Top 10: 0.5615, Perplexity: 0.0000\n",
      "Test unseen_task completed. Accuracy: 0.1356, Top 1: 0.1922, Top 5: 0.4733, Top 10: 0.6221, Perplexity: 0.0000\n",
      "Test unseen_both completed. Accuracy: 0.1163, Top 1: 0.1887, Top 5: 0.4150, Top 10: 0.5300, Perplexity: 0.0000\n",
      "Epoch 6 completed in 5.62m. 0.04m per recording.\n"
     ]
    },
    {
     "name": "stderr",
     "output_type": "stream",
     "text": [
      "Training Epoch 7: 100%|██████████| 135/135 [04:38<00:00,  2.06s/it]\n"
     ]
    },
    {
     "name": "stdout",
     "output_type": "stream",
     "text": [
      "Testing at epoch 7\n",
      "Test unseen_subject completed. Accuracy: 0.1820, Top 1: 0.2560, Top 5: 0.4765, Top 10: 0.5815, Perplexity: 0.0000\n",
      "Test unseen_task completed. Accuracy: 0.1761, Top 1: 0.2468, Top 5: 0.5412, Top 10: 0.6859, Perplexity: 0.0000\n",
      "Test unseen_both completed. Accuracy: 0.1663, Top 1: 0.2375, Top 5: 0.4688, Top 10: 0.5825, Perplexity: 0.0000\n",
      "Epoch 7 completed in 5.00m. 0.04m per recording.\n"
     ]
    },
    {
     "name": "stderr",
     "output_type": "stream",
     "text": [
      "Training Epoch 8: 100%|██████████| 135/135 [04:43<00:00,  2.10s/it]\n"
     ]
    },
    {
     "name": "stdout",
     "output_type": "stream",
     "text": [
      "Testing at epoch 8\n",
      "Test unseen_subject completed. Accuracy: 0.1235, Top 1: 0.1865, Top 5: 0.4430, Top 10: 0.5805, Perplexity: 0.0000\n",
      "Test unseen_task completed. Accuracy: 0.1343, Top 1: 0.1901, Top 5: 0.4977, Top 10: 0.6545, Perplexity: 0.0000\n",
      "Test unseen_both completed. Accuracy: 0.1288, Top 1: 0.2062, Top 5: 0.4263, Top 10: 0.5663, Perplexity: 0.0000\n",
      "Epoch 8 completed in 5.13m. 0.04m per recording.\n"
     ]
    },
    {
     "name": "stderr",
     "output_type": "stream",
     "text": [
      "Training Epoch 9: 100%|██████████| 135/135 [05:51<00:00,  2.61s/it]\n"
     ]
    },
    {
     "name": "stdout",
     "output_type": "stream",
     "text": [
      "Testing at epoch 9\n",
      "Test unseen_subject completed. Accuracy: 0.1460, Top 1: 0.2365, Top 5: 0.4900, Top 10: 0.5915, Perplexity: 0.0000\n",
      "Test unseen_task completed. Accuracy: 0.1756, Top 1: 0.2443, Top 5: 0.5666, Top 10: 0.7113, Perplexity: 0.0000\n",
      "Test unseen_both completed. Accuracy: 0.1650, Top 1: 0.2412, Top 5: 0.4562, Top 10: 0.5850, Perplexity: 0.0000\n",
      "Epoch 9 completed in 6.26m. 0.05m per recording.\n"
     ]
    },
    {
     "name": "stderr",
     "output_type": "stream",
     "text": [
      "Training Epoch 10: 100%|██████████| 135/135 [05:55<00:00,  2.63s/it]\n"
     ]
    },
    {
     "name": "stdout",
     "output_type": "stream",
     "text": [
      "Testing at epoch 10\n",
      "Test unseen_subject completed. Accuracy: 0.1845, Top 1: 0.2565, Top 5: 0.4575, Top 10: 0.5565, Perplexity: 0.0000\n",
      "Test unseen_task completed. Accuracy: 0.1963, Top 1: 0.2628, Top 5: 0.5482, Top 10: 0.6840, Perplexity: 0.0000\n",
      "Test unseen_both completed. Accuracy: 0.1350, Top 1: 0.2137, Top 5: 0.4225, Top 10: 0.5300, Perplexity: 0.0000\n",
      "Epoch 10 completed in 6.33m. 0.05m per recording.\n"
     ]
    },
    {
     "name": "stderr",
     "output_type": "stream",
     "text": [
      "Training Epoch 11: 100%|██████████| 135/135 [05:58<00:00,  2.65s/it]\n"
     ]
    },
    {
     "name": "stdout",
     "output_type": "stream",
     "text": [
      "Testing at epoch 11\n",
      "Test unseen_subject completed. Accuracy: 0.1850, Top 1: 0.2775, Top 5: 0.5175, Top 10: 0.6195, Perplexity: 0.0000\n",
      "Test unseen_task completed. Accuracy: 0.1908, Top 1: 0.2660, Top 5: 0.5598, Top 10: 0.7072, Perplexity: 0.0000\n",
      "Test unseen_both completed. Accuracy: 0.1675, Top 1: 0.2500, Top 5: 0.4825, Top 10: 0.5988, Perplexity: 0.0000\n",
      "Epoch 11 completed in 6.38m. 0.05m per recording.\n"
     ]
    },
    {
     "name": "stderr",
     "output_type": "stream",
     "text": [
      "Training Epoch 12: 100%|██████████| 135/135 [05:52<00:00,  2.61s/it]\n"
     ]
    },
    {
     "name": "stdout",
     "output_type": "stream",
     "text": [
      "Testing at epoch 12\n",
      "Test unseen_subject completed. Accuracy: 0.1865, Top 1: 0.2795, Top 5: 0.5380, Top 10: 0.6415, Perplexity: 0.0000\n",
      "Test unseen_task completed. Accuracy: 0.1733, Top 1: 0.2427, Top 5: 0.5365, Top 10: 0.6829, Perplexity: 0.0000\n",
      "Test unseen_both completed. Accuracy: 0.1638, Top 1: 0.2350, Top 5: 0.4688, Top 10: 0.6050, Perplexity: 0.0000\n",
      "Epoch 12 completed in 6.29m. 0.05m per recording.\n"
     ]
    },
    {
     "name": "stderr",
     "output_type": "stream",
     "text": [
      "Training Epoch 13: 100%|██████████| 135/135 [05:51<00:00,  2.60s/it]\n"
     ]
    },
    {
     "name": "stdout",
     "output_type": "stream",
     "text": [
      "Testing at epoch 13\n",
      "Test unseen_subject completed. Accuracy: 0.1885, Top 1: 0.2630, Top 5: 0.5190, Top 10: 0.6240, Perplexity: 0.0000\n",
      "Test unseen_task completed. Accuracy: 0.2118, Top 1: 0.2827, Top 5: 0.5749, Top 10: 0.7053, Perplexity: 0.0000\n",
      "Test unseen_both completed. Accuracy: 0.1800, Top 1: 0.2425, Top 5: 0.4287, Top 10: 0.5650, Perplexity: 0.0000\n",
      "Epoch 13 completed in 6.27m. 0.05m per recording.\n"
     ]
    },
    {
     "name": "stderr",
     "output_type": "stream",
     "text": [
      "Training Epoch 14: 100%|██████████| 135/135 [05:48<00:00,  2.59s/it]\n"
     ]
    },
    {
     "name": "stdout",
     "output_type": "stream",
     "text": [
      "Testing at epoch 14\n",
      "Test unseen_subject completed. Accuracy: 0.1680, Top 1: 0.2515, Top 5: 0.4885, Top 10: 0.6020, Perplexity: 0.0000\n",
      "Test unseen_task completed. Accuracy: 0.2347, Top 1: 0.3031, Top 5: 0.5826, Top 10: 0.7068, Perplexity: 0.0000\n",
      "Test unseen_both completed. Accuracy: 0.1950, Top 1: 0.2637, Top 5: 0.4637, Top 10: 0.5750, Perplexity: 0.0000\n",
      "Epoch 14 completed in 6.22m. 0.05m per recording.\n"
     ]
    },
    {
     "name": "stderr",
     "output_type": "stream",
     "text": [
      "Training Epoch 15: 100%|██████████| 135/135 [05:52<00:00,  2.61s/it]\n"
     ]
    },
    {
     "name": "stdout",
     "output_type": "stream",
     "text": [
      "Testing at epoch 15\n",
      "Test unseen_subject completed. Accuracy: 0.2190, Top 1: 0.3040, Top 5: 0.5525, Top 10: 0.6365, Perplexity: 0.0000\n",
      "Test unseen_task completed. Accuracy: 0.2385, Top 1: 0.3105, Top 5: 0.6042, Top 10: 0.7376, Perplexity: 0.0000\n",
      "Test unseen_both completed. Accuracy: 0.1763, Top 1: 0.2625, Top 5: 0.4862, Top 10: 0.5863, Perplexity: 0.0000\n",
      "Epoch 15 completed in 6.25m. 0.05m per recording.\n"
     ]
    },
    {
     "name": "stderr",
     "output_type": "stream",
     "text": [
      "Training Epoch 16: 100%|██████████| 135/135 [05:39<00:00,  2.51s/it]\n"
     ]
    },
    {
     "name": "stdout",
     "output_type": "stream",
     "text": [
      "Testing at epoch 16\n",
      "Test unseen_subject completed. Accuracy: 0.1600, Top 1: 0.2420, Top 5: 0.5180, Top 10: 0.6345, Perplexity: 0.0000\n",
      "Test unseen_task completed. Accuracy: 0.1868, Top 1: 0.2566, Top 5: 0.5755, Top 10: 0.7111, Perplexity: 0.0000\n",
      "Test unseen_both completed. Accuracy: 0.1562, Top 1: 0.2288, Top 5: 0.4750, Top 10: 0.5975, Perplexity: 0.0000\n",
      "Epoch 16 completed in 6.03m. 0.04m per recording.\n"
     ]
    },
    {
     "name": "stderr",
     "output_type": "stream",
     "text": [
      "Training Epoch 17: 100%|██████████| 135/135 [05:38<00:00,  2.51s/it]\n"
     ]
    },
    {
     "name": "stdout",
     "output_type": "stream",
     "text": [
      "Testing at epoch 17\n",
      "Test unseen_subject completed. Accuracy: 0.1320, Top 1: 0.1990, Top 5: 0.4610, Top 10: 0.5870, Perplexity: 0.0000\n",
      "Test unseen_task completed. Accuracy: 0.1800, Top 1: 0.2463, Top 5: 0.5310, Top 10: 0.6732, Perplexity: 0.0000\n",
      "Test unseen_both completed. Accuracy: 0.1213, Top 1: 0.1875, Top 5: 0.4075, Top 10: 0.5537, Perplexity: 0.0000\n",
      "Epoch 17 completed in 6.03m. 0.04m per recording.\n"
     ]
    },
    {
     "name": "stderr",
     "output_type": "stream",
     "text": [
      "Training Epoch 18: 100%|██████████| 135/135 [05:34<00:00,  2.48s/it]\n"
     ]
    },
    {
     "name": "stdout",
     "output_type": "stream",
     "text": [
      "Testing at epoch 18\n",
      "Test unseen_subject completed. Accuracy: 0.1815, Top 1: 0.2640, Top 5: 0.5055, Top 10: 0.6120, Perplexity: 0.0000\n",
      "Test unseen_task completed. Accuracy: 0.2044, Top 1: 0.2627, Top 5: 0.5588, Top 10: 0.6884, Perplexity: 0.0000\n",
      "Test unseen_both completed. Accuracy: 0.1575, Top 1: 0.2412, Top 5: 0.4188, Top 10: 0.5400, Perplexity: 0.0000\n",
      "Epoch 18 completed in 5.95m. 0.04m per recording.\n"
     ]
    },
    {
     "name": "stderr",
     "output_type": "stream",
     "text": [
      "Training Epoch 19: 100%|██████████| 135/135 [05:45<00:00,  2.56s/it]\n"
     ]
    },
    {
     "name": "stdout",
     "output_type": "stream",
     "text": [
      "Testing at epoch 19\n",
      "Test unseen_subject completed. Accuracy: 0.1875, Top 1: 0.2730, Top 5: 0.5170, Top 10: 0.6290, Perplexity: 0.0000\n",
      "Test unseen_task completed. Accuracy: 0.2106, Top 1: 0.2812, Top 5: 0.5746, Top 10: 0.7008, Perplexity: 0.0000\n",
      "Test unseen_both completed. Accuracy: 0.1700, Top 1: 0.2625, Top 5: 0.4513, Top 10: 0.5563, Perplexity: 0.0000\n",
      "Epoch 19 completed in 6.14m. 0.05m per recording.\n"
     ]
    },
    {
     "name": "stderr",
     "output_type": "stream",
     "text": [
      "Training Epoch 20: 100%|██████████| 135/135 [05:36<00:00,  2.49s/it]\n"
     ]
    },
    {
     "name": "stdout",
     "output_type": "stream",
     "text": [
      "Testing at epoch 20\n",
      "Test unseen_subject completed. Accuracy: 0.1645, Top 1: 0.2540, Top 5: 0.4965, Top 10: 0.6005, Perplexity: 0.0000\n",
      "Test unseen_task completed. Accuracy: 0.1903, Top 1: 0.2549, Top 5: 0.5425, Top 10: 0.6780, Perplexity: 0.0000\n",
      "Test unseen_both completed. Accuracy: 0.1575, Top 1: 0.2338, Top 5: 0.4725, Top 10: 0.5837, Perplexity: 0.0000\n",
      "Epoch 20 completed in 5.99m. 0.04m per recording.\n"
     ]
    },
    {
     "name": "stderr",
     "output_type": "stream",
     "text": [
      "Training Epoch 21: 100%|██████████| 135/135 [05:36<00:00,  2.49s/it]\n"
     ]
    },
    {
     "name": "stdout",
     "output_type": "stream",
     "text": [
      "Testing at epoch 21\n",
      "Test unseen_subject completed. Accuracy: 0.1670, Top 1: 0.2480, Top 5: 0.4735, Top 10: 0.5905, Perplexity: 0.0000\n",
      "Test unseen_task completed. Accuracy: 0.1757, Top 1: 0.2393, Top 5: 0.5368, Top 10: 0.6719, Perplexity: 0.0000\n",
      "Test unseen_both completed. Accuracy: 0.1450, Top 1: 0.2088, Top 5: 0.4375, Top 10: 0.5575, Perplexity: 0.0000\n",
      "Epoch 21 completed in 5.99m. 0.04m per recording.\n"
     ]
    },
    {
     "name": "stderr",
     "output_type": "stream",
     "text": [
      "Training Epoch 22: 100%|██████████| 135/135 [05:36<00:00,  2.49s/it]\n"
     ]
    },
    {
     "name": "stdout",
     "output_type": "stream",
     "text": [
      "Testing at epoch 22\n",
      "Test unseen_subject completed. Accuracy: 0.1650, Top 1: 0.2350, Top 5: 0.4560, Top 10: 0.5645, Perplexity: 0.0000\n",
      "Test unseen_task completed. Accuracy: 0.1661, Top 1: 0.2243, Top 5: 0.4917, Top 10: 0.6323, Perplexity: 0.0000\n",
      "Test unseen_both completed. Accuracy: 0.1212, Top 1: 0.1812, Top 5: 0.3987, Top 10: 0.5262, Perplexity: 0.0000\n",
      "Epoch 22 completed in 6.00m. 0.04m per recording.\n"
     ]
    },
    {
     "name": "stderr",
     "output_type": "stream",
     "text": [
      "Training Epoch 23: 100%|██████████| 135/135 [05:33<00:00,  2.47s/it]\n"
     ]
    },
    {
     "name": "stdout",
     "output_type": "stream",
     "text": [
      "Testing at epoch 23\n",
      "Test unseen_subject completed. Accuracy: 0.1230, Top 1: 0.2010, Top 5: 0.4400, Top 10: 0.5535, Perplexity: 0.0000\n",
      "Test unseen_task completed. Accuracy: 0.1396, Top 1: 0.1916, Top 5: 0.4519, Top 10: 0.5970, Perplexity: 0.0000\n",
      "Test unseen_both completed. Accuracy: 0.1038, Top 1: 0.1500, Top 5: 0.3563, Top 10: 0.4912, Perplexity: 0.0000\n",
      "Epoch 23 completed in 5.94m. 0.04m per recording.\n"
     ]
    },
    {
     "name": "stderr",
     "output_type": "stream",
     "text": [
      "Training Epoch 24: 100%|██████████| 135/135 [05:38<00:00,  2.51s/it]\n"
     ]
    },
    {
     "name": "stdout",
     "output_type": "stream",
     "text": [
      "Testing at epoch 24\n",
      "Test unseen_subject completed. Accuracy: 0.1600, Top 1: 0.2350, Top 5: 0.4660, Top 10: 0.5730, Perplexity: 0.0000\n",
      "Test unseen_task completed. Accuracy: 0.1712, Top 1: 0.2283, Top 5: 0.5087, Top 10: 0.6476, Perplexity: 0.0000\n",
      "Test unseen_both completed. Accuracy: 0.1288, Top 1: 0.1975, Top 5: 0.4300, Top 10: 0.5475, Perplexity: 0.0000\n",
      "Epoch 24 completed in 6.02m. 0.04m per recording.\n"
     ]
    },
    {
     "name": "stderr",
     "output_type": "stream",
     "text": [
      "Training Epoch 25: 100%|██████████| 135/135 [05:43<00:00,  2.54s/it]\n"
     ]
    },
    {
     "name": "stdout",
     "output_type": "stream",
     "text": [
      "Testing at epoch 25\n",
      "Test unseen_subject completed. Accuracy: 0.1330, Top 1: 0.1965, Top 5: 0.4300, Top 10: 0.5450, Perplexity: 0.0000\n",
      "Test unseen_task completed. Accuracy: 0.1310, Top 1: 0.1774, Top 5: 0.4550, Top 10: 0.5974, Perplexity: 0.0000\n",
      "Test unseen_both completed. Accuracy: 0.0975, Top 1: 0.1550, Top 5: 0.3563, Top 10: 0.4925, Perplexity: 0.0000\n",
      "Epoch 25 completed in 6.11m. 0.05m per recording.\n"
     ]
    },
    {
     "name": "stderr",
     "output_type": "stream",
     "text": [
      "Training Epoch 26: 100%|██████████| 135/135 [05:39<00:00,  2.51s/it]\n"
     ]
    },
    {
     "name": "stdout",
     "output_type": "stream",
     "text": [
      "Testing at epoch 26\n",
      "Test unseen_subject completed. Accuracy: 0.1505, Top 1: 0.2225, Top 5: 0.4680, Top 10: 0.5725, Perplexity: 0.0000\n",
      "Test unseen_task completed. Accuracy: 0.1512, Top 1: 0.2106, Top 5: 0.4831, Top 10: 0.6250, Perplexity: 0.0000\n",
      "Test unseen_both completed. Accuracy: 0.1162, Top 1: 0.1787, Top 5: 0.4000, Top 10: 0.5288, Perplexity: 0.0000\n",
      "Epoch 26 completed in 6.05m. 0.04m per recording.\n",
      "Early stopping at epoch 26. Highest top 10 accuracy at epoch 15.\n",
      "Training completed.\n",
      "unseen_subject: Acc: 0.2190, Top 1: 0.3040, Top 5: 0.5525, Top 10: 0.6365\n",
      "unseen_task: Acc: 0.2385, Top 1: 0.3105, Top 5: 0.6042, Top 10: 0.7376\n",
      "unseen_both: Acc: 0.1763, Top 1: 0.2625, Top 5: 0.4862, Top 10: 0.5863\n"
     ]
    }
   ],
   "source": [
    "try:\n",
    "    session.train(\n",
    "        device=\"cuda\",\n",
    "        buffer_size=30,\n",
    "        num_workers=(multiprocessing.cpu_count() - 2) // 2,\n",
    "        max_cache_size=400,\n",
    "        current_epoch=0,\n",
    "    )\n",
    "except KeyboardInterrupt as e:\n",
    "    print(\"Exited\")"
   ]
  },
  {
   "cell_type": "markdown",
   "metadata": {},
   "source": [
    "## Baseline corr 10s"
   ]
  },
  {
   "cell_type": "code",
   "execution_count": 6,
   "metadata": {},
   "outputs": [
    {
     "name": "stdout",
     "output_type": "stream",
     "text": [
      "Loading Gwilliams2023 with batch type audio\n",
      "Cleared cache for study gwilliams2023\n",
      "Data partitioned on studies ['gwilliams2023'].\n",
      "Train: 135, Unseen Task: 12, Unseen Subject: 45, Unseen Both: 4.\n",
      "\n",
      "GPU is not NVIDIA V100, A100, or H100. Speedup numbers may be lower than expected.\n",
      "SimpleConv initialized with 8448160 parameters, cond: ['study', 'subject']\n",
      "Merger False, merger channels 0\n",
      "ConvBlocks: 6, hidden_dim: 384, params 7973376\n"
     ]
    },
    {
     "name": "stderr",
     "output_type": "stream",
     "text": [
      "Training Epoch 1: 100%|██████████| 135/135 [34:40<00:00, 15.41s/it] \n"
     ]
    },
    {
     "name": "stdout",
     "output_type": "stream",
     "text": [
      "Testing at epoch 1\n",
      "Test unseen_subject completed. Accuracy: 0.0815, Top 1: 0.1250, Top 5: 0.3520, Top 10: 0.4880, Perplexity: 0.0000\n",
      "Test unseen_task completed. Accuracy: 0.0753, Top 1: 0.1097, Top 5: 0.3556, Top 10: 0.5264, Perplexity: 0.0000\n",
      "Test unseen_both completed. Accuracy: 0.0688, Top 1: 0.1275, Top 5: 0.3287, Top 10: 0.4625, Perplexity: 0.0000\n",
      "Epoch 1 completed in 41.04m. 0.30m per recording.\n"
     ]
    },
    {
     "name": "stderr",
     "output_type": "stream",
     "text": [
      "Training Epoch 2: 100%|██████████| 135/135 [04:42<00:00,  2.09s/it]\n"
     ]
    },
    {
     "name": "stdout",
     "output_type": "stream",
     "text": [
      "Testing at epoch 2\n",
      "Test unseen_subject completed. Accuracy: 0.0470, Top 1: 0.0835, Top 5: 0.2705, Top 10: 0.3995, Perplexity: 0.0000\n",
      "Test unseen_task completed. Accuracy: 0.0582, Top 1: 0.0891, Top 5: 0.2746, Top 10: 0.4205, Perplexity: 0.0000\n",
      "Test unseen_both completed. Accuracy: 0.0462, Top 1: 0.0837, Top 5: 0.2913, Top 10: 0.4075, Perplexity: 0.0000\n",
      "Epoch 2 completed in 5.14m. 0.04m per recording.\n"
     ]
    },
    {
     "name": "stderr",
     "output_type": "stream",
     "text": [
      "Training Epoch 3: 100%|██████████| 135/135 [04:44<00:00,  2.11s/it]\n"
     ]
    },
    {
     "name": "stdout",
     "output_type": "stream",
     "text": [
      "Testing at epoch 3\n",
      "Test unseen_subject completed. Accuracy: 0.1180, Top 1: 0.1850, Top 5: 0.4295, Top 10: 0.5610, Perplexity: 0.0000\n",
      "Test unseen_task completed. Accuracy: 0.1371, Top 1: 0.1907, Top 5: 0.4607, Top 10: 0.6172, Perplexity: 0.0000\n",
      "Test unseen_both completed. Accuracy: 0.0963, Top 1: 0.1713, Top 5: 0.4012, Top 10: 0.5350, Perplexity: 0.0000\n",
      "Epoch 3 completed in 5.16m. 0.04m per recording.\n"
     ]
    },
    {
     "name": "stderr",
     "output_type": "stream",
     "text": [
      "Training Epoch 4: 100%|██████████| 135/135 [04:44<00:00,  2.10s/it]\n"
     ]
    },
    {
     "name": "stdout",
     "output_type": "stream",
     "text": [
      "Testing at epoch 4\n",
      "Test unseen_subject completed. Accuracy: 0.1015, Top 1: 0.1680, Top 5: 0.3925, Top 10: 0.5285, Perplexity: 0.0000\n",
      "Test unseen_task completed. Accuracy: 0.1169, Top 1: 0.1683, Top 5: 0.4508, Top 10: 0.6071, Perplexity: 0.0000\n",
      "Test unseen_both completed. Accuracy: 0.0938, Top 1: 0.1450, Top 5: 0.3712, Top 10: 0.5112, Perplexity: 0.0000\n",
      "Epoch 4 completed in 5.18m. 0.04m per recording.\n"
     ]
    },
    {
     "name": "stderr",
     "output_type": "stream",
     "text": [
      "Training Epoch 5: 100%|██████████| 135/135 [04:42<00:00,  2.09s/it]\n"
     ]
    },
    {
     "name": "stdout",
     "output_type": "stream",
     "text": [
      "Testing at epoch 5\n",
      "Test unseen_subject completed. Accuracy: 0.0975, Top 1: 0.1595, Top 5: 0.4110, Top 10: 0.5460, Perplexity: 0.0000\n",
      "Test unseen_task completed. Accuracy: 0.1275, Top 1: 0.1805, Top 5: 0.4802, Top 10: 0.6380, Perplexity: 0.0000\n",
      "Test unseen_both completed. Accuracy: 0.1113, Top 1: 0.1750, Top 5: 0.4425, Top 10: 0.5587, Perplexity: 0.0000\n",
      "Epoch 5 completed in 5.16m. 0.04m per recording.\n"
     ]
    },
    {
     "name": "stderr",
     "output_type": "stream",
     "text": [
      "Training Epoch 6: 100%|██████████| 135/135 [04:34<00:00,  2.03s/it]\n"
     ]
    },
    {
     "name": "stdout",
     "output_type": "stream",
     "text": [
      "Testing at epoch 6\n",
      "Test unseen_subject completed. Accuracy: 0.1600, Top 1: 0.2445, Top 5: 0.4640, Top 10: 0.5670, Perplexity: 0.0000\n",
      "Test unseen_task completed. Accuracy: 0.1607, Top 1: 0.2203, Top 5: 0.5180, Top 10: 0.6654, Perplexity: 0.0000\n",
      "Test unseen_both completed. Accuracy: 0.1513, Top 1: 0.2313, Top 5: 0.4637, Top 10: 0.5650, Perplexity: 0.0000\n",
      "Epoch 6 completed in 4.93m. 0.04m per recording.\n"
     ]
    },
    {
     "name": "stderr",
     "output_type": "stream",
     "text": [
      "Training Epoch 7: 100%|██████████| 135/135 [04:14<00:00,  1.88s/it]\n"
     ]
    },
    {
     "name": "stdout",
     "output_type": "stream",
     "text": [
      "Testing at epoch 7\n",
      "Test unseen_subject completed. Accuracy: 0.1265, Top 1: 0.2025, Top 5: 0.4420, Top 10: 0.5670, Perplexity: 0.0000\n",
      "Test unseen_task completed. Accuracy: 0.1771, Top 1: 0.2448, Top 5: 0.5430, Top 10: 0.6826, Perplexity: 0.0000\n",
      "Test unseen_both completed. Accuracy: 0.1475, Top 1: 0.2175, Top 5: 0.4700, Top 10: 0.5725, Perplexity: 0.0000\n",
      "Epoch 7 completed in 4.67m. 0.03m per recording.\n"
     ]
    },
    {
     "name": "stderr",
     "output_type": "stream",
     "text": [
      "Training Epoch 8: 100%|██████████| 135/135 [04:24<00:00,  1.96s/it]\n"
     ]
    },
    {
     "name": "stdout",
     "output_type": "stream",
     "text": [
      "Testing at epoch 8\n",
      "Test unseen_subject completed. Accuracy: 0.1510, Top 1: 0.2335, Top 5: 0.4700, Top 10: 0.6000, Perplexity: 0.0000\n",
      "Test unseen_task completed. Accuracy: 0.1991, Top 1: 0.2674, Top 5: 0.5747, Top 10: 0.7116, Perplexity: 0.0000\n",
      "Test unseen_both completed. Accuracy: 0.1575, Top 1: 0.2425, Top 5: 0.4813, Top 10: 0.6038, Perplexity: 0.0000\n",
      "Epoch 8 completed in 4.85m. 0.04m per recording.\n"
     ]
    },
    {
     "name": "stderr",
     "output_type": "stream",
     "text": [
      "Training Epoch 9: 100%|██████████| 135/135 [05:24<00:00,  2.40s/it]\n"
     ]
    },
    {
     "name": "stdout",
     "output_type": "stream",
     "text": [
      "Testing at epoch 9\n",
      "Test unseen_subject completed. Accuracy: 0.1830, Top 1: 0.2715, Top 5: 0.5120, Top 10: 0.6175, Perplexity: 0.0000\n",
      "Test unseen_task completed. Accuracy: 0.1971, Top 1: 0.2678, Top 5: 0.5807, Top 10: 0.7298, Perplexity: 0.0000\n",
      "Test unseen_both completed. Accuracy: 0.1862, Top 1: 0.2575, Top 5: 0.5150, Top 10: 0.6325, Perplexity: 0.0000\n",
      "Epoch 9 completed in 5.84m. 0.04m per recording.\n"
     ]
    },
    {
     "name": "stderr",
     "output_type": "stream",
     "text": [
      "Training Epoch 10: 100%|██████████| 135/135 [05:24<00:00,  2.40s/it]\n"
     ]
    },
    {
     "name": "stdout",
     "output_type": "stream",
     "text": [
      "Testing at epoch 10\n",
      "Test unseen_subject completed. Accuracy: 0.1980, Top 1: 0.2930, Top 5: 0.5185, Top 10: 0.6170, Perplexity: 0.0000\n",
      "Test unseen_task completed. Accuracy: 0.2066, Top 1: 0.2741, Top 5: 0.5653, Top 10: 0.7071, Perplexity: 0.0000\n",
      "Test unseen_both completed. Accuracy: 0.1887, Top 1: 0.2575, Top 5: 0.4863, Top 10: 0.6000, Perplexity: 0.0000\n",
      "Epoch 10 completed in 5.85m. 0.04m per recording.\n"
     ]
    },
    {
     "name": "stderr",
     "output_type": "stream",
     "text": [
      "Training Epoch 11: 100%|██████████| 135/135 [05:22<00:00,  2.39s/it]\n"
     ]
    },
    {
     "name": "stdout",
     "output_type": "stream",
     "text": [
      "Testing at epoch 11\n",
      "Test unseen_subject completed. Accuracy: 0.2025, Top 1: 0.2885, Top 5: 0.5040, Top 10: 0.6080, Perplexity: 0.0000\n",
      "Test unseen_task completed. Accuracy: 0.2198, Top 1: 0.2920, Top 5: 0.5963, Top 10: 0.7217, Perplexity: 0.0000\n",
      "Test unseen_both completed. Accuracy: 0.1438, Top 1: 0.2288, Top 5: 0.4588, Top 10: 0.5737, Perplexity: 0.0000\n",
      "Epoch 11 completed in 5.80m. 0.04m per recording.\n"
     ]
    },
    {
     "name": "stderr",
     "output_type": "stream",
     "text": [
      "Training Epoch 12: 100%|██████████| 135/135 [05:24<00:00,  2.41s/it]\n"
     ]
    },
    {
     "name": "stdout",
     "output_type": "stream",
     "text": [
      "Testing at epoch 12\n",
      "Test unseen_subject completed. Accuracy: 0.1510, Top 1: 0.2305, Top 5: 0.4760, Top 10: 0.6000, Perplexity: 0.0000\n",
      "Test unseen_task completed. Accuracy: 0.1989, Top 1: 0.2666, Top 5: 0.5772, Top 10: 0.7162, Perplexity: 0.0000\n",
      "Test unseen_both completed. Accuracy: 0.1825, Top 1: 0.2538, Top 5: 0.5025, Top 10: 0.6212, Perplexity: 0.0000\n",
      "Epoch 12 completed in 5.84m. 0.04m per recording.\n"
     ]
    },
    {
     "name": "stderr",
     "output_type": "stream",
     "text": [
      "Training Epoch 13: 100%|██████████| 135/135 [05:25<00:00,  2.41s/it]\n"
     ]
    },
    {
     "name": "stdout",
     "output_type": "stream",
     "text": [
      "Testing at epoch 13\n",
      "Test unseen_subject completed. Accuracy: 0.1805, Top 1: 0.2685, Top 5: 0.5085, Top 10: 0.6120, Perplexity: 0.0000\n",
      "Test unseen_task completed. Accuracy: 0.1802, Top 1: 0.2439, Top 5: 0.5447, Top 10: 0.6885, Perplexity: 0.0000\n",
      "Test unseen_both completed. Accuracy: 0.1300, Top 1: 0.2025, Top 5: 0.4738, Top 10: 0.5725, Perplexity: 0.0000\n",
      "Epoch 13 completed in 5.86m. 0.04m per recording.\n"
     ]
    },
    {
     "name": "stderr",
     "output_type": "stream",
     "text": [
      "Training Epoch 14: 100%|██████████| 135/135 [05:23<00:00,  2.40s/it]\n"
     ]
    },
    {
     "name": "stdout",
     "output_type": "stream",
     "text": [
      "Testing at epoch 14\n",
      "Test unseen_subject completed. Accuracy: 0.1455, Top 1: 0.2150, Top 5: 0.4240, Top 10: 0.5455, Perplexity: 0.0000\n",
      "Test unseen_task completed. Accuracy: 0.2076, Top 1: 0.2787, Top 5: 0.5555, Top 10: 0.6764, Perplexity: 0.0000\n",
      "Test unseen_both completed. Accuracy: 0.1575, Top 1: 0.2150, Top 5: 0.4125, Top 10: 0.5350, Perplexity: 0.0000\n",
      "Epoch 14 completed in 5.82m. 0.04m per recording.\n"
     ]
    },
    {
     "name": "stderr",
     "output_type": "stream",
     "text": [
      "Training Epoch 15: 100%|██████████| 135/135 [05:24<00:00,  2.41s/it]\n"
     ]
    },
    {
     "name": "stdout",
     "output_type": "stream",
     "text": [
      "Testing at epoch 15\n",
      "Test unseen_subject completed. Accuracy: 0.2030, Top 1: 0.2895, Top 5: 0.5395, Top 10: 0.6450, Perplexity: 0.0000\n",
      "Test unseen_task completed. Accuracy: 0.2063, Top 1: 0.2759, Top 5: 0.5691, Top 10: 0.6996, Perplexity: 0.0000\n",
      "Test unseen_both completed. Accuracy: 0.1800, Top 1: 0.2662, Top 5: 0.5075, Top 10: 0.6287, Perplexity: 0.0000\n",
      "Epoch 15 completed in 5.86m. 0.04m per recording.\n"
     ]
    },
    {
     "name": "stderr",
     "output_type": "stream",
     "text": [
      "Training Epoch 16: 100%|██████████| 135/135 [05:24<00:00,  2.40s/it]\n"
     ]
    },
    {
     "name": "stdout",
     "output_type": "stream",
     "text": [
      "Testing at epoch 16\n",
      "Test unseen_subject completed. Accuracy: 0.1925, Top 1: 0.2780, Top 5: 0.5120, Top 10: 0.6200, Perplexity: 0.0000\n",
      "Test unseen_task completed. Accuracy: 0.2310, Top 1: 0.3102, Top 5: 0.6048, Top 10: 0.7392, Perplexity: 0.0000\n",
      "Test unseen_both completed. Accuracy: 0.1700, Top 1: 0.2662, Top 5: 0.5062, Top 10: 0.5962, Perplexity: 0.0000\n",
      "Epoch 16 completed in 5.84m. 0.04m per recording.\n"
     ]
    },
    {
     "name": "stderr",
     "output_type": "stream",
     "text": [
      "Training Epoch 17: 100%|██████████| 135/135 [05:20<00:00,  2.38s/it]\n"
     ]
    },
    {
     "name": "stdout",
     "output_type": "stream",
     "text": [
      "Testing at epoch 17\n",
      "Test unseen_subject completed. Accuracy: 0.1475, Top 1: 0.2325, Top 5: 0.4580, Top 10: 0.5755, Perplexity: 0.0000\n",
      "Test unseen_task completed. Accuracy: 0.1977, Top 1: 0.2665, Top 5: 0.5643, Top 10: 0.6973, Perplexity: 0.0000\n",
      "Test unseen_both completed. Accuracy: 0.1413, Top 1: 0.2112, Top 5: 0.4225, Top 10: 0.5487, Perplexity: 0.0000\n",
      "Epoch 17 completed in 5.79m. 0.04m per recording.\n"
     ]
    },
    {
     "name": "stderr",
     "output_type": "stream",
     "text": [
      "Training Epoch 18: 100%|██████████| 135/135 [05:22<00:00,  2.39s/it]\n"
     ]
    },
    {
     "name": "stdout",
     "output_type": "stream",
     "text": [
      "Testing at epoch 18\n",
      "Test unseen_subject completed. Accuracy: 0.1555, Top 1: 0.2405, Top 5: 0.4945, Top 10: 0.6055, Perplexity: 0.0000\n",
      "Test unseen_task completed. Accuracy: 0.2291, Top 1: 0.3078, Top 5: 0.6113, Top 10: 0.7523, Perplexity: 0.0000\n",
      "Test unseen_both completed. Accuracy: 0.1588, Top 1: 0.2412, Top 5: 0.4775, Top 10: 0.5975, Perplexity: 0.0000\n",
      "Epoch 18 completed in 5.80m. 0.04m per recording.\n"
     ]
    },
    {
     "name": "stderr",
     "output_type": "stream",
     "text": [
      "Training Epoch 19: 100%|██████████| 135/135 [05:22<00:00,  2.39s/it]\n"
     ]
    },
    {
     "name": "stdout",
     "output_type": "stream",
     "text": [
      "Testing at epoch 19\n",
      "Test unseen_subject completed. Accuracy: 0.1335, Top 1: 0.2095, Top 5: 0.4620, Top 10: 0.5745, Perplexity: 0.0000\n",
      "Test unseen_task completed. Accuracy: 0.1771, Top 1: 0.2467, Top 5: 0.5441, Top 10: 0.6935, Perplexity: 0.0000\n",
      "Test unseen_both completed. Accuracy: 0.1200, Top 1: 0.1963, Top 5: 0.4637, Top 10: 0.5737, Perplexity: 0.0000\n",
      "Epoch 19 completed in 5.82m. 0.04m per recording.\n"
     ]
    },
    {
     "name": "stderr",
     "output_type": "stream",
     "text": [
      "Training Epoch 20: 100%|██████████| 135/135 [05:24<00:00,  2.41s/it]\n"
     ]
    },
    {
     "name": "stdout",
     "output_type": "stream",
     "text": [
      "Testing at epoch 20\n",
      "Test unseen_subject completed. Accuracy: 0.1640, Top 1: 0.2505, Top 5: 0.4945, Top 10: 0.6030, Perplexity: 0.0000\n",
      "Test unseen_task completed. Accuracy: 0.1628, Top 1: 0.2238, Top 5: 0.5078, Top 10: 0.6530, Perplexity: 0.0000\n",
      "Test unseen_both completed. Accuracy: 0.1250, Top 1: 0.1963, Top 5: 0.4350, Top 10: 0.5537, Perplexity: 0.0000\n",
      "Epoch 20 completed in 5.85m. 0.04m per recording.\n",
      "Early stopping at epoch 20. Highest top 10 accuracy at epoch 9.\n",
      "Training completed.\n",
      "unseen_subject: Acc: 0.1830, Top 1: 0.2715, Top 5: 0.5120, Top 10: 0.6175\n",
      "unseen_task: Acc: 0.1971, Top 1: 0.2678, Top 5: 0.5807, Top 10: 0.7298\n",
      "unseen_both: Acc: 0.1862, Top 1: 0.2575, Top 5: 0.5150, Top 10: 0.6325\n"
     ]
    }
   ],
   "source": [
    "del session.logger\n",
    "del session\n",
    "\n",
    "from pickle import NONE\n",
    "from train.training_session_v0 import TrainingSessionV0\n",
    "from config import TrainingConfigV0\n",
    "import multiprocessing\n",
    "\n",
    "data_partition = {\n",
    "    \"gwilliams2023\": {\n",
    "        \"testing_subjects\": [19, 20, 21],\n",
    "        \"testing_tasks\": [0],\n",
    "    },\n",
    "    # \"schoffelen2022\": {\n",
    "    #     \"testing_subjects\": [],\n",
    "    #     \"testing_tasks\": [8, 9],\n",
    "    # },\n",
    "}\n",
    "\n",
    "from config import SimpleConvConfig\n",
    "from models.simpleconv import SimpleConv\n",
    "import torch\n",
    "\n",
    "model_config = SimpleConvConfig(\n",
    "    # Str to list of possible conditions\n",
    "    mel_normalization=False,\n",
    "    conditions={\n",
    "        \"study\": [],\n",
    "        \"subject\": [],\n",
    "    },\n",
    "    # Channels\n",
    "    in_channels=208,\n",
    "    out_channels=128,\n",
    "    hidden_dim=384,\n",
    "    dropout=0.2,\n",
    "    initial_batch_norm=True,\n",
    "    # Sensor layout settings\n",
    "    layout_dim=2,\n",
    "    layout_proj=True,\n",
    "    layout_scaling=\"minmax\",\n",
    "    # Merger with spatial attn\n",
    "    merger=False,\n",
    "    merger_emb_type=None,\n",
    "    merger_emb_dim=0,\n",
    "    merger_channels=0,\n",
    "    merger_dropout=False,\n",
    "    merger_conditional=None,\n",
    "    # Inital\n",
    "    initial_linear=384,\n",
    "    initial_depth=1,\n",
    "    # Conditional layers\n",
    "    conditional_layers=False,\n",
    "    conditional_layers_dim=None,  # input or hidden_dim\n",
    "    # Conv layer overall structure\n",
    "    depth=6,\n",
    "    kernel_size=3,\n",
    "    growth=1.0,\n",
    "    dilation_growth=2,\n",
    "    dilation_period=5,\n",
    "    glu=1,\n",
    "    conv_dropout=0.2,\n",
    "    dropout_input=0.2,\n",
    "    batch_norm=True,\n",
    "    # Quantizer\n",
    "    quantizer=False,\n",
    "    num_codebooks=0,\n",
    "    codebook_size=0,\n",
    "    quantizer_commitment=0,\n",
    "    quantizer_temp_init=0,\n",
    "    quantizer_temp_min=0,\n",
    "    quantizer_temp_decay=0,\n",
    "    # Transformers Encoders\n",
    "    transformer_input=None,\n",
    "    transformer_encoder_emb=None,\n",
    "    transformer_encoder_layers=0,\n",
    "    transformer_encoder_heads=0,\n",
    "    # Transformer Decoders\n",
    "    transformer_decoder_emb=None,\n",
    "    transformer_decoder_layers=0,\n",
    "    transformer_decoder_heads=0,\n",
    "    transformer_decoder_dim=0,\n",
    ")\n",
    "\n",
    "config = TrainingConfigV0(\n",
    "    brain_encoder_config=model_config,\n",
    "    data_partition=data_partition,\n",
    "    # Pre-processing parameters\n",
    "    # Brain\n",
    "    new_freq=100,\n",
    "    frequency_bands={\"all\": (0.5, 80)},\n",
    "    max_random_shift=1.0,\n",
    "    window_size=4,\n",
    "    window_stride=1,\n",
    "    brain_clipping=20,\n",
    "    baseline_window=10,\n",
    "    notch_filter=True,\n",
    "    scaling=\"standard\",\n",
    "    delay=0.15,\n",
    "    # Hyperparameters\n",
    "    learning_rate=3e-4,\n",
    "    weight_decay=1e-4,\n",
    "    epochs=50,\n",
    "    batch_size=256,\n",
    "    use_clip_loss=True,\n",
    "    use_mse_loss=True,\n",
    "    alpha=0.6,\n",
    "    random_test_size=10,\n",
    "    seed=42,\n",
    ")\n",
    "\n",
    "session = TrainingSessionV0(\n",
    "    config=config,\n",
    "    studies={study: \"audio\" for study in data_partition.keys()},\n",
    "    data_path=\"data\",\n",
    "    save_path=\"saves/phase1/ablation/baseline_10_sec\",\n",
    "    clear_cache=True,\n",
    "    cache_name=\"cache\",\n",
    ")\n",
    "\n",
    "try:\n",
    "    session.train(\n",
    "        device=\"cuda\",\n",
    "        buffer_size=30,\n",
    "        num_workers=(multiprocessing.cpu_count() - 2) // 2,\n",
    "        max_cache_size=400,\n",
    "        current_epoch=0,\n",
    "    )\n",
    "except KeyboardInterrupt as e:\n",
    "    print(\"Exited\")"
   ]
  },
  {
   "cell_type": "code",
   "execution_count": null,
   "metadata": {},
   "outputs": [],
   "source": []
  }
 ],
 "metadata": {
  "kernelspec": {
   "display_name": "brain",
   "language": "python",
   "name": "python3"
  },
  "language_info": {
   "codemirror_mode": {
    "name": "ipython",
    "version": 3
   },
   "file_extension": ".py",
   "mimetype": "text/x-python",
   "name": "python",
   "nbconvert_exporter": "python",
   "pygments_lexer": "ipython3",
   "version": "3.11.7"
  }
 },
 "nbformat": 4,
 "nbformat_minor": 4
}
