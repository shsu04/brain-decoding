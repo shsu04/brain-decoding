{
 "cells": [
  {
   "cell_type": "code",
   "execution_count": 1,
   "metadata": {},
   "outputs": [],
   "source": [
    "data_partition = {\n",
    "        \"gwilliams2023\": {\n",
    "            \"testing_subjects\": [19, 20, 21],\n",
    "            \"testing_tasks\": [0],\n",
    "        }\n",
    "        # \"schoffelen2022\": {\n",
    "        #     \"testing_subjects\": [],\n",
    "        #     \"testing_tasks\": [8, 9],\n",
    "        # },\n",
    "}"
   ]
  },
  {
   "cell_type": "code",
   "execution_count": 2,
   "metadata": {},
   "outputs": [],
   "source": [
    "# from utils.compression import compress_directories, decompress_directories\n",
    "\n",
    "# for base_path, batch_type in data_partition.items():\n",
    "#     decompress_directories(\n",
    "#         source_path=f'downloaded_data/{base_path}',\n",
    "#         destination_path=f'data/{base_path}',\n",
    "#         checksum_file_name=\"checksums.txt\",\n",
    "#         delete_compressed_files=True,\n",
    "#         num_workers=None\n",
    "#     )"
   ]
  },
  {
   "cell_type": "code",
   "execution_count": 3,
   "metadata": {},
   "outputs": [],
   "source": [
    "from config import SimpleConvConfig\n",
    "from models.simpleconv import SimpleConv\n",
    "import torch\n",
    "\n",
    "model_config = SimpleConvConfig(\n",
    "    # Str to list of possible conditions\n",
    "    mel_normalization=False,\n",
    "    conditions=None,\n",
    "    # Channels\n",
    "    in_channels=208,\n",
    "    out_channels=128,\n",
    "    hidden_dim=256,\n",
    "    dropout=0.2,\n",
    "    initial_batch_norm=False,\n",
    "    # Sensor layout settings\n",
    "    layout_dim=2,\n",
    "    layout_proj=True,\n",
    "    layout_scaling=\"minmax\",\n",
    "    # Merger with spatial attn\n",
    "    merger=False,\n",
    "    merger_emb_type=None,\n",
    "    merger_emb_dim=None,\n",
    "    merger_channels=None,\n",
    "    merger_dropout=None,\n",
    "    merger_conditional=None,\n",
    "    # Inital\n",
    "    initial_linear=False,\n",
    "    initial_depth=0,\n",
    "    # Conditional layers\n",
    "    conditional_layers=False,\n",
    "    conditional_layers_dim=None,  # input or hidden_dim\n",
    "    # Conv layer overall structure\n",
    "    depth=4,\n",
    "    kernel_size=3,\n",
    "    growth=1.0,\n",
    "    dilation_growth=2,\n",
    "    dilation_period=5,\n",
    "    glu=1,\n",
    "    conv_dropout=0.2,\n",
    "    dropout_input=0.2,\n",
    "    batch_norm=True,\n",
    "    # Quantizer\n",
    "    quantizer=False,\n",
    "    num_codebooks=0,\n",
    "    codebook_size=0,\n",
    "    quantizer_commitment=0,\n",
    "    quantizer_temp_init=0,\n",
    "    quantizer_temp_min=0,\n",
    "    quantizer_temp_decay=0,\n",
    "    # Transformers Encoders\n",
    "    transformer_input=False,\n",
    "    transformer_encoder_emb=None,\n",
    "    transformer_encoder_layers=0,\n",
    "    transformer_encoder_heads=0,\n",
    "    # Transformer Decoders\n",
    "    transformer_decoder_emb=None,\n",
    "    transformer_decoder_layers=0,\n",
    "    transformer_decoder_heads=0,\n",
    "    transformer_decoder_dim=0,\n",
    ")"
   ]
  },
  {
   "cell_type": "code",
   "execution_count": null,
   "metadata": {},
   "outputs": [],
   "source": [
    "from sympy import false\n",
    "from train.training_session_v0 import TrainingSessionV0\n",
    "from config import TrainingConfigV0\n",
    "import multiprocessing\n",
    "\n",
    "config = TrainingConfigV0(\n",
    "    brain_encoder_config=model_config,\n",
    "    data_partition=data_partition,\n",
    "    # Pre-processing parameters\n",
    "    # Brain\n",
    "    new_freq=100,\n",
    "    frequency_bands={'all': (None, None)},\n",
    "    max_random_shift=1.0,\n",
    "    window_size= 4,\n",
    "    window_stride=1,\n",
    "    brain_clipping=None,\n",
    "    baseline_window=None,\n",
    "    notch_filter=True,\n",
    "    scaling='both',\n",
    "    # Hyperparameters\n",
    "    learning_rate = 3e-4,\n",
    "    weight_decay = 1e-4,\n",
    "    epochs = 50,\n",
    "    batch_size = 256,\n",
    "    use_clip_loss = True,\n",
    "    use_mse_loss = True,\n",
    "    alpha =0.6,\n",
    "    random_test_size =10,\n",
    "    seed = 42,\n",
    ")\n",
    "\n",
    "session = TrainingSessionV0(\n",
    "    config=config,\n",
    "    studies={\"gwilliams2023\": 'audio'},\n",
    "    data_path='data',\n",
    "    save_path='saves/Dec17_CLIP_MSE_wasserstein',\n",
    "    clear_cache=False,\n",
    ")"
   ]
  },
  {
   "cell_type": "code",
   "execution_count": null,
   "metadata": {},
   "outputs": [
    {
     "name": "stderr",
     "output_type": "stream",
     "text": [
      "Exception ignored in: <bound method IPythonKernel._clean_thread_parent_frames of <ipykernel.ipkernel.IPythonKernel object at 0x7a3b43338c50>>\n",
      "Traceback (most recent call last):\n",
      "  File \"/home/ubuntu/miniconda3/envs/brain/lib/python3.11/site-packages/ipykernel/ipkernel.py\", line 775, in _clean_thread_parent_frames\n",
      "    def _clean_thread_parent_frames(\n",
      "\n",
      "KeyboardInterrupt: \n",
      "Training Epoch 5: 100%|██████████| 135/135 [02:35<00:00,  1.15s/it]\n"
     ]
    },
    {
     "name": "stdout",
     "output_type": "stream",
     "text": [
      "Testing at epoch 5\n",
      "Test unseen_subject completed. Accuracy: 0.0583, Top 1: 0.0757, Top 5: 0.2537, Top 10: 0.3778, Perplexity: 0.0000\n"
     ]
    }
   ],
   "source": [
    "try:\n",
    "    session.train(\n",
    "        device='cuda',\n",
    "        buffer_size=30,\n",
    "        num_workers=multiprocessing.cpu_count() - 2,\n",
    "        max_cache_size=200,\n",
    "        current_epoch=0,\n",
    "    )\n",
    "except KeyboardInterrupt as e:\n",
    "    print('Exited')"
   ]
  },
  {
   "cell_type": "code",
   "execution_count": null,
   "metadata": {},
   "outputs": [],
   "source": []
  }
 ],
 "metadata": {
  "kernelspec": {
   "display_name": "brain",
   "language": "python",
   "name": "python3"
  },
  "language_info": {
   "codemirror_mode": {
    "name": "ipython",
    "version": 3
   },
   "file_extension": ".py",
   "mimetype": "text/x-python",
   "name": "python",
   "nbconvert_exporter": "python",
   "pygments_lexer": "ipython3",
   "version": "3.11.7"
  }
 },
 "nbformat": 4,
 "nbformat_minor": 4
}
