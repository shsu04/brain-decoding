{
 "cells": [
  {
   "cell_type": "code",
   "execution_count": null,
   "metadata": {},
   "outputs": [
    {
     "name": "stdout",
     "output_type": "stream",
     "text": [
      "Loading Gwilliams2023 with batch type audio\n",
      "Cleared cache for study gwilliams2023\n",
      "Data partitioned on studies ['gwilliams2023'].\n",
      "Train: 135, Unseen Task: 12, Unseen Subject: 45, Unseen Both: 4.\n",
      "\n",
      "SimpleConv initialized with 9332896 parameters, cond: ['study', 'subject']\n",
      "Merger False, merger channels 0\n",
      "ConvBlocks: 6, hidden_dim: 384, params 8858112\n"
     ]
    },
    {
     "name": "stderr",
     "output_type": "stream",
     "text": [
      "2025-01-25 20:51:58,493\tINFO worker.py:1841 -- Started a local Ray instance.\n",
      "Training Epoch 1: 100%|██████████| 135/135 [21:29<00:00,  9.55s/it] \n"
     ]
    },
    {
     "name": "stdout",
     "output_type": "stream",
     "text": [
      "Epoch 1 completed. Loss: 6.1302, Clip Loss: 10.0194, MSE Loss: 0.2965\n",
      "Accuracy: 0.0501, Top 5: 0.2340, Top 10: 0.4485\n",
      "Test unseen_subject completed. Accuracy: 0.1035, Top 5: 0.4630, Top 10: 0.8840\n",
      "Test unseen_task completed. Accuracy: 0.0654, Top 5: 0.3216, Top 10: 0.6036\n",
      "Test unseen_both completed. Accuracy: 0.1062, Top 5: 0.4763, Top 10: 0.9213\n",
      "Testing completed in 3.63m.\n",
      "Epoch 1 completed in 25.16m. 0.19m per recording.\n"
     ]
    },
    {
     "name": "stderr",
     "output_type": "stream",
     "text": [
      "Training Epoch 2: 100%|██████████| 135/135 [08:21<00:00,  3.71s/it]\n"
     ]
    },
    {
     "name": "stdout",
     "output_type": "stream",
     "text": [
      "Epoch 2 completed. Loss: 951.9758, Clip Loss: 10.0542, MSE Loss: 2364.8580\n",
      "Accuracy: 0.0427, Top 5: 0.1965, Top 10: 0.3744\n",
      "Test unseen_subject completed. Accuracy: 0.0710, Top 5: 0.3220, Top 10: 0.5945\n",
      "Test unseen_task completed. Accuracy: 0.0518, Top 5: 0.2288, Top 10: 0.4216\n",
      "Test unseen_both completed. Accuracy: 0.0712, Top 5: 0.2963, Top 10: 0.5600\n",
      "Testing completed in 0.76m.\n",
      "Epoch 2 completed in 9.12m. 0.07m per recording.\n"
     ]
    },
    {
     "name": "stderr",
     "output_type": "stream",
     "text": [
      "Training Epoch 3: 100%|██████████| 135/135 [08:20<00:00,  3.71s/it]\n"
     ]
    },
    {
     "name": "stdout",
     "output_type": "stream",
     "text": [
      "Epoch 3 completed. Loss: 6.2510, Clip Loss: 10.0625, MSE Loss: 0.5336\n",
      "Accuracy: 0.0424, Top 5: 0.1977, Top 10: 0.3726\n",
      "Test unseen_subject completed. Accuracy: 0.0510, Top 5: 0.2510, Top 10: 0.4460\n",
      "Test unseen_task completed. Accuracy: 0.0357, Top 5: 0.1708, Top 10: 0.3307\n",
      "Test unseen_both completed. Accuracy: 0.0350, Top 5: 0.2137, Top 10: 0.4300\n",
      "Testing completed in 0.79m.\n",
      "Epoch 3 completed in 9.13m. 0.07m per recording.\n"
     ]
    },
    {
     "name": "stderr",
     "output_type": "stream",
     "text": [
      "Training Epoch 4: 100%|██████████| 135/135 [08:21<00:00,  3.71s/it]\n"
     ]
    },
    {
     "name": "stdout",
     "output_type": "stream",
     "text": [
      "Epoch 4 completed. Loss: 6.5258, Clip Loss: 10.0669, MSE Loss: 1.2142\n",
      "Accuracy: 0.0414, Top 5: 0.1882, Top 10: 0.3542\n",
      "Test unseen_subject completed. Accuracy: 0.0560, Top 5: 0.2610, Top 10: 0.5230\n",
      "Test unseen_task completed. Accuracy: 0.0454, Top 5: 0.2046, Top 10: 0.3791\n",
      "Test unseen_both completed. Accuracy: 0.0587, Top 5: 0.2750, Top 10: 0.5225\n",
      "Testing completed in 0.78m.\n",
      "Epoch 4 completed in 9.13m. 0.07m per recording.\n"
     ]
    },
    {
     "name": "stderr",
     "output_type": "stream",
     "text": [
      "Training Epoch 5: 100%|██████████| 135/135 [08:18<00:00,  3.69s/it]\n"
     ]
    },
    {
     "name": "stdout",
     "output_type": "stream",
     "text": [
      "Epoch 5 completed. Loss: 6.2484, Clip Loss: 10.0628, MSE Loss: 0.5268\n",
      "Accuracy: 0.0425, Top 5: 0.1918, Top 10: 0.3641\n",
      "Test unseen_subject completed. Accuracy: 0.0665, Top 5: 0.2915, Top 10: 0.5250\n",
      "Test unseen_task completed. Accuracy: 0.0446, Top 5: 0.2022, Top 10: 0.3825\n",
      "Test unseen_both completed. Accuracy: 0.0737, Top 5: 0.3150, Top 10: 0.5475\n",
      "Testing completed in 0.78m.\n",
      "Epoch 5 completed in 9.09m. 0.07m per recording.\n"
     ]
    },
    {
     "name": "stderr",
     "output_type": "stream",
     "text": [
      "Training Epoch 6:  44%|████▍     | 60/135 [04:25<04:52,  3.89s/it] "
     ]
    }
   ],
   "source": [
    "# del session.logger\n",
    "# del session\n",
    "\n",
    "import multiprocessing\n",
    "\n",
    "\n",
    "from train.training_session_v0 import TrainingSessionV0\n",
    "from config import TrainingConfigV0\n",
    "from config import SimpleConvConfig\n",
    "\n",
    "data_partition = {\n",
    "    \"gwilliams2023\": {\n",
    "        \"testing_subjects\": [19, 20, 21],\n",
    "        \"testing_tasks\": [0],\n",
    "    },\n",
    "    # \"armeini2022\": {\n",
    "    #     \"testing_subjects\": [],\n",
    "    #     \"testing_tasks\": [8, 9],\n",
    "    # },\n",
    "}\n",
    "\n",
    "model_config = SimpleConvConfig(\n",
    "    # Str to list of possible conditions\n",
    "    mel_normalization=False,\n",
    "    conditions={\n",
    "        \"study\": [],\n",
    "        \"subject\": [],\n",
    "    },\n",
    "    # Channels\n",
    "    in_channels=208,\n",
    "    out_channels=128,\n",
    "    hidden_dim=384,\n",
    "    dropout=0.2,\n",
    "    initial_batch_norm=True,\n",
    "    # Sensor layout settings\n",
    "    layout_dim=2,\n",
    "    layout_proj=True,\n",
    "    layout_scaling=\"minmax\",\n",
    "    # Merger with spatial attn\n",
    "    merger=False,\n",
    "    merger_emb_type=None,\n",
    "    merger_emb_dim=0,\n",
    "    merger_channels=0,\n",
    "    merger_dropout=False,\n",
    "    merger_conditional=None,\n",
    "    # Inital\n",
    "    initial_linear=384,\n",
    "    initial_depth=1,\n",
    "    # Conditional layers\n",
    "    conditional_layers=False,\n",
    "    conditional_layers_dim=None,  # input or hidden_dim\n",
    "    # Conv layer overall structure\n",
    "    depth=6,\n",
    "    kernel_size=3,\n",
    "    growth=1.0,\n",
    "    dilation_growth=2,\n",
    "    dilation_period=5,\n",
    "    glu=1,\n",
    "    conv_dropout=0.2,\n",
    "    dropout_input=0.2,\n",
    "    batch_norm=True,\n",
    "    half=True,\n",
    "    cnn_pos_encoding=False,\n",
    "    # Quantizer\n",
    "    quantizer=False,\n",
    "    num_codebooks=0,\n",
    "    codebook_size=0,\n",
    "    quantizer_commitment=0,\n",
    "    quantizer_temp_init=0,\n",
    "    quantizer_temp_min=0,\n",
    "    quantizer_temp_decay=0,\n",
    "    # Transformers Encoders\n",
    "    transformer_input=None,\n",
    "    transformer_encoder_emb=None,\n",
    "    transformer_encoder_layers=0,\n",
    "    transformer_encoder_heads=0,\n",
    "    # Transformer Decoders\n",
    "    transformer_decoder_emb=None,\n",
    "    transformer_decoder_layers=0,\n",
    "    transformer_decoder_heads=0,\n",
    "    transformer_decoder_dim=0,\n",
    ")\n",
    "\n",
    "config = TrainingConfigV0(\n",
    "    brain_encoder_config=model_config,\n",
    "    data_partition=data_partition,\n",
    "    # Pre-processing parameters\n",
    "    # Brain\n",
    "    new_freq=200,\n",
    "    frequency_bands={\"all\": (0.5, 80)},\n",
    "    max_random_shift=1.0,\n",
    "    window_size=4,\n",
    "    window_stride=1,\n",
    "    brain_clipping=None,\n",
    "    baseline_window=0.5,\n",
    "    notch_filter=True,\n",
    "    scaling=\"both\",\n",
    "    delay=0.15,\n",
    "    # Hyperparameters\n",
    "    learning_rate=1e-4,\n",
    "    weight_decay=1e-4,\n",
    "    epochs=50,\n",
    "    batch_size=64,\n",
    "    use_clip_loss=True,\n",
    "    use_mse_loss=True,\n",
    "    alpha=0.6,\n",
    "    random_test_size=10,\n",
    "    seed=42,\n",
    ")\n",
    "\n",
    "session = TrainingSessionV0(\n",
    "    config=config,\n",
    "    studies={study: \"audio\" for study in data_partition.keys()},\n",
    "    data_path=\"data\",\n",
    "    save_path=\"saves/phase1/objectives/CLIP_MSE\",\n",
    "    clear_cache=True,\n",
    "    cache_name=\"cache/1\",\n",
    ")\n",
    "\n",
    "try:\n",
    "    session.train(\n",
    "        device=\"cuda\",\n",
    "        buffer_size=30,\n",
    "        num_workers=(multiprocessing.cpu_count() - 2),\n",
    "        max_cache_size=400,\n",
    "        current_epoch=0,\n",
    "    )\n",
    "except KeyboardInterrupt as e:\n",
    "    print(\"Exited\")"
   ]
  }
 ],
 "metadata": {
  "kernelspec": {
   "display_name": "brain",
   "language": "python",
   "name": "brain"
  },
  "language_info": {
   "codemirror_mode": {
    "name": "ipython",
    "version": 3
   },
   "file_extension": ".py",
   "mimetype": "text/x-python",
   "name": "python",
   "nbconvert_exporter": "python",
   "pygments_lexer": "ipython3",
   "version": "3.11.7"
  }
 },
 "nbformat": 4,
 "nbformat_minor": 4
}
