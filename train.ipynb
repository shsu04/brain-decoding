{
 "cells": [
  {
   "cell_type": "code",
   "execution_count": 2,
   "metadata": {},
   "outputs": [],
   "source": [
    "# from utils.compression import compress_directories, decompress_directories\n",
    "\n",
    "# for base_path, batch_type in data_partition.items():\n",
    "#     decompress_directories(\n",
    "#         source_path=f'downloaded_data/{base_path}',\n",
    "#         destination_path=f'data/{base_path}',\n",
    "#         checksum_file_name=\"checksums.txt\",\n",
    "#         delete_compressed_files=True,\n",
    "#         num_workers=26\n",
    "#     )"
   ]
  },
  {
   "cell_type": "code",
   "execution_count": 3,
   "metadata": {},
   "outputs": [
    {
     "name": "stdout",
     "output_type": "stream",
     "text": [
      "Loading Gwilliams2023 with batch type audio\n",
      "Cleared cache for study gwilliams2023\n",
      "Data partitioned on studies ['gwilliams2023'].\n",
      "Train: 135, Unseen Task: 12, Unseen Subject: 45, Unseen Both: 4.\n",
      "\n",
      "GPU is not NVIDIA V100, A100, or H100. Speedup numbers may be lower than expected.\n",
      "SimpleConv initialized with 8448160 parameters, cond: ['study', 'subject']\n",
      "Merger False, merger channels 0\n",
      "ConvBlocks: 6, hidden_dim: 384, params 7973376\n"
     ]
    },
    {
     "name": "stderr",
     "output_type": "stream",
     "text": [
      "Training Epoch 1: 100%|██████████| 135/135 [45:27<00:00, 20.20s/it] \n"
     ]
    },
    {
     "name": "stdout",
     "output_type": "stream",
     "text": [
      "Testing at epoch 1\n",
      "Test unseen_subject completed. Accuracy: 0.0880, Top 1: 0.1420, Top 5: 0.3580, Top 10: 0.4925, Perplexity: 0.0000\n",
      "Test unseen_task completed. Accuracy: 0.0759, Top 1: 0.1144, Top 5: 0.3601, Top 10: 0.5292, Perplexity: 0.0000\n",
      "Test unseen_both completed. Accuracy: 0.0688, Top 1: 0.1187, Top 5: 0.3375, Top 10: 0.4888, Perplexity: 0.0000\n",
      "Epoch 1 completed in 52.14m. 0.39m per recording.\n"
     ]
    },
    {
     "name": "stderr",
     "output_type": "stream",
     "text": [
      "Training Epoch 2: 100%|██████████| 135/135 [05:15<00:00,  2.33s/it]\n"
     ]
    },
    {
     "name": "stdout",
     "output_type": "stream",
     "text": [
      "Testing at epoch 2\n",
      "Test unseen_subject completed. Accuracy: 0.0495, Top 1: 0.0955, Top 5: 0.2875, Top 10: 0.4170, Perplexity: 0.0000\n",
      "Test unseen_task completed. Accuracy: 0.0598, Top 1: 0.0881, Top 5: 0.2791, Top 10: 0.4233, Perplexity: 0.0000\n",
      "Test unseen_both completed. Accuracy: 0.0537, Top 1: 0.0900, Top 5: 0.2662, Top 10: 0.4100, Perplexity: 0.0000\n",
      "Epoch 2 completed in 5.70m. 0.04m per recording.\n"
     ]
    },
    {
     "name": "stderr",
     "output_type": "stream",
     "text": [
      "Training Epoch 3: 100%|██████████| 135/135 [04:54<00:00,  2.18s/it]\n"
     ]
    },
    {
     "name": "stdout",
     "output_type": "stream",
     "text": [
      "Testing at epoch 3\n",
      "Test unseen_subject completed. Accuracy: 0.1000, Top 1: 0.1650, Top 5: 0.4275, Top 10: 0.5590, Perplexity: 0.0000\n",
      "Test unseen_task completed. Accuracy: 0.1120, Top 1: 0.1623, Top 5: 0.4322, Top 10: 0.6003, Perplexity: 0.0000\n",
      "Test unseen_both completed. Accuracy: 0.1012, Top 1: 0.1563, Top 5: 0.3987, Top 10: 0.5463, Perplexity: 0.0000\n",
      "Epoch 3 completed in 5.29m. 0.04m per recording.\n"
     ]
    },
    {
     "name": "stderr",
     "output_type": "stream",
     "text": [
      "Training Epoch 4: 100%|██████████| 135/135 [04:42<00:00,  2.09s/it]\n"
     ]
    },
    {
     "name": "stdout",
     "output_type": "stream",
     "text": [
      "Testing at epoch 4\n",
      "Test unseen_subject completed. Accuracy: 0.1140, Top 1: 0.1895, Top 5: 0.4355, Top 10: 0.5610, Perplexity: 0.0000\n",
      "Test unseen_task completed. Accuracy: 0.1149, Top 1: 0.1675, Top 5: 0.4853, Top 10: 0.6535, Perplexity: 0.0000\n",
      "Test unseen_both completed. Accuracy: 0.1012, Top 1: 0.1750, Top 5: 0.4450, Top 10: 0.5663, Perplexity: 0.0000\n",
      "Epoch 4 completed in 5.11m. 0.04m per recording.\n"
     ]
    },
    {
     "name": "stderr",
     "output_type": "stream",
     "text": [
      "Training Epoch 5: 100%|██████████| 135/135 [05:07<00:00,  2.28s/it]\n"
     ]
    },
    {
     "name": "stdout",
     "output_type": "stream",
     "text": [
      "Testing at epoch 5\n",
      "Test unseen_subject completed. Accuracy: 0.1180, Top 1: 0.1905, Top 5: 0.4615, Top 10: 0.5890, Perplexity: 0.0000\n",
      "Test unseen_task completed. Accuracy: 0.1501, Top 1: 0.2075, Top 5: 0.5126, Top 10: 0.6596, Perplexity: 0.0000\n",
      "Test unseen_both completed. Accuracy: 0.1237, Top 1: 0.1937, Top 5: 0.4212, Top 10: 0.5550, Perplexity: 0.0000\n",
      "Epoch 5 completed in 5.64m. 0.04m per recording.\n"
     ]
    },
    {
     "name": "stderr",
     "output_type": "stream",
     "text": [
      "Training Epoch 6: 100%|██████████| 135/135 [05:50<00:00,  2.59s/it]\n"
     ]
    },
    {
     "name": "stdout",
     "output_type": "stream",
     "text": [
      "Testing at epoch 6\n",
      "Test unseen_subject completed. Accuracy: 0.1445, Top 1: 0.2105, Top 5: 0.4460, Top 10: 0.5655, Perplexity: 0.0000\n",
      "Test unseen_task completed. Accuracy: 0.1857, Top 1: 0.2507, Top 5: 0.5536, Top 10: 0.6921, Perplexity: 0.0000\n",
      "Test unseen_both completed. Accuracy: 0.1338, Top 1: 0.1900, Top 5: 0.4275, Top 10: 0.5487, Perplexity: 0.0000\n",
      "Epoch 6 completed in 6.32m. 0.05m per recording.\n"
     ]
    },
    {
     "name": "stderr",
     "output_type": "stream",
     "text": [
      "Training Epoch 7: 100%|██████████| 135/135 [05:55<00:00,  2.63s/it]\n"
     ]
    },
    {
     "name": "stdout",
     "output_type": "stream",
     "text": [
      "Testing at epoch 7\n",
      "Test unseen_subject completed. Accuracy: 0.1185, Top 1: 0.1860, Top 5: 0.4305, Top 10: 0.5560, Perplexity: 0.0000\n",
      "Test unseen_task completed. Accuracy: 0.1776, Top 1: 0.2481, Top 5: 0.5521, Top 10: 0.7038, Perplexity: 0.0000\n",
      "Test unseen_both completed. Accuracy: 0.1375, Top 1: 0.2075, Top 5: 0.4625, Top 10: 0.5900, Perplexity: 0.0000\n",
      "Epoch 7 completed in 6.41m. 0.05m per recording.\n"
     ]
    },
    {
     "name": "stderr",
     "output_type": "stream",
     "text": [
      "Training Epoch 8: 100%|██████████| 135/135 [05:54<00:00,  2.62s/it]\n"
     ]
    },
    {
     "name": "stdout",
     "output_type": "stream",
     "text": [
      "Testing at epoch 8\n",
      "Test unseen_subject completed. Accuracy: 0.1760, Top 1: 0.2550, Top 5: 0.5025, Top 10: 0.6105, Perplexity: 0.0000\n",
      "Test unseen_task completed. Accuracy: 0.1782, Top 1: 0.2443, Top 5: 0.5397, Top 10: 0.6826, Perplexity: 0.0000\n",
      "Test unseen_both completed. Accuracy: 0.1562, Top 1: 0.2300, Top 5: 0.4437, Top 10: 0.5750, Perplexity: 0.0000\n",
      "Epoch 8 completed in 6.38m. 0.05m per recording.\n"
     ]
    },
    {
     "name": "stderr",
     "output_type": "stream",
     "text": [
      "Training Epoch 9: 100%|██████████| 135/135 [05:45<00:00,  2.56s/it]\n"
     ]
    },
    {
     "name": "stdout",
     "output_type": "stream",
     "text": [
      "Testing at epoch 9\n",
      "Test unseen_subject completed. Accuracy: 0.1585, Top 1: 0.2395, Top 5: 0.4845, Top 10: 0.5895, Perplexity: 0.0000\n",
      "Test unseen_task completed. Accuracy: 0.2100, Top 1: 0.2793, Top 5: 0.5924, Top 10: 0.7281, Perplexity: 0.0000\n",
      "Test unseen_both completed. Accuracy: 0.1550, Top 1: 0.2362, Top 5: 0.4925, Top 10: 0.6250, Perplexity: 0.0000\n",
      "Epoch 9 completed in 6.29m. 0.05m per recording.\n"
     ]
    },
    {
     "name": "stderr",
     "output_type": "stream",
     "text": [
      "Training Epoch 10: 100%|██████████| 135/135 [05:45<00:00,  2.56s/it]\n"
     ]
    },
    {
     "name": "stdout",
     "output_type": "stream",
     "text": [
      "Testing at epoch 10\n",
      "Test unseen_subject completed. Accuracy: 0.1485, Top 1: 0.2215, Top 5: 0.4765, Top 10: 0.5870, Perplexity: 0.0000\n",
      "Test unseen_task completed. Accuracy: 0.1959, Top 1: 0.2701, Top 5: 0.5783, Top 10: 0.7162, Perplexity: 0.0000\n",
      "Test unseen_both completed. Accuracy: 0.1638, Top 1: 0.2350, Top 5: 0.4788, Top 10: 0.5912, Perplexity: 0.0000\n",
      "Epoch 10 completed in 6.24m. 0.05m per recording.\n"
     ]
    },
    {
     "name": "stderr",
     "output_type": "stream",
     "text": [
      "Training Epoch 11: 100%|██████████| 135/135 [05:47<00:00,  2.57s/it]\n"
     ]
    },
    {
     "name": "stdout",
     "output_type": "stream",
     "text": [
      "Testing at epoch 11\n",
      "Test unseen_subject completed. Accuracy: 0.1885, Top 1: 0.2760, Top 5: 0.5130, Top 10: 0.6175, Perplexity: 0.0000\n",
      "Test unseen_task completed. Accuracy: 0.1843, Top 1: 0.2514, Top 5: 0.5572, Top 10: 0.6958, Perplexity: 0.0000\n",
      "Test unseen_both completed. Accuracy: 0.1588, Top 1: 0.2350, Top 5: 0.4675, Top 10: 0.5938, Perplexity: 0.0000\n",
      "Epoch 11 completed in 6.27m. 0.05m per recording.\n"
     ]
    },
    {
     "name": "stderr",
     "output_type": "stream",
     "text": [
      "Training Epoch 12: 100%|██████████| 135/135 [05:49<00:00,  2.59s/it]\n"
     ]
    },
    {
     "name": "stdout",
     "output_type": "stream",
     "text": [
      "Testing at epoch 12\n",
      "Test unseen_subject completed. Accuracy: 0.1790, Top 1: 0.2655, Top 5: 0.5100, Top 10: 0.6190, Perplexity: 0.0000\n",
      "Test unseen_task completed. Accuracy: 0.2501, Top 1: 0.3293, Top 5: 0.6321, Top 10: 0.7595, Perplexity: 0.0000\n",
      "Test unseen_both completed. Accuracy: 0.1850, Top 1: 0.2562, Top 5: 0.5300, Top 10: 0.6338, Perplexity: 0.0000\n",
      "Epoch 12 completed in 6.32m. 0.05m per recording.\n"
     ]
    },
    {
     "name": "stderr",
     "output_type": "stream",
     "text": [
      "Training Epoch 13: 100%|██████████| 135/135 [05:43<00:00,  2.54s/it]\n"
     ]
    },
    {
     "name": "stdout",
     "output_type": "stream",
     "text": [
      "Testing at epoch 13\n",
      "Test unseen_subject completed. Accuracy: 0.1180, Top 1: 0.1870, Top 5: 0.4345, Top 10: 0.5720, Perplexity: 0.0000\n",
      "Test unseen_task completed. Accuracy: 0.1742, Top 1: 0.2391, Top 5: 0.5100, Top 10: 0.6626, Perplexity: 0.0000\n",
      "Test unseen_both completed. Accuracy: 0.1375, Top 1: 0.2150, Top 5: 0.4375, Top 10: 0.5625, Perplexity: 0.0000\n",
      "Epoch 13 completed in 6.23m. 0.05m per recording.\n"
     ]
    },
    {
     "name": "stderr",
     "output_type": "stream",
     "text": [
      "Training Epoch 14: 100%|██████████| 135/135 [05:51<00:00,  2.60s/it]\n"
     ]
    },
    {
     "name": "stdout",
     "output_type": "stream",
     "text": [
      "Testing at epoch 14\n",
      "Test unseen_subject completed. Accuracy: 0.1850, Top 1: 0.2650, Top 5: 0.5265, Top 10: 0.6515, Perplexity: 0.0000\n",
      "Test unseen_task completed. Accuracy: 0.2232, Top 1: 0.2973, Top 5: 0.6093, Top 10: 0.7418, Perplexity: 0.0000\n",
      "Test unseen_both completed. Accuracy: 0.1900, Top 1: 0.2675, Top 5: 0.5013, Top 10: 0.6338, Perplexity: 0.0000\n",
      "Epoch 14 completed in 6.38m. 0.05m per recording.\n"
     ]
    },
    {
     "name": "stderr",
     "output_type": "stream",
     "text": [
      "Training Epoch 15: 100%|██████████| 135/135 [05:52<00:00,  2.61s/it]\n"
     ]
    },
    {
     "name": "stdout",
     "output_type": "stream",
     "text": [
      "Testing at epoch 15\n",
      "Test unseen_subject completed. Accuracy: 0.1995, Top 1: 0.2855, Top 5: 0.5230, Top 10: 0.6205, Perplexity: 0.0000\n",
      "Test unseen_task completed. Accuracy: 0.2535, Top 1: 0.3314, Top 5: 0.6339, Top 10: 0.7590, Perplexity: 0.0000\n",
      "Test unseen_both completed. Accuracy: 0.2037, Top 1: 0.2838, Top 5: 0.5188, Top 10: 0.6150, Perplexity: 0.0000\n",
      "Epoch 15 completed in 6.39m. 0.05m per recording.\n"
     ]
    },
    {
     "name": "stderr",
     "output_type": "stream",
     "text": [
      "Training Epoch 16: 100%|██████████| 135/135 [05:47<00:00,  2.57s/it]\n"
     ]
    },
    {
     "name": "stdout",
     "output_type": "stream",
     "text": [
      "Testing at epoch 16\n",
      "Test unseen_subject completed. Accuracy: 0.1510, Top 1: 0.2345, Top 5: 0.4820, Top 10: 0.5950, Perplexity: 0.0000\n",
      "Test unseen_task completed. Accuracy: 0.1871, Top 1: 0.2566, Top 5: 0.5463, Top 10: 0.6958, Perplexity: 0.0000\n",
      "Test unseen_both completed. Accuracy: 0.1450, Top 1: 0.2275, Top 5: 0.4188, Top 10: 0.5312, Perplexity: 0.0000\n",
      "Epoch 16 completed in 6.35m. 0.05m per recording.\n"
     ]
    },
    {
     "name": "stderr",
     "output_type": "stream",
     "text": [
      "Training Epoch 17: 100%|██████████| 135/135 [05:49<00:00,  2.59s/it]\n"
     ]
    },
    {
     "name": "stdout",
     "output_type": "stream",
     "text": [
      "Testing at epoch 17\n",
      "Test unseen_subject completed. Accuracy: 0.1980, Top 1: 0.2840, Top 5: 0.5100, Top 10: 0.6075, Perplexity: 0.0000\n",
      "Test unseen_task completed. Accuracy: 0.1877, Top 1: 0.2544, Top 5: 0.5674, Top 10: 0.7102, Perplexity: 0.0000\n",
      "Test unseen_both completed. Accuracy: 0.1588, Top 1: 0.2400, Top 5: 0.4738, Top 10: 0.5800, Perplexity: 0.0000\n",
      "Epoch 17 completed in 6.32m. 0.05m per recording.\n"
     ]
    },
    {
     "name": "stderr",
     "output_type": "stream",
     "text": [
      "Training Epoch 18: 100%|██████████| 135/135 [05:49<00:00,  2.59s/it]\n"
     ]
    },
    {
     "name": "stdout",
     "output_type": "stream",
     "text": [
      "Testing at epoch 18\n",
      "Test unseen_subject completed. Accuracy: 0.1905, Top 1: 0.2875, Top 5: 0.5060, Top 10: 0.6145, Perplexity: 0.0000\n",
      "Test unseen_task completed. Accuracy: 0.2212, Top 1: 0.2965, Top 5: 0.6056, Top 10: 0.7388, Perplexity: 0.0000\n",
      "Test unseen_both completed. Accuracy: 0.1913, Top 1: 0.2687, Top 5: 0.4788, Top 10: 0.6225, Perplexity: 0.0000\n",
      "Epoch 18 completed in 6.35m. 0.05m per recording.\n"
     ]
    },
    {
     "name": "stderr",
     "output_type": "stream",
     "text": [
      "Training Epoch 19: 100%|██████████| 135/135 [05:49<00:00,  2.59s/it]\n"
     ]
    },
    {
     "name": "stdout",
     "output_type": "stream",
     "text": [
      "Testing at epoch 19\n",
      "Test unseen_subject completed. Accuracy: 0.1655, Top 1: 0.2285, Top 5: 0.4765, Top 10: 0.6105, Perplexity: 0.0000\n",
      "Test unseen_task completed. Accuracy: 0.2048, Top 1: 0.2781, Top 5: 0.5857, Top 10: 0.7212, Perplexity: 0.0000\n",
      "Test unseen_both completed. Accuracy: 0.1575, Top 1: 0.2200, Top 5: 0.4550, Top 10: 0.5675, Perplexity: 0.0000\n",
      "Epoch 19 completed in 6.33m. 0.05m per recording.\n"
     ]
    },
    {
     "name": "stderr",
     "output_type": "stream",
     "text": [
      "Training Epoch 20: 100%|██████████| 135/135 [05:46<00:00,  2.57s/it]\n"
     ]
    },
    {
     "name": "stdout",
     "output_type": "stream",
     "text": [
      "Testing at epoch 20\n",
      "Test unseen_subject completed. Accuracy: 0.1860, Top 1: 0.2810, Top 5: 0.4955, Top 10: 0.6030, Perplexity: 0.0000\n",
      "Test unseen_task completed. Accuracy: 0.1824, Top 1: 0.2477, Top 5: 0.5241, Top 10: 0.6670, Perplexity: 0.0000\n",
      "Test unseen_both completed. Accuracy: 0.1787, Top 1: 0.2475, Top 5: 0.4563, Top 10: 0.5550, Perplexity: 0.0000\n",
      "Epoch 20 completed in 6.28m. 0.05m per recording.\n"
     ]
    },
    {
     "name": "stderr",
     "output_type": "stream",
     "text": [
      "Training Epoch 21: 100%|██████████| 135/135 [05:51<00:00,  2.60s/it]\n"
     ]
    },
    {
     "name": "stdout",
     "output_type": "stream",
     "text": [
      "Testing at epoch 21\n",
      "Test unseen_subject completed. Accuracy: 0.1645, Top 1: 0.2490, Top 5: 0.4910, Top 10: 0.5925, Perplexity: 0.0000\n",
      "Test unseen_task completed. Accuracy: 0.1885, Top 1: 0.2545, Top 5: 0.5597, Top 10: 0.6937, Perplexity: 0.0000\n",
      "Test unseen_both completed. Accuracy: 0.1537, Top 1: 0.2412, Top 5: 0.4425, Top 10: 0.5725, Perplexity: 0.0000\n",
      "Epoch 21 completed in 6.33m. 0.05m per recording.\n"
     ]
    },
    {
     "name": "stderr",
     "output_type": "stream",
     "text": [
      "Training Epoch 22: 100%|██████████| 135/135 [05:57<00:00,  2.65s/it]\n"
     ]
    },
    {
     "name": "stdout",
     "output_type": "stream",
     "text": [
      "Testing at epoch 22\n",
      "Test unseen_subject completed. Accuracy: 0.1530, Top 1: 0.2375, Top 5: 0.4720, Top 10: 0.5850, Perplexity: 0.0000\n",
      "Test unseen_task completed. Accuracy: 0.1809, Top 1: 0.2456, Top 5: 0.5325, Top 10: 0.6701, Perplexity: 0.0000\n",
      "Test unseen_both completed. Accuracy: 0.1625, Top 1: 0.2300, Top 5: 0.4650, Top 10: 0.5662, Perplexity: 0.0000\n",
      "Epoch 22 completed in 6.48m. 0.05m per recording.\n"
     ]
    },
    {
     "name": "stderr",
     "output_type": "stream",
     "text": [
      "Training Epoch 23: 100%|██████████| 135/135 [05:43<00:00,  2.55s/it]\n"
     ]
    },
    {
     "name": "stdout",
     "output_type": "stream",
     "text": [
      "Testing at epoch 23\n",
      "Test unseen_subject completed. Accuracy: 0.1490, Top 1: 0.2300, Top 5: 0.4675, Top 10: 0.5780, Perplexity: 0.0000\n",
      "Test unseen_task completed. Accuracy: 0.1659, Top 1: 0.2266, Top 5: 0.5155, Top 10: 0.6591, Perplexity: 0.0000\n",
      "Test unseen_both completed. Accuracy: 0.1325, Top 1: 0.1925, Top 5: 0.4337, Top 10: 0.5575, Perplexity: 0.0000\n",
      "Epoch 23 completed in 6.22m. 0.05m per recording.\n"
     ]
    },
    {
     "name": "stderr",
     "output_type": "stream",
     "text": [
      "Training Epoch 24: 100%|██████████| 135/135 [05:47<00:00,  2.57s/it]\n"
     ]
    },
    {
     "name": "stdout",
     "output_type": "stream",
     "text": [
      "Testing at epoch 24\n",
      "Test unseen_subject completed. Accuracy: 0.1430, Top 1: 0.2150, Top 5: 0.4540, Top 10: 0.5615, Perplexity: 0.0000\n",
      "Test unseen_task completed. Accuracy: 0.1162, Top 1: 0.1674, Top 5: 0.4269, Top 10: 0.5758, Perplexity: 0.0000\n",
      "Test unseen_both completed. Accuracy: 0.1087, Top 1: 0.1550, Top 5: 0.3488, Top 10: 0.4675, Perplexity: 0.0000\n",
      "Epoch 24 completed in 6.31m. 0.05m per recording.\n"
     ]
    },
    {
     "name": "stderr",
     "output_type": "stream",
     "text": [
      "Training Epoch 25: 100%|██████████| 135/135 [05:49<00:00,  2.59s/it]\n"
     ]
    },
    {
     "name": "stdout",
     "output_type": "stream",
     "text": [
      "Testing at epoch 25\n",
      "Test unseen_subject completed. Accuracy: 0.1435, Top 1: 0.2145, Top 5: 0.4555, Top 10: 0.5640, Perplexity: 0.0000\n",
      "Test unseen_task completed. Accuracy: 0.1550, Top 1: 0.2116, Top 5: 0.4908, Top 10: 0.6285, Perplexity: 0.0000\n",
      "Test unseen_both completed. Accuracy: 0.1175, Top 1: 0.1775, Top 5: 0.3813, Top 10: 0.5200, Perplexity: 0.0000\n",
      "Epoch 25 completed in 6.31m. 0.05m per recording.\n",
      "Early stopping at epoch 25. Highest top 10 accuracy at epoch 14.\n",
      "Training completed.\n",
      "unseen_subject: Acc: 0.1850, Top 1: 0.2650, Top 5: 0.5265, Top 10: 0.6515\n",
      "unseen_task: Acc: 0.2232, Top 1: 0.2973, Top 5: 0.6093, Top 10: 0.7418\n",
      "unseen_both: Acc: 0.1900, Top 1: 0.2675, Top 5: 0.5013, Top 10: 0.6338\n"
     ]
    }
   ],
   "source": [
    "del session.logger\n",
    "del session\n",
    "\n",
    "from pickle import NONE\n",
    "from train.training_session_v0 import TrainingSessionV0\n",
    "from config import TrainingConfigV0\n",
    "import multiprocessing\n",
    "\n",
    "data_partition = {\n",
    "    \"gwilliams2023\": {\n",
    "        \"testing_subjects\": [19, 20, 21],\n",
    "        \"testing_tasks\": [0],\n",
    "    },\n",
    "    # \"schoffelen2022\": {\n",
    "    #     \"testing_subjects\": [],\n",
    "    #     \"testing_tasks\": [8, 9],\n",
    "    # },\n",
    "}\n",
    "\n",
    "from config import SimpleConvConfig\n",
    "from models.simpleconv import SimpleConv\n",
    "import torch\n",
    "\n",
    "model_config = SimpleConvConfig(\n",
    "    # Str to list of possible conditions\n",
    "    mel_normalization=False,\n",
    "    conditions={\n",
    "        \"study\": [],\n",
    "        \"subject\": [],\n",
    "    },\n",
    "    # Channels\n",
    "    in_channels=208,\n",
    "    out_channels=128,\n",
    "    hidden_dim=384,\n",
    "    dropout=0.2,\n",
    "    initial_batch_norm=True,\n",
    "    # Sensor layout settings\n",
    "    layout_dim=2,\n",
    "    layout_proj=True,\n",
    "    layout_scaling=\"minmax\",\n",
    "    # Merger with spatial attn\n",
    "    merger=False,\n",
    "    merger_emb_type=None,\n",
    "    merger_emb_dim=0,\n",
    "    merger_channels=0,\n",
    "    merger_dropout=False,\n",
    "    merger_conditional=None,\n",
    "    # Inital\n",
    "    initial_linear=384,\n",
    "    initial_depth=1,\n",
    "    # Conditional layers\n",
    "    conditional_layers=False,\n",
    "    conditional_layers_dim=None,  # input or hidden_dim\n",
    "    # Conv layer overall structure\n",
    "    depth=6,\n",
    "    kernel_size=3,\n",
    "    growth=1.0,\n",
    "    dilation_growth=2,\n",
    "    dilation_period=5,\n",
    "    glu=1,\n",
    "    conv_dropout=0.2,\n",
    "    dropout_input=0.2,\n",
    "    batch_norm=True,\n",
    "    # Quantizer\n",
    "    quantizer=False,\n",
    "    num_codebooks=0,\n",
    "    codebook_size=0,\n",
    "    quantizer_commitment=0,\n",
    "    quantizer_temp_init=0,\n",
    "    quantizer_temp_min=0,\n",
    "    quantizer_temp_decay=0,\n",
    "    # Transformers Encoders\n",
    "    transformer_input=None,\n",
    "    transformer_encoder_emb=None,\n",
    "    transformer_encoder_layers=0,\n",
    "    transformer_encoder_heads=0,\n",
    "    # Transformer Decoders\n",
    "    transformer_decoder_emb=None,\n",
    "    transformer_decoder_layers=0,\n",
    "    transformer_decoder_heads=0,\n",
    "    transformer_decoder_dim=0,\n",
    ")\n",
    "\n",
    "config = TrainingConfigV0(\n",
    "    brain_encoder_config=model_config,\n",
    "    data_partition=data_partition,\n",
    "    # Pre-processing parameters\n",
    "    # Brain\n",
    "    new_freq=100,\n",
    "    frequency_bands={\"all\": (0.5, 100)},\n",
    "    max_random_shift=1.0,\n",
    "    window_size=4,\n",
    "    window_stride=1,\n",
    "    brain_clipping=None,\n",
    "    baseline_window=0.5,\n",
    "    notch_filter=True,\n",
    "    scaling=\"standard\",\n",
    "    delay=0.15,\n",
    "    # Hyperparameters\n",
    "    learning_rate=3e-4,\n",
    "    weight_decay=1e-4,\n",
    "    epochs=50,\n",
    "    batch_size=256,\n",
    "    use_clip_loss=True,\n",
    "    use_mse_loss=True,\n",
    "    alpha=0.6,\n",
    "    random_test_size=10,\n",
    "    seed=42,\n",
    ")\n",
    "\n",
    "session = TrainingSessionV0(\n",
    "    config=config,\n",
    "    studies={study: \"audio\" for study in data_partition.keys()},\n",
    "    data_path=\"data\",\n",
    "    save_path=\"saves/phase1/ablation/bandpass/100\",\n",
    "    clear_cache=True,\n",
    "    cache_name=\"cache\",\n",
    ")\n",
    "\n",
    "try:\n",
    "    session.train(\n",
    "        device=\"cuda\",\n",
    "        buffer_size=30,\n",
    "        num_workers=(multiprocessing.cpu_count() - 2) // 2,\n",
    "        max_cache_size=400,\n",
    "        current_epoch=0,\n",
    "    )\n",
    "except KeyboardInterrupt as e:\n",
    "    print(\"Exited\")"
   ]
  },
  {
   "cell_type": "markdown",
   "metadata": {},
   "source": [
    "## Band pass 100"
   ]
  },
  {
   "cell_type": "code",
   "execution_count": 4,
   "metadata": {},
   "outputs": [
    {
     "name": "stdout",
     "output_type": "stream",
     "text": [
      "Loading Gwilliams2023 with batch type audio\n",
      "Cleared cache for study gwilliams2023\n",
      "Data partitioned on studies ['gwilliams2023'].\n",
      "Train: 135, Unseen Task: 12, Unseen Subject: 45, Unseen Both: 4.\n",
      "\n",
      "GPU is not NVIDIA V100, A100, or H100. Speedup numbers may be lower than expected.\n",
      "SimpleConv initialized with 8448160 parameters, cond: ['study', 'subject']\n",
      "Merger False, merger channels 0\n",
      "ConvBlocks: 6, hidden_dim: 384, params 7973376\n"
     ]
    },
    {
     "name": "stderr",
     "output_type": "stream",
     "text": [
      "Training Epoch 1: 100%|██████████| 135/135 [35:26<00:00, 15.75s/it] \n"
     ]
    },
    {
     "name": "stdout",
     "output_type": "stream",
     "text": [
      "Testing at epoch 1\n",
      "Test unseen_subject completed. Accuracy: 0.0945, Top 1: 0.1475, Top 5: 0.3620, Top 10: 0.4855, Perplexity: 0.0000\n",
      "Test unseen_task completed. Accuracy: 0.0846, Top 1: 0.1242, Top 5: 0.3608, Top 10: 0.5184, Perplexity: 0.0000\n",
      "Test unseen_both completed. Accuracy: 0.0600, Top 1: 0.1237, Top 5: 0.3313, Top 10: 0.4537, Perplexity: 0.0000\n",
      "Epoch 1 completed in 39.55m. 0.29m per recording.\n"
     ]
    },
    {
     "name": "stderr",
     "output_type": "stream",
     "text": [
      "Training Epoch 2: 100%|██████████| 135/135 [04:19<00:00,  1.92s/it]\n"
     ]
    },
    {
     "name": "stdout",
     "output_type": "stream",
     "text": [
      "Testing at epoch 2\n",
      "Test unseen_subject completed. Accuracy: 0.0740, Top 1: 0.1340, Top 5: 0.3575, Top 10: 0.4925, Perplexity: 0.0000\n",
      "Test unseen_task completed. Accuracy: 0.1104, Top 1: 0.1575, Top 5: 0.4159, Top 10: 0.5650, Perplexity: 0.0000\n",
      "Test unseen_both completed. Accuracy: 0.0925, Top 1: 0.1425, Top 5: 0.3588, Top 10: 0.4713, Perplexity: 0.0000\n",
      "Epoch 2 completed in 4.70m. 0.03m per recording.\n"
     ]
    },
    {
     "name": "stderr",
     "output_type": "stream",
     "text": [
      "Training Epoch 3: 100%|██████████| 135/135 [04:20<00:00,  1.93s/it]\n"
     ]
    },
    {
     "name": "stdout",
     "output_type": "stream",
     "text": [
      "Testing at epoch 3\n",
      "Test unseen_subject completed. Accuracy: 0.1320, Top 1: 0.1975, Top 5: 0.4285, Top 10: 0.5455, Perplexity: 0.0000\n",
      "Test unseen_task completed. Accuracy: 0.1162, Top 1: 0.1615, Top 5: 0.4171, Top 10: 0.5701, Perplexity: 0.0000\n",
      "Test unseen_both completed. Accuracy: 0.0938, Top 1: 0.1488, Top 5: 0.3700, Top 10: 0.4938, Perplexity: 0.0000\n",
      "Epoch 3 completed in 4.71m. 0.03m per recording.\n"
     ]
    },
    {
     "name": "stderr",
     "output_type": "stream",
     "text": [
      "Training Epoch 4: 100%|██████████| 135/135 [04:18<00:00,  1.92s/it]\n"
     ]
    },
    {
     "name": "stdout",
     "output_type": "stream",
     "text": [
      "Testing at epoch 4\n",
      "Test unseen_subject completed. Accuracy: 0.1270, Top 1: 0.1940, Top 5: 0.4115, Top 10: 0.5390, Perplexity: 0.0000\n",
      "Test unseen_task completed. Accuracy: 0.1275, Top 1: 0.1830, Top 5: 0.4632, Top 10: 0.6150, Perplexity: 0.0000\n",
      "Test unseen_both completed. Accuracy: 0.0950, Top 1: 0.1438, Top 5: 0.4037, Top 10: 0.5375, Perplexity: 0.0000\n",
      "Epoch 4 completed in 4.67m. 0.03m per recording.\n"
     ]
    },
    {
     "name": "stderr",
     "output_type": "stream",
     "text": [
      "Training Epoch 5: 100%|██████████| 135/135 [04:21<00:00,  1.94s/it]\n"
     ]
    },
    {
     "name": "stdout",
     "output_type": "stream",
     "text": [
      "Testing at epoch 5\n",
      "Test unseen_subject completed. Accuracy: 0.1350, Top 1: 0.2145, Top 5: 0.4405, Top 10: 0.5630, Perplexity: 0.0000\n",
      "Test unseen_task completed. Accuracy: 0.1627, Top 1: 0.2295, Top 5: 0.5212, Top 10: 0.6750, Perplexity: 0.0000\n",
      "Test unseen_both completed. Accuracy: 0.1100, Top 1: 0.1712, Top 5: 0.4200, Top 10: 0.5563, Perplexity: 0.0000\n",
      "Epoch 5 completed in 4.72m. 0.03m per recording.\n"
     ]
    },
    {
     "name": "stderr",
     "output_type": "stream",
     "text": [
      "Training Epoch 6: 100%|██████████| 135/135 [04:20<00:00,  1.93s/it]\n"
     ]
    },
    {
     "name": "stdout",
     "output_type": "stream",
     "text": [
      "Testing at epoch 6\n",
      "Test unseen_subject completed. Accuracy: 0.1225, Top 1: 0.1980, Top 5: 0.4630, Top 10: 0.5905, Perplexity: 0.0000\n",
      "Test unseen_task completed. Accuracy: 0.1564, Top 1: 0.2178, Top 5: 0.5092, Top 10: 0.6592, Perplexity: 0.0000\n",
      "Test unseen_both completed. Accuracy: 0.1375, Top 1: 0.2062, Top 5: 0.4225, Top 10: 0.5487, Perplexity: 0.0000\n",
      "Epoch 6 completed in 4.70m. 0.03m per recording.\n"
     ]
    },
    {
     "name": "stderr",
     "output_type": "stream",
     "text": [
      "Training Epoch 7: 100%|██████████| 135/135 [04:21<00:00,  1.94s/it]\n"
     ]
    },
    {
     "name": "stdout",
     "output_type": "stream",
     "text": [
      "Testing at epoch 7\n",
      "Test unseen_subject completed. Accuracy: 0.1725, Top 1: 0.2560, Top 5: 0.4910, Top 10: 0.5985, Perplexity: 0.0000\n",
      "Test unseen_task completed. Accuracy: 0.1592, Top 1: 0.2140, Top 5: 0.4911, Top 10: 0.6396, Perplexity: 0.0000\n",
      "Test unseen_both completed. Accuracy: 0.1425, Top 1: 0.1962, Top 5: 0.4213, Top 10: 0.5287, Perplexity: 0.0000\n",
      "Epoch 7 completed in 4.72m. 0.03m per recording.\n"
     ]
    },
    {
     "name": "stderr",
     "output_type": "stream",
     "text": [
      "Training Epoch 8: 100%|██████████| 135/135 [04:19<00:00,  1.92s/it]\n"
     ]
    },
    {
     "name": "stdout",
     "output_type": "stream",
     "text": [
      "Testing at epoch 8\n",
      "Test unseen_subject completed. Accuracy: 0.1770, Top 1: 0.2555, Top 5: 0.4975, Top 10: 0.6035, Perplexity: 0.0000\n",
      "Test unseen_task completed. Accuracy: 0.2014, Top 1: 0.2703, Top 5: 0.5739, Top 10: 0.7096, Perplexity: 0.0000\n",
      "Test unseen_both completed. Accuracy: 0.1537, Top 1: 0.2350, Top 5: 0.4862, Top 10: 0.5900, Perplexity: 0.0000\n",
      "Epoch 8 completed in 4.68m. 0.03m per recording.\n"
     ]
    },
    {
     "name": "stderr",
     "output_type": "stream",
     "text": [
      "Training Epoch 9: 100%|██████████| 135/135 [04:19<00:00,  1.92s/it]\n"
     ]
    },
    {
     "name": "stdout",
     "output_type": "stream",
     "text": [
      "Testing at epoch 9\n",
      "Test unseen_subject completed. Accuracy: 0.1110, Top 1: 0.1870, Top 5: 0.4305, Top 10: 0.5655, Perplexity: 0.0000\n",
      "Test unseen_task completed. Accuracy: 0.1720, Top 1: 0.2374, Top 5: 0.5360, Top 10: 0.6842, Perplexity: 0.0000\n",
      "Test unseen_both completed. Accuracy: 0.1300, Top 1: 0.2000, Top 5: 0.4138, Top 10: 0.5475, Perplexity: 0.0000\n",
      "Epoch 9 completed in 4.69m. 0.03m per recording.\n"
     ]
    },
    {
     "name": "stderr",
     "output_type": "stream",
     "text": [
      "Training Epoch 10: 100%|██████████| 135/135 [04:20<00:00,  1.93s/it]\n"
     ]
    },
    {
     "name": "stdout",
     "output_type": "stream",
     "text": [
      "Testing at epoch 10\n",
      "Test unseen_subject completed. Accuracy: 0.1425, Top 1: 0.2105, Top 5: 0.4690, Top 10: 0.5965, Perplexity: 0.0000\n",
      "Test unseen_task completed. Accuracy: 0.1898, Top 1: 0.2542, Top 5: 0.5419, Top 10: 0.6842, Perplexity: 0.0000\n",
      "Test unseen_both completed. Accuracy: 0.1825, Top 1: 0.2375, Top 5: 0.4613, Top 10: 0.5800, Perplexity: 0.0000\n",
      "Epoch 10 completed in 4.70m. 0.03m per recording.\n"
     ]
    },
    {
     "name": "stderr",
     "output_type": "stream",
     "text": [
      "Training Epoch 11: 100%|██████████| 135/135 [04:18<00:00,  1.92s/it]\n"
     ]
    },
    {
     "name": "stdout",
     "output_type": "stream",
     "text": [
      "Testing at epoch 11\n",
      "Test unseen_subject completed. Accuracy: 0.1595, Top 1: 0.2440, Top 5: 0.4810, Top 10: 0.5920, Perplexity: 0.0000\n",
      "Test unseen_task completed. Accuracy: 0.2204, Top 1: 0.2913, Top 5: 0.6108, Top 10: 0.7480, Perplexity: 0.0000\n",
      "Test unseen_both completed. Accuracy: 0.1575, Top 1: 0.2300, Top 5: 0.4800, Top 10: 0.5975, Perplexity: 0.0000\n",
      "Epoch 11 completed in 4.68m. 0.03m per recording.\n"
     ]
    },
    {
     "name": "stderr",
     "output_type": "stream",
     "text": [
      "Training Epoch 12: 100%|██████████| 135/135 [04:19<00:00,  1.92s/it]\n"
     ]
    },
    {
     "name": "stdout",
     "output_type": "stream",
     "text": [
      "Testing at epoch 12\n",
      "Test unseen_subject completed. Accuracy: 0.1295, Top 1: 0.2025, Top 5: 0.4450, Top 10: 0.5765, Perplexity: 0.0000\n",
      "Test unseen_task completed. Accuracy: 0.1717, Top 1: 0.2377, Top 5: 0.5475, Top 10: 0.6924, Perplexity: 0.0000\n",
      "Test unseen_both completed. Accuracy: 0.1475, Top 1: 0.2162, Top 5: 0.4575, Top 10: 0.5863, Perplexity: 0.0000\n",
      "Epoch 12 completed in 4.69m. 0.03m per recording.\n"
     ]
    },
    {
     "name": "stderr",
     "output_type": "stream",
     "text": [
      "Training Epoch 13: 100%|██████████| 135/135 [04:20<00:00,  1.93s/it]\n"
     ]
    },
    {
     "name": "stdout",
     "output_type": "stream",
     "text": [
      "Testing at epoch 13\n",
      "Test unseen_subject completed. Accuracy: 0.1655, Top 1: 0.2465, Top 5: 0.4820, Top 10: 0.5910, Perplexity: 0.0000\n",
      "Test unseen_task completed. Accuracy: 0.1919, Top 1: 0.2571, Top 5: 0.5486, Top 10: 0.6902, Perplexity: 0.0000\n",
      "Test unseen_both completed. Accuracy: 0.1400, Top 1: 0.2175, Top 5: 0.4175, Top 10: 0.5337, Perplexity: 0.0000\n",
      "Epoch 13 completed in 4.71m. 0.03m per recording.\n"
     ]
    },
    {
     "name": "stderr",
     "output_type": "stream",
     "text": [
      "Training Epoch 14: 100%|██████████| 135/135 [04:21<00:00,  1.94s/it]\n"
     ]
    },
    {
     "name": "stdout",
     "output_type": "stream",
     "text": [
      "Testing at epoch 14\n",
      "Test unseen_subject completed. Accuracy: 0.1550, Top 1: 0.2265, Top 5: 0.4830, Top 10: 0.6030, Perplexity: 0.0000\n",
      "Test unseen_task completed. Accuracy: 0.2039, Top 1: 0.2765, Top 5: 0.5932, Top 10: 0.7290, Perplexity: 0.0000\n",
      "Test unseen_both completed. Accuracy: 0.1700, Top 1: 0.2500, Top 5: 0.4900, Top 10: 0.6175, Perplexity: 0.0000\n",
      "Epoch 14 completed in 4.72m. 0.03m per recording.\n"
     ]
    },
    {
     "name": "stderr",
     "output_type": "stream",
     "text": [
      "Training Epoch 15: 100%|██████████| 135/135 [04:18<00:00,  1.92s/it]\n"
     ]
    },
    {
     "name": "stdout",
     "output_type": "stream",
     "text": [
      "Testing at epoch 15\n",
      "Test unseen_subject completed. Accuracy: 0.1810, Top 1: 0.2690, Top 5: 0.5220, Top 10: 0.6175, Perplexity: 0.0000\n",
      "Test unseen_task completed. Accuracy: 0.1841, Top 1: 0.2521, Top 5: 0.5521, Top 10: 0.7005, Perplexity: 0.0000\n",
      "Test unseen_both completed. Accuracy: 0.1663, Top 1: 0.2550, Top 5: 0.5025, Top 10: 0.6200, Perplexity: 0.0000\n",
      "Epoch 15 completed in 4.67m. 0.03m per recording.\n"
     ]
    },
    {
     "name": "stderr",
     "output_type": "stream",
     "text": [
      "Training Epoch 16: 100%|██████████| 135/135 [04:22<00:00,  1.94s/it]\n"
     ]
    },
    {
     "name": "stdout",
     "output_type": "stream",
     "text": [
      "Testing at epoch 16\n",
      "Test unseen_subject completed. Accuracy: 0.1910, Top 1: 0.2910, Top 5: 0.5470, Top 10: 0.6455, Perplexity: 0.0000\n",
      "Test unseen_task completed. Accuracy: 0.2186, Top 1: 0.2927, Top 5: 0.5996, Top 10: 0.7320, Perplexity: 0.0000\n",
      "Test unseen_both completed. Accuracy: 0.1775, Top 1: 0.2438, Top 5: 0.5162, Top 10: 0.6125, Perplexity: 0.0000\n",
      "Epoch 16 completed in 4.73m. 0.04m per recording.\n"
     ]
    },
    {
     "name": "stderr",
     "output_type": "stream",
     "text": [
      "Training Epoch 17: 100%|██████████| 135/135 [04:19<00:00,  1.93s/it]\n"
     ]
    },
    {
     "name": "stdout",
     "output_type": "stream",
     "text": [
      "Testing at epoch 17\n",
      "Test unseen_subject completed. Accuracy: 0.1515, Top 1: 0.2305, Top 5: 0.4865, Top 10: 0.6025, Perplexity: 0.0000\n",
      "Test unseen_task completed. Accuracy: 0.1888, Top 1: 0.2518, Top 5: 0.5397, Top 10: 0.6774, Perplexity: 0.0000\n",
      "Test unseen_both completed. Accuracy: 0.1813, Top 1: 0.2463, Top 5: 0.4613, Top 10: 0.5825, Perplexity: 0.0000\n",
      "Epoch 17 completed in 4.70m. 0.03m per recording.\n"
     ]
    },
    {
     "name": "stderr",
     "output_type": "stream",
     "text": [
      "Training Epoch 18: 100%|██████████| 135/135 [04:19<00:00,  1.92s/it]\n"
     ]
    },
    {
     "name": "stdout",
     "output_type": "stream",
     "text": [
      "Testing at epoch 18\n",
      "Test unseen_subject completed. Accuracy: 0.1495, Top 1: 0.2275, Top 5: 0.4810, Top 10: 0.6135, Perplexity: 0.0000\n",
      "Test unseen_task completed. Accuracy: 0.2258, Top 1: 0.2986, Top 5: 0.6094, Top 10: 0.7375, Perplexity: 0.0000\n",
      "Test unseen_both completed. Accuracy: 0.1725, Top 1: 0.2388, Top 5: 0.5100, Top 10: 0.6338, Perplexity: 0.0000\n",
      "Epoch 18 completed in 4.69m. 0.03m per recording.\n"
     ]
    },
    {
     "name": "stderr",
     "output_type": "stream",
     "text": [
      "Training Epoch 19: 100%|██████████| 135/135 [04:21<00:00,  1.93s/it]\n"
     ]
    },
    {
     "name": "stdout",
     "output_type": "stream",
     "text": [
      "Testing at epoch 19\n",
      "Test unseen_subject completed. Accuracy: 0.0685, Top 1: 0.1105, Top 5: 0.3070, Top 10: 0.4380, Perplexity: 0.0000\n",
      "Test unseen_task completed. Accuracy: 0.1237, Top 1: 0.1792, Top 5: 0.4432, Top 10: 0.5908, Perplexity: 0.0000\n",
      "Test unseen_both completed. Accuracy: 0.0750, Top 1: 0.1250, Top 5: 0.3362, Top 10: 0.4688, Perplexity: 0.0000\n",
      "Epoch 19 completed in 4.71m. 0.03m per recording.\n"
     ]
    },
    {
     "name": "stderr",
     "output_type": "stream",
     "text": [
      "Training Epoch 20: 100%|██████████| 135/135 [04:22<00:00,  1.94s/it]\n"
     ]
    },
    {
     "name": "stdout",
     "output_type": "stream",
     "text": [
      "Testing at epoch 20\n",
      "Test unseen_subject completed. Accuracy: 0.2135, Top 1: 0.3015, Top 5: 0.5445, Top 10: 0.6415, Perplexity: 0.0000\n",
      "Test unseen_task completed. Accuracy: 0.2198, Top 1: 0.2869, Top 5: 0.6034, Top 10: 0.7378, Perplexity: 0.0000\n",
      "Test unseen_both completed. Accuracy: 0.1725, Top 1: 0.2787, Top 5: 0.4987, Top 10: 0.6038, Perplexity: 0.0000\n",
      "Epoch 20 completed in 4.72m. 0.03m per recording.\n"
     ]
    },
    {
     "name": "stderr",
     "output_type": "stream",
     "text": [
      "Training Epoch 21: 100%|██████████| 135/135 [04:19<00:00,  1.92s/it]\n"
     ]
    },
    {
     "name": "stdout",
     "output_type": "stream",
     "text": [
      "Testing at epoch 21\n",
      "Test unseen_subject completed. Accuracy: 0.0790, Top 1: 0.1340, Top 5: 0.3270, Top 10: 0.4520, Perplexity: 0.0000\n",
      "Test unseen_task completed. Accuracy: 0.0860, Top 1: 0.1289, Top 5: 0.3623, Top 10: 0.5122, Perplexity: 0.0000\n",
      "Test unseen_both completed. Accuracy: 0.0738, Top 1: 0.1263, Top 5: 0.3250, Top 10: 0.4400, Perplexity: 0.0000\n",
      "Epoch 21 completed in 4.68m. 0.03m per recording.\n"
     ]
    },
    {
     "name": "stderr",
     "output_type": "stream",
     "text": [
      "Training Epoch 22: 100%|██████████| 135/135 [04:21<00:00,  1.94s/it]\n"
     ]
    },
    {
     "name": "stdout",
     "output_type": "stream",
     "text": [
      "Testing at epoch 22\n",
      "Test unseen_subject completed. Accuracy: 0.0725, Top 1: 0.1170, Top 5: 0.3270, Top 10: 0.4610, Perplexity: 0.0000\n",
      "Test unseen_task completed. Accuracy: 0.1169, Top 1: 0.1684, Top 5: 0.4259, Top 10: 0.5727, Perplexity: 0.0000\n",
      "Test unseen_both completed. Accuracy: 0.0900, Top 1: 0.1487, Top 5: 0.3437, Top 10: 0.4650, Perplexity: 0.0000\n",
      "Epoch 22 completed in 4.71m. 0.03m per recording.\n"
     ]
    },
    {
     "name": "stderr",
     "output_type": "stream",
     "text": [
      "Training Epoch 23: 100%|██████████| 135/135 [04:21<00:00,  1.94s/it]\n"
     ]
    },
    {
     "name": "stdout",
     "output_type": "stream",
     "text": [
      "Testing at epoch 23\n",
      "Test unseen_subject completed. Accuracy: 0.1840, Top 1: 0.2670, Top 5: 0.4980, Top 10: 0.6115, Perplexity: 0.0000\n",
      "Test unseen_task completed. Accuracy: 0.2112, Top 1: 0.2799, Top 5: 0.5811, Top 10: 0.7135, Perplexity: 0.0000\n",
      "Test unseen_both completed. Accuracy: 0.1512, Top 1: 0.2487, Top 5: 0.4500, Top 10: 0.5575, Perplexity: 0.0000\n",
      "Epoch 23 completed in 4.71m. 0.03m per recording.\n"
     ]
    },
    {
     "name": "stderr",
     "output_type": "stream",
     "text": [
      "Training Epoch 24: 100%|██████████| 135/135 [04:21<00:00,  1.93s/it]\n"
     ]
    },
    {
     "name": "stdout",
     "output_type": "stream",
     "text": [
      "Testing at epoch 24\n",
      "Test unseen_subject completed. Accuracy: 0.1835, Top 1: 0.2730, Top 5: 0.5065, Top 10: 0.6055, Perplexity: 0.0000\n",
      "Test unseen_task completed. Accuracy: 0.2506, Top 1: 0.3280, Top 5: 0.6187, Top 10: 0.7446, Perplexity: 0.0000\n",
      "Test unseen_both completed. Accuracy: 0.1900, Top 1: 0.2687, Top 5: 0.4888, Top 10: 0.5900, Perplexity: 0.0000\n",
      "Epoch 24 completed in 4.71m. 0.03m per recording.\n"
     ]
    },
    {
     "name": "stderr",
     "output_type": "stream",
     "text": [
      "Training Epoch 25: 100%|██████████| 135/135 [04:21<00:00,  1.94s/it]\n"
     ]
    },
    {
     "name": "stdout",
     "output_type": "stream",
     "text": [
      "Testing at epoch 25\n",
      "Test unseen_subject completed. Accuracy: 0.1710, Top 1: 0.2550, Top 5: 0.5105, Top 10: 0.6265, Perplexity: 0.0000\n",
      "Test unseen_task completed. Accuracy: 0.1994, Top 1: 0.2702, Top 5: 0.5662, Top 10: 0.7073, Perplexity: 0.0000\n",
      "Test unseen_both completed. Accuracy: 0.1750, Top 1: 0.2488, Top 5: 0.4525, Top 10: 0.5725, Perplexity: 0.0000\n",
      "Epoch 25 completed in 4.72m. 0.03m per recording.\n"
     ]
    },
    {
     "name": "stderr",
     "output_type": "stream",
     "text": [
      "Training Epoch 26: 100%|██████████| 135/135 [04:21<00:00,  1.94s/it]\n"
     ]
    },
    {
     "name": "stdout",
     "output_type": "stream",
     "text": [
      "Testing at epoch 26\n",
      "Test unseen_subject completed. Accuracy: 0.1970, Top 1: 0.2935, Top 5: 0.5355, Top 10: 0.6315, Perplexity: 0.0000\n",
      "Test unseen_task completed. Accuracy: 0.2150, Top 1: 0.2858, Top 5: 0.5984, Top 10: 0.7290, Perplexity: 0.0000\n",
      "Test unseen_both completed. Accuracy: 0.1763, Top 1: 0.2600, Top 5: 0.4738, Top 10: 0.5813, Perplexity: 0.0000\n",
      "Epoch 26 completed in 4.72m. 0.03m per recording.\n"
     ]
    },
    {
     "name": "stderr",
     "output_type": "stream",
     "text": [
      "Training Epoch 27: 100%|██████████| 135/135 [04:21<00:00,  1.94s/it]\n"
     ]
    },
    {
     "name": "stdout",
     "output_type": "stream",
     "text": [
      "Testing at epoch 27\n",
      "Test unseen_subject completed. Accuracy: 0.1420, Top 1: 0.2195, Top 5: 0.4770, Top 10: 0.5880, Perplexity: 0.0000\n",
      "Test unseen_task completed. Accuracy: 0.1984, Top 1: 0.2698, Top 5: 0.5810, Top 10: 0.7135, Perplexity: 0.0000\n",
      "Test unseen_both completed. Accuracy: 0.1575, Top 1: 0.2225, Top 5: 0.4525, Top 10: 0.5675, Perplexity: 0.0000\n",
      "Epoch 27 completed in 4.73m. 0.04m per recording.\n",
      "Early stopping at epoch 27. Highest top 10 accuracy at epoch 16.\n",
      "Training completed.\n",
      "unseen_subject: Acc: 0.1910, Top 1: 0.2910, Top 5: 0.5470, Top 10: 0.6455\n",
      "unseen_task: Acc: 0.2186, Top 1: 0.2927, Top 5: 0.5996, Top 10: 0.7320\n",
      "unseen_both: Acc: 0.1775, Top 1: 0.2438, Top 5: 0.5162, Top 10: 0.6125\n"
     ]
    }
   ],
   "source": [
    "del session.logger\n",
    "del session\n",
    "\n",
    "\n",
    "from pickle import NONE\n",
    "from train.training_session_v0 import TrainingSessionV0\n",
    "from config import TrainingConfigV0\n",
    "import multiprocessing\n",
    "\n",
    "data_partition = {\n",
    "    \"gwilliams2023\": {\n",
    "        \"testing_subjects\": [19, 20, 21],\n",
    "        \"testing_tasks\": [0],\n",
    "    },\n",
    "    # \"schoffelen2022\": {\n",
    "    #     \"testing_subjects\": [],\n",
    "    #     \"testing_tasks\": [8, 9],\n",
    "    # },\n",
    "}\n",
    "\n",
    "from config import SimpleConvConfig\n",
    "from models.simpleconv import SimpleConv\n",
    "import torch\n",
    "\n",
    "model_config = SimpleConvConfig(\n",
    "    # Str to list of possible conditions\n",
    "    mel_normalization=False,\n",
    "    conditions={\n",
    "        \"study\": [],\n",
    "        \"subject\": [],\n",
    "    },\n",
    "    # Channels\n",
    "    in_channels=208,\n",
    "    out_channels=128,\n",
    "    hidden_dim=384,\n",
    "    dropout=0.2,\n",
    "    initial_batch_norm=True,\n",
    "    # Sensor layout settings\n",
    "    layout_dim=2,\n",
    "    layout_proj=True,\n",
    "    layout_scaling=\"minmax\",\n",
    "    # Merger with spatial attn\n",
    "    merger=False,\n",
    "    merger_emb_type=None,\n",
    "    merger_emb_dim=0,\n",
    "    merger_channels=0,\n",
    "    merger_dropout=False,\n",
    "    merger_conditional=None,\n",
    "    # Inital\n",
    "    initial_linear=384,\n",
    "    initial_depth=1,\n",
    "    # Conditional layers\n",
    "    conditional_layers=False,\n",
    "    conditional_layers_dim=None,  # input or hidden_dim\n",
    "    # Conv layer overall structure\n",
    "    depth=6,\n",
    "    kernel_size=3,\n",
    "    growth=1.0,\n",
    "    dilation_growth=2,\n",
    "    dilation_period=5,\n",
    "    glu=1,\n",
    "    conv_dropout=0.2,\n",
    "    dropout_input=0.2,\n",
    "    batch_norm=True,\n",
    "    # Quantizer\n",
    "    quantizer=False,\n",
    "    num_codebooks=0,\n",
    "    codebook_size=0,\n",
    "    quantizer_commitment=0,\n",
    "    quantizer_temp_init=0,\n",
    "    quantizer_temp_min=0,\n",
    "    quantizer_temp_decay=0,\n",
    "    # Transformers Encoders\n",
    "    transformer_input=None,\n",
    "    transformer_encoder_emb=None,\n",
    "    transformer_encoder_layers=0,\n",
    "    transformer_encoder_heads=0,\n",
    "    # Transformer Decoders\n",
    "    transformer_decoder_emb=None,\n",
    "    transformer_decoder_layers=0,\n",
    "    transformer_decoder_heads=0,\n",
    "    transformer_decoder_dim=0,\n",
    ")\n",
    "\n",
    "config = TrainingConfigV0(\n",
    "    brain_encoder_config=model_config,\n",
    "    data_partition=data_partition,\n",
    "    # Pre-processing parameters\n",
    "    # Brain\n",
    "    new_freq=100,\n",
    "    frequency_bands={\"all\": (0.5, 80)},\n",
    "    max_random_shift=1.0,\n",
    "    window_size=4,\n",
    "    window_stride=1,\n",
    "    brain_clipping=None,\n",
    "    baseline_window=0.5,\n",
    "    notch_filter=True,\n",
    "    scaling=\"standard\",\n",
    "    delay=0.15,\n",
    "    # Hyperparameters\n",
    "    learning_rate=3e-4,\n",
    "    weight_decay=1e-4,\n",
    "    epochs=50,\n",
    "    batch_size=256,\n",
    "    use_clip_loss=True,\n",
    "    use_mse_loss=True,\n",
    "    alpha=0.6,\n",
    "    random_test_size=10,\n",
    "    seed=42,\n",
    ")\n",
    "\n",
    "session = TrainingSessionV0(\n",
    "    config=config,\n",
    "    studies={study: \"audio\" for study in data_partition.keys()},\n",
    "    data_path=\"data\",\n",
    "    save_path=\"saves/phase1/ablation/notch_no_clip\",\n",
    "    clear_cache=True,\n",
    "    cache_name=\"cache\",\n",
    ")\n",
    "\n",
    "try:\n",
    "    session.train(\n",
    "        device=\"cuda\",\n",
    "        buffer_size=30,\n",
    "        num_workers=(multiprocessing.cpu_count() - 2) // 2,\n",
    "        max_cache_size=400,\n",
    "        current_epoch=0,\n",
    "    )\n",
    "except KeyboardInterrupt as e:\n",
    "    print(\"Exited\")"
   ]
  },
  {
   "cell_type": "markdown",
   "metadata": {},
   "source": [
    "## notch, no clip"
   ]
  },
  {
   "cell_type": "markdown",
   "metadata": {},
   "source": []
  }
 ],
 "metadata": {
  "kernelspec": {
   "display_name": "brain",
   "language": "python",
   "name": "python3"
  },
  "language_info": {
   "codemirror_mode": {
    "name": "ipython",
    "version": 3
   },
   "file_extension": ".py",
   "mimetype": "text/x-python",
   "name": "python",
   "nbconvert_exporter": "python",
   "pygments_lexer": "ipython3",
   "version": "3.11.7"
  }
 },
 "nbformat": 4,
 "nbformat_minor": 4
}
