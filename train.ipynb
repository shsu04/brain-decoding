{
 "cells": [
  {
   "cell_type": "code",
   "execution_count": 1,
   "metadata": {},
   "outputs": [],
   "source": [
    "data_partition = {\n",
    "    \"gwilliams2023\": {\n",
    "        \"testing_subjects\": [19, 20, 21],\n",
    "        \"testing_tasks\": [0],\n",
    "    },\n",
    "    # \"schoffelen2022\": {\n",
    "    #     \"testing_subjects\": [],\n",
    "    #     \"testing_tasks\": [8, 9],\n",
    "    # },\n",
    "}"
   ]
  },
  {
   "cell_type": "code",
   "execution_count": 2,
   "metadata": {},
   "outputs": [],
   "source": [
    "# from utils.compression import compress_directories, decompress_directories\n",
    "\n",
    "# for base_path, batch_type in data_partition.items():\n",
    "#     decompress_directories(\n",
    "#         source_path=f'downloaded_data/{base_path}',\n",
    "#         destination_path=f'data/{base_path}',\n",
    "#         checksum_file_name=\"checksums.txt\",\n",
    "#         delete_compressed_files=True,\n",
    "#         num_workers=26\n",
    "#     )"
   ]
  },
  {
   "cell_type": "code",
   "execution_count": 3,
   "metadata": {},
   "outputs": [],
   "source": [
    "from config import SimpleConvConfig\n",
    "from models.simpleconv import SimpleConv\n",
    "import torch\n",
    "\n",
    "model_config = SimpleConvConfig(\n",
    "    # Str to list of possible conditions\n",
    "    mel_normalization=False,\n",
    "    conditions={\n",
    "        \"study\": [],\n",
    "        \"subject\": [],\n",
    "    },\n",
    "    # Channels\n",
    "    in_channels=208,\n",
    "    out_channels=128,\n",
    "    hidden_dim=384,\n",
    "    dropout=0.2,\n",
    "    initial_batch_norm=True,\n",
    "    # Sensor layout settings\n",
    "    layout_dim=2,\n",
    "    layout_proj=True,\n",
    "    layout_scaling=\"minmax\",\n",
    "    # Merger with spatial attn\n",
    "    merger=False,\n",
    "    merger_emb_type=None,\n",
    "    merger_emb_dim=0,\n",
    "    merger_channels=0,\n",
    "    merger_dropout=False,\n",
    "    merger_conditional=None,\n",
    "    # Inital\n",
    "    initial_linear=384,\n",
    "    initial_depth=1,\n",
    "    # Conditional layers\n",
    "    conditional_layers=False,\n",
    "    conditional_layers_dim=None,  # input or hidden_dim\n",
    "    # Conv layer overall structure\n",
    "    depth=6,\n",
    "    kernel_size=3,\n",
    "    growth=1.0,\n",
    "    dilation_growth=2,\n",
    "    dilation_period=5,\n",
    "    glu=1,\n",
    "    conv_dropout=0.2,\n",
    "    dropout_input=0.2,\n",
    "    batch_norm=True,\n",
    "    # Quantizer\n",
    "    quantizer=False,\n",
    "    num_codebooks=0,\n",
    "    codebook_size=0,\n",
    "    quantizer_commitment=0,\n",
    "    quantizer_temp_init=0,\n",
    "    quantizer_temp_min=0,\n",
    "    quantizer_temp_decay=0,\n",
    "    # Transformers Encoders\n",
    "    transformer_input=None,\n",
    "    transformer_encoder_emb=None,\n",
    "    transformer_encoder_layers=0,\n",
    "    transformer_encoder_heads=0,\n",
    "    # Transformer Decoders\n",
    "    transformer_decoder_emb=None,\n",
    "    transformer_decoder_layers=0,\n",
    "    transformer_decoder_heads=0,\n",
    "    transformer_decoder_dim=0,\n",
    ")"
   ]
  },
  {
   "cell_type": "code",
   "execution_count": 4,
   "metadata": {},
   "outputs": [
    {
     "name": "stdout",
     "output_type": "stream",
     "text": [
      "Loading Gwilliams2023 with batch type audio\n",
      "Data partitioned on studies ['gwilliams2023'].\n",
      "Train: 135, Unseen Task: 12, Unseen Subject: 45, Unseen Both: 4.\n",
      "\n",
      "GPU is not NVIDIA V100, A100, or H100. Speedup numbers may be lower than expected.\n",
      "SimpleConv initialized with 8448160 parameters, cond: ['study', 'subject']\n",
      "Merger False, merger channels 0\n",
      "ConvBlocks: 6, hidden_dim: 384, params 7973376\n"
     ]
    }
   ],
   "source": [
    "from train.training_session_v0 import TrainingSessionV0\n",
    "from config import TrainingConfigV0\n",
    "import multiprocessing\n",
    "\n",
    "config = TrainingConfigV0(\n",
    "    brain_encoder_config=model_config,\n",
    "    data_partition=data_partition,\n",
    "    # Pre-processing parameters\n",
    "    # Brain\n",
    "    new_freq=100,\n",
    "    frequency_bands={\"all\": (0.5, 80)},\n",
    "    max_random_shift=1.0,\n",
    "    window_size=4,\n",
    "    window_stride=1,\n",
    "    brain_clipping=20,\n",
    "    baseline_window=0.5,\n",
    "    notch_filter=True,\n",
    "    scaling=\"standard\",\n",
    "    delay=0.0,\n",
    "    # Hyperparameters\n",
    "    learning_rate=3e-4,\n",
    "    weight_decay=1e-4,\n",
    "    epochs=50,\n",
    "    batch_size=256,\n",
    "    use_clip_loss=True,\n",
    "    use_mse_loss=True,\n",
    "    alpha=0.6,\n",
    "    random_test_size=10,\n",
    "    seed=42,\n",
    ")\n",
    "\n",
    "session = TrainingSessionV0(\n",
    "    config=config,\n",
    "    studies={study: \"audio\" for study in data_partition.keys()},\n",
    "    data_path=\"data\",\n",
    "    save_path=\"saves/phase1/ablation/delay/0_0\",\n",
    "    clear_cache=False,\n",
    ")"
   ]
  },
  {
   "cell_type": "code",
   "execution_count": null,
   "metadata": {},
   "outputs": [
    {
     "name": "stderr",
     "output_type": "stream",
     "text": [
      "2024-12-20 17:53:58,294\tINFO worker.py:1821 -- Started a local Ray instance.\n",
      "Training Epoch 1: 100%|██████████| 135/135 [25:21<00:00, 11.27s/it] \n"
     ]
    },
    {
     "name": "stdout",
     "output_type": "stream",
     "text": [
      "Testing at epoch 1\n",
      "Test unseen_subject completed. Accuracy: 0.0380, Top 1: 0.0690, Top 5: 0.2625, Top 10: 0.4135, Perplexity: 0.0000\n",
      "Test unseen_task completed. Accuracy: 0.0503, Top 1: 0.0761, Top 5: 0.3019, Top 10: 0.4707, Perplexity: 0.0000\n",
      "Test unseen_both completed. Accuracy: 0.0488, Top 1: 0.0887, Top 5: 0.2975, Top 10: 0.4337, Perplexity: 0.0000\n",
      "Epoch 1 completed in 29.41m. 0.22m per recording.\n"
     ]
    },
    {
     "name": "stderr",
     "output_type": "stream",
     "text": [
      "Training Epoch 2: 100%|██████████| 135/135 [04:16<00:00,  1.90s/it]\n"
     ]
    },
    {
     "name": "stdout",
     "output_type": "stream",
     "text": [
      "Testing at epoch 2\n",
      "Test unseen_subject completed. Accuracy: 0.1025, Top 1: 0.1740, Top 5: 0.3950, Top 10: 0.5230, Perplexity: 0.0000\n",
      "Test unseen_task completed. Accuracy: 0.0825, Top 1: 0.1220, Top 5: 0.3541, Top 10: 0.5091, Perplexity: 0.0000\n",
      "Test unseen_both completed. Accuracy: 0.0575, Top 1: 0.1013, Top 5: 0.3087, Top 10: 0.4338, Perplexity: 0.0000\n",
      "Epoch 2 completed in 4.62m. 0.03m per recording.\n"
     ]
    },
    {
     "name": "stderr",
     "output_type": "stream",
     "text": [
      "Training Epoch 3: 100%|██████████| 135/135 [04:17<00:00,  1.91s/it]\n"
     ]
    },
    {
     "name": "stdout",
     "output_type": "stream",
     "text": [
      "Testing at epoch 3\n",
      "Test unseen_subject completed. Accuracy: 0.0890, Top 1: 0.1570, Top 5: 0.3705, Top 10: 0.4830, Perplexity: 0.0000\n",
      "Test unseen_task completed. Accuracy: 0.1386, Top 1: 0.1904, Top 5: 0.4707, Top 10: 0.6209, Perplexity: 0.0000\n",
      "Test unseen_both completed. Accuracy: 0.1013, Top 1: 0.1550, Top 5: 0.3875, Top 10: 0.5125, Perplexity: 0.0000\n",
      "Epoch 3 completed in 4.65m. 0.03m per recording.\n"
     ]
    },
    {
     "name": "stderr",
     "output_type": "stream",
     "text": [
      "Training Epoch 4: 100%|██████████| 135/135 [04:16<00:00,  1.90s/it]\n"
     ]
    },
    {
     "name": "stdout",
     "output_type": "stream",
     "text": [
      "Testing at epoch 4\n",
      "Test unseen_subject completed. Accuracy: 0.0550, Top 1: 0.0960, Top 5: 0.3045, Top 10: 0.4680, Perplexity: 0.0000\n",
      "Test unseen_task completed. Accuracy: 0.0940, Top 1: 0.1336, Top 5: 0.4007, Top 10: 0.5668, Perplexity: 0.0000\n",
      "Test unseen_both completed. Accuracy: 0.0762, Top 1: 0.1200, Top 5: 0.3275, Top 10: 0.4850, Perplexity: 0.0000\n",
      "Epoch 4 completed in 4.64m. 0.03m per recording.\n"
     ]
    },
    {
     "name": "stderr",
     "output_type": "stream",
     "text": [
      "Training Epoch 5: 100%|██████████| 135/135 [04:17<00:00,  1.91s/it]\n"
     ]
    },
    {
     "name": "stdout",
     "output_type": "stream",
     "text": [
      "Testing at epoch 5\n",
      "Test unseen_subject completed. Accuracy: 0.0830, Top 1: 0.1385, Top 5: 0.3735, Top 10: 0.5220, Perplexity: 0.0000\n",
      "Test unseen_task completed. Accuracy: 0.1424, Top 1: 0.1946, Top 5: 0.4802, Top 10: 0.6348, Perplexity: 0.0000\n",
      "Test unseen_both completed. Accuracy: 0.1175, Top 1: 0.1850, Top 5: 0.4088, Top 10: 0.5525, Perplexity: 0.0000\n",
      "Epoch 5 completed in 4.64m. 0.03m per recording.\n"
     ]
    },
    {
     "name": "stderr",
     "output_type": "stream",
     "text": [
      "Training Epoch 6: 100%|██████████| 135/135 [04:17<00:00,  1.91s/it]\n"
     ]
    },
    {
     "name": "stdout",
     "output_type": "stream",
     "text": [
      "Testing at epoch 6\n",
      "Test unseen_subject completed. Accuracy: 0.0830, Top 1: 0.1255, Top 5: 0.3135, Top 10: 0.4420, Perplexity: 0.0000\n",
      "Test unseen_task completed. Accuracy: 0.1335, Top 1: 0.1886, Top 5: 0.4413, Top 10: 0.5794, Perplexity: 0.0000\n",
      "Test unseen_both completed. Accuracy: 0.1000, Top 1: 0.1362, Top 5: 0.3175, Top 10: 0.4275, Perplexity: 0.0000\n",
      "Epoch 6 completed in 4.65m. 0.03m per recording.\n"
     ]
    },
    {
     "name": "stderr",
     "output_type": "stream",
     "text": [
      "Training Epoch 7: 100%|██████████| 135/135 [04:17<00:00,  1.90s/it]\n"
     ]
    },
    {
     "name": "stdout",
     "output_type": "stream",
     "text": [
      "Testing at epoch 7\n",
      "Test unseen_subject completed. Accuracy: 0.1335, Top 1: 0.2050, Top 5: 0.4485, Top 10: 0.5625, Perplexity: 0.0000\n",
      "Test unseen_task completed. Accuracy: 0.1857, Top 1: 0.2498, Top 5: 0.5450, Top 10: 0.7010, Perplexity: 0.0000\n",
      "Test unseen_both completed. Accuracy: 0.1400, Top 1: 0.2400, Top 5: 0.4663, Top 10: 0.5925, Perplexity: 0.0000\n",
      "Epoch 7 completed in 4.63m. 0.03m per recording.\n"
     ]
    },
    {
     "name": "stderr",
     "output_type": "stream",
     "text": [
      "Training Epoch 8: 100%|██████████| 135/135 [04:15<00:00,  1.89s/it]\n"
     ]
    },
    {
     "name": "stdout",
     "output_type": "stream",
     "text": [
      "Testing at epoch 8\n",
      "Test unseen_subject completed. Accuracy: 0.1175, Top 1: 0.1915, Top 5: 0.4385, Top 10: 0.5715, Perplexity: 0.0000\n",
      "Test unseen_task completed. Accuracy: 0.1576, Top 1: 0.2122, Top 5: 0.5008, Top 10: 0.6491, Perplexity: 0.0000\n",
      "Test unseen_both completed. Accuracy: 0.1075, Top 1: 0.1787, Top 5: 0.3987, Top 10: 0.5325, Perplexity: 0.0000\n",
      "Epoch 8 completed in 4.61m. 0.03m per recording.\n"
     ]
    },
    {
     "name": "stderr",
     "output_type": "stream",
     "text": [
      "Training Epoch 9: 100%|██████████| 135/135 [04:16<00:00,  1.90s/it]\n"
     ]
    },
    {
     "name": "stdout",
     "output_type": "stream",
     "text": [
      "Testing at epoch 9\n",
      "Test unseen_subject completed. Accuracy: 0.0805, Top 1: 0.1345, Top 5: 0.3620, Top 10: 0.5105, Perplexity: 0.0000\n",
      "Test unseen_task completed. Accuracy: 0.1317, Top 1: 0.1839, Top 5: 0.4587, Top 10: 0.6101, Perplexity: 0.0000\n",
      "Test unseen_both completed. Accuracy: 0.0975, Top 1: 0.1588, Top 5: 0.4112, Top 10: 0.5387, Perplexity: 0.0000\n",
      "Epoch 9 completed in 4.63m. 0.03m per recording.\n"
     ]
    },
    {
     "name": "stderr",
     "output_type": "stream",
     "text": [
      "Training Epoch 10: 100%|██████████| 135/135 [04:17<00:00,  1.90s/it]\n"
     ]
    },
    {
     "name": "stdout",
     "output_type": "stream",
     "text": [
      "Testing at epoch 10\n",
      "Test unseen_subject completed. Accuracy: 0.1425, Top 1: 0.2190, Top 5: 0.4805, Top 10: 0.6105, Perplexity: 0.0000\n",
      "Test unseen_task completed. Accuracy: 0.1958, Top 1: 0.2706, Top 5: 0.5816, Top 10: 0.7199, Perplexity: 0.0000\n",
      "Test unseen_both completed. Accuracy: 0.1512, Top 1: 0.2200, Top 5: 0.4675, Top 10: 0.5725, Perplexity: 0.0000\n",
      "Epoch 10 completed in 4.63m. 0.03m per recording.\n"
     ]
    },
    {
     "name": "stderr",
     "output_type": "stream",
     "text": [
      "Training Epoch 11: 100%|██████████| 135/135 [04:17<00:00,  1.90s/it]\n"
     ]
    },
    {
     "name": "stdout",
     "output_type": "stream",
     "text": [
      "Testing at epoch 11\n",
      "Test unseen_subject completed. Accuracy: 0.1685, Top 1: 0.2490, Top 5: 0.4895, Top 10: 0.6070, Perplexity: 0.0000\n",
      "Test unseen_task completed. Accuracy: 0.1806, Top 1: 0.2469, Top 5: 0.5382, Top 10: 0.6784, Perplexity: 0.0000\n",
      "Test unseen_both completed. Accuracy: 0.1413, Top 1: 0.2225, Top 5: 0.4475, Top 10: 0.5425, Perplexity: 0.0000\n",
      "Epoch 11 completed in 4.63m. 0.03m per recording.\n"
     ]
    },
    {
     "name": "stderr",
     "output_type": "stream",
     "text": [
      "Training Epoch 12: 100%|██████████| 135/135 [04:18<00:00,  1.91s/it]\n"
     ]
    },
    {
     "name": "stdout",
     "output_type": "stream",
     "text": [
      "Testing at epoch 12\n",
      "Test unseen_subject completed. Accuracy: 0.1575, Top 1: 0.2305, Top 5: 0.4630, Top 10: 0.5825, Perplexity: 0.0000\n",
      "Test unseen_task completed. Accuracy: 0.2182, Top 1: 0.2907, Top 5: 0.5840, Top 10: 0.7140, Perplexity: 0.0000\n",
      "Test unseen_both completed. Accuracy: 0.1725, Top 1: 0.2350, Top 5: 0.4662, Top 10: 0.5863, Perplexity: 0.0000\n",
      "Epoch 12 completed in 4.66m. 0.03m per recording.\n"
     ]
    },
    {
     "name": "stderr",
     "output_type": "stream",
     "text": [
      "Training Epoch 13: 100%|██████████| 135/135 [04:17<00:00,  1.90s/it]\n"
     ]
    },
    {
     "name": "stdout",
     "output_type": "stream",
     "text": [
      "Testing at epoch 13\n",
      "Test unseen_subject completed. Accuracy: 0.1750, Top 1: 0.2610, Top 5: 0.5015, Top 10: 0.6115, Perplexity: 0.0000\n",
      "Test unseen_task completed. Accuracy: 0.1981, Top 1: 0.2675, Top 5: 0.5534, Top 10: 0.6953, Perplexity: 0.0000\n",
      "Test unseen_both completed. Accuracy: 0.1562, Top 1: 0.2200, Top 5: 0.4750, Top 10: 0.5763, Perplexity: 0.0000\n",
      "Epoch 13 completed in 4.64m. 0.03m per recording.\n"
     ]
    },
    {
     "name": "stderr",
     "output_type": "stream",
     "text": [
      "Training Epoch 14: 100%|██████████| 135/135 [04:17<00:00,  1.90s/it]\n"
     ]
    },
    {
     "name": "stdout",
     "output_type": "stream",
     "text": [
      "Testing at epoch 14\n",
      "Test unseen_subject completed. Accuracy: 0.0930, Top 1: 0.1630, Top 5: 0.4100, Top 10: 0.5540, Perplexity: 0.0000\n",
      "Test unseen_task completed. Accuracy: 0.1508, Top 1: 0.2094, Top 5: 0.4998, Top 10: 0.6547, Perplexity: 0.0000\n",
      "Test unseen_both completed. Accuracy: 0.1162, Top 1: 0.2075, Top 5: 0.4375, Top 10: 0.5500, Perplexity: 0.0000\n",
      "Epoch 14 completed in 4.63m. 0.03m per recording.\n"
     ]
    },
    {
     "name": "stderr",
     "output_type": "stream",
     "text": [
      "Training Epoch 15: 100%|██████████| 135/135 [04:17<00:00,  1.91s/it]\n"
     ]
    },
    {
     "name": "stdout",
     "output_type": "stream",
     "text": [
      "Testing at epoch 15\n",
      "Test unseen_subject completed. Accuracy: 0.1665, Top 1: 0.2575, Top 5: 0.4990, Top 10: 0.5985, Perplexity: 0.0000\n",
      "Test unseen_task completed. Accuracy: 0.2174, Top 1: 0.2897, Top 5: 0.5842, Top 10: 0.7159, Perplexity: 0.0000\n",
      "Test unseen_both completed. Accuracy: 0.1588, Top 1: 0.2462, Top 5: 0.4700, Top 10: 0.5763, Perplexity: 0.0000\n",
      "Epoch 15 completed in 4.63m. 0.03m per recording.\n"
     ]
    },
    {
     "name": "stderr",
     "output_type": "stream",
     "text": [
      "Training Epoch 16: 100%|██████████| 135/135 [04:17<00:00,  1.91s/it]\n"
     ]
    },
    {
     "name": "stdout",
     "output_type": "stream",
     "text": [
      "Testing at epoch 16\n",
      "Test unseen_subject completed. Accuracy: 0.1630, Top 1: 0.2410, Top 5: 0.4710, Top 10: 0.5890, Perplexity: 0.0000\n",
      "Test unseen_task completed. Accuracy: 0.2160, Top 1: 0.2842, Top 5: 0.5756, Top 10: 0.7167, Perplexity: 0.0000\n",
      "Test unseen_both completed. Accuracy: 0.1450, Top 1: 0.2275, Top 5: 0.4600, Top 10: 0.5763, Perplexity: 0.0000\n",
      "Epoch 16 completed in 4.64m. 0.03m per recording.\n"
     ]
    },
    {
     "name": "stderr",
     "output_type": "stream",
     "text": [
      "Training Epoch 17: 100%|██████████| 135/135 [04:17<00:00,  1.91s/it]\n"
     ]
    },
    {
     "name": "stdout",
     "output_type": "stream",
     "text": [
      "Testing at epoch 17\n",
      "Test unseen_subject completed. Accuracy: 0.1790, Top 1: 0.2545, Top 5: 0.5025, Top 10: 0.6100, Perplexity: 0.0000\n",
      "Test unseen_task completed. Accuracy: 0.1861, Top 1: 0.2516, Top 5: 0.5596, Top 10: 0.6959, Perplexity: 0.0000\n",
      "Test unseen_both completed. Accuracy: 0.1450, Top 1: 0.2150, Top 5: 0.4488, Top 10: 0.5600, Perplexity: 0.0000\n",
      "Epoch 17 completed in 4.64m. 0.03m per recording.\n"
     ]
    },
    {
     "name": "stderr",
     "output_type": "stream",
     "text": [
      "Training Epoch 18: 100%|██████████| 135/135 [04:18<00:00,  1.91s/it]\n"
     ]
    },
    {
     "name": "stdout",
     "output_type": "stream",
     "text": [
      "Testing at epoch 18\n",
      "Test unseen_subject completed. Accuracy: 0.1755, Top 1: 0.2530, Top 5: 0.4820, Top 10: 0.5805, Perplexity: 0.0000\n",
      "Test unseen_task completed. Accuracy: 0.1685, Top 1: 0.2303, Top 5: 0.5227, Top 10: 0.6659, Perplexity: 0.0000\n",
      "Test unseen_both completed. Accuracy: 0.1162, Top 1: 0.1825, Top 5: 0.4262, Top 10: 0.5375, Perplexity: 0.0000\n",
      "Epoch 18 completed in 4.66m. 0.03m per recording.\n"
     ]
    },
    {
     "name": "stderr",
     "output_type": "stream",
     "text": [
      "Training Epoch 19:  43%|████▎     | 58/135 [02:13<02:33,  2.00s/it]"
     ]
    }
   ],
   "source": [
    "try:\n",
    "    session.train(\n",
    "        device=\"cuda\",\n",
    "        buffer_size=30,\n",
    "        num_workers=multiprocessing.cpu_count() - 2,\n",
    "        max_cache_size=400,\n",
    "        current_epoch=0,\n",
    "    )\n",
    "except KeyboardInterrupt as e:\n",
    "    print(\"Exited\")"
   ]
  },
  {
   "cell_type": "code",
   "execution_count": 6,
   "metadata": {},
   "outputs": [
    {
     "data": {
      "text/plain": [
       "14"
      ]
     },
     "execution_count": 6,
     "metadata": {},
     "output_type": "execute_result"
    }
   ],
   "source": [
    "session.highest_epoch"
   ]
  },
  {
   "cell_type": "code",
   "execution_count": null,
   "metadata": {},
   "outputs": [],
   "source": []
  }
 ],
 "metadata": {
  "kernelspec": {
   "display_name": "brain",
   "language": "python",
   "name": "python3"
  },
  "language_info": {
   "codemirror_mode": {
    "name": "ipython",
    "version": 3
   },
   "file_extension": ".py",
   "mimetype": "text/x-python",
   "name": "python",
   "nbconvert_exporter": "python",
   "pygments_lexer": "ipython3",
   "version": "3.11.7"
  }
 },
 "nbformat": 4,
 "nbformat_minor": 4
}
