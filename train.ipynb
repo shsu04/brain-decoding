{
 "cells": [
  {
   "cell_type": "code",
   "execution_count": 1,
   "metadata": {},
   "outputs": [],
   "source": [
    "from config.simpleconv_config import SimpleConvConfig\n",
    "from models.simpleconv import SimpleConv\n",
    "from studies.study_factory import StudyFactory\n",
    "from utils.pre_processor import PreProcessor\n",
    "from utils.fetch import fetch_audio_and_brain_pairs\n",
    "\n",
    "import torch\n",
    "device = 'cuda'"
   ]
  },
  {
   "cell_type": "code",
   "execution_count": null,
   "metadata": {},
   "outputs": [],
   "source": [
    "brain_sample_rate = 100\n",
    "frequency_bands = {\"all\": (0.5, 100)}\n",
    "subject, task, session = 0, 3, 0\n",
    "seed = 42\n",
    "max_random_shift = 1\n",
    "window_size = 4\n",
    "n_jobs = -1\n",
    "\n",
    "study = StudyFactory().create_study(\"gwilliams\", path=\"data/gwilliams\")\n",
    "pre_processor = PreProcessor(\n",
    "    brain_sample_rate=brain_sample_rate,\n",
    ")"
   ]
  },
  {
   "cell_type": "code",
   "execution_count": 3,
   "metadata": {},
   "outputs": [
    {
     "name": "stderr",
     "output_type": "stream",
     "text": [
      "Special tokens have been added in the vocabulary, make sure the associated word embeddings are fine-tuned or trained.\n"
     ]
    },
    {
     "data": {
      "text/plain": [
       "(torch.Size([199, 208, 400]),\n",
       " torch.Size([199, 128, 400]),\n",
       " torch.Size([208, 2]))"
      ]
     },
     "execution_count": 3,
     "metadata": {},
     "output_type": "execute_result"
    }
   ],
   "source": [
    "brain_segments, audio_segments, layout = fetch_audio_and_brain_pairs(\n",
    "    subject=subject,\n",
    "    task=task,\n",
    "    session=session,\n",
    "    max_random_shift=max_random_shift,\n",
    "    window_size=window_size,\n",
    "    study=study,\n",
    "    pre_processor=pre_processor,\n",
    "    frequency_bands=frequency_bands,\n",
    "    audio_sample_rate=16000,\n",
    "    hop_length=160,\n",
    "    n_jobs=n_jobs,\n",
    ")\n",
    "brain_segments['all'].shape, audio_segments.shape, layout.shape"
   ]
  },
  {
   "cell_type": "code",
   "execution_count": 4,
   "metadata": {},
   "outputs": [
    {
     "name": "stdout",
     "output_type": "stream",
     "text": [
      "\n",
      "SimpleConv: \n",
      "\tParams: 14432128\n",
      "\tConv blocks: 5\n",
      "\tTrans layers: 0\n"
     ]
    }
   ],
   "source": [
    "model = SimpleConv(SimpleConvConfig(transformer_layers=0)).to(device)"
   ]
  },
  {
   "cell_type": "code",
   "execution_count": 5,
   "metadata": {},
   "outputs": [],
   "source": [
    "output = model(\n",
    "    {\"meg\": brain_segments[\"all\"].to(device)},\n",
    "    layout=layout.to(device),\n",
    "    subjects=torch.full((brain_segments[\"all\"].shape[0],), subject).to(device),\n",
    ")"
   ]
  },
  {
   "cell_type": "code",
   "execution_count": 6,
   "metadata": {},
   "outputs": [
    {
     "data": {
      "text/plain": [
       "torch.Size([199, 128, 400])"
      ]
     },
     "execution_count": 6,
     "metadata": {},
     "output_type": "execute_result"
    }
   ],
   "source": [
    "output.shape"
   ]
  }
 ],
 "metadata": {
  "kernelspec": {
   "display_name": "brain",
   "language": "python",
   "name": "python3"
  },
  "language_info": {
   "codemirror_mode": {
    "name": "ipython",
    "version": 3
   },
   "file_extension": ".py",
   "mimetype": "text/x-python",
   "name": "python",
   "nbconvert_exporter": "python",
   "pygments_lexer": "ipython3",
   "version": "3.11.7"
  }
 },
 "nbformat": 4,
 "nbformat_minor": 2
}
