{
 "cells": [
  {
   "cell_type": "code",
   "execution_count": 1,
   "metadata": {},
   "outputs": [],
   "source": [
    "data_partition = {\n",
    "        \"gwilliams2023\": {\n",
    "            \"testing_subjects\": [19, 20, 21],\n",
    "            \"testing_tasks\": [0],\n",
    "        }\n",
    "        # \"schoffelen2022\": {\n",
    "        #     \"testing_subjects\": [],\n",
    "        #     \"testing_tasks\": [8, 9],\n",
    "        # },\n",
    "}"
   ]
  },
  {
   "cell_type": "code",
   "execution_count": 2,
   "metadata": {},
   "outputs": [],
   "source": [
    "# from utils.compression import compress_directories, decompress_directories\n",
    "\n",
    "# for base_path, batch_type in data_partition.items():\n",
    "#     decompress_directories(\n",
    "#         source_path=f'downloaded_data/{base_path}',\n",
    "#         destination_path=f'data/{base_path}',\n",
    "#         checksum_file_name=\"checksums.txt\",\n",
    "#         delete_compressed_files=True,\n",
    "#         num_workers=None\n",
    "#     )"
   ]
  },
  {
   "cell_type": "code",
   "execution_count": 2,
   "metadata": {},
   "outputs": [],
   "source": [
    "from config import SimpleConvConfig\n",
    "from models.simpleconv import SimpleConv\n",
    "import torch\n",
    "\n",
    "model_config = SimpleConvConfig(\n",
    "    # Str to list of possible conditions\n",
    "    mel_normalization=False,\n",
    "    conditions=None,\n",
    "    # Channels\n",
    "    in_channels=208,\n",
    "    out_channels=128,\n",
    "    hidden_dim=256,\n",
    "    dropout=0.2,\n",
    "    initial_batch_norm=False,\n",
    "    # Sensor layout settings\n",
    "    layout_dim=2,\n",
    "    layout_proj=True,\n",
    "    layout_scaling=\"minmax\",\n",
    "    # Merger with spatial attn\n",
    "    merger=False,\n",
    "    merger_emb_type=None,\n",
    "    merger_emb_dim=None,\n",
    "    merger_channels=None,\n",
    "    merger_dropout=None,\n",
    "    merger_conditional=None,\n",
    "    # Inital\n",
    "    initial_linear=False,\n",
    "    initial_depth=0,\n",
    "    # Conditional layers\n",
    "    conditional_layers=False,\n",
    "    conditional_layers_dim=None,  # input or hidden_dim\n",
    "    # Conv layer overall structure\n",
    "    depth=4,\n",
    "    kernel_size=3,\n",
    "    growth=1.0,\n",
    "    dilation_growth=2,\n",
    "    dilation_period=5,\n",
    "    glu=1,\n",
    "    conv_dropout=0.2,\n",
    "    dropout_input=0.2,\n",
    "    batch_norm=True,\n",
    "    # Quantizer\n",
    "    quantizer=False,\n",
    "    num_codebooks=0,\n",
    "    codebook_size=0,\n",
    "    quantizer_commitment=0,\n",
    "    quantizer_temp_init=0,\n",
    "    quantizer_temp_min=0,\n",
    "    quantizer_temp_decay=0,\n",
    "    # Transformers Encoders\n",
    "    transformer_input=False,\n",
    "    transformer_encoder_emb=None,\n",
    "    transformer_encoder_layers=0,\n",
    "    transformer_encoder_heads=0,\n",
    "    # Transformer Decoders\n",
    "    transformer_decoder_emb=None,\n",
    "    transformer_decoder_layers=0,\n",
    "    transformer_decoder_heads=0,\n",
    "    transformer_decoder_dim=0,\n",
    ")"
   ]
  },
  {
   "cell_type": "code",
   "execution_count": 3,
   "metadata": {},
   "outputs": [
    {
     "name": "stdout",
     "output_type": "stream",
     "text": [
      "Loading Gwilliams2023 with batch type audio\n",
      "Data partitioned on studies ['gwilliams2023'].\n",
      "Train: 135, Unseen Task: 12, Unseen Subject: 45, Unseen Both: 4.\n",
      "\n",
      "SimpleConv initialized with 2524704 parameters, cond: []\n",
      "Merger False, merger channels None\n",
      "ConvBlocks: 4, hidden_dim: 256, params 2327040\n"
     ]
    }
   ],
   "source": [
    "from sympy import false\n",
    "from train.training_session_v0 import TrainingSessionV0\n",
    "from config import TrainingConfigV0\n",
    "import multiprocessing\n",
    "\n",
    "config = TrainingConfigV0(\n",
    "    brain_encoder_config=model_config,\n",
    "    data_partition=data_partition,\n",
    "    # Pre-processing parameters\n",
    "    # Brain\n",
    "    new_freq=100,\n",
    "    frequency_bands={'all': (None, None)},\n",
    "    max_random_shift=1.0,\n",
    "    window_size= 4,\n",
    "    window_stride=1,\n",
    "    brain_clipping=None,\n",
    "    baseline_window=None,\n",
    "    notch_filter=True,\n",
    "    scaling='both',\n",
    "    # Hyperparameters\n",
    "    learning_rate = 3e-4,\n",
    "    weight_decay = 1e-4,\n",
    "    epochs = 50,\n",
    "    batch_size = 256,\n",
    "    use_clip_loss = True,\n",
    "    use_mse_loss = True,\n",
    "    alpha =0.6,\n",
    "    random_test_size =10,\n",
    "    seed = 42,\n",
    ")\n",
    "\n",
    "session = TrainingSessionV0(\n",
    "    config=config,\n",
    "    studies={\"gwilliams2023\": 'audio'},\n",
    "    data_path='data',\n",
    "    save_path='saves/Dec17_CLIP_MSE_baseline_mel_norm_off',\n",
    "    clear_cache=False,\n",
    ")"
   ]
  },
  {
   "cell_type": "code",
   "execution_count": null,
   "metadata": {},
   "outputs": [
    {
     "name": "stdout",
     "output_type": "stream",
     "text": [
      "GPU is not NVIDIA V100, A100, or H100. Speedup numbers may be lower than expected.\n"
     ]
    },
    {
     "name": "stderr",
     "output_type": "stream",
     "text": [
      "2024-12-18 17:16:35,330\tINFO worker.py:1821 -- Started a local Ray instance.\n",
      "Training Epoch 1: 100%|██████████| 135/135 [02:20<00:00,  1.04s/it]\n"
     ]
    },
    {
     "name": "stdout",
     "output_type": "stream",
     "text": [
      "Testing at epoch 1\n",
      "Test unseen_subject completed. Accuracy: 0.0115, Top 1: 0.0184, Top 5: 0.1161, Top 10: 0.2324, Perplexity: 0.0000\n",
      "Test unseen_task completed. Accuracy: 0.0123, Top 1: 0.0200, Top 5: 0.1138, Top 10: 0.2222, Perplexity: 0.0000\n",
      "Test unseen_both completed. Accuracy: 0.0161, Top 1: 0.0297, Top 5: 0.1261, Top 10: 0.2510, Perplexity: 0.0000\n",
      "Epoch 1 completed in 2.64m. 0.02m per recording.\n"
     ]
    },
    {
     "name": "stderr",
     "output_type": "stream",
     "text": [
      "Training Epoch 2: 100%|██████████| 135/135 [02:21<00:00,  1.05s/it]\n"
     ]
    },
    {
     "name": "stdout",
     "output_type": "stream",
     "text": [
      "Testing at epoch 2\n",
      "Test unseen_subject completed. Accuracy: 0.0080, Top 1: 0.0110, Top 5: 0.0584, Top 10: 0.1099, Perplexity: 0.0000\n",
      "Test unseen_task completed. Accuracy: 0.0068, Top 1: 0.0097, Top 5: 0.0579, Top 10: 0.1198, Perplexity: 0.0000\n",
      "Test unseen_both completed. Accuracy: 0.0049, Top 1: 0.0112, Top 5: 0.0520, Top 10: 0.1052, Perplexity: 0.0000\n",
      "Epoch 2 completed in 2.63m. 0.02m per recording.\n"
     ]
    },
    {
     "name": "stderr",
     "output_type": "stream",
     "text": [
      "Training Epoch 3: 100%|██████████| 135/135 [02:19<00:00,  1.04s/it]\n"
     ]
    },
    {
     "name": "stdout",
     "output_type": "stream",
     "text": [
      "Testing at epoch 3\n",
      "Test unseen_subject completed. Accuracy: 0.0255, Top 1: 0.0373, Top 5: 0.1897, Top 10: 0.3245, Perplexity: 0.0000\n",
      "Test unseen_task completed. Accuracy: 0.0336, Top 1: 0.0531, Top 5: 0.2172, Top 10: 0.3794, Perplexity: 0.0000\n",
      "Test unseen_both completed. Accuracy: 0.0222, Top 1: 0.0457, Top 5: 0.1867, Top 10: 0.3413, Perplexity: 0.0000\n",
      "Epoch 3 completed in 2.61m. 0.02m per recording.\n"
     ]
    },
    {
     "name": "stderr",
     "output_type": "stream",
     "text": [
      "Training Epoch 4: 100%|██████████| 135/135 [02:20<00:00,  1.04s/it]\n"
     ]
    },
    {
     "name": "stdout",
     "output_type": "stream",
     "text": [
      "Testing at epoch 4\n",
      "Test unseen_subject completed. Accuracy: 0.0396, Top 1: 0.0648, Top 5: 0.2376, Top 10: 0.3845, Perplexity: 0.0000\n",
      "Test unseen_task completed. Accuracy: 0.0453, Top 1: 0.0672, Top 5: 0.2526, Top 10: 0.4137, Perplexity: 0.0000\n",
      "Test unseen_both completed. Accuracy: 0.0333, Top 1: 0.0581, Top 5: 0.2324, Top 10: 0.3772, Perplexity: 0.0000\n",
      "Epoch 4 completed in 2.61m. 0.02m per recording.\n"
     ]
    },
    {
     "name": "stderr",
     "output_type": "stream",
     "text": [
      "Training Epoch 5: 100%|██████████| 135/135 [02:21<00:00,  1.05s/it]\n"
     ]
    },
    {
     "name": "stdout",
     "output_type": "stream",
     "text": [
      "Testing at epoch 5\n",
      "Test unseen_subject completed. Accuracy: 0.0491, Top 1: 0.0754, Top 5: 0.2890, Top 10: 0.4393, Perplexity: 0.0000\n",
      "Test unseen_task completed. Accuracy: 0.0412, Top 1: 0.0640, Top 5: 0.2555, Top 10: 0.4314, Perplexity: 0.0000\n",
      "Test unseen_both completed. Accuracy: 0.0334, Top 1: 0.0643, Top 5: 0.2595, Top 10: 0.4142, Perplexity: 0.0000\n",
      "Epoch 5 completed in 2.63m. 0.02m per recording.\n"
     ]
    },
    {
     "name": "stderr",
     "output_type": "stream",
     "text": [
      "Training Epoch 6: 100%|██████████| 135/135 [02:20<00:00,  1.04s/it]\n"
     ]
    },
    {
     "name": "stdout",
     "output_type": "stream",
     "text": [
      "Testing at epoch 6\n",
      "Test unseen_subject completed. Accuracy: 0.0582, Top 1: 0.0820, Top 5: 0.3080, Top 10: 0.4701, Perplexity: 0.0000\n",
      "Test unseen_task completed. Accuracy: 0.0540, Top 1: 0.0808, Top 5: 0.2859, Top 10: 0.4634, Perplexity: 0.0000\n",
      "Test unseen_both completed. Accuracy: 0.0481, Top 1: 0.0778, Top 5: 0.3176, Top 10: 0.4551, Perplexity: 0.0000\n",
      "Epoch 6 completed in 2.61m. 0.02m per recording.\n"
     ]
    },
    {
     "name": "stderr",
     "output_type": "stream",
     "text": [
      "Training Epoch 7: 100%|██████████| 135/135 [02:15<00:00,  1.00s/it]\n"
     ]
    },
    {
     "name": "stdout",
     "output_type": "stream",
     "text": [
      "Testing at epoch 7\n",
      "Test unseen_subject completed. Accuracy: 0.0822, Top 1: 0.1114, Top 5: 0.3223, Top 10: 0.4707, Perplexity: 0.0000\n",
      "Test unseen_task completed. Accuracy: 0.1006, Top 1: 0.1433, Top 5: 0.4024, Top 10: 0.5717, Perplexity: 0.0000\n",
      "Test unseen_both completed. Accuracy: 0.0728, Top 1: 0.1420, Top 5: 0.3387, Top 10: 0.4761, Perplexity: 0.0000\n",
      "Epoch 7 completed in 2.53m. 0.02m per recording.\n"
     ]
    },
    {
     "name": "stderr",
     "output_type": "stream",
     "text": [
      "Training Epoch 8: 100%|██████████| 135/135 [02:14<00:00,  1.00it/s]\n"
     ]
    },
    {
     "name": "stdout",
     "output_type": "stream",
     "text": [
      "Testing at epoch 8\n",
      "Test unseen_subject completed. Accuracy: 0.0786, Top 1: 0.1112, Top 5: 0.3339, Top 10: 0.4803, Perplexity: 0.0000\n",
      "Test unseen_task completed. Accuracy: 0.0558, Top 1: 0.0825, Top 5: 0.3091, Top 10: 0.4714, Perplexity: 0.0000\n",
      "Test unseen_both completed. Accuracy: 0.0618, Top 1: 0.0976, Top 5: 0.3080, Top 10: 0.4591, Perplexity: 0.0000\n",
      "Epoch 8 completed in 2.51m. 0.02m per recording.\n"
     ]
    },
    {
     "name": "stderr",
     "output_type": "stream",
     "text": [
      "Training Epoch 9: 100%|██████████| 135/135 [02:14<00:00,  1.00it/s]\n"
     ]
    },
    {
     "name": "stdout",
     "output_type": "stream",
     "text": [
      "Testing at epoch 9\n",
      "Test unseen_subject completed. Accuracy: 0.0430, Top 1: 0.0623, Top 5: 0.2394, Top 10: 0.3931, Perplexity: 0.0000\n",
      "Test unseen_task completed. Accuracy: 0.0605, Top 1: 0.0933, Top 5: 0.3152, Top 10: 0.4856, Perplexity: 0.0000\n",
      "Test unseen_both completed. Accuracy: 0.0606, Top 1: 0.1026, Top 5: 0.3027, Top 10: 0.4315, Perplexity: 0.0000\n",
      "Epoch 9 completed in 2.50m. 0.02m per recording.\n"
     ]
    },
    {
     "name": "stderr",
     "output_type": "stream",
     "text": [
      "Training Epoch 10:   6%|▌         | 8/135 [00:24<02:51,  1.35s/it]"
     ]
    }
   ],
   "source": [
    "try:\n",
    "    session.train(\n",
    "        device='cuda',\n",
    "        buffer_size=30,\n",
    "        num_workers=multiprocessing.cpu_count() - 2,\n",
    "        max_cache_size=200,\n",
    "        current_epoch=0,\n",
    "    )\n",
    "except KeyboardInterrupt as e:\n",
    "    print('Exited')"
   ]
  },
  {
   "cell_type": "code",
   "execution_count": null,
   "metadata": {},
   "outputs": [],
   "source": []
  }
 ],
 "metadata": {
  "kernelspec": {
   "display_name": "brain",
   "language": "python",
   "name": "brain"
  },
  "language_info": {
   "codemirror_mode": {
    "name": "ipython",
    "version": 3
   },
   "file_extension": ".py",
   "mimetype": "text/x-python",
   "name": "python",
   "nbconvert_exporter": "python",
   "pygments_lexer": "ipython3",
   "version": "3.11.7"
  }
 },
 "nbformat": 4,
 "nbformat_minor": 4
}
