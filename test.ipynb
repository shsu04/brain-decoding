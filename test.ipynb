{
 "cells": [
  {
   "cell_type": "code",
   "execution_count": 1,
   "metadata": {},
   "outputs": [
    {
     "name": "stderr",
     "output_type": "stream",
     "text": [
      "2024-12-05 21:01:13,052\tINFO worker.py:1821 -- Started a local Ray instance.\n",
      "Exception in thread Thread-4 (_fetch_worker):\n",
      "Traceback (most recent call last):\n",
      "  File \"/Users/s.hsu/miniconda3/envs/brain/lib/python3.11/threading.py\", line 1045, in _bootstrap_inner\n",
      "    self.run()\n",
      "  File \"/Users/s.hsu/miniconda3/envs/brain/lib/python3.11/site-packages/ipykernel/ipkernel.py\", line 766, in run_closure\n",
      "    _threading_Thread_run(self)\n",
      "  File \"/Users/s.hsu/miniconda3/envs/brain/lib/python3.11/threading.py\", line 982, in run\n",
      "    self._target(*self._args, **self._kwargs)\n",
      "  File \"/Users/s.hsu/Brain/brain-decoding/utils/dataloader.py\", line 182, in _fetch_worker\n",
      "    batch = ray.get(done_futures[0])\n",
      "            ^^^^^^^^^^^^^^^^^^^^^^^^\n",
      "  File \"/Users/s.hsu/miniconda3/envs/brain/lib/python3.11/site-packages/ray/_private/auto_init_hook.py\", line 21, in auto_init_wrapper\n",
      "    return fn(*args, **kwargs)\n",
      "           ^^^^^^^^^^^^^^^^^^^\n",
      "  File \"/Users/s.hsu/miniconda3/envs/brain/lib/python3.11/site-packages/ray/_private/client_mode_hook.py\", line 103, in wrapper\n",
      "    return func(*args, **kwargs)\n",
      "           ^^^^^^^^^^^^^^^^^^^^^\n",
      "  File \"/Users/s.hsu/miniconda3/envs/brain/lib/python3.11/site-packages/ray/_private/worker.py\", line 2755, in get\n",
      "    values, debugger_breakpoint = worker.get_objects(object_refs, timeout=timeout)\n",
      "                                  ^^^^^^^^^^^^^^^^^^^^^^^^^^^^^^^^^^^^^^^^^^^^^^^^\n",
      "  File \"/Users/s.hsu/miniconda3/envs/brain/lib/python3.11/site-packages/ray/_private/worker.py\", line 906, in get_objects\n",
      "    raise value.as_instanceof_cause()\n",
      "ray.exceptions.RayTaskError(IndexError): \u001b[36mray::DataFetcher.fetch_batch()\u001b[39m (pid=69245, ip=127.0.0.1, actor_id=085e2d28a648c8c734ab00e401000000, repr=<utils.dataloader.DataFetcher object at 0x38dad6110>)\n",
      "           ^^^^^^^^^^^^^^^^^^^^^^^^^^^^^^^^^^^^\n",
      "           ^^^^^^^^^^^^^^^^^^^^^^^^^^^^^^^\n",
      "  File \"/Users/s.hsu/Brain/brain-decoding/utils/dataloader.py\", line 59, in fetch_batch\n",
      "    brain_segments, audio_segments, layout = fetch_audio_and_brain_pairs(\n",
      "                                             ^^^^^^^^^^^^^^^^^^^^^^^^^^^^\n",
      "  File \"/Users/s.hsu/Brain/brain-decoding/utils/fetch.py\", line 64, in fetch_audio_and_brain_pairs\n",
      "    raw, word_events, sound_events = study.clean_recording(\n",
      "                                     ^^^^^^^^^^^^^^^^^^^^^^\n",
      "  File \"/Users/s.hsu/Brain/brain-decoding/studies/gwilliams.py\", line 313, in clean_recording\n",
      "    bids_path = self.recordings[subject][task][session]\n",
      "                ~~~~~~~~~~~~~~~~~~~~~~~~~~~~~~^^^^^^^^^\n",
      "IndexError: list index out of range\n"
     ]
    },
    {
     "ename": "KeyboardInterrupt",
     "evalue": "",
     "output_type": "error",
     "traceback": [
      "\u001b[0;31m---------------------------------------------------------------------------\u001b[0m",
      "\u001b[0;31mKeyboardInterrupt\u001b[0m                         Traceback (most recent call last)",
      "Cell \u001b[0;32mIn[1], line 43\u001b[0m\n\u001b[1;32m     41\u001b[0m \u001b[38;5;66;03m# Process batches as they become available\u001b[39;00m\n\u001b[1;32m     42\u001b[0m \u001b[38;5;28;01mwhile\u001b[39;00m \u001b[38;5;28;01mTrue\u001b[39;00m:\n\u001b[0;32m---> 43\u001b[0m     batch \u001b[38;5;241m=\u001b[39m \u001b[43mloader\u001b[49m\u001b[38;5;241;43m.\u001b[39;49m\u001b[43mget_batch\u001b[49m\u001b[43m(\u001b[49m\u001b[43m)\u001b[49m\n\u001b[1;32m     44\u001b[0m     \u001b[38;5;28;01mif\u001b[39;00m batch \u001b[38;5;129;01mis\u001b[39;00m \u001b[38;5;28;01mNone\u001b[39;00m:\n\u001b[1;32m     45\u001b[0m         \u001b[38;5;28;01mbreak\u001b[39;00m\n",
      "File \u001b[0;32m~/Brain/brain-decoding/utils/dataloader.py:201\u001b[0m, in \u001b[0;36mParallelDataLoader.get_batch\u001b[0;34m(self)\u001b[0m\n\u001b[1;32m    199\u001b[0m \u001b[38;5;28;01mif\u001b[39;00m \u001b[38;5;28mself\u001b[39m\u001b[38;5;241m.\u001b[39mqueue\u001b[38;5;241m.\u001b[39mempty() \u001b[38;5;129;01mand\u001b[39;00m \u001b[38;5;129;01mnot\u001b[39;00m \u001b[38;5;28mself\u001b[39m\u001b[38;5;241m.\u001b[39mfetch_thread\u001b[38;5;241m.\u001b[39mis_alive():\n\u001b[1;32m    200\u001b[0m     \u001b[38;5;28;01mreturn\u001b[39;00m \u001b[38;5;28;01mNone\u001b[39;00m\n\u001b[0;32m--> 201\u001b[0m \u001b[38;5;28;01mreturn\u001b[39;00m \u001b[38;5;28;43mself\u001b[39;49m\u001b[38;5;241;43m.\u001b[39;49m\u001b[43mqueue\u001b[49m\u001b[38;5;241;43m.\u001b[39;49m\u001b[43mget\u001b[49m\u001b[43m(\u001b[49m\u001b[43m)\u001b[49m\n",
      "File \u001b[0;32m~/miniconda3/envs/brain/lib/python3.11/queue.py:171\u001b[0m, in \u001b[0;36mQueue.get\u001b[0;34m(self, block, timeout)\u001b[0m\n\u001b[1;32m    169\u001b[0m \u001b[38;5;28;01melif\u001b[39;00m timeout \u001b[38;5;129;01mis\u001b[39;00m \u001b[38;5;28;01mNone\u001b[39;00m:\n\u001b[1;32m    170\u001b[0m     \u001b[38;5;28;01mwhile\u001b[39;00m \u001b[38;5;129;01mnot\u001b[39;00m \u001b[38;5;28mself\u001b[39m\u001b[38;5;241m.\u001b[39m_qsize():\n\u001b[0;32m--> 171\u001b[0m         \u001b[38;5;28;43mself\u001b[39;49m\u001b[38;5;241;43m.\u001b[39;49m\u001b[43mnot_empty\u001b[49m\u001b[38;5;241;43m.\u001b[39;49m\u001b[43mwait\u001b[49m\u001b[43m(\u001b[49m\u001b[43m)\u001b[49m\n\u001b[1;32m    172\u001b[0m \u001b[38;5;28;01melif\u001b[39;00m timeout \u001b[38;5;241m<\u001b[39m \u001b[38;5;241m0\u001b[39m:\n\u001b[1;32m    173\u001b[0m     \u001b[38;5;28;01mraise\u001b[39;00m \u001b[38;5;167;01mValueError\u001b[39;00m(\u001b[38;5;124m\"\u001b[39m\u001b[38;5;124m'\u001b[39m\u001b[38;5;124mtimeout\u001b[39m\u001b[38;5;124m'\u001b[39m\u001b[38;5;124m must be a non-negative number\u001b[39m\u001b[38;5;124m\"\u001b[39m)\n",
      "File \u001b[0;32m~/miniconda3/envs/brain/lib/python3.11/threading.py:327\u001b[0m, in \u001b[0;36mCondition.wait\u001b[0;34m(self, timeout)\u001b[0m\n\u001b[1;32m    325\u001b[0m \u001b[38;5;28;01mtry\u001b[39;00m:    \u001b[38;5;66;03m# restore state no matter what (e.g., KeyboardInterrupt)\u001b[39;00m\n\u001b[1;32m    326\u001b[0m     \u001b[38;5;28;01mif\u001b[39;00m timeout \u001b[38;5;129;01mis\u001b[39;00m \u001b[38;5;28;01mNone\u001b[39;00m:\n\u001b[0;32m--> 327\u001b[0m         \u001b[43mwaiter\u001b[49m\u001b[38;5;241;43m.\u001b[39;49m\u001b[43macquire\u001b[49m\u001b[43m(\u001b[49m\u001b[43m)\u001b[49m\n\u001b[1;32m    328\u001b[0m         gotit \u001b[38;5;241m=\u001b[39m \u001b[38;5;28;01mTrue\u001b[39;00m\n\u001b[1;32m    329\u001b[0m     \u001b[38;5;28;01melse\u001b[39;00m:\n",
      "\u001b[0;31mKeyboardInterrupt\u001b[0m: "
     ]
    }
   ],
   "source": [
    "from studies.study_factory import StudyFactory\n",
    "from utils.pre_processor import PreProcessor\n",
    "from utils.dataloader import ParallelDataLoader\n",
    "\n",
    "\n",
    "studies = {\n",
    "    \"gwilliams\": StudyFactory.create_study(\"gwilliams\", \"data/gwilliams\"),\n",
    "}\n",
    "pre_processor = PreProcessor()\n",
    "\n",
    "loader = ParallelDataLoader(\n",
    "    studies=studies,\n",
    "    pre_processor=pre_processor,\n",
    "    buffer_size=5,\n",
    "    num_workers=8,\n",
    "    max_random_shift=2,\n",
    "    window_size=4,\n",
    "    window_stride=1,\n",
    "    baseline_window=0.5,\n",
    "    frequency_bands={\"all\": (0.5, 100)},\n",
    "    brain_clipping=20,\n",
    "    new_freq=100,\n",
    "    notch_filter=True,\n",
    "    audio_sample_rate=16000,\n",
    "    hop_length=160,\n",
    "    audio_processor=\"openai/whisper-large-v3\",\n",
    "    n_jobs=1,\n",
    ")\n",
    "\n",
    "# Create list of batches to fetch\n",
    "batch_indices = [\n",
    "    ('gwilliams', subject, task, session)\n",
    "    for subject in range(len(studies[\"gwilliams\"].subjects_list))\n",
    "    for task in range(len(studies[\"gwilliams\"].tasks))\n",
    "    for session in range(len(studies[\"gwilliams\"].sessions))\n",
    "]\n",
    "\n",
    "# Start background fetching\n",
    "loader.start_fetching(batch_indices)\n",
    "\n",
    "# Process batches as they become available\n",
    "while True:\n",
    "    batch = loader.get_batch()\n",
    "    if batch is None:\n",
    "        break"
   ]
  }
 ],
 "metadata": {
  "kernelspec": {
   "display_name": "brain",
   "language": "python",
   "name": "python3"
  },
  "language_info": {
   "codemirror_mode": {
    "name": "ipython",
    "version": 3
   },
   "file_extension": ".py",
   "mimetype": "text/x-python",
   "name": "python",
   "nbconvert_exporter": "python",
   "pygments_lexer": "ipython3",
   "version": "3.11.7"
  }
 },
 "nbformat": 4,
 "nbformat_minor": 2
}
