{
 "cells": [
  {
   "cell_type": "code",
   "execution_count": null,
   "metadata": {},
   "outputs": [],
   "source": [
    "from train.training_session_v0 import load_training_session\n",
    "import multiprocessing\n",
    "import torch\n",
    "\n",
    "device='cuda'\n",
    "\n",
    "session = load_training_session(\n",
    "    save_path='saves/Dec17_MSE_baseline_temp_grad/epoch_5',\n",
    "    studies={\"gwilliams2023\": 'audio'},\n",
    "    data_path='data',\n",
    ")\n",
    "\n",
    "dataloader = session.get_dataloader(buffer_size=1, num_workers=1, max_cache_size=100)\n",
    "\n",
    "recording = session.recordings[0]\n",
    "\n",
    "print(\n",
    "    f'Showing recording: {recording.study_name}_{recording.subject_id}_{recording.task_id}'\n",
    ")\n",
    "\n",
    "dataloader.start_fetching(\n",
    "    recordings=[\n",
    "        session.recordings[0]\n",
    "    ]\n",
    ")\n",
    "batch = dataloader.get_recording()\n",
    "brain, audio, recording = batch.brain_segments['all'].to(device), batch.audio_segments.to(device), batch.recording\n",
    "\n",
    "conditions = {\n",
    "    \"study\": f'{recording.study_name}',\n",
    "    \"subject\": f'{recording.study_name}_{recording.subject_id}',\n",
    "}\n",
    "session.model.to(device)\n",
    "\n",
    "with torch.no_grad():\n",
    "    pred, _ = session.model(\n",
    "        x=brain, \n",
    "        recording=recording, \n",
    "        conditions=conditions , \n",
    "        train=False\n",
    "    )\n",
    "    \n",
    "dataloader.stop()"
   ]
  },
  {
   "cell_type": "code",
   "execution_count": null,
   "metadata": {},
   "outputs": [],
   "source": [
    "from utils.plot import mel_spectrogram\n",
    "\n",
    "mel_spectrogram(\n",
    "    x=audio[:5].to('cpu'),\n",
    "    max_plots=5,\n",
    "    x_pred=pred[:5].to('cpu')\n",
    ")"
   ]
  }
 ],
 "metadata": {
  "kernelspec": {
   "display_name": "brain",
   "language": "python",
   "name": "python3"
  },
  "language_info": {
   "name": "python",
   "version": "3.11.7"
  }
 },
 "nbformat": 4,
 "nbformat_minor": 2
}
