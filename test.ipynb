{
 "cells": [
  {
   "cell_type": "code",
   "execution_count": 1,
   "metadata": {},
   "outputs": [
    {
     "name": "stderr",
     "output_type": "stream",
     "text": [
      "2024-12-10 04:23:04,895\tINFO worker.py:1821 -- Started a local Ray instance.\n"
     ]
    }
   ],
   "source": [
    "from studies.study_factory import StudyFactory\n",
    "from dataloader.dataloader import DataLoader\n",
    "\n",
    "dataloader = DataLoader(\n",
    "    buffer_size=10,\n",
    "    max_cache_size_gb=100,\n",
    "    cache_dir=\"cache\",\n",
    "    notch_filter=True,\n",
    "    frequency_bands={\"all\": (0.5, 100)},\n",
    "    scaling=\"both\",\n",
    "    brain_clipping=20,\n",
    "    baseline_window=0.5,\n",
    "    new_freq=100,\n",
    "    batch_types={\"audio\": 10},\n",
    "    batch_kwargs={\n",
    "        'audio': {\n",
    "            'max_random_shift': 1,\n",
    "            'window_size': 4,\n",
    "            'window_stride': 1, \n",
    "            'audio_sample_rate': 16000,\n",
    "            'hop_length': 160,\n",
    "            'audio_processor': \"openai/whisper-large-v3\"\n",
    "        }\n",
    "    },\n",
    ")"
   ]
  },
  {
   "cell_type": "code",
   "execution_count": 2,
   "metadata": {},
   "outputs": [
    {
     "name": "stdout",
     "output_type": "stream",
     "text": [
      "Loading GWilliams2023 with batch type audio\n"
     ]
    }
   ],
   "source": [
    "study = StudyFactory.create_study(\n",
    "    study_name='gwilliams2023',\n",
    "    batch_type='audio',\n",
    "    path='data/gwilliams2023',\n",
    "    cache_enabled=True,\n",
    "    max_cache_size=200, # in items\n",
    ")"
   ]
  },
  {
   "cell_type": "code",
   "execution_count": 3,
   "metadata": {},
   "outputs": [],
   "source": [
    "recordings = []\n",
    "\n",
    "# Unfold all recordings (3 dim) of python list to 1\n",
    "from itertools import chain\n",
    "import random\n",
    "\n",
    "flat_recordings = list(chain.from_iterable(chain.from_iterable(study.recordings)))\n",
    "# random.shuffle(flat_recordings)"
   ]
  },
  {
   "cell_type": "code",
   "execution_count": 4,
   "metadata": {},
   "outputs": [
    {
     "name": "stdout",
     "output_type": "stream",
     "text": [
      "Total recordings: 196\n",
      "Batch 3721 (10 recordings) processed in 6.22s\n",
      "Average processing time per recording: 0.62s\n",
      "Average processing time per batch: 0.00s\n",
      "Batch 10709 (20 recordings) processed in 10.36s\n",
      "Average processing time per recording: 0.52s\n",
      "Average processing time per batch: 0.00s\n",
      "Batch 16519 (30 recordings) processed in 13.75s\n",
      "Average processing time per recording: 0.46s\n",
      "Average processing time per batch: 0.00s\n",
      "Batch 21638 (40 recordings) processed in 18.93s\n",
      "Average processing time per recording: 0.47s\n",
      "Average processing time per batch: 0.00s\n",
      "Batch 28654 (50 recordings) processed in 122.79s\n",
      "Average processing time per recording: 2.46s\n",
      "Average processing time per batch: 0.00s\n",
      "Batch 34823 (60 recordings) processed in 127.36s\n",
      "Average processing time per recording: 2.12s\n",
      "Average processing time per batch: 0.00s\n",
      "Batch 41194 (70 recordings) processed in 132.07s\n",
      "Average processing time per recording: 1.89s\n",
      "Average processing time per batch: 0.00s\n",
      "Batch 46019 (80 recordings) processed in 134.96s\n",
      "Average processing time per recording: 1.69s\n",
      "Average processing time per batch: 0.00s\n",
      "Batch 52703 (90 recordings) processed in 137.79s\n",
      "Average processing time per recording: 1.53s\n",
      "Average processing time per batch: 0.00s\n",
      "Batch 59360 (100 recordings) processed in 142.30s\n",
      "Average processing time per recording: 1.42s\n",
      "Average processing time per batch: 0.00s\n",
      "Batch 64539 (110 recordings) processed in 144.64s\n",
      "Average processing time per recording: 1.31s\n",
      "Average processing time per batch: 0.00s\n",
      "Batch 71518 (120 recordings) processed in 148.69s\n",
      "Average processing time per recording: 1.24s\n",
      "Average processing time per batch: 0.00s\n",
      "Batch 77236 (130 recordings) processed in 152.76s\n",
      "Average processing time per recording: 1.18s\n",
      "Average processing time per batch: 0.00s\n",
      "Batch 83046 (140 recordings) processed in 157.29s\n",
      "Average processing time per recording: 1.12s\n",
      "Average processing time per batch: 0.00s\n",
      "Batch 89203 (150 recordings) processed in 159.95s\n",
      "Average processing time per recording: 1.07s\n",
      "Average processing time per batch: 0.00s\n",
      "Batch 95209 (160 recordings) processed in 164.59s\n",
      "Average processing time per recording: 1.03s\n",
      "Average processing time per batch: 0.00s\n",
      "Batch 101357 (170 recordings) processed in 167.84s\n",
      "Average processing time per recording: 0.99s\n",
      "Average processing time per batch: 0.00s\n",
      "Batch 107715 (180 recordings) processed in 171.31s\n",
      "Average processing time per recording: 0.95s\n",
      "Average processing time per batch: 0.00s\n",
      "Batch 114755 (190 recordings) processed in 178.68s\n",
      "Average processing time per recording: 0.94s\n",
      "Average processing time per batch: 0.00s\n"
     ]
    },
    {
     "name": "stderr",
     "output_type": "stream",
     "text": [
      "\u001b[36m(raylet)\u001b[0m Spilled 2854 MiB, 5 objects, write throughput 1369 MiB/s. Set RAY_verbose_spill_logs=0 to disable this message.\n",
      "\u001b[36m(raylet)\u001b[0m Spilled 5125 MiB, 11 objects, write throughput 1658 MiB/s.\n",
      "\u001b[36m(raylet)\u001b[0m Spilled 9288 MiB, 18 objects, write throughput 1684 MiB/s.\n",
      "\u001b[36m(raylet)\u001b[0m Spilled 17407 MiB, 37 objects, write throughput 1735 MiB/s.\n"
     ]
    }
   ],
   "source": [
    "# # Start background fetching\n",
    "import time\n",
    "\n",
    "\n",
    "dataloader.start_fetching(flat_recordings, cache=True)\n",
    "\n",
    "# Process batches as they become available\n",
    "try:\n",
    "    batches, recs, start_time = 0, 0, time.time()\n",
    "    print(f'Total recordings: {len(flat_recordings)}')\n",
    "    \n",
    "    while True:\n",
    "        batch = dataloader.get_recording()\n",
    "        \n",
    "        if batch is None:\n",
    "            break\n",
    "        \n",
    "        brain = batch.brain_segments['all']\n",
    "        batches += brain.shape[0]\n",
    "        recs += 1\n",
    "        \n",
    "        if recs % 10 == 0:\n",
    "            print(f\"Batch {batches} ({recs} recordings) processed in {time.time() - start_time:.2f}s\")\n",
    "            print(\n",
    "                f\"Average processing time per recording: {(time.time() - start_time) / recs:.2f}s\"\n",
    "            )\n",
    "            print(\n",
    "                f\"Average processing time per batch: {(time.time() - start_time) / batches:.2f}s\"\n",
    "            )\n",
    "        \n",
    "except KeyboardInterrupt:\n",
    "    print(\"Interrupted\")\n",
    "    dataloader.stop()\n",
    "except Exception as e:\n",
    "    print(\"Error\", e)\n",
    "    dataloader.stop()"
   ]
  }
 ],
 "metadata": {
  "kernelspec": {
   "display_name": "brain",
   "language": "python",
   "name": "python3"
  },
  "language_info": {
   "codemirror_mode": {
    "name": "ipython",
    "version": 3
   },
   "file_extension": ".py",
   "mimetype": "text/x-python",
   "name": "python",
   "nbconvert_exporter": "python",
   "pygments_lexer": "ipython3",
   "version": "3.11.7"
  }
 },
 "nbformat": 4,
 "nbformat_minor": 2
}
