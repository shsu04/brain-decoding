{
 "cells": [
  {
   "cell_type": "code",
   "execution_count": null,
   "metadata": {},
   "outputs": [
    {
     "name": "stderr",
     "output_type": "stream",
     "text": [
      "2024-12-08 02:35:22,889\tINFO worker.py:1821 -- Started a local Ray instance.\n"
     ]
    }
   ],
   "source": [
    "from studies.study_factory import StudyFactory\n",
    "from dataloader.dataloader import DataLoader\n",
    "\n",
    "dataloader = DataLoader(\n",
    "    buffer_size=3,\n",
    "    max_cache_size=100,\n",
    "    cache_dir=\"cache\",\n",
    "    notch_filter=True,\n",
    "    frequency_bands={\"all\": (0.5, 40)},\n",
    "    scaling=\"both\",\n",
    "    brain_clipping=20,\n",
    "    baseline_window=0.5,\n",
    "    new_freq=100,\n",
    "    batch_types={\"audio\": 3},\n",
    "    batch_kwargs={\n",
    "        'audio': {\n",
    "            'max_random_shift': 2,\n",
    "            'window_size': 4,\n",
    "            'window_stride': 1, \n",
    "            'audio_sample_rate': 16000,\n",
    "            'hop_length': 160,\n",
    "            'audio_processor': \"openai/whisper-large-v3\"\n",
    "        }\n",
    "    },\n",
    ")"
   ]
  },
  {
   "cell_type": "code",
   "execution_count": null,
   "metadata": {},
   "outputs": [
    {
     "name": "stdout",
     "output_type": "stream",
     "text": [
      "Loading GWilliams2023 with batch type audio\n"
     ]
    }
   ],
   "source": [
    "study = StudyFactory.create_study(\n",
    "    gwilliams2023='gwilliams2023',\n",
    "    batch_type='audio',\n",
    "    path='data/gwilliams2023',\n",
    "    cache_enabled=True,\n",
    "    max_cache_size=200, # in items\n",
    ")"
   ]
  },
  {
   "cell_type": "code",
   "execution_count": 3,
   "metadata": {},
   "outputs": [],
   "source": [
    "recordings = []\n",
    "\n",
    "# Unfold all recordings (3 dim) of python list to 1\n",
    "from itertools import chain\n",
    "flat_recordings = list(chain.from_iterable(chain.from_iterable(study.recordings)))"
   ]
  },
  {
   "cell_type": "code",
   "execution_count": null,
   "metadata": {},
   "outputs": [
    {
     "name": "stdout",
     "output_type": "stream",
     "text": [
      "torch.Size([148, 208, 400])\n",
      "torch.Size([313, 208, 400])\n",
      "torch.Size([157, 208, 400])\n",
      "torch.Size([546, 208, 400])\n",
      "torch.Size([315, 208, 400])\n",
      "torch.Size([152, 208, 400])\n"
     ]
    }
   ],
   "source": [
    "# # Start background fetching\n",
    "dataloader.start_fetching(flat_recordings, cache=True)\n",
    "\n",
    "# Process batches as they become available\n",
    "try:\n",
    "    while True:\n",
    "        batch = dataloader.get_recording()\n",
    "        \n",
    "        if batch is None:\n",
    "            break\n",
    "        \n",
    "        brain = batch.brain_segments['all']\n",
    "        print(brain.shape)\n",
    "        \n",
    "except KeyboardInterrupt:\n",
    "    print(\"Interrupted\")\n",
    "    dataloader.stop()"
   ]
  },
  {
   "cell_type": "code",
   "execution_count": null,
   "metadata": {},
   "outputs": [],
   "source": []
  }
 ],
 "metadata": {
  "kernelspec": {
   "display_name": "brain",
   "language": "python",
   "name": "python3"
  },
  "language_info": {
   "codemirror_mode": {
    "name": "ipython",
    "version": 3
   },
   "file_extension": ".py",
   "mimetype": "text/x-python",
   "name": "python",
   "nbconvert_exporter": "python",
   "pygments_lexer": "ipython3",
   "version": "3.11.7"
  }
 },
 "nbformat": 4,
 "nbformat_minor": 2
}
