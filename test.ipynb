{
 "cells": [
  {
   "cell_type": "code",
   "execution_count": 1,
   "metadata": {},
   "outputs": [
    {
     "name": "stderr",
     "output_type": "stream",
     "text": [
      "2024-12-10 13:14:42,348\tINFO worker.py:1821 -- Started a local Ray instance.\n"
     ]
    }
   ],
   "source": [
    "from studies.study_factory import StudyFactory\n",
    "from dataloader.dataloader import DataLoader\n",
    "\n",
    "dataloader = DataLoader(\n",
    "    buffer_size=10,\n",
    "    max_cache_size_gb=100,\n",
    "    cache_dir=\"cache\",\n",
    "    notch_filter=True,\n",
    "    frequency_bands={\"all\": (0.5, 100)},\n",
    "    scaling=\"both\",\n",
    "    brain_clipping=20,\n",
    "    baseline_window=0.5,\n",
    "    new_freq=100,\n",
    "    batch_types={\"audio\": 12},\n",
    "    batch_kwargs={\n",
    "        'audio': {\n",
    "            'max_random_shift': 1,\n",
    "            'window_size': 4,\n",
    "            'window_stride': 1, \n",
    "            'audio_sample_rate': 16000,\n",
    "            'hop_length': 160,\n",
    "            'audio_processor': \"openai/whisper-large-v3\"\n",
    "        }\n",
    "    },\n",
    ")"
   ]
  },
  {
   "cell_type": "code",
   "execution_count": 2,
   "metadata": {},
   "outputs": [
    {
     "name": "stdout",
     "output_type": "stream",
     "text": [
      "Loading GWilliams2023 with batch type audio\n"
     ]
    }
   ],
   "source": [
    "study = StudyFactory.create_study(\n",
    "    study_name='gwilliams2023',\n",
    "    batch_type='audio',\n",
    "    path='data/gwilliams2023',\n",
    "    cache_enabled=True,\n",
    "    max_cache_size=200, # in items\n",
    ")"
   ]
  },
  {
   "cell_type": "code",
   "execution_count": 3,
   "metadata": {},
   "outputs": [],
   "source": [
    "recordings = []\n",
    "\n",
    "# Unfold all recordings (3 dim) of python list to 1\n",
    "from itertools import chain\n",
    "import random\n",
    "\n",
    "flat_recordings = list(chain.from_iterable(chain.from_iterable(study.recordings)))\n",
    "# random.shuffle(flat_recordings)"
   ]
  },
  {
   "cell_type": "code",
   "execution_count": 4,
   "metadata": {},
   "outputs": [
    {
     "name": "stdout",
     "output_type": "stream",
     "text": [
      "Total recordings: 196\n",
      "Batch 3407 (10 recordings) processed in 7.49s\n",
      "Average processing time per recording: 0.75s\n",
      "Average processing time per batch: 0.00s\n",
      "Batch 9724 (20 recordings) processed in 10.53s\n",
      "Average processing time per recording: 0.53s\n",
      "Average processing time per batch: 0.00s\n",
      "Batch 15226 (30 recordings) processed in 12.85s\n",
      "Average processing time per recording: 0.43s\n",
      "Average processing time per batch: 0.00s\n",
      "Batch 21909 (40 recordings) processed in 16.67s\n",
      "Average processing time per recording: 0.42s\n",
      "Average processing time per batch: 0.00s\n",
      "Batch 27389 (50 recordings) processed in 19.50s\n",
      "Average processing time per recording: 0.39s\n",
      "Average processing time per batch: 0.00s\n",
      "Batch 34056 (60 recordings) processed in 22.05s\n",
      "Average processing time per recording: 0.37s\n",
      "Average processing time per batch: 0.00s\n",
      "Batch 39201 (70 recordings) processed in 24.52s\n",
      "Average processing time per recording: 0.35s\n",
      "Average processing time per batch: 0.00s\n",
      "Batch 45892 (80 recordings) processed in 28.03s\n",
      "Average processing time per recording: 0.35s\n",
      "Average processing time per batch: 0.00s\n",
      "Batch 51743 (90 recordings) processed in 30.64s\n",
      "Average processing time per recording: 0.34s\n",
      "Average processing time per batch: 0.00s\n",
      "Batch 58405 (100 recordings) processed in 33.87s\n",
      "Average processing time per recording: 0.34s\n",
      "Average processing time per batch: 0.00s\n",
      "Batch 63546 (110 recordings) processed in 36.83s\n",
      "Average processing time per recording: 0.33s\n",
      "Average processing time per batch: 0.00s\n",
      "Batch 69673 (120 recordings) processed in 40.39s\n",
      "Average processing time per recording: 0.34s\n",
      "Average processing time per batch: 0.00s\n",
      "Batch 75696 (130 recordings) processed in 42.95s\n",
      "Average processing time per recording: 0.33s\n",
      "Average processing time per batch: 0.00s\n",
      "Batch 81854 (140 recordings) processed in 46.64s\n",
      "Average processing time per recording: 0.33s\n",
      "Average processing time per batch: 0.00s\n",
      "Batch 87863 (150 recordings) processed in 49.83s\n",
      "Average processing time per recording: 0.33s\n",
      "Average processing time per batch: 0.00s\n",
      "Batch 94244 (160 recordings) processed in 53.02s\n",
      "Average processing time per recording: 0.33s\n",
      "Average processing time per batch: 0.00s\n",
      "Batch 100034 (170 recordings) processed in 55.68s\n",
      "Average processing time per recording: 0.33s\n",
      "Average processing time per batch: 0.00s\n",
      "Batch 106167 (180 recordings) processed in 58.64s\n",
      "Average processing time per recording: 0.33s\n",
      "Average processing time per batch: 0.00s\n",
      "Batch 114102 (190 recordings) processed in 64.62s\n",
      "Average processing time per recording: 0.34s\n",
      "Average processing time per batch: 0.00s\n"
     ]
    },
    {
     "name": "stderr",
     "output_type": "stream",
     "text": [
      "\u001b[36m(raylet)\u001b[0m Spilled 2136 MiB, 5 objects, write throughput 1150 MiB/s. Set RAY_verbose_spill_logs=0 to disable this message.\n",
      "\u001b[36m(raylet)\u001b[0m Spilled 4799 MiB, 11 objects, write throughput 1436 MiB/s.\n",
      "\u001b[36m(raylet)\u001b[0m Spilled 8776 MiB, 21 objects, write throughput 1613 MiB/s.\n"
     ]
    }
   ],
   "source": [
    "# # Start background fetching\n",
    "import time\n",
    "\n",
    "\n",
    "dataloader.start_fetching(flat_recordings, cache=True)\n",
    "\n",
    "# Process batches as they become available\n",
    "try:\n",
    "    batches, recs, start_time = 0, 0, time.time()\n",
    "    print(f'Total recordings: {len(flat_recordings)}')\n",
    "    \n",
    "    while True:\n",
    "        batch = dataloader.get_recording()\n",
    "        \n",
    "        if batch is None:\n",
    "            break\n",
    "        \n",
    "        brain = batch.brain_segments['all']\n",
    "        batches += brain.shape[0]\n",
    "        recs += 1\n",
    "        \n",
    "        if recs % 10 == 0:\n",
    "            print(f\"Batch {batches} ({recs} recordings) processed in {time.time() - start_time:.2f}s\")\n",
    "            print(\n",
    "                f\"Average processing time per recording: {(time.time() - start_time) / recs:.2f}s\"\n",
    "            )\n",
    "            print(\n",
    "                f\"Average processing time per batch: {(time.time() - start_time) / batches:.2f}s\"\n",
    "            )\n",
    "        \n",
    "except KeyboardInterrupt:\n",
    "    print(\"Interrupted\")\n",
    "    dataloader.stop()\n",
    "except Exception as e:\n",
    "    print(\"Error\", e)\n",
    "    dataloader.stop()"
   ]
  }
 ],
 "metadata": {
  "kernelspec": {
   "display_name": "brain",
   "language": "python",
   "name": "python3"
  },
  "language_info": {
   "codemirror_mode": {
    "name": "ipython",
    "version": 3
   },
   "file_extension": ".py",
   "mimetype": "text/x-python",
   "name": "python",
   "nbconvert_exporter": "python",
   "pygments_lexer": "ipython3",
   "version": "3.11.7"
  }
 },
 "nbformat": 4,
 "nbformat_minor": 2
}
