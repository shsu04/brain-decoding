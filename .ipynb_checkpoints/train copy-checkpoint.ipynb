{
 "cells": [
  {
   "cell_type": "code",
   "execution_count": 1,
   "metadata": {},
   "outputs": [],
   "source": [
    "data_partition = {\n",
    "    \"gwilliams2023\": {\n",
    "        \"testing_subjects\": [19, 20, 21],\n",
    "        \"testing_tasks\": [0],\n",
    "    },\n",
    "    # \"schoffelen2022\": {\n",
    "    #     \"testing_subjects\": [],\n",
    "    #     \"testing_tasks\": [8, 9],\n",
    "    # },\n",
    "}"
   ]
  },
  {
   "cell_type": "code",
   "execution_count": 2,
   "metadata": {},
   "outputs": [],
   "source": [
    "# from utils.compression import compress_directories, decompress_directories\n",
    "\n",
    "# for base_path, batch_type in data_partition.items():\n",
    "#     decompress_directories(\n",
    "#         source_path=f'downloaded_data/{base_path}',\n",
    "#         destination_path=f'data/{base_path}',\n",
    "#         checksum_file_name=\"checksums.txt\",\n",
    "#         delete_compressed_files=True,\n",
    "#         num_workers=26\n",
    "#     )"
   ]
  },
  {
   "cell_type": "code",
   "execution_count": 3,
   "metadata": {},
   "outputs": [],
   "source": [
    "from config import SimpleConvConfig\n",
    "from models.simpleconv import SimpleConv\n",
    "import torch\n",
    "\n",
    "model_config = SimpleConvConfig(\n",
    "    # Str to list of possible conditions\n",
    "    mel_normalization=False,\n",
    "    conditions={\n",
    "        \"study\": [],\n",
    "        \"subject\": [],\n",
    "    },\n",
    "    # Channels\n",
    "    in_channels=208,\n",
    "    out_channels=128,\n",
    "    hidden_dim=384,\n",
    "    dropout=0.2,\n",
    "    initial_batch_norm=True,\n",
    "    # Sensor layout settings\n",
    "    layout_dim=2,\n",
    "    layout_proj=True,\n",
    "    layout_scaling=\"minmax\",\n",
    "    # Merger with spatial attn\n",
    "    merger=False,\n",
    "    merger_emb_type=None,\n",
    "    merger_emb_dim=0,\n",
    "    merger_channels=0,\n",
    "    merger_dropout=False,\n",
    "    merger_conditional=None,\n",
    "    # Inital\n",
    "    initial_linear=384,\n",
    "    initial_depth=1,\n",
    "    # Conditional layers\n",
    "    conditional_layers=False,\n",
    "    conditional_layers_dim=None,  # input or hidden_dim\n",
    "    # Conv layer overall structure\n",
    "    depth=6,\n",
    "    kernel_size=3,\n",
    "    growth=1.0,\n",
    "    dilation_growth=2,\n",
    "    dilation_period=5,\n",
    "    glu=1,\n",
    "    conv_dropout=0.2,\n",
    "    dropout_input=0.2,\n",
    "    batch_norm=True,\n",
    "    # Quantizer\n",
    "    quantizer=False,\n",
    "    num_codebooks=0,\n",
    "    codebook_size=0,\n",
    "    quantizer_commitment=0,\n",
    "    quantizer_temp_init=0,\n",
    "    quantizer_temp_min=0,\n",
    "    quantizer_temp_decay=0,\n",
    "    # Transformers Encoders\n",
    "    transformer_input=None,\n",
    "    transformer_encoder_emb=None,\n",
    "    transformer_encoder_layers=0,\n",
    "    transformer_encoder_heads=0,\n",
    "    # Transformer Decoders\n",
    "    transformer_decoder_emb=None,\n",
    "    transformer_decoder_layers=0,\n",
    "    transformer_decoder_heads=0,\n",
    "    transformer_decoder_dim=0,\n",
    ")"
   ]
  },
  {
   "cell_type": "code",
   "execution_count": 4,
   "metadata": {},
   "outputs": [
    {
     "name": "stdout",
     "output_type": "stream",
     "text": [
      "Loading Gwilliams2023 with batch type audio\n",
      "Data partitioned on studies ['gwilliams2023'].\n",
      "Train: 135, Unseen Task: 12, Unseen Subject: 45, Unseen Both: 4.\n",
      "\n",
      "GPU is not NVIDIA V100, A100, or H100. Speedup numbers may be lower than expected.\n",
      "SimpleConv initialized with 8448160 parameters, cond: ['study', 'subject']\n",
      "Merger False, merger channels 0\n",
      "ConvBlocks: 6, hidden_dim: 384, params 7973376\n"
     ]
    }
   ],
   "source": [
    "from pickle import NONE\n",
    "from train.training_session_v0 import TrainingSessionV0\n",
    "from config import TrainingConfigV0\n",
    "import multiprocessing\n",
    "\n",
    "config = TrainingConfigV0(\n",
    "    brain_encoder_config=model_config,\n",
    "    data_partition=data_partition,\n",
    "    # Pre-processing parameters\n",
    "    # Brain\n",
    "    new_freq=100,\n",
    "    frequency_bands={\"all\": (0.5, 80)},\n",
    "    max_random_shift=1.0,\n",
    "    window_size=4,\n",
    "    window_stride=1,\n",
    "    brain_clipping=30,\n",
    "    baseline_window=0.5,\n",
    "    notch_filter=True,\n",
    "    scaling=\"standard\",\n",
    "    delay=0.15,\n",
    "    # Hyperparameters\n",
    "    learning_rate=3e-4,\n",
    "    weight_decay=1e-4,\n",
    "    epochs=50,\n",
    "    batch_size=256,\n",
    "    use_clip_loss=True,\n",
    "    use_mse_loss=True,\n",
    "    alpha=0.6,\n",
    "    random_test_size=10,\n",
    "    seed=42,\n",
    ")\n",
    "\n",
    "session = TrainingSessionV0(\n",
    "    config=config,\n",
    "    studies={study: \"audio\" for study in data_partition.keys()},\n",
    "    data_path=\"data\",\n",
    "    save_path=\"saves/phase1/ablation/clipping/30std\",\n",
    "    clear_cache=False,\n",
    "    cache_name=\"cache_1\",\n",
    ")"
   ]
  },
  {
   "cell_type": "code",
   "execution_count": 5,
   "metadata": {},
   "outputs": [
    {
     "name": "stderr",
     "output_type": "stream",
     "text": [
      "2024-12-21 01:11:12,258\tINFO worker.py:1821 -- Started a local Ray instance.\n",
      "Training Epoch 1: 100%|██████████| 135/135 [34:47<00:00, 15.47s/it] \n"
     ]
    },
    {
     "name": "stdout",
     "output_type": "stream",
     "text": [
      "Testing at epoch 1\n",
      "Test unseen_subject completed. Accuracy: 0.0835, Top 1: 0.1440, Top 5: 0.3515, Top 10: 0.4765, Perplexity: 0.0000\n",
      "Test unseen_task completed. Accuracy: 0.0722, Top 1: 0.1080, Top 5: 0.3343, Top 10: 0.4798, Perplexity: 0.0000\n",
      "Test unseen_both completed. Accuracy: 0.0625, Top 1: 0.1125, Top 5: 0.3175, Top 10: 0.4225, Perplexity: 0.0000\n",
      "Epoch 1 completed in 39.08m. 0.29m per recording.\n"
     ]
    },
    {
     "name": "stderr",
     "output_type": "stream",
     "text": [
      "Training Epoch 2: 100%|██████████| 135/135 [05:54<00:00,  2.63s/it]\n"
     ]
    },
    {
     "name": "stdout",
     "output_type": "stream",
     "text": [
      "Testing at epoch 2\n",
      "Test unseen_subject completed. Accuracy: 0.0990, Top 1: 0.1605, Top 5: 0.3765, Top 10: 0.4880, Perplexity: 0.0000\n",
      "Test unseen_task completed. Accuracy: 0.1401, Top 1: 0.1940, Top 5: 0.4730, Top 10: 0.6163, Perplexity: 0.0000\n",
      "Test unseen_both completed. Accuracy: 0.1150, Top 1: 0.1663, Top 5: 0.3750, Top 10: 0.5000, Perplexity: 0.0000\n",
      "Epoch 2 completed in 6.32m. 0.05m per recording.\n"
     ]
    },
    {
     "name": "stderr",
     "output_type": "stream",
     "text": [
      "Training Epoch 3: 100%|██████████| 135/135 [05:47<00:00,  2.57s/it]\n"
     ]
    },
    {
     "name": "stdout",
     "output_type": "stream",
     "text": [
      "Testing at epoch 3\n",
      "Test unseen_subject completed. Accuracy: 0.1390, Top 1: 0.2190, Top 5: 0.4530, Top 10: 0.5690, Perplexity: 0.0000\n",
      "Test unseen_task completed. Accuracy: 0.1406, Top 1: 0.1934, Top 5: 0.4759, Top 10: 0.6246, Perplexity: 0.0000\n",
      "Test unseen_both completed. Accuracy: 0.1162, Top 1: 0.1825, Top 5: 0.4100, Top 10: 0.5438, Perplexity: 0.0000\n",
      "Epoch 3 completed in 6.19m. 0.05m per recording.\n"
     ]
    },
    {
     "name": "stderr",
     "output_type": "stream",
     "text": [
      "Training Epoch 4: 100%|██████████| 135/135 [05:54<00:00,  2.63s/it]\n"
     ]
    },
    {
     "name": "stdout",
     "output_type": "stream",
     "text": [
      "Testing at epoch 4\n",
      "Test unseen_subject completed. Accuracy: 0.1720, Top 1: 0.2530, Top 5: 0.4595, Top 10: 0.5575, Perplexity: 0.0000\n",
      "Test unseen_task completed. Accuracy: 0.1335, Top 1: 0.1852, Top 5: 0.4527, Top 10: 0.5996, Perplexity: 0.0000\n",
      "Test unseen_both completed. Accuracy: 0.1213, Top 1: 0.1838, Top 5: 0.4062, Top 10: 0.5375, Perplexity: 0.0000\n",
      "Epoch 4 completed in 6.34m. 0.05m per recording.\n"
     ]
    },
    {
     "name": "stderr",
     "output_type": "stream",
     "text": [
      "Training Epoch 5: 100%|██████████| 135/135 [05:53<00:00,  2.62s/it]\n"
     ]
    },
    {
     "name": "stdout",
     "output_type": "stream",
     "text": [
      "Testing at epoch 5\n",
      "Test unseen_subject completed. Accuracy: 0.1175, Top 1: 0.1970, Top 5: 0.4380, Top 10: 0.5610, Perplexity: 0.0000\n",
      "Test unseen_task completed. Accuracy: 0.1827, Top 1: 0.2637, Top 5: 0.5653, Top 10: 0.7119, Perplexity: 0.0000\n",
      "Test unseen_both completed. Accuracy: 0.1463, Top 1: 0.2350, Top 5: 0.4700, Top 10: 0.5925, Perplexity: 0.0000\n",
      "Epoch 5 completed in 6.32m. 0.05m per recording.\n"
     ]
    },
    {
     "name": "stderr",
     "output_type": "stream",
     "text": [
      "Training Epoch 6: 100%|██████████| 135/135 [05:49<00:00,  2.59s/it]\n"
     ]
    },
    {
     "name": "stdout",
     "output_type": "stream",
     "text": [
      "Testing at epoch 6\n",
      "Test unseen_subject completed. Accuracy: 0.1760, Top 1: 0.2595, Top 5: 0.4965, Top 10: 0.5990, Perplexity: 0.0000\n",
      "Test unseen_task completed. Accuracy: 0.2021, Top 1: 0.2702, Top 5: 0.5765, Top 10: 0.7159, Perplexity: 0.0000\n",
      "Test unseen_both completed. Accuracy: 0.1725, Top 1: 0.2437, Top 5: 0.4738, Top 10: 0.5687, Perplexity: 0.0000\n",
      "Epoch 6 completed in 6.25m. 0.05m per recording.\n"
     ]
    },
    {
     "name": "stderr",
     "output_type": "stream",
     "text": [
      "Training Epoch 7: 100%|██████████| 135/135 [05:46<00:00,  2.56s/it]\n"
     ]
    },
    {
     "name": "stdout",
     "output_type": "stream",
     "text": [
      "Testing at epoch 7\n",
      "Test unseen_subject completed. Accuracy: 0.0990, Top 1: 0.1650, Top 5: 0.3965, Top 10: 0.5330, Perplexity: 0.0000\n",
      "Test unseen_task completed. Accuracy: 0.1996, Top 1: 0.2692, Top 5: 0.5585, Top 10: 0.7085, Perplexity: 0.0000\n",
      "Test unseen_both completed. Accuracy: 0.1537, Top 1: 0.2400, Top 5: 0.4750, Top 10: 0.5800, Perplexity: 0.0000\n",
      "Epoch 7 completed in 6.21m. 0.05m per recording.\n"
     ]
    },
    {
     "name": "stderr",
     "output_type": "stream",
     "text": [
      "Training Epoch 8: 100%|██████████| 135/135 [05:55<00:00,  2.63s/it]\n"
     ]
    },
    {
     "name": "stdout",
     "output_type": "stream",
     "text": [
      "Testing at epoch 8\n",
      "Test unseen_subject completed. Accuracy: 0.1750, Top 1: 0.2545, Top 5: 0.4800, Top 10: 0.5880, Perplexity: 0.0000\n",
      "Test unseen_task completed. Accuracy: 0.1719, Top 1: 0.2320, Top 5: 0.5006, Top 10: 0.6487, Perplexity: 0.0000\n",
      "Test unseen_both completed. Accuracy: 0.1562, Top 1: 0.2300, Top 5: 0.4575, Top 10: 0.5588, Perplexity: 0.0000\n",
      "Epoch 8 completed in 6.31m. 0.05m per recording.\n"
     ]
    },
    {
     "name": "stderr",
     "output_type": "stream",
     "text": [
      "Training Epoch 9: 100%|██████████| 135/135 [05:38<00:00,  2.51s/it]\n"
     ]
    },
    {
     "name": "stdout",
     "output_type": "stream",
     "text": [
      "Testing at epoch 9\n",
      "Test unseen_subject completed. Accuracy: 0.1375, Top 1: 0.2080, Top 5: 0.4385, Top 10: 0.5555, Perplexity: 0.0000\n",
      "Test unseen_task completed. Accuracy: 0.2165, Top 1: 0.2847, Top 5: 0.5863, Top 10: 0.7086, Perplexity: 0.0000\n",
      "Test unseen_both completed. Accuracy: 0.1787, Top 1: 0.2500, Top 5: 0.4600, Top 10: 0.5862, Perplexity: 0.0000\n",
      "Epoch 9 completed in 6.01m. 0.04m per recording.\n"
     ]
    },
    {
     "name": "stderr",
     "output_type": "stream",
     "text": [
      "Training Epoch 10: 100%|██████████| 135/135 [05:38<00:00,  2.51s/it]\n"
     ]
    },
    {
     "name": "stdout",
     "output_type": "stream",
     "text": [
      "Testing at epoch 10\n",
      "Test unseen_subject completed. Accuracy: 0.1640, Top 1: 0.2405, Top 5: 0.4780, Top 10: 0.5895, Perplexity: 0.0000\n",
      "Test unseen_task completed. Accuracy: 0.2293, Top 1: 0.3017, Top 5: 0.6010, Top 10: 0.7343, Perplexity: 0.0000\n",
      "Test unseen_both completed. Accuracy: 0.1713, Top 1: 0.2362, Top 5: 0.4813, Top 10: 0.6013, Perplexity: 0.0000\n",
      "Epoch 10 completed in 6.02m. 0.04m per recording.\n"
     ]
    },
    {
     "name": "stderr",
     "output_type": "stream",
     "text": [
      "Training Epoch 11: 100%|██████████| 135/135 [05:33<00:00,  2.47s/it]\n"
     ]
    },
    {
     "name": "stdout",
     "output_type": "stream",
     "text": [
      "Testing at epoch 11\n",
      "Test unseen_subject completed. Accuracy: 0.1905, Top 1: 0.2800, Top 5: 0.5270, Top 10: 0.6255, Perplexity: 0.0000\n",
      "Test unseen_task completed. Accuracy: 0.1906, Top 1: 0.2571, Top 5: 0.5464, Top 10: 0.6939, Perplexity: 0.0000\n",
      "Test unseen_both completed. Accuracy: 0.1638, Top 1: 0.2388, Top 5: 0.4862, Top 10: 0.6150, Perplexity: 0.0000\n",
      "Epoch 11 completed in 5.94m. 0.04m per recording.\n"
     ]
    },
    {
     "name": "stderr",
     "output_type": "stream",
     "text": [
      "Training Epoch 12: 100%|██████████| 135/135 [05:44<00:00,  2.55s/it]\n"
     ]
    },
    {
     "name": "stdout",
     "output_type": "stream",
     "text": [
      "Testing at epoch 12\n",
      "Test unseen_subject completed. Accuracy: 0.2095, Top 1: 0.2945, Top 5: 0.4995, Top 10: 0.5910, Perplexity: 0.0000\n",
      "Test unseen_task completed. Accuracy: 0.2267, Top 1: 0.3027, Top 5: 0.5958, Top 10: 0.7238, Perplexity: 0.0000\n",
      "Test unseen_both completed. Accuracy: 0.1738, Top 1: 0.2562, Top 5: 0.4900, Top 10: 0.5925, Perplexity: 0.0000\n",
      "Epoch 12 completed in 6.13m. 0.05m per recording.\n"
     ]
    },
    {
     "name": "stderr",
     "output_type": "stream",
     "text": [
      "Training Epoch 13: 100%|██████████| 135/135 [05:33<00:00,  2.47s/it]\n"
     ]
    },
    {
     "name": "stdout",
     "output_type": "stream",
     "text": [
      "Testing at epoch 13\n",
      "Test unseen_subject completed. Accuracy: 0.1525, Top 1: 0.2345, Top 5: 0.4920, Top 10: 0.6160, Perplexity: 0.0000\n",
      "Test unseen_task completed. Accuracy: 0.2381, Top 1: 0.3065, Top 5: 0.6025, Top 10: 0.7323, Perplexity: 0.0000\n",
      "Test unseen_both completed. Accuracy: 0.1537, Top 1: 0.2375, Top 5: 0.4900, Top 10: 0.5975, Perplexity: 0.0000\n",
      "Epoch 13 completed in 5.97m. 0.04m per recording.\n"
     ]
    },
    {
     "name": "stderr",
     "output_type": "stream",
     "text": [
      "Training Epoch 14: 100%|██████████| 135/135 [05:35<00:00,  2.49s/it]\n"
     ]
    },
    {
     "name": "stdout",
     "output_type": "stream",
     "text": [
      "Testing at epoch 14\n",
      "Test unseen_subject completed. Accuracy: 0.1775, Top 1: 0.2550, Top 5: 0.4955, Top 10: 0.6050, Perplexity: 0.0000\n",
      "Test unseen_task completed. Accuracy: 0.2141, Top 1: 0.2876, Top 5: 0.5957, Top 10: 0.7287, Perplexity: 0.0000\n",
      "Test unseen_both completed. Accuracy: 0.1775, Top 1: 0.2463, Top 5: 0.4738, Top 10: 0.5913, Perplexity: 0.0000\n",
      "Epoch 14 completed in 6.00m. 0.04m per recording.\n"
     ]
    },
    {
     "name": "stderr",
     "output_type": "stream",
     "text": [
      "Training Epoch 15: 100%|██████████| 135/135 [05:31<00:00,  2.46s/it]\n"
     ]
    },
    {
     "name": "stdout",
     "output_type": "stream",
     "text": [
      "Testing at epoch 15\n",
      "Test unseen_subject completed. Accuracy: 0.2015, Top 1: 0.2910, Top 5: 0.5295, Top 10: 0.6325, Perplexity: 0.0000\n",
      "Test unseen_task completed. Accuracy: 0.2426, Top 1: 0.3203, Top 5: 0.6171, Top 10: 0.7456, Perplexity: 0.0000\n",
      "Test unseen_both completed. Accuracy: 0.1800, Top 1: 0.2700, Top 5: 0.5112, Top 10: 0.6212, Perplexity: 0.0000\n",
      "Epoch 15 completed in 5.95m. 0.04m per recording.\n"
     ]
    },
    {
     "name": "stderr",
     "output_type": "stream",
     "text": [
      "Training Epoch 16: 100%|██████████| 135/135 [05:35<00:00,  2.48s/it]\n"
     ]
    },
    {
     "name": "stdout",
     "output_type": "stream",
     "text": [
      "Testing at epoch 16\n",
      "Test unseen_subject completed. Accuracy: 0.1990, Top 1: 0.2795, Top 5: 0.4925, Top 10: 0.5905, Perplexity: 0.0000\n",
      "Test unseen_task completed. Accuracy: 0.2438, Top 1: 0.3221, Top 5: 0.6032, Top 10: 0.7285, Perplexity: 0.0000\n",
      "Test unseen_both completed. Accuracy: 0.1512, Top 1: 0.2362, Top 5: 0.4675, Top 10: 0.5613, Perplexity: 0.0000\n",
      "Epoch 16 completed in 5.98m. 0.04m per recording.\n"
     ]
    },
    {
     "name": "stderr",
     "output_type": "stream",
     "text": [
      "Training Epoch 17: 100%|██████████| 135/135 [05:36<00:00,  2.49s/it]\n"
     ]
    },
    {
     "name": "stdout",
     "output_type": "stream",
     "text": [
      "Testing at epoch 17\n",
      "Test unseen_subject completed. Accuracy: 0.1870, Top 1: 0.2720, Top 5: 0.5045, Top 10: 0.6050, Perplexity: 0.0000\n",
      "Test unseen_task completed. Accuracy: 0.1908, Top 1: 0.2573, Top 5: 0.5489, Top 10: 0.6920, Perplexity: 0.0000\n",
      "Test unseen_both completed. Accuracy: 0.1700, Top 1: 0.2525, Top 5: 0.4725, Top 10: 0.5900, Perplexity: 0.0000\n",
      "Epoch 17 completed in 6.02m. 0.04m per recording.\n"
     ]
    },
    {
     "name": "stderr",
     "output_type": "stream",
     "text": [
      "Training Epoch 18: 100%|██████████| 135/135 [05:36<00:00,  2.49s/it]\n"
     ]
    },
    {
     "name": "stdout",
     "output_type": "stream",
     "text": [
      "Testing at epoch 18\n",
      "Test unseen_subject completed. Accuracy: 0.1300, Top 1: 0.1950, Top 5: 0.4465, Top 10: 0.5910, Perplexity: 0.0000\n",
      "Test unseen_task completed. Accuracy: 0.1620, Top 1: 0.2217, Top 5: 0.5064, Top 10: 0.6468, Perplexity: 0.0000\n",
      "Test unseen_both completed. Accuracy: 0.1362, Top 1: 0.1963, Top 5: 0.4350, Top 10: 0.5800, Perplexity: 0.0000\n",
      "Epoch 18 completed in 6.05m. 0.04m per recording.\n"
     ]
    },
    {
     "name": "stderr",
     "output_type": "stream",
     "text": [
      "Training Epoch 19: 100%|██████████| 135/135 [05:31<00:00,  2.46s/it]\n"
     ]
    },
    {
     "name": "stdout",
     "output_type": "stream",
     "text": [
      "Testing at epoch 19\n",
      "Test unseen_subject completed. Accuracy: 0.1735, Top 1: 0.2600, Top 5: 0.5005, Top 10: 0.6045, Perplexity: 0.0000\n",
      "Test unseen_task completed. Accuracy: 0.2013, Top 1: 0.2680, Top 5: 0.5772, Top 10: 0.7126, Perplexity: 0.0000\n",
      "Test unseen_both completed. Accuracy: 0.1550, Top 1: 0.2175, Top 5: 0.4300, Top 10: 0.5562, Perplexity: 0.0000\n",
      "Epoch 19 completed in 6.01m. 0.04m per recording.\n"
     ]
    },
    {
     "name": "stderr",
     "output_type": "stream",
     "text": [
      "Training Epoch 20: 100%|██████████| 135/135 [04:34<00:00,  2.03s/it]\n"
     ]
    },
    {
     "name": "stdout",
     "output_type": "stream",
     "text": [
      "Testing at epoch 20\n",
      "Test unseen_subject completed. Accuracy: 0.1655, Top 1: 0.2470, Top 5: 0.4860, Top 10: 0.6025, Perplexity: 0.0000\n",
      "Test unseen_task completed. Accuracy: 0.1758, Top 1: 0.2324, Top 5: 0.5208, Top 10: 0.6604, Perplexity: 0.0000\n",
      "Test unseen_both completed. Accuracy: 0.1537, Top 1: 0.2275, Top 5: 0.4737, Top 10: 0.5862, Perplexity: 0.0000\n",
      "Epoch 20 completed in 5.00m. 0.04m per recording.\n"
     ]
    },
    {
     "name": "stderr",
     "output_type": "stream",
     "text": [
      "Training Epoch 21: 100%|██████████| 135/135 [04:45<00:00,  2.11s/it]\n"
     ]
    },
    {
     "name": "stdout",
     "output_type": "stream",
     "text": [
      "Testing at epoch 21\n",
      "Test unseen_subject completed. Accuracy: 0.1590, Top 1: 0.2385, Top 5: 0.4710, Top 10: 0.5830, Perplexity: 0.0000\n",
      "Test unseen_task completed. Accuracy: 0.2051, Top 1: 0.2723, Top 5: 0.5726, Top 10: 0.7030, Perplexity: 0.0000\n",
      "Test unseen_both completed. Accuracy: 0.1500, Top 1: 0.2275, Top 5: 0.4463, Top 10: 0.5625, Perplexity: 0.0000\n",
      "Epoch 21 completed in 5.18m. 0.04m per recording.\n"
     ]
    },
    {
     "name": "stderr",
     "output_type": "stream",
     "text": [
      "Training Epoch 22: 100%|██████████| 135/135 [04:45<00:00,  2.12s/it]\n"
     ]
    },
    {
     "name": "stdout",
     "output_type": "stream",
     "text": [
      "Testing at epoch 22\n",
      "Test unseen_subject completed. Accuracy: 0.1450, Top 1: 0.2205, Top 5: 0.4645, Top 10: 0.5785, Perplexity: 0.0000\n",
      "Test unseen_task completed. Accuracy: 0.1718, Top 1: 0.2320, Top 5: 0.5191, Top 10: 0.6650, Perplexity: 0.0000\n",
      "Test unseen_both completed. Accuracy: 0.1550, Top 1: 0.2087, Top 5: 0.4413, Top 10: 0.5588, Perplexity: 0.0000\n",
      "Epoch 22 completed in 5.18m. 0.04m per recording.\n"
     ]
    },
    {
     "name": "stderr",
     "output_type": "stream",
     "text": [
      "Training Epoch 23: 100%|██████████| 135/135 [04:38<00:00,  2.07s/it]\n"
     ]
    },
    {
     "name": "stdout",
     "output_type": "stream",
     "text": [
      "Testing at epoch 23\n",
      "Test unseen_subject completed. Accuracy: 0.1655, Top 1: 0.2435, Top 5: 0.4680, Top 10: 0.5780, Perplexity: 0.0000\n",
      "Test unseen_task completed. Accuracy: 0.1706, Top 1: 0.2336, Top 5: 0.5284, Top 10: 0.6714, Perplexity: 0.0000\n",
      "Test unseen_both completed. Accuracy: 0.1263, Top 1: 0.2012, Top 5: 0.4350, Top 10: 0.5525, Perplexity: 0.0000\n",
      "Epoch 23 completed in 5.09m. 0.04m per recording.\n"
     ]
    },
    {
     "name": "stderr",
     "output_type": "stream",
     "text": [
      "Training Epoch 24: 100%|██████████| 135/135 [04:45<00:00,  2.11s/it]\n"
     ]
    },
    {
     "name": "stdout",
     "output_type": "stream",
     "text": [
      "Testing at epoch 24\n",
      "Test unseen_subject completed. Accuracy: 0.1170, Top 1: 0.1895, Top 5: 0.4210, Top 10: 0.5445, Perplexity: 0.0000\n",
      "Test unseen_task completed. Accuracy: 0.1568, Top 1: 0.2171, Top 5: 0.4991, Top 10: 0.6477, Perplexity: 0.0000\n",
      "Test unseen_both completed. Accuracy: 0.1163, Top 1: 0.1950, Top 5: 0.4175, Top 10: 0.5525, Perplexity: 0.0000\n",
      "Epoch 24 completed in 5.19m. 0.04m per recording.\n"
     ]
    },
    {
     "name": "stderr",
     "output_type": "stream",
     "text": [
      "Training Epoch 25: 100%|██████████| 135/135 [04:35<00:00,  2.04s/it]\n"
     ]
    },
    {
     "name": "stdout",
     "output_type": "stream",
     "text": [
      "Testing at epoch 25\n",
      "Test unseen_subject completed. Accuracy: 0.1390, Top 1: 0.2210, Top 5: 0.4590, Top 10: 0.5775, Perplexity: 0.0000\n",
      "Test unseen_task completed. Accuracy: 0.1773, Top 1: 0.2362, Top 5: 0.5248, Top 10: 0.6585, Perplexity: 0.0000\n",
      "Test unseen_both completed. Accuracy: 0.1125, Top 1: 0.1675, Top 5: 0.4138, Top 10: 0.5175, Perplexity: 0.0000\n",
      "Epoch 25 completed in 4.97m. 0.04m per recording.\n"
     ]
    },
    {
     "name": "stderr",
     "output_type": "stream",
     "text": [
      "Training Epoch 26: 100%|██████████| 135/135 [04:08<00:00,  1.84s/it]\n"
     ]
    },
    {
     "name": "stdout",
     "output_type": "stream",
     "text": [
      "Testing at epoch 26\n",
      "Test unseen_subject completed. Accuracy: 0.1385, Top 1: 0.2085, Top 5: 0.4430, Top 10: 0.5575, Perplexity: 0.0000\n",
      "Test unseen_task completed. Accuracy: 0.1555, Top 1: 0.2123, Top 5: 0.4974, Top 10: 0.6310, Perplexity: 0.0000\n",
      "Test unseen_both completed. Accuracy: 0.0963, Top 1: 0.1700, Top 5: 0.3825, Top 10: 0.5025, Perplexity: 0.0000\n",
      "Epoch 26 completed in 4.56m. 0.03m per recording.\n",
      "Early stopping at epoch 26. Highest top 10 accuracy at epoch 15.\n",
      "Training completed.\n",
      "unseen_subject: Acc: 0.2015, Top 1: 0.2910, Top 5: 0.5295, Top 10: 0.6325\n",
      "unseen_task: Acc: 0.2426, Top 1: 0.3203, Top 5: 0.6171, Top 10: 0.7456\n",
      "unseen_both: Acc: 0.1800, Top 1: 0.2700, Top 5: 0.5112, Top 10: 0.6212\n"
     ]
    }
   ],
   "source": [
    "try:\n",
    "    session.train(\n",
    "        device=\"cuda\",\n",
    "        buffer_size=30,\n",
    "        num_workers=(multiprocessing.cpu_count() - 2) // 2,\n",
    "        max_cache_size=400,\n",
    "        current_epoch=0,\n",
    "    )\n",
    "except KeyboardInterrupt as e:\n",
    "    print(\"Exited\")"
   ]
  },
  {
   "cell_type": "markdown",
   "metadata": {},
   "source": [
    "## Clipping 40std\n"
   ]
  },
  {
   "cell_type": "code",
   "execution_count": 6,
   "metadata": {},
   "outputs": [
    {
     "name": "stdout",
     "output_type": "stream",
     "text": [
      "Loading Gwilliams2023 with batch type audio\n",
      "Cleared cache for study gwilliams2023\n",
      "Data partitioned on studies ['gwilliams2023'].\n",
      "Train: 135, Unseen Task: 12, Unseen Subject: 45, Unseen Both: 4.\n",
      "\n",
      "GPU is not NVIDIA V100, A100, or H100. Speedup numbers may be lower than expected.\n",
      "SimpleConv initialized with 8448160 parameters, cond: ['study', 'subject']\n",
      "Merger False, merger channels 0\n",
      "ConvBlocks: 6, hidden_dim: 384, params 7973376\n"
     ]
    },
    {
     "name": "stderr",
     "output_type": "stream",
     "text": [
      "Training Epoch 1: 100%|██████████| 135/135 [35:41<00:00, 15.86s/it] \n"
     ]
    },
    {
     "name": "stdout",
     "output_type": "stream",
     "text": [
      "Testing at epoch 1\n",
      "Test unseen_subject completed. Accuracy: 0.0870, Top 1: 0.1390, Top 5: 0.3640, Top 10: 0.5080, Perplexity: 0.0000\n",
      "Test unseen_task completed. Accuracy: 0.0835, Top 1: 0.1194, Top 5: 0.3608, Top 10: 0.5291, Perplexity: 0.0000\n",
      "Test unseen_both completed. Accuracy: 0.0863, Top 1: 0.1225, Top 5: 0.3500, Top 10: 0.4813, Perplexity: 0.0000\n",
      "Epoch 1 completed in 40.09m. 0.30m per recording.\n"
     ]
    },
    {
     "name": "stderr",
     "output_type": "stream",
     "text": [
      "Training Epoch 2: 100%|██████████| 135/135 [05:21<00:00,  2.38s/it]\n"
     ]
    },
    {
     "name": "stdout",
     "output_type": "stream",
     "text": [
      "Testing at epoch 2\n",
      "Test unseen_subject completed. Accuracy: 0.0730, Top 1: 0.1185, Top 5: 0.3205, Top 10: 0.4465, Perplexity: 0.0000\n",
      "Test unseen_task completed. Accuracy: 0.1165, Top 1: 0.1650, Top 5: 0.4218, Top 10: 0.5703, Perplexity: 0.0000\n",
      "Test unseen_both completed. Accuracy: 0.0825, Top 1: 0.1362, Top 5: 0.3362, Top 10: 0.4813, Perplexity: 0.0000\n",
      "Epoch 2 completed in 5.82m. 0.04m per recording.\n"
     ]
    },
    {
     "name": "stderr",
     "output_type": "stream",
     "text": [
      "Training Epoch 3: 100%|██████████| 135/135 [05:24<00:00,  2.40s/it]\n"
     ]
    },
    {
     "name": "stdout",
     "output_type": "stream",
     "text": [
      "Testing at epoch 3\n",
      "Test unseen_subject completed. Accuracy: 0.0705, Top 1: 0.1150, Top 5: 0.3150, Top 10: 0.4475, Perplexity: 0.0000\n",
      "Test unseen_task completed. Accuracy: 0.1411, Top 1: 0.1942, Top 5: 0.4610, Top 10: 0.6143, Perplexity: 0.0000\n",
      "Test unseen_both completed. Accuracy: 0.0850, Top 1: 0.1425, Top 5: 0.3563, Top 10: 0.4987, Perplexity: 0.0000\n",
      "Epoch 3 completed in 5.84m. 0.04m per recording.\n"
     ]
    },
    {
     "name": "stderr",
     "output_type": "stream",
     "text": [
      "Training Epoch 4: 100%|██████████| 135/135 [05:25<00:00,  2.41s/it]\n"
     ]
    },
    {
     "name": "stdout",
     "output_type": "stream",
     "text": [
      "Testing at epoch 4\n",
      "Test unseen_subject completed. Accuracy: 0.1110, Top 1: 0.1735, Top 5: 0.3980, Top 10: 0.5215, Perplexity: 0.0000\n",
      "Test unseen_task completed. Accuracy: 0.1455, Top 1: 0.2079, Top 5: 0.5101, Top 10: 0.6577, Perplexity: 0.0000\n",
      "Test unseen_both completed. Accuracy: 0.1013, Top 1: 0.1638, Top 5: 0.4088, Top 10: 0.5400, Perplexity: 0.0000\n",
      "Epoch 4 completed in 5.89m. 0.04m per recording.\n"
     ]
    },
    {
     "name": "stderr",
     "output_type": "stream",
     "text": [
      "Training Epoch 5: 100%|██████████| 135/135 [05:23<00:00,  2.39s/it]\n"
     ]
    },
    {
     "name": "stdout",
     "output_type": "stream",
     "text": [
      "Testing at epoch 5\n",
      "Test unseen_subject completed. Accuracy: 0.1530, Top 1: 0.2245, Top 5: 0.4740, Top 10: 0.5790, Perplexity: 0.0000\n",
      "Test unseen_task completed. Accuracy: 0.1867, Top 1: 0.2575, Top 5: 0.5720, Top 10: 0.7092, Perplexity: 0.0000\n",
      "Test unseen_both completed. Accuracy: 0.1562, Top 1: 0.2487, Top 5: 0.4638, Top 10: 0.5875, Perplexity: 0.0000\n",
      "Epoch 5 completed in 5.80m. 0.04m per recording.\n"
     ]
    },
    {
     "name": "stderr",
     "output_type": "stream",
     "text": [
      "Training Epoch 6: 100%|██████████| 135/135 [05:26<00:00,  2.42s/it]\n"
     ]
    },
    {
     "name": "stdout",
     "output_type": "stream",
     "text": [
      "Testing at epoch 6\n",
      "Test unseen_subject completed. Accuracy: 0.1415, Top 1: 0.2295, Top 5: 0.4770, Top 10: 0.5850, Perplexity: 0.0000\n",
      "Test unseen_task completed. Accuracy: 0.1777, Top 1: 0.2396, Top 5: 0.5379, Top 10: 0.6805, Perplexity: 0.0000\n",
      "Test unseen_both completed. Accuracy: 0.1650, Top 1: 0.2325, Top 5: 0.4812, Top 10: 0.5988, Perplexity: 0.0000\n",
      "Epoch 6 completed in 5.87m. 0.04m per recording.\n"
     ]
    },
    {
     "name": "stderr",
     "output_type": "stream",
     "text": [
      "Training Epoch 7: 100%|██████████| 135/135 [05:23<00:00,  2.40s/it]\n"
     ]
    },
    {
     "name": "stdout",
     "output_type": "stream",
     "text": [
      "Testing at epoch 7\n",
      "Test unseen_subject completed. Accuracy: 0.1535, Top 1: 0.2300, Top 5: 0.4620, Top 10: 0.5925, Perplexity: 0.0000\n",
      "Test unseen_task completed. Accuracy: 0.2135, Top 1: 0.2833, Top 5: 0.5778, Top 10: 0.7089, Perplexity: 0.0000\n",
      "Test unseen_both completed. Accuracy: 0.1937, Top 1: 0.2637, Top 5: 0.5037, Top 10: 0.6150, Perplexity: 0.0000\n",
      "Epoch 7 completed in 5.85m. 0.04m per recording.\n"
     ]
    },
    {
     "name": "stderr",
     "output_type": "stream",
     "text": [
      "Training Epoch 8: 100%|██████████| 135/135 [05:24<00:00,  2.40s/it]\n"
     ]
    },
    {
     "name": "stdout",
     "output_type": "stream",
     "text": [
      "Testing at epoch 8\n",
      "Test unseen_subject completed. Accuracy: 0.1615, Top 1: 0.2410, Top 5: 0.4745, Top 10: 0.5815, Perplexity: 0.0000\n",
      "Test unseen_task completed. Accuracy: 0.1395, Top 1: 0.1942, Top 5: 0.4835, Top 10: 0.6290, Perplexity: 0.0000\n",
      "Test unseen_both completed. Accuracy: 0.1263, Top 1: 0.1837, Top 5: 0.4012, Top 10: 0.5100, Perplexity: 0.0000\n",
      "Epoch 8 completed in 5.87m. 0.04m per recording.\n"
     ]
    },
    {
     "name": "stderr",
     "output_type": "stream",
     "text": [
      "Training Epoch 9: 100%|██████████| 135/135 [05:26<00:00,  2.42s/it]\n"
     ]
    },
    {
     "name": "stdout",
     "output_type": "stream",
     "text": [
      "Testing at epoch 9\n",
      "Test unseen_subject completed. Accuracy: 0.1395, Top 1: 0.2195, Top 5: 0.4425, Top 10: 0.5510, Perplexity: 0.0000\n",
      "Test unseen_task completed. Accuracy: 0.2131, Top 1: 0.2783, Top 5: 0.5571, Top 10: 0.6736, Perplexity: 0.0000\n",
      "Test unseen_both completed. Accuracy: 0.1288, Top 1: 0.1850, Top 5: 0.4175, Top 10: 0.5225, Perplexity: 0.0000\n",
      "Epoch 9 completed in 5.87m. 0.04m per recording.\n"
     ]
    },
    {
     "name": "stderr",
     "output_type": "stream",
     "text": [
      "Training Epoch 10: 100%|██████████| 135/135 [05:24<00:00,  2.40s/it]\n"
     ]
    },
    {
     "name": "stdout",
     "output_type": "stream",
     "text": [
      "Testing at epoch 10\n",
      "Test unseen_subject completed. Accuracy: 0.1725, Top 1: 0.2495, Top 5: 0.4715, Top 10: 0.5775, Perplexity: 0.0000\n",
      "Test unseen_task completed. Accuracy: 0.2138, Top 1: 0.2791, Top 5: 0.5624, Top 10: 0.6944, Perplexity: 0.0000\n",
      "Test unseen_both completed. Accuracy: 0.1562, Top 1: 0.2388, Top 5: 0.4625, Top 10: 0.5700, Perplexity: 0.0000\n",
      "Epoch 10 completed in 5.88m. 0.04m per recording.\n"
     ]
    },
    {
     "name": "stderr",
     "output_type": "stream",
     "text": [
      "Training Epoch 11: 100%|██████████| 135/135 [05:20<00:00,  2.38s/it]\n"
     ]
    },
    {
     "name": "stdout",
     "output_type": "stream",
     "text": [
      "Testing at epoch 11\n",
      "Test unseen_subject completed. Accuracy: 0.1900, Top 1: 0.2690, Top 5: 0.4680, Top 10: 0.5780, Perplexity: 0.0000\n",
      "Test unseen_task completed. Accuracy: 0.2153, Top 1: 0.2843, Top 5: 0.5599, Top 10: 0.6766, Perplexity: 0.0000\n",
      "Test unseen_both completed. Accuracy: 0.1412, Top 1: 0.2075, Top 5: 0.3962, Top 10: 0.5312, Perplexity: 0.0000\n",
      "Epoch 11 completed in 5.81m. 0.04m per recording.\n"
     ]
    },
    {
     "name": "stderr",
     "output_type": "stream",
     "text": [
      "Training Epoch 12: 100%|██████████| 135/135 [05:20<00:00,  2.37s/it]\n"
     ]
    },
    {
     "name": "stdout",
     "output_type": "stream",
     "text": [
      "Testing at epoch 12\n",
      "Test unseen_subject completed. Accuracy: 0.1590, Top 1: 0.2410, Top 5: 0.4850, Top 10: 0.5920, Perplexity: 0.0000\n",
      "Test unseen_task completed. Accuracy: 0.2055, Top 1: 0.2733, Top 5: 0.5749, Top 10: 0.7157, Perplexity: 0.0000\n",
      "Test unseen_both completed. Accuracy: 0.1737, Top 1: 0.2450, Top 5: 0.4863, Top 10: 0.5800, Perplexity: 0.0000\n",
      "Epoch 12 completed in 5.81m. 0.04m per recording.\n"
     ]
    },
    {
     "name": "stderr",
     "output_type": "stream",
     "text": [
      "Training Epoch 13: 100%|██████████| 135/135 [05:21<00:00,  2.38s/it]\n"
     ]
    },
    {
     "name": "stdout",
     "output_type": "stream",
     "text": [
      "Testing at epoch 13\n",
      "Test unseen_subject completed. Accuracy: 0.1900, Top 1: 0.2805, Top 5: 0.5280, Top 10: 0.6340, Perplexity: 0.0000\n",
      "Test unseen_task completed. Accuracy: 0.2184, Top 1: 0.2983, Top 5: 0.6037, Top 10: 0.7357, Perplexity: 0.0000\n",
      "Test unseen_both completed. Accuracy: 0.1837, Top 1: 0.2637, Top 5: 0.4987, Top 10: 0.6088, Perplexity: 0.0000\n",
      "Epoch 13 completed in 5.81m. 0.04m per recording.\n"
     ]
    },
    {
     "name": "stderr",
     "output_type": "stream",
     "text": [
      "Training Epoch 14: 100%|██████████| 135/135 [04:10<00:00,  1.85s/it]\n"
     ]
    },
    {
     "name": "stdout",
     "output_type": "stream",
     "text": [
      "Testing at epoch 14\n",
      "Test unseen_subject completed. Accuracy: 0.1480, Top 1: 0.2380, Top 5: 0.4940, Top 10: 0.6190, Perplexity: 0.0000\n",
      "Test unseen_task completed. Accuracy: 0.2393, Top 1: 0.3109, Top 5: 0.6095, Top 10: 0.7365, Perplexity: 0.0000\n",
      "Test unseen_both completed. Accuracy: 0.1725, Top 1: 0.2487, Top 5: 0.4888, Top 10: 0.5950, Perplexity: 0.0000\n",
      "Epoch 14 completed in 4.49m. 0.03m per recording.\n"
     ]
    },
    {
     "name": "stderr",
     "output_type": "stream",
     "text": [
      "Training Epoch 15: 100%|██████████| 135/135 [03:57<00:00,  1.76s/it]\n"
     ]
    },
    {
     "name": "stdout",
     "output_type": "stream",
     "text": [
      "Testing at epoch 15\n",
      "Test unseen_subject completed. Accuracy: 0.1780, Top 1: 0.2585, Top 5: 0.5080, Top 10: 0.6215, Perplexity: 0.0000\n",
      "Test unseen_task completed. Accuracy: 0.1542, Top 1: 0.2158, Top 5: 0.5133, Top 10: 0.6628, Perplexity: 0.0000\n",
      "Test unseen_both completed. Accuracy: 0.1375, Top 1: 0.2112, Top 5: 0.4575, Top 10: 0.5700, Perplexity: 0.0000\n",
      "Epoch 15 completed in 4.29m. 0.03m per recording.\n"
     ]
    },
    {
     "name": "stderr",
     "output_type": "stream",
     "text": [
      "Training Epoch 16: 100%|██████████| 135/135 [03:58<00:00,  1.77s/it]\n"
     ]
    },
    {
     "name": "stdout",
     "output_type": "stream",
     "text": [
      "Testing at epoch 16\n",
      "Test unseen_subject completed. Accuracy: 0.1710, Top 1: 0.2570, Top 5: 0.5040, Top 10: 0.6190, Perplexity: 0.0000\n",
      "Test unseen_task completed. Accuracy: 0.2188, Top 1: 0.2884, Top 5: 0.5891, Top 10: 0.7205, Perplexity: 0.0000\n",
      "Test unseen_both completed. Accuracy: 0.1762, Top 1: 0.2463, Top 5: 0.4813, Top 10: 0.5837, Perplexity: 0.0000\n",
      "Epoch 16 completed in 4.30m. 0.03m per recording.\n"
     ]
    },
    {
     "name": "stderr",
     "output_type": "stream",
     "text": [
      "Training Epoch 17: 100%|██████████| 135/135 [03:57<00:00,  1.76s/it]\n"
     ]
    },
    {
     "name": "stdout",
     "output_type": "stream",
     "text": [
      "Testing at epoch 17\n",
      "Test unseen_subject completed. Accuracy: 0.1995, Top 1: 0.2950, Top 5: 0.5135, Top 10: 0.6165, Perplexity: 0.0000\n",
      "Test unseen_task completed. Accuracy: 0.1931, Top 1: 0.2647, Top 5: 0.5622, Top 10: 0.7083, Perplexity: 0.0000\n",
      "Test unseen_both completed. Accuracy: 0.1588, Top 1: 0.2612, Top 5: 0.4800, Top 10: 0.5862, Perplexity: 0.0000\n",
      "Epoch 17 completed in 4.28m. 0.03m per recording.\n"
     ]
    },
    {
     "name": "stderr",
     "output_type": "stream",
     "text": [
      "Training Epoch 18: 100%|██████████| 135/135 [03:57<00:00,  1.76s/it]\n"
     ]
    },
    {
     "name": "stdout",
     "output_type": "stream",
     "text": [
      "Testing at epoch 18\n",
      "Test unseen_subject completed. Accuracy: 0.1305, Top 1: 0.2070, Top 5: 0.4500, Top 10: 0.5805, Perplexity: 0.0000\n",
      "Test unseen_task completed. Accuracy: 0.1942, Top 1: 0.2604, Top 5: 0.5356, Top 10: 0.6654, Perplexity: 0.0000\n",
      "Test unseen_both completed. Accuracy: 0.1613, Top 1: 0.2337, Top 5: 0.4600, Top 10: 0.5637, Perplexity: 0.0000\n",
      "Epoch 18 completed in 4.28m. 0.03m per recording.\n"
     ]
    },
    {
     "name": "stderr",
     "output_type": "stream",
     "text": [
      "Training Epoch 19: 100%|██████████| 135/135 [03:57<00:00,  1.76s/it]\n"
     ]
    },
    {
     "name": "stdout",
     "output_type": "stream",
     "text": [
      "Testing at epoch 19\n",
      "Test unseen_subject completed. Accuracy: 0.1270, Top 1: 0.2005, Top 5: 0.4640, Top 10: 0.5970, Perplexity: 0.0000\n",
      "Test unseen_task completed. Accuracy: 0.1808, Top 1: 0.2503, Top 5: 0.5552, Top 10: 0.6868, Perplexity: 0.0000\n",
      "Test unseen_both completed. Accuracy: 0.1625, Top 1: 0.2275, Top 5: 0.4888, Top 10: 0.6313, Perplexity: 0.0000\n",
      "Epoch 19 completed in 4.27m. 0.03m per recording.\n"
     ]
    },
    {
     "name": "stderr",
     "output_type": "stream",
     "text": [
      "Training Epoch 20: 100%|██████████| 135/135 [03:58<00:00,  1.77s/it]\n"
     ]
    },
    {
     "name": "stdout",
     "output_type": "stream",
     "text": [
      "Testing at epoch 20\n",
      "Test unseen_subject completed. Accuracy: 0.1340, Top 1: 0.2065, Top 5: 0.4575, Top 10: 0.5800, Perplexity: 0.0000\n",
      "Test unseen_task completed. Accuracy: 0.1918, Top 1: 0.2538, Top 5: 0.5444, Top 10: 0.6750, Perplexity: 0.0000\n",
      "Test unseen_both completed. Accuracy: 0.1425, Top 1: 0.2075, Top 5: 0.4287, Top 10: 0.5500, Perplexity: 0.0000\n",
      "Epoch 20 completed in 4.30m. 0.03m per recording.\n"
     ]
    },
    {
     "name": "stderr",
     "output_type": "stream",
     "text": [
      "Training Epoch 21: 100%|██████████| 135/135 [03:58<00:00,  1.76s/it]\n"
     ]
    },
    {
     "name": "stdout",
     "output_type": "stream",
     "text": [
      "Testing at epoch 21\n",
      "Test unseen_subject completed. Accuracy: 0.1500, Top 1: 0.2235, Top 5: 0.4640, Top 10: 0.5710, Perplexity: 0.0000\n",
      "Test unseen_task completed. Accuracy: 0.2039, Top 1: 0.2758, Top 5: 0.5681, Top 10: 0.6955, Perplexity: 0.0000\n",
      "Test unseen_both completed. Accuracy: 0.1462, Top 1: 0.2162, Top 5: 0.4437, Top 10: 0.5637, Perplexity: 0.0000\n",
      "Epoch 21 completed in 4.29m. 0.03m per recording.\n"
     ]
    },
    {
     "name": "stderr",
     "output_type": "stream",
     "text": [
      "Training Epoch 22: 100%|██████████| 135/135 [03:56<00:00,  1.75s/it]\n"
     ]
    },
    {
     "name": "stdout",
     "output_type": "stream",
     "text": [
      "Testing at epoch 22\n",
      "Test unseen_subject completed. Accuracy: 0.1240, Top 1: 0.1950, Top 5: 0.4405, Top 10: 0.5605, Perplexity: 0.0000\n",
      "Test unseen_task completed. Accuracy: 0.1571, Top 1: 0.2137, Top 5: 0.4931, Top 10: 0.6375, Perplexity: 0.0000\n",
      "Test unseen_both completed. Accuracy: 0.1162, Top 1: 0.1650, Top 5: 0.3800, Top 10: 0.5038, Perplexity: 0.0000\n",
      "Epoch 22 completed in 4.26m. 0.03m per recording.\n"
     ]
    },
    {
     "name": "stderr",
     "output_type": "stream",
     "text": [
      "Training Epoch 23: 100%|██████████| 135/135 [03:56<00:00,  1.75s/it]\n"
     ]
    },
    {
     "name": "stdout",
     "output_type": "stream",
     "text": [
      "Testing at epoch 23\n",
      "Test unseen_subject completed. Accuracy: 0.1155, Top 1: 0.1830, Top 5: 0.4330, Top 10: 0.5615, Perplexity: 0.0000\n",
      "Test unseen_task completed. Accuracy: 0.1516, Top 1: 0.2054, Top 5: 0.4802, Top 10: 0.6272, Perplexity: 0.0000\n",
      "Test unseen_both completed. Accuracy: 0.1125, Top 1: 0.1800, Top 5: 0.4288, Top 10: 0.5525, Perplexity: 0.0000\n",
      "Epoch 23 completed in 4.27m. 0.03m per recording.\n"
     ]
    },
    {
     "name": "stderr",
     "output_type": "stream",
     "text": [
      "Training Epoch 24: 100%|██████████| 135/135 [03:58<00:00,  1.76s/it]\n"
     ]
    },
    {
     "name": "stdout",
     "output_type": "stream",
     "text": [
      "Testing at epoch 24\n",
      "Test unseen_subject completed. Accuracy: 0.1095, Top 1: 0.1695, Top 5: 0.4180, Top 10: 0.5410, Perplexity: 0.0000\n",
      "Test unseen_task completed. Accuracy: 0.1343, Top 1: 0.1898, Top 5: 0.4724, Top 10: 0.6138, Perplexity: 0.0000\n",
      "Test unseen_both completed. Accuracy: 0.0988, Top 1: 0.1537, Top 5: 0.3925, Top 10: 0.5100, Perplexity: 0.0000\n",
      "Epoch 24 completed in 4.29m. 0.03m per recording.\n",
      "Early stopping at epoch 24. Highest top 10 accuracy at epoch 13.\n",
      "Training completed.\n",
      "unseen_subject: Acc: 0.1900, Top 1: 0.2805, Top 5: 0.5280, Top 10: 0.6340\n",
      "unseen_task: Acc: 0.2184, Top 1: 0.2983, Top 5: 0.6037, Top 10: 0.7357\n",
      "unseen_both: Acc: 0.1837, Top 1: 0.2637, Top 5: 0.4987, Top 10: 0.6088\n"
     ]
    }
   ],
   "source": [
    "del session.logger\n",
    "del session\n",
    "\n",
    "from pickle import NONE\n",
    "from train.training_session_v0 import TrainingSessionV0\n",
    "from config import TrainingConfigV0\n",
    "import multiprocessing\n",
    "\n",
    "data_partition = {\n",
    "    \"gwilliams2023\": {\n",
    "        \"testing_subjects\": [19, 20, 21],\n",
    "        \"testing_tasks\": [0],\n",
    "    },\n",
    "    # \"schoffelen2022\": {\n",
    "    #     \"testing_subjects\": [],\n",
    "    #     \"testing_tasks\": [8, 9],\n",
    "    # },\n",
    "}\n",
    "\n",
    "from config import SimpleConvConfig\n",
    "from models.simpleconv import SimpleConv\n",
    "import torch\n",
    "\n",
    "model_config = SimpleConvConfig(\n",
    "    # Str to list of possible conditions\n",
    "    mel_normalization=False,\n",
    "    conditions={\n",
    "        \"study\": [],\n",
    "        \"subject\": [],\n",
    "    },\n",
    "    # Channels\n",
    "    in_channels=208,\n",
    "    out_channels=128,\n",
    "    hidden_dim=384,\n",
    "    dropout=0.2,\n",
    "    initial_batch_norm=True,\n",
    "    # Sensor layout settings\n",
    "    layout_dim=2,\n",
    "    layout_proj=True,\n",
    "    layout_scaling=\"minmax\",\n",
    "    # Merger with spatial attn\n",
    "    merger=False,\n",
    "    merger_emb_type=None,\n",
    "    merger_emb_dim=0,\n",
    "    merger_channels=0,\n",
    "    merger_dropout=False,\n",
    "    merger_conditional=None,\n",
    "    # Inital\n",
    "    initial_linear=384,\n",
    "    initial_depth=1,\n",
    "    # Conditional layers\n",
    "    conditional_layers=False,\n",
    "    conditional_layers_dim=None,  # input or hidden_dim\n",
    "    # Conv layer overall structure\n",
    "    depth=6,\n",
    "    kernel_size=3,\n",
    "    growth=1.0,\n",
    "    dilation_growth=2,\n",
    "    dilation_period=5,\n",
    "    glu=1,\n",
    "    conv_dropout=0.2,\n",
    "    dropout_input=0.2,\n",
    "    batch_norm=True,\n",
    "    # Quantizer\n",
    "    quantizer=False,\n",
    "    num_codebooks=0,\n",
    "    codebook_size=0,\n",
    "    quantizer_commitment=0,\n",
    "    quantizer_temp_init=0,\n",
    "    quantizer_temp_min=0,\n",
    "    quantizer_temp_decay=0,\n",
    "    # Transformers Encoders\n",
    "    transformer_input=None,\n",
    "    transformer_encoder_emb=None,\n",
    "    transformer_encoder_layers=0,\n",
    "    transformer_encoder_heads=0,\n",
    "    # Transformer Decoders\n",
    "    transformer_decoder_emb=None,\n",
    "    transformer_decoder_layers=0,\n",
    "    transformer_decoder_heads=0,\n",
    "    transformer_decoder_dim=0,\n",
    ")\n",
    "\n",
    "config = TrainingConfigV0(\n",
    "    brain_encoder_config=model_config,\n",
    "    data_partition=data_partition,\n",
    "    # Pre-processing parameters\n",
    "    # Brain\n",
    "    new_freq=100,\n",
    "    frequency_bands={\"all\": (0.5, 80)},\n",
    "    max_random_shift=1.0,\n",
    "    window_size=4,\n",
    "    window_stride=1,\n",
    "    brain_clipping=40,\n",
    "    baseline_window=0.5,\n",
    "    notch_filter=True,\n",
    "    scaling=\"standard\",\n",
    "    delay=0.15,\n",
    "    # Hyperparameters\n",
    "    learning_rate=3e-4,\n",
    "    weight_decay=1e-4,\n",
    "    epochs=50,\n",
    "    batch_size=256,\n",
    "    use_clip_loss=True,\n",
    "    use_mse_loss=True,\n",
    "    alpha=0.6,\n",
    "    random_test_size=10,\n",
    "    seed=42,\n",
    ")\n",
    "\n",
    "session = TrainingSessionV0(\n",
    "    config=config,\n",
    "    studies={study: \"audio\" for study in data_partition.keys()},\n",
    "    data_path=\"data\",\n",
    "    save_path=\"saves/phase1/ablation/baseline_5_sec\",\n",
    "    clear_cache=True,\n",
    "    cache_name=\"cache_1\",\n",
    ")\n",
    "\n",
    "try:\n",
    "    session.train(\n",
    "        device=\"cuda\",\n",
    "        buffer_size=30,\n",
    "        num_workers=(multiprocessing.cpu_count() - 2) // 2,\n",
    "        max_cache_size=400,\n",
    "        current_epoch=0,\n",
    "    )\n",
    "except KeyboardInterrupt as e:\n",
    "    print(\"Exited\")"
   ]
  },
  {
   "cell_type": "code",
   "execution_count": null,
   "metadata": {},
   "outputs": [],
   "source": []
  }
 ],
 "metadata": {
  "kernelspec": {
   "display_name": "Python 3 (ipykernel)",
   "language": "python",
   "name": "python3"
  },
  "language_info": {
   "codemirror_mode": {
    "name": "ipython",
    "version": 3
   },
   "file_extension": ".py",
   "mimetype": "text/x-python",
   "name": "python",
   "nbconvert_exporter": "python",
   "pygments_lexer": "ipython3",
   "version": "3.10.12"
  }
 },
 "nbformat": 4,
 "nbformat_minor": 4
}
