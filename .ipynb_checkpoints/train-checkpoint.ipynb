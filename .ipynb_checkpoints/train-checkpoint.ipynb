{
 "cells": [
  {
   "cell_type": "code",
   "execution_count": 1,
   "metadata": {},
   "outputs": [],
   "source": [
    "data_partition = {\n",
    "    \"gwilliams2023\": {\n",
    "        \"testing_subjects\": [19, 20, 21],\n",
    "        \"testing_tasks\": [0],\n",
    "    },\n",
    "    # \"armeini2022\": {\n",
    "    #     \"testing_subjects\": [],\n",
    "    #     \"testing_tasks\": [8, 9],\n",
    "    # },\n",
    "}"
   ]
  },
  {
   "cell_type": "code",
   "execution_count": 2,
   "metadata": {},
   "outputs": [],
   "source": [
    "# from utils.compression import compress_directories, decompress_directories\n",
    "\n",
    "# for base_path, batch_type in data_partition.items():\n",
    "#     decompress_directories(\n",
    "#         source_path=f'downloaded_data/{base_path}',\n",
    "#         destination_path=f'data/{base_path}',\n",
    "#         checksum_file_name=\"checksums.txt\",\n",
    "#         delete_compressed_files=True,\n",
    "#         num_workers=26\n",
    "#     )"
   ]
  },
  {
   "cell_type": "code",
   "execution_count": 2,
   "metadata": {},
   "outputs": [],
   "source": [
    "from config import SimpleConvConfig\n",
    "from models.simpleconv import SimpleConv\n",
    "import torch\n",
    "\n",
    "model_config = SimpleConvConfig(\n",
    "    # Str to list of possible conditions\n",
    "    mel_normalization=False,\n",
    "    conditions={\n",
    "        \"study\": [],\n",
    "        \"subject\": [],\n",
    "    },\n",
    "    # Channels\n",
    "    in_channels=208,\n",
    "    out_channels=128,\n",
    "    hidden_dim=384,\n",
    "    dropout=0.2,\n",
    "    initial_batch_norm=True,\n",
    "    # Sensor layout settings\n",
    "    layout_dim=2,\n",
    "    layout_proj=True,\n",
    "    layout_scaling=\"minmax\",\n",
    "    # Merger with spatial attn\n",
    "    merger=False,\n",
    "    merger_emb_type=None,\n",
    "    merger_emb_dim=0,\n",
    "    merger_channels=0,\n",
    "    merger_dropout=False,\n",
    "    merger_conditional=None,\n",
    "    # Inital\n",
    "    initial_linear=384,\n",
    "    initial_depth=1,\n",
    "    # Conditional layers\n",
    "    conditional_layers=False,\n",
    "    conditional_layers_dim=None,  # input or hidden_dim\n",
    "    # Conv layer overall structure\n",
    "    depth=6,\n",
    "    kernel_size=3,\n",
    "    growth=1.0,\n",
    "    dilation_growth=2,\n",
    "    dilation_period=5,\n",
    "    glu=1,\n",
    "    conv_dropout=0.2,\n",
    "    dropout_input=0.2,\n",
    "    batch_norm=True,\n",
    "    # Quantizer\n",
    "    quantizer=False,\n",
    "    num_codebooks=0,\n",
    "    codebook_size=0,\n",
    "    quantizer_commitment=0,\n",
    "    quantizer_temp_init=0,\n",
    "    quantizer_temp_min=0,\n",
    "    quantizer_temp_decay=0,\n",
    "    # Transformers Encoders\n",
    "    transformer_input=None,\n",
    "    transformer_encoder_emb=None,\n",
    "    transformer_encoder_layers=0,\n",
    "    transformer_encoder_heads=0,\n",
    "    # Transformer Decoders\n",
    "    transformer_decoder_emb=None,\n",
    "    transformer_decoder_layers=0,\n",
    "    transformer_decoder_heads=0,\n",
    "    transformer_decoder_dim=0,\n",
    ")"
   ]
  },
  {
   "cell_type": "code",
   "execution_count": 4,
   "metadata": {},
   "outputs": [
    {
     "name": "stdout",
     "output_type": "stream",
     "text": [
      "Loading Gwilliams2023 with batch type audio\n",
      "Data partitioned on studies ['gwilliams2023'].\n",
      "Train: 135, Unseen Task: 12, Unseen Subject: 45, Unseen Both: 4.\n",
      "\n",
      "GPU is not NVIDIA V100, A100, or H100. Speedup numbers may be lower than expected.\n",
      "SimpleConv initialized with 8448160 parameters, cond: ['study', 'subject']\n",
      "Merger False, merger channels 0\n",
      "ConvBlocks: 6, hidden_dim: 384, params 7973376\n"
     ]
    }
   ],
   "source": [
    "from train.training_session_v0 import TrainingSessionV0\n",
    "from config import TrainingConfigV0\n",
    "import multiprocessing\n",
    "\n",
    "config = TrainingConfigV0(\n",
    "    brain_encoder_config=model_config,\n",
    "    data_partition=data_partition,\n",
    "    # Pre-processing parameters\n",
    "    # Brain\n",
    "    new_freq=100,\n",
    "    frequency_bands={\"all\": (0.5, 80)},\n",
    "    max_random_shift=1.0,\n",
    "    window_size=4,\n",
    "    window_stride=1,\n",
    "    brain_clipping=None,\n",
    "    baseline_window=0.5,\n",
    "    notch_filter=True,\n",
    "    scaling=\"standard\",\n",
    "    delay=0.15,\n",
    "    # Hyperparameters\n",
    "    learning_rate=3e-4,\n",
    "    weight_decay=1e-4,\n",
    "    epochs=50,\n",
    "    batch_size=256,\n",
    "    use_clip_loss=True,\n",
    "    use_mse_loss=True,\n",
    "    alpha=0.6,\n",
    "    random_test_size=10,\n",
    "    seed=42,\n",
    ")\n",
    "\n",
    "session = TrainingSessionV0(\n",
    "    config=config,\n",
    "    studies={study: \"audio\" for study in data_partition.keys()},\n",
    "    data_path=\"data\",\n",
    "    save_path=\"saves/phase1/ablation/clipping/none\",\n",
    "    clear_cache=False,\n",
    "    cache_name=\"cache\",\n",
    ")"
   ]
  },
  {
   "cell_type": "code",
   "execution_count": 5,
   "metadata": {},
   "outputs": [
    {
     "name": "stderr",
     "output_type": "stream",
     "text": [
      "2024-12-21 10:49:04,522\tINFO worker.py:1821 -- Started a local Ray instance.\n",
      "Training Epoch 1: 100%|██████████| 135/135 [05:30<00:00,  2.45s/it]\n"
     ]
    },
    {
     "name": "stdout",
     "output_type": "stream",
     "text": [
      "Testing at epoch 1\n",
      "Test unseen_subject completed. Accuracy: 0.0915, Top 1: 0.1440, Top 5: 0.3480, Top 10: 0.4800, Perplexity: 0.0000\n",
      "Test unseen_task completed. Accuracy: 0.0828, Top 1: 0.1177, Top 5: 0.3446, Top 10: 0.4980, Perplexity: 0.0000\n",
      "Test unseen_both completed. Accuracy: 0.0712, Top 1: 0.1212, Top 5: 0.3375, Top 10: 0.4462, Perplexity: 0.0000\n",
      "Epoch 1 completed in 6.06m. 0.04m per recording.\n"
     ]
    },
    {
     "name": "stderr",
     "output_type": "stream",
     "text": [
      "Training Epoch 2: 100%|██████████| 135/135 [05:40<00:00,  2.52s/it]\n"
     ]
    },
    {
     "name": "stdout",
     "output_type": "stream",
     "text": [
      "Testing at epoch 2\n",
      "Test unseen_subject completed. Accuracy: 0.0920, Top 1: 0.1470, Top 5: 0.3815, Top 10: 0.5280, Perplexity: 0.0000\n",
      "Test unseen_task completed. Accuracy: 0.1054, Top 1: 0.1543, Top 5: 0.4321, Top 10: 0.6005, Perplexity: 0.0000\n",
      "Test unseen_both completed. Accuracy: 0.0813, Top 1: 0.1300, Top 5: 0.3913, Top 10: 0.5463, Perplexity: 0.0000\n",
      "Epoch 2 completed in 6.21m. 0.05m per recording.\n"
     ]
    },
    {
     "name": "stderr",
     "output_type": "stream",
     "text": [
      "Training Epoch 3: 100%|██████████| 135/135 [05:40<00:00,  2.52s/it]\n"
     ]
    },
    {
     "name": "stdout",
     "output_type": "stream",
     "text": [
      "Testing at epoch 3\n",
      "Test unseen_subject completed. Accuracy: 0.1105, Top 1: 0.1715, Top 5: 0.4145, Top 10: 0.5515, Perplexity: 0.0000\n",
      "Test unseen_task completed. Accuracy: 0.1258, Top 1: 0.1768, Top 5: 0.4574, Top 10: 0.6133, Perplexity: 0.0000\n",
      "Test unseen_both completed. Accuracy: 0.0863, Top 1: 0.1575, Top 5: 0.3825, Top 10: 0.4925, Perplexity: 0.0000\n",
      "Epoch 3 completed in 6.19m. 0.05m per recording.\n"
     ]
    },
    {
     "name": "stderr",
     "output_type": "stream",
     "text": [
      "Training Epoch 4: 100%|██████████| 135/135 [05:29<00:00,  2.44s/it]\n"
     ]
    },
    {
     "name": "stdout",
     "output_type": "stream",
     "text": [
      "Testing at epoch 4\n",
      "Test unseen_subject completed. Accuracy: 0.1275, Top 1: 0.1975, Top 5: 0.4040, Top 10: 0.5120, Perplexity: 0.0000\n",
      "Test unseen_task completed. Accuracy: 0.1662, Top 1: 0.2320, Top 5: 0.5254, Top 10: 0.6664, Perplexity: 0.0000\n",
      "Test unseen_both completed. Accuracy: 0.1062, Top 1: 0.1638, Top 5: 0.4000, Top 10: 0.5112, Perplexity: 0.0000\n",
      "Epoch 4 completed in 5.99m. 0.04m per recording.\n"
     ]
    },
    {
     "name": "stderr",
     "output_type": "stream",
     "text": [
      "Training Epoch 5: 100%|██████████| 135/135 [05:32<00:00,  2.46s/it]\n"
     ]
    },
    {
     "name": "stdout",
     "output_type": "stream",
     "text": [
      "Testing at epoch 5\n",
      "Test unseen_subject completed. Accuracy: 0.1400, Top 1: 0.2265, Top 5: 0.4420, Top 10: 0.5400, Perplexity: 0.0000\n",
      "Test unseen_task completed. Accuracy: 0.1502, Top 1: 0.2002, Top 5: 0.4611, Top 10: 0.6062, Perplexity: 0.0000\n",
      "Test unseen_both completed. Accuracy: 0.1213, Top 1: 0.1850, Top 5: 0.4200, Top 10: 0.5413, Perplexity: 0.0000\n",
      "Epoch 5 completed in 6.02m. 0.04m per recording.\n"
     ]
    },
    {
     "name": "stderr",
     "output_type": "stream",
     "text": [
      "Training Epoch 6: 100%|██████████| 135/135 [05:31<00:00,  2.45s/it]\n"
     ]
    },
    {
     "name": "stdout",
     "output_type": "stream",
     "text": [
      "Testing at epoch 6\n",
      "Test unseen_subject completed. Accuracy: 0.1480, Top 1: 0.2330, Top 5: 0.4845, Top 10: 0.5940, Perplexity: 0.0000\n",
      "Test unseen_task completed. Accuracy: 0.1813, Top 1: 0.2473, Top 5: 0.5695, Top 10: 0.7017, Perplexity: 0.0000\n",
      "Test unseen_both completed. Accuracy: 0.1487, Top 1: 0.2350, Top 5: 0.4812, Top 10: 0.6075, Perplexity: 0.0000\n",
      "Epoch 6 completed in 5.98m. 0.04m per recording.\n"
     ]
    },
    {
     "name": "stderr",
     "output_type": "stream",
     "text": [
      "Training Epoch 7: 100%|██████████| 135/135 [05:30<00:00,  2.45s/it]\n"
     ]
    },
    {
     "name": "stdout",
     "output_type": "stream",
     "text": [
      "Testing at epoch 7\n",
      "Test unseen_subject completed. Accuracy: 0.1680, Top 1: 0.2490, Top 5: 0.4935, Top 10: 0.6010, Perplexity: 0.0000\n",
      "Test unseen_task completed. Accuracy: 0.2129, Top 1: 0.2878, Top 5: 0.5995, Top 10: 0.7309, Perplexity: 0.0000\n",
      "Test unseen_both completed. Accuracy: 0.1800, Top 1: 0.2650, Top 5: 0.5237, Top 10: 0.6238, Perplexity: 0.0000\n",
      "Epoch 7 completed in 6.02m. 0.04m per recording.\n"
     ]
    },
    {
     "name": "stderr",
     "output_type": "stream",
     "text": [
      "Training Epoch 8: 100%|██████████| 135/135 [05:30<00:00,  2.45s/it]\n"
     ]
    },
    {
     "name": "stdout",
     "output_type": "stream",
     "text": [
      "Testing at epoch 8\n",
      "Test unseen_subject completed. Accuracy: 0.1240, Top 1: 0.1900, Top 5: 0.4390, Top 10: 0.5710, Perplexity: 0.0000\n",
      "Test unseen_task completed. Accuracy: 0.1722, Top 1: 0.2370, Top 5: 0.5442, Top 10: 0.6887, Perplexity: 0.0000\n",
      "Test unseen_both completed. Accuracy: 0.1250, Top 1: 0.2000, Top 5: 0.4150, Top 10: 0.5363, Perplexity: 0.0000\n",
      "Epoch 8 completed in 5.99m. 0.04m per recording.\n"
     ]
    },
    {
     "name": "stderr",
     "output_type": "stream",
     "text": [
      "Training Epoch 9: 100%|██████████| 135/135 [05:31<00:00,  2.46s/it]\n"
     ]
    },
    {
     "name": "stdout",
     "output_type": "stream",
     "text": [
      "Testing at epoch 9\n",
      "Test unseen_subject completed. Accuracy: 0.0740, Top 1: 0.1360, Top 5: 0.3735, Top 10: 0.5130, Perplexity: 0.0000\n",
      "Test unseen_task completed. Accuracy: 0.1381, Top 1: 0.1962, Top 5: 0.5017, Top 10: 0.6582, Perplexity: 0.0000\n",
      "Test unseen_both completed. Accuracy: 0.1063, Top 1: 0.1625, Top 5: 0.3837, Top 10: 0.5275, Perplexity: 0.0000\n",
      "Epoch 9 completed in 5.97m. 0.04m per recording.\n"
     ]
    },
    {
     "name": "stderr",
     "output_type": "stream",
     "text": [
      "Training Epoch 10: 100%|██████████| 135/135 [05:32<00:00,  2.46s/it]\n"
     ]
    },
    {
     "name": "stdout",
     "output_type": "stream",
     "text": [
      "Testing at epoch 10\n",
      "Test unseen_subject completed. Accuracy: 0.1415, Top 1: 0.2170, Top 5: 0.4385, Top 10: 0.5505, Perplexity: 0.0000\n",
      "Test unseen_task completed. Accuracy: 0.1951, Top 1: 0.2645, Top 5: 0.5178, Top 10: 0.6374, Perplexity: 0.0000\n",
      "Test unseen_both completed. Accuracy: 0.1350, Top 1: 0.1987, Top 5: 0.3863, Top 10: 0.4975, Perplexity: 0.0000\n",
      "Epoch 10 completed in 5.98m. 0.04m per recording.\n"
     ]
    },
    {
     "name": "stderr",
     "output_type": "stream",
     "text": [
      "Training Epoch 11: 100%|██████████| 135/135 [05:36<00:00,  2.49s/it]\n"
     ]
    },
    {
     "name": "stdout",
     "output_type": "stream",
     "text": [
      "Testing at epoch 11\n",
      "Test unseen_subject completed. Accuracy: 0.1815, Top 1: 0.2610, Top 5: 0.5100, Top 10: 0.6055, Perplexity: 0.0000\n",
      "Test unseen_task completed. Accuracy: 0.2245, Top 1: 0.3045, Top 5: 0.6096, Top 10: 0.7384, Perplexity: 0.0000\n",
      "Test unseen_both completed. Accuracy: 0.1688, Top 1: 0.2412, Top 5: 0.4600, Top 10: 0.5887, Perplexity: 0.0000\n",
      "Epoch 11 completed in 6.03m. 0.04m per recording.\n"
     ]
    },
    {
     "name": "stderr",
     "output_type": "stream",
     "text": [
      "Training Epoch 12: 100%|██████████| 135/135 [05:34<00:00,  2.48s/it]\n"
     ]
    },
    {
     "name": "stdout",
     "output_type": "stream",
     "text": [
      "Testing at epoch 12\n",
      "Test unseen_subject completed. Accuracy: 0.1280, Top 1: 0.2065, Top 5: 0.4605, Top 10: 0.5800, Perplexity: 0.0000\n",
      "Test unseen_task completed. Accuracy: 0.1778, Top 1: 0.2439, Top 5: 0.5366, Top 10: 0.6793, Perplexity: 0.0000\n",
      "Test unseen_both completed. Accuracy: 0.1613, Top 1: 0.2400, Top 5: 0.4725, Top 10: 0.5913, Perplexity: 0.0000\n",
      "Epoch 12 completed in 5.97m. 0.04m per recording.\n"
     ]
    },
    {
     "name": "stderr",
     "output_type": "stream",
     "text": [
      "Training Epoch 13: 100%|██████████| 135/135 [05:34<00:00,  2.48s/it]\n"
     ]
    },
    {
     "name": "stdout",
     "output_type": "stream",
     "text": [
      "Testing at epoch 13\n",
      "Test unseen_subject completed. Accuracy: 0.1770, Top 1: 0.2685, Top 5: 0.5090, Top 10: 0.6175, Perplexity: 0.0000\n",
      "Test unseen_task completed. Accuracy: 0.2297, Top 1: 0.3029, Top 5: 0.6043, Top 10: 0.7287, Perplexity: 0.0000\n",
      "Test unseen_both completed. Accuracy: 0.1837, Top 1: 0.2650, Top 5: 0.5062, Top 10: 0.6100, Perplexity: 0.0000\n",
      "Epoch 13 completed in 5.96m. 0.04m per recording.\n"
     ]
    },
    {
     "name": "stderr",
     "output_type": "stream",
     "text": [
      "Training Epoch 14: 100%|██████████| 135/135 [05:36<00:00,  2.49s/it]\n"
     ]
    },
    {
     "name": "stdout",
     "output_type": "stream",
     "text": [
      "Testing at epoch 14\n",
      "Test unseen_subject completed. Accuracy: 0.1925, Top 1: 0.2665, Top 5: 0.4870, Top 10: 0.6110, Perplexity: 0.0000\n",
      "Test unseen_task completed. Accuracy: 0.2034, Top 1: 0.2674, Top 5: 0.5384, Top 10: 0.6672, Perplexity: 0.0000\n",
      "Test unseen_both completed. Accuracy: 0.1525, Top 1: 0.2188, Top 5: 0.4387, Top 10: 0.5600, Perplexity: 0.0000\n",
      "Epoch 14 completed in 5.99m. 0.04m per recording.\n"
     ]
    },
    {
     "name": "stderr",
     "output_type": "stream",
     "text": [
      "Training Epoch 15: 100%|██████████| 135/135 [05:37<00:00,  2.50s/it]\n"
     ]
    },
    {
     "name": "stdout",
     "output_type": "stream",
     "text": [
      "Testing at epoch 15\n",
      "Test unseen_subject completed. Accuracy: 0.1725, Top 1: 0.2580, Top 5: 0.5110, Top 10: 0.6230, Perplexity: 0.0000\n",
      "Test unseen_task completed. Accuracy: 0.2467, Top 1: 0.3190, Top 5: 0.5934, Top 10: 0.7194, Perplexity: 0.0000\n",
      "Test unseen_both completed. Accuracy: 0.1813, Top 1: 0.2563, Top 5: 0.4688, Top 10: 0.5925, Perplexity: 0.0000\n",
      "Epoch 15 completed in 6.01m. 0.04m per recording.\n"
     ]
    },
    {
     "name": "stderr",
     "output_type": "stream",
     "text": [
      "Training Epoch 16: 100%|██████████| 135/135 [05:35<00:00,  2.49s/it]\n"
     ]
    },
    {
     "name": "stdout",
     "output_type": "stream",
     "text": [
      "Testing at epoch 16\n",
      "Test unseen_subject completed. Accuracy: 0.2120, Top 1: 0.3030, Top 5: 0.5235, Top 10: 0.6140, Perplexity: 0.0000\n",
      "Test unseen_task completed. Accuracy: 0.2140, Top 1: 0.2881, Top 5: 0.5779, Top 10: 0.7047, Perplexity: 0.0000\n",
      "Test unseen_both completed. Accuracy: 0.1900, Top 1: 0.2588, Top 5: 0.4925, Top 10: 0.5875, Perplexity: 0.0000\n",
      "Epoch 16 completed in 5.97m. 0.04m per recording.\n"
     ]
    },
    {
     "name": "stderr",
     "output_type": "stream",
     "text": [
      "Training Epoch 17: 100%|██████████| 135/135 [05:36<00:00,  2.49s/it]\n"
     ]
    },
    {
     "name": "stdout",
     "output_type": "stream",
     "text": [
      "Testing at epoch 17\n",
      "Test unseen_subject completed. Accuracy: 0.0885, Top 1: 0.1525, Top 5: 0.3740, Top 10: 0.5165, Perplexity: 0.0000\n",
      "Test unseen_task completed. Accuracy: 0.1096, Top 1: 0.1576, Top 5: 0.4156, Top 10: 0.5676, Perplexity: 0.0000\n",
      "Test unseen_both completed. Accuracy: 0.1075, Top 1: 0.1613, Top 5: 0.3912, Top 10: 0.5350, Perplexity: 0.0000\n",
      "Epoch 17 completed in 5.99m. 0.04m per recording.\n"
     ]
    },
    {
     "name": "stderr",
     "output_type": "stream",
     "text": [
      "Training Epoch 18: 100%|██████████| 135/135 [05:41<00:00,  2.53s/it]\n"
     ]
    },
    {
     "name": "stdout",
     "output_type": "stream",
     "text": [
      "Testing at epoch 18\n",
      "Test unseen_subject completed. Accuracy: 0.1480, Top 1: 0.2295, Top 5: 0.4995, Top 10: 0.6140, Perplexity: 0.0000\n",
      "Test unseen_task completed. Accuracy: 0.1893, Top 1: 0.2564, Top 5: 0.5533, Top 10: 0.6903, Perplexity: 0.0000\n",
      "Test unseen_both completed. Accuracy: 0.1800, Top 1: 0.2662, Top 5: 0.4813, Top 10: 0.5950, Perplexity: 0.0000\n",
      "Epoch 18 completed in 6.13m. 0.05m per recording.\n"
     ]
    },
    {
     "name": "stderr",
     "output_type": "stream",
     "text": [
      "Training Epoch 19: 100%|██████████| 135/135 [05:51<00:00,  2.60s/it]\n"
     ]
    },
    {
     "name": "stdout",
     "output_type": "stream",
     "text": [
      "Testing at epoch 19\n",
      "Test unseen_subject completed. Accuracy: 0.1590, Top 1: 0.2440, Top 5: 0.4950, Top 10: 0.6015, Perplexity: 0.0000\n",
      "Test unseen_task completed. Accuracy: 0.2026, Top 1: 0.2692, Top 5: 0.5681, Top 10: 0.6949, Perplexity: 0.0000\n",
      "Test unseen_both completed. Accuracy: 0.1688, Top 1: 0.2437, Top 5: 0.4350, Top 10: 0.5413, Perplexity: 0.0000\n",
      "Epoch 19 completed in 6.27m. 0.05m per recording.\n"
     ]
    },
    {
     "name": "stderr",
     "output_type": "stream",
     "text": [
      "Training Epoch 20: 100%|██████████| 135/135 [05:53<00:00,  2.62s/it]\n"
     ]
    },
    {
     "name": "stdout",
     "output_type": "stream",
     "text": [
      "Testing at epoch 20\n",
      "Test unseen_subject completed. Accuracy: 0.1330, Top 1: 0.2140, Top 5: 0.4755, Top 10: 0.5935, Perplexity: 0.0000\n",
      "Test unseen_task completed. Accuracy: 0.1709, Top 1: 0.2350, Top 5: 0.5317, Top 10: 0.6742, Perplexity: 0.0000\n",
      "Test unseen_both completed. Accuracy: 0.1375, Top 1: 0.2175, Top 5: 0.4550, Top 10: 0.5587, Perplexity: 0.0000\n",
      "Epoch 20 completed in 6.34m. 0.05m per recording.\n"
     ]
    },
    {
     "name": "stderr",
     "output_type": "stream",
     "text": [
      "Training Epoch 21: 100%|██████████| 135/135 [05:54<00:00,  2.62s/it]\n"
     ]
    },
    {
     "name": "stdout",
     "output_type": "stream",
     "text": [
      "Testing at epoch 21\n",
      "Test unseen_subject completed. Accuracy: 0.1215, Top 1: 0.2080, Top 5: 0.4650, Top 10: 0.5885, Perplexity: 0.0000\n",
      "Test unseen_task completed. Accuracy: 0.1726, Top 1: 0.2382, Top 5: 0.5283, Top 10: 0.6629, Perplexity: 0.0000\n",
      "Test unseen_both completed. Accuracy: 0.1175, Top 1: 0.1875, Top 5: 0.4113, Top 10: 0.5337, Perplexity: 0.0000\n",
      "Epoch 21 completed in 6.33m. 0.05m per recording.\n"
     ]
    },
    {
     "name": "stderr",
     "output_type": "stream",
     "text": [
      "Training Epoch 22: 100%|██████████| 135/135 [05:53<00:00,  2.62s/it]\n"
     ]
    },
    {
     "name": "stdout",
     "output_type": "stream",
     "text": [
      "Testing at epoch 22\n",
      "Test unseen_subject completed. Accuracy: 0.1240, Top 1: 0.1975, Top 5: 0.4380, Top 10: 0.5570, Perplexity: 0.0000\n",
      "Test unseen_task completed. Accuracy: 0.1711, Top 1: 0.2335, Top 5: 0.5048, Top 10: 0.6543, Perplexity: 0.0000\n",
      "Test unseen_both completed. Accuracy: 0.1162, Top 1: 0.1737, Top 5: 0.3725, Top 10: 0.5088, Perplexity: 0.0000\n",
      "Epoch 22 completed in 6.30m. 0.05m per recording.\n"
     ]
    },
    {
     "name": "stderr",
     "output_type": "stream",
     "text": [
      "Training Epoch 23: 100%|██████████| 135/135 [05:51<00:00,  2.60s/it]\n"
     ]
    },
    {
     "name": "stdout",
     "output_type": "stream",
     "text": [
      "Testing at epoch 23\n",
      "Test unseen_subject completed. Accuracy: 0.1265, Top 1: 0.1955, Top 5: 0.4485, Top 10: 0.5675, Perplexity: 0.0000\n",
      "Test unseen_task completed. Accuracy: 0.1738, Top 1: 0.2403, Top 5: 0.5219, Top 10: 0.6579, Perplexity: 0.0000\n",
      "Test unseen_both completed. Accuracy: 0.1113, Top 1: 0.1787, Top 5: 0.4025, Top 10: 0.5025, Perplexity: 0.0000\n",
      "Epoch 23 completed in 6.26m. 0.05m per recording.\n"
     ]
    },
    {
     "name": "stderr",
     "output_type": "stream",
     "text": [
      "Training Epoch 24: 100%|██████████| 135/135 [05:08<00:00,  2.28s/it]\n"
     ]
    },
    {
     "name": "stdout",
     "output_type": "stream",
     "text": [
      "Testing at epoch 24\n",
      "Test unseen_subject completed. Accuracy: 0.1515, Top 1: 0.2230, Top 5: 0.4670, Top 10: 0.5645, Perplexity: 0.0000\n",
      "Test unseen_task completed. Accuracy: 0.1507, Top 1: 0.2059, Top 5: 0.4897, Top 10: 0.6265, Perplexity: 0.0000\n",
      "Test unseen_both completed. Accuracy: 0.1313, Top 1: 0.1988, Top 5: 0.3663, Top 10: 0.4800, Perplexity: 0.0000\n",
      "Epoch 24 completed in 5.61m. 0.04m per recording.\n",
      "Early stopping at epoch 24. Highest top 10 accuracy at epoch 13.\n",
      "Training completed.\n",
      "unseen_subject: Acc: 0.1770, Top 1: 0.2685, Top 5: 0.5090, Top 10: 0.6175\n",
      "unseen_task: Acc: 0.2297, Top 1: 0.3029, Top 5: 0.6043, Top 10: 0.7287\n",
      "unseen_both: Acc: 0.1837, Top 1: 0.2650, Top 5: 0.5062, Top 10: 0.6100\n"
     ]
    }
   ],
   "source": [
    "try:\n",
    "    session.train(\n",
    "        device=\"cuda\",\n",
    "        buffer_size=30,\n",
    "        num_workers=(multiprocessing.cpu_count() - 2) // 2,\n",
    "        max_cache_size=400,\n",
    "        current_epoch=0,\n",
    "    )\n",
    "except KeyboardInterrupt as e:\n",
    "    print(\"Exited\")"
   ]
  },
  {
   "cell_type": "code",
   "execution_count": 6,
   "metadata": {},
   "outputs": [
    {
     "name": "stdout",
     "output_type": "stream",
     "text": [
      "Loading Gwilliams2023 with batch type audio\n",
      "Cleared cache for study gwilliams2023\n",
      "Data partitioned on studies ['gwilliams2023'].\n",
      "Train: 135, Unseen Task: 12, Unseen Subject: 45, Unseen Both: 4.\n",
      "\n",
      "GPU is not NVIDIA V100, A100, or H100. Speedup numbers may be lower than expected.\n",
      "SimpleConv initialized with 8448160 parameters, cond: ['study', 'subject']\n",
      "Merger False, merger channels 0\n",
      "ConvBlocks: 6, hidden_dim: 384, params 7973376\n"
     ]
    },
    {
     "name": "stderr",
     "output_type": "stream",
     "text": [
      "Training Epoch 1: 100%|██████████| 135/135 [45:31<00:00, 20.23s/it] \n"
     ]
    },
    {
     "name": "stdout",
     "output_type": "stream",
     "text": [
      "Testing at epoch 1\n",
      "Test unseen_subject completed. Accuracy: 0.0800, Top 1: 0.1395, Top 5: 0.3615, Top 10: 0.4990, Perplexity: 0.0000\n",
      "Test unseen_task completed. Accuracy: 0.0745, Top 1: 0.1090, Top 5: 0.3526, Top 10: 0.5194, Perplexity: 0.0000\n",
      "Test unseen_both completed. Accuracy: 0.0638, Top 1: 0.1225, Top 5: 0.3312, Top 10: 0.4512, Perplexity: 0.0000\n",
      "Epoch 1 completed in 49.94m. 0.37m per recording.\n"
     ]
    },
    {
     "name": "stderr",
     "output_type": "stream",
     "text": [
      "Training Epoch 2: 100%|██████████| 135/135 [05:42<00:00,  2.54s/it]\n"
     ]
    },
    {
     "name": "stdout",
     "output_type": "stream",
     "text": [
      "Testing at epoch 2\n",
      "Test unseen_subject completed. Accuracy: 0.1020, Top 1: 0.1650, Top 5: 0.4000, Top 10: 0.5405, Perplexity: 0.0000\n",
      "Test unseen_task completed. Accuracy: 0.1264, Top 1: 0.1812, Top 5: 0.4589, Top 10: 0.6183, Perplexity: 0.0000\n",
      "Test unseen_both completed. Accuracy: 0.1113, Top 1: 0.1600, Top 5: 0.3912, Top 10: 0.5437, Perplexity: 0.0000\n",
      "Epoch 2 completed in 6.24m. 0.05m per recording.\n"
     ]
    },
    {
     "name": "stderr",
     "output_type": "stream",
     "text": [
      "Training Epoch 3: 100%|██████████| 135/135 [05:42<00:00,  2.53s/it]\n"
     ]
    },
    {
     "name": "stdout",
     "output_type": "stream",
     "text": [
      "Testing at epoch 3\n"
     ]
    },
    {
     "name": "stderr",
     "output_type": "stream",
     "text": [
      "Training Epoch 4: 100%|██████████| 135/135 [05:38<00:00,  2.51s/it]\n"
     ]
    },
    {
     "name": "stdout",
     "output_type": "stream",
     "text": [
      "Testing at epoch 4\n",
      "Test unseen_subject completed. Accuracy: 0.1430, Top 1: 0.2175, Top 5: 0.4455, Top 10: 0.5565, Perplexity: 0.0000\n",
      "Test unseen_task completed. Accuracy: 0.1688, Top 1: 0.2346, Top 5: 0.5353, Top 10: 0.6897, Perplexity: 0.0000\n",
      "Test unseen_both completed. Accuracy: 0.1300, Top 1: 0.2100, Top 5: 0.4588, Top 10: 0.5675, Perplexity: 0.0000\n",
      "Epoch 4 completed in 6.15m. 0.05m per recording.\n"
     ]
    },
    {
     "name": "stderr",
     "output_type": "stream",
     "text": [
      "Training Epoch 5: 100%|██████████| 135/135 [05:49<00:00,  2.59s/it]\n"
     ]
    },
    {
     "name": "stdout",
     "output_type": "stream",
     "text": [
      "Testing at epoch 5\n",
      "Test unseen_subject completed. Accuracy: 0.1610, Top 1: 0.2405, Top 5: 0.4705, Top 10: 0.5850, Perplexity: 0.0000\n",
      "Test unseen_task completed. Accuracy: 0.1731, Top 1: 0.2374, Top 5: 0.5135, Top 10: 0.6584, Perplexity: 0.0000\n",
      "Test unseen_both completed. Accuracy: 0.1450, Top 1: 0.2188, Top 5: 0.4375, Top 10: 0.5537, Perplexity: 0.0000\n",
      "Epoch 5 completed in 6.38m. 0.05m per recording.\n"
     ]
    },
    {
     "name": "stderr",
     "output_type": "stream",
     "text": [
      "Training Epoch 6: 100%|██████████| 135/135 [05:40<00:00,  2.52s/it]\n"
     ]
    },
    {
     "name": "stdout",
     "output_type": "stream",
     "text": [
      "Testing at epoch 6\n",
      "Test unseen_subject completed. Accuracy: 0.1420, Top 1: 0.2065, Top 5: 0.4365, Top 10: 0.5430, Perplexity: 0.0000\n",
      "Test unseen_task completed. Accuracy: 0.1837, Top 1: 0.2523, Top 5: 0.5520, Top 10: 0.6873, Perplexity: 0.0000\n",
      "Test unseen_both completed. Accuracy: 0.1387, Top 1: 0.2200, Top 5: 0.4412, Top 10: 0.5663, Perplexity: 0.0000\n",
      "Epoch 6 completed in 6.15m. 0.05m per recording.\n"
     ]
    },
    {
     "name": "stderr",
     "output_type": "stream",
     "text": [
      "Training Epoch 7: 100%|██████████| 135/135 [05:29<00:00,  2.44s/it]\n"
     ]
    },
    {
     "name": "stdout",
     "output_type": "stream",
     "text": [
      "Testing at epoch 7\n",
      "Test unseen_subject completed. Accuracy: 0.0955, Top 1: 0.1715, Top 5: 0.4185, Top 10: 0.5495, Perplexity: 0.0000\n",
      "Test unseen_task completed. Accuracy: 0.1428, Top 1: 0.2085, Top 5: 0.5260, Top 10: 0.6756, Perplexity: 0.0000\n",
      "Test unseen_both completed. Accuracy: 0.1288, Top 1: 0.2188, Top 5: 0.4600, Top 10: 0.5800, Perplexity: 0.0000\n",
      "Epoch 7 completed in 6.01m. 0.04m per recording.\n"
     ]
    },
    {
     "name": "stderr",
     "output_type": "stream",
     "text": [
      "Training Epoch 8: 100%|██████████| 135/135 [05:31<00:00,  2.46s/it]\n"
     ]
    },
    {
     "name": "stdout",
     "output_type": "stream",
     "text": [
      "Testing at epoch 8\n",
      "Test unseen_subject completed. Accuracy: 0.1765, Top 1: 0.2615, Top 5: 0.4755, Top 10: 0.5775, Perplexity: 0.0000\n",
      "Test unseen_task completed. Accuracy: 0.1815, Top 1: 0.2434, Top 5: 0.5210, Top 10: 0.6573, Perplexity: 0.0000\n",
      "Test unseen_both completed. Accuracy: 0.1588, Top 1: 0.2238, Top 5: 0.4050, Top 10: 0.5487, Perplexity: 0.0000\n",
      "Epoch 8 completed in 6.03m. 0.04m per recording.\n"
     ]
    },
    {
     "name": "stderr",
     "output_type": "stream",
     "text": [
      "Training Epoch 9: 100%|██████████| 135/135 [05:32<00:00,  2.46s/it]\n"
     ]
    },
    {
     "name": "stdout",
     "output_type": "stream",
     "text": [
      "Testing at epoch 9\n",
      "Test unseen_subject completed. Accuracy: 0.1265, Top 1: 0.2040, Top 5: 0.4700, Top 10: 0.5910, Perplexity: 0.0000\n",
      "Test unseen_task completed. Accuracy: 0.2000, Top 1: 0.2750, Top 5: 0.5864, Top 10: 0.7197, Perplexity: 0.0000\n",
      "Test unseen_both completed. Accuracy: 0.1625, Top 1: 0.2350, Top 5: 0.4838, Top 10: 0.6000, Perplexity: 0.0000\n",
      "Epoch 9 completed in 6.00m. 0.04m per recording.\n"
     ]
    },
    {
     "name": "stderr",
     "output_type": "stream",
     "text": [
      "Training Epoch 10: 100%|██████████| 135/135 [05:35<00:00,  2.49s/it]\n"
     ]
    },
    {
     "name": "stdout",
     "output_type": "stream",
     "text": [
      "Testing at epoch 10\n",
      "Test unseen_subject completed. Accuracy: 0.1660, Top 1: 0.2460, Top 5: 0.5145, Top 10: 0.6430, Perplexity: 0.0000\n",
      "Test unseen_task completed. Accuracy: 0.2213, Top 1: 0.2974, Top 5: 0.6072, Top 10: 0.7464, Perplexity: 0.0000\n",
      "Test unseen_both completed. Accuracy: 0.1750, Top 1: 0.2512, Top 5: 0.5150, Top 10: 0.6312, Perplexity: 0.0000\n",
      "Epoch 10 completed in 6.01m. 0.04m per recording.\n"
     ]
    },
    {
     "name": "stderr",
     "output_type": "stream",
     "text": [
      "Training Epoch 11: 100%|██████████| 135/135 [05:35<00:00,  2.48s/it]\n"
     ]
    },
    {
     "name": "stdout",
     "output_type": "stream",
     "text": [
      "Testing at epoch 11\n",
      "Test unseen_subject completed. Accuracy: 0.1715, Top 1: 0.2545, Top 5: 0.4865, Top 10: 0.5870, Perplexity: 0.0000\n",
      "Test unseen_task completed. Accuracy: 0.2354, Top 1: 0.3188, Top 5: 0.6238, Top 10: 0.7466, Perplexity: 0.0000\n",
      "Test unseen_both completed. Accuracy: 0.1762, Top 1: 0.2512, Top 5: 0.4825, Top 10: 0.6000, Perplexity: 0.0000\n",
      "Epoch 11 completed in 5.97m. 0.04m per recording.\n"
     ]
    },
    {
     "name": "stderr",
     "output_type": "stream",
     "text": [
      "Training Epoch 12: 100%|██████████| 135/135 [05:40<00:00,  2.52s/it]\n"
     ]
    },
    {
     "name": "stdout",
     "output_type": "stream",
     "text": [
      "Testing at epoch 12\n",
      "Test unseen_subject completed. Accuracy: 0.1555, Top 1: 0.2335, Top 5: 0.4995, Top 10: 0.6220, Perplexity: 0.0000\n",
      "Test unseen_task completed. Accuracy: 0.1923, Top 1: 0.2605, Top 5: 0.5533, Top 10: 0.6958, Perplexity: 0.0000\n",
      "Test unseen_both completed. Accuracy: 0.1588, Top 1: 0.2162, Top 5: 0.4437, Top 10: 0.5688, Perplexity: 0.0000\n",
      "Epoch 12 completed in 6.04m. 0.04m per recording.\n"
     ]
    },
    {
     "name": "stderr",
     "output_type": "stream",
     "text": [
      "Training Epoch 13: 100%|██████████| 135/135 [05:34<00:00,  2.48s/it]\n"
     ]
    },
    {
     "name": "stdout",
     "output_type": "stream",
     "text": [
      "Testing at epoch 13\n",
      "Test unseen_subject completed. Accuracy: 0.1710, Top 1: 0.2500, Top 5: 0.4820, Top 10: 0.5905, Perplexity: 0.0000\n",
      "Test unseen_task completed. Accuracy: 0.2070, Top 1: 0.2840, Top 5: 0.5714, Top 10: 0.6886, Perplexity: 0.0000\n",
      "Test unseen_both completed. Accuracy: 0.1600, Top 1: 0.2125, Top 5: 0.4325, Top 10: 0.5675, Perplexity: 0.0000\n",
      "Epoch 13 completed in 5.95m. 0.04m per recording.\n"
     ]
    },
    {
     "name": "stderr",
     "output_type": "stream",
     "text": [
      "Training Epoch 14: 100%|██████████| 135/135 [05:43<00:00,  2.54s/it]\n"
     ]
    },
    {
     "name": "stdout",
     "output_type": "stream",
     "text": [
      "Testing at epoch 14\n",
      "Test unseen_subject completed. Accuracy: 0.2120, Top 1: 0.2900, Top 5: 0.5075, Top 10: 0.6115, Perplexity: 0.0000\n",
      "Test unseen_task completed. Accuracy: 0.2068, Top 1: 0.2779, Top 5: 0.5678, Top 10: 0.6961, Perplexity: 0.0000\n",
      "Test unseen_both completed. Accuracy: 0.1763, Top 1: 0.2363, Top 5: 0.4613, Top 10: 0.5687, Perplexity: 0.0000\n",
      "Epoch 14 completed in 6.12m. 0.05m per recording.\n"
     ]
    },
    {
     "name": "stderr",
     "output_type": "stream",
     "text": [
      "Training Epoch 15: 100%|██████████| 135/135 [05:54<00:00,  2.63s/it]\n"
     ]
    },
    {
     "name": "stdout",
     "output_type": "stream",
     "text": [
      "Testing at epoch 15\n",
      "Test unseen_subject completed. Accuracy: 0.1905, Top 1: 0.2825, Top 5: 0.5035, Top 10: 0.6010, Perplexity: 0.0000\n",
      "Test unseen_task completed. Accuracy: 0.1806, Top 1: 0.2403, Top 5: 0.5176, Top 10: 0.6563, Perplexity: 0.0000\n",
      "Test unseen_both completed. Accuracy: 0.1437, Top 1: 0.2175, Top 5: 0.4525, Top 10: 0.5513, Perplexity: 0.0000\n",
      "Epoch 15 completed in 6.33m. 0.05m per recording.\n"
     ]
    },
    {
     "name": "stderr",
     "output_type": "stream",
     "text": [
      "Training Epoch 16: 100%|██████████| 135/135 [06:00<00:00,  2.67s/it]\n"
     ]
    },
    {
     "name": "stdout",
     "output_type": "stream",
     "text": [
      "Testing at epoch 16\n",
      "Test unseen_subject completed. Accuracy: 0.1660, Top 1: 0.2395, Top 5: 0.4575, Top 10: 0.5780, Perplexity: 0.0000\n",
      "Test unseen_task completed. Accuracy: 0.2266, Top 1: 0.2903, Top 5: 0.5585, Top 10: 0.6828, Perplexity: 0.0000\n",
      "Test unseen_both completed. Accuracy: 0.1500, Top 1: 0.1937, Top 5: 0.4125, Top 10: 0.5250, Perplexity: 0.0000\n",
      "Epoch 16 completed in 6.45m. 0.05m per recording.\n"
     ]
    },
    {
     "name": "stderr",
     "output_type": "stream",
     "text": [
      "Training Epoch 17: 100%|██████████| 135/135 [05:57<00:00,  2.64s/it]\n"
     ]
    },
    {
     "name": "stdout",
     "output_type": "stream",
     "text": [
      "Testing at epoch 17\n",
      "Test unseen_subject completed. Accuracy: 0.1685, Top 1: 0.2425, Top 5: 0.4525, Top 10: 0.5635, Perplexity: 0.0000\n",
      "Test unseen_task completed. Accuracy: 0.2097, Top 1: 0.2816, Top 5: 0.5525, Top 10: 0.6716, Perplexity: 0.0000\n",
      "Test unseen_both completed. Accuracy: 0.1588, Top 1: 0.2238, Top 5: 0.4337, Top 10: 0.5500, Perplexity: 0.0000\n",
      "Epoch 17 completed in 6.42m. 0.05m per recording.\n"
     ]
    },
    {
     "name": "stderr",
     "output_type": "stream",
     "text": [
      "Training Epoch 18: 100%|██████████| 135/135 [06:04<00:00,  2.70s/it]\n"
     ]
    },
    {
     "name": "stdout",
     "output_type": "stream",
     "text": [
      "Testing at epoch 18\n",
      "Test unseen_subject completed. Accuracy: 0.1730, Top 1: 0.2560, Top 5: 0.4960, Top 10: 0.6010, Perplexity: 0.0000\n",
      "Test unseen_task completed. Accuracy: 0.2005, Top 1: 0.2658, Top 5: 0.5663, Top 10: 0.6960, Perplexity: 0.0000\n",
      "Test unseen_both completed. Accuracy: 0.1862, Top 1: 0.2675, Top 5: 0.4637, Top 10: 0.5850, Perplexity: 0.0000\n",
      "Epoch 18 completed in 6.54m. 0.05m per recording.\n"
     ]
    },
    {
     "name": "stderr",
     "output_type": "stream",
     "text": [
      "Training Epoch 19: 100%|██████████| 135/135 [05:55<00:00,  2.63s/it]\n"
     ]
    },
    {
     "name": "stdout",
     "output_type": "stream",
     "text": [
      "Testing at epoch 19\n",
      "Test unseen_subject completed. Accuracy: 0.1835, Top 1: 0.2530, Top 5: 0.4900, Top 10: 0.6020, Perplexity: 0.0000\n",
      "Test unseen_task completed. Accuracy: 0.1831, Top 1: 0.2531, Top 5: 0.5511, Top 10: 0.6941, Perplexity: 0.0000\n",
      "Test unseen_both completed. Accuracy: 0.1638, Top 1: 0.2225, Top 5: 0.4500, Top 10: 0.5662, Perplexity: 0.0000\n",
      "Epoch 19 completed in 6.35m. 0.05m per recording.\n"
     ]
    },
    {
     "name": "stderr",
     "output_type": "stream",
     "text": [
      "Training Epoch 20: 100%|██████████| 135/135 [06:01<00:00,  2.68s/it]\n"
     ]
    },
    {
     "name": "stdout",
     "output_type": "stream",
     "text": [
      "Testing at epoch 20\n",
      "Test unseen_subject completed. Accuracy: 0.1660, Top 1: 0.2485, Top 5: 0.4835, Top 10: 0.5885, Perplexity: 0.0000\n",
      "Test unseen_task completed. Accuracy: 0.1811, Top 1: 0.2464, Top 5: 0.5457, Top 10: 0.6890, Perplexity: 0.0000\n",
      "Test unseen_both completed. Accuracy: 0.1412, Top 1: 0.2225, Top 5: 0.4600, Top 10: 0.5750, Perplexity: 0.0000\n",
      "Epoch 20 completed in 6.45m. 0.05m per recording.\n"
     ]
    },
    {
     "name": "stderr",
     "output_type": "stream",
     "text": [
      "Training Epoch 21: 100%|██████████| 135/135 [05:51<00:00,  2.61s/it]\n"
     ]
    },
    {
     "name": "stdout",
     "output_type": "stream",
     "text": [
      "Testing at epoch 21\n",
      "Test unseen_subject completed. Accuracy: 0.1715, Top 1: 0.2580, Top 5: 0.4750, Top 10: 0.5805, Perplexity: 0.0000\n",
      "Test unseen_task completed. Accuracy: 0.1829, Top 1: 0.2480, Top 5: 0.5446, Top 10: 0.6821, Perplexity: 0.0000\n",
      "Test unseen_both completed. Accuracy: 0.1387, Top 1: 0.2087, Top 5: 0.4425, Top 10: 0.5600, Perplexity: 0.0000\n",
      "Epoch 21 completed in 6.28m. 0.05m per recording.\n",
      "Early stopping at epoch 21. Highest top 10 accuracy at epoch 10.\n",
      "Training completed.\n",
      "unseen_subject: Acc: 0.1660, Top 1: 0.2460, Top 5: 0.5145, Top 10: 0.6430\n",
      "unseen_task: Acc: 0.2213, Top 1: 0.2974, Top 5: 0.6072, Top 10: 0.7464\n",
      "unseen_both: Acc: 0.1750, Top 1: 0.2512, Top 5: 0.5150, Top 10: 0.6312\n"
     ]
    }
   ],
   "source": [
    "del session.logger\n",
    "del session\n",
    "\n",
    "from pickle import NONE\n",
    "from train.training_session_v0 import TrainingSessionV0\n",
    "from config import TrainingConfigV0\n",
    "import multiprocessing\n",
    "\n",
    "data_partition = {\n",
    "    \"gwilliams2023\": {\n",
    "        \"testing_subjects\": [19, 20, 21],\n",
    "        \"testing_tasks\": [0],\n",
    "    },\n",
    "    # \"armeini2022\": {\n",
    "    #     \"testing_subjects\": [],\n",
    "    #     \"testing_tasks\": [8, 9],\n",
    "    # },\n",
    "}\n",
    "\n",
    "from config import SimpleConvConfig\n",
    "from models.simpleconv import SimpleConv\n",
    "import torch\n",
    "\n",
    "model_config = SimpleConvConfig(\n",
    "    # Str to list of possible conditions\n",
    "    mel_normalization=False,\n",
    "    conditions={\n",
    "        \"study\": [],\n",
    "        \"subject\": [],\n",
    "    },\n",
    "    # Channels\n",
    "    in_channels=208,\n",
    "    out_channels=128,\n",
    "    hidden_dim=384,\n",
    "    dropout=0.2,\n",
    "    initial_batch_norm=True,\n",
    "    # Sensor layout settings\n",
    "    layout_dim=2,\n",
    "    layout_proj=True,\n",
    "    layout_scaling=\"minmax\",\n",
    "    # Merger with spatial attn\n",
    "    merger=False,\n",
    "    merger_emb_type=None,\n",
    "    merger_emb_dim=0,\n",
    "    merger_channels=0,\n",
    "    merger_dropout=False,\n",
    "    merger_conditional=None,\n",
    "    # Inital\n",
    "    initial_linear=384,\n",
    "    initial_depth=1,\n",
    "    # Conditional layers\n",
    "    conditional_layers=False,\n",
    "    conditional_layers_dim=None,  # input or hidden_dim\n",
    "    # Conv layer overall structure\n",
    "    depth=6,\n",
    "    kernel_size=3,\n",
    "    growth=1.0,\n",
    "    dilation_growth=2,\n",
    "    dilation_period=5,\n",
    "    glu=1,\n",
    "    conv_dropout=0.2,\n",
    "    dropout_input=0.2,\n",
    "    batch_norm=True,\n",
    "    # Quantizer\n",
    "    quantizer=False,\n",
    "    num_codebooks=0,\n",
    "    codebook_size=0,\n",
    "    quantizer_commitment=0,\n",
    "    quantizer_temp_init=0,\n",
    "    quantizer_temp_min=0,\n",
    "    quantizer_temp_decay=0,\n",
    "    # Transformers Encoders\n",
    "    transformer_input=None,\n",
    "    transformer_encoder_emb=None,\n",
    "    transformer_encoder_layers=0,\n",
    "    transformer_encoder_heads=0,\n",
    "    # Transformer Decoders\n",
    "    transformer_decoder_emb=None,\n",
    "    transformer_decoder_layers=0,\n",
    "    transformer_decoder_heads=0,\n",
    "    transformer_decoder_dim=0,\n",
    ")\n",
    "\n",
    "config = TrainingConfigV0(\n",
    "    brain_encoder_config=model_config,\n",
    "    data_partition=data_partition,\n",
    "    # Pre-processing parameters\n",
    "    # Brain\n",
    "    new_freq=100,\n",
    "    frequency_bands={\"all\": (0.5, 80)},\n",
    "    max_random_shift=1.0,\n",
    "    window_size=4,\n",
    "    window_stride=1,\n",
    "    brain_clipping=10,\n",
    "    baseline_window=0.5,\n",
    "    notch_filter=True,\n",
    "    scaling=\"standard\",\n",
    "    delay=0.15,\n",
    "    # Hyperparameters\n",
    "    learning_rate=3e-4,\n",
    "    weight_decay=1e-4,\n",
    "    epochs=50,\n",
    "    batch_size=256,\n",
    "    use_clip_loss=True,\n",
    "    use_mse_loss=True,\n",
    "    alpha=0.6,\n",
    "    random_test_size=10,\n",
    "    seed=42,\n",
    ")\n",
    "\n",
    "session = TrainingSessionV0(\n",
    "    config=config,\n",
    "    studies={study: \"audio\" for study in data_partition.keys()},\n",
    "    data_path=\"data\",\n",
    "    save_path=\"saves/phase1/ablation/clipping/10std\",\n",
    "    clear_cache=True,\n",
    "    cache_name=\"cache\",\n",
    ")\n",
    "\n",
    "try:\n",
    "    session.train(\n",
    "        device=\"cuda\",\n",
    "        buffer_size=30,\n",
    "        num_workers=(multiprocessing.cpu_count() - 2) // 2,\n",
    "        max_cache_size=400,\n",
    "        current_epoch=0,\n",
    "    )\n",
    "except KeyboardInterrupt as e:\n",
    "    print(\"Exited\")"
   ]
  }
 ],
 "metadata": {
  "kernelspec": {
   "display_name": "brain",
   "language": "python",
   "name": "brain"
  },
  "language_info": {
   "codemirror_mode": {
    "name": "ipython",
    "version": 3
   },
   "file_extension": ".py",
   "mimetype": "text/x-python",
   "name": "python",
   "nbconvert_exporter": "python",
   "pygments_lexer": "ipython3",
   "version": "3.11.7"
  }
 },
 "nbformat": 4,
 "nbformat_minor": 4
}
