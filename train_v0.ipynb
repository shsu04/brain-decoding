{
 "cells": [
  {
   "cell_type": "code",
   "execution_count": 1,
   "metadata": {},
   "outputs": [
    {
     "name": "stdout",
     "output_type": "stream",
     "text": [
      "Loading Gwilliams2023 with batch type audio\n",
      "Data partitioned on studies ['gwilliams2023'].\n",
      "Train: 135, Unseen Task: 12, Unseen Subject: 45, Unseen Both: 4.\n",
      "\n",
      "SimpleConv initialized with 9332896 parameters, cond: ['study', 'subject']\n",
      "Merger False, merger channels 0\n",
      "ConvBlocks: 6, hidden_dim: 384, params 8858112\n"
     ]
    },
    {
     "name": "stderr",
     "output_type": "stream",
     "text": [
      "2025-01-26 03:01:11,122\tINFO worker.py:1841 -- Started a local Ray instance.\n",
      "Training Epoch 1: 100%|██████████| 135/135 [11:38<00:00,  5.17s/it]\n"
     ]
    },
    {
     "name": "stdout",
     "output_type": "stream",
     "text": [
      "Epoch 1 completed. Loss: 9.9845, Clip Loss: 9.9845, MSE Loss: 2250655648.1264\n",
      "Accuracy: 0.0002, Top 5: 0.0008, Top 10: 0.0016\n",
      "Test unseen_subject completed. Accuracy: 0.0001, Top 5: 0.0005, Top 10: 0.0009\n",
      "Test unseen_task completed. Accuracy: 0.0000, Top 5: 0.0002, Top 10: 0.0005\n",
      "Test unseen_both completed. Accuracy: 0.0001, Top 5: 0.0004, Top 10: 0.0009\n",
      "Testing completed in 1.01m.\n",
      "Epoch 1 completed in 12.68m. 0.09m per recording.\n"
     ]
    },
    {
     "name": "stderr",
     "output_type": "stream",
     "text": [
      "Training Epoch 2: 100%|██████████| 135/135 [11:36<00:00,  5.16s/it]\n"
     ]
    },
    {
     "name": "stdout",
     "output_type": "stream",
     "text": [
      "Epoch 2 completed. Loss: 9.8976, Clip Loss: 9.8976, MSE Loss: 378105044897.2136\n",
      "Accuracy: 0.0003, Top 5: 0.0012, Top 10: 0.0024\n",
      "Test unseen_subject completed. Accuracy: 0.0003, Top 5: 0.0015, Top 10: 0.0029\n",
      "Test unseen_task completed. Accuracy: 0.0004, Top 5: 0.0017, Top 10: 0.0033\n",
      "Test unseen_both completed. Accuracy: 0.0004, Top 5: 0.0016, Top 10: 0.0031\n",
      "Testing completed in 1.00m.\n",
      "Epoch 2 completed in 12.62m. 0.09m per recording.\n"
     ]
    },
    {
     "name": "stderr",
     "output_type": "stream",
     "text": [
      "Training Epoch 3: 100%|██████████| 135/135 [11:38<00:00,  5.18s/it]\n"
     ]
    },
    {
     "name": "stdout",
     "output_type": "stream",
     "text": [
      "Epoch 3 completed. Loss: 9.8159, Clip Loss: 9.8159, MSE Loss: 2046158245629.4941\n",
      "Accuracy: 0.0004, Top 5: 0.0018, Top 10: 0.0034\n",
      "Test unseen_subject completed. Accuracy: 0.0004, Top 5: 0.0018, Top 10: 0.0037\n",
      "Test unseen_task completed. Accuracy: 0.0004, Top 5: 0.0021, Top 10: 0.0040\n",
      "Test unseen_both completed. Accuracy: 0.0007, Top 5: 0.0026, Top 10: 0.0048\n",
      "Testing completed in 0.98m.\n",
      "Epoch 3 completed in 12.63m. 0.09m per recording.\n"
     ]
    },
    {
     "name": "stderr",
     "output_type": "stream",
     "text": [
      "Training Epoch 4: 100%|██████████| 135/135 [11:29<00:00,  5.11s/it]\n"
     ]
    },
    {
     "name": "stdout",
     "output_type": "stream",
     "text": [
      "Epoch 4 completed. Loss: 9.7699, Clip Loss: 9.7699, MSE Loss: 6478974487244.9453\n",
      "Accuracy: 0.0004, Top 5: 0.0021, Top 10: 0.0040\n",
      "Test unseen_subject completed. Accuracy: 0.0005, Top 5: 0.0022, Top 10: 0.0044\n",
      "Test unseen_task completed. Accuracy: 0.0005, Top 5: 0.0025, Top 10: 0.0046\n",
      "Test unseen_both completed. Accuracy: 0.0006, Top 5: 0.0026, Top 10: 0.0047\n",
      "Testing completed in 1.05m.\n",
      "Epoch 4 completed in 12.55m. 0.09m per recording.\n"
     ]
    },
    {
     "name": "stderr",
     "output_type": "stream",
     "text": [
      "Training Epoch 5: 100%|██████████| 135/135 [11:37<00:00,  5.17s/it]\n"
     ]
    },
    {
     "name": "stdout",
     "output_type": "stream",
     "text": [
      "Epoch 5 completed. Loss: 9.7504, Clip Loss: 9.7504, MSE Loss: 10738408464661.1211\n",
      "Accuracy: 0.0004, Top 5: 0.0022, Top 10: 0.0041\n",
      "Test unseen_subject completed. Accuracy: 0.0004, Top 5: 0.0017, Top 10: 0.0032\n",
      "Test unseen_task completed. Accuracy: 0.0005, Top 5: 0.0023, Top 10: 0.0045\n",
      "Test unseen_both completed. Accuracy: 0.0006, Top 5: 0.0021, Top 10: 0.0039\n",
      "Testing completed in 0.99m.\n",
      "Epoch 5 completed in 12.61m. 0.09m per recording.\n"
     ]
    },
    {
     "name": "stderr",
     "output_type": "stream",
     "text": [
      "Training Epoch 6: 100%|██████████| 135/135 [11:33<00:00,  5.13s/it]\n"
     ]
    },
    {
     "name": "stdout",
     "output_type": "stream",
     "text": [
      "Epoch 6 completed. Loss: 9.7440, Clip Loss: 9.7440, MSE Loss: 16552370020042.1328\n",
      "Accuracy: 0.0005, Top 5: 0.0022, Top 10: 0.0042\n",
      "Test unseen_subject completed. Accuracy: 0.0004, Top 5: 0.0022, Top 10: 0.0042\n",
      "Test unseen_task completed. Accuracy: 0.0005, Top 5: 0.0026, Top 10: 0.0050\n",
      "Test unseen_both completed. Accuracy: 0.0006, Top 5: 0.0026, Top 10: 0.0051\n",
      "Testing completed in 0.94m.\n",
      "Epoch 6 completed in 12.49m. 0.09m per recording.\n"
     ]
    },
    {
     "name": "stderr",
     "output_type": "stream",
     "text": [
      "Training Epoch 7: 100%|██████████| 135/135 [11:26<00:00,  5.08s/it]\n"
     ]
    },
    {
     "name": "stdout",
     "output_type": "stream",
     "text": [
      "Epoch 7 completed. Loss: 9.7364, Clip Loss: 9.7364, MSE Loss: 26988885630836.4453\n",
      "Accuracy: 0.0005, Top 5: 0.0022, Top 10: 0.0042\n",
      "Test unseen_subject completed. Accuracy: 0.0005, Top 5: 0.0023, Top 10: 0.0045\n",
      "Test unseen_task completed. Accuracy: 0.0006, Top 5: 0.0027, Top 10: 0.0051\n",
      "Test unseen_both completed. Accuracy: 0.0006, Top 5: 0.0026, Top 10: 0.0049\n",
      "Testing completed in 0.95m.\n",
      "Epoch 7 completed in 12.38m. 0.09m per recording.\n"
     ]
    },
    {
     "name": "stderr",
     "output_type": "stream",
     "text": [
      "Training Epoch 8: 100%|██████████| 135/135 [11:47<00:00,  5.24s/it]\n"
     ]
    },
    {
     "name": "stdout",
     "output_type": "stream",
     "text": [
      "Epoch 8 completed. Loss: 9.7305, Clip Loss: 9.7305, MSE Loss: 32992763248002.2461\n",
      "Accuracy: 0.0005, Top 5: 0.0022, Top 10: 0.0043\n",
      "Test unseen_subject completed. Accuracy: 0.0005, Top 5: 0.0024, Top 10: 0.0047\n",
      "Test unseen_task completed. Accuracy: 0.0006, Top 5: 0.0027, Top 10: 0.0051\n",
      "Test unseen_both completed. Accuracy: 0.0005, Top 5: 0.0023, Top 10: 0.0046\n",
      "Testing completed in 1.00m.\n",
      "Epoch 8 completed in 12.79m. 0.09m per recording.\n"
     ]
    },
    {
     "name": "stderr",
     "output_type": "stream",
     "text": [
      "Training Epoch 9: 100%|██████████| 135/135 [11:40<00:00,  5.19s/it]\n"
     ]
    },
    {
     "name": "stdout",
     "output_type": "stream",
     "text": [
      "Epoch 9 completed. Loss: 9.7210, Clip Loss: 9.7210, MSE Loss: 47715006145811.5859\n",
      "Accuracy: 0.0005, Top 5: 0.0025, Top 10: 0.0047\n",
      "Test unseen_subject completed. Accuracy: 0.0006, Top 5: 0.0027, Top 10: 0.0049\n",
      "Test unseen_task completed. Accuracy: 0.0006, Top 5: 0.0026, Top 10: 0.0048\n",
      "Test unseen_both completed. Accuracy: 0.0007, Top 5: 0.0028, Top 10: 0.0050\n",
      "Testing completed in 1.00m.\n",
      "Epoch 9 completed in 12.68m. 0.09m per recording.\n"
     ]
    },
    {
     "name": "stderr",
     "output_type": "stream",
     "text": [
      "Training Epoch 10: 100%|██████████| 135/135 [11:50<00:00,  5.26s/it]\n"
     ]
    },
    {
     "name": "stdout",
     "output_type": "stream",
     "text": [
      "Epoch 10 completed. Loss: 9.7208, Clip Loss: 9.7208, MSE Loss: 63439884639000.9688\n",
      "Accuracy: 0.0006, Top 5: 0.0026, Top 10: 0.0049\n",
      "Test unseen_subject completed. Accuracy: 0.0004, Top 5: 0.0018, Top 10: 0.0034\n",
      "Test unseen_task completed. Accuracy: 0.0006, Top 5: 0.0026, Top 10: 0.0049\n",
      "Test unseen_both completed. Accuracy: 0.0005, Top 5: 0.0021, Top 10: 0.0040\n",
      "Testing completed in 0.98m.\n",
      "Epoch 10 completed in 12.83m. 0.10m per recording.\n"
     ]
    },
    {
     "name": "stderr",
     "output_type": "stream",
     "text": [
      "Training Epoch 11: 100%|██████████| 135/135 [11:56<00:00,  5.31s/it]\n"
     ]
    },
    {
     "name": "stdout",
     "output_type": "stream",
     "text": [
      "Epoch 11 completed. Loss: 9.7171, Clip Loss: 9.7171, MSE Loss: 78188035878801.3281\n",
      "Accuracy: 0.0006, Top 5: 0.0028, Top 10: 0.0051\n",
      "Test unseen_subject completed. Accuracy: 0.0008, Top 5: 0.0037, Top 10: 0.0068\n",
      "Test unseen_task completed. Accuracy: 0.0007, Top 5: 0.0031, Top 10: 0.0055\n",
      "Test unseen_both completed. Accuracy: 0.0008, Top 5: 0.0032, Top 10: 0.0058\n",
      "Testing completed in 0.93m.\n",
      "Epoch 11 completed in 12.87m. 0.10m per recording.\n"
     ]
    },
    {
     "name": "stderr",
     "output_type": "stream",
     "text": [
      "Training Epoch 12: 100%|██████████| 135/135 [11:49<00:00,  5.26s/it]\n"
     ]
    },
    {
     "name": "stdout",
     "output_type": "stream",
     "text": [
      "Epoch 12 completed. Loss: 9.7237, Clip Loss: 9.7237, MSE Loss: 95994138225711.6562\n",
      "Accuracy: 0.0006, Top 5: 0.0028, Top 10: 0.0052\n",
      "Test unseen_subject completed. Accuracy: 0.0004, Top 5: 0.0015, Top 10: 0.0030\n",
      "Test unseen_task completed. Accuracy: 0.0005, Top 5: 0.0022, Top 10: 0.0042\n",
      "Test unseen_both completed. Accuracy: 0.0004, Top 5: 0.0020, Top 10: 0.0039\n",
      "Testing completed in 1.02m.\n",
      "Epoch 12 completed in 12.85m. 0.10m per recording.\n"
     ]
    },
    {
     "name": "stderr",
     "output_type": "stream",
     "text": [
      "Training Epoch 13: 100%|██████████| 135/135 [11:57<00:00,  5.32s/it]\n"
     ]
    },
    {
     "name": "stdout",
     "output_type": "stream",
     "text": [
      "Epoch 13 completed. Loss: 9.7182, Clip Loss: 9.7182, MSE Loss: 125977543547818.1406\n",
      "Accuracy: 0.0006, Top 5: 0.0028, Top 10: 0.0052\n",
      "Test unseen_subject completed. Accuracy: 0.0005, Top 5: 0.0021, Top 10: 0.0039\n",
      "Test unseen_task completed. Accuracy: 0.0007, Top 5: 0.0028, Top 10: 0.0051\n",
      "Test unseen_both completed. Accuracy: 0.0006, Top 5: 0.0027, Top 10: 0.0049\n",
      "Testing completed in 0.98m.\n",
      "Epoch 13 completed in 12.95m. 0.10m per recording.\n"
     ]
    },
    {
     "name": "stderr",
     "output_type": "stream",
     "text": [
      "Training Epoch 14: 100%|██████████| 135/135 [11:54<00:00,  5.29s/it]\n"
     ]
    },
    {
     "name": "stdout",
     "output_type": "stream",
     "text": [
      "Epoch 14 completed. Loss: 9.7164, Clip Loss: 9.7164, MSE Loss: 179051407840091.4062\n",
      "Accuracy: 0.0007, Top 5: 0.0029, Top 10: 0.0053\n",
      "Test unseen_subject completed. Accuracy: 0.0007, Top 5: 0.0028, Top 10: 0.0052\n",
      "Test unseen_task completed. Accuracy: 0.0008, Top 5: 0.0034, Top 10: 0.0061\n",
      "Test unseen_both completed. Accuracy: 0.0007, Top 5: 0.0030, Top 10: 0.0058\n",
      "Testing completed in 1.03m.\n",
      "Epoch 14 completed in 12.94m. 0.10m per recording.\n"
     ]
    },
    {
     "name": "stderr",
     "output_type": "stream",
     "text": [
      "Training Epoch 15: 100%|██████████| 135/135 [11:52<00:00,  5.28s/it]\n"
     ]
    },
    {
     "name": "stdout",
     "output_type": "stream",
     "text": [
      "Epoch 15 completed. Loss: 9.7043, Clip Loss: 9.7043, MSE Loss: 208113590760389.4375\n",
      "Accuracy: 0.0007, Top 5: 0.0030, Top 10: 0.0055\n",
      "Test unseen_subject completed. Accuracy: 0.0006, Top 5: 0.0025, Top 10: 0.0049\n",
      "Test unseen_task completed. Accuracy: 0.0008, Top 5: 0.0033, Top 10: 0.0061\n",
      "Test unseen_both completed. Accuracy: 0.0006, Top 5: 0.0030, Top 10: 0.0055\n",
      "Testing completed in 0.98m.\n",
      "Epoch 15 completed in 12.86m. 0.10m per recording.\n"
     ]
    },
    {
     "name": "stderr",
     "output_type": "stream",
     "text": [
      "Training Epoch 16: 100%|██████████| 135/135 [11:53<00:00,  5.29s/it]\n"
     ]
    },
    {
     "name": "stdout",
     "output_type": "stream",
     "text": [
      "Epoch 16 completed. Loss: 9.7103, Clip Loss: 9.7103, MSE Loss: 217110201403895.7188\n",
      "Accuracy: 0.0007, Top 5: 0.0028, Top 10: 0.0053\n",
      "Test unseen_subject completed. Accuracy: 0.0008, Top 5: 0.0036, Top 10: 0.0064\n",
      "Test unseen_task completed. Accuracy: 0.0008, Top 5: 0.0034, Top 10: 0.0061\n",
      "Test unseen_both completed. Accuracy: 0.0009, Top 5: 0.0035, Top 10: 0.0062\n",
      "Testing completed in 1.00m.\n",
      "Epoch 16 completed in 12.89m. 0.10m per recording.\n"
     ]
    },
    {
     "name": "stderr",
     "output_type": "stream",
     "text": [
      "Training Epoch 17: 100%|██████████| 135/135 [08:55<00:00,  3.96s/it]\n"
     ]
    },
    {
     "name": "stdout",
     "output_type": "stream",
     "text": [
      "Epoch 17 completed. Loss: 9.7135, Clip Loss: 9.7135, MSE Loss: 302191854387044.6875\n",
      "Accuracy: 0.0006, Top 5: 0.0029, Top 10: 0.0053\n",
      "Test unseen_subject completed. Accuracy: 0.0006, Top 5: 0.0028, Top 10: 0.0052\n",
      "Test unseen_task completed. Accuracy: 0.0007, Top 5: 0.0030, Top 10: 0.0057\n",
      "Test unseen_both completed. Accuracy: 0.0007, Top 5: 0.0029, Top 10: 0.0055\n",
      "Testing completed in 0.79m.\n",
      "Epoch 17 completed in 9.71m. 0.07m per recording.\n"
     ]
    },
    {
     "name": "stderr",
     "output_type": "stream",
     "text": [
      "Training Epoch 18: 100%|██████████| 135/135 [08:52<00:00,  3.94s/it]\n"
     ]
    },
    {
     "name": "stdout",
     "output_type": "stream",
     "text": [
      "Epoch 18 completed. Loss: 9.7185, Clip Loss: 9.7185, MSE Loss: 377342620088349.1250\n",
      "Accuracy: 0.0007, Top 5: 0.0028, Top 10: 0.0052\n",
      "Test unseen_subject completed. Accuracy: 0.0007, Top 5: 0.0034, Top 10: 0.0061\n",
      "Test unseen_task completed. Accuracy: 0.0008, Top 5: 0.0034, Top 10: 0.0061\n",
      "Test unseen_both completed. Accuracy: 0.0008, Top 5: 0.0034, Top 10: 0.0062\n",
      "Testing completed in 0.79m.\n",
      "Epoch 18 completed in 9.67m. 0.07m per recording.\n"
     ]
    },
    {
     "name": "stderr",
     "output_type": "stream",
     "text": [
      "Training Epoch 19: 100%|██████████| 135/135 [08:51<00:00,  3.94s/it]\n"
     ]
    },
    {
     "name": "stdout",
     "output_type": "stream",
     "text": [
      "Epoch 19 completed. Loss: 9.7106, Clip Loss: 9.7106, MSE Loss: 417747482492172.4375\n",
      "Accuracy: 0.0007, Top 5: 0.0029, Top 10: 0.0054\n",
      "Test unseen_subject completed. Accuracy: 0.0009, Top 5: 0.0036, Top 10: 0.0065\n",
      "Test unseen_task completed. Accuracy: 0.0008, Top 5: 0.0031, Top 10: 0.0056\n",
      "Test unseen_both completed. Accuracy: 0.0010, Top 5: 0.0038, Top 10: 0.0066\n",
      "Testing completed in 0.80m.\n",
      "Epoch 19 completed in 9.66m. 0.07m per recording.\n"
     ]
    },
    {
     "name": "stderr",
     "output_type": "stream",
     "text": [
      "Training Epoch 20: 100%|██████████| 135/135 [08:57<00:00,  3.98s/it]\n"
     ]
    },
    {
     "name": "stdout",
     "output_type": "stream",
     "text": [
      "Epoch 20 completed. Loss: 9.7233, Clip Loss: 9.7233, MSE Loss: 455013308325275.5000\n",
      "Accuracy: 0.0007, Top 5: 0.0029, Top 10: 0.0054\n",
      "Test unseen_subject completed. Accuracy: 0.0009, Top 5: 0.0037, Top 10: 0.0066\n",
      "Test unseen_task completed. Accuracy: 0.0009, Top 5: 0.0037, Top 10: 0.0067\n",
      "Test unseen_both completed. Accuracy: 0.0009, Top 5: 0.0037, Top 10: 0.0068\n",
      "Testing completed in 0.83m.\n",
      "Epoch 20 completed in 9.79m. 0.07m per recording.\n"
     ]
    },
    {
     "name": "stderr",
     "output_type": "stream",
     "text": [
      "Training Epoch 21: 100%|██████████| 135/135 [08:55<00:00,  3.97s/it]\n"
     ]
    },
    {
     "name": "stdout",
     "output_type": "stream",
     "text": [
      "Epoch 21 completed. Loss: 9.7205, Clip Loss: 9.7205, MSE Loss: 438564595688515.8750\n",
      "Accuracy: 0.0007, Top 5: 0.0030, Top 10: 0.0054\n",
      "Test unseen_subject completed. Accuracy: 0.0007, Top 5: 0.0032, Top 10: 0.0060\n",
      "Test unseen_task completed. Accuracy: 0.0008, Top 5: 0.0036, Top 10: 0.0064\n",
      "Test unseen_both completed. Accuracy: 0.0009, Top 5: 0.0036, Top 10: 0.0065\n",
      "Testing completed in 0.84m.\n",
      "Epoch 21 completed in 9.77m. 0.07m per recording.\n"
     ]
    },
    {
     "name": "stderr",
     "output_type": "stream",
     "text": [
      "Training Epoch 22: 100%|██████████| 135/135 [08:56<00:00,  3.97s/it]\n"
     ]
    },
    {
     "name": "stdout",
     "output_type": "stream",
     "text": [
      "Epoch 22 completed. Loss: 9.7138, Clip Loss: 9.7138, MSE Loss: 442718087445928.5625\n",
      "Accuracy: 0.0007, Top 5: 0.0030, Top 10: 0.0056\n",
      "Test unseen_subject completed. Accuracy: 0.0007, Top 5: 0.0030, Top 10: 0.0056\n",
      "Test unseen_task completed. Accuracy: 0.0008, Top 5: 0.0034, Top 10: 0.0062\n",
      "Test unseen_both completed. Accuracy: 0.0007, Top 5: 0.0031, Top 10: 0.0055\n",
      "Testing completed in 0.77m.\n",
      "Epoch 22 completed in 9.71m. 0.07m per recording.\n"
     ]
    },
    {
     "name": "stderr",
     "output_type": "stream",
     "text": [
      "Training Epoch 23: 100%|██████████| 135/135 [08:50<00:00,  3.93s/it]\n"
     ]
    },
    {
     "name": "stdout",
     "output_type": "stream",
     "text": [
      "Epoch 23 completed. Loss: 9.7074, Clip Loss: 9.7074, MSE Loss: 462919882363235.0625\n",
      "Accuracy: 0.0007, Top 5: 0.0030, Top 10: 0.0056\n",
      "Test unseen_subject completed. Accuracy: 0.0008, Top 5: 0.0033, Top 10: 0.0060\n",
      "Test unseen_task completed. Accuracy: 0.0008, Top 5: 0.0034, Top 10: 0.0061\n",
      "Test unseen_both completed. Accuracy: 0.0007, Top 5: 0.0030, Top 10: 0.0054\n",
      "Testing completed in 0.77m.\n",
      "Epoch 23 completed in 9.62m. 0.07m per recording.\n"
     ]
    },
    {
     "name": "stderr",
     "output_type": "stream",
     "text": [
      "Training Epoch 24: 100%|██████████| 135/135 [08:55<00:00,  3.97s/it]\n"
     ]
    },
    {
     "name": "stdout",
     "output_type": "stream",
     "text": [
      "Epoch 24 completed. Loss: 9.7168, Clip Loss: 9.7168, MSE Loss: 645713112217929.2500\n",
      "Accuracy: 0.0007, Top 5: 0.0030, Top 10: 0.0055\n",
      "Test unseen_subject completed. Accuracy: 0.0005, Top 5: 0.0022, Top 10: 0.0041\n",
      "Test unseen_task completed. Accuracy: 0.0007, Top 5: 0.0031, Top 10: 0.0056\n",
      "Test unseen_both completed. Accuracy: 0.0007, Top 5: 0.0030, Top 10: 0.0055\n",
      "Testing completed in 0.79m.\n",
      "Epoch 24 completed in 9.72m. 0.07m per recording.\n"
     ]
    },
    {
     "name": "stderr",
     "output_type": "stream",
     "text": [
      "Training Epoch 25: 100%|██████████| 135/135 [08:52<00:00,  3.95s/it]\n"
     ]
    },
    {
     "name": "stdout",
     "output_type": "stream",
     "text": [
      "Epoch 25 completed. Loss: 9.7160, Clip Loss: 9.7160, MSE Loss: 683640176685492.7500\n",
      "Accuracy: 0.0007, Top 5: 0.0031, Top 10: 0.0056\n",
      "Test unseen_subject completed. Accuracy: 0.0006, Top 5: 0.0028, Top 10: 0.0051\n",
      "Test unseen_task completed. Accuracy: 0.0009, Top 5: 0.0039, Top 10: 0.0069\n",
      "Test unseen_both completed. Accuracy: 0.0008, Top 5: 0.0034, Top 10: 0.0062\n",
      "Testing completed in 0.83m.\n",
      "Epoch 25 completed in 9.71m. 0.07m per recording.\n"
     ]
    },
    {
     "name": "stderr",
     "output_type": "stream",
     "text": [
      "Training Epoch 26: 100%|██████████| 135/135 [08:53<00:00,  3.95s/it]\n"
     ]
    },
    {
     "name": "stdout",
     "output_type": "stream",
     "text": [
      "Epoch 26 completed. Loss: 9.7280, Clip Loss: 9.7280, MSE Loss: 757218708437602.2500\n",
      "Accuracy: 0.0007, Top 5: 0.0030, Top 10: 0.0054\n",
      "Test unseen_subject completed. Accuracy: 0.0007, Top 5: 0.0030, Top 10: 0.0055\n",
      "Test unseen_task completed. Accuracy: 0.0009, Top 5: 0.0035, Top 10: 0.0064\n",
      "Test unseen_both completed. Accuracy: 0.0010, Top 5: 0.0037, Top 10: 0.0063\n",
      "Testing completed in 0.81m.\n",
      "Epoch 26 completed in 9.69m. 0.07m per recording.\n"
     ]
    },
    {
     "name": "stderr",
     "output_type": "stream",
     "text": [
      "Training Epoch 27: 100%|██████████| 135/135 [08:53<00:00,  3.95s/it]\n"
     ]
    },
    {
     "name": "stdout",
     "output_type": "stream",
     "text": [
      "Epoch 27 completed. Loss: 9.7304, Clip Loss: 9.7304, MSE Loss: 807854019627176.7500\n",
      "Accuracy: 0.0007, Top 5: 0.0030, Top 10: 0.0055\n",
      "Test unseen_subject completed. Accuracy: 0.0008, Top 5: 0.0035, Top 10: 0.0065\n",
      "Test unseen_task completed. Accuracy: 0.0008, Top 5: 0.0036, Top 10: 0.0064\n",
      "Test unseen_both completed. Accuracy: 0.0009, Top 5: 0.0035, Top 10: 0.0060\n",
      "Testing completed in 0.81m.\n",
      "Epoch 27 completed in 9.70m. 0.07m per recording.\n"
     ]
    },
    {
     "name": "stderr",
     "output_type": "stream",
     "text": [
      "Training Epoch 28: 100%|██████████| 135/135 [09:02<00:00,  4.02s/it]\n"
     ]
    },
    {
     "name": "stdout",
     "output_type": "stream",
     "text": [
      "Epoch 28 completed. Loss: 9.7295, Clip Loss: 9.7295, MSE Loss: 763441886835731.0000\n",
      "Accuracy: 0.0007, Top 5: 0.0030, Top 10: 0.0055\n",
      "Test unseen_subject completed. Accuracy: 0.0007, Top 5: 0.0034, Top 10: 0.0063\n",
      "Test unseen_task completed. Accuracy: 0.0009, Top 5: 0.0036, Top 10: 0.0065\n",
      "Test unseen_both completed. Accuracy: 0.0010, Top 5: 0.0038, Top 10: 0.0064\n",
      "Testing completed in 0.79m.\n",
      "Epoch 28 completed in 9.82m. 0.07m per recording.\n"
     ]
    },
    {
     "name": "stderr",
     "output_type": "stream",
     "text": [
      "Training Epoch 29: 100%|██████████| 135/135 [08:48<00:00,  3.91s/it]\n"
     ]
    },
    {
     "name": "stdout",
     "output_type": "stream",
     "text": [
      "Epoch 29 completed. Loss: 9.7161, Clip Loss: 9.7161, MSE Loss: 814240124602510.2500\n",
      "Accuracy: 0.0007, Top 5: 0.0031, Top 10: 0.0057\n",
      "Test unseen_subject completed. Accuracy: 0.0007, Top 5: 0.0032, Top 10: 0.0058\n",
      "Test unseen_task completed. Accuracy: 0.0009, Top 5: 0.0039, Top 10: 0.0070\n",
      "Test unseen_both completed. Accuracy: 0.0009, Top 5: 0.0036, Top 10: 0.0066\n",
      "Testing completed in 0.76m.\n",
      "Epoch 29 completed in 9.57m. 0.07m per recording.\n"
     ]
    },
    {
     "name": "stderr",
     "output_type": "stream",
     "text": [
      "Training Epoch 30: 100%|██████████| 135/135 [08:43<00:00,  3.88s/it]\n"
     ]
    },
    {
     "name": "stdout",
     "output_type": "stream",
     "text": [
      "Epoch 30 completed. Loss: 9.7217, Clip Loss: 9.7217, MSE Loss: 832798342678355.2500\n",
      "Accuracy: 0.0007, Top 5: 0.0030, Top 10: 0.0055\n",
      "Test unseen_subject completed. Accuracy: 0.0006, Top 5: 0.0030, Top 10: 0.0055\n",
      "Test unseen_task completed. Accuracy: 0.0009, Top 5: 0.0037, Top 10: 0.0066\n",
      "Test unseen_both completed. Accuracy: 0.0008, Top 5: 0.0035, Top 10: 0.0063\n",
      "Testing completed in 0.78m.\n",
      "Epoch 30 completed in 9.51m. 0.07m per recording.\n"
     ]
    },
    {
     "name": "stderr",
     "output_type": "stream",
     "text": [
      "Training Epoch 31: 100%|██████████| 135/135 [08:43<00:00,  3.88s/it]\n"
     ]
    },
    {
     "name": "stdout",
     "output_type": "stream",
     "text": [
      "Epoch 31 completed. Loss: 9.7219, Clip Loss: 9.7219, MSE Loss: 1001430950591989.0000\n",
      "Accuracy: 0.0007, Top 5: 0.0031, Top 10: 0.0057\n",
      "Test unseen_subject completed. Accuracy: 0.0005, Top 5: 0.0026, Top 10: 0.0047\n",
      "Test unseen_task completed. Accuracy: 0.0008, Top 5: 0.0035, Top 10: 0.0063\n",
      "Test unseen_both completed. Accuracy: 0.0008, Top 5: 0.0031, Top 10: 0.0056\n",
      "Testing completed in 0.77m.\n",
      "Epoch 31 completed in 9.49m. 0.07m per recording.\n",
      "Early stopping at epoch 31. Highest top 10 accuracy at epoch 20.\n",
      "Training completed.\n",
      "unseen_subject: Acc: 0.0009, Top 5: 0.0037, Top 10: 0.0066\n",
      "unseen_task: Acc: 0.0009, Top 5: 0.0037, Top 10: 0.0067\n",
      "unseen_both: Acc: 0.0009, Top 5: 0.0037, Top 10: 0.0068\n"
     ]
    }
   ],
   "source": [
    "# del session.logger\n",
    "# del session\n",
    "\n",
    "import multiprocessing\n",
    "\n",
    "\n",
    "from train.training_session_v0 import TrainingSessionV0\n",
    "from config import TrainingConfigV0\n",
    "from config import SimpleConvConfig\n",
    "\n",
    "data_partition = {\n",
    "    \"gwilliams2023\": {\n",
    "        \"testing_subjects\": [19, 20, 21],\n",
    "        \"testing_tasks\": [0],\n",
    "    },\n",
    "    # \"armeini2022\": {\n",
    "    #     \"testing_subjects\": [],\n",
    "    #     \"testing_tasks\": [8, 9],\n",
    "    # },\n",
    "}\n",
    "\n",
    "model_config = SimpleConvConfig(\n",
    "    # Str to list of possible conditions\n",
    "    mel_normalization=False,\n",
    "    conditions={\n",
    "        \"study\": [],\n",
    "        \"subject\": [],\n",
    "    },\n",
    "    # Channels\n",
    "    in_channels=208,\n",
    "    out_channels=80,\n",
    "    hidden_dim=384,\n",
    "    dropout=0.2,\n",
    "    initial_batch_norm=True,\n",
    "    # Sensor layout settings\n",
    "    layout_dim=2,\n",
    "    layout_proj=True,\n",
    "    layout_scaling=\"minmax\",\n",
    "    # Merger with spatial attn\n",
    "    merger=False,\n",
    "    merger_emb_type=None,\n",
    "    merger_emb_dim=0,\n",
    "    merger_channels=0,\n",
    "    merger_dropout=0.0,\n",
    "    merger_conditional=0.0,  # floaft\n",
    "    # Inital\n",
    "    initial_linear=384,\n",
    "    initial_depth=1,\n",
    "    # Conditional layers\n",
    "    conditional_layers=False,\n",
    "    conditional_layers_dim=None,  # input or hidden_dim\n",
    "    # Conv layer overall structure\n",
    "    depth=6,\n",
    "    kernel_size=3,\n",
    "    growth=1.0,\n",
    "    dilation_growth=2,\n",
    "    dilation_period=5,\n",
    "    glu=1,\n",
    "    conv_dropout=0.2,\n",
    "    dropout_input=0.2,\n",
    "    batch_norm=True,\n",
    "    half=True,\n",
    "    cnn_pos_encoding=False,\n",
    "    # Quantizer\n",
    "    quantizer=False,\n",
    "    num_codebooks=0,\n",
    "    codebook_size=0,\n",
    "    quantizer_commitment=0,\n",
    "    quantizer_temp_init=0,\n",
    "    quantizer_temp_min=0,\n",
    "    quantizer_temp_decay=0,\n",
    "    # Transformers Encoders\n",
    "    transformer_input=None,\n",
    "    transformer_encoder_emb=None,\n",
    "    transformer_encoder_layers=0,\n",
    "    transformer_encoder_heads=0,\n",
    "    # Transformer Decoders\n",
    "    transformer_decoder_emb=None,\n",
    "    transformer_decoder_layers=0,\n",
    "    transformer_decoder_heads=0,\n",
    "    transformer_decoder_dim=0,\n",
    ")\n",
    "\n",
    "config = TrainingConfigV0(\n",
    "    brain_encoder_config=model_config,\n",
    "    data_partition=data_partition,\n",
    "    # Pre-processing parameters\n",
    "    # Brain\n",
    "    new_freq=200,\n",
    "    frequency_bands={\"all\": (0.5, 80)},\n",
    "    max_random_shift=1.0,\n",
    "    window_size=4,\n",
    "    window_stride=1,\n",
    "    brain_clipping=None,\n",
    "    baseline_window=0.5,\n",
    "    notch_filter=True,\n",
    "    scaling=\"both\",\n",
    "    delay=0.15,\n",
    "    # Hyperparameters\n",
    "    learning_rate=5e-4,\n",
    "    weight_decay=1e-4,\n",
    "    epochs=50,\n",
    "    batch_size=256,\n",
    "    use_clip_loss=True,\n",
    "    use_mse_loss=True,\n",
    "    alpha=0.6,\n",
    "    random_test_size=10,\n",
    "    seed=42,\n",
    ")\n",
    "\n",
    "config.learning_rate = 3e-4\n",
    "config.batch_size = 64\n",
    "config.use_mse_loss = False\n",
    "config.alpha = 0.0\n",
    "\n",
    "session = TrainingSessionV0(\n",
    "    config=config,\n",
    "    studies={study: \"audio\" for study in data_partition.keys()},\n",
    "    data_path=\"data\",\n",
    "    save_path=\"saves/phase1/objectives/CLIP_BT\",\n",
    "    clear_cache=False,\n",
    "    cache_name=\"cache/1\",\n",
    ")\n",
    "\n",
    "try:\n",
    "    session.train(\n",
    "        device=\"cuda\",\n",
    "        buffer_size=30,\n",
    "        num_workers=(multiprocessing.cpu_count() - 2),\n",
    "        max_cache_size=400,\n",
    "        current_epoch=0,\n",
    "    )\n",
    "except KeyboardInterrupt as e:\n",
    "    print(\"Exited\")"
   ]
  },
  {
   "cell_type": "code",
   "execution_count": null,
   "metadata": {},
   "outputs": [],
   "source": []
  }
 ],
 "metadata": {
  "kernelspec": {
   "display_name": "brain",
   "language": "python",
   "name": "python3"
  },
  "language_info": {
   "codemirror_mode": {
    "name": "ipython",
    "version": 3
   },
   "file_extension": ".py",
   "mimetype": "text/x-python",
   "name": "python",
   "nbconvert_exporter": "python",
   "pygments_lexer": "ipython3",
   "version": "3.11.7"
  }
 },
 "nbformat": 4,
 "nbformat_minor": 4
}
