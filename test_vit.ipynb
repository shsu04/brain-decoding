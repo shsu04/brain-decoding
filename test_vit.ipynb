{
 "cells": [
  {
   "cell_type": "code",
   "execution_count": 19,
   "metadata": {},
   "outputs": [
    {
     "name": "stdout",
     "output_type": "stream",
     "text": [
      "torch.Size([1, 256, 64, 400])\n"
     ]
    }
   ],
   "source": [
    "from torchvision.models.vision_transformer import VisionTransformer\n",
    "import torch\n",
    "import numpy as np\n",
    "import torch.nn as nn\n",
    "\n",
    "freq = 64\n",
    "t = 400\n",
    "chan = 256\n",
    "b = 1\n",
    "\n",
    "device = torch.device('mps')\n",
    "x = torch.randn((b, chan, freq, t)).to(device)\n",
    "print(x.shape)"
   ]
  },
  {
   "cell_type": "code",
   "execution_count": 21,
   "metadata": {},
   "outputs": [
    {
     "name": "stdout",
     "output_type": "stream",
     "text": [
      "x shape after spatial embedding: torch.Size([1, 256, 64, 400])\n",
      "x shape after reshaping: torch.Size([400, 64, 256])\n",
      "torch.Size([1, 128, 64, 400])\n"
     ]
    }
   ],
   "source": [
    "class SpatioSpectralTransformer(nn.Module):\n",
    "    def __init__(self, n_channels, n_freq_bins, n_mel_bands, d_model=256, nhead=8):\n",
    "        super().__init__()\n",
    "        \n",
    "        # Project MEG channels and frequencies into embedding space\n",
    "        self.spatial_embedding = nn.Conv2d(n_channels, d_model, kernel_size=1)\n",
    "        \n",
    "        # Transformer for cross-channel attention\n",
    "        self.transformer = nn.TransformerEncoder(\n",
    "            nn.TransformerEncoderLayer(\n",
    "                d_model=d_model,\n",
    "                nhead=nhead,\n",
    "                dim_feedforward=d_model*4,\n",
    "                batch_first=True\n",
    "            ),\n",
    "            num_layers=3\n",
    "        )\n",
    "        \n",
    "        # Final projection to mel bands\n",
    "        self.output_proj = nn.Conv2d(d_model, n_mel_bands, kernel_size=3, padding=1)\n",
    "        \n",
    "    def forward(self, x):\n",
    "        # x shape: [B, C, freq, T]\n",
    "        B, C, F, T = x.shape\n",
    "        \n",
    "        # Project channels\n",
    "        x = self.spatial_embedding(x)  # [B, d_model, freq, T]\n",
    "        print(f'x shape after spatial embedding: {x.shape}')\n",
    "        \n",
    "        # Reshape for transformer\n",
    "        x = x.permute(0, 3, 2, 1)  # [B, T, freq, d_model]\n",
    "        x = x.reshape(B*T, F, -1)   # [B*T, freq, d_model]\n",
    "        print(f'x shape after reshaping: {x.shape}')\n",
    "        \n",
    "        # Apply transformer\n",
    "        x = self.transformer(x)  # [B*T, freq, d_model]\n",
    "        \n",
    "        # Reshape back\n",
    "        x = x.reshape(B, T, F, -1)  # [B, T, freq, d_model]\n",
    "        x = x.permute(0, 3, 2, 1)   # [B, d_model, freq, T]\n",
    "        \n",
    "        # Project to mel bands\n",
    "        x = self.output_proj(x)      # [B, mel_bands, freq, T]\n",
    "        \n",
    "        return x\n",
    "    \n",
    "model = SpatioSpectralTransformer(n_channels=chan, n_freq_bins=freq, n_mel_bands=128, d_model=256, nhead=8).to(device)\n",
    "y = model(x)\n",
    "print(y.shape)"
   ]
  },
  {
   "cell_type": "code",
   "execution_count": null,
   "metadata": {},
   "outputs": [],
   "source": [
    "# model = VisionTransformer(\n",
    "#     image_size=512,\n",
    "#     patch_size=16,\n",
    "#     num_layers=1,\n",
    "#     num_heads=8,\n",
    "#     hidden_dim=256,\n",
    "#     mlp_dim=512,\n",
    "# ).to(device)"
   ]
  },
  {
   "cell_type": "code",
   "execution_count": null,
   "metadata": {},
   "outputs": [],
   "source": []
  }
 ],
 "metadata": {
  "kernelspec": {
   "display_name": "brain",
   "language": "python",
   "name": "python3"
  },
  "language_info": {
   "codemirror_mode": {
    "name": "ipython",
    "version": 3
   },
   "file_extension": ".py",
   "mimetype": "text/x-python",
   "name": "python",
   "nbconvert_exporter": "python",
   "pygments_lexer": "ipython3",
   "version": "3.11.7"
  }
 },
 "nbformat": 4,
 "nbformat_minor": 2
}
