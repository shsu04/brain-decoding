{
 "cells": [
  {
   "cell_type": "code",
   "execution_count": 2,
   "metadata": {},
   "outputs": [
    {
     "name": "stdout",
     "output_type": "stream",
     "text": [
      "Loading Gwilliams2023 with batch type audio\n",
      "Data partitioned on studies ['gwilliams2023'].\n",
      "Train: 135, Unseen Task: 12, Unseen Subject: 45, Unseen Both: 4.\n",
      "\n",
      "RNNEncoder initialized as conformer with 4 layers, 256 d_model, 4 nhead\n",
      "\tEmbedding: sinusoidal, params: 6075392\n",
      "SimpleConv initialized with 8927984 parameters, cond: ['study', 'subject']\n",
      "Merger False, merger channels 0\n",
      "ConvBlocks: 4, hidden_dim: 256, params 2626048\n",
      "Found 24 target modules for AdaLora: ['k_proj', 'q_proj', 'v_proj', 'out_proj', 'fc1', 'fc2']\n",
      "openai/whisper-tiny.en loaded with 8540472 frozen params (4 layers and 384 dim).\n",
      "AdaLora has 332064 trainable params.\n"
     ]
    },
    {
     "name": "stderr",
     "output_type": "stream",
     "text": [
      "Training Epoch 1: 100%|██████████| 135/135 [08:18<00:00,  3.69s/it]\n"
     ]
    },
    {
     "name": "stdout",
     "output_type": "stream",
     "text": [
      "Testing done in 0.68m.\n",
      "Epoch 1 done in 8.98m. 0.07m/recording.\n",
      "New highest test accuracy: 0.0371, lowest final-layer loss: 2.1997, epoch 1.\n"
     ]
    },
    {
     "name": "stderr",
     "output_type": "stream",
     "text": [
      "Training Epoch 2: 100%|██████████| 135/135 [08:09<00:00,  3.63s/it]\n"
     ]
    },
    {
     "name": "stdout",
     "output_type": "stream",
     "text": [
      "Testing done in 0.68m.\n",
      "Epoch 2 done in 8.84m. 0.07m/recording.\n",
      "New highest test accuracy: 0.0436, lowest final-layer loss: 2.1006, epoch 2.\n"
     ]
    },
    {
     "name": "stderr",
     "output_type": "stream",
     "text": [
      "Training Epoch 3: 100%|██████████| 135/135 [08:11<00:00,  3.64s/it]\n"
     ]
    },
    {
     "name": "stdout",
     "output_type": "stream",
     "text": [
      "Testing done in 0.68m.\n",
      "Epoch 3 done in 8.88m. 0.07m/recording.\n",
      "New highest test accuracy: 0.0611, lowest final-layer loss: 2.0870, epoch 3.\n"
     ]
    },
    {
     "name": "stderr",
     "output_type": "stream",
     "text": [
      "Training Epoch 4:   0%|          | 0/135 [00:00<?, ?it/s]"
     ]
    },
    {
     "name": "stdout",
     "output_type": "stream",
     "text": [
      "Starting rank reallocation at recording 1350.\n"
     ]
    },
    {
     "name": "stderr",
     "output_type": "stream",
     "text": [
      "Training Epoch 4: 100%|██████████| 135/135 [08:11<00:00,  3.64s/it]\n"
     ]
    },
    {
     "name": "stdout",
     "output_type": "stream",
     "text": [
      "Testing done in 0.68m.\n",
      "Epoch 4 done in 8.87m. 0.07m/recording.\n",
      "New highest test accuracy: 0.1000, lowest final-layer loss: 2.0543, epoch 4.\n"
     ]
    },
    {
     "name": "stderr",
     "output_type": "stream",
     "text": [
      "Training Epoch 5: 100%|██████████| 135/135 [08:10<00:00,  3.63s/it]\n"
     ]
    },
    {
     "name": "stdout",
     "output_type": "stream",
     "text": [
      "Testing done in 0.68m.\n",
      "Epoch 5 done in 8.86m. 0.07m/recording.\n"
     ]
    },
    {
     "name": "stderr",
     "output_type": "stream",
     "text": [
      "Training Epoch 6: 100%|██████████| 135/135 [08:08<00:00,  3.62s/it]\n"
     ]
    },
    {
     "name": "stdout",
     "output_type": "stream",
     "text": [
      "Testing done in 0.68m.\n",
      "Epoch 6 done in 8.82m. 0.07m/recording.\n",
      "New highest test accuracy: 0.0987, lowest final-layer loss: 2.0360, epoch 6.\n"
     ]
    },
    {
     "name": "stderr",
     "output_type": "stream",
     "text": [
      "Training Epoch 7: 100%|██████████| 135/135 [08:11<00:00,  3.64s/it]\n"
     ]
    },
    {
     "name": "stdout",
     "output_type": "stream",
     "text": [
      "Testing done in 0.68m.\n",
      "Epoch 7 done in 8.88m. 0.07m/recording.\n",
      "New highest test accuracy: 0.1488, lowest final-layer loss: 2.0357, epoch 7.\n"
     ]
    },
    {
     "name": "stderr",
     "output_type": "stream",
     "text": [
      "Training Epoch 8: 100%|██████████| 135/135 [08:11<00:00,  3.64s/it]\n"
     ]
    },
    {
     "name": "stdout",
     "output_type": "stream",
     "text": [
      "Testing done in 0.68m.\n",
      "Epoch 8 done in 8.87m. 0.07m/recording.\n",
      "New highest test accuracy: 0.1673, lowest final-layer loss: 2.0319, epoch 8.\n"
     ]
    },
    {
     "name": "stderr",
     "output_type": "stream",
     "text": [
      "Training Epoch 9: 100%|██████████| 135/135 [08:11<00:00,  3.64s/it]\n"
     ]
    },
    {
     "name": "stdout",
     "output_type": "stream",
     "text": [
      "Testing done in 0.68m.\n",
      "Epoch 9 done in 8.87m. 0.07m/recording.\n"
     ]
    },
    {
     "name": "stderr",
     "output_type": "stream",
     "text": [
      "Training Epoch 10: 100%|██████████| 135/135 [08:12<00:00,  3.65s/it]\n"
     ]
    },
    {
     "name": "stdout",
     "output_type": "stream",
     "text": [
      "Testing done in 0.68m.\n",
      "Epoch 10 done in 8.89m. 0.07m/recording.\n"
     ]
    },
    {
     "name": "stderr",
     "output_type": "stream",
     "text": [
      "Training Epoch 11: 100%|██████████| 135/135 [08:08<00:00,  3.62s/it]\n"
     ]
    },
    {
     "name": "stdout",
     "output_type": "stream",
     "text": [
      "Testing done in 0.68m.\n",
      "Epoch 11 done in 8.83m. 0.07m/recording.\n",
      "New highest test accuracy: 0.1534, lowest final-layer loss: 2.0255, epoch 11.\n"
     ]
    },
    {
     "name": "stderr",
     "output_type": "stream",
     "text": [
      "Training Epoch 12: 100%|██████████| 135/135 [08:12<00:00,  3.65s/it]\n"
     ]
    },
    {
     "name": "stdout",
     "output_type": "stream",
     "text": [
      "Testing done in 0.68m.\n",
      "Epoch 12 done in 8.89m. 0.07m/recording.\n"
     ]
    },
    {
     "name": "stderr",
     "output_type": "stream",
     "text": [
      "Training Epoch 13: 100%|██████████| 135/135 [08:11<00:00,  3.64s/it]\n"
     ]
    },
    {
     "name": "stdout",
     "output_type": "stream",
     "text": [
      "Testing done in 0.68m.\n",
      "Epoch 13 done in 8.87m. 0.07m/recording.\n",
      "New highest test accuracy: 0.1900, lowest final-layer loss: 2.0259, epoch 13.\n"
     ]
    },
    {
     "name": "stderr",
     "output_type": "stream",
     "text": [
      "Training Epoch 14: 100%|██████████| 135/135 [08:11<00:00,  3.64s/it]\n"
     ]
    },
    {
     "name": "stdout",
     "output_type": "stream",
     "text": [
      "Testing done in 0.67m.\n",
      "Epoch 14 done in 8.86m. 0.07m/recording.\n",
      "New highest test accuracy: 0.1968, lowest final-layer loss: 2.0245, epoch 14.\n"
     ]
    },
    {
     "name": "stderr",
     "output_type": "stream",
     "text": [
      "Training Epoch 15: 100%|██████████| 135/135 [08:12<00:00,  3.65s/it]\n"
     ]
    },
    {
     "name": "stdout",
     "output_type": "stream",
     "text": [
      "Testing done in 0.68m.\n",
      "Epoch 15 done in 8.89m. 0.07m/recording.\n",
      "New highest test accuracy: 0.1983, lowest final-layer loss: 2.0211, epoch 15.\n"
     ]
    },
    {
     "name": "stderr",
     "output_type": "stream",
     "text": [
      "Training Epoch 16: 100%|██████████| 135/135 [08:12<00:00,  3.65s/it]\n"
     ]
    },
    {
     "name": "stdout",
     "output_type": "stream",
     "text": [
      "Testing done in 0.69m.\n",
      "Epoch 16 done in 8.89m. 0.07m/recording.\n"
     ]
    },
    {
     "name": "stderr",
     "output_type": "stream",
     "text": [
      "Training Epoch 17: 100%|██████████| 135/135 [08:08<00:00,  3.62s/it]\n"
     ]
    },
    {
     "name": "stdout",
     "output_type": "stream",
     "text": [
      "Testing done in 0.68m.\n",
      "Epoch 17 done in 8.83m. 0.07m/recording.\n",
      "New highest test accuracy: 0.2239, lowest final-layer loss: 2.0147, epoch 17.\n"
     ]
    },
    {
     "name": "stderr",
     "output_type": "stream",
     "text": [
      "Training Epoch 18: 100%|██████████| 135/135 [08:09<00:00,  3.63s/it]\n"
     ]
    },
    {
     "name": "stdout",
     "output_type": "stream",
     "text": [
      "Testing done in 0.68m.\n",
      "Epoch 18 done in 8.85m. 0.07m/recording.\n"
     ]
    },
    {
     "name": "stderr",
     "output_type": "stream",
     "text": [
      "Training Epoch 19: 100%|██████████| 135/135 [08:16<00:00,  3.68s/it]\n"
     ]
    },
    {
     "name": "stdout",
     "output_type": "stream",
     "text": [
      "Testing done in 0.69m.\n",
      "Epoch 19 done in 8.97m. 0.07m/recording.\n"
     ]
    },
    {
     "name": "stderr",
     "output_type": "stream",
     "text": [
      "Training Epoch 20: 100%|██████████| 135/135 [08:10<00:00,  3.63s/it]\n"
     ]
    },
    {
     "name": "stdout",
     "output_type": "stream",
     "text": [
      "Testing done in 0.70m.\n",
      "Epoch 20 done in 8.88m. 0.07m/recording.\n"
     ]
    },
    {
     "name": "stderr",
     "output_type": "stream",
     "text": [
      "Training Epoch 21: 100%|██████████| 135/135 [08:09<00:00,  3.63s/it]\n"
     ]
    },
    {
     "name": "stdout",
     "output_type": "stream",
     "text": [
      "Testing done in 0.71m.\n",
      "Epoch 21 done in 8.87m. 0.07m/recording.\n"
     ]
    },
    {
     "name": "stderr",
     "output_type": "stream",
     "text": [
      "Training Epoch 22: 100%|██████████| 135/135 [08:14<00:00,  3.66s/it]\n"
     ]
    },
    {
     "name": "stdout",
     "output_type": "stream",
     "text": [
      "Testing done in 0.70m.\n",
      "Epoch 22 done in 8.95m. 0.07m/recording.\n",
      "New highest test accuracy: 0.2390, lowest final-layer loss: 2.0164, epoch 22.\n"
     ]
    },
    {
     "name": "stderr",
     "output_type": "stream",
     "text": [
      "Training Epoch 23: 100%|██████████| 135/135 [08:14<00:00,  3.66s/it]\n"
     ]
    },
    {
     "name": "stdout",
     "output_type": "stream",
     "text": [
      "Testing done in 0.68m.\n",
      "Epoch 23 done in 8.92m. 0.07m/recording.\n",
      "New highest test accuracy: 0.2582, lowest final-layer loss: 2.0135, epoch 23.\n"
     ]
    },
    {
     "name": "stderr",
     "output_type": "stream",
     "text": [
      "Training Epoch 24: 100%|██████████| 135/135 [08:15<00:00,  3.67s/it]\n"
     ]
    },
    {
     "name": "stdout",
     "output_type": "stream",
     "text": [
      "Testing done in 0.68m.\n",
      "Epoch 24 done in 8.95m. 0.07m/recording.\n",
      "New highest test accuracy: 0.2055, lowest final-layer loss: 2.0132, epoch 24.\n"
     ]
    },
    {
     "name": "stderr",
     "output_type": "stream",
     "text": [
      "Training Epoch 25: 100%|██████████| 135/135 [08:13<00:00,  3.66s/it]\n"
     ]
    },
    {
     "name": "stdout",
     "output_type": "stream",
     "text": [
      "Testing done in 0.69m.\n",
      "Epoch 25 done in 8.91m. 0.07m/recording.\n",
      "New highest test accuracy: 0.2068, lowest final-layer loss: 2.0203, epoch 25.\n"
     ]
    },
    {
     "name": "stderr",
     "output_type": "stream",
     "text": [
      "Training Epoch 26: 100%|██████████| 135/135 [08:12<00:00,  3.65s/it]\n"
     ]
    },
    {
     "name": "stdout",
     "output_type": "stream",
     "text": [
      "Testing done in 0.68m.\n",
      "Epoch 26 done in 8.89m. 0.07m/recording.\n",
      "New highest test accuracy: 0.2220, lowest final-layer loss: 2.0187, epoch 26.\n"
     ]
    },
    {
     "name": "stderr",
     "output_type": "stream",
     "text": [
      "Training Epoch 27: 100%|██████████| 135/135 [08:14<00:00,  3.66s/it]\n"
     ]
    },
    {
     "name": "stdout",
     "output_type": "stream",
     "text": [
      "Testing done in 0.68m.\n",
      "Epoch 27 done in 8.92m. 0.07m/recording.\n",
      "New highest test accuracy: 0.2684, lowest final-layer loss: 2.0106, epoch 27.\n"
     ]
    },
    {
     "name": "stderr",
     "output_type": "stream",
     "text": [
      "Training Epoch 28: 100%|██████████| 135/135 [08:13<00:00,  3.65s/it]\n"
     ]
    },
    {
     "name": "stdout",
     "output_type": "stream",
     "text": [
      "Testing done in 0.68m.\n",
      "Epoch 28 done in 8.91m. 0.07m/recording.\n"
     ]
    },
    {
     "name": "stderr",
     "output_type": "stream",
     "text": [
      "Training Epoch 29: 100%|██████████| 135/135 [08:13<00:00,  3.65s/it]\n"
     ]
    },
    {
     "name": "stdout",
     "output_type": "stream",
     "text": [
      "Testing done in 0.68m.\n",
      "Epoch 29 done in 8.90m. 0.07m/recording.\n"
     ]
    },
    {
     "name": "stderr",
     "output_type": "stream",
     "text": [
      "Training Epoch 30: 100%|██████████| 135/135 [08:10<00:00,  3.63s/it]\n"
     ]
    },
    {
     "name": "stdout",
     "output_type": "stream",
     "text": [
      "Testing done in 0.68m.\n",
      "Epoch 30 done in 8.86m. 0.07m/recording.\n"
     ]
    },
    {
     "name": "stderr",
     "output_type": "stream",
     "text": [
      "Training Epoch 31: 100%|██████████| 135/135 [08:09<00:00,  3.63s/it]\n"
     ]
    },
    {
     "name": "stdout",
     "output_type": "stream",
     "text": [
      "Testing done in 0.68m.\n",
      "Epoch 31 done in 8.85m. 0.07m/recording.\n"
     ]
    },
    {
     "name": "stderr",
     "output_type": "stream",
     "text": [
      "Training Epoch 32: 100%|██████████| 135/135 [08:10<00:00,  3.64s/it]\n"
     ]
    },
    {
     "name": "stdout",
     "output_type": "stream",
     "text": [
      "Testing done in 0.68m.\n",
      "Epoch 32 done in 8.87m. 0.07m/recording.\n"
     ]
    },
    {
     "name": "stderr",
     "output_type": "stream",
     "text": [
      "Training Epoch 33: 100%|██████████| 135/135 [08:09<00:00,  3.63s/it]\n"
     ]
    },
    {
     "name": "stdout",
     "output_type": "stream",
     "text": [
      "Testing done in 0.72m.\n",
      "Epoch 33 done in 8.88m. 0.07m/recording.\n"
     ]
    },
    {
     "name": "stderr",
     "output_type": "stream",
     "text": [
      "Training Epoch 34: 100%|██████████| 135/135 [08:10<00:00,  3.63s/it]\n"
     ]
    },
    {
     "name": "stdout",
     "output_type": "stream",
     "text": [
      "Testing done in 0.68m.\n",
      "Epoch 34 done in 8.85m. 0.07m/recording.\n"
     ]
    },
    {
     "name": "stderr",
     "output_type": "stream",
     "text": [
      "Training Epoch 35: 100%|██████████| 135/135 [08:12<00:00,  3.65s/it]\n"
     ]
    },
    {
     "name": "stdout",
     "output_type": "stream",
     "text": [
      "Testing done in 0.68m.\n",
      "Epoch 35 done in 8.88m. 0.07m/recording.\n",
      "New highest test accuracy: 0.2804, lowest final-layer loss: 2.0119, epoch 35.\n"
     ]
    },
    {
     "name": "stderr",
     "output_type": "stream",
     "text": [
      "Training Epoch 36: 100%|██████████| 135/135 [08:10<00:00,  3.63s/it]\n"
     ]
    },
    {
     "name": "stdout",
     "output_type": "stream",
     "text": [
      "Testing done in 0.69m.\n",
      "Epoch 36 done in 8.86m. 0.07m/recording.\n"
     ]
    },
    {
     "name": "stderr",
     "output_type": "stream",
     "text": [
      "Training Epoch 37: 100%|██████████| 135/135 [08:12<00:00,  3.65s/it]\n"
     ]
    },
    {
     "name": "stdout",
     "output_type": "stream",
     "text": [
      "Testing done in 0.68m.\n",
      "Epoch 37 done in 8.89m. 0.07m/recording.\n"
     ]
    },
    {
     "name": "stderr",
     "output_type": "stream",
     "text": [
      "Training Epoch 38: 100%|██████████| 135/135 [08:12<00:00,  3.65s/it]\n"
     ]
    },
    {
     "name": "stdout",
     "output_type": "stream",
     "text": [
      "Testing done in 0.69m.\n",
      "Epoch 38 done in 8.89m. 0.07m/recording.\n"
     ]
    },
    {
     "name": "stderr",
     "output_type": "stream",
     "text": [
      "Training Epoch 39: 100%|██████████| 135/135 [08:09<00:00,  3.63s/it]\n"
     ]
    },
    {
     "name": "stdout",
     "output_type": "stream",
     "text": [
      "Testing done in 0.68m.\n",
      "Epoch 39 done in 8.85m. 0.07m/recording.\n",
      "New highest test accuracy: 0.2815, lowest final-layer loss: 2.0155, epoch 39.\n"
     ]
    },
    {
     "name": "stderr",
     "output_type": "stream",
     "text": [
      "Training Epoch 40: 100%|██████████| 135/135 [08:11<00:00,  3.64s/it]\n"
     ]
    },
    {
     "name": "stdout",
     "output_type": "stream",
     "text": [
      "Testing done in 0.67m.\n",
      "Epoch 40 done in 8.86m. 0.07m/recording.\n"
     ]
    },
    {
     "name": "stderr",
     "output_type": "stream",
     "text": [
      "Training Epoch 41: 100%|██████████| 135/135 [08:10<00:00,  3.63s/it]\n"
     ]
    },
    {
     "name": "stdout",
     "output_type": "stream",
     "text": [
      "Testing done in 0.69m.\n",
      "Epoch 41 done in 8.86m. 0.07m/recording.\n"
     ]
    },
    {
     "name": "stderr",
     "output_type": "stream",
     "text": [
      "Training Epoch 42: 100%|██████████| 135/135 [08:11<00:00,  3.64s/it]\n"
     ]
    },
    {
     "name": "stdout",
     "output_type": "stream",
     "text": [
      "Testing done in 0.69m.\n",
      "Epoch 42 done in 8.88m. 0.07m/recording.\n"
     ]
    },
    {
     "name": "stderr",
     "output_type": "stream",
     "text": [
      "Training Epoch 43: 100%|██████████| 135/135 [08:10<00:00,  3.64s/it]\n"
     ]
    },
    {
     "name": "stdout",
     "output_type": "stream",
     "text": [
      "Testing done in 0.68m.\n",
      "Epoch 43 done in 8.86m. 0.07m/recording.\n"
     ]
    },
    {
     "name": "stderr",
     "output_type": "stream",
     "text": [
      "Training Epoch 44: 100%|██████████| 135/135 [08:10<00:00,  3.63s/it]\n"
     ]
    },
    {
     "name": "stdout",
     "output_type": "stream",
     "text": [
      "Testing done in 0.68m.\n",
      "Epoch 44 done in 8.85m. 0.07m/recording.\n"
     ]
    },
    {
     "name": "stderr",
     "output_type": "stream",
     "text": [
      "Training Epoch 45: 100%|██████████| 135/135 [08:12<00:00,  3.65s/it]\n"
     ]
    },
    {
     "name": "stdout",
     "output_type": "stream",
     "text": [
      "Testing done in 0.68m.\n",
      "Epoch 45 done in 8.89m. 0.07m/recording.\n"
     ]
    },
    {
     "name": "stderr",
     "output_type": "stream",
     "text": [
      "Training Epoch 46: 100%|██████████| 135/135 [08:10<00:00,  3.64s/it]\n"
     ]
    },
    {
     "name": "stdout",
     "output_type": "stream",
     "text": [
      "Testing done in 0.69m.\n",
      "Epoch 46 done in 8.87m. 0.07m/recording.\n"
     ]
    },
    {
     "name": "stderr",
     "output_type": "stream",
     "text": [
      "Training Epoch 47: 100%|██████████| 135/135 [08:10<00:00,  3.63s/it]\n"
     ]
    },
    {
     "name": "stdout",
     "output_type": "stream",
     "text": [
      "Testing done in 0.69m.\n",
      "Epoch 47 done in 8.85m. 0.07m/recording.\n"
     ]
    },
    {
     "name": "stderr",
     "output_type": "stream",
     "text": [
      "Training Epoch 48: 100%|██████████| 135/135 [08:10<00:00,  3.63s/it]\n"
     ]
    },
    {
     "name": "stdout",
     "output_type": "stream",
     "text": [
      "Testing done in 0.68m.\n",
      "Epoch 48 done in 8.86m. 0.07m/recording.\n"
     ]
    },
    {
     "name": "stderr",
     "output_type": "stream",
     "text": [
      "Training Epoch 49: 100%|██████████| 135/135 [08:08<00:00,  3.62s/it]\n"
     ]
    },
    {
     "name": "stdout",
     "output_type": "stream",
     "text": [
      "Testing done in 0.69m.\n",
      "Epoch 49 done in 8.84m. 0.07m/recording.\n"
     ]
    },
    {
     "name": "stderr",
     "output_type": "stream",
     "text": [
      "Training Epoch 50: 100%|██████████| 135/135 [08:09<00:00,  3.63s/it]\n"
     ]
    },
    {
     "name": "stdout",
     "output_type": "stream",
     "text": [
      "Testing done in 0.68m.\n",
      "Epoch 50 done in 8.85m. 0.07m/recording.\n",
      "Early stopping at epoch 50. Highest top10 at epoch 39.\n",
      "\n",
      "\n",
      "Training completed. Highest epoch at 39.\n",
      "\n",
      "\n",
      "unseen_subject: Acc: 0.2800, Top5: 0.5210, Top10: 0.6225\n",
      "Loss: 7.6272, Mel: 5.6096, Clip: 9.2374, MSE: 0.1680, CosSim: 0.0000\n",
      "FinLayer Clip: 8.5801, MSE: 0.5510, CosSim: 0.2029, MMD: 0.0000, Total: 2.0176\n",
      "FinLayer Acc: 0.2140, FinLayer Top5: 0.4450, FinLayer Top10: 0.5410\n",
      "\n",
      "\n",
      "unseen_task: Acc: 0.2945, Top5: 0.5537, Top10: 0.6697\n",
      "Loss: 7.6062, Mel: 5.5972, Clip: 9.2150, MSE: 0.1704, CosSim: 0.0000\n",
      "FinLayer Clip: 8.5422, MSE: 0.5499, CosSim: 0.2016, MMD: 0.0000, Total: 2.0090\n",
      "FinLayer Acc: 0.2420, FinLayer Top5: 0.4944, FinLayer Top10: 0.6202\n",
      "\n",
      "\n",
      "unseen_both: Acc: 0.2700, Top5: 0.4562, Top10: 0.5550\n",
      "Loss: 7.6400, Mel: 5.6201, Clip: 9.2540, MSE: 0.1694, CosSim: 0.0000\n",
      "FinLayer Clip: 8.5884, MSE: 0.5520, CosSim: 0.2034, MMD: 0.0000, Total: 2.0198\n",
      "FinLayer Acc: 0.1925, FinLayer Top5: 0.3987, FinLayer Top10: 0.5000\n"
     ]
    }
   ],
   "source": [
    "import torch\n",
    "import gc\n",
    "import logging\n",
    "\n",
    "# del session.logger\n",
    "# del session.epoch_logger\n",
    "# del session\n",
    "# gc.collect()\n",
    "# torch.cuda.empty_cache()\n",
    "\n",
    "import multiprocessing\n",
    "from train.training_session_v1 import TrainingSessionV1\n",
    "from config import TrainingConfigV1\n",
    "from config import SimpleConvConfig\n",
    "\n",
    "data_partition = {\n",
    "    \"gwilliams2023\": {\n",
    "        \"testing_subjects\": [19, 20, 21],\n",
    "        \"testing_tasks\": [0],\n",
    "    },\n",
    "    # \"armeini2022\": {\n",
    "    #     \"testing_subjects\": [],\n",
    "    #     \"testing_tasks\": [8, 9],\n",
    "    # },\n",
    "}\n",
    "\n",
    "model_config = SimpleConvConfig(\n",
    "    # Str to list of possible conditions\n",
    "    mel_normalization=False,\n",
    "    conditions={\n",
    "        \"study\": [],\n",
    "        \"subject\": [],\n",
    "    },\n",
    "    # Channels\n",
    "    in_channels=208,\n",
    "    out_channels=80,\n",
    "    hidden_dim=256,\n",
    "    dropout=0.2,\n",
    "    initial_batch_norm=True,\n",
    "    # Sensor layout settings\n",
    "    layout_dim=2,\n",
    "    layout_proj=True,\n",
    "    layout_scaling=\"minmax\",\n",
    "    # Merger with spatial attn\n",
    "    merger=False,\n",
    "    merger_emb_type=None,\n",
    "    merger_emb_dim=0,\n",
    "    merger_channels=0,\n",
    "    merger_dropout=0.0,  # Float\n",
    "    merger_conditional=None,\n",
    "    # Inital\n",
    "    initial_linear=256,\n",
    "    initial_depth=1,\n",
    "    # Conditional layers\n",
    "    conditional_layers=False,\n",
    "    conditional_layers_dim=None,  # input or hidden_dim\n",
    "    # Conv layer overall structure\n",
    "    depth=4,\n",
    "    kernel_size=3,\n",
    "    growth=1.0,\n",
    "    dilation_growth=2,\n",
    "    dilation_period=5,\n",
    "    glu=1,\n",
    "    conv_dropout=0.2,\n",
    "    dropout_input=0.1,\n",
    "    batch_norm=True,\n",
    "    half=True,\n",
    "    cnn_pos_encoding=False,\n",
    "    # Quantizer\n",
    "    quantizer=False,\n",
    "    num_codebooks=0,\n",
    "    codebook_size=0,\n",
    "    quantizer_commitment=0,\n",
    "    quantizer_temp_init=0,\n",
    "    quantizer_temp_min=0,\n",
    "    quantizer_temp_decay=0,\n",
    "    # Transformers Encoders\n",
    "    transformer_input=\"continuous\",\n",
    "    transformer_encoder_emb=\"sinusoidal\",\n",
    "    transformer_encoder_layers=4,\n",
    "    transformer_encoder_heads=4,\n",
    "    # Conformer encoder variant\n",
    "    rnn_type=\"conformer\",\n",
    "    depthwise_conv_kernel_size=15,\n",
    "    use_group_norm=False,\n",
    "    convolution_first=False,\n",
    "    # Transformer Decoders\n",
    "    transformer_decoder_emb=None,\n",
    "    transformer_decoder_layers=0,\n",
    "    transformer_decoder_heads=0,\n",
    "    transformer_decoder_dim=0,\n",
    ")\n",
    "\n",
    "config = TrainingConfigV1(\n",
    "    brain_encoder_config=model_config,\n",
    "    data_partition=data_partition,\n",
    "    # Ada lora settings\n",
    "    # Around 100k total batches an epoch for gwilliams\n",
    "    adalora_init_r=12,\n",
    "    adalora_target_r=4,\n",
    "    adalora_tinit=(450 * 3),  # 5% total steps\n",
    "    adalora_tfinal=(450 * 8),  # 50-80% total steps\n",
    "    adalora_deltaT=(450* 1),  # 1-5% total steps\n",
    "    adalora_lora_alpha=32,\n",
    "    adalora_lora_dropout=0.1,\n",
    "    adalora_total_step=(450 * 50),\n",
    "    # Pre-processing parameters\n",
    "    # Brain\n",
    "    new_freq=200,\n",
    "    frequency_bands={\"all\": (0.5, 80)},\n",
    "    max_random_shift=1.0,\n",
    "    window_size=4,\n",
    "    window_stride=1,\n",
    "    brain_clipping=None,\n",
    "    baseline_window=0.5,\n",
    "    notch_filter=True,\n",
    "    scaling=\"both\",\n",
    "    delay=0.15,\n",
    "    # Audio\n",
    "    audio_model=\"openai/whisper-tiny.en\",\n",
    "    # Hyperparameters\n",
    "    learning_rate=1e-4,\n",
    "    weight_decay=1e-4,\n",
    "    epochs=50,\n",
    "    steps_per_epoch = 450,\n",
    "    batch_size=128,\n",
    "    random_test_size=10,\n",
    "    seed=42,\n",
    "    mel_alignment_objectives={\n",
    "        \"clip_loss\": 0.6,\n",
    "        \"mse_loss\": 0.4,\n",
    "        \"commitment_loss\": 0.0,\n",
    "        \"cosine_similarity\": 0.0,\n",
    "    },\n",
    "    latent_alignment_objectives={\n",
    "        \"cosine_similarity\":0.4,\n",
    "        \"mse_loss\": 0.4,\n",
    "        \"clip_loss\": 0.2,\n",
    "        \"mmd_loss\": 0.0,\n",
    "    },\n",
    "    latent_alignment_layers=[-1],\n",
    ")\n",
    "\n",
    "config.brain_encoder_config.mel_normalization = False\n",
    "config.learning_rate = 3e-4\n",
    "config.batch_size = 256\n",
    "config.steps_per_epoch = 450\n",
    "\n",
    "session = TrainingSessionV1(\n",
    "    config=config,\n",
    "    studies={study: \"audio\" for study in data_partition.keys()},\n",
    "    data_path=\"/home/ubuntu/storage-texas/data\",\n",
    "    save_path=\"saves/phase2/architecture/task/transformers/4C4Con_d256\",\n",
    "    clear_cache=False,\n",
    "    cache_name=\"cache\",\n",
    "    download_studies=False,\n",
    ")\n",
    "\n",
    "try:\n",
    "    session.train(\n",
    "        device=\"cuda\",\n",
    "        buffer_size=30,\n",
    "        num_workers=(multiprocessing.cpu_count() - 2),\n",
    "        max_cache_size=400,\n",
    "        current_epoch=0,\n",
    "    )\n",
    "except KeyboardInterrupt as e:\n",
    "    print(\"Exited\")\n",
    "\n",
    "# try:\n",
    "#     session.pre_process_all_recordings(\n",
    "#         buffer_size=30, num_workers=multiprocessing.cpu_count() - 2, max_cache_size=400\n",
    "#     )\n",
    "# except KeyboardInterrupt as e:\n",
    "#     print(\"Exited\")"
   ]
  },
  {
   "cell_type": "code",
   "execution_count": null,
   "metadata": {},
   "outputs": [
    {
     "name": "stdout",
     "output_type": "stream",
     "text": [
      "Loading Gwilliams2023 with batch type audio\n",
      "Data partitioned on studies ['gwilliams2023'].\n",
      "Train: 135, Unseen Task: 12, Unseen Subject: 45, Unseen Both: 4.\n",
      "\n",
      "RNNEncoder initialized as conformer with 4 layers, 256 d_model, 4 nhead\n",
      "\tEmbedding: sinusoidal, params: 6075392\n",
      "SimpleConv initialized with 8927984 parameters, cond: ['study', 'subject']\n",
      "Merger False, merger channels 0\n",
      "ConvBlocks: 4, hidden_dim: 256, params 2626048\n",
      "Found 24 target modules for AdaLora: ['k_proj', 'q_proj', 'v_proj', 'out_proj', 'fc1', 'fc2']\n",
      "openai/whisper-tiny.en loaded with 8540472 frozen params (4 layers and 384 dim).\n",
      "AdaLora has 332064 trainable params.\n"
     ]
    },
    {
     "name": "stderr",
     "output_type": "stream",
     "text": [
      "Training Epoch 1: 100%|██████████| 135/135 [08:28<00:00,  3.77s/it]\n"
     ]
    },
    {
     "name": "stdout",
     "output_type": "stream",
     "text": [
      "Testing done in 0.70m.\n",
      "Epoch 1 done in 9.17m. 0.07m/recording.\n",
      "New highest test accuracy: 0.0125, lowest final-layer loss: 2.1987, epoch 1.\n"
     ]
    },
    {
     "name": "stderr",
     "output_type": "stream",
     "text": [
      "Training Epoch 2: 100%|██████████| 135/135 [08:14<00:00,  3.66s/it]\n"
     ]
    },
    {
     "name": "stdout",
     "output_type": "stream",
     "text": [
      "Testing done in 0.70m.\n",
      "Epoch 2 done in 8.94m. 0.07m/recording.\n",
      "New highest test accuracy: 0.0315, lowest final-layer loss: 2.0982, epoch 2.\n"
     ]
    },
    {
     "name": "stderr",
     "output_type": "stream",
     "text": [
      "Training Epoch 3:  13%|█▎        | 18/135 [01:29<07:28,  3.84s/it] "
     ]
    }
   ],
   "source": [
    "import torch\n",
    "import gc\n",
    "import logging\n",
    "\n",
    "del session.logger\n",
    "del session.epoch_logger\n",
    "del session\n",
    "gc.collect()\n",
    "torch.cuda.empty_cache()\n",
    "\n",
    "import multiprocessing\n",
    "from train.training_session_v1 import TrainingSessionV1\n",
    "from config import TrainingConfigV1\n",
    "from config import SimpleConvConfig\n",
    "\n",
    "data_partition = {\n",
    "    \"gwilliams2023\": {\n",
    "        \"testing_subjects\": [19, 20, 21],\n",
    "        \"testing_tasks\": [0],\n",
    "    },\n",
    "    # \"armeini2022\": {\n",
    "    #     \"testing_subjects\": [],\n",
    "    #     \"testing_tasks\": [8, 9],\n",
    "    # },\n",
    "}\n",
    "\n",
    "model_config = SimpleConvConfig(\n",
    "    # Str to list of possible conditions\n",
    "    mel_normalization=False,\n",
    "    conditions={\n",
    "        \"study\": [],\n",
    "        \"subject\": [],\n",
    "    },\n",
    "    # Channels\n",
    "    in_channels=208,\n",
    "    out_channels=80,\n",
    "    hidden_dim=256,\n",
    "    dropout=0.2,\n",
    "    initial_batch_norm=True,\n",
    "    # Sensor layout settings\n",
    "    layout_dim=2,\n",
    "    layout_proj=True,\n",
    "    layout_scaling=\"minmax\",\n",
    "    # Merger with spatial attn\n",
    "    merger=False,\n",
    "    merger_emb_type=None,\n",
    "    merger_emb_dim=0,\n",
    "    merger_channels=0,\n",
    "    merger_dropout=0.0,  # Float\n",
    "    merger_conditional=None,\n",
    "    # Inital\n",
    "    initial_linear=256,\n",
    "    initial_depth=1,\n",
    "    # Conditional layers\n",
    "    conditional_layers=False,\n",
    "    conditional_layers_dim=None,  # input or hidden_dim\n",
    "    # Conv layer overall structure\n",
    "    depth=4,\n",
    "    kernel_size=3,\n",
    "    growth=1.0,\n",
    "    dilation_growth=2,\n",
    "    dilation_period=5,\n",
    "    glu=1,\n",
    "    conv_dropout=0.3,\n",
    "    dropout_input=0.2,\n",
    "    batch_norm=True,\n",
    "    half=True,\n",
    "    cnn_pos_encoding=False,\n",
    "    # Quantizer\n",
    "    quantizer=False,\n",
    "    num_codebooks=0,\n",
    "    codebook_size=0,\n",
    "    quantizer_commitment=0,\n",
    "    quantizer_temp_init=0,\n",
    "    quantizer_temp_min=0,\n",
    "    quantizer_temp_decay=0,\n",
    "    # Transformers Encoders\n",
    "    transformer_input=\"continuous\",\n",
    "    transformer_encoder_emb=\"sinusoidal\",\n",
    "    transformer_encoder_layers=4,\n",
    "    transformer_encoder_heads=4,\n",
    "    # Conformer encoder variant\n",
    "    rnn_type=\"conformer\",\n",
    "    depthwise_conv_kernel_size=15,\n",
    "    use_group_norm=False,\n",
    "    convolution_first=False,\n",
    "    # Transformer Decoders\n",
    "    transformer_decoder_emb=None,\n",
    "    transformer_decoder_layers=0,\n",
    "    transformer_decoder_heads=0,\n",
    "    transformer_decoder_dim=0,\n",
    ")\n",
    "\n",
    "config = TrainingConfigV1(\n",
    "    brain_encoder_config=model_config,\n",
    "    data_partition=data_partition,\n",
    "    # Ada lora settings\n",
    "    # Around 100k total batches an epoch for gwilliams\n",
    "    adalora_init_r=12,\n",
    "    adalora_target_r=4,\n",
    "    adalora_tinit=(450 * 3),  # 5% total steps\n",
    "    adalora_tfinal=(450 * 8),  # 50-80% total steps\n",
    "    adalora_deltaT=(450* 1),  # 1-5% total steps\n",
    "    adalora_lora_alpha=32,\n",
    "    adalora_lora_dropout=0.1,\n",
    "    adalora_total_step=(450 * 50),\n",
    "    # Pre-processing parameters\n",
    "    # Brain\n",
    "    new_freq=200,\n",
    "    frequency_bands={\"all\": (0.5, 80)},\n",
    "    max_random_shift=1.0,\n",
    "    window_size=4,\n",
    "    window_stride=1,\n",
    "    brain_clipping=None,\n",
    "    baseline_window=0.5,\n",
    "    notch_filter=True,\n",
    "    scaling=\"both\",\n",
    "    delay=0.15,\n",
    "    # Audio\n",
    "    audio_model=\"openai/whisper-tiny.en\",\n",
    "    # Hyperparameters\n",
    "    learning_rate=1e-4,\n",
    "    weight_decay=1e-4,\n",
    "    epochs=50,\n",
    "    steps_per_epoch = 450,\n",
    "    batch_size=128,\n",
    "    random_test_size=10,\n",
    "    seed=42,\n",
    "    mel_alignment_objectives={\n",
    "        \"clip_loss\": 0.6,\n",
    "        \"mse_loss\": 0.4,\n",
    "        \"commitment_loss\": 0.0,\n",
    "        \"cosine_similarity\": 0.0,\n",
    "    },\n",
    "    latent_alignment_objectives={\n",
    "        \"cosine_similarity\":0.4,\n",
    "        \"mse_loss\": 0.4,\n",
    "        \"clip_loss\": 0.2,\n",
    "        \"mmd_loss\": 0.0,\n",
    "    },\n",
    "    latent_alignment_layers=[-1],\n",
    ")\n",
    "\n",
    "config.brain_encoder_config.mel_normalization = False\n",
    "config.learning_rate = 3e-4\n",
    "config.batch_size = 256\n",
    "config.steps_per_epoch = 450\n",
    "\n",
    "session = TrainingSessionV1(\n",
    "    config=config,\n",
    "    studies={study: \"audio\" for study in data_partition.keys()},\n",
    "    data_path=\"/home/ubuntu/storage-texas/data\",\n",
    "    save_path=\"saves/phase2/architecture/task/transformers/4C4Con_d256_higher_drop\",\n",
    "    clear_cache=False,\n",
    "    cache_name=\"cache\",\n",
    "    download_studies=False,\n",
    ")\n",
    "\n",
    "try:\n",
    "    session.train(\n",
    "        device=\"cuda\",\n",
    "        buffer_size=30,\n",
    "        num_workers=(multiprocessing.cpu_count() - 2),\n",
    "        max_cache_size=400,\n",
    "        current_epoch=0,\n",
    "    )\n",
    "except KeyboardInterrupt as e:\n",
    "    print(\"Exited\")\n",
    "\n",
    "# try:\n",
    "#     session.pre_process_all_recordings(\n",
    "#         buffer_size=30, num_workers=multiprocessing.cpu_count() - 2, max_cache_size=400\n",
    "#     )\n",
    "# except KeyboardInterrupt as e:\n",
    "#     print(\"Exited\")"
   ]
  },
  {
   "cell_type": "code",
   "execution_count": null,
   "metadata": {},
   "outputs": [],
   "source": [
    "# for name, param in session.model.encoder.named_parameters():\n",
    "#     if \"lora_A\" in name or \"lora_B\" in name or \"lora_E\" in name:\n",
    "#         print(name)"
   ]
  },
  {
   "cell_type": "code",
   "execution_count": null,
   "metadata": {},
   "outputs": [],
   "source": [
    "# import time\n",
    "\n",
    "# dataloader = session.get_dataloader(buffer_size=30, num_workers=24, max_cache_size=400)\n",
    "# dataloader.start_fetching(session.dataset[\"train\"], cache=True)\n",
    "\n",
    "# # Process batches as they become available\n",
    "# try:\n",
    "#     batches, recs, start_time = 0, 0, time.time()\n",
    "#     print(f\"Total recordings: {len(session.dataset['train'])}\")\n",
    "\n",
    "#     while True:\n",
    "#         batch = dataloader.get_recording()\n",
    "\n",
    "#         if batch is None:\n",
    "#             break\n",
    "\n",
    "#         brain = batch.brain_segments[\"all\"]\n",
    "#         batches += brain.shape[0]\n",
    "#         recs += 1\n",
    "\n",
    "#         if recs % 10 == 0:\n",
    "#             print(f'Processed {recs} recordings of {len(session.dataset[\"train\"])}')\n",
    "\n",
    "#     print(\n",
    "#         f\"Batch {batches} ({recs} recordings) processed in {time.time() - start_time:.2f}s\"\n",
    "#     )\n",
    "#     print(\n",
    "#         f\"Average processing time per recording: {(time.time() - start_time) / recs:.2f}s\"\n",
    "#     )\n",
    "#     print(\n",
    "#         f\"Average processing time per batch: {(time.time() - start_time) / batches:.2f}s\"\n",
    "#     )\n",
    "\n",
    "# except KeyboardInterrupt:\n",
    "#     print(\"Interrupted\")\n",
    "#     dataloader.stop()\n",
    "# except Exception as e:\n",
    "#     print(\"Error\", e)\n",
    "#     dataloader.stop()"
   ]
  },
  {
   "cell_type": "code",
   "execution_count": null,
   "metadata": {},
   "outputs": [],
   "source": []
  }
 ],
 "metadata": {
  "kernelspec": {
   "display_name": "brain",
   "language": "python",
   "name": "brain"
  },
  "language_info": {
   "codemirror_mode": {
    "name": "ipython",
    "version": 3
   },
   "file_extension": ".py",
   "mimetype": "text/x-python",
   "name": "python",
   "nbconvert_exporter": "python",
   "pygments_lexer": "ipython3",
   "version": "3.11.7"
  }
 },
 "nbformat": 4,
 "nbformat_minor": 4
}
