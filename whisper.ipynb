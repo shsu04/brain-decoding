{
 "cells": [
  {
   "cell_type": "code",
   "execution_count": null,
   "metadata": {},
   "outputs": [
    {
     "name": "stdout",
     "output_type": "stream",
     "text": [
      "Loading Gwilliams2023 with batch type audio\n",
      "Data partitioned on studies ['gwilliams2023'].\n",
      "Train: 135, Unseen Task: 12, Unseen Subject: 45, Unseen Both: 4.\n",
      "\n",
      "SimpleConv initialized with 9295984 parameters, cond: ['study', 'subject']\n",
      "Merger False, merger channels 0\n",
      "ConvBlocks: 6, hidden_dim: 384, params 8858112\n",
      "Found 24 target modules for AdaLora: ['k_proj', 'q_proj', 'v_proj', 'out_proj', 'fc1', 'fc2']\n",
      "openai/whisper-tiny.en loaded with 8540472 frozen params (4 layers and 384 dim).\n",
      "AdaLora has 332064 trainable params.\n"
     ]
    },
    {
     "name": "stderr",
     "output_type": "stream",
     "text": [
      "2025-02-08 13:42:44,175\tINFO worker.py:1841 -- Started a local Ray instance.\n",
      "Training Epoch 1:  90%|████████▉ | 121/135 [08:43<00:42,  3.02s/it]"
     ]
    },
    {
     "name": "stdout",
     "output_type": "stream",
     "text": [
      "Starting rank reallocation at step 400.\n"
     ]
    },
    {
     "name": "stderr",
     "output_type": "stream",
     "text": [
      "Training Epoch 1: 100%|██████████| 135/135 [09:32<00:00,  4.24s/it]\n"
     ]
    },
    {
     "name": "stdout",
     "output_type": "stream",
     "text": [
      "Testing completed in 0.85m.\n",
      "Epoch 1 completed in 10.41m. 0.08m per recording.\n",
      "New highest average test accuracy: 0.0439, lowest FinLayer total loss: 1.3962 at epoch 1.\n"
     ]
    },
    {
     "name": "stderr",
     "output_type": "stream",
     "text": [
      "Training Epoch 2: 100%|██████████| 135/135 [09:14<00:00,  4.10s/it]\n"
     ]
    },
    {
     "name": "stdout",
     "output_type": "stream",
     "text": [
      "Testing completed in 0.84m.\n",
      "Epoch 2 completed in 10.08m. 0.07m per recording.\n"
     ]
    },
    {
     "name": "stderr",
     "output_type": "stream",
     "text": [
      "Training Epoch 3: 100%|██████████| 135/135 [09:15<00:00,  4.11s/it]\n"
     ]
    },
    {
     "name": "stdout",
     "output_type": "stream",
     "text": [
      "Testing completed in 0.86m.\n",
      "Epoch 3 completed in 10.11m. 0.07m per recording.\n",
      "New highest average test accuracy: 0.0985, lowest FinLayer total loss: 1.3473 at epoch 3.\n"
     ]
    },
    {
     "name": "stderr",
     "output_type": "stream",
     "text": [
      "Training Epoch 4: 100%|██████████| 135/135 [09:11<00:00,  4.09s/it]\n"
     ]
    },
    {
     "name": "stdout",
     "output_type": "stream",
     "text": [
      "Testing completed in 0.83m.\n",
      "Epoch 4 completed in 10.03m. 0.07m per recording.\n",
      "New highest average test accuracy: 0.1271, lowest FinLayer total loss: 1.2363 at epoch 4.\n"
     ]
    },
    {
     "name": "stderr",
     "output_type": "stream",
     "text": [
      "Training Epoch 5: 100%|██████████| 135/135 [09:13<00:00,  4.10s/it]\n"
     ]
    },
    {
     "name": "stdout",
     "output_type": "stream",
     "text": [
      "Testing completed in 0.85m.\n",
      "Epoch 5 completed in 10.07m. 0.07m per recording.\n"
     ]
    },
    {
     "name": "stderr",
     "output_type": "stream",
     "text": [
      "Training Epoch 6: 100%|██████████| 135/135 [09:13<00:00,  4.10s/it]\n"
     ]
    },
    {
     "name": "stdout",
     "output_type": "stream",
     "text": [
      "Testing completed in 0.85m.\n",
      "Epoch 6 completed in 10.08m. 0.07m per recording.\n",
      "New highest average test accuracy: 0.1162, lowest FinLayer total loss: 1.1017 at epoch 6.\n"
     ]
    },
    {
     "name": "stderr",
     "output_type": "stream",
     "text": [
      "Training Epoch 7: 100%|██████████| 135/135 [09:11<00:00,  4.09s/it]\n"
     ]
    },
    {
     "name": "stdout",
     "output_type": "stream",
     "text": [
      "Testing completed in 0.85m.\n",
      "Epoch 7 completed in 10.04m. 0.07m per recording.\n",
      "New highest average test accuracy: 0.0933, lowest FinLayer total loss: 1.0594 at epoch 7.\n"
     ]
    },
    {
     "name": "stderr",
     "output_type": "stream",
     "text": [
      "Training Epoch 8: 100%|██████████| 135/135 [09:15<00:00,  4.12s/it]\n"
     ]
    },
    {
     "name": "stdout",
     "output_type": "stream",
     "text": [
      "Testing completed in 0.85m.\n",
      "Epoch 8 completed in 10.11m. 0.07m per recording.\n",
      "New highest average test accuracy: 0.1457, lowest FinLayer total loss: 1.0576 at epoch 8.\n"
     ]
    },
    {
     "name": "stderr",
     "output_type": "stream",
     "text": [
      "Training Epoch 9: 100%|██████████| 135/135 [09:11<00:00,  4.09s/it]\n"
     ]
    },
    {
     "name": "stdout",
     "output_type": "stream",
     "text": [
      "Testing completed in 0.86m.\n",
      "Epoch 9 completed in 10.05m. 0.07m per recording.\n",
      "New highest average test accuracy: 0.1683, lowest FinLayer total loss: 1.1086 at epoch 9.\n"
     ]
    },
    {
     "name": "stderr",
     "output_type": "stream",
     "text": [
      "Training Epoch 10: 100%|██████████| 135/135 [09:12<00:00,  4.09s/it]\n"
     ]
    },
    {
     "name": "stdout",
     "output_type": "stream",
     "text": [
      "Testing completed in 0.87m.\n",
      "Epoch 10 completed in 10.08m. 0.07m per recording.\n"
     ]
    },
    {
     "name": "stderr",
     "output_type": "stream",
     "text": [
      "Training Epoch 11: 100%|██████████| 135/135 [09:12<00:00,  4.09s/it]\n"
     ]
    },
    {
     "name": "stdout",
     "output_type": "stream",
     "text": [
      "Testing completed in 0.85m.\n",
      "Epoch 11 completed in 10.05m. 0.07m per recording.\n",
      "New highest average test accuracy: 0.2038, lowest FinLayer total loss: 1.0225 at epoch 11.\n"
     ]
    },
    {
     "name": "stderr",
     "output_type": "stream",
     "text": [
      "Training Epoch 12: 100%|██████████| 135/135 [09:11<00:00,  4.09s/it]\n"
     ]
    },
    {
     "name": "stdout",
     "output_type": "stream",
     "text": [
      "Testing completed in 0.84m.\n",
      "Epoch 12 completed in 10.03m. 0.07m per recording.\n"
     ]
    },
    {
     "name": "stderr",
     "output_type": "stream",
     "text": [
      "Training Epoch 13: 100%|██████████| 135/135 [09:13<00:00,  4.10s/it]\n"
     ]
    },
    {
     "name": "stdout",
     "output_type": "stream",
     "text": [
      "Testing completed in 0.84m.\n",
      "Epoch 13 completed in 10.07m. 0.07m per recording.\n",
      "New highest average test accuracy: 0.1920, lowest FinLayer total loss: 1.0122 at epoch 13.\n"
     ]
    },
    {
     "name": "stderr",
     "output_type": "stream",
     "text": [
      "Training Epoch 14: 100%|██████████| 135/135 [09:14<00:00,  4.10s/it]\n"
     ]
    },
    {
     "name": "stdout",
     "output_type": "stream",
     "text": [
      "Testing completed in 0.92m.\n",
      "Epoch 14 completed in 10.16m. 0.08m per recording.\n",
      "New highest average test accuracy: 0.1704, lowest FinLayer total loss: 0.9933 at epoch 14.\n"
     ]
    },
    {
     "name": "stderr",
     "output_type": "stream",
     "text": [
      "Training Epoch 15: 100%|██████████| 135/135 [09:18<00:00,  4.13s/it]\n"
     ]
    },
    {
     "name": "stdout",
     "output_type": "stream",
     "text": [
      "Testing completed in 0.85m.\n",
      "Epoch 15 completed in 10.16m. 0.08m per recording.\n",
      "New highest average test accuracy: 0.2060, lowest FinLayer total loss: 0.9642 at epoch 15.\n"
     ]
    },
    {
     "name": "stderr",
     "output_type": "stream",
     "text": [
      "Training Epoch 16: 100%|██████████| 135/135 [09:17<00:00,  4.13s/it]\n"
     ]
    },
    {
     "name": "stdout",
     "output_type": "stream",
     "text": [
      "Testing completed in 0.85m.\n",
      "Epoch 16 completed in 10.15m. 0.08m per recording.\n",
      "New highest average test accuracy: 0.2134, lowest FinLayer total loss: 0.9591 at epoch 16.\n"
     ]
    },
    {
     "name": "stderr",
     "output_type": "stream",
     "text": [
      "Training Epoch 17: 100%|██████████| 135/135 [09:16<00:00,  4.12s/it]\n"
     ]
    },
    {
     "name": "stdout",
     "output_type": "stream",
     "text": [
      "Testing completed in 0.87m.\n",
      "Epoch 17 completed in 10.15m. 0.08m per recording.\n"
     ]
    },
    {
     "name": "stderr",
     "output_type": "stream",
     "text": [
      "Training Epoch 18: 100%|██████████| 135/135 [09:17<00:00,  4.13s/it]\n"
     ]
    },
    {
     "name": "stdout",
     "output_type": "stream",
     "text": [
      "Testing completed in 0.85m.\n",
      "Epoch 18 completed in 10.14m. 0.08m per recording.\n",
      "New highest average test accuracy: 0.2050, lowest FinLayer total loss: 0.9572 at epoch 18.\n"
     ]
    },
    {
     "name": "stderr",
     "output_type": "stream",
     "text": [
      "Training Epoch 19: 100%|██████████| 135/135 [09:19<00:00,  4.15s/it]\n"
     ]
    },
    {
     "name": "stdout",
     "output_type": "stream",
     "text": [
      "Testing completed in 0.86m.\n",
      "Epoch 19 completed in 10.19m. 0.08m per recording.\n",
      "New highest average test accuracy: 0.2357, lowest FinLayer total loss: 0.9813 at epoch 19.\n"
     ]
    },
    {
     "name": "stderr",
     "output_type": "stream",
     "text": [
      "Training Epoch 20: 100%|██████████| 135/135 [09:18<00:00,  4.14s/it]\n"
     ]
    },
    {
     "name": "stdout",
     "output_type": "stream",
     "text": [
      "Testing completed in 0.86m.\n",
      "Epoch 20 completed in 10.17m. 0.08m per recording.\n"
     ]
    },
    {
     "name": "stderr",
     "output_type": "stream",
     "text": [
      "Training Epoch 21:  68%|██████▊   | 92/135 [06:45<03:09,  4.41s/it] Exception ignored in: <bound method IPythonKernel._clean_thread_parent_frames of <ipykernel.ipkernel.IPythonKernel object at 0x76868fa01b10>>\n",
      "Traceback (most recent call last):\n",
      "  File \"/home/ubuntu/miniconda3/envs/brain/lib/python3.11/site-packages/ipykernel/ipkernel.py\", line 775, in _clean_thread_parent_frames\n",
      "    def _clean_thread_parent_frames(\n",
      "\n",
      "KeyboardInterrupt: \n",
      "Training Epoch 21:  76%|███████▋  | 103/135 [07:35<02:27,  4.61s/it]"
     ]
    }
   ],
   "source": [
    "# import torch\n",
    "# import gc\n",
    "\n",
    "# del session.logger\n",
    "# del session\n",
    "# gc.collect()\n",
    "# torch.cuda.empty_cache()\n",
    "\n",
    "import multiprocessing\n",
    "from train.training_session_v1 import TrainingSessionV1\n",
    "from config import TrainingConfigV1\n",
    "from config import SimpleConvConfig\n",
    "\n",
    "data_partition = {\n",
    "    \"gwilliams2023\": {\n",
    "        \"testing_subjects\": [19, 20, 21],\n",
    "        \"testing_tasks\": [0],\n",
    "    },\n",
    "    # \"armeini2022\": {\n",
    "    #     \"testing_subjects\": [],\n",
    "    #     \"testing_tasks\": [8, 9],\n",
    "    # },\n",
    "}\n",
    "\n",
    "model_config = SimpleConvConfig(\n",
    "    # Str to list of possible conditions\n",
    "    mel_normalization=False,\n",
    "    conditions={\n",
    "        \"study\": [],\n",
    "        \"subject\": [],\n",
    "    },\n",
    "    # Channels\n",
    "    in_channels=208,\n",
    "    out_channels=80,\n",
    "    hidden_dim=384,\n",
    "    dropout=0.2,\n",
    "    initial_batch_norm=True,\n",
    "    # Sensor layout settings\n",
    "    layout_dim=2,\n",
    "    layout_proj=True,\n",
    "    layout_scaling=\"minmax\",\n",
    "    # Merger with spatial attn\n",
    "    merger=False,\n",
    "    merger_emb_type=None,\n",
    "    merger_emb_dim=0,\n",
    "    merger_channels=0,\n",
    "    merger_dropout=0.0,  # Float\n",
    "    merger_conditional=None,\n",
    "    # Inital\n",
    "    initial_linear=384,\n",
    "    initial_depth=1,\n",
    "    # Conditional layers\n",
    "    conditional_layers=False,\n",
    "    conditional_layers_dim=None,  # input or hidden_dim\n",
    "    # Conv layer overall structure\n",
    "    depth=6,\n",
    "    kernel_size=3,\n",
    "    growth=1.0,\n",
    "    dilation_growth=2,\n",
    "    dilation_period=5,\n",
    "    glu=1,\n",
    "    conv_dropout=0.2,\n",
    "    dropout_input=0.2,\n",
    "    batch_norm=True,\n",
    "    half=True,\n",
    "    cnn_pos_encoding=False,\n",
    "    # Quantizer\n",
    "    quantizer=False,\n",
    "    num_codebooks=0,\n",
    "    codebook_size=0,\n",
    "    quantizer_commitment=0,\n",
    "    quantizer_temp_init=0,\n",
    "    quantizer_temp_min=0,\n",
    "    quantizer_temp_decay=0,\n",
    "    # Transformers Encoders\n",
    "    transformer_input=None,\n",
    "    transformer_encoder_emb=None,\n",
    "    transformer_encoder_layers=0,\n",
    "    transformer_encoder_heads=0,\n",
    "    # Conformer encoder variant\n",
    "    rnn_type=\"conformer\",\n",
    "    depthwise_conv_kernel_size=31,\n",
    "    use_group_norm=True,\n",
    "    convolution_first=False,\n",
    "    # Transformer Decoders\n",
    "    transformer_decoder_emb=None,\n",
    "    transformer_decoder_layers=0,\n",
    "    transformer_decoder_heads=0,\n",
    "    transformer_decoder_dim=0,\n",
    ")\n",
    "\n",
    "config = TrainingConfigV1(\n",
    "    brain_encoder_config=model_config,\n",
    "    data_partition=data_partition,\n",
    "    # Ada lora settings\n",
    "    # Around 100k total batches an epoch for gwilliams\n",
    "    adalora_init_r=12,\n",
    "    adalora_target_r=4,\n",
    "    adalora_tinit=(800 // 2),  # 5% total steps\n",
    "    adalora_tfinal=(12800 // 2),  # 50-80% total steps\n",
    "    adalora_deltaT=(400 // 2),  # 1-5% total steps\n",
    "    adalora_lora_alpha=32,\n",
    "    adalora_lora_dropout=0.1,\n",
    "    adalora_total_step=(16000 // 2),\n",
    "    # Pre-processing parameters\n",
    "    # Brain\n",
    "    new_freq=200,\n",
    "    frequency_bands={\"all\": (0.5, 80)},\n",
    "    max_random_shift=1.0,\n",
    "    window_size=4,\n",
    "    window_stride=1,\n",
    "    brain_clipping=None,\n",
    "    baseline_window=0.5,\n",
    "    notch_filter=True,\n",
    "    scaling=\"both\",\n",
    "    delay=0.15,\n",
    "    # Audio\n",
    "    audio_model=\"openai/whisper-tiny.en\",\n",
    "    # Hyperparameters\n",
    "    learning_rate=3e-4,\n",
    "    weight_decay=1e-3,\n",
    "    epochs=40,\n",
    "    batch_size=128,\n",
    "    random_test_size=10,\n",
    "    seed=42,\n",
    "    mel_alignment_objectives={\n",
    "        \"clip_loss\": 0.2,\n",
    "        \"mse_loss\": 0.8,\n",
    "        \"commitment_loss\": 0.0,\n",
    "        \"cosine_similarity\": 0.0,\n",
    "    },\n",
    "    latent_alignment_objectives={\n",
    "        \"cosine_similarity\": 0.4,\n",
    "        \"mse_loss\": 0.4,\n",
    "        \"clip_loss\": 0.2,\n",
    "    },\n",
    "    latent_alignment_layers=[2, 4],\n",
    ")\n",
    "\n",
    "config.brain_encoder_config.mel_normalization = False\n",
    "config.learning_rate = 3e-4\n",
    "config.batch_size = 256\n",
    "\n",
    "session = TrainingSessionV1(\n",
    "    config=config,\n",
    "    studies={study: \"audio\" for study in data_partition.keys()},\n",
    "    data_path=\"/home/ubuntu/storage-texas/data\",\n",
    "    save_path=\"saves/phase2/objectives/CLIP_MSE_ALIGNMENT_24_256_3e-4\",  # TANH_CLIP\n",
    "    clear_cache=False,\n",
    "    cache_name=\"cache\",\n",
    "    download_studies=False,\n",
    ")\n",
    "\n",
    "try:\n",
    "    session.train(\n",
    "        device=\"cuda\",\n",
    "        buffer_size=30,\n",
    "        num_workers=(multiprocessing.cpu_count() - 2),\n",
    "        max_cache_size=400,\n",
    "        current_epoch=0,\n",
    "    )\n",
    "except KeyboardInterrupt as e:\n",
    "    print(\"Exited\")\n",
    "\n",
    "# try:\n",
    "#     session.pre_process_all_recordings(\n",
    "#         buffer_size=30, num_workers=multiprocessing.cpu_count() - 2, max_cache_size=400\n",
    "#     )\n",
    "# except KeyboardInterrupt as e:\n",
    "#     print(\"Exited\")"
   ]
  },
  {
   "cell_type": "code",
   "execution_count": null,
   "metadata": {},
   "outputs": [],
   "source": [
    "# for name, param in session.model.encoder.named_parameters():\n",
    "#     if \"lora_A\" in name or \"lora_B\" in name or \"lora_E\" in name:\n",
    "#         print(name)"
   ]
  },
  {
   "cell_type": "code",
   "execution_count": null,
   "metadata": {},
   "outputs": [],
   "source": [
    "# import time\n",
    "\n",
    "# dataloader = session.get_dataloader(buffer_size=30, num_workers=24, max_cache_size=400)\n",
    "# dataloader.start_fetching(session.dataset[\"train\"], cache=True)\n",
    "\n",
    "# # Process batches as they become available\n",
    "# try:\n",
    "#     batches, recs, start_time = 0, 0, time.time()\n",
    "#     print(f\"Total recordings: {len(session.dataset['train'])}\")\n",
    "\n",
    "#     while True:\n",
    "#         batch = dataloader.get_recording()\n",
    "\n",
    "#         if batch is None:\n",
    "#             break\n",
    "\n",
    "#         brain = batch.brain_segments[\"all\"]\n",
    "#         batches += brain.shape[0]\n",
    "#         recs += 1\n",
    "\n",
    "#         if recs % 10 == 0:\n",
    "#             print(f'Processed {recs} recordings of {len(session.dataset[\"train\"])}')\n",
    "\n",
    "#     print(\n",
    "#         f\"Batch {batches} ({recs} recordings) processed in {time.time() - start_time:.2f}s\"\n",
    "#     )\n",
    "#     print(\n",
    "#         f\"Average processing time per recording: {(time.time() - start_time) / recs:.2f}s\"\n",
    "#     )\n",
    "#     print(\n",
    "#         f\"Average processing time per batch: {(time.time() - start_time) / batches:.2f}s\"\n",
    "#     )\n",
    "\n",
    "# except KeyboardInterrupt:\n",
    "#     print(\"Interrupted\")\n",
    "#     dataloader.stop()\n",
    "# except Exception as e:\n",
    "#     print(\"Error\", e)\n",
    "#     dataloader.stop()"
   ]
  },
  {
   "cell_type": "code",
   "execution_count": null,
   "metadata": {},
   "outputs": [],
   "source": []
  }
 ],
 "metadata": {
  "kernelspec": {
   "display_name": "brain",
   "language": "python",
   "name": "python3"
  },
  "language_info": {
   "codemirror_mode": {
    "name": "ipython",
    "version": 3
   },
   "file_extension": ".py",
   "mimetype": "text/x-python",
   "name": "python",
   "nbconvert_exporter": "python",
   "pygments_lexer": "ipython3",
   "version": "3.11.7"
  }
 },
 "nbformat": 4,
 "nbformat_minor": 4
}
