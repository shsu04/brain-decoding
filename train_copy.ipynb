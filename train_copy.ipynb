{
 "cells": [
  {
   "cell_type": "code",
   "execution_count": 4,
   "metadata": {},
   "outputs": [
    {
     "name": "stdout",
     "output_type": "stream",
     "text": [
      "Loading Gwilliams2023 with batch type audio\n",
      "Cleared cache for study gwilliams2023\n",
      "Data partitioned on studies ['gwilliams2023'].\n",
      "Train: 135, Unseen Task: 12, Unseen Subject: 45, Unseen Both: 4.\n",
      "\n",
      "GPU is not NVIDIA V100, A100, or H100. Speedup numbers may be lower than expected.\n",
      "SimpleConv initialized with 9332896 parameters, cond: ['study', 'subject']\n",
      "Merger False, merger channels 0\n",
      "ConvBlocks: 6, hidden_dim: 384, params 8858112\n"
     ]
    },
    {
     "name": "stderr",
     "output_type": "stream",
     "text": [
      "Training Epoch 1: 100%|██████████| 135/135 [26:44<00:00, 11.89s/it] \n"
     ]
    },
    {
     "name": "stdout",
     "output_type": "stream",
     "text": [
      "Epoch 1 completed. Loss: 3.2678, Clip Loss: 4.9418, MSE Loss: 0.7568\n",
      "Accuracy: 0.0620, Top 5: 0.1866, Top 10: 0.2782\n",
      "Test unseen_subject completed. Accuracy: 0.0605, Top 5: 0.2235, Top 10: 0.3315\n",
      "Test unseen_task completed. Accuracy: 0.0594, Top 5: 0.1941, Top 10: 0.3052\n",
      "Test unseen_both completed. Accuracy: 0.0475, Top 5: 0.2213, Top 10: 0.3475\n",
      "Testing completed in 4.27m.\n",
      "Epoch 1 completed in 31.02m. 0.23m per recording.\n"
     ]
    },
    {
     "name": "stderr",
     "output_type": "stream",
     "text": [
      "Training Epoch 2: 100%|██████████| 135/135 [06:37<00:00,  2.94s/it]\n"
     ]
    },
    {
     "name": "stdout",
     "output_type": "stream",
     "text": [
      "Epoch 2 completed. Loss: 2.6931, Clip Loss: 4.1532, MSE Loss: 0.5030\n",
      "Accuracy: 0.1178, Top 5: 0.3074, Top 10: 0.4273\n",
      "Test unseen_subject completed. Accuracy: 0.0790, Top 5: 0.2290, Top 10: 0.3390\n",
      "Test unseen_task completed. Accuracy: 0.1233, Top 5: 0.3090, Top 10: 0.4366\n",
      "Test unseen_both completed. Accuracy: 0.0988, Top 5: 0.2900, Top 10: 0.3825\n",
      "Testing completed in 0.47m.\n",
      "Epoch 2 completed in 7.09m. 0.05m per recording.\n"
     ]
    },
    {
     "name": "stderr",
     "output_type": "stream",
     "text": [
      "Training Epoch 3: 100%|██████████| 135/135 [06:33<00:00,  2.92s/it]\n"
     ]
    },
    {
     "name": "stdout",
     "output_type": "stream",
     "text": [
      "Epoch 3 completed. Loss: 2.5960, Clip Loss: 3.9961, MSE Loss: 0.4959\n",
      "Accuracy: 0.1434, Top 5: 0.3486, Top 10: 0.4704\n",
      "Test unseen_subject completed. Accuracy: 0.1505, Top 5: 0.3420, Top 10: 0.4605\n",
      "Test unseen_task completed. Accuracy: 0.1773, Top 5: 0.4031, Top 10: 0.5258\n",
      "Test unseen_both completed. Accuracy: 0.1525, Top 5: 0.3787, Top 10: 0.4850\n",
      "Testing completed in 0.47m.\n",
      "Epoch 3 completed in 7.03m. 0.05m per recording.\n"
     ]
    },
    {
     "name": "stderr",
     "output_type": "stream",
     "text": [
      "Training Epoch 4: 100%|██████████| 135/135 [06:34<00:00,  2.92s/it]\n"
     ]
    },
    {
     "name": "stdout",
     "output_type": "stream",
     "text": [
      "Epoch 4 completed. Loss: 2.5049, Clip Loss: 3.8478, MSE Loss: 0.4906\n",
      "Accuracy: 0.1663, Top 5: 0.3841, Top 10: 0.5076\n",
      "Test unseen_subject completed. Accuracy: 0.1300, Top 5: 0.3235, Top 10: 0.4605\n",
      "Test unseen_task completed. Accuracy: 0.1448, Top 5: 0.3502, Top 10: 0.4818\n",
      "Test unseen_both completed. Accuracy: 0.1450, Top 5: 0.3325, Top 10: 0.4487\n",
      "Testing completed in 0.46m.\n",
      "Epoch 4 completed in 7.04m. 0.05m per recording.\n"
     ]
    },
    {
     "name": "stderr",
     "output_type": "stream",
     "text": [
      "Training Epoch 5: 100%|██████████| 135/135 [06:34<00:00,  2.92s/it]\n"
     ]
    },
    {
     "name": "stdout",
     "output_type": "stream",
     "text": [
      "Epoch 5 completed. Loss: 2.4480, Clip Loss: 3.7562, MSE Loss: 0.4856\n",
      "Accuracy: 0.1775, Top 5: 0.4032, Top 10: 0.5272\n",
      "Test unseen_subject completed. Accuracy: 0.1720, Top 5: 0.3780, Top 10: 0.4800\n",
      "Test unseen_task completed. Accuracy: 0.1751, Top 5: 0.4100, Top 10: 0.5314\n",
      "Test unseen_both completed. Accuracy: 0.1600, Top 5: 0.3600, Top 10: 0.4800\n",
      "Testing completed in 0.46m.\n",
      "Epoch 5 completed in 7.04m. 0.05m per recording.\n"
     ]
    },
    {
     "name": "stderr",
     "output_type": "stream",
     "text": [
      "Training Epoch 6: 100%|██████████| 135/135 [06:34<00:00,  2.92s/it]\n"
     ]
    },
    {
     "name": "stdout",
     "output_type": "stream",
     "text": [
      "Epoch 6 completed. Loss: 2.3856, Clip Loss: 3.6534, MSE Loss: 0.4839\n",
      "Accuracy: 0.1906, Top 5: 0.4205, Top 10: 0.5448\n",
      "Test unseen_subject completed. Accuracy: 0.1525, Top 5: 0.3740, Top 10: 0.4920\n",
      "Test unseen_task completed. Accuracy: 0.1724, Top 5: 0.4027, Top 10: 0.5268\n",
      "Test unseen_both completed. Accuracy: 0.1800, Top 5: 0.3625, Top 10: 0.4688\n",
      "Testing completed in 0.47m.\n",
      "Epoch 6 completed in 7.04m. 0.05m per recording.\n"
     ]
    },
    {
     "name": "stderr",
     "output_type": "stream",
     "text": [
      "Training Epoch 7: 100%|██████████| 135/135 [06:33<00:00,  2.91s/it]\n"
     ]
    },
    {
     "name": "stdout",
     "output_type": "stream",
     "text": [
      "Epoch 7 completed. Loss: 2.3140, Clip Loss: 3.5362, MSE Loss: 0.4808\n",
      "Accuracy: 0.2081, Top 5: 0.4492, Top 10: 0.5727\n",
      "Test unseen_subject completed. Accuracy: 0.1570, Top 5: 0.3650, Top 10: 0.4770\n",
      "Test unseen_task completed. Accuracy: 0.1669, Top 5: 0.3994, Top 10: 0.5293\n",
      "Test unseen_both completed. Accuracy: 0.1638, Top 5: 0.3912, Top 10: 0.4988\n",
      "Testing completed in 0.46m.\n",
      "Epoch 7 completed in 7.02m. 0.05m per recording.\n"
     ]
    },
    {
     "name": "stderr",
     "output_type": "stream",
     "text": [
      "Training Epoch 8: 100%|██████████| 135/135 [06:34<00:00,  2.93s/it]\n"
     ]
    },
    {
     "name": "stdout",
     "output_type": "stream",
     "text": [
      "Epoch 8 completed. Loss: 2.2688, Clip Loss: 3.4616, MSE Loss: 0.4797\n",
      "Accuracy: 0.2242, Top 5: 0.4676, Top 10: 0.5908\n",
      "Test unseen_subject completed. Accuracy: 0.0955, Top 5: 0.3030, Top 10: 0.4275\n",
      "Test unseen_task completed. Accuracy: 0.1560, Top 5: 0.3649, Top 10: 0.4803\n",
      "Test unseen_both completed. Accuracy: 0.1450, Top 5: 0.3337, Top 10: 0.4637\n",
      "Testing completed in 0.46m.\n",
      "Epoch 8 completed in 7.05m. 0.05m per recording.\n"
     ]
    },
    {
     "name": "stderr",
     "output_type": "stream",
     "text": [
      "Training Epoch 9: 100%|██████████| 135/135 [06:35<00:00,  2.93s/it]\n"
     ]
    },
    {
     "name": "stdout",
     "output_type": "stream",
     "text": [
      "Epoch 9 completed. Loss: 2.2417, Clip Loss: 3.4162, MSE Loss: 0.4799\n",
      "Accuracy: 0.2294, Top 5: 0.4768, Top 10: 0.5988\n",
      "Test unseen_subject completed. Accuracy: 0.1420, Top 5: 0.3345, Top 10: 0.4575\n",
      "Test unseen_task completed. Accuracy: 0.1520, Top 5: 0.3557, Top 10: 0.4782\n",
      "Test unseen_both completed. Accuracy: 0.1562, Top 5: 0.3625, Top 10: 0.4612\n",
      "Testing completed in 0.47m.\n",
      "Epoch 9 completed in 7.06m. 0.05m per recording.\n"
     ]
    },
    {
     "name": "stderr",
     "output_type": "stream",
     "text": [
      "Training Epoch 10: 100%|██████████| 135/135 [06:33<00:00,  2.92s/it]\n"
     ]
    },
    {
     "name": "stdout",
     "output_type": "stream",
     "text": [
      "Epoch 10 completed. Loss: 2.1976, Clip Loss: 3.3434, MSE Loss: 0.4789\n",
      "Accuracy: 0.2384, Top 5: 0.4909, Top 10: 0.6130\n",
      "Test unseen_subject completed. Accuracy: 0.1945, Top 5: 0.4065, Top 10: 0.5095\n",
      "Test unseen_task completed. Accuracy: 0.1616, Top 5: 0.3818, Top 10: 0.5072\n",
      "Test unseen_both completed. Accuracy: 0.1938, Top 5: 0.3787, Top 10: 0.5150\n",
      "Testing completed in 0.46m.\n",
      "Epoch 10 completed in 7.02m. 0.05m per recording.\n"
     ]
    },
    {
     "name": "stderr",
     "output_type": "stream",
     "text": [
      "Training Epoch 11: 100%|██████████| 135/135 [06:36<00:00,  2.94s/it]\n"
     ]
    },
    {
     "name": "stdout",
     "output_type": "stream",
     "text": [
      "Epoch 11 completed. Loss: 2.1388, Clip Loss: 3.2464, MSE Loss: 0.4775\n",
      "Accuracy: 0.2544, Top 5: 0.5119, Top 10: 0.6331\n",
      "Test unseen_subject completed. Accuracy: 0.2005, Top 5: 0.4175, Top 10: 0.5160\n",
      "Test unseen_task completed. Accuracy: 0.2306, Top 5: 0.4767, Top 10: 0.5982\n",
      "Test unseen_both completed. Accuracy: 0.2275, Top 5: 0.4163, Top 10: 0.5312\n",
      "Testing completed in 0.46m.\n",
      "Epoch 11 completed in 7.08m. 0.05m per recording.\n"
     ]
    },
    {
     "name": "stderr",
     "output_type": "stream",
     "text": [
      "Training Epoch 12: 100%|██████████| 135/135 [06:37<00:00,  2.95s/it]\n"
     ]
    },
    {
     "name": "stdout",
     "output_type": "stream",
     "text": [
      "Epoch 12 completed. Loss: 2.1032, Clip Loss: 3.1872, MSE Loss: 0.4772\n",
      "Accuracy: 0.2659, Top 5: 0.5278, Top 10: 0.6471\n",
      "Test unseen_subject completed. Accuracy: 0.2035, Top 5: 0.4285, Top 10: 0.5295\n",
      "Test unseen_task completed. Accuracy: 0.2412, Top 5: 0.4875, Top 10: 0.6069\n",
      "Test unseen_both completed. Accuracy: 0.2225, Top 5: 0.4288, Top 10: 0.5312\n",
      "Testing completed in 0.47m.\n",
      "Epoch 12 completed in 7.10m. 0.05m per recording.\n"
     ]
    },
    {
     "name": "stderr",
     "output_type": "stream",
     "text": [
      "Training Epoch 13: 100%|██████████| 135/135 [06:35<00:00,  2.93s/it]\n"
     ]
    },
    {
     "name": "stdout",
     "output_type": "stream",
     "text": [
      "Epoch 13 completed. Loss: 2.0546, Clip Loss: 3.1072, MSE Loss: 0.4758\n",
      "Accuracy: 0.2798, Top 5: 0.5416, Top 10: 0.6600\n",
      "Test unseen_subject completed. Accuracy: 0.2090, Top 5: 0.4130, Top 10: 0.5105\n",
      "Test unseen_task completed. Accuracy: 0.2157, Top 5: 0.4243, Top 10: 0.5389\n",
      "Test unseen_both completed. Accuracy: 0.1925, Top 5: 0.3738, Top 10: 0.4575\n",
      "Testing completed in 0.47m.\n",
      "Epoch 13 completed in 7.06m. 0.05m per recording.\n"
     ]
    },
    {
     "name": "stderr",
     "output_type": "stream",
     "text": [
      "Training Epoch 14: 100%|██████████| 135/135 [06:35<00:00,  2.93s/it]\n"
     ]
    },
    {
     "name": "stdout",
     "output_type": "stream",
     "text": [
      "Epoch 14 completed. Loss: 2.0030, Clip Loss: 3.0212, MSE Loss: 0.4758\n",
      "Accuracy: 0.2909, Top 5: 0.5583, Top 10: 0.6770\n",
      "Test unseen_subject completed. Accuracy: 0.2145, Top 5: 0.4200, Top 10: 0.5140\n",
      "Test unseen_task completed. Accuracy: 0.1991, Top 5: 0.4293, Top 10: 0.5467\n",
      "Test unseen_both completed. Accuracy: 0.2025, Top 5: 0.3887, Top 10: 0.4863\n",
      "Testing completed in 0.46m.\n",
      "Epoch 14 completed in 7.06m. 0.05m per recording.\n"
     ]
    },
    {
     "name": "stderr",
     "output_type": "stream",
     "text": [
      "Training Epoch 15: 100%|██████████| 135/135 [06:34<00:00,  2.92s/it]\n"
     ]
    },
    {
     "name": "stdout",
     "output_type": "stream",
     "text": [
      "Epoch 15 completed. Loss: 1.9566, Clip Loss: 2.9441, MSE Loss: 0.4752\n",
      "Accuracy: 0.3016, Top 5: 0.5737, Top 10: 0.6901\n",
      "Test unseen_subject completed. Accuracy: 0.1665, Top 5: 0.3785, Top 10: 0.4830\n",
      "Test unseen_task completed. Accuracy: 0.1805, Top 5: 0.4096, Top 10: 0.5382\n",
      "Test unseen_both completed. Accuracy: 0.1875, Top 5: 0.4050, Top 10: 0.4975\n",
      "Testing completed in 0.46m.\n",
      "Epoch 15 completed in 7.04m. 0.05m per recording.\n"
     ]
    },
    {
     "name": "stderr",
     "output_type": "stream",
     "text": [
      "Training Epoch 16: 100%|██████████| 135/135 [06:38<00:00,  2.95s/it]\n"
     ]
    },
    {
     "name": "stdout",
     "output_type": "stream",
     "text": [
      "Epoch 16 completed. Loss: 1.8872, Clip Loss: 2.8293, MSE Loss: 0.4739\n",
      "Accuracy: 0.3241, Top 5: 0.6008, Top 10: 0.7154\n",
      "Test unseen_subject completed. Accuracy: 0.1530, Top 5: 0.3650, Top 10: 0.4830\n",
      "Test unseen_task completed. Accuracy: 0.2002, Top 5: 0.4298, Top 10: 0.5570\n",
      "Test unseen_both completed. Accuracy: 0.1850, Top 5: 0.3638, Top 10: 0.4750\n",
      "Testing completed in 0.47m.\n",
      "Epoch 16 completed in 7.11m. 0.05m per recording.\n"
     ]
    },
    {
     "name": "stderr",
     "output_type": "stream",
     "text": [
      "Training Epoch 17: 100%|██████████| 135/135 [06:34<00:00,  2.92s/it]\n"
     ]
    },
    {
     "name": "stdout",
     "output_type": "stream",
     "text": [
      "Epoch 17 completed. Loss: 1.8258, Clip Loss: 2.7269, MSE Loss: 0.4741\n",
      "Accuracy: 0.3397, Top 5: 0.6190, Top 10: 0.7309\n",
      "Test unseen_subject completed. Accuracy: 0.1570, Top 5: 0.3655, Top 10: 0.4815\n",
      "Test unseen_task completed. Accuracy: 0.1834, Top 5: 0.4132, Top 10: 0.5403\n",
      "Test unseen_both completed. Accuracy: 0.1713, Top 5: 0.3588, Top 10: 0.4612\n",
      "Testing completed in 0.46m.\n",
      "Epoch 17 completed in 7.03m. 0.05m per recording.\n"
     ]
    },
    {
     "name": "stderr",
     "output_type": "stream",
     "text": [
      "Training Epoch 18: 100%|██████████| 135/135 [06:33<00:00,  2.92s/it]\n"
     ]
    },
    {
     "name": "stdout",
     "output_type": "stream",
     "text": [
      "Epoch 18 completed. Loss: 1.7355, Clip Loss: 2.5774, MSE Loss: 0.4728\n",
      "Accuracy: 0.3722, Top 5: 0.6529, Top 10: 0.7603\n",
      "Test unseen_subject completed. Accuracy: 0.2085, Top 5: 0.4355, Top 10: 0.5405\n",
      "Test unseen_task completed. Accuracy: 0.2356, Top 5: 0.4905, Top 10: 0.6096\n",
      "Test unseen_both completed. Accuracy: 0.2250, Top 5: 0.4437, Top 10: 0.5487\n",
      "Testing completed in 0.46m.\n",
      "Epoch 18 completed in 7.02m. 0.05m per recording.\n"
     ]
    },
    {
     "name": "stderr",
     "output_type": "stream",
     "text": [
      "Training Epoch 19: 100%|██████████| 135/135 [06:39<00:00,  2.96s/it]\n"
     ]
    },
    {
     "name": "stdout",
     "output_type": "stream",
     "text": [
      "Epoch 19 completed. Loss: 1.6461, Clip Loss: 2.4286, MSE Loss: 0.4724\n",
      "Accuracy: 0.3993, Top 5: 0.6813, Top 10: 0.7852\n",
      "Test unseen_subject completed. Accuracy: 0.1950, Top 5: 0.4340, Top 10: 0.5260\n",
      "Test unseen_task completed. Accuracy: 0.2118, Top 5: 0.4449, Top 10: 0.5667\n",
      "Test unseen_both completed. Accuracy: 0.2062, Top 5: 0.4213, Top 10: 0.5275\n",
      "Testing completed in 0.46m.\n",
      "Epoch 19 completed in 7.11m. 0.05m per recording.\n"
     ]
    },
    {
     "name": "stderr",
     "output_type": "stream",
     "text": [
      "Training Epoch 20: 100%|██████████| 135/135 [06:37<00:00,  2.94s/it]\n"
     ]
    },
    {
     "name": "stdout",
     "output_type": "stream",
     "text": [
      "Epoch 20 completed. Loss: 1.5757, Clip Loss: 2.3107, MSE Loss: 0.4731\n",
      "Accuracy: 0.4200, Top 5: 0.7040, Top 10: 0.8033\n",
      "Test unseen_subject completed. Accuracy: 0.2225, Top 5: 0.4495, Top 10: 0.5450\n",
      "Test unseen_task completed. Accuracy: 0.2188, Top 5: 0.4597, Top 10: 0.5752\n",
      "Test unseen_both completed. Accuracy: 0.2050, Top 5: 0.4350, Top 10: 0.5275\n",
      "Testing completed in 0.46m.\n",
      "Epoch 20 completed in 7.08m. 0.05m per recording.\n"
     ]
    },
    {
     "name": "stderr",
     "output_type": "stream",
     "text": [
      "Training Epoch 21: 100%|██████████| 135/135 [06:35<00:00,  2.93s/it]\n"
     ]
    },
    {
     "name": "stdout",
     "output_type": "stream",
     "text": [
      "Epoch 21 completed. Loss: 1.4494, Clip Loss: 2.0996, MSE Loss: 0.4741\n",
      "Accuracy: 0.4642, Top 5: 0.7455, Top 10: 0.8351\n",
      "Test unseen_subject completed. Accuracy: 0.2010, Top 5: 0.4135, Top 10: 0.5130\n",
      "Test unseen_task completed. Accuracy: 0.2295, Top 5: 0.4590, Top 10: 0.5773\n",
      "Test unseen_both completed. Accuracy: 0.1900, Top 5: 0.3850, Top 10: 0.5038\n",
      "Testing completed in 0.46m.\n",
      "Epoch 21 completed in 7.06m. 0.05m per recording.\n"
     ]
    },
    {
     "name": "stderr",
     "output_type": "stream",
     "text": [
      "Training Epoch 22: 100%|██████████| 135/135 [06:35<00:00,  2.93s/it]\n"
     ]
    },
    {
     "name": "stdout",
     "output_type": "stream",
     "text": [
      "Epoch 22 completed. Loss: 1.3553, Clip Loss: 1.9430, MSE Loss: 0.4738\n",
      "Accuracy: 0.4947, Top 5: 0.7693, Top 10: 0.8546\n",
      "Test unseen_subject completed. Accuracy: 0.2200, Top 5: 0.4455, Top 10: 0.5400\n",
      "Test unseen_task completed. Accuracy: 0.2290, Top 5: 0.4685, Top 10: 0.5884\n",
      "Test unseen_both completed. Accuracy: 0.2288, Top 5: 0.4012, Top 10: 0.5088\n",
      "Testing completed in 0.47m.\n",
      "Epoch 22 completed in 7.06m. 0.05m per recording.\n"
     ]
    },
    {
     "name": "stderr",
     "output_type": "stream",
     "text": [
      "Training Epoch 23: 100%|██████████| 135/135 [06:33<00:00,  2.92s/it]\n"
     ]
    },
    {
     "name": "stdout",
     "output_type": "stream",
     "text": [
      "Epoch 23 completed. Loss: 1.2521, Clip Loss: 1.7705, MSE Loss: 0.4747\n",
      "Accuracy: 0.5323, Top 5: 0.8035, Top 10: 0.8813\n",
      "Test unseen_subject completed. Accuracy: 0.1705, Top 5: 0.3835, Top 10: 0.4900\n",
      "Test unseen_task completed. Accuracy: 0.2077, Top 5: 0.4529, Top 10: 0.5704\n",
      "Test unseen_both completed. Accuracy: 0.1862, Top 5: 0.4000, Top 10: 0.5012\n",
      "Testing completed in 0.47m.\n",
      "Epoch 23 completed in 7.03m. 0.05m per recording.\n"
     ]
    },
    {
     "name": "stderr",
     "output_type": "stream",
     "text": [
      "Training Epoch 24: 100%|██████████| 135/135 [06:35<00:00,  2.93s/it]\n"
     ]
    },
    {
     "name": "stdout",
     "output_type": "stream",
     "text": [
      "Epoch 24 completed. Loss: 1.1492, Clip Loss: 1.5981, MSE Loss: 0.4759\n",
      "Accuracy: 0.5727, Top 5: 0.8333, Top 10: 0.9021\n",
      "Test unseen_subject completed. Accuracy: 0.2030, Top 5: 0.4055, Top 10: 0.5050\n",
      "Test unseen_task completed. Accuracy: 0.1716, Top 5: 0.3810, Top 10: 0.4992\n",
      "Test unseen_both completed. Accuracy: 0.1450, Top 5: 0.3638, Top 10: 0.4550\n",
      "Testing completed in 0.47m.\n",
      "Epoch 24 completed in 7.06m. 0.05m per recording.\n"
     ]
    },
    {
     "name": "stderr",
     "output_type": "stream",
     "text": [
      "Training Epoch 25: 100%|██████████| 135/135 [06:34<00:00,  2.92s/it]\n"
     ]
    },
    {
     "name": "stdout",
     "output_type": "stream",
     "text": [
      "Epoch 25 completed. Loss: 1.0549, Clip Loss: 1.4412, MSE Loss: 0.4756\n",
      "Accuracy: 0.6065, Top 5: 0.8539, Top 10: 0.9166\n",
      "Test unseen_subject completed. Accuracy: 0.1775, Top 5: 0.4025, Top 10: 0.5025\n",
      "Test unseen_task completed. Accuracy: 0.2105, Top 5: 0.4477, Top 10: 0.5644\n",
      "Test unseen_both completed. Accuracy: 0.1725, Top 5: 0.4163, Top 10: 0.5138\n",
      "Testing completed in 0.47m.\n",
      "Epoch 25 completed in 7.04m. 0.05m per recording.\n"
     ]
    },
    {
     "name": "stderr",
     "output_type": "stream",
     "text": [
      "Training Epoch 26: 100%|██████████| 135/135 [06:35<00:00,  2.93s/it]\n"
     ]
    },
    {
     "name": "stdout",
     "output_type": "stream",
     "text": [
      "Epoch 26 completed. Loss: 0.9591, Clip Loss: 1.2811, MSE Loss: 0.4761\n",
      "Accuracy: 0.6437, Top 5: 0.8768, Top 10: 0.9315\n",
      "Test unseen_subject completed. Accuracy: 0.1785, Top 5: 0.3980, Top 10: 0.4960\n",
      "Test unseen_task completed. Accuracy: 0.1443, Top 5: 0.3516, Top 10: 0.4637\n",
      "Test unseen_both completed. Accuracy: 0.1425, Top 5: 0.3212, Top 10: 0.4487\n",
      "Testing completed in 0.47m.\n",
      "Epoch 26 completed in 7.07m. 0.05m per recording.\n"
     ]
    },
    {
     "name": "stderr",
     "output_type": "stream",
     "text": [
      "Training Epoch 27: 100%|██████████| 135/135 [06:36<00:00,  2.94s/it]\n"
     ]
    },
    {
     "name": "stdout",
     "output_type": "stream",
     "text": [
      "Epoch 27 completed. Loss: 0.8965, Clip Loss: 1.1756, MSE Loss: 0.4779\n",
      "Accuracy: 0.6724, Top 5: 0.8971, Top 10: 0.9451\n",
      "Test unseen_subject completed. Accuracy: 0.1820, Top 5: 0.4040, Top 10: 0.4940\n",
      "Test unseen_task completed. Accuracy: 0.2010, Top 5: 0.4304, Top 10: 0.5494\n",
      "Test unseen_both completed. Accuracy: 0.1713, Top 5: 0.3638, Top 10: 0.4738\n",
      "Testing completed in 0.47m.\n",
      "Epoch 27 completed in 7.08m. 0.05m per recording.\n"
     ]
    },
    {
     "name": "stderr",
     "output_type": "stream",
     "text": [
      "Training Epoch 28: 100%|██████████| 135/135 [06:37<00:00,  2.95s/it]\n"
     ]
    },
    {
     "name": "stdout",
     "output_type": "stream",
     "text": [
      "Epoch 28 completed. Loss: 0.8330, Clip Loss: 1.0689, MSE Loss: 0.4791\n",
      "Accuracy: 0.6982, Top 5: 0.9104, Top 10: 0.9534\n",
      "Test unseen_subject completed. Accuracy: 0.2140, Top 5: 0.4205, Top 10: 0.5085\n",
      "Test unseen_task completed. Accuracy: 0.1736, Top 5: 0.3890, Top 10: 0.5081\n",
      "Test unseen_both completed. Accuracy: 0.1525, Top 5: 0.3563, Top 10: 0.4550\n",
      "Testing completed in 0.46m.\n",
      "Epoch 28 completed in 7.09m. 0.05m per recording.\n"
     ]
    },
    {
     "name": "stderr",
     "output_type": "stream",
     "text": [
      "Training Epoch 29: 100%|██████████| 135/135 [06:34<00:00,  2.92s/it]\n"
     ]
    },
    {
     "name": "stdout",
     "output_type": "stream",
     "text": [
      "Epoch 29 completed. Loss: 0.7717, Clip Loss: 0.9677, MSE Loss: 0.4776\n",
      "Accuracy: 0.7235, Top 5: 0.9226, Top 10: 0.9604\n",
      "Test unseen_subject completed. Accuracy: 0.1875, Top 5: 0.3945, Top 10: 0.4895\n",
      "Test unseen_task completed. Accuracy: 0.1810, Top 5: 0.4052, Top 10: 0.5256\n",
      "Test unseen_both completed. Accuracy: 0.1462, Top 5: 0.3312, Top 10: 0.4375\n",
      "Testing completed in 0.47m.\n",
      "Epoch 29 completed in 7.03m. 0.05m per recording.\n"
     ]
    },
    {
     "name": "stderr",
     "output_type": "stream",
     "text": [
      "Training Epoch 30: 100%|██████████| 135/135 [06:34<00:00,  2.92s/it]\n"
     ]
    },
    {
     "name": "stdout",
     "output_type": "stream",
     "text": [
      "Epoch 30 completed. Loss: 0.7031, Clip Loss: 0.8536, MSE Loss: 0.4774\n",
      "Accuracy: 0.7513, Top 5: 0.9364, Top 10: 0.9688\n",
      "Test unseen_subject completed. Accuracy: 0.1960, Top 5: 0.3980, Top 10: 0.4990\n",
      "Test unseen_task completed. Accuracy: 0.1757, Top 5: 0.4038, Top 10: 0.5261\n",
      "Test unseen_both completed. Accuracy: 0.1700, Top 5: 0.3912, Top 10: 0.4900\n",
      "Testing completed in 0.46m.\n",
      "Epoch 30 completed in 7.03m. 0.05m per recording.\n"
     ]
    },
    {
     "name": "stderr",
     "output_type": "stream",
     "text": [
      "Training Epoch 31: 100%|██████████| 135/135 [06:34<00:00,  2.92s/it]\n"
     ]
    },
    {
     "name": "stdout",
     "output_type": "stream",
     "text": [
      "Epoch 31 completed. Loss: 0.6451, Clip Loss: 0.7566, MSE Loss: 0.4780\n",
      "Accuracy: 0.7771, Top 5: 0.9490, Top 10: 0.9761\n",
      "Test unseen_subject completed. Accuracy: 0.1350, Top 5: 0.3240, Top 10: 0.4280\n",
      "Test unseen_task completed. Accuracy: 0.1403, Top 5: 0.3397, Top 10: 0.4579\n",
      "Test unseen_both completed. Accuracy: 0.1163, Top 5: 0.2850, Top 10: 0.4037\n",
      "Testing completed in 0.47m.\n",
      "Epoch 31 completed in 7.05m. 0.05m per recording.\n"
     ]
    },
    {
     "name": "stderr",
     "output_type": "stream",
     "text": [
      "Training Epoch 32: 100%|██████████| 135/135 [06:34<00:00,  2.92s/it]\n"
     ]
    },
    {
     "name": "stdout",
     "output_type": "stream",
     "text": [
      "Epoch 32 completed. Loss: 0.5999, Clip Loss: 0.6820, MSE Loss: 0.4769\n",
      "Accuracy: 0.7972, Top 5: 0.9557, Top 10: 0.9797\n",
      "Test unseen_subject completed. Accuracy: 0.1740, Top 5: 0.3820, Top 10: 0.4790\n",
      "Test unseen_task completed. Accuracy: 0.1679, Top 5: 0.3899, Top 10: 0.5105\n",
      "Test unseen_both completed. Accuracy: 0.1487, Top 5: 0.3438, Top 10: 0.4425\n",
      "Testing completed in 0.46m.\n",
      "Epoch 32 completed in 7.04m. 0.05m per recording.\n"
     ]
    },
    {
     "name": "stderr",
     "output_type": "stream",
     "text": [
      "Training Epoch 33: 100%|██████████| 135/135 [06:36<00:00,  2.93s/it]\n"
     ]
    },
    {
     "name": "stdout",
     "output_type": "stream",
     "text": [
      "Epoch 33 completed. Loss: 0.5731, Clip Loss: 0.6369, MSE Loss: 0.4774\n",
      "Accuracy: 0.8083, Top 5: 0.9604, Top 10: 0.9825\n",
      "Test unseen_subject completed. Accuracy: 0.1780, Top 5: 0.3850, Top 10: 0.4945\n",
      "Test unseen_task completed. Accuracy: 0.1448, Top 5: 0.3521, Top 10: 0.4627\n",
      "Test unseen_both completed. Accuracy: 0.1388, Top 5: 0.3137, Top 10: 0.4225\n",
      "Testing completed in 0.46m.\n",
      "Epoch 33 completed in 7.06m. 0.05m per recording.\n",
      "Early stopping at epoch 33. Highest top 10 accuracy at epoch 22.\n",
      "Training completed.\n",
      "unseen_subject: Acc: 0.2200, Top 5: 0.4455, Top 10: 0.5400\n",
      "unseen_task: Acc: 0.2290, Top 5: 0.4685, Top 10: 0.5884\n",
      "unseen_both: Acc: 0.2288, Top 5: 0.4012, Top 10: 0.5088\n"
     ]
    }
   ],
   "source": [
    "# del session.logger\n",
    "# del session\n",
    "\n",
    "from pickle import NONE\n",
    "from train.training_session_v0 import TrainingSessionV0\n",
    "from config import TrainingConfigV0\n",
    "import multiprocessing\n",
    "from config import SimpleConvConfig\n",
    "from models.simpleconv import SimpleConv\n",
    "import torch\n",
    "\n",
    "data_partition = {\n",
    "    \"gwilliams2023\": {\n",
    "        \"testing_subjects\": [19, 20, 21],\n",
    "        \"testing_tasks\": [0],\n",
    "    },\n",
    "    # \"armeini2022\": {\n",
    "    #     \"testing_subjects\": [],\n",
    "    #     \"testing_tasks\": [8, 9],\n",
    "    # },\n",
    "}\n",
    "\n",
    "model_config = SimpleConvConfig(\n",
    "    # Str to list of possible conditions\n",
    "    mel_normalization=False,\n",
    "    conditions={\n",
    "        \"study\": [],\n",
    "        \"subject\": [],\n",
    "    },\n",
    "    # Channels\n",
    "    in_channels=208,\n",
    "    out_channels=128,\n",
    "    hidden_dim=384,\n",
    "    dropout=0.2,\n",
    "    initial_batch_norm=True,\n",
    "    # Sensor layout settings\n",
    "    layout_dim=2,\n",
    "    layout_proj=True,\n",
    "    layout_scaling=\"minmax\",\n",
    "    # Merger with spatial attn\n",
    "    merger=False,\n",
    "    merger_emb_type=None,\n",
    "    merger_emb_dim=0,\n",
    "    merger_channels=0,\n",
    "    merger_dropout=False,\n",
    "    merger_conditional=None,\n",
    "    # Inital\n",
    "    initial_linear=384,\n",
    "    initial_depth=1,\n",
    "    # Conditional layers\n",
    "    conditional_layers=False,\n",
    "    conditional_layers_dim=None,  # input or hidden_dim\n",
    "    # Conv layer overall structure\n",
    "    depth=6,\n",
    "    kernel_size=3,\n",
    "    growth=1.0,\n",
    "    dilation_growth=2,\n",
    "    dilation_period=5,\n",
    "    glu=1,\n",
    "    conv_dropout=0.2,\n",
    "    dropout_input=0.2,\n",
    "    batch_norm=True,\n",
    "    half=False,\n",
    "    # Quantizer\n",
    "    quantizer=False,\n",
    "    num_codebooks=0,\n",
    "    codebook_size=0,\n",
    "    quantizer_commitment=0,\n",
    "    quantizer_temp_init=0,\n",
    "    quantizer_temp_min=0,\n",
    "    quantizer_temp_decay=0,\n",
    "    # Transformers Encoders\n",
    "    transformer_input=None,\n",
    "    transformer_encoder_emb=None,\n",
    "    transformer_encoder_layers=0,\n",
    "    transformer_encoder_heads=0,\n",
    "    # Transformer Decoders\n",
    "    transformer_decoder_emb=None,\n",
    "    transformer_decoder_layers=0,\n",
    "    transformer_decoder_heads=0,\n",
    "    transformer_decoder_dim=0,\n",
    ")\n",
    "\n",
    "config = TrainingConfigV0(\n",
    "    brain_encoder_config=model_config,\n",
    "    data_partition=data_partition,\n",
    "    # Pre-processing parameters\n",
    "    # Brain\n",
    "    new_freq=100,\n",
    "    frequency_bands={\"all\": (0.5, 40)},\n",
    "    max_random_shift=1.0,\n",
    "    window_size=4,\n",
    "    window_stride=1,\n",
    "    brain_clipping=None,\n",
    "    baseline_window=0.5,\n",
    "    notch_filter=True,\n",
    "    scaling=\"both\",\n",
    "    delay=0.15,\n",
    "    # Hyperparameters\n",
    "    learning_rate=3e-4,\n",
    "    weight_decay=1e-4,\n",
    "    epochs=50,\n",
    "    batch_size=256,\n",
    "    use_clip_loss=True,\n",
    "    use_mse_loss=True,\n",
    "    alpha=0.6,\n",
    "    random_test_size=10,\n",
    "    seed=42,\n",
    ")\n",
    "\n",
    "config.new_freq = 200\n",
    "config.brain_encoder_config.half = True\n",
    "config.frequency_bands = {\"all\": (0.5, None)}\n",
    "\n",
    "session = TrainingSessionV0(\n",
    "    config=config,\n",
    "    studies={study: \"audio\" for study in data_partition.keys()},\n",
    "    data_path=\"data\",\n",
    "    save_path=\"saves/phase1/ablation/200hz/bandpass_none\",\n",
    "    clear_cache=True,\n",
    "    cache_name=\"cache/2\",\n",
    ")\n",
    "\n",
    "try:\n",
    "    session.train(\n",
    "        device=\"cuda\",\n",
    "        buffer_size=30,\n",
    "        num_workers=(multiprocessing.cpu_count() - 2),\n",
    "        max_cache_size=400,\n",
    "        current_epoch=0,\n",
    "    )\n",
    "except KeyboardInterrupt as e:\n",
    "    print(\"Exited\")"
   ]
  },
  {
   "cell_type": "markdown",
   "metadata": {},
   "source": [
    "## NONE"
   ]
  },
  {
   "cell_type": "code",
   "execution_count": 5,
   "metadata": {},
   "outputs": [
    {
     "name": "stdout",
     "output_type": "stream",
     "text": [
      "Loading Gwilliams2023 with batch type audio\n",
      "Cleared cache for study gwilliams2023\n",
      "Data partitioned on studies ['gwilliams2023'].\n",
      "Train: 135, Unseen Task: 12, Unseen Subject: 45, Unseen Both: 4.\n",
      "\n",
      "GPU is not NVIDIA V100, A100, or H100. Speedup numbers may be lower than expected.\n",
      "SimpleConv initialized with 9332896 parameters, cond: ['study', 'subject']\n",
      "Merger False, merger channels 0\n",
      "ConvBlocks: 6, hidden_dim: 384, params 8858112\n"
     ]
    },
    {
     "name": "stderr",
     "output_type": "stream",
     "text": [
      "Training Epoch 1: 100%|██████████| 135/135 [25:56<00:00, 11.53s/it] \n"
     ]
    },
    {
     "name": "stdout",
     "output_type": "stream",
     "text": [
      "Epoch 1 completed. Loss: 3.3073, Clip Loss: 5.0022, MSE Loss: 0.7651\n",
      "Accuracy: 0.0597, Top 5: 0.1811, Top 10: 0.2734\n",
      "Test unseen_subject completed. Accuracy: 0.0520, Top 5: 0.2110, Top 10: 0.3280\n",
      "Test unseen_task completed. Accuracy: 0.0684, Top 5: 0.2147, Top 10: 0.3214\n",
      "Test unseen_both completed. Accuracy: 0.0800, Top 5: 0.2175, Top 10: 0.3425\n",
      "Testing completed in 4.08m.\n",
      "Epoch 1 completed in 30.02m. 0.22m per recording.\n"
     ]
    },
    {
     "name": "stderr",
     "output_type": "stream",
     "text": [
      "Training Epoch 2: 100%|██████████| 135/135 [06:34<00:00,  2.92s/it]\n"
     ]
    },
    {
     "name": "stdout",
     "output_type": "stream",
     "text": [
      "Epoch 2 completed. Loss: 2.7129, Clip Loss: 4.1836, MSE Loss: 0.5070\n",
      "Accuracy: 0.1135, Top 5: 0.2979, Top 10: 0.4176\n",
      "Test unseen_subject completed. Accuracy: 0.1020, Top 5: 0.2625, Top 10: 0.3575\n",
      "Test unseen_task completed. Accuracy: 0.1069, Top 5: 0.2496, Top 10: 0.3457\n",
      "Test unseen_both completed. Accuracy: 0.0825, Top 5: 0.2125, Top 10: 0.3100\n",
      "Testing completed in 0.47m.\n",
      "Epoch 2 completed in 7.04m. 0.05m per recording.\n"
     ]
    },
    {
     "name": "stderr",
     "output_type": "stream",
     "text": [
      "Training Epoch 3: 100%|██████████| 135/135 [06:36<00:00,  2.93s/it]\n"
     ]
    },
    {
     "name": "stdout",
     "output_type": "stream",
     "text": [
      "Epoch 3 completed. Loss: 2.6025, Clip Loss: 4.0081, MSE Loss: 0.4940\n",
      "Accuracy: 0.1434, Top 5: 0.3455, Top 10: 0.4671\n",
      "Test unseen_subject completed. Accuracy: 0.1675, Top 5: 0.3610, Top 10: 0.4570\n",
      "Test unseen_task completed. Accuracy: 0.1124, Top 5: 0.2945, Top 10: 0.4135\n",
      "Test unseen_both completed. Accuracy: 0.0988, Top 5: 0.2412, Top 10: 0.3600\n",
      "Testing completed in 0.46m.\n",
      "Epoch 3 completed in 7.06m. 0.05m per recording.\n"
     ]
    },
    {
     "name": "stderr",
     "output_type": "stream",
     "text": [
      "Training Epoch 4: 100%|██████████| 135/135 [06:36<00:00,  2.93s/it]\n"
     ]
    },
    {
     "name": "stdout",
     "output_type": "stream",
     "text": [
      "Epoch 4 completed. Loss: 2.5262, Clip Loss: 3.8826, MSE Loss: 0.4916\n",
      "Accuracy: 0.1607, Top 5: 0.3760, Top 10: 0.4972\n",
      "Test unseen_subject completed. Accuracy: 0.1030, Top 5: 0.2830, Top 10: 0.3935\n",
      "Test unseen_task completed. Accuracy: 0.0964, Top 5: 0.2605, Top 10: 0.3702\n",
      "Test unseen_both completed. Accuracy: 0.1087, Top 5: 0.2812, Top 10: 0.3675\n",
      "Testing completed in 0.47m.\n",
      "Epoch 4 completed in 7.07m. 0.05m per recording.\n"
     ]
    },
    {
     "name": "stderr",
     "output_type": "stream",
     "text": [
      "Training Epoch 5: 100%|██████████| 135/135 [06:34<00:00,  2.92s/it]\n"
     ]
    },
    {
     "name": "stdout",
     "output_type": "stream",
     "text": [
      "Epoch 5 completed. Loss: 2.4569, Clip Loss: 3.7701, MSE Loss: 0.4870\n",
      "Accuracy: 0.1772, Top 5: 0.4015, Top 10: 0.5259\n",
      "Test unseen_subject completed. Accuracy: 0.1590, Top 5: 0.3655, Top 10: 0.4715\n",
      "Test unseen_task completed. Accuracy: 0.1854, Top 5: 0.4231, Top 10: 0.5446\n",
      "Test unseen_both completed. Accuracy: 0.1425, Top 5: 0.3513, Top 10: 0.4713\n",
      "Testing completed in 0.47m.\n",
      "Epoch 5 completed in 7.05m. 0.05m per recording.\n"
     ]
    },
    {
     "name": "stderr",
     "output_type": "stream",
     "text": [
      "Training Epoch 6: 100%|██████████| 135/135 [06:34<00:00,  2.92s/it]\n"
     ]
    },
    {
     "name": "stdout",
     "output_type": "stream",
     "text": [
      "Epoch 6 completed. Loss: 2.4068, Clip Loss: 3.6873, MSE Loss: 0.4862\n",
      "Accuracy: 0.1845, Top 5: 0.4099, Top 10: 0.5336\n",
      "Test unseen_subject completed. Accuracy: 0.1800, Top 5: 0.4000, Top 10: 0.5120\n",
      "Test unseen_task completed. Accuracy: 0.2003, Top 5: 0.4196, Top 10: 0.5393\n",
      "Test unseen_both completed. Accuracy: 0.2025, Top 5: 0.4113, Top 10: 0.4963\n",
      "Testing completed in 0.48m.\n",
      "Epoch 6 completed in 7.05m. 0.05m per recording.\n"
     ]
    },
    {
     "name": "stderr",
     "output_type": "stream",
     "text": [
      "Training Epoch 7: 100%|██████████| 135/135 [06:34<00:00,  2.92s/it]\n"
     ]
    },
    {
     "name": "stdout",
     "output_type": "stream",
     "text": [
      "Epoch 7 completed. Loss: 2.3307, Clip Loss: 3.5634, MSE Loss: 0.4817\n",
      "Accuracy: 0.2073, Top 5: 0.4474, Top 10: 0.5705\n",
      "Test unseen_subject completed. Accuracy: 0.1590, Top 5: 0.3645, Top 10: 0.4620\n",
      "Test unseen_task completed. Accuracy: 0.1822, Top 5: 0.4127, Top 10: 0.5394\n",
      "Test unseen_both completed. Accuracy: 0.1675, Top 5: 0.3450, Top 10: 0.4587\n",
      "Testing completed in 0.47m.\n",
      "Epoch 7 completed in 7.04m. 0.05m per recording.\n"
     ]
    },
    {
     "name": "stderr",
     "output_type": "stream",
     "text": [
      "Training Epoch 8: 100%|██████████| 135/135 [06:34<00:00,  2.92s/it]\n"
     ]
    },
    {
     "name": "stdout",
     "output_type": "stream",
     "text": [
      "Epoch 8 completed. Loss: 2.2892, Clip Loss: 3.4953, MSE Loss: 0.4800\n",
      "Accuracy: 0.2154, Top 5: 0.4589, Top 10: 0.5847\n",
      "Test unseen_subject completed. Accuracy: 0.2040, Top 5: 0.3920, Top 10: 0.4935\n",
      "Test unseen_task completed. Accuracy: 0.1657, Top 5: 0.3791, Top 10: 0.5009\n",
      "Test unseen_both completed. Accuracy: 0.1462, Top 5: 0.3700, Top 10: 0.4750\n",
      "Testing completed in 0.46m.\n",
      "Epoch 8 completed in 7.04m. 0.05m per recording.\n"
     ]
    },
    {
     "name": "stderr",
     "output_type": "stream",
     "text": [
      "Training Epoch 9: 100%|██████████| 135/135 [06:34<00:00,  2.92s/it]\n"
     ]
    },
    {
     "name": "stdout",
     "output_type": "stream",
     "text": [
      "Epoch 9 completed. Loss: 2.2482, Clip Loss: 3.4271, MSE Loss: 0.4799\n",
      "Accuracy: 0.2286, Top 5: 0.4753, Top 10: 0.5974\n",
      "Test unseen_subject completed. Accuracy: 0.1805, Top 5: 0.3785, Top 10: 0.4715\n",
      "Test unseen_task completed. Accuracy: 0.2005, Top 5: 0.4201, Top 10: 0.5410\n",
      "Test unseen_both completed. Accuracy: 0.1750, Top 5: 0.3613, Top 10: 0.4738\n",
      "Testing completed in 0.47m.\n",
      "Epoch 9 completed in 7.04m. 0.05m per recording.\n"
     ]
    },
    {
     "name": "stderr",
     "output_type": "stream",
     "text": [
      "Training Epoch 10: 100%|██████████| 135/135 [06:34<00:00,  2.92s/it]\n"
     ]
    },
    {
     "name": "stdout",
     "output_type": "stream",
     "text": [
      "Epoch 10 completed. Loss: 2.2147, Clip Loss: 3.3711, MSE Loss: 0.4801\n",
      "Accuracy: 0.2330, Top 5: 0.4826, Top 10: 0.6030\n",
      "Test unseen_subject completed. Accuracy: 0.1500, Top 5: 0.3755, Top 10: 0.4955\n",
      "Test unseen_task completed. Accuracy: 0.2158, Top 5: 0.4442, Top 10: 0.5619\n",
      "Test unseen_both completed. Accuracy: 0.2013, Top 5: 0.3862, Top 10: 0.4963\n",
      "Testing completed in 0.47m.\n",
      "Epoch 10 completed in 7.05m. 0.05m per recording.\n"
     ]
    },
    {
     "name": "stderr",
     "output_type": "stream",
     "text": [
      "Training Epoch 11: 100%|██████████| 135/135 [06:36<00:00,  2.94s/it]\n"
     ]
    },
    {
     "name": "stdout",
     "output_type": "stream",
     "text": [
      "Epoch 11 completed. Loss: 2.1642, Clip Loss: 3.2877, MSE Loss: 0.4788\n",
      "Accuracy: 0.2455, Top 5: 0.4994, Top 10: 0.6212\n",
      "Test unseen_subject completed. Accuracy: 0.1640, Top 5: 0.3745, Top 10: 0.4940\n",
      "Test unseen_task completed. Accuracy: 0.2220, Top 5: 0.4605, Top 10: 0.5820\n",
      "Test unseen_both completed. Accuracy: 0.2087, Top 5: 0.4062, Top 10: 0.5088\n",
      "Testing completed in 0.46m.\n",
      "Epoch 11 completed in 7.07m. 0.05m per recording.\n"
     ]
    },
    {
     "name": "stderr",
     "output_type": "stream",
     "text": [
      "Training Epoch 12: 100%|██████████| 135/135 [06:35<00:00,  2.93s/it]\n"
     ]
    },
    {
     "name": "stdout",
     "output_type": "stream",
     "text": [
      "Epoch 12 completed. Loss: 2.1252, Clip Loss: 3.2242, MSE Loss: 0.4768\n",
      "Accuracy: 0.2589, Top 5: 0.5162, Top 10: 0.6375\n",
      "Test unseen_subject completed. Accuracy: 0.1755, Top 5: 0.4050, Top 10: 0.5035\n",
      "Test unseen_task completed. Accuracy: 0.2346, Top 5: 0.4774, Top 10: 0.5989\n",
      "Test unseen_both completed. Accuracy: 0.2100, Top 5: 0.4200, Top 10: 0.5200\n",
      "Testing completed in 0.46m.\n",
      "Epoch 12 completed in 7.05m. 0.05m per recording.\n"
     ]
    },
    {
     "name": "stderr",
     "output_type": "stream",
     "text": [
      "Training Epoch 13: 100%|██████████| 135/135 [06:35<00:00,  2.93s/it]\n"
     ]
    },
    {
     "name": "stdout",
     "output_type": "stream",
     "text": [
      "Epoch 13 completed. Loss: 2.0791, Clip Loss: 3.1470, MSE Loss: 0.4772\n",
      "Accuracy: 0.2706, Top 5: 0.5331, Top 10: 0.6525\n",
      "Test unseen_subject completed. Accuracy: 0.2110, Top 5: 0.4250, Top 10: 0.5240\n",
      "Test unseen_task completed. Accuracy: 0.2303, Top 5: 0.4646, Top 10: 0.5863\n",
      "Test unseen_both completed. Accuracy: 0.2275, Top 5: 0.4363, Top 10: 0.5312\n",
      "Testing completed in 0.46m.\n",
      "Epoch 13 completed in 7.05m. 0.05m per recording.\n"
     ]
    },
    {
     "name": "stderr",
     "output_type": "stream",
     "text": [
      "Training Epoch 14: 100%|██████████| 135/135 [06:34<00:00,  2.92s/it]\n"
     ]
    },
    {
     "name": "stdout",
     "output_type": "stream",
     "text": [
      "Epoch 14 completed. Loss: 1.9962, Clip Loss: 3.0101, MSE Loss: 0.4755\n",
      "Accuracy: 0.2933, Top 5: 0.5596, Top 10: 0.6774\n",
      "Test unseen_subject completed. Accuracy: 0.1460, Top 5: 0.3505, Top 10: 0.4600\n",
      "Test unseen_task completed. Accuracy: 0.2013, Top 5: 0.4297, Top 10: 0.5493\n",
      "Test unseen_both completed. Accuracy: 0.1862, Top 5: 0.3500, Top 10: 0.4562\n",
      "Testing completed in 0.46m.\n",
      "Epoch 14 completed in 7.03m. 0.05m per recording.\n"
     ]
    },
    {
     "name": "stderr",
     "output_type": "stream",
     "text": [
      "Training Epoch 15: 100%|██████████| 135/135 [06:37<00:00,  2.94s/it]\n"
     ]
    },
    {
     "name": "stdout",
     "output_type": "stream",
     "text": [
      "Epoch 15 completed. Loss: 1.9751, Clip Loss: 2.9748, MSE Loss: 0.4755\n",
      "Accuracy: 0.3003, Top 5: 0.5704, Top 10: 0.6872\n",
      "Test unseen_subject completed. Accuracy: 0.1670, Top 5: 0.3790, Top 10: 0.4945\n",
      "Test unseen_task completed. Accuracy: 0.2025, Top 5: 0.4542, Top 10: 0.5839\n",
      "Test unseen_both completed. Accuracy: 0.2025, Top 5: 0.4150, Top 10: 0.5188\n",
      "Testing completed in 0.46m.\n",
      "Epoch 15 completed in 7.08m. 0.05m per recording.\n"
     ]
    },
    {
     "name": "stderr",
     "output_type": "stream",
     "text": [
      "Training Epoch 16: 100%|██████████| 135/135 [06:37<00:00,  2.94s/it]\n"
     ]
    },
    {
     "name": "stdout",
     "output_type": "stream",
     "text": [
      "Epoch 16 completed. Loss: 1.9021, Clip Loss: 2.8533, MSE Loss: 0.4753\n",
      "Accuracy: 0.3239, Top 5: 0.6004, Top 10: 0.7133\n",
      "Test unseen_subject completed. Accuracy: 0.2360, Top 5: 0.4630, Top 10: 0.5500\n",
      "Test unseen_task completed. Accuracy: 0.2283, Top 5: 0.4637, Top 10: 0.5909\n",
      "Test unseen_both completed. Accuracy: 0.2225, Top 5: 0.4363, Top 10: 0.5288\n",
      "Testing completed in 0.47m.\n",
      "Epoch 16 completed in 7.09m. 0.05m per recording.\n"
     ]
    },
    {
     "name": "stderr",
     "output_type": "stream",
     "text": [
      "Training Epoch 17: 100%|██████████| 135/135 [06:36<00:00,  2.94s/it]\n"
     ]
    },
    {
     "name": "stdout",
     "output_type": "stream",
     "text": [
      "Epoch 17 completed. Loss: 1.8468, Clip Loss: 2.7617, MSE Loss: 0.4744\n",
      "Accuracy: 0.3379, Top 5: 0.6130, Top 10: 0.7254\n",
      "Test unseen_subject completed. Accuracy: 0.2010, Top 5: 0.4155, Top 10: 0.5155\n",
      "Test unseen_task completed. Accuracy: 0.2487, Top 5: 0.4856, Top 10: 0.6006\n",
      "Test unseen_both completed. Accuracy: 0.2200, Top 5: 0.4325, Top 10: 0.5238\n",
      "Testing completed in 0.46m.\n",
      "Epoch 17 completed in 7.08m. 0.05m per recording.\n"
     ]
    },
    {
     "name": "stderr",
     "output_type": "stream",
     "text": [
      "Training Epoch 18: 100%|██████████| 135/135 [06:33<00:00,  2.91s/it]\n"
     ]
    },
    {
     "name": "stdout",
     "output_type": "stream",
     "text": [
      "Epoch 18 completed. Loss: 1.7403, Clip Loss: 2.5847, MSE Loss: 0.4736\n",
      "Accuracy: 0.3699, Top 5: 0.6477, Top 10: 0.7541\n",
      "Test unseen_subject completed. Accuracy: 0.2025, Top 5: 0.4275, Top 10: 0.5285\n",
      "Test unseen_task completed. Accuracy: 0.2082, Top 5: 0.4428, Top 10: 0.5682\n",
      "Test unseen_both completed. Accuracy: 0.2213, Top 5: 0.4088, Top 10: 0.5162\n",
      "Testing completed in 0.46m.\n",
      "Epoch 18 completed in 7.02m. 0.05m per recording.\n"
     ]
    },
    {
     "name": "stderr",
     "output_type": "stream",
     "text": [
      "Training Epoch 19: 100%|██████████| 135/135 [06:36<00:00,  2.94s/it]\n"
     ]
    },
    {
     "name": "stdout",
     "output_type": "stream",
     "text": [
      "Epoch 19 completed. Loss: 1.6439, Clip Loss: 2.4245, MSE Loss: 0.4730\n",
      "Accuracy: 0.3999, Top 5: 0.6803, Top 10: 0.7821\n",
      "Test unseen_subject completed. Accuracy: 0.1490, Top 5: 0.3820, Top 10: 0.4995\n",
      "Test unseen_task completed. Accuracy: 0.2082, Top 5: 0.4485, Top 10: 0.5704\n",
      "Test unseen_both completed. Accuracy: 0.2025, Top 5: 0.3900, Top 10: 0.5050\n",
      "Testing completed in 0.47m.\n",
      "Epoch 19 completed in 7.09m. 0.05m per recording.\n"
     ]
    },
    {
     "name": "stderr",
     "output_type": "stream",
     "text": [
      "Training Epoch 20: 100%|██████████| 135/135 [06:36<00:00,  2.94s/it]\n"
     ]
    },
    {
     "name": "stdout",
     "output_type": "stream",
     "text": [
      "Epoch 20 completed. Loss: 1.5822, Clip Loss: 2.3214, MSE Loss: 0.4733\n",
      "Accuracy: 0.4224, Top 5: 0.6999, Top 10: 0.8000\n",
      "Test unseen_subject completed. Accuracy: 0.2305, Top 5: 0.4445, Top 10: 0.5315\n",
      "Test unseen_task completed. Accuracy: 0.2200, Top 5: 0.4561, Top 10: 0.5683\n",
      "Test unseen_both completed. Accuracy: 0.2300, Top 5: 0.4263, Top 10: 0.5138\n",
      "Testing completed in 0.46m.\n",
      "Epoch 20 completed in 7.08m. 0.05m per recording.\n"
     ]
    },
    {
     "name": "stderr",
     "output_type": "stream",
     "text": [
      "Training Epoch 21: 100%|██████████| 135/135 [06:37<00:00,  2.95s/it]\n"
     ]
    },
    {
     "name": "stdout",
     "output_type": "stream",
     "text": [
      "Epoch 21 completed. Loss: 1.4828, Clip Loss: 2.1558, MSE Loss: 0.4733\n",
      "Accuracy: 0.4518, Top 5: 0.7293, Top 10: 0.8214\n",
      "Test unseen_subject completed. Accuracy: 0.1980, Top 5: 0.4050, Top 10: 0.5155\n",
      "Test unseen_task completed. Accuracy: 0.2130, Top 5: 0.4533, Top 10: 0.5604\n",
      "Test unseen_both completed. Accuracy: 0.1988, Top 5: 0.3912, Top 10: 0.4813\n",
      "Testing completed in 0.46m.\n",
      "Epoch 21 completed in 7.10m. 0.05m per recording.\n"
     ]
    },
    {
     "name": "stderr",
     "output_type": "stream",
     "text": [
      "Training Epoch 22: 100%|██████████| 135/135 [06:36<00:00,  2.93s/it]\n"
     ]
    },
    {
     "name": "stdout",
     "output_type": "stream",
     "text": [
      "Epoch 22 completed. Loss: 1.3586, Clip Loss: 1.9484, MSE Loss: 0.4739\n",
      "Accuracy: 0.4913, Top 5: 0.7680, Top 10: 0.8538\n",
      "Test unseen_subject completed. Accuracy: 0.1955, Top 5: 0.4095, Top 10: 0.5015\n",
      "Test unseen_task completed. Accuracy: 0.2058, Top 5: 0.4336, Top 10: 0.5524\n",
      "Test unseen_both completed. Accuracy: 0.1900, Top 5: 0.3713, Top 10: 0.4863\n",
      "Testing completed in 0.46m.\n",
      "Epoch 22 completed in 7.06m. 0.05m per recording.\n"
     ]
    },
    {
     "name": "stderr",
     "output_type": "stream",
     "text": [
      "Training Epoch 23: 100%|██████████| 135/135 [06:34<00:00,  2.92s/it]\n"
     ]
    },
    {
     "name": "stdout",
     "output_type": "stream",
     "text": [
      "Epoch 23 completed. Loss: 1.2618, Clip Loss: 1.7872, MSE Loss: 0.4738\n",
      "Accuracy: 0.5306, Top 5: 0.7990, Top 10: 0.8767\n",
      "Test unseen_subject completed. Accuracy: 0.1585, Top 5: 0.3920, Top 10: 0.4910\n",
      "Test unseen_task completed. Accuracy: 0.1860, Top 5: 0.4127, Top 10: 0.5301\n",
      "Test unseen_both completed. Accuracy: 0.1775, Top 5: 0.3950, Top 10: 0.5025\n",
      "Testing completed in 0.46m.\n",
      "Epoch 23 completed in 7.03m. 0.05m per recording.\n"
     ]
    },
    {
     "name": "stderr",
     "output_type": "stream",
     "text": [
      "Training Epoch 24: 100%|██████████| 135/135 [06:34<00:00,  2.92s/it]\n"
     ]
    },
    {
     "name": "stdout",
     "output_type": "stream",
     "text": [
      "Epoch 24 completed. Loss: 1.1691, Clip Loss: 1.6322, MSE Loss: 0.4744\n",
      "Accuracy: 0.5663, Top 5: 0.8290, Top 10: 0.8983\n",
      "Test unseen_subject completed. Accuracy: 0.2145, Top 5: 0.4185, Top 10: 0.5065\n",
      "Test unseen_task completed. Accuracy: 0.1700, Top 5: 0.3847, Top 10: 0.5108\n",
      "Test unseen_both completed. Accuracy: 0.1663, Top 5: 0.3362, Top 10: 0.4288\n",
      "Testing completed in 0.46m.\n",
      "Epoch 24 completed in 7.03m. 0.05m per recording.\n"
     ]
    },
    {
     "name": "stderr",
     "output_type": "stream",
     "text": [
      "Training Epoch 25: 100%|██████████| 135/135 [06:33<00:00,  2.91s/it]\n"
     ]
    },
    {
     "name": "stdout",
     "output_type": "stream",
     "text": [
      "Epoch 25 completed. Loss: 1.0506, Clip Loss: 1.4344, MSE Loss: 0.4749\n",
      "Accuracy: 0.6066, Top 5: 0.8577, Top 10: 0.9190\n",
      "Test unseen_subject completed. Accuracy: 0.1560, Top 5: 0.3825, Top 10: 0.4925\n",
      "Test unseen_task completed. Accuracy: 0.1707, Top 5: 0.3932, Top 10: 0.5161\n",
      "Test unseen_both completed. Accuracy: 0.1613, Top 5: 0.3450, Top 10: 0.4512\n",
      "Testing completed in 0.46m.\n",
      "Epoch 25 completed in 7.02m. 0.05m per recording.\n"
     ]
    },
    {
     "name": "stderr",
     "output_type": "stream",
     "text": [
      "Training Epoch 26: 100%|██████████| 135/135 [06:36<00:00,  2.94s/it]\n"
     ]
    },
    {
     "name": "stdout",
     "output_type": "stream",
     "text": [
      "Epoch 26 completed. Loss: 0.9940, Clip Loss: 1.3388, MSE Loss: 0.4769\n",
      "Accuracy: 0.6298, Top 5: 0.8700, Top 10: 0.9274\n",
      "Test unseen_subject completed. Accuracy: 0.1790, Top 5: 0.3970, Top 10: 0.5065\n",
      "Test unseen_task completed. Accuracy: 0.1824, Top 5: 0.4055, Top 10: 0.5234\n",
      "Test unseen_both completed. Accuracy: 0.1800, Top 5: 0.3725, Top 10: 0.4587\n",
      "Testing completed in 0.46m.\n",
      "Epoch 26 completed in 7.08m. 0.05m per recording.\n"
     ]
    },
    {
     "name": "stderr",
     "output_type": "stream",
     "text": [
      "Training Epoch 27: 100%|██████████| 135/135 [06:34<00:00,  2.92s/it]\n"
     ]
    },
    {
     "name": "stdout",
     "output_type": "stream",
     "text": [
      "Epoch 27 completed. Loss: 0.8718, Clip Loss: 1.1351, MSE Loss: 0.4767\n",
      "Accuracy: 0.6798, Top 5: 0.9006, Top 10: 0.9476\n",
      "Test unseen_subject completed. Accuracy: 0.1640, Top 5: 0.3770, Top 10: 0.4770\n",
      "Test unseen_task completed. Accuracy: 0.1712, Top 5: 0.3801, Top 10: 0.5028\n",
      "Test unseen_both completed. Accuracy: 0.1512, Top 5: 0.3250, Top 10: 0.4338\n",
      "Testing completed in 0.47m.\n",
      "Epoch 27 completed in 7.04m. 0.05m per recording.\n",
      "Early stopping at epoch 27. Highest top 10 accuracy at epoch 16.\n",
      "Training completed.\n",
      "unseen_subject: Acc: 0.2360, Top 5: 0.4630, Top 10: 0.5500\n",
      "unseen_task: Acc: 0.2283, Top 5: 0.4637, Top 10: 0.5909\n",
      "unseen_both: Acc: 0.2225, Top 5: 0.4363, Top 10: 0.5288\n"
     ]
    }
   ],
   "source": [
    "# del session.logger\n",
    "# del session\n",
    "\n",
    "from pickle import NONE\n",
    "from train.training_session_v0 import TrainingSessionV0\n",
    "from config import TrainingConfigV0\n",
    "import multiprocessing\n",
    "from config import SimpleConvConfig\n",
    "from models.simpleconv import SimpleConv\n",
    "import torch\n",
    "\n",
    "data_partition = {\n",
    "    \"gwilliams2023\": {\n",
    "        \"testing_subjects\": [19, 20, 21],\n",
    "        \"testing_tasks\": [0],\n",
    "    },\n",
    "    # \"armeini2022\": {\n",
    "    #     \"testing_subjects\": [],\n",
    "    #     \"testing_tasks\": [8, 9],\n",
    "    # },\n",
    "}\n",
    "\n",
    "model_config = SimpleConvConfig(\n",
    "    # Str to list of possible conditions\n",
    "    mel_normalization=False,\n",
    "    conditions={\n",
    "        \"study\": [],\n",
    "        \"subject\": [],\n",
    "    },\n",
    "    # Channels\n",
    "    in_channels=208,\n",
    "    out_channels=128,\n",
    "    hidden_dim=384,\n",
    "    dropout=0.2,\n",
    "    initial_batch_norm=True,\n",
    "    # Sensor layout settings\n",
    "    layout_dim=2,\n",
    "    layout_proj=True,\n",
    "    layout_scaling=\"minmax\",\n",
    "    # Merger with spatial attn\n",
    "    merger=False,\n",
    "    merger_emb_type=None,\n",
    "    merger_emb_dim=0,\n",
    "    merger_channels=0,\n",
    "    merger_dropout=False,\n",
    "    merger_conditional=None,\n",
    "    # Inital\n",
    "    initial_linear=384,\n",
    "    initial_depth=1,\n",
    "    # Conditional layers\n",
    "    conditional_layers=False,\n",
    "    conditional_layers_dim=None,  # input or hidden_dim\n",
    "    # Conv layer overall structure\n",
    "    depth=6,\n",
    "    kernel_size=3,\n",
    "    growth=1.0,\n",
    "    dilation_growth=2,\n",
    "    dilation_period=5,\n",
    "    glu=1,\n",
    "    conv_dropout=0.2,\n",
    "    dropout_input=0.2,\n",
    "    batch_norm=True,\n",
    "    half=False,\n",
    "    # Quantizer\n",
    "    quantizer=False,\n",
    "    num_codebooks=0,\n",
    "    codebook_size=0,\n",
    "    quantizer_commitment=0,\n",
    "    quantizer_temp_init=0,\n",
    "    quantizer_temp_min=0,\n",
    "    quantizer_temp_decay=0,\n",
    "    # Transformers Encoders\n",
    "    transformer_input=None,\n",
    "    transformer_encoder_emb=None,\n",
    "    transformer_encoder_layers=0,\n",
    "    transformer_encoder_heads=0,\n",
    "    # Transformer Decoders\n",
    "    transformer_decoder_emb=None,\n",
    "    transformer_decoder_layers=0,\n",
    "    transformer_decoder_heads=0,\n",
    "    transformer_decoder_dim=0,\n",
    ")\n",
    "\n",
    "config = TrainingConfigV0(\n",
    "    brain_encoder_config=model_config,\n",
    "    data_partition=data_partition,\n",
    "    # Pre-processing parameters\n",
    "    # Brain\n",
    "    new_freq=100,\n",
    "    frequency_bands={\"all\": (0.5, 40)},\n",
    "    max_random_shift=1.0,\n",
    "    window_size=4,\n",
    "    window_stride=1,\n",
    "    brain_clipping=None,\n",
    "    baseline_window=0.5,\n",
    "    notch_filter=True,\n",
    "    scaling=\"both\",\n",
    "    delay=0.15,\n",
    "    # Hyperparameters\n",
    "    learning_rate=3e-4,\n",
    "    weight_decay=1e-4,\n",
    "    epochs=50,\n",
    "    batch_size=256,\n",
    "    use_clip_loss=True,\n",
    "    use_mse_loss=True,\n",
    "    alpha=0.6,\n",
    "    random_test_size=10,\n",
    "    seed=42,\n",
    ")\n",
    "\n",
    "config.new_freq = 200\n",
    "config.brain_encoder_config.half = True\n",
    "config.frequency_bands = {\"all\": (0.5, 80)}\n",
    "config.notch_filter = False\n",
    "\n",
    "session = TrainingSessionV0(\n",
    "    config=config,\n",
    "    studies={study: \"audio\" for study in data_partition.keys()},\n",
    "    data_path=\"data\",\n",
    "    save_path=\"saves/phase1/ablation/200hz/no_notch\",\n",
    "    clear_cache=True,\n",
    "    cache_name=\"cache/2\",\n",
    ")\n",
    "\n",
    "try:\n",
    "    session.train(\n",
    "        device=\"cuda\",\n",
    "        buffer_size=30,\n",
    "        num_workers=(multiprocessing.cpu_count() - 2),\n",
    "        max_cache_size=400,\n",
    "        current_epoch=0,\n",
    "    )\n",
    "except KeyboardInterrupt as e:\n",
    "    print(\"Exited\")"
   ]
  }
 ],
 "metadata": {
  "kernelspec": {
   "display_name": "brain",
   "language": "python",
   "name": "python3"
  },
  "language_info": {
   "codemirror_mode": {
    "name": "ipython",
    "version": 3
   },
   "file_extension": ".py",
   "mimetype": "text/x-python",
   "name": "python",
   "nbconvert_exporter": "python",
   "pygments_lexer": "ipython3",
   "version": "3.11.7"
  }
 },
 "nbformat": 4,
 "nbformat_minor": 2
}
