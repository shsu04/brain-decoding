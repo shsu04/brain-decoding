{
 "cells": [
  {
   "cell_type": "code",
   "execution_count": null,
   "metadata": {},
   "outputs": [
    {
     "name": "stdout",
     "output_type": "stream",
     "text": [
      "\n",
      "TransEncoder \tParams: 3290112\n",
      "\t\tSpec: 256, \t\tEmb: groupconv, \tBins: 16\n",
      "\t\tLayers: 1, \t\tD_model: 512, \t\tNhead: 8\n",
      "\n",
      "TransDecoder \tParams: 1087104\n",
      "\t\tEmb: groupconv, \tLayers: 1, \t\tD_model: 256\n",
      "\t\tNhead: 8, \t\tMel_bins: 128\n",
      "\n",
      "SimpleConv: \tParams: 7725056, \tcond: ['studies']\n",
      "\t\tMerger: True, \t\tMerger chan: 256\n",
      "\t\tConv blocks: 4, \tChannels: 256, \t\tParams: 2363904\n"
     ]
    }
   ],
   "source": [
    "from config import SimpleConvConfig\n",
    "from models.simpleconv import SimpleConv\n",
    "import torch\n",
    "\n",
    "config = SimpleConvConfig(\n",
    "    # Str to list of possible conditions\n",
    "    conditions={\n",
    "        \"studies\": [\"gwilliams2023\", \"schoffelen2022\"],\n",
    "    },\n",
    "    # Channels\n",
    "    in_channels=208,\n",
    "    out_channels=128,\n",
    "    hidden_dim=256,\n",
    "    dropout=0.3,\n",
    "    # Sensor layout settings\n",
    "    layout_dim=2,\n",
    "    layout_proj=False,\n",
    "    layout_scaling=\"minmax\",\n",
    "    # Merger with spatial attn\n",
    "    merger=True,\n",
    "    merger_emb_dim=2048,\n",
    "    merger_channels=256,\n",
    "    merger_dropout=0.3,\n",
    "    merger_conditional=None,\n",
    "    # Inital\n",
    "    initial_linear=256,\n",
    "    initial_depth=1,\n",
    "    # Conditional layers\n",
    "    conditional_layers=True,\n",
    "    conditional_layers_dim=\"hidden_dim\",  # or hidden_dim\n",
    "    # Conv layer overall structure\n",
    "    depth=4,\n",
    "    kernel_size=3,\n",
    "    growth=1.0,\n",
    "    dilation_growth=2,\n",
    "    dilation_period=5,\n",
    "    glu=1,\n",
    "    conv_dropout=0.2,\n",
    "    dropout_input=0.2,\n",
    "    batch_norm=True,\n",
    "    # Transformers Encoders\n",
    "    transformer_encoder_emb=\"groupconv\",\n",
    "    transformer_encoder_layers=1,\n",
    "    transformer_encoder_heads=8,\n",
    "    # Transformer Decoders\n",
    "    transformer_decoder_emb=\"groupconv\",\n",
    "    transformer_decoder_layers=1,\n",
    "    transformer_decoder_heads=8,\n",
    "    transformer_decoder_dim=256,\n",
    ")\n",
    "\n",
    "model = SimpleConv(config).to('mps')"
   ]
  }
 ],
 "metadata": {
  "kernelspec": {
   "display_name": "brain",
   "language": "python",
   "name": "python3"
  },
  "language_info": {
   "codemirror_mode": {
    "name": "ipython",
    "version": 3
   },
   "file_extension": ".py",
   "mimetype": "text/x-python",
   "name": "python",
   "nbconvert_exporter": "python",
   "pygments_lexer": "ipython3",
   "version": "3.11.7"
  }
 },
 "nbformat": 4,
 "nbformat_minor": 2
}
