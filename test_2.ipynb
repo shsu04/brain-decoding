{
 "cells": [
  {
   "cell_type": "code",
   "execution_count": null,
   "metadata": {},
   "outputs": [
    {
     "name": "stdout",
     "output_type": "stream",
     "text": [
      "torch.Size([1, 256, 400])\n"
     ]
    }
   ],
   "source": [
    "from models.transformer import Transformer\n",
    "import torch\n",
    "\n",
    "model = Transformer(\n",
    "    d_model=256,\n",
    "    nhead=8,\n",
    "    dropout=0.2,\n",
    "    layers=1,\n",
    "    embedding=None,\n",
    "    is_causal=False,\n",
    "    use_attention_mask=False,\n",
    "    concat_spectrals=True,\n",
    "    bins=0,\n",
    ")\n",
    "\n",
    "x = torch.randn(1, 256, 400)\n",
    "out = model(x)\n",
    "print(out.shape)"
   ]
  },
  {
   "cell_type": "code",
   "execution_count": null,
   "metadata": {},
   "outputs": [],
   "source": []
  }
 ],
 "metadata": {
  "kernelspec": {
   "display_name": "brain",
   "language": "python",
   "name": "python3"
  },
  "language_info": {
   "codemirror_mode": {
    "name": "ipython",
    "version": 3
   },
   "file_extension": ".py",
   "mimetype": "text/x-python",
   "name": "python",
   "nbconvert_exporter": "python",
   "pygments_lexer": "ipython3",
   "version": "3.11.7"
  }
 },
 "nbformat": 4,
 "nbformat_minor": 2
}
