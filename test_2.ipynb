{
 "cells": [
  {
   "cell_type": "code",
   "execution_count": 9,
   "metadata": {},
   "outputs": [
    {
     "name": "stdout",
     "output_type": "stream",
     "text": [
      "6315008\n"
     ]
    }
   ],
   "source": [
    "# from models.transformer import Transformer\n",
    "import torch\n",
    "import torch.nn as nn\n",
    "\n",
    "transformer_decoders = nn.TransformerDecoder(\n",
    "    nn.TransformerDecoderLayer(\n",
    "        d_model=256,\n",
    "        nhead=8,\n",
    "        batch_first=True,\n",
    "        dropout=0.2,\n",
    "        dim_feedforward=4 * 512,\n",
    "    ),\n",
    "    num_layers=4,\n",
    ")\n",
    "\n",
    "param = sum(p.numel() for p in transformer_decoders.parameters())\n",
    "print(param)\n",
    "# x = torch.randn(1, 256, 400)\n",
    "# out = model(x)\n",
    "# print(out.shape)"
   ]
  },
  {
   "cell_type": "code",
   "execution_count": null,
   "metadata": {},
   "outputs": [],
   "source": []
  }
 ],
 "metadata": {
  "kernelspec": {
   "display_name": "brain",
   "language": "python",
   "name": "python3"
  },
  "language_info": {
   "codemirror_mode": {
    "name": "ipython",
    "version": 3
   },
   "file_extension": ".py",
   "mimetype": "text/x-python",
   "name": "python",
   "nbconvert_exporter": "python",
   "pygments_lexer": "ipython3",
   "version": "3.11.7"
  }
 },
 "nbformat": 4,
 "nbformat_minor": 2
}
