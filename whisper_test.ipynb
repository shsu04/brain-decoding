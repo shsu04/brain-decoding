{
 "cells": [
  {
   "cell_type": "code",
   "execution_count": 3,
   "metadata": {},
   "outputs": [
    {
     "name": "stdout",
     "output_type": "stream",
     "text": [
      "Loading Gwilliams2023 with batch type audio\n"
     ]
    },
    {
     "name": "stdout",
     "output_type": "stream",
     "text": [
      "Data partitioned on studies ['gwilliams2023'].\n",
      "Train: 135, Unseen Task: 12, Unseen Subject: 45, Unseen Both: 4.\n",
      "\n",
      "RNNEncoder initialized as transformer with 4 layers, 256 d_model, 4 nhead\n",
      "\tEmbedding: sinusoidal, params: 3159040\n",
      "SimpleConv initialized with 6011632 parameters, cond: ['study', 'subject']\n",
      "Merger False, merger channels 0\n",
      "ConvBlocks: 4, hidden_dim: 256, params 2626048\n",
      "Found 24 target modules for AdaLora: ['k_proj', 'q_proj', 'v_proj', 'out_proj', 'fc1', 'fc2']\n",
      "openai/whisper-tiny.en loaded with 8540472 frozen params (4 layers and 384 dim).\n",
      "AdaLora has 332064 trainable params.\n",
      "Showing recording: Gwilliams2023_19_0\n"
     ]
    }
   ],
   "source": [
    "from train.training_session_v1 import load_training_session\n",
    "import multiprocessing\n",
    "import torch\n",
    "\n",
    "device = \"cuda\"\n",
    "\n",
    "session = load_training_session(\n",
    "    save_path=\"saves/phase2/architecture/task/transformers/4C4T_d256/epoch_41\",\n",
    "    studies={\"gwilliams2023\": \"audio\"},\n",
    "    data_path=\"/home/ubuntu/storage-texas/data\",\n",
    "    cache_name=\"cache\",\n",
    ")\n",
    "\n",
    "dataloader = session.get_dataloader(buffer_size=1, num_workers=1, max_cache_size=100)\n",
    "\n",
    "# Unseen both\n",
    "# recording = session.studies[\"gwilliams2023\"].recordings[19][0][0]\n",
    "\n",
    "# Seen\n",
    "# recording = session.studies[\"gwilliams2023\"].recordings[15][0][1]\n",
    "\n",
    "# Unseen task\n",
    "recording = session.studies[\"gwilliams2023\"].recordings[18][0][0]\n",
    "\n",
    "# Unseen subject\n",
    "# recording = session.studies[\"gwilliams2023\"].recordings[19][0][1]\n",
    "\n",
    "print(\n",
    "    f\"Showing recording: {recording.study_name}_{recording.subject_id}_{recording.task_id}\"\n",
    ")\n",
    "\n",
    "dataloader.start_fetching(recordings=[recording])\n",
    "batch = dataloader.get_recording()\n",
    "brain, audio, recording = (\n",
    "    batch.brain_segments[\"all\"].to(device),\n",
    "    batch.audio_segments.to(device),\n",
    "    batch.recording,\n",
    ")\n",
    "\n",
    "conditions = {\n",
    "    \"study\": f\"{recording.study_name}\",\n",
    "    \"subject\": f\"{recording.study_name}_{recording.subject_id}\",\n",
    "}\n",
    "session.model.to(device).eval()\n",
    "\n",
    "with torch.amp.autocast(dtype=torch.bfloat16, device_type=device):\n",
    "    with torch.no_grad():\n",
    "        (\n",
    "            x,  # [B, C, T]\n",
    "            quantizer_metrics,\n",
    "            channel_weights,\n",
    "            hidden_outputs,\n",
    "            encoder_hidden_states,  # L * [B, T, D]\n",
    "        ) = session.model(\n",
    "            x=[brain],\n",
    "            recording=[recording],\n",
    "            conditions=[conditions],\n",
    "            mel=[audio],\n",
    "            train=False,\n",
    "            return_hidden_outputs=False,\n",
    "        )\n",
    "\n",
    "dataloader.stop()"
   ]
  },
  {
   "cell_type": "code",
   "execution_count": null,
   "metadata": {},
   "outputs": [
    {
     "ename": "TypeError",
     "evalue": "Got unsupported ScalarType BFloat16",
     "output_type": "error",
     "traceback": [
      "\u001b[0;31m---------------------------------------------------------------------------\u001b[0m",
      "\u001b[0;31mTypeError\u001b[0m                                 Traceback (most recent call last)",
      "Cell \u001b[0;32mIn[4], line 6\u001b[0m\n\u001b[1;32m      1\u001b[0m \u001b[38;5;28;01mfrom\u001b[39;00m\u001b[38;5;250m \u001b[39m\u001b[38;5;21;01mutils\u001b[39;00m\u001b[38;5;21;01m.\u001b[39;00m\u001b[38;5;21;01mplot_mel\u001b[39;00m\u001b[38;5;250m \u001b[39m\u001b[38;5;28;01mimport\u001b[39;00m plot_mel_spectrogram\n\u001b[1;32m      3\u001b[0m plot_mel_spectrogram(\n\u001b[1;32m      4\u001b[0m     x\u001b[38;5;241m=\u001b[39maudio[\u001b[38;5;241m15\u001b[39m:\u001b[38;5;241m18\u001b[39m]\u001b[38;5;241m.\u001b[39mcpu()\u001b[38;5;241m.\u001b[39mnumpy(),\n\u001b[1;32m      5\u001b[0m     max_plots\u001b[38;5;241m=\u001b[39m\u001b[38;5;241m3\u001b[39m,\n\u001b[0;32m----> 6\u001b[0m     x_pred\u001b[38;5;241m=\u001b[39m\u001b[43mx\u001b[49m\u001b[43m[\u001b[49m\u001b[38;5;241;43m15\u001b[39;49m\u001b[43m:\u001b[49m\u001b[38;5;241;43m18\u001b[39;49m\u001b[43m]\u001b[49m\u001b[38;5;241;43m.\u001b[39;49m\u001b[43mcpu\u001b[49m\u001b[43m(\u001b[49m\u001b[43m)\u001b[49m\u001b[38;5;241;43m.\u001b[39;49m\u001b[43mnumpy\u001b[49m\u001b[43m(\u001b[49m\u001b[43m)\u001b[49m,\n\u001b[1;32m      7\u001b[0m )\n",
      "\u001b[0;31mTypeError\u001b[0m: Got unsupported ScalarType BFloat16"
     ]
    }
   ],
   "source": [
    "from utils.plot_mel import plot_mel_spectrogram\n",
    "\n",
    "plot_mel_spectrogram(\n",
    "    x=audio[15:18].cpu().numpy(),\n",
    "    max_plots=3,\n",
    "    x_pred=x[15:18].cpu().numpy(),\n",
    ")"
   ]
  },
  {
   "cell_type": "code",
   "execution_count": 50,
   "metadata": {},
   "outputs": [
    {
     "data": {
      "text/plain": [
       "tensor([[-0.2237, -0.2237, -0.2237,  ..., -0.2237, -0.2237, -0.2237],\n",
       "        [-0.2237, -0.2237, -0.2237,  ..., -0.2237, -0.2237, -0.2237],\n",
       "        [-0.2237, -0.2237, -0.2237,  ..., -0.2237, -0.2237, -0.2237],\n",
       "        ...,\n",
       "        [-0.2237, -0.2237, -0.2237,  ..., -0.2237, -0.2237, -0.2237],\n",
       "        [-0.2237, -0.2237, -0.2237,  ..., -0.2237, -0.2237, -0.2237],\n",
       "        [-0.2237, -0.2237, -0.2237,  ..., -0.2237, -0.2237, -0.2237]],\n",
       "       device='cuda:0')"
      ]
     },
     "execution_count": 50,
     "metadata": {},
     "output_type": "execute_result"
    }
   ],
   "source": [
    "audio[17][:, 380:]"
   ]
  },
  {
   "cell_type": "code",
   "execution_count": 48,
   "metadata": {},
   "outputs": [
    {
     "data": {
      "text/plain": [
       "(tensor(1.8948, device='cuda:0'),\n",
       " tensor(-0.2664, device='cuda:0'),\n",
       " tensor(0.4807, device='cuda:0'),\n",
       " tensor(0.4881, device='cuda:0'),\n",
       " tensor(3.1899, device='cuda:0'),\n",
       " tensor(-4.5614, device='cuda:0'),\n",
       " tensor(0.5055, device='cuda:0'),\n",
       " tensor(0.2960, device='cuda:0'))"
      ]
     },
     "execution_count": 48,
     "metadata": {},
     "output_type": "execute_result"
    }
   ],
   "source": [
    "audio.max(), audio.min(), audio.mean(), audio.std(), x.max(), x.min(), x.mean(), x.std()"
   ]
  },
  {
   "cell_type": "code",
   "execution_count": null,
   "metadata": {},
   "outputs": [],
   "source": []
  }
 ],
 "metadata": {
  "kernelspec": {
   "display_name": "Python 3 (ipykernel)",
   "language": "python",
   "name": "python3"
  },
  "language_info": {
   "codemirror_mode": {
    "name": "ipython",
    "version": 3
   },
   "file_extension": ".py",
   "mimetype": "text/x-python",
   "name": "python",
   "nbconvert_exporter": "python",
   "pygments_lexer": "ipython3",
   "version": "3.10.12"
  }
 },
 "nbformat": 4,
 "nbformat_minor": 4
}
